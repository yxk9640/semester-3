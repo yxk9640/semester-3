{
 "cells": [
  {
   "cell_type": "code",
   "execution_count": 25,
   "metadata": {},
   "outputs": [
    {
     "name": "stdout",
     "output_type": "stream",
     "text": [
      "1\n"
     ]
    }
   ],
   "source": [
    "#Flip sign method\n",
    "class Solution:\n",
    "    def arraySign(self, nums: list[int]) -> int:\n",
    "        #multiply each element\n",
    "        if 0 in nums:\n",
    "            return 0\n",
    "        else:            \n",
    "            negCount = 1\n",
    "            for item in nums:\n",
    "                if item < 0:\n",
    "                    #whenever you see -ve flip the sign\n",
    "                    negCount*=-1\n",
    "            return negCount\n",
    "\n",
    "\n",
    "sol = Solution()\n",
    "print(sol.arraySign([-1,-2,-1,-4,3,2,1]))\n",
    "\n",
    "\n"
   ]
  },
  {
   "cell_type": "code",
   "execution_count": 42,
   "metadata": {},
   "outputs": [
    {
     "name": "stdout",
     "output_type": "stream",
     "text": [
      "[[1, 3], [4, 6]]\n"
     ]
    }
   ],
   "source": [
    "class Solution:\n",
    "    def findDifference(self, nums1: list[int], nums2: list[int]) -> list[list[int]]:\n",
    "        #item in nums1 should not be in nums2  \n",
    "        # idea-1 check with for loops with extra space of 2-lists\n",
    "                # idea-2 check with for loops - array updates and inconsistent data occurs.\n",
    "        #idea - 3 use sets \n",
    "        return [list(set(nums1)-set(nums2)),list(set(nums2)-set(nums1))]\n",
    "Sol = Solution()\n",
    "nums1 = [1,2,3]\n",
    "nums2 = [2,4,6]\n",
    "print(Sol.findDifference(nums1,nums2))\n",
    "\n"
   ]
  }
 ],
 "metadata": {
  "kernelspec": {
   "display_name": "Python 3 (ipykernel)",
   "language": "python",
   "name": "python3"
  },
  "language_info": {
   "codemirror_mode": {
    "name": "ipython",
    "version": 3
   },
   "file_extension": ".py",
   "mimetype": "text/x-python",
   "name": "python",
   "nbconvert_exporter": "python",
   "pygments_lexer": "ipython3",
   "version": "3.11.3"
  }
 },
 "nbformat": 4,
 "nbformat_minor": 2
}
