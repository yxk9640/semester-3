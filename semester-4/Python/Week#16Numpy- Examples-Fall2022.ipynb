{
 "cells": [
  {
   "cell_type": "markdown",
   "id": "e564a9a9",
   "metadata": {},
   "source": [
    "Convert a 1D array to a 2D array with 2 rows."
   ]
  },
  {
   "cell_type": "code",
   "execution_count": 6,
   "id": "f8b15803",
   "metadata": {},
   "outputs": [
    {
     "name": "stdout",
     "output_type": "stream",
     "text": [
      "(10,)\n"
     ]
    },
    {
     "data": {
      "text/plain": [
       "(2, 5)"
      ]
     },
     "execution_count": 6,
     "metadata": {},
     "output_type": "execute_result"
    }
   ],
   "source": [
    "import numpy as np\n",
    "arr = np.arange(10) \n",
    "print(arr.shape)\n",
    "reshape = arr.reshape(2,-1)\n",
    "reshape.shape\n"
   ]
  },
  {
   "cell_type": "code",
   "execution_count": null,
   "id": "bd501e41",
   "metadata": {},
   "outputs": [],
   "source": [
    "#arrange(num)\n",
    "#reshape(x,y # x,y multiple of num)"
   ]
  },
  {
   "cell_type": "markdown",
   "id": "3eb5fce6",
   "metadata": {},
   "source": [
    "Write a NumPy program to create an array of 10 zeros, 10 ones, 10 fives."
   ]
  },
  {
   "cell_type": "code",
   "execution_count": 12,
   "id": "a67a9b76",
   "metadata": {},
   "outputs": [
    {
     "name": "stdout",
     "output_type": "stream",
     "text": [
      "[5 5 5 5 5 5 5 5 5 5]\n"
     ]
    }
   ],
   "source": [
    "zero_array = np.zeros(10)\n",
    "\n",
    "ones_array = np.ones(10)\n",
    "\n",
    "fives_array = np.full((10,),5)\n",
    "\n",
    "print(fives_array)\n"
   ]
  },
  {
   "cell_type": "markdown",
   "id": "c0a903d8",
   "metadata": {},
   "source": [
    "Write a NumPy program to create an array of the integers from 30 to 70."
   ]
  },
  {
   "cell_type": "code",
   "execution_count": 17,
   "id": "0908aa40",
   "metadata": {},
   "outputs": [
    {
     "data": {
      "text/plain": [
       "array([30, 31, 32, 33, 34, 35, 36, 37, 38, 39, 40, 41, 42, 43, 44, 45, 46,\n",
       "       47, 48, 49, 50, 51, 52, 53, 54, 55, 56, 57, 58, 59, 60, 61, 62, 63,\n",
       "       64, 65, 66, 67, 68, 69])"
      ]
     },
     "execution_count": 17,
     "metadata": {},
     "output_type": "execute_result"
    }
   ],
   "source": [
    "range_array = np.arange(30,70)\n",
    "range_array"
   ]
  },
  {
   "cell_type": "markdown",
   "id": "e1d8d6c3",
   "metadata": {},
   "source": [
    "Write a NumPy program to generate an array of 15 random numbers from a standard normal distribution."
   ]
  },
  {
   "cell_type": "code",
   "execution_count": 25,
   "id": "b261f7d9",
   "metadata": {},
   "outputs": [
    {
     "data": {
      "text/plain": [
       "array([-0.61638293, -0.79507898, -0.63814518, -2.45453942, -1.07701549,\n",
       "        2.03152249,  0.77710348,  0.79920767, -1.21327689,  0.32163655,\n",
       "        0.63020017, -0.40173559, -1.03112697, -2.08116216, -0.77021168])"
      ]
     },
     "execution_count": 25,
     "metadata": {},
     "output_type": "execute_result"
    }
   ],
   "source": [
    "ndist_array = np.random.normal(0,1,(15))\n",
    "ndist_array"
   ]
  },
  {
   "cell_type": "markdown",
   "id": "60fa80ee",
   "metadata": {},
   "source": [
    "Write a NumPy program to create an array of all the even integers from 30 to 70."
   ]
  },
  {
   "cell_type": "code",
   "execution_count": 28,
   "id": "357cb1b0",
   "metadata": {},
   "outputs": [
    {
     "data": {
      "text/plain": [
       "array([30, 32, 34, 36, 38, 40, 42, 44, 46, 48, 50, 52, 54, 56, 58, 60, 62,\n",
       "       64, 66, 68, 70])"
      ]
     },
     "execution_count": 28,
     "metadata": {},
     "output_type": "execute_result"
    }
   ],
   "source": [
    "#third parameter is used to check the condition and prints the result if condition satisfied\n",
    "#here it checks if the number is divisible by 2\n",
    "even_range_array = np.arange(30,71,2)\n",
    "even_range_array"
   ]
  },
  {
   "cell_type": "markdown",
   "id": "6244bc6f",
   "metadata": {},
   "source": [
    "Write a NumPy program to create a 3x3 matrix with values ranging from 2 to 10."
   ]
  },
  {
   "cell_type": "code",
   "execution_count": 34,
   "id": "7e998889",
   "metadata": {},
   "outputs": [
    {
     "data": {
      "text/plain": [
       "array([[ 2,  3,  4],\n",
       "       [ 5,  6,  7],\n",
       "       [ 8,  9, 10]])"
      ]
     },
     "execution_count": 34,
     "metadata": {},
     "output_type": "execute_result"
    }
   ],
   "source": [
    "matrix = np.arange(2,11).reshape(3,3)\n",
    "matrix"
   ]
  },
  {
   "cell_type": "markdown",
   "id": "590cff35",
   "metadata": {},
   "source": [
    "<li> Create a 3x5 random matrix using normal distribution with mean = 2 and std = .5 (matrix A)</li>\n",
    "<li> Create another 5x3 matrix in the following format: (matrix B) \n",
    "<br>\n",
    "<br>\n",
    "<div>\n",
    "<table style=\"width:200px; border:1px solid black\">\n",
    "<tr>\n",
    "    <td style=\"text-align:center; border:1px solid black\">1</td>\n",
    "    <td style=\"text-align:center; border:1px solid black\">0</td>\n",
    "    <td style=\"text-align:center; border:1px solid black\">2</td>\n",
    "</tr>\n",
    "<tr>\n",
    "    <td style=\"text-align:center; border:1px solid black\">3</td>\n",
    "    <td style=\"text-align:center;border:1px solid black\">4</td>\n",
    "    <td style=\"text-align:center;border:1px solid black\">1</td>\n",
    "</tr>\n",
    "<tr>\n",
    "    <td style=\"text-align:center; border:1px solid black\">-1</td>\n",
    "    <td style=\"text-align:center; border:1px solid black\">2</td>\n",
    "    <td style=\"text-align:center;border:1px solid black\">-3</td>\n",
    "</tr>\n",
    "<tr>\n",
    "    <td style=\"text-align:center; border:1px solid black\">5</td>\n",
    "    <td style=\"text-align:center; border:1px solid black\">4</td>\n",
    "    <td style=\"text-align:center; border:1px solid black\">0</td>\n",
    "</tr>\n",
    "<tr>\n",
    "    <td style=\"text-align:center;border:1px solid black\">0</td>\n",
    "    <td style=\"text-align:center;border:1px solid black\">0</td>\n",
    "    <td style=\"text-align:center;border:1px solid black\">2</td>\n",
    "</tr>\n",
    "</table>\n",
    "<div></li>\n",
    "   \n",
    "<li> Find Dot Product of matrix A and B and put it in matrix C.</li>\n",
    "<li> Find the column wise sum of the matrix C.</li> \n",
    "</p>\n"
   ]
  },
  {
   "cell_type": "code",
   "execution_count": 39,
   "id": "bc816b34",
   "metadata": {},
   "outputs": [
    {
     "data": {
      "text/plain": [
       "array([[2.2655319 , 2.40594045, 1.97660718, 1.75761843, 2.63265959],\n",
       "       [2.80692868, 2.40587742, 2.01755007, 1.6864253 , 2.51980334],\n",
       "       [1.84920438, 1.66950246, 2.00599903, 1.57906501, 2.17321446]])"
      ]
     },
     "execution_count": 39,
     "metadata": {},
     "output_type": "execute_result"
    }
   ],
   "source": [
    "\n",
    "matrixA = np.random.normal(2,0.5,(3,5))\n",
    "matrixA"
   ]
  },
  {
   "cell_type": "code",
   "execution_count": 40,
   "id": "48b7ffa7",
   "metadata": {},
   "outputs": [
    {
     "data": {
      "text/plain": [
       "array([[ 1,  0,  2],\n",
       "       [ 3,  4,  1],\n",
       "       [-1,  2, -3],\n",
       "       [ 5,  4,  0],\n",
       "       [ 0,  0,  2]])"
      ]
     },
     "execution_count": 40,
     "metadata": {},
     "output_type": "execute_result"
    }
   ],
   "source": [
    "matrixB = np.array([[1,0,2],[3,4,1],[-1,2,-3],[5,4,0],[0,0,2]])\n",
    "matrixB"
   ]
  },
  {
   "cell_type": "code",
   "execution_count": 45,
   "id": "4592d639",
   "metadata": {},
   "outputs": [],
   "source": [
    "matrixC = matrixA.dot(matrixB)"
   ]
  },
  {
   "cell_type": "code",
   "execution_count": 47,
   "id": "2b183f57",
   "metadata": {},
   "outputs": [
    {
     "data": {
      "text/plain": [
       "array([45.48101336, 58.01802881, 16.97553619])"
      ]
     },
     "execution_count": 47,
     "metadata": {},
     "output_type": "execute_result"
    }
   ],
   "source": [
    "matrixC.sum(axis = 0)"
   ]
  },
  {
   "cell_type": "markdown",
   "id": "ddd80455",
   "metadata": {},
   "source": [
    "<li>Create a random 5x5 matrix using discrete uniform integers between [0, 100) (matrix A) </li>\n",
    "    <li>Use Boolean Indexing (Filtering) to subtract 15 from all the values over 60 in matrix A </li>"
   ]
  },
  {
   "cell_type": "code",
   "execution_count": 50,
   "id": "26009157",
   "metadata": {},
   "outputs": [
    {
     "data": {
      "text/plain": [
       "array([[ 4.13416815, 67.95695762, 97.2022678 , 34.70581307, 21.19359906],\n",
       "       [35.49231731, 26.55596882, 18.66400858, 15.76419963, 75.80300649],\n",
       "       [79.88851249, 78.70952267,  2.97691225, 84.19047667, 40.00963437],\n",
       "       [84.5232098 , 79.81306562, 83.0335251 , 40.49486965, 61.85726076],\n",
       "       [34.95770762, 64.48511306, 85.67932848,  9.27509401, 92.13470743]])"
      ]
     },
     "execution_count": 50,
     "metadata": {},
     "output_type": "execute_result"
    }
   ],
   "source": [
    "uniform_matrix = np.random.uniform(0,100,(5,5))\n",
    "uniform_matrix"
   ]
  },
  {
   "cell_type": "code",
   "execution_count": 53,
   "id": "5312fd7e",
   "metadata": {},
   "outputs": [
    {
     "data": {
      "text/plain": [
       "array([[ 4.13416815, 52.95695762, 67.2022678 , 34.70581307, 21.19359906],\n",
       "       [35.49231731, 26.55596882, 18.66400858, 15.76419963, 45.80300649],\n",
       "       [49.88851249, 48.70952267,  2.97691225, 54.19047667, 40.00963437],\n",
       "       [54.5232098 , 49.81306562, 53.0335251 , 40.49486965, 46.85726076],\n",
       "       [34.95770762, 49.48511306, 55.67932848,  9.27509401, 62.13470743]])"
      ]
     },
     "execution_count": 53,
     "metadata": {},
     "output_type": "execute_result"
    }
   ],
   "source": [
    "filter = uniform_matrix > 60\n",
    "\n",
    "uniform_matrix[filter] -= 15\n",
    "uniform_matrix"
   ]
  },
  {
   "attachments": {},
   "cell_type": "markdown",
   "id": "a4214b02",
   "metadata": {},
   "source": [
    "* arange\n",
    "* reshape\n",
    "* normal and uniform distribution\n",
    "* array creation with desired dimensions\n",
    "* filtering in array \n",
    "* dot product\n",
    "* sorting\n",
    "* argsort()\n",
    "\n"
   ]
  }
 ],
 "metadata": {
  "kernelspec": {
   "display_name": "Python 3",
   "language": "python",
   "name": "python3"
  },
  "language_info": {
   "codemirror_mode": {
    "name": "ipython",
    "version": 3
   },
   "file_extension": ".py",
   "mimetype": "text/x-python",
   "name": "python",
   "nbconvert_exporter": "python",
   "pygments_lexer": "ipython3",
   "version": "3.11.2"
  }
 },
 "nbformat": 4,
 "nbformat_minor": 5
}
