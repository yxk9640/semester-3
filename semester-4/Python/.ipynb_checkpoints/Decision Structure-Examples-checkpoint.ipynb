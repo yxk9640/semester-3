{
 "cells": [
  {
   "cell_type": "markdown",
   "metadata": {},
   "source": [
    "1.Write a program that asks the user to enter an integer. The program should display “Positive” if the number is greater than 0, “Negative” if the number is less than 0, and “Zero” if the number is equal to 0."
   ]
  },
  {
   "cell_type": "code",
   "execution_count": 5,
   "metadata": {},
   "outputs": [
    {
     "name": "stdout",
     "output_type": "stream",
     "text": [
      "Enter an Integer: 12\n",
      "Positive\n"
     ]
    }
   ],
   "source": [
    "num = int(input(\"Enter an Integer: \"))\n",
    "if(num == 0):\n",
    "    print(\"Zero\")\n",
    "elif(num > 0):\n",
    "    print(\"Positive\")\n",
    "else:\n",
    "    print(\"Negative\")"
   ]
  },
  {
   "cell_type": "markdown",
   "metadata": {},
   "source": [
    "2.The area of a rectangle is the rectangle’s length times its width. Write a program that asks for the length and width of two rectangles. The program should tell the user which rectangle has the greater area, or if the areas are the same."
   ]
  },
  {
   "cell_type": "code",
   "execution_count": 15,
   "metadata": {},
   "outputs": [
    {
     "name": "stdout",
     "output_type": "stream",
     "text": [
      "Enter length of 1st rectangle: 4\n",
      "Enter width of 1st rectangle: 5\n",
      "Enter length of 2nd rectangle: 2\n",
      "Enter width of 1st rectangle: 5\n",
      "Rectangle with greater area is first: 20\n"
     ]
    }
   ],
   "source": [
    "l1 = int(input(\"Enter length of 1st rectangle: \"))\n",
    "w1 = int(input(\"Enter width of 1st rectangle: \"))\n",
    "l2 = int(input(\"Enter length of 2nd rectangle: \"))\n",
    "w2 = int(input(\"Enter width of 1st rectangle: \"))\n",
    "\n",
    "def area(l,b):\n",
    "    return l*b\n",
    "\n",
    "a1 = area(l1,w1)\n",
    "a2 = area(l2,w2)\n",
    "\n",
    "if(a1==a2):\n",
    "    print(f\"Both areas are same: {a1}\" )\n",
    "elif(a1>a2):\n",
    "    print(f\"Rectangle with greater area is first: {a1}\")\n",
    "else: print(f\"Rectangle with greater area is second: {a2}\")\n",
    "    "
   ]
  },
  {
   "cell_type": "markdown",
   "metadata": {},
   "source": [
    "3.Write a program that asks the user for a month as a number between 1 and 12. The program should display a message indicating whether the month is in the first quarter, the second quarter, the third quarter, or the fourth quarter of the year. Following are the guidelines:\n",
    "<ul><li>If the user enters either 1, 2, or 3, the month is in the first quarter.</li>\n",
    "<li>If the user enters a number between 4 and 6, the month is in the second quarter.</li>\n",
    "<li>If the number is either 7, 8, or 9, the month is in the third quarter.</li>\n",
    "<li>If the month is between 10 and 12, the month is in the fourth quarter.</li>\n",
    "<li>If the number is not between 1 and 12, the program should display an error.</li>\n",
    "</ul>\n"
   ]
  },
  {
   "cell_type": "code",
   "execution_count": 27,
   "metadata": {},
   "outputs": [
    {
     "name": "stdout",
     "output_type": "stream",
     "text": [
      "Enter month in 1-12: 21\n",
      "error\n"
     ]
    }
   ],
   "source": [
    "month = int(input(\"Enter month in 1-12: \"))\n",
    "if(month >= 1 and month <= 3):\n",
    "    print(\"1st quater\")\n",
    "elif(month >= 4 and month <= 6):\n",
    "        print(\"2nd quater\")\n",
    "elif(month >= 7 and month <= 9):\n",
    "        print(\"3rd quater\")\n",
    "elif(month >= 10 and month <= 12):    \n",
    "        print(\"4th quater\")\n",
    "elif(month >= 12 or month < 1):\n",
    "        print(\"error\")"
   ]
  },
  {
   "cell_type": "markdown",
   "metadata": {},
   "source": [
    "4.The date July 10, 1970, is special because when it is written in the following format, the month times the day equals the year:<br>\n",
    "7/10/70\n",
    "<br>\n",
    "Design a program that asks the user to enter a month (in numeric form), a day, and a two- digit year. The program should then determine whether the month times the day equals the year. If so, it should display a message saying the date is magic. Otherwise, it should display a message saying the date is not magic."
   ]
  },
  {
   "cell_type": "code",
   "execution_count": null,
   "metadata": {},
   "outputs": [],
   "source": []
  },
  {
   "cell_type": "markdown",
   "metadata": {},
   "source": [
    "5. The colors red,blue and yellow are known as the primary colors. When you mix two primary colors, you get a secondary color, as shown here:\n",
    "<ul><li>When you mix red and blue, you get purple.</li>\n",
    "    <li>When you mix red and yellow, you get orange.</li>\n",
    "     <li>When you mix yellow and blue, you get green.</li></ul>\n",
    "design a progrm tht promps the user to enter the names of two primary colors to mix. if the user enters anything other than 'red', 'blue', or 'yellow', the program should display an error message. Otherwise, the program should display the name of the secondary color that results."
   ]
  },
  {
   "cell_type": "code",
   "execution_count": null,
   "metadata": {},
   "outputs": [],
   "source": []
  },
  {
   "cell_type": "markdown",
   "metadata": {},
   "source": [
    "6.Serendipity Booksellers has a book club that awards points to its customers based on the number of books purchased each month. The points are awarded as follows:\n",
    "<ul><li>If a customer purchases 0 books, he or she earns 0 points.</li>\n",
    "<li>If a customer purchases 2 books, he or she earns 5 points.</li>\n",
    "<li>If a customer purchases 4 books, he or she earns 15 points.</li>\n",
    "<li>If a customer purchases 6 books, he or she earns 30 points.</li>\n",
    "<li>If a customer purchases 8 or more books, he or she earns 60 points.</li></ul>\n",
    "Write a program that asks the user to enter the number of books that he or she has purchased this month, then displays the number of points awarded."
   ]
  },
  {
   "cell_type": "code",
   "execution_count": null,
   "metadata": {},
   "outputs": [],
   "source": []
  },
  {
   "cell_type": "markdown",
   "metadata": {},
   "source": [
    " 7.Write a program that asks the user for the number of males and the number of females registered in a class. The program should display the percentage of males and females in the class."
   ]
  },
  {
   "cell_type": "code",
   "execution_count": null,
   "metadata": {},
   "outputs": [],
   "source": [
    "# male % = (male/ (male+female)) * 100"
   ]
  },
  {
   "cell_type": "markdown",
   "metadata": {},
   "source": [
    "8.Write a program to get two inputs from the user. If both numbers are more than 10, dispaly the following message, \"both input numbers are greater than 10\" if only one of the numbers is more than 10, then display the following message, \"only one input number is greater than 10\" else display \"none of the input values is greater than 10\"."
   ]
  },
  {
   "cell_type": "code",
   "execution_count": 18,
   "metadata": {},
   "outputs": [
    {
     "name": "stdout",
     "output_type": "stream",
     "text": [
      "Enter 1st number: 21\n",
      "Enter 2st number: 12\n",
      "both input numbers are greater than 10\n"
     ]
    }
   ],
   "source": [
    "num1 = int(input(\"Enter 1st number: \"))\n",
    "num2 = int(input(\"Enter 2st number: \"))\n",
    "\n",
    "if( num1 > 10 and num2 > 10):\n",
    "    print(\"both input numbers are greater than 10\")\n",
    "elif(num1>10 or num2 > 10):\n",
    "    print(\"only one input number is greater than 10\")\n",
    "else: print(\"none of the input values is greater than 10\")"
   ]
  },
  {
   "cell_type": "markdown",
   "metadata": {},
   "source": [
    "9.Write a program to check whether a person is eligible for voting or not (accept age from user)"
   ]
  },
  {
   "cell_type": "code",
   "execution_count": 21,
   "metadata": {},
   "outputs": [
    {
     "name": "stdout",
     "output_type": "stream",
     "text": [
      "Enter your age: 18\n",
      "You are eligible for voting\n"
     ]
    }
   ],
   "source": [
    "age = int(input(\"Enter your age: \"))\n",
    "if(age > 18 or age == 18):\n",
    "    print(\"You are eligible for voting\")\n",
    "else: print(\"You are not eligible for voting\")"
   ]
  },
  {
   "cell_type": "markdown",
   "metadata": {},
   "source": [
    "10.Write a program to dispaly \"Hello\" if a number dispalyed by user is a muliple of 4, otherwise print \"bye\""
   ]
  },
  {
   "cell_type": "code",
   "execution_count": 28,
   "metadata": {},
   "outputs": [
    {
     "name": "stdout",
     "output_type": "stream",
     "text": [
      "Enter the number: 24\n",
      "Hello\n"
     ]
    }
   ],
   "source": [
    "num = int(input(\"Enter the number: \"))\n",
    "if(num%4 == 0):\n",
    "    print(\"Hello\")\n",
    "else: print(\"bye\")"
   ]
  }
 ],
 "metadata": {
  "kernelspec": {
   "display_name": "Python 3 (ipykernel)",
   "language": "python",
   "name": "python3"
  },
  "language_info": {
   "codemirror_mode": {
    "name": "ipython",
    "version": 3
   },
   "file_extension": ".py",
   "mimetype": "text/x-python",
   "name": "python",
   "nbconvert_exporter": "python",
   "pygments_lexer": "ipython3",
   "version": "3.10.2"
  }
 },
 "nbformat": 4,
 "nbformat_minor": 4
}
