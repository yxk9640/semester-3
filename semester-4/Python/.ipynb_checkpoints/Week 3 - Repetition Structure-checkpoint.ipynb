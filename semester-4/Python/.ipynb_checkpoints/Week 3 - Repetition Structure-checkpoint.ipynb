{
 "cells": [
  {
   "cell_type": "markdown",
   "metadata": {},
   "source": [
    "        Introduction to Programming: Python\n",
    "        Neshat Beheshti\n",
    "        University of Texas Arlington\n",
    "        \n",
    "        This document can only be used for class studies. \n",
    "        You are not allowed to share it in any public platform."
   ]
  },
  {
   "cell_type": "markdown",
   "metadata": {},
   "source": [
    "        The Material for this Notebook is Adopted from \n",
    "        Starting Out with Python (4th Edition)- by Tony Gaddis Pearson"
   ]
  },
  {
   "cell_type": "markdown",
   "metadata": {},
   "source": [
    "<h1 align='center' style=\"color: blue;\">Repetiton Structure</h1>"
   ]
  },
  {
   "cell_type": "markdown",
   "metadata": {},
   "source": [
    "## 1. Introduction to Repetition Structures"
   ]
  },
  {
   "cell_type": "markdown",
   "metadata": {},
   "source": [
    "Often have to write code that performs the same task multiple times\n",
    "    <ul>\n",
    "    <li>Disadvantages to duplicating code</li>\n",
    "    <ul>\n",
    "        <li>Makes program large</li>\n",
    "        <li>Time consuming</li>\n",
    "        <li>May need to be corrected in many places</li>\n",
    "</ul>"
   ]
  },
  {
   "cell_type": "markdown",
   "metadata": {},
   "source": [
    "A <i>repetition structure</i> causes a statement or set of statements to execute repeatedly. \n",
    "<br>\n",
    "<ul><li>commonly known as a <b>loop</b>.</li></ul>"
   ]
  },
  {
   "cell_type": "markdown",
   "metadata": {},
   "source": [
    "<b>Note:</b> There are two types of loops: \n",
    "<ul>\n",
    "    <li><b>condition-controlled</b>:&nbsp;A condition-controlled loop uses a <b style='color:green'>True</b>/<b style='color:red'>False</b> condition to control the number of times that it repeats.</li>\n",
    "    <ul>\n",
    "        <li>We should use <b style='color:red'>while</b> statement to write this type of loops.</li>\n",
    "    </ul>\n",
    "    <li><b>count-controlled:</b>&nbsp;A count-controlled loop repeats a specific number of times.</li>\n",
    "    <ul>\n",
    "        <li>We should use <b style='color:red'>for</b> statement to write this type of loops.</li>\n",
    "    </ul>\n",
    "</ul>"
   ]
  },
  {
   "cell_type": "markdown",
   "metadata": {},
   "source": [
    "## 2. The <i>while</i> Loop: A Condition-Controlled Loop"
   ]
  },
  {
   "cell_type": "markdown",
   "metadata": {},
   "source": [
    "The <b style='color:red'>while</b> loop: <u>while a condition is true, do something.</u> \n",
    "<br>\n",
    "The loop has two parts: \n",
    "<ol> \n",
    "    <li><b>Condition</b>: tested for a <b style='color:green'>True</b> or <b style='color:red'>False</b> value.</li>\n",
    "        <li><b>Statement(s)</b>: repeated as long as the condition is True\n",
    "</ol>"
   ]
  },
  {
   "cell_type": "markdown",
   "metadata": {},
   "source": [
    "<img src='images/week 3/The logic of a while loop.png'/>\n",
    "\n",
    "<i>Source: Starting Out with Python (4th Edition)- by Tony Gaddis Pearson</i>"
   ]
  },
  {
   "cell_type": "markdown",
   "metadata": {},
   "source": [
    "The general format of the <b>while</b> loop:"
   ]
  },
  {
   "cell_type": "markdown",
   "metadata": {},
   "source": [
    "<b style='color:red'>while</b> <span style='color:blue'>condition</span>: \n",
    "<i><br>&nbsp;&nbsp;&nbsp;&nbsp;&nbsp;&nbsp;&nbsp;&nbsp;statement \n",
    "<br>&nbsp;&nbsp;&nbsp;&nbsp;&nbsp;&nbsp;&nbsp;&nbsp;statement\n",
    "<br>&nbsp;&nbsp;&nbsp;&nbsp;&nbsp;&nbsp;&nbsp;&nbsp;etc.</i>"
   ]
  },
  {
   "cell_type": "markdown",
   "metadata": {},
   "source": [
    "When the <b style='color:red'>while</b> loop executes, the condition is tested. If the condition is <b style='color:green'>True</b>, the statements that appear in the block following the <b>while</b> clause are executed, and the loop starts over. If the condition is <b style='color:red'>False</b>, the program exits the loop."
   ]
  },
  {
   "cell_type": "markdown",
   "metadata": {},
   "source": [
    "<b>Example:</b> Write a program that calculates a sales commission for several salespeople."
   ]
  },
  {
   "cell_type": "code",
   "execution_count": 5,
   "metadata": {},
   "outputs": [
    {
     "name": "stdout",
     "output_type": "stream",
     "text": [
      "Enter a commission: 12\n",
      "12.0\n",
      "Got commission Yes/No: Yes\n",
      "Enter a commission: 32\n",
      "32.0\n",
      "Got commission Yes/No: No\n",
      "Enter a commission: 12\n"
     ]
    }
   ],
   "source": [
    "sale = float(input(\"Enter a commission: \"))\n",
    "# commision = \"Yes\"\n",
    "while(commision == \"Yes\"):\n",
    "    print(sale)\n",
    "    sale = float(input(\"Enter a commission: \"))\n",
    "    \n",
    "    commision = input(\"Got commission Yes/No: \")\n",
    "    "
   ]
  },
  {
   "cell_type": "markdown",
   "metadata": {},
   "source": [
    "<b>Note: </b>In order for a loop to stop executing, something has to happen inside the loop to make the condition false."
   ]
  },
  {
   "cell_type": "markdown",
   "metadata": {},
   "source": [
    "<b>while</b> loop is known as a <i><b>pretest loop</b></i>.\n",
    "<ul><li>Tests condition before performing an iteration</li>\n",
    "<ul>\n",
    "    <li>Will never execute if condition is false to start with</li>\n",
    "    <li>Requires performing some steps prior to the loop</li>\n",
    "</ul>"
   ]
  },
  {
   "cell_type": "markdown",
   "metadata": {},
   "source": [
    "<b>Example</b>: A project requires that a substance be continually heated in a vat. A technician must check the substance’s temperature every 15 minutes. If the substance’s temperature does not exceed 102.5 degrees Celsius, then the technician does nothing. However, if the temperature is greater than 102.5 degrees Celsius, the technician must turn down the vat’s thermostat, wait 5 minutes, and check the temperature again. \n",
    "The technician repeats these steps until the temperature does not exceed 102.5 degrees \n",
    "Celsius. The director of engineering has asked you to write a program that guides the technician through this process."
   ]
  },
  {
   "cell_type": "code",
   "execution_count": 2,
   "metadata": {},
   "outputs": [
    {
     "name": "stdout",
     "output_type": "stream",
     "text": [
      "Enter temperature: 111\n",
      "Turn down temp and Wait 5 min\n",
      "Enter temperature: 102\n",
      "Check after 15 min\n"
     ]
    }
   ],
   "source": [
    "temp = float(input(\"Enter temperature: \"))\n",
    "\n",
    "while (temp > 102.5):\n",
    "    print(\"Turn down temp and Wait 5 min\")\n",
    "    temp = float(input(\"Enter temperature: \"))\n",
    "    \n",
    "print(\"Check after 15 min\")\n",
    "\n",
    "    "
   ]
  },
  {
   "cell_type": "markdown",
   "metadata": {},
   "source": [
    "### 2.1 Infinite Loops"
   ]
  },
  {
   "cell_type": "markdown",
   "metadata": {},
   "source": [
    "<b>Important Note:</b> If a loop does not have a way of stopping, it is called an <b>infinite loop</b>. \n",
    "<br>\n",
    "An <i>infinite loop</i> continues to repeat until the program is interrupted.\n",
    "<br>\n",
    "<i>Infinite loops</i> usually occur when the programmer forgets to write code inside the loop that makes the test condition False.\n"
   ]
  },
  {
   "cell_type": "markdown",
   "metadata": {},
   "source": [
    "<b>Note:</b> You need to make sure that your code avoids an infinite loop."
   ]
  },
  {
   "cell_type": "code",
   "execution_count": null,
   "metadata": {},
   "outputs": [],
   "source": []
  },
  {
   "cell_type": "markdown",
   "metadata": {},
   "source": [
    "<b>Example:</b> Now it's your turn. Write a while loop program that ask for user's name and age and then display it on the screen. Next it needs to ask the user whether or not she wants to continue. "
   ]
  },
  {
   "cell_type": "code",
   "execution_count": 10,
   "metadata": {},
   "outputs": [
    {
     "name": "stdout",
     "output_type": "stream",
     "text": [
      "Enter your name: 12\n",
      "Enter your age: 12\n",
      "Your name:  12 Your age: 12\n",
      "Want to continue(Yes/No) ? No\n"
     ]
    }
   ],
   "source": [
    "#Write your code here\n",
    "con = \"Yes\"\n",
    "\n",
    "while (con == \"Yes\"):\n",
    "    name = input(\"Enter your name: \")\n",
    "    age = int(input(\"Enter your age: \"))\n",
    "    \n",
    "    print(\"Your name: \", name, \"Your age:\" , age)\n",
    "    \n",
    "    con = input(\"Want to continue(Yes/No) ? \")"
   ]
  },
  {
   "cell_type": "markdown",
   "metadata": {},
   "source": [
    "## 3. The <i>for</i> Loop: A Count-Controlled Loop"
   ]
  },
  {
   "cell_type": "markdown",
   "metadata": {},
   "source": [
    "The <b>for</b> statement is designed to work with a sequence of data items. When the statement executes, it iterates once for each item in the sequence."
   ]
  },
  {
   "cell_type": "markdown",
   "metadata": {},
   "source": [
    "The general format of the <b style='color:red'>for</b> loop:"
   ]
  },
  {
   "cell_type": "markdown",
   "metadata": {},
   "source": [
    "<b style='color:red'>for</b> <span style='color:blue'> variable <b style='color:red'>in</b> [value1,value2,...]</span>: \n",
    "<i><br>&nbsp;&nbsp;&nbsp;&nbsp;&nbsp;&nbsp;&nbsp;statement \n",
    "<br>&nbsp;&nbsp;&nbsp;&nbsp;&nbsp;&nbsp;&nbsp;statement\n",
    "<br>&nbsp;&nbsp;&nbsp;&nbsp;&nbsp;&nbsp;&nbsp;etc.</i>"
   ]
  },
  {
   "cell_type": "markdown",
   "metadata": {},
   "source": [
    "<b>Note:</b> The <b>for</b> statement executes in the following manner: \n",
    "<ol>\n",
    "    <li>The <span style='color:blue'>variable</span> is assigned the first value in the list (we will discuss about lists in future sessions).</li>\n",
    "    <li>The statements that appear in the block are executed.</li>\n",
    "    <li><span style='color:blue'>variable</span> is assigned the next value in the list, and the statements in the block are executed again.</li>\n",
    "    <li>This continues until variable has been assigned the last value in the list.</li>\n",
    "</ol>"
   ]
  },
  {
   "cell_type": "markdown",
   "metadata": {},
   "source": [
    "<b>Example:</b>"
   ]
  },
  {
   "cell_type": "code",
   "execution_count": 19,
   "metadata": {},
   "outputs": [
    {
     "ename": "SyntaxError",
     "evalue": "invalid syntax (2891185883.py, line 1)",
     "output_type": "error",
     "traceback": [
      "\u001b[0;36m  Cell \u001b[0;32mIn[19], line 1\u001b[0;36m\u001b[0m\n\u001b[0;31m    a = (2==0)? 1:3\u001b[0m\n\u001b[0m              ^\u001b[0m\n\u001b[0;31mSyntaxError\u001b[0m\u001b[0;31m:\u001b[0m invalid syntax\n"
     ]
    }
   ],
   "source": [
    "a = (2==0)? 1:3"
   ]
  },
  {
   "cell_type": "markdown",
   "metadata": {},
   "source": [
    "<b>Note:</b>&nbsp;Programmers refer to the <span style='color:blue'>variable</span> that is used in the for clause as the <u>target variable</u>."
   ]
  },
  {
   "cell_type": "code",
   "execution_count": 11,
   "metadata": {},
   "outputs": [
    {
     "name": "stdout",
     "output_type": "stream",
     "text": [
      "John\n",
      "Frank\n",
      "Mark\n"
     ]
    }
   ],
   "source": [
    "for name in ['John','Frank','Mark']:\n",
    "    print(name)"
   ]
  },
  {
   "cell_type": "markdown",
   "metadata": {},
   "source": [
    "<b>Example:</b> Now it's your turn. Write a for loop program that shows a list of odd numbers 1 through 10 "
   ]
  },
  {
   "cell_type": "code",
   "execution_count": 22,
   "metadata": {},
   "outputs": [
    {
     "name": "stdout",
     "output_type": "stream",
     "text": [
      "1\n",
      "\n",
      "3\n",
      "\n",
      "5\n",
      "\n",
      "7\n",
      "\n",
      "9\n",
      "\n"
     ]
    }
   ],
   "source": [
    "#Write your code here\n",
    "for i in (1,2,3,4,5,6,7,8,9,10):\n",
    "    print( i if i%2!=0 else \"\")"
   ]
  },
  {
   "cell_type": "markdown",
   "metadata": {},
   "source": [
    "<b>Note:</b>&nbsp;There is a built-in function named <b style='color:red'>range( )</b> that simplifies the process of writing a count-controlled <b>for</b> loop. "
   ]
  },
  {
   "cell_type": "markdown",
   "metadata": {},
   "source": [
    "<b>range characteristics:</b>\n",
    "<ul>\n",
    "    <li>One argument: used as ending limit </li>\n",
    "    <li>Two arguments: starting value and ending limit </li>\n",
    "    <li>Three arguments: third argument is step value</li>\n",
    "</ul>"
   ]
  },
  {
   "cell_type": "markdown",
   "metadata": {},
   "source": [
    "<b>Examples of <u> One argument</u>:</b>"
   ]
  },
  {
   "cell_type": "code",
   "execution_count": 27,
   "metadata": {},
   "outputs": [
    {
     "data": {
      "text/plain": [
       "range(0, 2)"
      ]
     },
     "execution_count": 27,
     "metadata": {},
     "output_type": "execute_result"
    }
   ],
   "source": [
    "range(2)"
   ]
  },
  {
   "cell_type": "markdown",
   "metadata": {},
   "source": [
    "In this statement, the <b style='color:red'>range( )</b> function will generate an iterable sequence of integers in the range of <span style='color:blue'>0</span> up to (<b>but not including</b>) <span style='color:blue'>5</span>."
   ]
  },
  {
   "cell_type": "markdown",
   "metadata": {},
   "source": [
    "This code works the same as the following:"
   ]
  },
  {
   "cell_type": "code",
   "execution_count": 25,
   "metadata": {},
   "outputs": [
    {
     "name": "stdout",
     "output_type": "stream",
     "text": [
      "0\n",
      "1\n",
      "2\n",
      "3\n",
      "4\n"
     ]
    }
   ],
   "source": [
    "for i in range(5):\n",
    "    print(i)"
   ]
  },
  {
   "cell_type": "markdown",
   "metadata": {},
   "source": [
    "<b>Example:</b> Print a message 7 times."
   ]
  },
  {
   "cell_type": "code",
   "execution_count": 26,
   "metadata": {},
   "outputs": [
    {
     "name": "stdout",
     "output_type": "stream",
     "text": [
      "Message: 1\n",
      "Message: 2\n",
      "Message: 3\n",
      "Message: 4\n",
      "Message: 5\n",
      "Message: 6\n",
      "Message: 7\n"
     ]
    }
   ],
   "source": [
    "for i in range(7):\n",
    "    print(\"Message:\", i+1)"
   ]
  },
  {
   "cell_type": "markdown",
   "metadata": {},
   "source": [
    "<br><br><b>Note:</b> If you pass two arguments to the <b style='color:red'>range( )</b> function, the <b>first</b> argument is used as the <u>starting value of the sequence</u>, and the <b>second</b> argument is used as <u>the ending limit</u>."
   ]
  },
  {
   "cell_type": "markdown",
   "metadata": {},
   "source": [
    "<b>Example of <u> Two arguments</u>:</b>"
   ]
  },
  {
   "cell_type": "code",
   "execution_count": null,
   "metadata": {},
   "outputs": [],
   "source": [
    "for num in range(2, 9): \n",
    "    print(num)"
   ]
  },
  {
   "cell_type": "markdown",
   "metadata": {},
   "source": [
    "<br><br><b>Note:</b> If you pass a third argument to the <b style='color:red'>range( )</b> function, that argument is used as <b>step value</b>. Instead of increasing by <span style='color:blue'>1</span>, each successive number in the sequence <u>will increase by the step value</u>."
   ]
  },
  {
   "cell_type": "markdown",
   "metadata": {},
   "source": [
    "<b>Example of <u> Three arguments</u>:</b>"
   ]
  },
  {
   "cell_type": "code",
   "execution_count": 28,
   "metadata": {},
   "outputs": [
    {
     "name": "stdout",
     "output_type": "stream",
     "text": [
      "1\n",
      "3\n",
      "5\n",
      "7\n",
      "9\n"
     ]
    }
   ],
   "source": [
    "for num in range(1, 10, 2): \n",
    "    print(num)"
   ]
  },
  {
   "cell_type": "markdown",
   "metadata": {},
   "source": [
    "<b>Note:</b> in the above example:\n",
    "<ul>\n",
    "<li>The first argument, 1, is the starting value for the sequence.</li>\n",
    "<li>The second argument, 10, is the ending limit of the list. This means that the last number in the sequence will be 9.</li>\n",
    "<li>The third argument, 2, is the step value. This means that 2 will be added to each successive number in the sequence.</li>\n",
    "</ul>"
   ]
  },
  {
   "cell_type": "markdown",
   "metadata": {},
   "source": [
    "<br><br><b>Note</b>: Target variable can be used in calculations or tasks in the body of the loop.\n",
    "<ul><li>Example: calculate square of each number in a range[1,10]</li></ul>\n"
   ]
  },
  {
   "cell_type": "code",
   "execution_count": 29,
   "metadata": {},
   "outputs": [
    {
     "name": "stdout",
     "output_type": "stream",
     "text": [
      "1\n",
      "4\n",
      "9\n",
      "16\n",
      "25\n",
      "36\n",
      "49\n",
      "64\n",
      "81\n",
      "100\n"
     ]
    }
   ],
   "source": [
    "for i in range(1,11):\n",
    "    print(i*i)"
   ]
  },
  {
   "cell_type": "markdown",
   "metadata": {},
   "source": [
    "<br><br><b>Note: </b>Sometimes the programmer does not know exactly how many times the loop will execute\n",
    "<ul><li>Use <b style='color:red'>input( )</b> function to get the value, place them in variables, and call the range function in the for clause using these variables</li>\n",
    "    <ul><li>Be sure to consider the end cases: <b>range</b> does not include the ending limit\n",
    "    </li></ul></ul>"
   ]
  },
  {
   "cell_type": "markdown",
   "metadata": {},
   "source": [
    "<b>Examples:</b>"
   ]
  },
  {
   "cell_type": "code",
   "execution_count": 37,
   "metadata": {},
   "outputs": [
    {
     "name": "stdout",
     "output_type": "stream",
     "text": [
      "Enter start num: 3\n",
      "1\n",
      "2\n",
      "3\n"
     ]
    }
   ],
   "source": [
    "inp = int(input(\"Enter start num: \"))\n",
    "for i in range(inp):\n",
    "    print(i+1)\n"
   ]
  },
  {
   "cell_type": "code",
   "execution_count": null,
   "metadata": {},
   "outputs": [],
   "source": []
  },
  {
   "cell_type": "markdown",
   "metadata": {},
   "source": [
    "<br><br><b>Note:</b> We can use the <b style='color:red'>range( )</b> function to generate sequences of numbers that goes from <u>highest to lowest</u>. \n",
    "<ul><li>Make sure <u>starting number</u> is <u>larger than end limit</u>, and step value is <u>negative</u></li></ul>"
   ]
  },
  {
   "cell_type": "code",
   "execution_count": 46,
   "metadata": {},
   "outputs": [
    {
     "name": "stdout",
     "output_type": "stream",
     "text": [
      "19\n",
      "18\n",
      "17\n",
      "16\n",
      "15\n",
      "14\n",
      "13\n",
      "12\n",
      "11\n",
      "10\n",
      "9\n",
      "8\n",
      "7\n",
      "6\n",
      "5\n",
      "4\n",
      "3\n",
      "2\n"
     ]
    }
   ],
   "source": [
    "for i in range(19,1,-1):\n",
    "    print(i)"
   ]
  },
  {
   "cell_type": "markdown",
   "metadata": {},
   "source": [
    "<b>Example:</b> Now it's your turn. Write a for loop program that prints the numbers 7 down to 3"
   ]
  },
  {
   "cell_type": "code",
   "execution_count": 51,
   "metadata": {},
   "outputs": [
    {
     "name": "stdout",
     "output_type": "stream",
     "text": [
      "7\n",
      "6\n",
      "5\n",
      "4\n",
      "3\n"
     ]
    }
   ],
   "source": [
    "#Write your code here\n",
    "for i in range(7,2,-1):\n",
    "    print(i)\n",
    "    "
   ]
  },
  {
   "cell_type": "code",
   "execution_count": 57,
   "metadata": {},
   "outputs": [
    {
     "name": "stdout",
     "output_type": "stream",
     "text": [
      "7\n",
      "6\n",
      "5\n",
      "4\n",
      "3\n"
     ]
    }
   ],
   "source": [
    "i = 7\n",
    "while (i > 2):\n",
    "    print(i)\n",
    "    i-=1"
   ]
  },
  {
   "cell_type": "markdown",
   "metadata": {},
   "source": [
    "## 4. Calculating a Running Total"
   ]
  },
  {
   "cell_type": "markdown",
   "metadata": {},
   "source": [
    "Programs often need to calculate a total of a series of numbers.\n",
    "<ul>\n",
    "    <li>Typically include two elements:</li>\n",
    "    <ul><li>A loop that reads each number in the series.</li>\n",
    "    <li>A variable that accumulates the total of the numbers as they are read.</li>\n",
    "</ul></ul>\n",
    "\n",
    "<b>Note:</b> It is important that you initialize the accumulator variable"
   ]
  },
  {
   "cell_type": "markdown",
   "metadata": {},
   "source": [
    "<b>Example:</b> Write a program that calculates the sum of a series of numbers entered by the user. The maximum number is 4."
   ]
  },
  {
   "cell_type": "code",
   "execution_count": 49,
   "metadata": {},
   "outputs": [
    {
     "name": "stdout",
     "output_type": "stream",
     "text": [
      "Enter initital number: 3\n",
      "18\n"
     ]
    }
   ],
   "source": [
    "sum = 0\n",
    "start = int(input(\"Enter initital number: \"))\n",
    "\n",
    "for i in range(start,start+4):\n",
    "    sum+=i\n",
    "print(sum)"
   ]
  },
  {
   "cell_type": "markdown",
   "metadata": {},
   "source": [
    "<b>Example:</b> Now it's your turn. write a program to calculate the sum of numbers in the range of 1 through 10."
   ]
  },
  {
   "cell_type": "code",
   "execution_count": 61,
   "metadata": {},
   "outputs": [
    {
     "name": "stdout",
     "output_type": "stream",
     "text": [
      "55\n",
      "55\n"
     ]
    }
   ],
   "source": [
    "#Write your code here\n",
    "sum=0\n",
    "\n",
    "for i in range(1,11):\n",
    "    sum+=i\n",
    "print(sum)\n",
    "\n",
    "sum1=0\n",
    "i = 1\n",
    "while (i < 11):\n",
    "    sum1+=i\n",
    "    i+=1\n",
    "print(sum1)"
   ]
  },
  {
   "cell_type": "markdown",
   "metadata": {},
   "source": [
    "### 4.1 The Augmented Assignment Operators"
   ]
  },
  {
   "cell_type": "markdown",
   "metadata": {},
   "source": [
    "An augmented assignment is generally used to replace a statement where an operator \n",
    "\n",
    "takes a variable as one of its arguments and then assigns the result back to the same variable."
   ]
  },
  {
   "cell_type": "markdown",
   "metadata": {},
   "source": [
    "Often programs have assignment statements in which the variable that is on the left side of the <b style='color:red'>=</b> operator also appears on the right side of the <b style='color:red'>=</b> operator.\n",
    "<br>\n",
    "<br>\n",
    "<b style='color:blue'>x = x + 3</b>\n",
    "<br>\n",
    "<br>\n",
    "On the right side of the assignment operator, 3 is added to x. The result is then assigned to x, replacing the value that x previously referenced."
   ]
  },
  {
   "cell_type": "markdown",
   "metadata": {},
   "source": [
    "<b>Examples:</b>"
   ]
  },
  {
   "cell_type": "markdown",
   "metadata": {},
   "source": [
    "<b style='color:blue'>x = x + 5</b> &nbsp;&nbsp;# Add 5 to x\n",
    "<br><b style='color:blue'>x = x - 4</b> &nbsp;&nbsp;# Subtracts 4 from x\n",
    "<br><b style='color:blue'>x = x * 6</b> &nbsp;&nbsp;# Multiplies x by 6\n",
    "<br><b style='color:blue'>x = x / 3</b> &nbsp;&nbsp;# Divides x by 3\n",
    "<br><b style='color:blue'>x = x % 2</b> &nbsp;&nbsp;# Assigns the remainder of x / 2 to x"
   ]
  },
  {
   "cell_type": "markdown",
   "metadata": {},
   "source": [
    "<b>Important Note:</b> For convenience, Python offers a special set of operators designed specifically for these jobs."
   ]
  },
  {
   "cell_type": "markdown",
   "metadata": {},
   "source": [
    "<b>Examples:</b>"
   ]
  },
  {
   "cell_type": "markdown",
   "metadata": {},
   "source": [
    "<b style='color:blue'>x += 5</b> &nbsp; is the same as &nbsp; <b style='color:blue'>x = x + 5</b>\n",
    "<br>\n",
    "<b style='color:blue'>x -= 4</b> &nbsp; is the same as &nbsp; <b style='color:blue'>x = x - 4</b>\n",
    "<br>\n",
    "<b style='color:blue'>x *= 6</b> &nbsp; is the same as &nbsp; <b style='color:blue'>x = x * 6</b>\n",
    "<br>\n",
    "<b style='color:blue'>x /= 3</b> &nbsp; is the same as &nbsp; <b style='color:blue'>x = x / 3</b>\n",
    "<br>\n",
    "<b style='color:blue'>x %= 2</b> &nbsp; is the same as &nbsp; <b style='color:blue'>x = x % 2</b>"
   ]
  },
  {
   "cell_type": "code",
   "execution_count": null,
   "metadata": {},
   "outputs": [],
   "source": [
    "A"
   ]
  },
  {
   "cell_type": "code",
   "execution_count": null,
   "metadata": {},
   "outputs": [],
   "source": []
  },
  {
   "cell_type": "markdown",
   "metadata": {},
   "source": [
    "## 5. Input Validation"
   ]
  },
  {
   "cell_type": "markdown",
   "metadata": {},
   "source": [
    "Computer cannot tell the difference between good data and bad data\n",
    "<ul><li>If user provides bad input, program will produce bad output</li>\n",
    "<li>It is important to design program such that bad input is never accepted</li></ul>"
   ]
  },
  {
   "cell_type": "markdown",
   "metadata": {},
   "source": [
    "<b>Input validation:</b> the process of inspecting data that has been input to a program, to make sure it is valid before it is used in a computation. \n",
    "<ul><li>If the input is invalid, the program should discard it and prompt the user to enter the correct data.</li>\n",
    "    <li>Commonly accomplished using a while loop which repeats as long as the input is bad</li>\n",
    "    <ul><li>If input is bad, display error message and receive another set of data</li>\n",
    "        <li>If input is good, continue to process the input</li></ul></ul>\n",
    "    "
   ]
  },
  {
   "cell_type": "code",
   "execution_count": 8,
   "metadata": {},
   "outputs": [
    {
     "name": "stdout",
     "output_type": "stream",
     "text": [
      "Enter the hours worked this week: 45\n",
      "error\n",
      "Enter the hours worked this week: 34\n",
      "Enter the hourly pay rate: 12\n",
      "Gross pay: $ 408.00\n"
     ]
    }
   ],
   "source": [
    "# Get the number of hours worked.\n",
    "hours = int(input('Enter the hours worked this week: '))   \n",
    "while(hours > 40):\n",
    "    print('error')\n",
    "    hours = int(input('Enter the hours worked this week: '))   \n",
    "\n",
    "\n",
    "\n",
    "# Get the hourly pay rate.\n",
    "pay_rate = float(input('Enter the hourly pay rate: '))\n",
    "\n",
    "# Calculate the gross pay.\n",
    "gross_pay = hours * pay_rate\n",
    "\n",
    "# Display the gross pay.\n",
    "print('Gross pay: $', format(gross_pay, ',.2f'))"
   ]
  },
  {
   "cell_type": "markdown",
   "metadata": {},
   "source": [
    "<b>Note:</b> Program reads input in two places: \n",
    "<br /><br />\n",
    "<u>First</u> just before the loop, and <u>then</u> inside the loop. \n",
    "<br><br>The first input operation is called a <i>priming read</i>, and its purpose is to get the first input value that will be tested by the validation loop. If that value is invalid, the loop will perform subsequent input operations."
   ]
  },
  {
   "cell_type": "markdown",
   "metadata": {},
   "source": [
    "<b>Example:</b>Suppose you are designing a program that reads a test score and you want to make sure the user does not enter a value less than 0."
   ]
  },
  {
   "cell_type": "code",
   "execution_count": 17,
   "metadata": {},
   "outputs": [
    {
     "name": "stdout",
     "output_type": "stream",
     "text": [
      "Enter the test score: 12\n",
      "score is :12 \n"
     ]
    }
   ],
   "source": [
    "score = int(input('Enter the test score: '))\n",
    "while(score < 0):\n",
    "    print('Invalid test score..Enter score > 0: ')\n",
    "    score = int(input('Enter the test score: '))\n",
    "print(f'score is :{score} ')\n",
    "    "
   ]
  },
  {
   "cell_type": "markdown",
   "metadata": {},
   "source": [
    "## 6. Nested Loops"
   ]
  },
  {
   "cell_type": "markdown",
   "metadata": {},
   "source": [
    "A loop that is inside another loop is called a nested loop."
   ]
  },
  {
   "cell_type": "markdown",
   "metadata": {},
   "source": [
    "Example: analog clock works like a nested loop\n",
    "<ul><li>Hours hand moves once for every twelve movements of the minutes hand: for each iteration of the “hours,” do twelve iterations of “minutes”</li>\n",
    "<li>Seconds hand moves 60 times for each movement of the minutes hand: for each iteration of “minutes,” do 60 iterations of “seconds”</li></ul>"
   ]
  },
  {
   "cell_type": "markdown",
   "metadata": {},
   "source": [
    "<b>Exapmle</b>"
   ]
  },
  {
   "cell_type": "code",
   "execution_count": null,
   "metadata": {},
   "outputs": [],
   "source": [
    "Max = 6\n",
    "for r in range(Max): \n",
    "    for c in range(r):\n",
    "        print('Hello World')"
   ]
  },
  {
   "cell_type": "markdown",
   "metadata": {},
   "source": [
    "<b> Example:</b> write  a program that a teacher use to get the average of each student’s test scores."
   ]
  },
  {
   "cell_type": "code",
   "execution_count": 31,
   "metadata": {},
   "outputs": [
    {
     "name": "stdout",
     "output_type": "stream",
     "text": [
      "Enter total number of students: 2\n",
      "Enter total number of subjects: 2\n",
      "Student 1:\n",
      "Enter the test score: 12\n",
      "Subject 1 score of 1 is 12\n",
      "Enter the test score: 12\n",
      "Subject 2 score of 1 is 12\n",
      "avg = 12.0\n",
      "Student 2:\n",
      "Enter the test score: 12\n",
      "Subject 1 score of 2 is 12\n",
      "Enter the test score: 12\n",
      "Subject 2 score of 2 is 12\n",
      "avg = 24.0\n"
     ]
    }
   ],
   "source": [
    "students = int(input(\"Enter total number of students: \"))\n",
    "subjects = int(input(\"Enter total number of subjects: \"))\n",
    "total = 0\n",
    "for i in range(students):\n",
    "    print(f\"Student {i+1}:\")\n",
    "    for j in range(subjects):\n",
    "        score = int(input('Enter the test score: '))\n",
    "        total+=score\n",
    "        print(f\"Subject {j+1} score of {i+1} is {score}\")\n",
    "    print(f'avg = {total / subjects}')"
   ]
  },
  {
   "cell_type": "markdown",
   "metadata": {},
   "source": [
    "Example: Wrie a code to ask the user to input a number and calculate sum of all numbers between 1 and given number."
   ]
  },
  {
   "cell_type": "code",
   "execution_count": 27,
   "metadata": {},
   "outputs": [
    {
     "name": "stdout",
     "output_type": "stream",
     "text": [
      "Enter a number : 10\n",
      "55\n"
     ]
    }
   ],
   "source": [
    "number = int(input(\"Enter a number : \"))\n",
    "sum=0\n",
    "i=1\n",
    "while(i <= number):\n",
    "    sum+=i\n",
    "    i+=1\n",
    "print(sum)"
   ]
  },
  {
   "cell_type": "markdown",
   "metadata": {},
   "source": [
    "Example: Write a Python program to find those numbers which are divisible by 7 and multiple of 5, between 1200 and 2200 (both included)."
   ]
  },
  {
   "cell_type": "code",
   "execution_count": 33,
   "metadata": {},
   "outputs": [
    {
     "name": "stdout",
     "output_type": "stream",
     "text": [
      "1225\n",
      "1260\n",
      "1295\n",
      "1330\n",
      "1365\n",
      "1400\n",
      "1435\n",
      "1470\n",
      "1505\n",
      "1540\n",
      "1575\n",
      "1610\n",
      "1645\n",
      "1680\n",
      "1715\n",
      "1750\n",
      "1785\n",
      "1820\n",
      "1855\n",
      "1890\n",
      "1925\n",
      "1960\n",
      "1995\n",
      "2030\n",
      "2065\n",
      "2100\n",
      "2135\n",
      "2170\n"
     ]
    }
   ],
   "source": [
    "for i in range(1200,2200):\n",
    "    if( i % 7 == 0 and i % 5 == 0):\n",
    "        print(f'Number divisible by 7 and mulriple of 5 is : {i}')"
   ]
  },
  {
   "cell_type": "markdown",
   "metadata": {},
   "source": [
    "<b>Example:</b> Write a  program that:\n",
    "1) ask the user to enter two numbers as a strating value and ending limit of a range, \n",
    "2) veirfy that starting number is less than endig number.\n",
    "3) in the range(both included), find those numbers which are not divisible by 3."
   ]
  },
  {
   "cell_type": "code",
   "execution_count": 34,
   "metadata": {},
   "outputs": [
    {
     "name": "stdout",
     "output_type": "stream",
     "text": [
      "Enter starting number: 1\n",
      "Enter ending number: 10\n",
      "1 not divisible by 3 \n",
      "2 not divisible by 3 \n",
      "4 not divisible by 3 \n",
      "5 not divisible by 3 \n",
      "7 not divisible by 3 \n",
      "8 not divisible by 3 \n"
     ]
    }
   ],
   "source": [
    "start = int(input(\"Enter starting number: \"))\n",
    "end = int(input(\"Enter ending number: \"))\n",
    "\n",
    "while ( start < end):\n",
    "    if( start % 3 != 0):\n",
    "        print(f'{start} not divisible by 3 ')\n",
    "    start+=1\n"
   ]
  },
  {
   "cell_type": "markdown",
   "metadata": {},
   "source": [
    "<img src='images/week 3/break.png'/>"
   ]
  },
  {
   "cell_type": "code",
   "execution_count": 35,
   "metadata": {},
   "outputs": [
    {
     "name": "stdout",
     "output_type": "stream",
     "text": [
      "0\n",
      "1\n",
      "2\n",
      "3\n",
      "4\n",
      "end of while loop\n"
     ]
    }
   ],
   "source": [
    "n = 0 \n",
    "while n<10:\n",
    "    print(n)\n",
    "    n = n+1\n",
    "    if n ==5:\n",
    "        break\n",
    "print('end of while loop')"
   ]
  },
  {
   "cell_type": "code",
   "execution_count": 36,
   "metadata": {},
   "outputs": [
    {
     "name": "stdout",
     "output_type": "stream",
     "text": [
      "s\n",
      "t\n",
      "r\n",
      "The end\n"
     ]
    }
   ],
   "source": [
    "for val in \"string\":\n",
    "    if val == \"i\":\n",
    "        break\n",
    "    print(val)\n",
    "\n",
    "print(\"The end\")"
   ]
  },
  {
   "cell_type": "markdown",
   "metadata": {},
   "source": [
    "<img src='images/week 3/continue.png'/>"
   ]
  },
  {
   "cell_type": "code",
   "execution_count": 37,
   "metadata": {},
   "outputs": [
    {
     "name": "stdout",
     "output_type": "stream",
     "text": [
      "s\n",
      "t\n",
      "r\n",
      "n\n",
      "g\n",
      "The end\n"
     ]
    }
   ],
   "source": [
    "for val in \"string\":\n",
    "    if val == \"i\":\n",
    "        continue\n",
    "    print(val)\n",
    "\n",
    "print(\"The end\")"
   ]
  },
  {
   "cell_type": "code",
   "execution_count": 38,
   "metadata": {},
   "outputs": [
    {
     "name": "stdout",
     "output_type": "stream",
     "text": [
      "Current Letter : P\n",
      "Current Letter : y\n",
      "Current Letter : t\n",
      "Current Letter : o\n",
      "Current Letter : n\n"
     ]
    }
   ],
   "source": [
    "for letter in 'Python':\n",
    "    if letter == 'h':\n",
    "        continue\n",
    "    print('Current Letter :', letter)"
   ]
  },
  {
   "cell_type": "code",
   "execution_count": 39,
   "metadata": {},
   "outputs": [
    {
     "name": "stdout",
     "output_type": "stream",
     "text": [
      "Current variable value : 9\n",
      "Current variable value : 8\n",
      "Current variable value : 7\n",
      "Current variable value : 6\n",
      "Current variable value : 4\n",
      "Current variable value : 3\n",
      "Current variable value : 2\n",
      "Current variable value : 1\n",
      "Current variable value : 0\n",
      "Good bye!\n"
     ]
    }
   ],
   "source": [
    "var = 10                  \n",
    "while var > 0:              \n",
    "    var = var -1\n",
    "    if var == 5:\n",
    "        continue\n",
    "    print('Current variable value :', var)\n",
    "print (\"Good bye!\")"
   ]
  }
 ],
 "metadata": {
  "kernelspec": {
   "display_name": "Python 3 (ipykernel)",
   "language": "python",
   "name": "python3"
  },
  "language_info": {
   "codemirror_mode": {
    "name": "ipython",
    "version": 3
   },
   "file_extension": ".py",
   "mimetype": "text/x-python",
   "name": "python",
   "nbconvert_exporter": "python",
   "pygments_lexer": "ipython3",
   "version": "3.10.2"
  }
 },
 "nbformat": 4,
 "nbformat_minor": 4
}
