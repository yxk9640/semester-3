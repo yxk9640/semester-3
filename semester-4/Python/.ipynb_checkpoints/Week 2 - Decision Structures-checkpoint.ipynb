{
 "cells": [
  {
   "cell_type": "markdown",
   "metadata": {},
   "source": [
    "        Introduction to Programming: Python\n",
    "        Neshat Beheshti\n",
    "        University of Texas Arlington\n",
    "        \n",
    "        This document can only be used for class studies. \n",
    "        You are not allowed to share it in any public platform."
   ]
  },
  {
   "cell_type": "markdown",
   "metadata": {},
   "source": [
    "        The Material for this Notebook is Adopted from \n",
    "        Starting Out with Python (4th Edition)- by Tony Gaddis Pearson"
   ]
  },
  {
   "cell_type": "markdown",
   "metadata": {},
   "source": [
    "<h1 align='center' style=\"color: blue;\">Decision Structures and Boolean Logic</h1>"
   ]
  },
  {
   "cell_type": "markdown",
   "metadata": {},
   "source": [
    "<b>Control structure:</b> logical design that controls order in which set of statements execute.\n",
    "<br><br>\n",
    "Two basic types of control structures:\n",
    "<ol>\n",
    "    <li>Sequence structure</li>\n",
    "    <li>Decision structure</li>\n",
    "</ol>    "
   ]
  },
  {
   "cell_type": "markdown",
   "metadata": {},
   "source": [
    "<b>1. Sequence structure:</b> set of statements that execute in the order they appear."
   ]
  },
  {
   "cell_type": "markdown",
   "metadata": {},
   "source": [
    "<b>Example:<b>"
   ]
  },
  {
   "cell_type": "code",
   "execution_count": null,
   "metadata": {},
   "outputs": [],
   "source": [
    "name = input('What is your name? ') \n",
    "age = int(input('What is your age? ')) \n",
    "\n",
    "print('Here is the data you entered:') \n",
    "print('Name:', name)\n",
    "print('Age:', age)"
   ]
  },
  {
   "cell_type": "markdown",
   "metadata": {},
   "source": [
    "Example: writing a program that determines whether an employee has worked overtime. If an employee has worked more than 40 hours, she/he gets paid extra for all the hours over 40. Otherwise, the overtime calculation should be skipped."
   ]
  },
  {
   "cell_type": "markdown",
   "metadata": {},
   "source": [
    "<b>2. Decision structure:</b> specific action(s) performed only if a condition exists. \n",
    "<ul><li>Also known as selection structure</li>\n",
    "</ul>"
   ]
  },
  {
   "cell_type": "markdown",
   "metadata": {},
   "source": [
    "<ul>\n",
    "    <li>In flowchart, diamond represents true/false condition that must be tested.</li>\n",
    "    <li>Actions can be conditionally executed</li>\n",
    "    <ul>\n",
    "        <li>Performed only when a condition is true.</li></ul>"
   ]
  },
  {
   "cell_type": "markdown",
   "metadata": {},
   "source": [
    " <li>Single alternative decision structure: provides only one alternative path of execution.</li>\n",
    "        <ul><li>If condition is not true, exit the structure.</li></ul>\n",
    "</ul>"
   ]
  },
  {
   "cell_type": "markdown",
   "metadata": {},
   "source": [
    "<img src='https://www.dropbox.com/s/6qs2se5zicnin7i/Decision%20Structure.png?raw=1' />\n",
    "\n",
    "<i>Source: Starting Out with Python (4th Edition)- by Tony Gaddis Pearson</i>"
   ]
  },
  {
   "cell_type": "markdown",
   "metadata": {},
   "source": [
    "## 1. The <i>if</i> Statement "
   ]
  },
  {
   "cell_type": "markdown",
   "metadata": {},
   "source": [
    "The <b><span style='color:blue'>if</span></b> statement is used to create a decision structure, which allows a program to have <u>more than one</u> path of execution. \n",
    "<ul><li>In Python, we use the <b><span style='color:blue'>if</span></b> statement to write a <i>single alternative decision structure</i>.</li></ul>"
   ]
  },
  {
   "cell_type": "markdown",
   "metadata": {},
   "source": [
    "The general format of the <i>if</i> statement:\n",
    "\n",
    "<i><b>if</b> <span style='color:blue'>condition</span>: \n",
    "<br>&nbsp;&nbsp;&nbsp;&nbsp;&nbsp;&nbsp;statement \n",
    "<br>&nbsp;&nbsp;&nbsp;&nbsp;&nbsp;&nbsp;statement\n",
    "<br>&nbsp;&nbsp;&nbsp;&nbsp;&nbsp;&nbsp;etc.</i>"
   ]
  },
  {
   "cell_type": "markdown",
   "metadata": {},
   "source": [
    "<ul>\n",
    "    <li>The word <b>if</b>, followed by a <i>condition</i>, which is an expression that will be evaluated as either true or false.</li> \n",
    "    <li>A colon appears after the condition.</li> \n",
    "        <li>Beginning at the next line is a block of statements.</li> \n",
    "    <ul><li>A block is a set of statements that belong together as a group.</li> \n",
    "        <li>All the statements in the block are <b>indented</b> to tell where the block begins and ends.</li>\n",
    "        </ul>\n",
    "        </ul>"
   ]
  },
  {
   "cell_type": "markdown",
   "metadata": {},
   "source": [
    "<b>Note:</b> When the <i>if</i> statement executes, the condition is tested.<br>\n",
    "<ul>\n",
    "    <li>If the condition is <b>true</b>, the statements that appear in the block following the if clause are executed.</li>\n",
    "    <li>If the condition is <b>false</b>, the statements in the block are skipped.</li>\n",
    "</ul>"
   ]
  },
  {
   "cell_type": "markdown",
   "metadata": {},
   "source": [
    "### 1.1. Boolean Expressions and Relational Operators"
   ]
  },
  {
   "cell_type": "markdown",
   "metadata": {},
   "source": [
    "<b><u><i>Boolean expressions:</i></u></b> the expressions that are tested by the if statement to determine if it is true or false.\n",
    "<ul>Example: x > y\n",
    " <br>true if x is greater than y; \n",
    "    <br>false otherwise\n",
    "</ul>"
   ]
  },
  {
   "cell_type": "markdown",
   "metadata": {},
   "source": [
    "<b><u><i>Relational operator:</i></u></b> determines whether a specific relationship exists between two values.\n",
    "<ul>Example: less than (<)</ul>"
   ]
  },
  {
   "cell_type": "markdown",
   "metadata": {},
   "source": [
    "<img src='https://www.dropbox.com/s/rwd3orxdqizmr27/Boolean%20expressions%20using%20relational%20operators.png?raw=1' />\n",
    "\n",
    "<i>Source: Starting Out with Python (4th Edition)- by Tony Gaddis Pearson</i>"
   ]
  },
  {
   "cell_type": "markdown",
   "metadata": {},
   "source": [
    "<b>Example 1: </b>"
   ]
  },
  {
   "cell_type": "code",
   "execution_count": 1,
   "metadata": {},
   "outputs": [],
   "source": [
    "x = 20\n",
    "y = 54"
   ]
  },
  {
   "cell_type": "code",
   "execution_count": 2,
   "metadata": {},
   "outputs": [
    {
     "data": {
      "text/plain": [
       "False"
      ]
     },
     "execution_count": 2,
     "metadata": {},
     "output_type": "execute_result"
    }
   ],
   "source": [
    "x > y"
   ]
  },
  {
   "cell_type": "code",
   "execution_count": 3,
   "metadata": {},
   "outputs": [
    {
     "data": {
      "text/plain": [
       "True"
      ]
     },
     "execution_count": 3,
     "metadata": {},
     "output_type": "execute_result"
    }
   ],
   "source": [
    "x < y"
   ]
  },
  {
   "cell_type": "markdown",
   "metadata": {},
   "source": [
    "<b>Example 2: </b>"
   ]
  },
  {
   "cell_type": "code",
   "execution_count": 4,
   "metadata": {},
   "outputs": [],
   "source": [
    "x = 1\n",
    "y = 0\n",
    "z = 1"
   ]
  },
  {
   "cell_type": "code",
   "execution_count": 5,
   "metadata": {},
   "outputs": [
    {
     "data": {
      "text/plain": [
       "False"
      ]
     },
     "execution_count": 5,
     "metadata": {},
     "output_type": "execute_result"
    }
   ],
   "source": [
    "x <= y"
   ]
  },
  {
   "cell_type": "code",
   "execution_count": 6,
   "metadata": {},
   "outputs": [
    {
     "data": {
      "text/plain": [
       "True"
      ]
     },
     "execution_count": 6,
     "metadata": {},
     "output_type": "execute_result"
    }
   ],
   "source": [
    "x >= y"
   ]
  },
  {
   "cell_type": "code",
   "execution_count": 7,
   "metadata": {},
   "outputs": [
    {
     "data": {
      "text/plain": [
       "True"
      ]
     },
     "execution_count": 7,
     "metadata": {},
     "output_type": "execute_result"
    }
   ],
   "source": [
    "x >= z"
   ]
  },
  {
   "cell_type": "markdown",
   "metadata": {},
   "source": [
    "<b>Example 3:</b>"
   ]
  },
  {
   "cell_type": "code",
   "execution_count": 8,
   "metadata": {},
   "outputs": [],
   "source": [
    "x = 1\n",
    "y = 0\n",
    "z = 1"
   ]
  },
  {
   "cell_type": "code",
   "execution_count": 9,
   "metadata": {},
   "outputs": [
    {
     "data": {
      "text/plain": [
       "False"
      ]
     },
     "execution_count": 9,
     "metadata": {},
     "output_type": "execute_result"
    }
   ],
   "source": [
    "x == y"
   ]
  },
  {
   "cell_type": "code",
   "execution_count": 10,
   "metadata": {},
   "outputs": [
    {
     "data": {
      "text/plain": [
       "True"
      ]
     },
     "execution_count": 10,
     "metadata": {},
     "output_type": "execute_result"
    }
   ],
   "source": [
    "x ==z"
   ]
  },
  {
   "cell_type": "markdown",
   "metadata": {},
   "source": [
    "<b>Example 4:<b>"
   ]
  },
  {
   "cell_type": "code",
   "execution_count": 11,
   "metadata": {},
   "outputs": [],
   "source": [
    "x = 1\n",
    "y = 0\n",
    "z = 1"
   ]
  },
  {
   "cell_type": "code",
   "execution_count": 12,
   "metadata": {},
   "outputs": [
    {
     "data": {
      "text/plain": [
       "True"
      ]
     },
     "execution_count": 12,
     "metadata": {},
     "output_type": "execute_result"
    }
   ],
   "source": [
    "x != y"
   ]
  },
  {
   "cell_type": "code",
   "execution_count": 13,
   "metadata": {},
   "outputs": [
    {
     "data": {
      "text/plain": [
       "False"
      ]
     },
     "execution_count": 13,
     "metadata": {},
     "output_type": "execute_result"
    }
   ],
   "source": [
    "x != z "
   ]
  },
  {
   "cell_type": "markdown",
   "metadata": {},
   "source": [
    "Let’s look at a more meaningful examples of the <i>if</i> statement:"
   ]
  },
  {
   "cell_type": "markdown",
   "metadata": {},
   "source": [
    "<b>Example 5:</b> "
   ]
  },
  {
   "cell_type": "markdown",
   "metadata": {},
   "source": [
    "<b><i>if</i></b>&nbsp;  <span style='color:blue'>sales > 50000</span>: \n",
    "<br>&nbsp;&nbsp;&nbsp;&nbsp;&nbsp;&nbsp;bonus = 500.0"
   ]
  },
  {
   "cell_type": "markdown",
   "metadata": {},
   "source": [
    "<img src='https://www.dropbox.com/s/kshz3oucubbhys5/decision%20structure1.png?raw=1' />\n",
    "\n",
    "<i>Source: Starting Out with Python (4th Edition)- by Tony Gaddis Pearson</i>"
   ]
  },
  {
   "cell_type": "markdown",
   "metadata": {},
   "source": [
    "<b>Example 6:</b> "
   ]
  },
  {
   "cell_type": "markdown",
   "metadata": {},
   "source": [
    "<b><i>if</i></b>&nbsp;  <span style='color:blue'>sales > 50000</span>: \n",
    "<br>&nbsp;&nbsp;&nbsp;&nbsp;&nbsp;&nbsp;bonus = 500.0\n",
    "<br>&nbsp;&nbsp;&nbsp;&nbsp;&nbsp;&nbsp;commission_rate = 0.12\n",
    "<br>&nbsp;&nbsp;&nbsp;&nbsp;&nbsp;&nbsp;print('You met your sales quota!')"
   ]
  },
  {
   "cell_type": "markdown",
   "metadata": {},
   "source": [
    "<img src='https://www.dropbox.com/s/vifhchlnsyi4ps9/Example%20decision%20structure.png?raw=1' />\n",
    "\n",
    "<i>Source: Starting Out with Python (4th Edition)- by Tony Gaddis Pearson</i>"
   ]
  },
  {
   "cell_type": "code",
   "execution_count": 15,
   "metadata": {},
   "outputs": [
    {
     "name": "stdout",
     "output_type": "stream",
     "text": [
      "Enter the sales: 10000\n"
     ]
    }
   ],
   "source": [
    "Min_sales = 50000\n",
    "\n",
    "Sales = int(input('Enter the sales: '))\n",
    "\n",
    "if Sales>Min_sales:\n",
    "    bonus = 500.0\n",
    "    comission_rate = 0.12\n",
    "    print('You met your sales quota!')"
   ]
  },
  {
   "cell_type": "markdown",
   "metadata": {},
   "source": [
    "<b>Question:</b> Why we put the <i>input</i> function inside int function?"
   ]
  },
  {
   "cell_type": "markdown",
   "metadata": {},
   "source": [
    "<b>Example:</b> Write an if statement that assigns 0.2 to commission_rate if sales is greater than or equal to 10000."
   ]
  },
  {
   "cell_type": "code",
   "execution_count": 2,
   "metadata": {},
   "outputs": [
    {
     "name": "stdout",
     "output_type": "stream",
     "text": [
      "What is the sales: 1000\n"
     ]
    }
   ],
   "source": [
    "Sales = int(input('What is the sales: '))\n",
    "\n",
    "if Sales>=10000:\n",
    "    commission_rate = .2\n",
    "    print('You met your sales quota!')\n",
    "    "
   ]
  },
  {
   "cell_type": "markdown",
   "metadata": {},
   "source": [
    "<b>Example:</b> Now, it's your turn. Write a code to ask the user for her/his birth year. write a message for the user if he/she is older than 25 years old."
   ]
  },
  {
   "cell_type": "code",
   "execution_count": 5,
   "metadata": {},
   "outputs": [
    {
     "name": "stdout",
     "output_type": "stream",
     "text": [
      "Enter your birth year: 2008\n"
     ]
    }
   ],
   "source": [
    "birth_year = int(input('Enter your birth year: '))\n",
    "Age = 2022-birth_year\n",
    "\n",
    "if Age>25:\n",
    "    print('You are older than 25')"
   ]
  },
  {
   "cell_type": "markdown",
   "metadata": {},
   "source": [
    "## 2. The <i>if-else</i> Statement "
   ]
  },
  {
   "cell_type": "markdown",
   "metadata": {},
   "source": [
    "<b>Dual alternative decision structure</b>: has two possible paths of execution.\n",
    "<ul><li>One path is taken if a condition is true, and the other path is taken if the condition is false.</li></ul>"
   ]
  },
  {
   "cell_type": "markdown",
   "metadata": {},
   "source": [
    "<img src='https://www.dropbox.com/s/y8x5w8rq33focjy/else-if%20Flowchart.png?raw=1' width=600/>\n",
    "\n",
    "<i>Source: Starting Out with Python (4th Edition)- by Tony Gaddis Pearson</i>"
   ]
  },
  {
   "cell_type": "markdown",
   "metadata": {},
   "source": [
    "An <b><span style='color:blue'>if-else</span></b> statement will execute one block of statements if its condition is true, or another block if its condition is false."
   ]
  },
  {
   "cell_type": "markdown",
   "metadata": {},
   "source": [
    "The general format of the <i>if-else</i> statement:"
   ]
  },
  {
   "cell_type": "markdown",
   "metadata": {},
   "source": [
    "<i><b>if</b></i> <span style='color:blue'>condition</span>:\n",
    "<br>&nbsp;&nbsp;&nbsp;&nbsp;&nbsp;&nbsp;statement \n",
    "<br>&nbsp;&nbsp;&nbsp;&nbsp;&nbsp;&nbsp;statement\n",
    "<br>&nbsp;&nbsp;&nbsp;&nbsp;&nbsp;&nbsp;etc.</i>\n",
    "<br><i><b>else:</b></i>  \n",
    "&nbsp;&nbsp;&nbsp;&nbsp;&nbsp;&nbsp;statement \n",
    "<br>&nbsp;&nbsp;&nbsp;&nbsp;&nbsp;&nbsp;statement\n",
    "<br>&nbsp;&nbsp;&nbsp;&nbsp;&nbsp;&nbsp;etc."
   ]
  },
  {
   "cell_type": "markdown",
   "metadata": {},
   "source": [
    "When this statement executes, the condition is tested:\n",
    "<img src='https://www.dropbox.com/s/526b57jupcgmbb2/Conditional%20execution%20in%20an%20if-else%20statement.png?raw=1' width=600/>\n",
    "\n",
    "<i>Source: Starting Out with Python (4th Edition)- by Tony Gaddis Pearson</i>"
   ]
  },
  {
   "cell_type": "markdown",
   "metadata": {},
   "source": [
    "<b>Example:</b>"
   ]
  },
  {
   "cell_type": "code",
   "execution_count": 12,
   "metadata": {},
   "outputs": [
    {
     "name": "stdout",
     "output_type": "stream",
     "text": [
      "whats is today temperature? 51\n",
      "It's Hot\n"
     ]
    }
   ],
   "source": [
    "temperature = int(input('whats is today temperature? '))\n",
    "if temperature < 40:\n",
    "    print(\"A little cold, isn't it?\")\n",
    "else temperature < 50:\n",
    "    print(\"Nice weather we're having.\")\n"
   ]
  },
  {
   "cell_type": "markdown",
   "metadata": {},
   "source": [
    "### 2.1 Indentation in the if-else Statement"
   ]
  },
  {
   "cell_type": "markdown",
   "metadata": {},
   "source": [
    "<b>Important:</b> When you write an if-else statement, follow these guidelines for indentation:\n",
    "<ul>\n",
    "    <li>The <i>if</i> clause and the <i>else</i> clause should be aligned.</li>\n",
    "    <li>The <i>if</i> clause and the <i>else</i> clause each are followed by a block of statements.</li>\n",
    "    <li>The statements in the blocks are consistently indented.</li>\n",
    "</ul>    "
   ]
  },
  {
   "cell_type": "markdown",
   "metadata": {},
   "source": [
    "<img src='https://www.dropbox.com/s/s4x0ipi87vd94lk/Indentation%20with%20an%20if-else%20statement.png?raw=1' />\n",
    "\n",
    "<i>Source: Starting Out with Python (4th Edition)- by Tony Gaddis Pearson</i>"
   ]
  },
  {
   "cell_type": "markdown",
   "metadata": {},
   "source": [
    "<b>Example:</b> Now, it's your turn. Write a code to ask the user for her/his birth year. Then use if-else structure to write an appropriate message to the user."
   ]
  },
  {
   "cell_type": "code",
   "execution_count": 19,
   "metadata": {},
   "outputs": [
    {
     "name": "stdout",
     "output_type": "stream",
     "text": [
      "Enter your birth year: 1980\n",
      "You are older than 25\n"
     ]
    }
   ],
   "source": [
    "# Write your code here\n",
    "birth_year = int(input('Enter your birth year: '))\n",
    "Age = 2022-birth_year\n",
    "\n",
    "if Age>25:\n",
    "    print('You are older than 25')\n",
    "else:\n",
    "    print('You are younger than 25')"
   ]
  },
  {
   "cell_type": "markdown",
   "metadata": {},
   "source": [
    "## 3.Comparing Strings"
   ]
  },
  {
   "cell_type": "markdown",
   "metadata": {},
   "source": [
    "Strings can be compared using the <b>==</b> and <b>!=</b> operators"
   ]
  },
  {
   "cell_type": "markdown",
   "metadata": {},
   "source": [
    "<b>Examples:</b>"
   ]
  },
  {
   "cell_type": "code",
   "execution_count": 20,
   "metadata": {},
   "outputs": [
    {
     "name": "stdout",
     "output_type": "stream",
     "text": [
      "The names are NOT the same.\n"
     ]
    }
   ],
   "source": [
    "name1 = 'Mary'\n",
    "name2 = 'Mark'\n",
    "\n",
    "if name1 == name2:\n",
    "    print('The names are the same.')\n",
    "else:\n",
    "    print('The names are NOT the same.')"
   ]
  },
  {
   "cell_type": "code",
   "execution_count": 21,
   "metadata": {},
   "outputs": [
    {
     "name": "stdout",
     "output_type": "stream",
     "text": [
      "The names are different\n"
     ]
    }
   ],
   "source": [
    "name1 = 'Mary'\n",
    "name2 = 'Mark'\n",
    "\n",
    "if name1 != name2:\n",
    "    print('The names are different')\n",
    "else:\n",
    "    print('The names are the same')"
   ]
  },
  {
   "cell_type": "code",
   "execution_count": null,
   "metadata": {},
   "outputs": [],
   "source": [
    "# Get a password from the user.\n",
    "password = input('Enter the password:')\n",
    "\n",
    "if password == 'Prosper':\n",
    "    print('password accepted')\n",
    "else:\n",
    "    print('Sorry, that is the wrong password.')"
   ]
  },
  {
   "cell_type": "markdown",
   "metadata": {},
   "source": [
    "<b>Note:</b> String comparisons are case sensitive. \n",
    "<ul><li>the strings <span style='color:green'>'Monday'</span> and <span style='color:green'>'monday'</span> are not equal</li></ul>"
   ]
  },
  {
   "cell_type": "markdown",
   "metadata": {},
   "source": [
    "<b>Example:</b>"
   ]
  },
  {
   "cell_type": "code",
   "execution_count": null,
   "metadata": {},
   "outputs": [],
   "source": [
    "name1 = 'John'\n",
    "name2 = 'john'\n",
    "\n",
    "if name1 == name2:\n",
    "    print('the names are the same')\n",
    "else:\n",
    "    print('the names are different')\n"
   ]
  },
  {
   "cell_type": "markdown",
   "metadata": {},
   "source": [
    "We can determine whether one string is greater than or less than another string, using >, <, >=, and <=\n",
    "<ul><li>Computers do not store characters, such as A, B, C,.., in memory. They store numeric codes that represent the characters. Here are some facts about it:\n",
    "<ul>\n",
    "    <li>The uppercase characters <span style='color:blue'>A</span> through <span style='color:blue'>Z</span> are represented by the numbers <b>65</b> through <b>90</b>.</li>\n",
    "    <li>The lowercase characters <span style='color:blue'>a</span> through <span style='color:blue'>z</span> are represented by the numbers <b>97</b> through <b>122</b>.</li>\n",
    "    <li>When the digits <span style='color:blue'>0</span> through <span style='color:blue'>9</span> are stored in memory as <b>characters</b>, they are represented by the numbers <b>48</b> through <b>57</b>. </li>\n",
    "    <ul>\n",
    "        <li><b>Example</b>: the string 'abc123' would be stored in memory as the codes 97, 98, 99, 49, 50, and 51.</li>\n",
    "    </ul>\n",
    "    <li>A blank space is represented by the number <b>32</b>.</li>\n",
    "    </ul></li></ul>\n",
    "\n"
   ]
  },
  {
   "cell_type": "markdown",
   "metadata": {},
   "source": [
    "<b>Example:</b>"
   ]
  },
  {
   "cell_type": "code",
   "execution_count": null,
   "metadata": {},
   "outputs": [],
   "source": [
    "if 'a' < 'b':\n",
    "    print('The letter a is less than the letter b.')"
   ]
  },
  {
   "cell_type": "markdown",
   "metadata": {},
   "source": [
    "Lets see this example again:\n",
    "<br>name1 = 'Mary'\n",
    "<br>name2 = 'Mark'\n",
    "\n",
    "<img src='https://www.dropbox.com/s/o5rr5t1n4ldh5ty/Character%20codes%20for%20the%20strings.png?raw=1' />\n",
    "\n",
    "<i>Source: Starting Out with Python (4th Edition)- by Tony Gaddis Pearson</i>\n",
    "<br><br>When you use relational operators to compare these strings, the strings are compared character-by-character. "
   ]
  },
  {
   "cell_type": "markdown",
   "metadata": {},
   "source": [
    "<img src='https://www.dropbox.com/s/bdp3oyix86j0vzl/Comparing%20each%20character.png?raw=1' />\n",
    "\n",
    "<i>Source: Starting Out with Python (4th Edition)- by Tony Gaddis Pearson</i>"
   ]
  },
  {
   "cell_type": "markdown",
   "metadata": {},
   "source": [
    "<b>Example:</b>"
   ]
  },
  {
   "cell_type": "code",
   "execution_count": 22,
   "metadata": {},
   "outputs": [
    {
     "name": "stdout",
     "output_type": "stream",
     "text": [
      "Mary is greater than Mark\n"
     ]
    }
   ],
   "source": [
    "name1 = 'Mary'\n",
    "name2 = 'Mark'\n",
    "\n",
    "if name1 > name2:\n",
    "    print('Mary is greater than Mark')\n",
    "else:\n",
    "    print('Mary is not greater than Mark')"
   ]
  },
  {
   "cell_type": "markdown",
   "metadata": {},
   "source": [
    "<b>Note:</b> If one of the strings in a comparison is shorter than the other, only the corresponding characters will be compared. If the corresponding characters are identical, then the shorter string is considered less than the longer string.\n",
    "<ul>Example: 'Hi' and 'High'</ul>"
   ]
  },
  {
   "cell_type": "markdown",
   "metadata": {},
   "source": [
    "<b>Examples:</b>"
   ]
  },
  {
   "cell_type": "code",
   "execution_count": 13,
   "metadata": {},
   "outputs": [
    {
     "name": "stdout",
     "output_type": "stream",
     "text": [
      "Hi is less than High\n"
     ]
    }
   ],
   "source": [
    "name1 = 'Hi'\n",
    "name2 = 'High'\n",
    "\n",
    "if name1 < name2:\n",
    "    print('Hi is less than High')\n",
    "else:\n",
    "    print('High is less than Hi')"
   ]
  },
  {
   "cell_type": "code",
   "execution_count": 24,
   "metadata": {},
   "outputs": [
    {
     "name": "stdout",
     "output_type": "stream",
     "text": [
      "Enter a name (last name, first name): Bara,John\n",
      "Enter another name (last name, first name): Tana,Sara\n",
      "Bara,John\n",
      "Tana,Sara\n"
     ]
    }
   ],
   "source": [
    "# Get two names from the user.\n",
    "name1 = input('Enter a name (last name, first name): ')\n",
    "name2 = input('Enter another name (last name, first name): ')\n",
    "\n",
    "if name1 < name2: \n",
    "    print(name1) \n",
    "    print(name2)\n",
    "else: \n",
    "    print(name2)\n",
    "    print(name1)"
   ]
  },
  {
   "cell_type": "markdown",
   "metadata": {},
   "source": [
    "<b>Example:</b> Now, it's your turn. Write a code to ask the user to input two names. Then compare the names and print a message to show which one is greater."
   ]
  },
  {
   "cell_type": "code",
   "execution_count": 25,
   "metadata": {},
   "outputs": [
    {
     "name": "stdout",
     "output_type": "stream",
     "text": [
      "Enter a name for user#1: Ali\n",
      "Enter a name for user#2: Tara\n",
      "Tara is greater than Ali\n"
     ]
    }
   ],
   "source": [
    "# Write your code here\n",
    "name1 = input('Enter a name for user#1: ')\n",
    "name2 = input('Enter a name for user#2: ')\n",
    "\n",
    "if name1>name2:\n",
    "    print(f'{name1} is greater than {name2}')\n",
    "else:\n",
    "    print(f'{name2} is greater than {name1}')"
   ]
  },
  {
   "cell_type": "markdown",
   "metadata": {},
   "source": [
    "## 4. Nested Decision Structures and the <i>if-elif-else</i> Statement"
   ]
  },
  {
   "cell_type": "markdown",
   "metadata": {},
   "source": [
    "To test more than one condition, a decision structure can be nested inside another decision structure.\n",
    "<ul>Example:\n",
    "    <ul><li>Determine if someone qualifies for a loan, they must meet two conditions:</li>\n",
    "<ul><li>Must earn at least $30,000/year</li>\n",
    "<li>Must have been employed for at least two years</li></ul>\n",
    "<li>Check first condition, and if it is true, check second condition</li>\n",
    "</ul>"
   ]
  },
  {
   "cell_type": "markdown",
   "metadata": {},
   "source": [
    "<img src='https://www.dropbox.com/s/5kwo1bwx1if1bdu/A%20nested%20decision%20structure.png?raw=1' />\n",
    "\n",
    "<i>Source: Starting Out with Python (4th Edition)- by Tony Gaddis Pearson</i>"
   ]
  },
  {
   "cell_type": "markdown",
   "metadata": {},
   "source": [
    "<b>Example:</b>"
   ]
  },
  {
   "cell_type": "code",
   "execution_count": null,
   "metadata": {},
   "outputs": [],
   "source": [
    "# Assume the minimum annual salary and the minimum years on the job are as fallows:\n",
    "MIN_SALARY = 30000\n",
    "MIN_YEARS = 2\n",
    "# Get the customer's annual salary.\n",
    "salary = float(input('Enter your annual salary: '))\n",
    "\n",
    "# Get the number of years on the current job.\n",
    "years_on_job = int(input('Enter the number of years employed: '))\n",
    "\n",
    "# Determine whether the customer qualifies. if salary >= MIN_SALARY:\n",
    "if salary >= MIN_SALARY:\n",
    "    if years_on_job >= MIN_YEARS: \n",
    "        print('You qualify for the loan.')\n",
    "    else:\n",
    "        print('You must have been employed for at least', MIN_YEARS, 'years to qualify.')\n",
    "else:\n",
    "    print(f'You must earn at least $ {MIN_SALARY:.2f} per year to qualify.')"
   ]
  },
  {
   "cell_type": "markdown",
   "metadata": {},
   "source": [
    "<b>Note:</b> Important to use proper indentation in a nested decision structure.\n",
    "<ul>\n",
    "    <li>Important for Python interpreter</li>\n",
    "<li>Makes code more readable for programmer</li>\n",
    "    <li>Follow these rules when writing nested if statements:</li>\n",
    "<ul>\n",
    "    <li>Each else clause is aligned with its matching if clause.</li>\n",
    "    <li>The statements in each block are consistently indented.</li>\n",
    "    <li>Notice each statement in each block is indented the same amount.</li>\n",
    "    </ul></ul>"
   ]
  },
  {
   "cell_type": "markdown",
   "metadata": {},
   "source": [
    "<img src='https://www.dropbox.com/s/sa79dx8iocqcj08/Alignment%20of%20if%20and%20else%20clauses.png?raw=1' />\n",
    "\n",
    "<i>Source: Starting Out with Python (4th Edition)- by Tony Gaddis Pearson</i>"
   ]
  },
  {
   "cell_type": "markdown",
   "metadata": {},
   "source": [
    "### 4.1. the <i>if-elif-else</i> Statement"
   ]
  },
  {
   "cell_type": "markdown",
   "metadata": {},
   "source": [
    "<b>if-elif-else statement:</b> special version of a decision structure\n",
    "<ul><li>Makes logic of nested decision structures simpler to write</li>\n",
    "    <li>Can include multiple <i>elif</i> statements</li>\n",
    "</ul>"
   ]
  },
  {
   "cell_type": "markdown",
   "metadata": {},
   "source": [
    "The general format of the <i>if-elif-else</i> statement:\n",
    "<br>\n",
    "<b><i>if</i></b> <span style='color:blue'>condition_1</span>: \n",
    "<br>&nbsp;&nbsp;&nbsp;&nbsp;&nbsp;&nbsp;&nbsp;&nbsp;statement \n",
    "<br>&nbsp;&nbsp;&nbsp;&nbsp;&nbsp;&nbsp;&nbsp;&nbsp;statement\n",
    "<br>&nbsp;&nbsp;&nbsp;&nbsp;&nbsp;&nbsp;&nbsp;&nbsp;etc.\n",
    "<br>\n",
    "<b><i>elif</i></b> <span style='color:blue'>condition_2</span>:\n",
    "<br>&nbsp;&nbsp;&nbsp;&nbsp;&nbsp;&nbsp;&nbsp;&nbsp;statement\n",
    "<br>&nbsp;&nbsp;&nbsp;&nbsp;&nbsp;&nbsp;&nbsp;&nbsp;statement\n",
    "<br>&nbsp;&nbsp;&nbsp;&nbsp;&nbsp;&nbsp;&nbsp;&nbsp;etc.\n",
    "<br><br><i><u>Insert as many elif clauses as necessary . . .</u></i><br>\n",
    "<br><b><i>else</i></b>:\n",
    "<br>&nbsp;&nbsp;&nbsp;&nbsp;&nbsp;&nbsp;&nbsp;&nbsp;statement\n",
    "<br>&nbsp;&nbsp;&nbsp;&nbsp;&nbsp;&nbsp;&nbsp;&nbsp;statement\n",
    "<br>&nbsp;&nbsp;&nbsp;&nbsp;&nbsp;&nbsp;&nbsp;&nbsp;etc."
   ]
  },
  {
   "cell_type": "markdown",
   "metadata": {},
   "source": [
    "Alignment used with if-elif-else statement:\n",
    "<ul><li>if, elif, and else clauses are all aligned.</li>\n",
    "    <li>Conditionally executed blocks are consistently indented.</li>\n",
    "</ul>\n"
   ]
  },
  {
   "cell_type": "markdown",
   "metadata": {},
   "source": [
    "The if-elif-else statement is never required because its logic can be coded with nested if-else statements.\n",
    "<br><br>The advantages of using if-elif-else statement instead is:\n",
    "<ul><li>Easier to follow than a long series of nested if-else statements.</li> \n",
    "    <li>The lengths of the lines in the statement tend to be shorter.</li>\n",
    "</ul>"
   ]
  },
  {
   "cell_type": "markdown",
   "metadata": {},
   "source": [
    "<b>Example:</b>"
   ]
  },
  {
   "cell_type": "markdown",
   "metadata": {},
   "source": [
    "<img src='https://www.dropbox.com/s/2whotranlfhr5d2/Nested%20decision%20structure.png?raw=1' />\n",
    "\n",
    "<i>Source: Starting Out with Python (4th Edition)- by Tony Gaddis Pearson</i>"
   ]
  },
  {
   "cell_type": "code",
   "execution_count": null,
   "metadata": {},
   "outputs": [],
   "source": [
    "A_score = 90\n",
    "B_score = 80\n",
    "C_score = 70\n",
    "D_score = 60\n",
    "\n",
    "Score = int(input('What is you score: '))\n",
    "\n",
    "if Score >= A_score:\n",
    "    print('Your grade is A')\n",
    "elif Score >= B_score:\n",
    "    print('Your grade is B')\n",
    "elif Score >= C_score:\n",
    "    print('Your grade is C')\n",
    "elif Score >= D_score:\n",
    "    print('Your grade is D')\n",
    "else:\n",
    "    print('Your grade is F')"
   ]
  },
  {
   "cell_type": "markdown",
   "metadata": {},
   "source": [
    "<b>Example:</b> Now, it's your turn. Write a code to ask the user to input an integer between 1-7 representing day of the week. Then write a code to print the associated name of the day for that number.  "
   ]
  },
  {
   "cell_type": "code",
   "execution_count": 27,
   "metadata": {},
   "outputs": [
    {
     "name": "stdout",
     "output_type": "stream",
     "text": [
      "Enter a number between 1-7: 10\n",
      " The number you entered is not in the range of 1-7.\n"
     ]
    }
   ],
   "source": [
    "# Write your code here\n",
    "num = int(input('Enter a number between 1-7: '))\n",
    "\n",
    "if num == 1:\n",
    "    print('Sunday')\n",
    "elif num == 2:\n",
    "    print('Monday')\n",
    "elif num == 3:\n",
    "    print('Tuesday')\n",
    "elif num == 4:\n",
    "    print('Wednesday')\n",
    "elif num == 5:\n",
    "    print('Thursday')\n",
    "elif num == 6:\n",
    "    print('Friday')\n",
    "elif num == 7:\n",
    "    print('Saturday')\n",
    "else:\n",
    "    print(' The number you entered is not in the range of 1-7.')"
   ]
  },
  {
   "cell_type": "markdown",
   "metadata": {},
   "source": [
    "## 5. Logical Operators"
   ]
  },
  {
   "cell_type": "markdown",
   "metadata": {},
   "source": [
    "<b>Logical operators:</b> operators that can be used to create complex Boolean expressions."
   ]
  },
  {
   "cell_type": "markdown",
   "metadata": {},
   "source": [
    "<img src='https://www.dropbox.com/s/zryqy9od9x4682f/Logical%20operators.png?raw=1' />\n",
    "\n",
    "<i>Source: Starting Out with Python (4th Edition)- by Tony Gaddis Pearson</i>"
   ]
  },
  {
   "cell_type": "markdown",
   "metadata": {},
   "source": [
    "Examples of several compound Boolean expressions that use logical operators."
   ]
  },
  {
   "cell_type": "markdown",
   "metadata": {},
   "source": [
    "<img src='https://www.dropbox.com/s/0s4k450imaabacp/Compound%20Boolean%20expressions%20using%20logical%20operators.png?raw=1' />\n",
    "\n",
    "<i>Source: Starting Out with Python (4th Edition)- by Tony Gaddis Pearson</i>"
   ]
  },
  {
   "cell_type": "markdown",
   "metadata": {},
   "source": [
    "### 5.1. The <i>and</i> Operator"
   ]
  },
  {
   "cell_type": "markdown",
   "metadata": {},
   "source": [
    "The <i><b><span style='color:red'>and</span></b></i> operator takes two Boolean expressions as operands.\n",
    "<ul><li>Creates a compound Boolean expression that is true only when both subexpressions are true.</li>\n",
    "    <li>Can be used to simplify nested decision structures.</li>    \n",
    "</ul>    "
   ]
  },
  {
   "cell_type": "markdown",
   "metadata": {},
   "source": [
    "<b>Example:</b>"
   ]
  },
  {
   "cell_type": "markdown",
   "metadata": {},
   "source": [
    "<b><i>if</i></b> <span style='color:blue'>temperature < 20</span> <span style='color:red'>and</span> <span style='color:blue'> minutes > 12</span>:\n",
    "<br>&nbsp;&nbsp;&nbsp;&nbsp;&nbsp;&nbsp;&nbsp;&nbsp;print('The temperature is in the danger zone.')"
   ]
  },
  {
   "cell_type": "markdown",
   "metadata": {},
   "source": [
    "<img src='https://www.dropbox.com/s/ej4z5pndoxfv1vg/Truth%20table%20for%20the%20and%20operator.png?raw=1' />\n",
    "\n",
    "<i>Source: Starting Out with Python (4th Edition)- by Tony Gaddis Pearson</i>"
   ]
  },
  {
   "cell_type": "markdown",
   "metadata": {},
   "source": [
    "<b>Note:</b> both sides of the and operator must be true for the operator to return a true value."
   ]
  },
  {
   "cell_type": "markdown",
   "metadata": {},
   "source": [
    "### 5.2. The <i>or</i> Operator"
   ]
  },
  {
   "cell_type": "markdown",
   "metadata": {},
   "source": [
    "The <i><b><span style='color:red'>or</span></b></i> operator takes two Boolean expressions as operands.\n",
    "<ul><li>Creates compound Boolean expression that is true when either of the sub expressions is true.</li>\n",
    "    <li>Can be used to simplify nested decision structures.</li>    \n",
    "</ul>    "
   ]
  },
  {
   "cell_type": "markdown",
   "metadata": {},
   "source": [
    "<b><i>if</i></b> <span style='color:blue'>temperature < 20</span> <span style='color:red'>or</span> <span style='color:blue'>minutes > 12</span>:\n",
    "<br>&nbsp;&nbsp;&nbsp;&nbsp;&nbsp;&nbsp;&nbsp;&nbsp;print('The temperature is in the danger zone.')"
   ]
  },
  {
   "cell_type": "markdown",
   "metadata": {},
   "source": [
    "<img src='https://www.dropbox.com/s/lpd4rljnry7zdf8/Truth%20table%20for%20the%20or%20operator.png?raw=1' />\n",
    "\n",
    "<i>Source: Starting Out with Python (4th Edition)- by Tony Gaddis Pearson</i>"
   ]
  },
  {
   "cell_type": "markdown",
   "metadata": {},
   "source": [
    "<b>Note:</b> Just one side of the or operater can be true for the operator to return a true value."
   ]
  },
  {
   "cell_type": "markdown",
   "metadata": {},
   "source": [
    "<b>Example:</b> Now, it's your turn. Write a code to ask the user to input his/her credit score and his/her age. Then if his/her age was more than 20 and his/her credit score was above 650, print \"you are aproved for the loan\".   "
   ]
  },
  {
   "cell_type": "code",
   "execution_count": 29,
   "metadata": {},
   "outputs": [
    {
     "name": "stdout",
     "output_type": "stream",
     "text": [
      "What is your credit score: 750\n",
      "What is your age: 39\n",
      "You are approved for the loan\n"
     ]
    }
   ],
   "source": [
    "# Write your code here\n",
    "Credit_score =int (input('What is your credit score: '))\n",
    "Age = int(input('What is your age: '))\n",
    "\n",
    "if Credit_score > 650 and Age > 20 :\n",
    "    print('You are approved for the loan')"
   ]
  },
  {
   "cell_type": "markdown",
   "metadata": {},
   "source": [
    "<b>Example:</b> Now, it's your turn. Write a code to ask the user to input his/her credit score and his/her age. Then if his/her age was more than 40 or his/her credit score was above 650, print \"you are aproved for the loan\". "
   ]
  },
  {
   "cell_type": "code",
   "execution_count": 30,
   "metadata": {},
   "outputs": [
    {
     "name": "stdout",
     "output_type": "stream",
     "text": [
      "What is your credit score: 600\n",
      "What is your age: 50\n",
      "You are approved for the loan\n"
     ]
    }
   ],
   "source": [
    "# Write your code here\n",
    "Credit_score =int (input('What is your credit score: '))\n",
    "Age = int(input('What is your age: '))\n",
    "\n",
    "if Credit_score > 650 or Age > 40 :\n",
    "    print('You are approved for the loan')"
   ]
  },
  {
   "cell_type": "markdown",
   "metadata": {},
   "source": [
    "### 5.3. Short-Circuit Evaluation"
   ]
  },
  {
   "cell_type": "markdown",
   "metadata": {},
   "source": [
    "<b>Short circuit evaluation:</b> deciding the value of a compound Boolean expression after evaluating only one subexpression\n",
    "<ul><li>Performed by the <i>or</i> and <i>and</i> operators.</li>\n",
    "<ul><li>For <i>or</i> operator: If left operand is true, compound expression is true. Otherwise, evaluate right operand.</li>\n",
    "<li>For <i>and</i> operator: If left operand is false, compound expression is false. Otherwise, evaluate right operand.</li>\n",
    "    </ul></ul>"
   ]
  },
  {
   "cell_type": "markdown",
   "metadata": {},
   "source": [
    "### 5.4. The <i>not</i> Operator"
   ]
  },
  {
   "cell_type": "markdown",
   "metadata": {},
   "source": [
    "The <i><b><span style='color:red'>not</span></b></i> operator takes a Boolean expression as its operand and reverses its logical value.\n",
    "<br>\n",
    "If the expression is true, the not operator returns false, and if the expression is false, the not operator returns true."
   ]
  },
  {
   "cell_type": "markdown",
   "metadata": {},
   "source": [
    "<b><i>if</i></b> <span style='color:red'>not</span>&nbsp;(<span style='color:blue'>temperature > 100</span>):\n",
    "<br>&nbsp;&nbsp;&nbsp;&nbsp;&nbsp;&nbsp;&nbsp;&nbsp;print('This is below the maximum temperature.')"
   ]
  },
  {
   "cell_type": "markdown",
   "metadata": {},
   "source": [
    "<b>Note:</b> Sometimes it may be necessary to place parentheses around an expression to clarify to what you are applying the not operator."
   ]
  },
  {
   "cell_type": "markdown",
   "metadata": {},
   "source": [
    "<img src='https://www.dropbox.com/s/71wycer1xxfsomm/Truth%20table%20for%20the%20not%20operator.png?raw=1' />\n",
    "<i>Source: Starting Out with Python (4th Edition)- by Tony Gaddis Pearson</i>"
   ]
  },
  {
   "cell_type": "markdown",
   "metadata": {},
   "source": [
    "<b>Example:</b>"
   ]
  },
  {
   "cell_type": "code",
   "execution_count": null,
   "metadata": {},
   "outputs": [],
   "source": [
    "# Assume the minimum annual salary and the minimum years on the job are as fallows:\n",
    "MIN_SALARY = 30000\n",
    "MIN_YEARS = 2\n",
    "# Get the customer's annual salary.\n",
    "salary = float(input('Enter your annual salary: '))\n",
    "\n",
    "# Get the number of years on the current job.\n",
    "years_on_job = int(input('Enter the number of years employed: '))\n",
    "\n",
    "# Determine whether the customer qualifies. if salary >= MIN_SALARY:\n",
    "if salary >= MIN_SALARY and years_on_job >= MIN_YEARS: \n",
    "    print('You qualify for the loan.')\n",
    "else:\n",
    "    print('You do not qualify for the loan')"
   ]
  },
  {
   "cell_type": "markdown",
   "metadata": {},
   "source": [
    "### 5.5. Checking Numeric Ranges with Logical Operators"
   ]
  },
  {
   "cell_type": "markdown",
   "metadata": {},
   "source": [
    "To determine whether a numeric value is within a specific range of values, use <b>and</b> \n",
    "<ul>Example: x >= 10 and x <= 20</ul>\n",
    "To determine whether a numeric value is outside of a specific range of values, use <b>or</b> \n",
    "<ul>Example: x < 10 or x > 20</ul>"
   ]
  },
  {
   "cell_type": "markdown",
   "metadata": {},
   "source": [
    "<b>Example:</b> Ask a user to enter a number and determine whether the number is within the range of [200,500] or not."
   ]
  },
  {
   "cell_type": "code",
   "execution_count": null,
   "metadata": {},
   "outputs": [],
   "source": [
    "# Write your code here\n",
    "Num = int(input('enter a number: '))\n",
    "\n",
    "if Num>=200 and Num<=500 :\n",
    "    print('The number is in the range.')\n",
    "else:\n",
    "    print('The number is not in the range.')"
   ]
  },
  {
   "cell_type": "code",
   "execution_count": null,
   "metadata": {},
   "outputs": [],
   "source": [
    "# to check whether the number is outside of the range.\n",
    "Num = int(input('enter a number: '))\n",
    "\n",
    "if Num< 200 or Num > 500 :\n",
    "    print('The number is  not in the range.')\n",
    "else:\n",
    "    print('The number is in the range.')"
   ]
  },
  {
   "cell_type": "markdown",
   "metadata": {},
   "source": [
    "## 6. Boolean Variables"
   ]
  },
  {
   "cell_type": "markdown",
   "metadata": {},
   "source": [
    "<b>Boolean variable:</b> references one of two values: <span style='color:blue'>True</span> or <span style='color:blue'>False</span>.\n",
    "<ul>Commonly used as <span style='color:red'><i>flags</i></span>.</ul>\n",
    "<br><i><span style='color:red'>flag:</span></i> a variable that signals when some condition exists in the program. \n",
    "<br>\n",
    "<ul>\n",
    "<li>When the flag variable is set to False, it indicates the condition does not exist.</li> \n",
    "<li>When the flag variable is set to True, it means the condition does exist.</li>\n",
    "</ul> "
   ]
  },
  {
   "cell_type": "markdown",
   "metadata": {},
   "source": [
    "<b>Example:</b>"
   ]
  },
  {
   "cell_type": "code",
   "execution_count": null,
   "metadata": {},
   "outputs": [],
   "source": [
    "if sales >= 50000.0: \n",
    "    sales_quota_met = True\n",
    "else:\n",
    "    sales_quota_met = False\n",
    "      \n",
    "if sales_quota_met:\n",
    "    print('You have met your sales quota!')    "
   ]
  }
 ],
 "metadata": {
  "kernelspec": {
   "display_name": "Python 3 (ipykernel)",
   "language": "python",
   "name": "python3"
  },
  "language_info": {
   "codemirror_mode": {
    "name": "ipython",
    "version": 3
   },
   "file_extension": ".py",
   "mimetype": "text/x-python",
   "name": "python",
   "nbconvert_exporter": "python",
   "pygments_lexer": "ipython3",
   "version": "3.10.2"
  }
 },
 "nbformat": 4,
 "nbformat_minor": 4
}
