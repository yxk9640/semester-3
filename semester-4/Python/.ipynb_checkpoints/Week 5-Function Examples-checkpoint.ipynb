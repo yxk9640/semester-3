{
 "cells": [
  {
   "cell_type": "markdown",
   "metadata": {},
   "source": [
    "    Introduction to Programming: Python\n",
    "    Neshat Beheshti\n",
    "    University of Texas Arlington\n",
    "\n",
    "    This document can only be used for class studies. \n",
    "    You are not allowed to share it in any public platform."
   ]
  },
  {
   "cell_type": "markdown",
   "metadata": {},
   "source": [
    "<h1 align='center' style=\"color: blue;\">Function - Examples</h1>"
   ]
  },
  {
   "cell_type": "markdown",
   "metadata": {},
   "source": [
    "<b>Example1:</b> Write a function such that it can accept two variables and calculate the addition and subtraction of it. And also it must return both addition and subtraction."
   ]
  },
  {
   "cell_type": "code",
   "execution_count": 2,
   "metadata": {},
   "outputs": [
    {
     "name": "stdout",
     "output_type": "stream",
     "text": [
      "Enter 1st number: 23\n",
      "Enter 2nd number: 23\n",
      "46\n",
      "0\n"
     ]
    }
   ],
   "source": [
    "def main():\n",
    "    var1 = int(input(\"Enter 1st number: \"))\n",
    "    var2 = int(input(\"Enter 2nd number: \"))\n",
    "    addition, subtraction = calculate(var1,var2)\n",
    "    print(addition)\n",
    "    print(subtraction)\n",
    "    \n",
    "def calculate(var1,var2):\n",
    "    add = var1 + var2\n",
    "    sub = var1 - var2\n",
    "    return add,sub\n",
    "\n",
    "main()"
   ]
  },
  {
   "cell_type": "markdown",
   "metadata": {},
   "source": [
    "<b>Example2:</b> Write a recursive function to calculate the sum of numbers from 0 to 10"
   ]
  },
  {
   "cell_type": "code",
   "execution_count": 3,
   "metadata": {},
   "outputs": [
    {
     "data": {
      "text/plain": [
       "55"
      ]
     },
     "execution_count": 3,
     "metadata": {},
     "output_type": "execute_result"
    }
   ],
   "source": [
    "def recursive():\n",
    "    sum = 0\n",
    "    for i in range(0,11):\n",
    "        sum+=i\n",
    "    return sum\n",
    "recursive()"
   ]
  },
  {
   "cell_type": "markdown",
   "metadata": {},
   "source": [
    "<b>Example3:</b> Write a Python function to check whether a number is in a given range(3,9)."
   ]
  },
  {
   "cell_type": "code",
   "execution_count": 7,
   "metadata": {},
   "outputs": [
    {
     "name": "stdout",
     "output_type": "stream",
     "text": [
      "Enter a number: 45\n",
      "False\n"
     ]
    }
   ],
   "source": [
    "def main():\n",
    "    number = int(input(\"Enter a number: \"))\n",
    "    print(check(number))\n",
    "\n",
    "def check(num):\n",
    "    \n",
    "    return True if(num > 3 and num < 9) else False\n",
    "\n",
    "main()\n"
   ]
  },
  {
   "cell_type": "markdown",
   "metadata": {},
   "source": [
    "<b>Example4:</b> Write a Python function that takes a number as a parameter and check the number is prime or not.\n",
    "<br>\n",
    "A prime number (or a prime) is a natural number greater than 1 and that has no positive divisors other than 1 and itself."
   ]
  },
  {
   "cell_type": "code",
   "execution_count": 1,
   "metadata": {},
   "outputs": [
    {
     "name": "stdout",
     "output_type": "stream",
     "text": [
      "Enter a number: 4\n"
     ]
    },
    {
     "data": {
      "text/plain": [
       "True"
      ]
     },
     "execution_count": 1,
     "metadata": {},
     "output_type": "execute_result"
    }
   ],
   "source": [
    "n = int(input(\"Enter a number: \"))\n",
    "\n",
    "def prime(num):\n",
    "    if num == 1:\n",
    "        return False\n",
    "    elif num == 2: \n",
    "        return True\n",
    "    else: \n",
    "        for i in range(2,num)):\n",
    "            if num % i ==0:\n",
    "                return False\n",
    "        return True# if num == 3\n",
    "\n",
    "prime(n)\n",
    "\n"
   ]
  },
  {
   "cell_type": "markdown",
   "metadata": {},
   "source": [
    "<b>Example5:</b> Write a Python function to create and print square of a number."
   ]
  },
  {
   "cell_type": "code",
   "execution_count": 38,
   "metadata": {},
   "outputs": [
    {
     "name": "stdout",
     "output_type": "stream",
     "text": [
      "Enter a number to square it: 3\n",
      "9\n"
     ]
    }
   ],
   "source": [
    "num = int(input(\"Enter a number to square it: \"))\n",
    "def square(n):\n",
    "    return n*n\n",
    "\n",
    "print(square(num))"
   ]
  },
  {
   "cell_type": "markdown",
   "metadata": {},
   "source": [
    "<b>Example6:</b> Write a Python function to create and print square root of a number."
   ]
  },
  {
   "cell_type": "code",
   "execution_count": 39,
   "metadata": {},
   "outputs": [
    {
     "name": "stdout",
     "output_type": "stream",
     "text": [
      "Enter a number to square it: 4\n",
      "2.0\n"
     ]
    }
   ],
   "source": [
    "import math\n",
    "num = int(input(\"Enter a number to square it: \"))\n",
    "def squareRoot(n):\n",
    "    return math.sqrt(n)\n",
    "\n",
    "print(squareRoot(num))"
   ]
  },
  {
   "cell_type": "markdown",
   "metadata": {},
   "source": [
    "<b>Example7:</b> Write a statement that generates a random number in the range of 1 through 100 and\n",
    "assigns it to a variable named rand."
   ]
  },
  {
   "cell_type": "code",
   "execution_count": 74,
   "metadata": {},
   "outputs": [
    {
     "name": "stdout",
     "output_type": "stream",
     "text": [
      "37\n"
     ]
    }
   ],
   "source": [
    "import random\n",
    "\n",
    "# rand1 = random.randrange(1,100)\n",
    "rand = random.randint(1,100)\n",
    "print(rand)"
   ]
  },
  {
   "cell_type": "markdown",
   "metadata": {},
   "source": [
    "<b>Example8:</b> Write a function that accepts a number as an argument. When the function is called, it should return the value of its argument multiplied by 8."
   ]
  },
  {
   "cell_type": "code",
   "execution_count": 59,
   "metadata": {},
   "outputs": [
    {
     "name": "stdout",
     "output_type": "stream",
     "text": [
      "Enter a number: 3\n"
     ]
    },
    {
     "data": {
      "text/plain": [
       "24"
      ]
     },
     "execution_count": 59,
     "metadata": {},
     "output_type": "execute_result"
    }
   ],
   "source": [
    "num = int(input(\"Enter a number: \"))\n",
    "def fun(num):\n",
    "    return num*8\n",
    "fun(num)"
   ]
  },
  {
   "cell_type": "markdown",
   "metadata": {},
   "source": [
    "<b>Example9:</b> Write a program that asks the user to enter a size in foot, then converts that size to inch. The conversion formula is as follows:\n",
    "<br>\n",
    "INCH = FOOT X 12"
   ]
  },
  {
   "cell_type": "code",
   "execution_count": 79,
   "metadata": {},
   "outputs": [
    {
     "name": "stdout",
     "output_type": "stream",
     "text": [
      "Enter a size in foot: 4\n",
      "4 foot is 48 inches\n"
     ]
    }
   ],
   "source": [
    "size = int(input(\"Enter a size in foot: \"))\n",
    "\n",
    "def convertFS(size):\n",
    "    return size*12\n",
    "\n",
    "print(f\"{size} foot is {convertFS(size)} inches\")\n"
   ]
  },
  {
   "cell_type": "markdown",
   "metadata": {},
   "source": [
    "<b>Example10:</b> Write a program that asks the user to enter a distance in kilometers, then converts that distance to miles. The conversion formula is as follows:\n",
    "Miles = Kilometers x 0.6214"
   ]
  },
  {
   "cell_type": "code",
   "execution_count": 82,
   "metadata": {},
   "outputs": [
    {
     "name": "stdout",
     "output_type": "stream",
     "text": [
      "Enter a distance in KM: 3\n",
      "3 KM is 2.4856 Miles\n"
     ]
    }
   ],
   "source": [
    "dist = int(input(\"Enter a distance in KM: \"))\n",
    "\n",
    "def convertFS(dist):\n",
    "    return dist * 0.6214\n",
    "\n",
    "print(f\"{dist} KM is {convertFS(size)} Miles\")"
   ]
  },
  {
   "cell_type": "markdown",
   "metadata": {},
   "source": [
    "<b>Example11:</b> There are three seating categories at a stadium. class A seats cost $20, Class  B seats cost $15, and Class C seats cost $10. Write a program that asks how many tickets for each class of seats were sold, then displays the amount of income generated from ticket sales."
   ]
  },
  {
   "cell_type": "code",
   "execution_count": 88,
   "metadata": {},
   "outputs": [
    {
     "name": "stdout",
     "output_type": "stream",
     "text": [
      "Enter number of ticketes sold for class - A: 3\n",
      "Enter number of ticketes sold for class - B: 3\n",
      "Enter number of ticketes sold for class - C: 3\n",
      "total tickets sold are: 135\n"
     ]
    }
   ],
   "source": [
    "classA = int(input(\"Enter number of ticketes sold for class - A: \"))\n",
    "classB = int(input(\"Enter number of ticketes sold for class - B: \"))\n",
    "classC = int(input(\"Enter number of ticketes sold for class - C: \"))\n",
    "\n",
    "def totalAmount(classA,classB,classC):\n",
    "    return classA*20+classB*15+classC*10\n",
    "\n",
    "print(\"total tickets sold are: {0}\".format(totalAmount(classA,classB,classC)))"
   ]
  },
  {
   "cell_type": "markdown",
   "metadata": {},
   "source": [
    "<b>Example12:</b> Write a Python function to find the Max of three numbers."
   ]
  },
  {
   "cell_type": "code",
   "execution_count": null,
   "metadata": {},
   "outputs": [],
   "source": []
  },
  {
   "cell_type": "markdown",
   "metadata": {},
   "source": [
    "<b>Example13:</b> Many financial experts advise that property owners should insure their homes or buildings for at least 80 percent of the amount it would cost to replace the structure. Write a program that asks the user to enter the replacement cost of a building, then displays the minimum amount of insurance he or she should buy for the property."
   ]
  },
  {
   "cell_type": "code",
   "execution_count": null,
   "metadata": {},
   "outputs": [],
   "source": []
  },
  {
   "cell_type": "markdown",
   "metadata": {},
   "source": [
    "<b>Example14:</b> A painting company has determined that for every 112 square feet of wall space, one gallon of paint and eight hours of labor will be required. The company charges $35.00 per hour for labor. Write a program that asks the user to enter the square feet of wall space to be painted and the price of the paint per gallon. The program should display the following data:<br>\n",
    "<ul>\n",
    "<li>The number of gallons of paint required</li>\n",
    "<li>The hours of labor required</li>\n",
    "<li>The cost of the paint</li>\n",
    "<li>The labor charges</li>\n",
    "<li>The total cost of the paint job</li></ul>"
   ]
  },
  {
   "cell_type": "code",
   "execution_count": null,
   "metadata": {},
   "outputs": [],
   "source": []
  },
  {
   "cell_type": "markdown",
   "metadata": {},
   "source": [
    "<b>Example15:</b> Write a program that gives simple math quizzes. The program should display two random numbers that are to be added, such as 257+19. The program should allow the student to enter the answer. If the answer is correct, a message of congratulation should be displayed. If the answer is incorrect, a message showing the correct answer should be displayed."
   ]
  },
  {
   "cell_type": "code",
   "execution_count": null,
   "metadata": {},
   "outputs": [],
   "source": []
  },
  {
   "cell_type": "markdown",
   "metadata": {},
   "source": [
    "<b>Example16:</b> Write a program that asks the user to enter five test scores. The program should display a letter grade for each score and the average test score. Write the following functions in the program:\n",
    "<ul><li>calc_average. This function should accept five test scores as arguments and return the average of the scores.</li>\n",
    "<li>determine_grade. This function should accept a test score as an argument and return a letter grade for the score based on the following grading scale:</li></ul>\n",
    "Score       Letter Grade\n",
    "<ul>\n",
    "<li>90-100   A</li>\n",
    "<li>80-89    B</li>\n",
    "<li>70-79    C</li>\n",
    "<li>60-69    D</li>\n",
    "<li>Below 60 F</li>"
   ]
  },
  {
   "cell_type": "code",
   "execution_count": null,
   "metadata": {},
   "outputs": [],
   "source": []
  }
 ],
 "metadata": {
  "kernelspec": {
   "display_name": "Python 3 (ipykernel)",
   "language": "python",
   "name": "python3"
  },
  "language_info": {
   "codemirror_mode": {
    "name": "ipython",
    "version": 3
   },
   "file_extension": ".py",
   "mimetype": "text/x-python",
   "name": "python",
   "nbconvert_exporter": "python",
   "pygments_lexer": "ipython3",
   "version": "3.11.3"
  }
 },
 "nbformat": 4,
 "nbformat_minor": 4
}
