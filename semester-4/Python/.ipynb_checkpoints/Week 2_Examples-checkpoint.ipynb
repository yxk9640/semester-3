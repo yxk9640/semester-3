{
 "cells": [
  {
   "cell_type": "markdown",
   "id": "1b6bf577",
   "metadata": {},
   "source": [
    "Which of the following are illegal variable names in Python, and why?\n"
   ]
  },
  {
   "cell_type": "code",
   "execution_count": 15,
   "id": "83586234",
   "metadata": {},
   "outputs": [
    {
     "ename": "NameError",
     "evalue": "name 'July2009' is not defined",
     "output_type": "error",
     "traceback": [
      "\u001b[0;31m---------------------------------------------------------------------------\u001b[0m",
      "\u001b[0;31mNameError\u001b[0m                                 Traceback (most recent call last)",
      "Cell \u001b[0;32mIn[15], line 2\u001b[0m\n\u001b[1;32m      1\u001b[0m \u001b[38;5;66;03m#99bottles\u001b[39;00m\n\u001b[0;32m----> 2\u001b[0m \u001b[43mJuly2009\u001b[49m\n\u001b[1;32m      3\u001b[0m theSalesFigureForFiscalYear\n\u001b[1;32m      4\u001b[0m r\u001b[38;5;241m&\u001b[39md\n",
      "\u001b[0;31mNameError\u001b[0m: name 'July2009' is not defined"
     ]
    }
   ],
   "source": [
    "#99bottles\n",
    "July2009\n",
    "theSalesFigureForFiscalYear\n",
    "r&d\n",
    "grade_report\n",
    "#Final Exam\n",
    "_animal\n",
    "#gross?pay"
   ]
  },
  {
   "cell_type": "markdown",
   "id": "f5a0cb3c",
   "metadata": {},
   "source": [
    "Is the variable name Sales the same as sales?"
   ]
  },
  {
   "cell_type": "code",
   "execution_count": 16,
   "id": "dd5b4950",
   "metadata": {},
   "outputs": [
    {
     "ename": "SyntaxError",
     "evalue": "cannot assign to literal here. Maybe you meant '==' instead of '='? (2334206386.py, line 1)",
     "output_type": "error",
     "traceback": [
      "\u001b[0;36m  Cell \u001b[0;32mIn[16], line 1\u001b[0;36m\u001b[0m\n\u001b[0;31m    98 = amount\u001b[0m\n\u001b[0m    ^\u001b[0m\n\u001b[0;31mSyntaxError\u001b[0m\u001b[0;31m:\u001b[0m cannot assign to literal here. Maybe you meant '==' instead of '='?\n"
     ]
    }
   ],
   "source": [
    "98 = amount"
   ]
  },
  {
   "cell_type": "code",
   "execution_count": 17,
   "id": "a2e8e561",
   "metadata": {},
   "outputs": [
    {
     "name": "stdout",
     "output_type": "stream",
     "text": [
      "The value is 99\n"
     ]
    }
   ],
   "source": [
    "val = 99\n",
    "print('The value is', val)"
   ]
  },
  {
   "cell_type": "code",
   "execution_count": null,
   "id": "66366d22",
   "metadata": {},
   "outputs": [],
   "source": [
    "print('The value is', var)\n",
    "var = 75"
   ]
  },
  {
   "cell_type": "code",
   "execution_count": null,
   "id": "79bb47ba",
   "metadata": {},
   "outputs": [],
   "source": [
    "What is the type of the variables?\n",
    "value1 = 99\n",
    "value2 = 45.990\n",
    "value3 = 7.0\n",
    "value4 = 7\n",
    "value5 = 'abc'"
   ]
  },
  {
   "cell_type": "code",
   "execution_count": null,
   "id": "6858345e",
   "metadata": {},
   "outputs": [],
   "source": [
    "value6= True\n",
    "type(value6)"
   ]
  },
  {
   "cell_type": "code",
   "execution_count": null,
   "id": "fe7be900",
   "metadata": {},
   "outputs": [],
   "source": [
    "my_value = 6\n",
    "my_value = 'Sara'\n",
    "my_value = 3.98\n",
    "print(my_value)"
   ]
  },
  {
   "cell_type": "code",
   "execution_count": null,
   "id": "eb2e8a69",
   "metadata": {},
   "outputs": [],
   "source": [
    "9 / 2"
   ]
  },
  {
   "cell_type": "code",
   "execution_count": null,
   "id": "0cb9808d",
   "metadata": {},
   "outputs": [],
   "source": [
    "9 // 2"
   ]
  },
  {
   "cell_type": "code",
   "execution_count": null,
   "id": "d2ca04c7",
   "metadata": {},
   "outputs": [],
   "source": [
    "-9 // 2"
   ]
  },
  {
   "cell_type": "code",
   "execution_count": null,
   "id": "7bb03ab3",
   "metadata": {},
   "outputs": [],
   "source": [
    "9 % 2"
   ]
  },
  {
   "cell_type": "code",
   "execution_count": null,
   "id": "f3cab0be",
   "metadata": {},
   "outputs": [],
   "source": [
    "print(\"Monday's sales are\", var1,\n",
    " \"and Tuesday's sales are\", var2,\n",
    " \"and Wednesday's sales are\", var3)"
   ]
  },
  {
   "cell_type": "code",
   "execution_count": null,
   "id": "eef34a95",
   "metadata": {},
   "outputs": [],
   "source": [
    "print(\"\"\"He\n",
    "Se\n",
    "Me\n",
    "Ke\"\"\")"
   ]
  },
  {
   "cell_type": "code",
   "execution_count": null,
   "id": "aae25326",
   "metadata": {},
   "outputs": [],
   "source": [
    "total = (var1 + var2 +\n",
    " var3 + var4 +\n",
    " var2 + var3)\n",
    "print(total)"
   ]
  },
  {
   "cell_type": "markdown",
   "id": "5701ee0b",
   "metadata": {},
   "source": [
    "Ask the use his/her age and display it.\n",
    "\"My age is 54 years old\""
   ]
  },
  {
   "cell_type": "code",
   "execution_count": 1,
   "id": "b6647fb2",
   "metadata": {},
   "outputs": [
    {
     "name": "stdout",
     "output_type": "stream",
     "text": [
      "enter your age25\n",
      "25\n",
      "Object `??` not found.\n"
     ]
    }
   ],
   "source": [
    "number = 15.4321\n",
    "????"
   ]
  },
  {
   "cell_type": "code",
   "execution_count": 3,
   "id": "c6fb84cd",
   "metadata": {},
   "outputs": [
    {
     "name": "stdout",
     "output_type": "stream",
     "text": [
      "The value is 3.3.\n"
     ]
    }
   ],
   "source": [
    "print(f'The value is {10/3:.1f}.')"
   ]
  },
  {
   "cell_type": "code",
   "execution_count": 5,
   "id": "ddd458ec",
   "metadata": {},
   "outputs": [
    {
     "name": "stdout",
     "output_type": "stream",
     "text": [
      "5.4%\n"
     ]
    }
   ],
   "source": [
    "discount = 0.054\n",
    "#print(f'{discount:????}')\n",
    "print(f'{discount:.1%}')"
   ]
  },
  {
   "cell_type": "code",
   "execution_count": 8,
   "id": "9f93b247",
   "metadata": {},
   "outputs": [
    {
     "name": "stdout",
     "output_type": "stream",
     "text": [
      "137,990,632.00%\n"
     ]
    }
   ],
   "source": [
    "discount = 1379906.32\n",
    "#print(f'{discount:???}')\n",
    "print(f'{discount:,.2%}')"
   ]
  },
  {
   "cell_type": "markdown",
   "id": "0f8231ca",
   "metadata": {},
   "source": [
    "Write a Python code that prompts the user to enter his or her favorite color and assigns \n",
    "the user’s input to a variable named color"
   ]
  },
  {
   "cell_type": "code",
   "execution_count": 9,
   "id": "726de074",
   "metadata": {},
   "outputs": [
    {
     "name": "stdout",
     "output_type": "stream",
     "text": [
      "Enter your favourite colorBlue\n",
      "Blue\n"
     ]
    }
   ],
   "source": []
  },
  {
   "cell_type": "code",
   "execution_count": 18,
   "id": "f21387e1",
   "metadata": {
    "scrolled": false
   },
   "outputs": [
    {
     "name": "stdout",
     "output_type": "stream",
     "text": [
      "Enter your favourite colorblue\n",
      "blue\n"
     ]
    }
   ],
   "source": [
    "color = input(\"Enter your favourite color\")\n",
    "print(color)"
   ]
  },
  {
   "cell_type": "code",
   "execution_count": 12,
   "id": "081a4ece",
   "metadata": {},
   "outputs": [
    {
     "name": "stdout",
     "output_type": "stream",
     "text": [
      "Enter your name yogesh\n",
      "Enter Address arlington\n",
      "Enter phone number 21342314\n",
      "Enter major cse\n",
      "\n",
      "Your name is : yogesh\n",
      "Your address is: arlington\n",
      "Your telephone number is: 21342314\n",
      "Your major is: cse\n",
      "\n"
     ]
    }
   ],
   "source": []
  },
  {
   "cell_type": "markdown",
   "id": "49613cec",
   "metadata": {},
   "source": [
    "Write a program that displays the following information:\n",
    "<ul><li>Your name</li>\n",
    "<li>Your address, with city, state, and ZIP</li>\n",
    "<li>Your telephone number</li>\n",
    "<li>Your college major</li>\n",
    "</li>"
   ]
  },
  {
   "cell_type": "code",
   "execution_count": 19,
   "id": "f585f7c1",
   "metadata": {},
   "outputs": [
    {
     "name": "stdout",
     "output_type": "stream",
     "text": [
      "Enter your name yo\n",
      "Enter Address ds\n",
      "Enter phone number ds\n",
      "Enter major sd\n",
      "\n",
      "Your name is : yo\n",
      "Your address is: ds\n",
      "Your telephone number is: ds\n",
      "Your major is: sd\n",
      "\n"
     ]
    }
   ],
   "source": [
    "name = input(\"Enter your name \")\n",
    "address  = input(\"Enter Address \")\n",
    "TelNumber = input(\"Enter phone number \")\n",
    "major = input(\"Enter major \")\n",
    "\n",
    "print(f\"\"\"\n",
    "Your name is : {name}\n",
    "Your address is: {address}\n",
    "Your telephone number is: {TelNumber}\n",
    "Your major is: {major}\n",
    "\"\"\")\n"
   ]
  },
  {
   "cell_type": "markdown",
   "id": "46f18721",
   "metadata": {},
   "source": [
    "A company has determined that its annual profit is 32 percent of total sales. Write a program that asks the user to enter the projected amount of total sales, then displays the profit that will be made from that amount."
   ]
  },
  {
   "cell_type": "code",
   "execution_count": 20,
   "id": "4cdfb46c",
   "metadata": {},
   "outputs": [
    {
     "name": "stdout",
     "output_type": "stream",
     "text": [
      "Enter total sales amuont? 100\n",
      "Profit is: $32.0\n"
     ]
    }
   ],
   "source": [
    "amount = float(input(\"Enter total sales amuont? \"))\n",
    "profitPer = 32\n",
    "profit =  (amount * (profitPer/100))\n",
    "print(f'Profit is: ${profit}')"
   ]
  },
  {
   "cell_type": "markdown",
   "id": "02980b0e",
   "metadata": {},
   "source": [
    "One pound is equivalent to 0.454 kilograms. Write a program that asks the user to enter the mass of an object in pounds and then calculates and displays the mass of the object in kilograms."
   ]
  },
  {
   "cell_type": "code",
   "execution_count": 25,
   "id": "088178c9",
   "metadata": {},
   "outputs": [
    {
     "name": "stdout",
     "output_type": "stream",
     "text": [
      "Enter mass of an object in pound : 100\n",
      "Mass in Kg is :45.4 kg\n"
     ]
    }
   ],
   "source": [
    "massPound = float(input(\"Enter mass of an object in pound : \"))\n",
    "convert = (0.454)\n",
    "print(f'Mass in Kg is :{massPound * convert} kg')"
   ]
  },
  {
   "cell_type": "markdown",
   "id": "bde0e578",
   "metadata": {},
   "source": [
    "A customer in a store is purchasing five items. Write a program that asks for the price of each item, then displays the subtotal of the sale, the amount of sales tax, and the total. Assume the sales tax is 7 percent."
   ]
  },
  {
   "cell_type": "code",
   "execution_count": 35,
   "id": "94d64eeb",
   "metadata": {},
   "outputs": [
    {
     "name": "stdout",
     "output_type": "stream",
     "text": [
      " Enter item - 1 price: 20\n",
      " Enter item - 2 price: 20\n",
      " Enter item - 3 price: 20\n",
      " Enter item - 4 price: 20\n",
      " Enter item - 5 price: 20\n",
      "\n",
      "Product price is: 100.0,\n",
      "Sales price is: 107.0\n",
      "\n"
     ]
    }
   ],
   "source": [
    "item1 = float(input(\" Enter item - 1 price: \"))\n",
    "item2 = float(input(\" Enter item - 2 price: \"))\n",
    "item3 = float(input(\" Enter item - 3 price: \"))\n",
    "item4 = float(input(\" Enter item - 4 price: \"))\n",
    "item5 = float(input(\" Enter item - 5 price: \"))\n",
    "\n",
    "productPrice = item1 + item2 + item3 + item4 + item5\n",
    "productTaxPrice = productPrice + (productPrice*0.07)\n",
    "\n",
    "print(f\"\"\"\n",
    "Product price is: {productPrice},\n",
    "Sales price is: {productTaxPrice}\n",
    "\"\"\")"
   ]
  },
  {
   "cell_type": "markdown",
   "id": "33024829",
   "metadata": {},
   "source": [
    "Assuming there are no accidents or delays, the distance that a car travels down the interstate can be calculated with the following formula:<br>\n",
    "Distance= Speed X Time\n",
    "<br>\n",
    "A car is traveling at 70 miles per hour. Write a program that ask the user about the hours the car will travel then displays the distance the car will travel those hours."
   ]
  },
  {
   "cell_type": "code",
   "execution_count": 2,
   "id": "7754c582",
   "metadata": {},
   "outputs": [
    {
     "name": "stdout",
     "output_type": "stream",
     "text": [
      "Enter the time of travel in hours: 4\n",
      " Your distance is:280.0 \n"
     ]
    }
   ],
   "source": [
    "speed = 70\n",
    "time = float(input(\"Enter the time of travel in hours: \"))\n",
    "distance = speed * time\n",
    "print(f' Your distance is:{distance} ')"
   ]
  }
 ],
 "metadata": {
  "kernelspec": {
   "display_name": "Python 3 (ipykernel)",
   "language": "python",
   "name": "python3"
  },
  "language_info": {
   "codemirror_mode": {
    "name": "ipython",
    "version": 3
   },
   "file_extension": ".py",
   "mimetype": "text/x-python",
   "name": "python",
   "nbconvert_exporter": "python",
   "pygments_lexer": "ipython3",
   "version": "3.11.3"
  }
 },
 "nbformat": 4,
 "nbformat_minor": 5
}
