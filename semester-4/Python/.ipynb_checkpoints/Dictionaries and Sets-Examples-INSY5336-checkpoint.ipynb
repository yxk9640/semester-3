{
 "cells": [
  {
   "cell_type": "markdown",
   "metadata": {},
   "source": [
    "1) Write a program that creates a dictionary containing the names of the Galilean moons of Jupiter as keys and their mean radiuses (in kilometers) as values. The dictionary should contain the following key-value pairs:\n",
    "<ul>\n",
    "    <li>Moon Name: Io Europa Ganymede Callisto</li>\n",
    "    <li>Mean Radius: 1821.6 1560.8 2634.1 2410.3</li>\n",
    "</ul>\n",
    "The program should also create a dictionary containing the moon names and their surface gravities (in meters per second squared). The dictionary should contain the following key- value pairs:\n",
    "\n",
    "<ul>\n",
    "    <li>Moon Name: Io Europa Ganymede Callisto</li>\n",
    "    <li>Surface Gravity: 1.796 1.314 1.428 1.235</li>\n",
    "</ul>\n",
    "\n",
    "The program should also create a dictionary containing the moon names and their orbital periods (in days). The dictionary should contain the following key-value pairs:\n",
    "<ul>\n",
    "    <li>Moon Name: Io Europa Ganymede Callisto</li>\n",
    "    <li>Orbital Period: 1.769 3.551 7.154 16.689</li>\n",
    "</ul>\n",
    "The program should let the user enter the name of a Galilean moon of Jupiter, then it should display the moon’s mean radius, surface gravity and orbital period."
   ]
  },
  {
   "cell_type": "code",
   "execution_count": 8,
   "metadata": {},
   "outputs": [
    {
     "name": "stdout",
     "output_type": "stream",
     "text": [
      "Enter name of a Galilean moon of Jupiter: lo\n",
      "1821.6\n",
      "The moon's mean radius, surface gravity and orbital period are: 1821.6,1.796,1.769\n"
     ]
    }
   ],
   "source": [
    "moon_radius = {\"lo\":1821.6, \"Europa\":1560.8, \"Ganymede\":2634.1, \"Callisto\":2410.3}\n",
    "moon_gravity = {\"lo\":1.796, \"Europa\":1.314, \"Ganymede\":1.428, \"Callisto\":1.235}\n",
    "moon_orbit = {\"lo\":1.769, \"Europa\":3.551, \"Ganymede\":7.154, \"Callisto\":16.689}\n",
    "\n",
    "user = input(\"Enter name of a Galilean moon of Jupiter: \")\n",
    "print(moon_radius[user])\n",
    "if user in moon_radius:\n",
    "    print(f\"The moon's mean radius, surface gravity and orbital period are: {moon_radius[user]},{moon_gravity[user]},{moon_orbit[user]}\")"
   ]
  },
  {
   "cell_type": "markdown",
   "metadata": {},
   "source": [
    "2) Write a program that opens a specified text file then displays a list of all the unique words found in the file."
   ]
  },
  {
   "cell_type": "code",
   "execution_count": 63,
   "metadata": {},
   "outputs": [
    {
     "name": "stdout",
     "output_type": "stream",
     "text": [
      "{'i', 'ships,', 'tons.', 'top', 'navigational', 'the', 'official', '1,820', 'shrewd', 'has', 'two', 'english', 'were', 'survey', 'steamers.', 'without', 'charter', 'tons,', 'plow', 'of', 'preference', 'competition', 'documents.', 'years,', 'world', 'great', \"company's\", 'can', 'craft,', 'success.', 'seas.', 'biggest', 'understand', 'metric', 'despite', 'had', 'provoked', 'unaware', 'three', 'fully', 'have', 'letter', 'involving', 'will', 'halifax,', 'much', 'even', 'recent', 'given', 'lost.', 'transportation', '1,162', 'twelve', 'passengers', 'still', 'for', 'no', 'accident', 'a', 'delay', 'business', 'more', 'others,', 'twenty-six', 'greater', 'astonished', 'eight', 'or', 'in', 'famous', 'ability,', 'finest', 'at', 'with', 'seen', 'these', 'one', 'that', 'whose', 'later,', 'if', '2,000', 'shipowner,', 'between', '400-horsepower', 'voyage', 'condensed', 'this', 'over', 'known', 'assets', 'founded', 'crossings', 'all', 'cunard', 'persia,', 'it', 'paddle', 'management.', 'made', 'canceled,', 'owned', 'france,', 'importance', '650-horsepower', 'java,', 'crowned', 'wheels', 'years', 'eastern,', 'details,', 'service', 'been', 'everyone', 'china,', 'recorded,', 'russia,', 'as', 'increased', 'vessels', 'and,', 'ships', 'conducted', 'is', 'strong', 'ever', 'give', 'just', 'other', 'man,', 'cunard.', 'added', 'scotia,', '1867', 'dealings', 'to', '1853', 'maritime', 'transoceanic', 'this,', 'tonnage.', 'speed', '1840', 'company,', 'liverpool', 'and', 'four', 'after', 'its', 'co.,', 'industrialist', 'mail-carrying', 'accordingly,', 'wooden', 'renewed,', 'burden', 'atlantic', 'company', 'arabia,', 'line', 'successively', 'be', 'power', 'choose', 'name', 'undertaking', 'propellers.', 'uproar', 'from', 'featuring', 'so', 'highly', 'by', 'postal'}\n"
     ]
    }
   ],
   "source": [
    "file = open(\"Assignments/Content.txt\",'r')\n",
    "lines = file.read().splitlines()\n",
    "wordList = []\n",
    "for i in range(len(lines)):\n",
    "    for word in lines[i].split(' '):\n",
    "        wordList.append(word.lower())\n",
    "print(set(wordList))\n",
    "file.close()"
   ]
  },
  {
   "cell_type": "markdown",
   "metadata": {},
   "source": [
    "3) Write a program that generates 100 random numbers between 1 and 10. The program should store the frequency of each number generated in a dictionary with the number as the key and the amount of times it has occurred as the value. For example, if the program generates the number 6 a total of 11 times, the dictionary will contain a key of 6 with an associated value of 11. Once all of the numbers have been generated, display information about the frequency of each number."
   ]
  },
  {
   "cell_type": "code",
   "execution_count": 16,
   "metadata": {},
   "outputs": [
    {
     "ename": "SyntaxError",
     "evalue": "invalid syntax (213609693.py, line 2)",
     "output_type": "error",
     "traceback": [
      "\u001b[0;36m  Cell \u001b[0;32mIn[16], line 2\u001b[0;36m\u001b[0m\n\u001b[0;31m    import counter from collections\u001b[0m\n\u001b[0m                   ^\u001b[0m\n\u001b[0;31mSyntaxError\u001b[0m\u001b[0;31m:\u001b[0m invalid syntax\n"
     ]
    }
   ],
   "source": [
    "import random \n",
    "import collections\n",
    "\n",
    "freq=[]\n",
    "for i in range(100):\n",
    "    generate = random.randint(1,10)\n",
    "    freq.append(generate)\n",
    "# freq_dict = {item: counter(item) for item in freq}\n",
    "freq_dict = Counter(freq)\n",
    "\n",
    "print(freq_dict)\n",
    "print(freq)\n",
    "    "
   ]
  },
  {
   "cell_type": "markdown",
   "metadata": {},
   "source": [
    "4) Write a program that reads the content of a text file. The program should create a dictionary in which the keys are the individual words found in the file and the values are the number of times each word appears."
   ]
  },
  {
   "cell_type": "code",
   "execution_count": null,
   "metadata": {},
   "outputs": [],
   "source": []
  },
  {
   "cell_type": "markdown",
   "metadata": {},
   "source": [
    "5)Write a program that reads the contents of a text file. The program should create a dictionary in which the key-value pairs are described as follows:\n",
    "<ul><li>Key. The keys are the individual words found in the file.</li>\n",
    "<li>Values. Each value is a list that contains the line numbers in the file where the word\n",
    "    (the key) is found.</li></ul>\n",
    "Once the dictionary is built, the program should create another text file, known as a word index, listing the contents of the dictionary. The word index file should contain an alpha- betical listing of the words that are stored as keys in the dictionary, along with the line numbers where the words appear in the original file."
   ]
  },
  {
   "cell_type": "code",
   "execution_count": null,
   "metadata": {},
   "outputs": [],
   "source": []
  },
  {
   "cell_type": "markdown",
   "metadata": {},
   "source": [
    "6) Write a Python program to sum all the items in a dictionary."
   ]
  },
  {
   "cell_type": "code",
   "execution_count": null,
   "metadata": {},
   "outputs": [],
   "source": []
  },
  {
   "cell_type": "code",
   "execution_count": null,
   "metadata": {},
   "outputs": [],
   "source": []
  },
  {
   "cell_type": "markdown",
   "metadata": {},
   "source": [
    "7)Write a Python program to remove a key from a dictionary. "
   ]
  },
  {
   "cell_type": "code",
   "execution_count": null,
   "metadata": {},
   "outputs": [],
   "source": []
  },
  {
   "cell_type": "markdown",
   "metadata": {},
   "source": [
    "8)Write a Python script to print a dictionary where the keys are numbers between 1 and 15 (both included) and the values are square of keys. "
   ]
  },
  {
   "cell_type": "code",
   "execution_count": null,
   "metadata": {},
   "outputs": [],
   "source": []
  },
  {
   "cell_type": "markdown",
   "metadata": {},
   "source": [
    "9)Write a Python program to print all unique values in a dictionary."
   ]
  },
  {
   "cell_type": "code",
   "execution_count": null,
   "metadata": {},
   "outputs": [],
   "source": [
    "L = [{\"V\":\"S001\"}, {\"V\": \"S002\"}, {\"VI\": \"S001\"}, {\"VI\": \"S005\"}, {\"VII\":\"S005\"}, {\"V\":\"S009\"},{\"VIII\":\"S007\"}]\n",
    "\n"
   ]
  },
  {
   "cell_type": "markdown",
   "metadata": {},
   "source": [
    "10)Write a Python program to create a dictionary from a string."
   ]
  },
  {
   "cell_type": "code",
   "execution_count": null,
   "metadata": {},
   "outputs": [],
   "source": []
  },
  {
   "cell_type": "markdown",
   "metadata": {},
   "source": [
    "11)Write a Python program to count the values associated with key in a dictionary."
   ]
  },
  {
   "cell_type": "code",
   "execution_count": null,
   "metadata": {},
   "outputs": [],
   "source": []
  }
 ],
 "metadata": {
  "kernelspec": {
   "display_name": "Python 3 (ipykernel)",
   "language": "python",
   "name": "python3"
  },
  "language_info": {
   "codemirror_mode": {
    "name": "ipython",
    "version": 3
   },
   "file_extension": ".py",
   "mimetype": "text/x-python",
   "name": "python",
   "nbconvert_exporter": "python",
   "pygments_lexer": "ipython3",
   "version": "3.10.2"
  }
 },
 "nbformat": 4,
 "nbformat_minor": 4
}
