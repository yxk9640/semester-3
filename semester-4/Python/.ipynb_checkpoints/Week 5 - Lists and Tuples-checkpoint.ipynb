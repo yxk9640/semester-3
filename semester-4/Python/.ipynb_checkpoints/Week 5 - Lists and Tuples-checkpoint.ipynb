{
 "cells": [
  {
   "cell_type": "markdown",
   "metadata": {},
   "source": [
    "   \n",
    "    Neshat Beheshti\n",
    "    University of Texas Arlington\n",
    "\n",
    "    This document can only be used for class studies. \n",
    "    You are not allowed to share it in any public platform."
   ]
  },
  {
   "cell_type": "markdown",
   "metadata": {},
   "source": [
    "        The Material for this Notebook is Adopted from \n",
    "        Starting Out with Python (4th Edition)- by Tony Gaddis Pearson"
   ]
  },
  {
   "cell_type": "code",
   "execution_count": 15,
   "metadata": {},
   "outputs": [
    {
     "name": "stdout",
     "output_type": "stream",
     "text": [
      "[1, 2, 3]\n",
      "True\n"
     ]
    }
   ],
   "source": [
    "list = [1,2,3,4,5,6,7]\n",
    "print(list[:-4])\n",
    "\n",
    "s = 'foo'\n",
    "t = 'bar'\n",
    "print('barf' in 2*(s+t))"
   ]
  },
  {
   "cell_type": "markdown",
   "metadata": {},
   "source": [
    "# Learn \n",
    "1. zip\n",
    "2. accumlator\n",
    "3. how to avoid adding \\n at last position while writing\n",
    "4. enumerate\n",
    "\n",
    "#Points \n",
    "<h3> List </h3>\n",
    "1. del focus on index\n",
    "2. when we use = to copy each operations affect all the lists..Instead use copy()\n",
    "    \n",
    "    list = [1,2,3]\n",
    "    list1 = list\n",
    "    list1[1] = 10\n",
    "    print(list,list1)\n",
    "    </br>//output : [1, 10, 3] [1, 10, 3]\n",
    "    \n",
    "   <h3> Tuple</h3>\n",
    "    "
   ]
  },
  {
   "cell_type": "markdown",
   "metadata": {},
   "source": [
    "<h1 align='center' style=\"color: blue;\">Lists and Tuples</h1>"
   ]
  },
  {
   "cell_type": "markdown",
   "metadata": {},
   "source": [
    "<b>Sequence:</b> an object that contains multiple items of data\n",
    "<ul><li>The items are stored in sequence one after another.</li></ul>\n",
    "Python provides different types of sequences, including <b>lists and tuples</b>.\n",
    "<ul><li>The difference between these is that a list is mutable and a tuple is immutable.</li></ul>\n"
   ]
  },
  {
   "cell_type": "markdown",
   "metadata": {},
   "source": [
    "## 1.1. Introduction to Lists"
   ]
  },
  {
   "cell_type": "markdown",
   "metadata": {},
   "source": [
    "<b>List:</b> an object that contains multiple data items.\n",
    "<ul>\n",
    "    <li>Lists are mutable: that their contents can be changed during a program’s execution.</li>\n",
    "    <li>Lists are dynamic data structures: items may be added to them or removed from them. </li>\n",
    "    <li>Each item that is stored in a list is called an <b>element</b>.</li>\n",
    "    <ul>\n",
    "        <li>Format: <i>list = [item1, item2, etc.]</i></li>\n",
    "    </ul></ul>"
   ]
  },
  {
   "cell_type": "markdown",
   "metadata": {},
   "source": [
    "<b>Example:</b>"
   ]
  },
  {
   "cell_type": "code",
   "execution_count": 1,
   "metadata": {},
   "outputs": [],
   "source": [
    "# The items that are enclosed in brackets and separated by commas are the list elements.\n",
    "odd_numbers = [1,3,5,7,9]"
   ]
  },
  {
   "cell_type": "code",
   "execution_count": 2,
   "metadata": {},
   "outputs": [],
   "source": [
    "names = ['Molly', 'Steven', 'Will', 'Alicia', 'Adriana',1]"
   ]
  },
  {
   "cell_type": "markdown",
   "metadata": {},
   "source": [
    "<li><b>Note:</b> A list can hold items of different types.</li>"
   ]
  },
  {
   "cell_type": "markdown",
   "metadata": {},
   "source": [
    "<b>Example:</b>"
   ]
  },
  {
   "cell_type": "code",
   "execution_count": 5,
   "metadata": {},
   "outputs": [],
   "source": [
    "content = [\"Alex\", 32, 234.56]"
   ]
  },
  {
   "cell_type": "markdown",
   "metadata": {},
   "source": [
    "<b>Note:</b> print function can be used to display an entire list."
   ]
  },
  {
   "cell_type": "code",
   "execution_count": 6,
   "metadata": {},
   "outputs": [
    {
     "name": "stdout",
     "output_type": "stream",
     "text": [
      "[1, 3, 5, 7, 9]\n"
     ]
    }
   ],
   "source": [
    "odd_numbers = [1,3,5,7,9]\n",
    "print(odd_numbers)"
   ]
  },
  {
   "cell_type": "markdown",
   "metadata": {},
   "source": [
    "<b>Note:</b> list() function can convert certain types of objects to lists"
   ]
  },
  {
   "cell_type": "markdown",
   "metadata": {},
   "source": [
    "<b>Example:</b>"
   ]
  },
  {
   "cell_type": "code",
   "execution_count": null,
   "metadata": {},
   "outputs": [],
   "source": [
    "numbers = list(range(6))\n",
    "print(numbers)"
   ]
  },
  {
   "cell_type": "markdown",
   "metadata": {},
   "source": [
    "<b>Example:</b>"
   ]
  },
  {
   "cell_type": "code",
   "execution_count": null,
   "metadata": {},
   "outputs": [],
   "source": [
    "numbers = list(range(10,5,-2))\n",
    "print(numbers)"
   ]
  },
  {
   "cell_type": "markdown",
   "metadata": {},
   "source": [
    "## 1.2. The Repetition Operator"
   ]
  },
  {
   "cell_type": "markdown",
   "metadata": {},
   "source": [
    "Repetition operator: makes multiple copies of a list and joins them together.\n",
    "<ul><li>The * symbol is a repetition operator when applied to a sequence and an integer.</li>\n",
    "    <ul><li>Sequence is left operand, number is right.</li></ul>\n",
    "    <li>General format: <i>list * n</i></li></ul>"
   ]
  },
  {
   "cell_type": "markdown",
   "metadata": {},
   "source": [
    "<b>Example:</b>"
   ]
  },
  {
   "cell_type": "code",
   "execution_count": 1,
   "metadata": {},
   "outputs": [
    {
     "name": "stdout",
     "output_type": "stream",
     "text": [
      "[1, 1, 1, 1]\n"
     ]
    }
   ],
   "source": [
    "numbers = [1] * 4\n",
    "print(numbers)"
   ]
  },
  {
   "cell_type": "code",
   "execution_count": 2,
   "metadata": {},
   "outputs": [
    {
     "name": "stdout",
     "output_type": "stream",
     "text": [
      "[2, 4, 6, 8, 2, 4, 6, 8, 2, 4, 6, 8]\n"
     ]
    }
   ],
   "source": [
    "numbers = [2,4,6,8]*3\n",
    "print(numbers)"
   ]
  },
  {
   "cell_type": "markdown",
   "metadata": {},
   "source": [
    "You can iterate over a list using a for loop.\n",
    "    <ul><li>Format: <i>for x in list:</i>"
   ]
  },
  {
   "cell_type": "markdown",
   "metadata": {},
   "source": [
    "<b>Example:</b>"
   ]
  },
  {
   "cell_type": "code",
   "execution_count": null,
   "metadata": {},
   "outputs": [],
   "source": [
    "numbers = [10,20,30,40]\n",
    "for i in numbers:\n",
    "    print(i)"
   ]
  },
  {
   "cell_type": "markdown",
   "metadata": {},
   "source": [
    "## 1.3. Indexing"
   ]
  },
  {
   "cell_type": "markdown",
   "metadata": {},
   "source": [
    "<b>Index :</b> a number specifying the position of an element in a list.\n",
    "<ul><li>Enables access to individual element in list.</li>\n",
    "    <li>Index of first element in the list is 0, second element is 1, and n’th element is n-1.</li>\n",
    "    <ul>"
   ]
  },
  {
   "cell_type": "markdown",
   "metadata": {},
   "source": [
    "<b>Example:</b>"
   ]
  },
  {
   "cell_type": "code",
   "execution_count": 5,
   "metadata": {},
   "outputs": [
    {
     "name": "stdout",
     "output_type": "stream",
     "text": [
      "10 20 30 40\n"
     ]
    }
   ],
   "source": [
    "my_numbers = [10,20,30,40]\n",
    "print(my_numbers[0],my_numbers[1],my_numbers[2],my_numbers[3])"
   ]
  },
  {
   "cell_type": "code",
   "execution_count": 6,
   "metadata": {
    "scrolled": true
   },
   "outputs": [
    {
     "name": "stdout",
     "output_type": "stream",
     "text": [
      "10\n",
      "20\n",
      "30\n",
      "40\n"
     ]
    },
    {
     "ename": "IndexError",
     "evalue": "list index out of range",
     "output_type": "error",
     "traceback": [
      "\u001b[0;31m---------------------------------------------------------------------------\u001b[0m",
      "\u001b[0;31mIndexError\u001b[0m                                Traceback (most recent call last)",
      "Cell \u001b[0;32mIn[6], line 3\u001b[0m\n\u001b[1;32m      1\u001b[0m index \u001b[38;5;241m=\u001b[39m \u001b[38;5;241m0\u001b[39m\n\u001b[1;32m      2\u001b[0m \u001b[38;5;28;01mwhile\u001b[39;00m index \u001b[38;5;241m<\u001b[39m \u001b[38;5;241m5\u001b[39m:\n\u001b[0;32m----> 3\u001b[0m     \u001b[38;5;28mprint\u001b[39m(\u001b[43mmy_numbers\u001b[49m\u001b[43m[\u001b[49m\u001b[43mindex\u001b[49m\u001b[43m]\u001b[49m)\n\u001b[1;32m      4\u001b[0m     index \u001b[38;5;241m+\u001b[39m\u001b[38;5;241m=\u001b[39m \u001b[38;5;241m1\u001b[39m\n",
      "\u001b[0;31mIndexError\u001b[0m: list index out of range"
     ]
    }
   ],
   "source": [
    "index = 0\n",
    "while index < 5:\n",
    "    print(my_numbers[index])\n",
    "    index += 1"
   ]
  },
  {
   "cell_type": "markdown",
   "metadata": {},
   "source": [
    "<b>Note: </b> An <b>IndexError</b> exception is raised if an  invalid index is used."
   ]
  },
  {
   "cell_type": "code",
   "execution_count": 7,
   "metadata": {
    "scrolled": true
   },
   "outputs": [
    {
     "name": "stdout",
     "output_type": "stream",
     "text": [
      "10\n",
      "20\n",
      "30\n",
      "40\n"
     ]
    },
    {
     "ename": "IndexError",
     "evalue": "list index out of range",
     "output_type": "error",
     "traceback": [
      "\u001b[0;31m---------------------------------------------------------------------------\u001b[0m",
      "\u001b[0;31mIndexError\u001b[0m                                Traceback (most recent call last)",
      "Cell \u001b[0;32mIn[7], line 3\u001b[0m\n\u001b[1;32m      1\u001b[0m index \u001b[38;5;241m=\u001b[39m \u001b[38;5;241m0\u001b[39m\n\u001b[1;32m      2\u001b[0m \u001b[38;5;28;01mwhile\u001b[39;00m index \u001b[38;5;241m<\u001b[39m \u001b[38;5;241m5\u001b[39m:\n\u001b[0;32m----> 3\u001b[0m     \u001b[38;5;28mprint\u001b[39m(\u001b[43mmy_numbers\u001b[49m\u001b[43m[\u001b[49m\u001b[43mindex\u001b[49m\u001b[43m]\u001b[49m)\n\u001b[1;32m      4\u001b[0m     index \u001b[38;5;241m+\u001b[39m\u001b[38;5;241m=\u001b[39m \u001b[38;5;241m1\u001b[39m\n",
      "\u001b[0;31mIndexError\u001b[0m: list index out of range"
     ]
    }
   ],
   "source": [
    "index = 0\n",
    "while index < 5:\n",
    "    print(my_numbers[index])\n",
    "    index += 1"
   ]
  },
  {
   "cell_type": "markdown",
   "metadata": {},
   "source": [
    "Negative indexes identify positions relative to the end of the list.\n",
    "    <ul><li>The index -1 identifies the last element.</li>\n",
    "        <li>The index -2 identifies the next to last element, etc.</li></ul>"
   ]
  },
  {
   "cell_type": "code",
   "execution_count": 8,
   "metadata": {},
   "outputs": [
    {
     "name": "stdout",
     "output_type": "stream",
     "text": [
      "40 30 20 10\n"
     ]
    }
   ],
   "source": [
    "my_numbers = [10,20,30,40]\n",
    "print(my_numbers[-1],my_numbers[-2],my_numbers[-3],my_numbers[-4])"
   ]
  },
  {
   "cell_type": "markdown",
   "metadata": {},
   "source": [
    "## 1.4. The <i>len</i> function"
   ]
  },
  {
   "cell_type": "markdown",
   "metadata": {},
   "source": [
    "<b><i>len</i> function:</b> returns the length of a sequence such as a list.\n",
    "<ul>\n",
    "    <li>Example: <i>size = len(my_list)</i></li>\n",
    "    <li>Returns the number of elements in the list, so the index of last element is <i>len(list)-1</i></li>\n",
    "</ul>"
   ]
  },
  {
   "cell_type": "markdown",
   "metadata": {},
   "source": [
    "<b>Example:</b>"
   ]
  },
  {
   "cell_type": "code",
   "execution_count": null,
   "metadata": {},
   "outputs": [],
   "source": [
    "my_list = [50,60,70,80]\n",
    "size = len(my_list)\n",
    "print(size)"
   ]
  },
  {
   "cell_type": "code",
   "execution_count": null,
   "metadata": {},
   "outputs": [],
   "source": [
    "index(last_element )= len(element)-1"
   ]
  },
  {
   "cell_type": "markdown",
   "metadata": {},
   "source": [
    "<b>Note:</b> <i>len</i> function can be used to prevent an <b>IndexError</b> exception when iterating over a list with a loop"
   ]
  },
  {
   "cell_type": "code",
   "execution_count": null,
   "metadata": {},
   "outputs": [],
   "source": [
    "my_list = [50,60,70,80] \n",
    "index = 0\n",
    "while index < 5:\n",
    "    print(my_list[index]) \n",
    "    index += 1"
   ]
  },
  {
   "cell_type": "code",
   "execution_count": null,
   "metadata": {},
   "outputs": [],
   "source": [
    "my_list = [50,60,70,80] \n",
    "index = 0\n",
    "while index < len(my_list):\n",
    "    print(my_list[index]) \n",
    "    index += 1"
   ]
  },
  {
   "cell_type": "code",
   "execution_count": null,
   "metadata": {},
   "outputs": [],
   "source": [
    "my_list2 = [100,200,500,540,650]\n",
    "index = 0\n",
    "while index < 6:\n",
    "    print(my_list2[index])\n",
    "    index += 1"
   ]
  },
  {
   "cell_type": "code",
   "execution_count": null,
   "metadata": {},
   "outputs": [],
   "source": [
    "my_list2 = [100,200,500,540,650]\n",
    "index = 0\n",
    "while index < len(my_list2):\n",
    "    print(my_list2[index])\n",
    "    index += 1"
   ]
  },
  {
   "cell_type": "markdown",
   "metadata": {},
   "source": [
    "## 1.5. Lists Are Mutable"
   ]
  },
  {
   "cell_type": "markdown",
   "metadata": {},
   "source": [
    "Mutable sequence: the items in the sequence can be changed.\n",
    "<ul><li>Lists are mutable, and so their elements can be changed.</li></ul>\n",
    "An expression such as: \n",
    "\t<ul><li><i>list[1] = new_value</i> can be used to assign a new value to a list element.</li>\n",
    "</ul>"
   ]
  },
  {
   "cell_type": "markdown",
   "metadata": {},
   "source": [
    "<b>Example:</b>"
   ]
  },
  {
   "cell_type": "code",
   "execution_count": null,
   "metadata": {},
   "outputs": [],
   "source": [
    "numbers = [1, 2, 3, 4, 5]\n",
    "print(numbers)\n",
    "numbers[0] = 66\n",
    "print(numbers)"
   ]
  },
  {
   "cell_type": "code",
   "execution_count": null,
   "metadata": {},
   "outputs": [],
   "source": [
    "numbers[3] = 100\n",
    "print(numbers)"
   ]
  },
  {
   "cell_type": "code",
   "execution_count": null,
   "metadata": {},
   "outputs": [],
   "source": [
    "numbers[5] = 25\n",
    "print(numbers)"
   ]
  },
  {
   "cell_type": "markdown",
   "metadata": {},
   "source": [
    "<b>Note:</b> Must use a valid index to prevent raising of an <b>IndexError</b> exception."
   ]
  },
  {
   "cell_type": "markdown",
   "metadata": {},
   "source": [
    "<b>Example:</b>"
   ]
  },
  {
   "cell_type": "code",
   "execution_count": 9,
   "metadata": {},
   "outputs": [
    {
     "ename": "IndexError",
     "evalue": "list assignment index out of range",
     "output_type": "error",
     "traceback": [
      "\u001b[0;31m---------------------------------------------------------------------------\u001b[0m",
      "\u001b[0;31mIndexError\u001b[0m                                Traceback (most recent call last)",
      "Cell \u001b[0;32mIn[9], line 2\u001b[0m\n\u001b[1;32m      1\u001b[0m numbers \u001b[38;5;241m=\u001b[39m [\u001b[38;5;241m1\u001b[39m, \u001b[38;5;241m2\u001b[39m, \u001b[38;5;241m3\u001b[39m, \u001b[38;5;241m4\u001b[39m, \u001b[38;5;241m5\u001b[39m]\n\u001b[0;32m----> 2\u001b[0m \u001b[43mnumbers\u001b[49m\u001b[43m[\u001b[49m\u001b[38;5;241;43m5\u001b[39;49m\u001b[43m]\u001b[49m \u001b[38;5;241m=\u001b[39m \u001b[38;5;241m66\u001b[39m\n\u001b[1;32m      3\u001b[0m \u001b[38;5;28mprint\u001b[39m(numbers)\n",
      "\u001b[0;31mIndexError\u001b[0m: list assignment index out of range"
     ]
    }
   ],
   "source": [
    "numbers = [1, 2, 3, 4, 5]\n",
    "numbers[5] = 66\n",
    "print(numbers)"
   ]
  },
  {
   "cell_type": "markdown",
   "metadata": {},
   "source": [
    "<b>Example:</b> Now its your turn, create a list with 5 elements and fill the list with the value 99. "
   ]
  },
  {
   "cell_type": "code",
   "execution_count": 15,
   "metadata": {},
   "outputs": [
    {
     "name": "stdout",
     "output_type": "stream",
     "text": [
      "[99, 99, 99, 99, 99]\n"
     ]
    }
   ],
   "source": [
    "elements = [1,2,3,4,5]\n",
    "for i in range(len(elements)):\n",
    "    elements[i]=99\n",
    "print(elements)"
   ]
  },
  {
   "cell_type": "code",
   "execution_count": 17,
   "metadata": {},
   "outputs": [
    {
     "name": "stdout",
     "output_type": "stream",
     "text": [
      "[99, 99, 99, 99, 99]\n"
     ]
    }
   ],
   "source": [
    "elements = [1,2,3,4,5]\n",
    "i=0\n",
    "while i < len(elements):\n",
    "    elements[i] = 99\n",
    "    i+=1\n",
    "print(elements)"
   ]
  },
  {
   "cell_type": "markdown",
   "metadata": {},
   "source": [
    "## 1.6. Concatenating Lists"
   ]
  },
  {
   "cell_type": "markdown",
   "metadata": {},
   "source": [
    "<ul><li>Concatenate: join two things together.</li> \n",
    "    <li>The <b> + </b> operator can be used to concatenate two lists.</li>\n",
    "    <ul><li>Cannot concatenate a list with another data type, such as a number.</li></ul>\n",
    "    </ul>"
   ]
  },
  {
   "cell_type": "markdown",
   "metadata": {},
   "source": [
    "<b>Example:</b>"
   ]
  },
  {
   "cell_type": "code",
   "execution_count": 18,
   "metadata": {},
   "outputs": [
    {
     "name": "stdout",
     "output_type": "stream",
     "text": [
      "[1, 2, 3, 4, 5, 6, 7, 8]\n"
     ]
    }
   ],
   "source": [
    "list1 = [1, 2, 3, 4] \n",
    "list2 = [5, 6, 7, 8] \n",
    "list3 = list1 + list2\n",
    "print(list3)"
   ]
  },
  {
   "cell_type": "code",
   "execution_count": 19,
   "metadata": {},
   "outputs": [
    {
     "name": "stdout",
     "output_type": "stream",
     "text": [
      "['Joanne', 'Karen', 'Lori', 'Chris', 'Jerry', 'Will']\n"
     ]
    }
   ],
   "source": [
    "girl_names = ['Joanne', 'Karen', 'Lori'] \n",
    "boy_names = ['Chris', 'Jerry', 'Will'] \n",
    "all_names = girl_names + boy_names\n",
    "print(all_names)"
   ]
  },
  {
   "cell_type": "code",
   "execution_count": 20,
   "metadata": {},
   "outputs": [
    {
     "name": "stdout",
     "output_type": "stream",
     "text": [
      "[1, 2, 3, 4, 'Joanne', 'Karen', 'Lori']\n"
     ]
    }
   ],
   "source": [
    "list1 = [1, 2, 3, 4]\n",
    "girl_names = ['Joanne', 'Karen', 'Lori'] \n",
    "\n",
    "my_name = list1 + girl_names\n",
    "print(my_name)"
   ]
  },
  {
   "cell_type": "code",
   "execution_count": 33,
   "metadata": {},
   "outputs": [
    {
     "name": "stdout",
     "output_type": "stream",
     "text": [
      "[4 6 5]\n"
     ]
    }
   ],
   "source": [
    "list1 = [1,4,5]\n",
    "list2 = [1,4,5] + 3\n",
    "print(list2)"
   ]
  },
  {
   "cell_type": "markdown",
   "metadata": {},
   "source": [
    "<b>Note:</b> The <b>+=</b> augmented assignment operator can also be used to concatenate lists."
   ]
  },
  {
   "cell_type": "markdown",
   "metadata": {},
   "source": [
    "<b>Example:</b>"
   ]
  },
  {
   "cell_type": "code",
   "execution_count": null,
   "metadata": {},
   "outputs": [],
   "source": [
    "list1 = [1, 2, 3, 4] \n",
    "list2 = [5, 6, 7, 8] \n",
    "list1 += list2    #list1 = list1+list2    \n",
    "\n",
    "print(list1)\n",
    "print(list2)"
   ]
  },
  {
   "cell_type": "markdown",
   "metadata": {},
   "source": [
    "<b>Example:</b>"
   ]
  },
  {
   "cell_type": "code",
   "execution_count": null,
   "metadata": {},
   "outputs": [],
   "source": [
    "girl_names = ['Joanne', 'Karen', 'Lori']\n",
    "girl_names += ['Jenny', 'Kelly'] # girl_name = girl_names +  ['Jenny', 'Kelly']\n",
    "print(girl_names)"
   ]
  },
  {
   "cell_type": "markdown",
   "metadata": {},
   "source": [
    "## 2.1. List Slicing"
   ]
  },
  {
   "cell_type": "markdown",
   "metadata": {},
   "source": [
    "Slice: a span of items that are taken from a sequence\n",
    "<ul><li>List slicing format:  <i>list_name[start : end]</i></li>\n",
    "    <li>Span is a list containing copies of elements from <b>start</b> up to, but not including, <b>end</b></li>\n",
    "    <ul><li>If <i>start</i> not specified, 0 is used for start index.</li>\n",
    "        <li>If <i>end</i> not specified, <i>len(list)</i> is used for end index.</li></ul>\n",
    "    <li>Slicing expressions can include a step value and negative indexes relative to end of list.</li>"
   ]
  },
  {
   "cell_type": "markdown",
   "metadata": {},
   "source": [
    "<b>Example:</b>"
   ]
  },
  {
   "cell_type": "code",
   "execution_count": 34,
   "metadata": {},
   "outputs": [],
   "source": [
    "days = ['Sunday', 'Monday', 'Tuesday', 'Wednesday', 'Thursday', 'Friday', 'Saturday']"
   ]
  },
  {
   "cell_type": "code",
   "execution_count": 35,
   "metadata": {},
   "outputs": [
    {
     "name": "stdout",
     "output_type": "stream",
     "text": [
      "['Tuesday', 'Wednesday', 'Thursday']\n"
     ]
    }
   ],
   "source": [
    "mid_days = days[2:5]\n",
    "print(mid_days)"
   ]
  },
  {
   "cell_type": "markdown",
   "metadata": {},
   "source": [
    "<b>Example:</b>"
   ]
  },
  {
   "cell_type": "code",
   "execution_count": 36,
   "metadata": {},
   "outputs": [
    {
     "name": "stdout",
     "output_type": "stream",
     "text": [
      "[2, 3]\n"
     ]
    }
   ],
   "source": [
    "numbers = [1, 2, 3, 4, 5]\n",
    "print(numbers[1:3])"
   ]
  },
  {
   "cell_type": "code",
   "execution_count": 37,
   "metadata": {},
   "outputs": [
    {
     "name": "stdout",
     "output_type": "stream",
     "text": [
      "[1, 2, 3]\n"
     ]
    }
   ],
   "source": [
    "print(numbers[:3])"
   ]
  },
  {
   "cell_type": "code",
   "execution_count": 38,
   "metadata": {},
   "outputs": [
    {
     "name": "stdout",
     "output_type": "stream",
     "text": [
      "[3, 4, 5]\n"
     ]
    }
   ],
   "source": [
    "print(numbers[2:])"
   ]
  },
  {
   "cell_type": "code",
   "execution_count": 39,
   "metadata": {},
   "outputs": [
    {
     "name": "stdout",
     "output_type": "stream",
     "text": [
      "[1, 2, 3, 4, 5]\n"
     ]
    }
   ],
   "source": [
    "print(numbers[:])"
   ]
  },
  {
   "cell_type": "code",
   "execution_count": 40,
   "metadata": {},
   "outputs": [
    {
     "name": "stdout",
     "output_type": "stream",
     "text": [
      "[1, 2, 3, 4, 5]\n"
     ]
    }
   ],
   "source": [
    "print(numbers[0:5])"
   ]
  },
  {
   "cell_type": "code",
   "execution_count": 41,
   "metadata": {},
   "outputs": [
    {
     "name": "stdout",
     "output_type": "stream",
     "text": [
      "[1, 2, 3, 4, 5]\n"
     ]
    }
   ],
   "source": [
    "print(numbers[0:len(numbers)])"
   ]
  },
  {
   "cell_type": "markdown",
   "metadata": {},
   "source": [
    "<b>Example:</b>"
   ]
  },
  {
   "cell_type": "code",
   "execution_count": 42,
   "metadata": {},
   "outputs": [],
   "source": [
    "numbers = [1, 2, 3, 4, 5, 6, 7, 8, 9, 10]"
   ]
  },
  {
   "cell_type": "code",
   "execution_count": 52,
   "metadata": {},
   "outputs": [
    {
     "name": "stdout",
     "output_type": "stream",
     "text": [
      "[2, 3, 4, 5, 6, 7, 8]\n",
      "[2, 4, 6, 8]\n"
     ]
    }
   ],
   "source": [
    "print(numbers[1:8])\n",
    "print(numbers[1:8:2])"
   ]
  },
  {
   "cell_type": "code",
   "execution_count": 53,
   "metadata": {},
   "outputs": [
    {
     "name": "stdout",
     "output_type": "stream",
     "text": [
      "[6, 7, 8, 9, 10]\n"
     ]
    }
   ],
   "source": [
    "print(numbers[-5:])"
   ]
  },
  {
   "cell_type": "markdown",
   "metadata": {},
   "source": [
    "## 3.1 Finding Items in Lists with the in Operator"
   ]
  },
  {
   "cell_type": "markdown",
   "metadata": {},
   "source": [
    "You can use the in operator to determine whether an item is contained in a list\n",
    "<ul><li>General format: <i>item in list</i></li>\n",
    "    <li>Returns <i>True</i> if the item is in the list, or <i>False</i> if it is not in the list</li></ul>\n",
    "Similarly you can use the <i>not</i> in operator to determine whether an item is not in a list"
   ]
  },
  {
   "cell_type": "code",
   "execution_count": null,
   "metadata": {},
   "outputs": [],
   "source": [
    "def main():\n",
    "    # Create a list of product numbers. \n",
    "    prod_nums = ['V475', 'F987', 'Q143', 'R688']\n",
    "    # Get a product number to search for. \n",
    "    search = input('Enter a product number: ')\n",
    "    # Determine whether the product number is in the list. \n",
    "    if search in prod_nums:\n",
    "        print(search, 'was found in the list.') \n",
    "    else:\n",
    "        print(search, 'was not found in the list.')\n",
    "# Call the main function. \n",
    "main()"
   ]
  },
  {
   "cell_type": "markdown",
   "metadata": {},
   "source": [
    "<b>Example:</b> Now it's your turn, consider the list of names ['Sara','Ali','Joe','Kally']. Ask the user to enter a name. Determine whether the name is in the list."
   ]
  },
  {
   "cell_type": "code",
   "execution_count": 55,
   "metadata": {},
   "outputs": [
    {
     "name": "stdout",
     "output_type": "stream",
     "text": [
      "Enter a name: Sara\n",
      "Sara found in list names\n"
     ]
    }
   ],
   "source": [
    "names = ['Sara','Ali','Joe','Kally']\n",
    "user = input(\"Enter a name: \")\n",
    "if user in names:\n",
    "    print(user, \"found in list names\")\n",
    "else:\n",
    "    print(user,\"Not found\")"
   ]
  },
  {
   "cell_type": "markdown",
   "metadata": {},
   "source": [
    "## 4.1 List Methods and Useful Built-in Functions"
   ]
  },
  {
   "cell_type": "markdown",
   "metadata": {},
   "source": [
    "<ul><li><b>append(item):</b> used to add items to a list – item is appended to the end of the existing list.</li>\n",
    "    </ul>"
   ]
  },
  {
   "cell_type": "code",
   "execution_count": null,
   "metadata": {},
   "outputs": [],
   "source": [
    "def main():\n",
    "    # First, create an empty list. \n",
    "    name_list = []\n",
    "    # Create a variable to control the loop. \n",
    "    again = 'y'\n",
    "    # Add some names to the list. \n",
    "    while again == 'y':\n",
    "    # Get a name from the user. \n",
    "        name = input('Enter a name: ')\n",
    "    # Append the name to the list. \n",
    "        name_list.append(name)\n",
    "\n",
    "    # Add another one?\n",
    "        print('Do you want to add another name?') \n",
    "        again = input('y = yes, anything else = no: ') \n",
    "        print()\n",
    "        \n",
    "    # Display the names that were entered.\n",
    "    print('Here are the names you entered.')\n",
    "    \n",
    "    print(name_list)\n",
    "    \n",
    "    for name in name_list: \n",
    "        print(name)\n",
    "        \n",
    "# Call the main function. \n",
    "main()"
   ]
  },
  {
   "cell_type": "markdown",
   "metadata": {},
   "source": [
    "<b>Example:</b>Get a list with values stored in it,then display the values in the list"
   ]
  },
  {
   "cell_type": "code",
   "execution_count": null,
   "metadata": {},
   "outputs": [],
   "source": [
    "def main():\n",
    "    \n",
    "    num =[]\n",
    "    \n",
    "    keep_going = 'y'\n",
    "    \n",
    "    while keep_going =='y':\n",
    "        item = int(input('Enter a number: '))\n",
    "        \n",
    "        num.append(item)\n",
    "        \n",
    "        keep_going= input('Do you want to continue: (y/n) ')\n",
    "        \n",
    "    print(num)\n",
    "    \n",
    "    for number in num:\n",
    "        print(number)\n",
    "main()"
   ]
  },
  {
   "cell_type": "markdown",
   "metadata": {},
   "source": [
    "<b>Example:</b>"
   ]
  },
  {
   "cell_type": "markdown",
   "metadata": {},
   "source": [
    "Now its your turn. Design a program that generates a seven-digit lottery number. The program should generate seven random numbers, each in the range of 0 through 9, and assign each number to a list element. Then write another loop that displays the contents of the list."
   ]
  },
  {
   "cell_type": "code",
   "execution_count": 76,
   "metadata": {},
   "outputs": [
    {
     "name": "stdout",
     "output_type": "stream",
     "text": [
      "[7, 0, 8, 1, 8, 1, 0]\n",
      "7\n",
      "0\n",
      "8\n",
      "1\n",
      "8\n",
      "1\n",
      "0\n"
     ]
    }
   ],
   "source": [
    "import random\n",
    "digit=[]\n",
    "for i in range(0,7):\n",
    "    num = random.randint(0,9)\n",
    "    digit.append(num)\n",
    "print(digit)\n",
    "\n",
    "for i in digit:\n",
    "    print(i)"
   ]
  },
  {
   "cell_type": "markdown",
   "metadata": {},
   "source": [
    "<b>index(item):</b> used to determine where an item is located in a list.\n",
    "    <ul><li>Returns the index of the first element in the list containing item.</li>\n",
    "        <li>Raises ValueError exception if item not in the list.</li>\n",
    "    </ul>"
   ]
  },
  {
   "cell_type": "code",
   "execution_count": 71,
   "metadata": {},
   "outputs": [
    {
     "name": "stdout",
     "output_type": "stream",
     "text": [
      "Which item should I change? Burgers\n",
      "Enter the new value: Rice\n",
      "Here is the revised list:\n",
      "['Pizza', 'Rice', 'Burgers', 'Chips', 'Burgers']\n"
     ]
    }
   ],
   "source": [
    "def main():\n",
    "    \n",
    "    # Create a list with some items. \n",
    "    food = ['Pizza', 'Burgers', 'Chips','Burgers']\n",
    "\n",
    "    item = input('Which item should I change? ')\n",
    "    \n",
    "    try:\n",
    "    # Get the item's index in the list. \n",
    "        item_index = food.index(item)\n",
    "    # Get the value to replace it with. \n",
    "        new_item = input('Enter the new value: ')\n",
    "    # Replace the old item with the new item. \n",
    "#         food[item_index] = new_item\n",
    "        food.insert(item_index,new_item)\n",
    "    # Display the list.\n",
    "        print('Here is the revised list:') \n",
    "        print(food)\n",
    "    \n",
    "    except ValueError:\n",
    "        print('That item was not found in the list.')\n",
    "\n",
    "main()"
   ]
  },
  {
   "cell_type": "markdown",
   "metadata": {},
   "source": [
    "<b>insert(index, item):</b> used to insert item at position index in the list."
   ]
  },
  {
   "cell_type": "markdown",
   "metadata": {},
   "source": [
    "<b>Example:</b>"
   ]
  },
  {
   "cell_type": "code",
   "execution_count": 72,
   "metadata": {},
   "outputs": [
    {
     "name": "stdout",
     "output_type": "stream",
     "text": [
      "The list before the insert:\n",
      "['James', 'Kathryn', 'Bill']\n",
      "The list after the insert:\n",
      "['James', 'Kathryn', 'Joe', 'Bill']\n"
     ]
    }
   ],
   "source": [
    "def main():\n",
    "\n",
    "# Create a list with some names. \n",
    "    names = ['James', 'Kathryn', 'Bill']\n",
    "# Display the list.\n",
    "    print('The list before the insert:') \n",
    "    print(names)\n",
    "# Insert a new name at element 2. \n",
    "    names.insert(2, 'Joe')\n",
    "# Display the list again. \n",
    "    print('The list after the insert:') \n",
    "    print(names)\n",
    "\n",
    "main()"
   ]
  },
  {
   "cell_type": "markdown",
   "metadata": {},
   "source": [
    "<b>sort() :</b> used to sort the elements of the list in ascending order"
   ]
  },
  {
   "cell_type": "markdown",
   "metadata": {},
   "source": [
    "<b>Example:</b>"
   ]
  },
  {
   "cell_type": "code",
   "execution_count": 73,
   "metadata": {},
   "outputs": [
    {
     "name": "stdout",
     "output_type": "stream",
     "text": [
      "Original order: [9, 1, 0, 2, 8, 6, 7, 4, 5, 3]\n",
      "Sorted order: [0, 1, 2, 3, 4, 5, 6, 7, 8, 9]\n"
     ]
    }
   ],
   "source": [
    "my_list = [9, 1, 0, 2, 8, 6, 7, 4, 5, 3] \n",
    "print('Original order:', my_list) \n",
    "my_list.sort()\n",
    "print('Sorted order:', my_list)"
   ]
  },
  {
   "cell_type": "markdown",
   "metadata": {},
   "source": [
    "<b>Example:</b>"
   ]
  },
  {
   "cell_type": "code",
   "execution_count": 75,
   "metadata": {},
   "outputs": [
    {
     "name": "stdout",
     "output_type": "stream",
     "text": [
      "Original order: ['beta', 'alpha', 'delta', 'alpine']\n",
      "Sorted order: ['alpha', 'alpine', 'beta', 'delta']\n"
     ]
    }
   ],
   "source": [
    "my_list = ['beta', 'alpha', 'delta', 'gamma'] \n",
    "print('Original order:', my_list) \n",
    "my_list.sort()\n",
    "print('Sorted order:', my_list)"
   ]
  },
  {
   "cell_type": "markdown",
   "metadata": {},
   "source": [
    "<b>remove(item)</b>: removes the first occurrence of item in the list"
   ]
  },
  {
   "cell_type": "markdown",
   "metadata": {},
   "source": [
    "<b>Example:</b>"
   ]
  },
  {
   "cell_type": "code",
   "execution_count": 8,
   "metadata": {},
   "outputs": [
    {
     "name": "stdout",
     "output_type": "stream",
     "text": [
      "Here are the items in the food list:\n",
      "['Pizza', 'Burgers', 'Chips', 'Burgers']\n",
      "Which item should I remove? burger\n",
      "That item was not found in the list.\n"
     ]
    }
   ],
   "source": [
    "def main():\n",
    "    # Create a list with some items. \n",
    "    food = ['Pizza', 'Burgers', 'Chips','Burgers']\n",
    "    # Display the list.\n",
    "    print('Here are the items in the food list:') \n",
    "    print(food)\n",
    "    # Get the item to change.\n",
    "    item = input('Which item should I remove? ')\n",
    "    \n",
    "    try:\n",
    "        # Remove the item. \n",
    "        food.remove(item)\n",
    "        # Display the list.\n",
    "        print('Here is the revised list:') \n",
    "        print(food)\n",
    "        \n",
    "    except ValueError:\n",
    "        print('That item was not found in the list.')\n",
    "main()"
   ]
  },
  {
   "cell_type": "markdown",
   "metadata": {},
   "source": [
    "<b>reverse():</b> reverses the order of the elements in the list"
   ]
  },
  {
   "cell_type": "markdown",
   "metadata": {},
   "source": [
    "<b>Example:</b>"
   ]
  },
  {
   "cell_type": "code",
   "execution_count": null,
   "metadata": {},
   "outputs": [],
   "source": [
    "my_list = [1, 2, 3, 4, 5] \n",
    "print('Original order:', my_list) \n",
    "my_list.reverse() \n",
    "print('Reversed:', my_list)"
   ]
  },
  {
   "cell_type": "markdown",
   "metadata": {},
   "source": [
    "<img src='https://www.dropbox.com/s/xl1crucesrl47bo/A%20few%20of%20the%20list%20methods.png?raw=1'/>\n",
    "\n",
    "<i>Source: Starting Out with Python (4th Edition)- by Tony Gaddis Pearson</i>"
   ]
  },
  {
   "cell_type": "markdown",
   "metadata": {},
   "source": [
    "### 4.1.1 The <i>del</i> Statement"
   ]
  },
  {
   "cell_type": "markdown",
   "metadata": {},
   "source": [
    "<i>del</i> statement removes an element from a specific index in a list.\n",
    "<ul><li>General format: <i>del list[i]</i></li></ul>"
   ]
  },
  {
   "cell_type": "markdown",
   "metadata": {},
   "source": [
    "<b>Example:</b>"
   ]
  },
  {
   "cell_type": "code",
   "execution_count": null,
   "metadata": {},
   "outputs": [],
   "source": [
    "my_list = [1, 2, 3, 4, 5] \n",
    "print('Before deletion:', my_list) \n",
    "del my_list[2]\n",
    "print('After deletion:', my_list)"
   ]
  },
  {
   "cell_type": "markdown",
   "metadata": {},
   "source": [
    "<b>Example:</b> Consider list ['Sara','Ali','Joe','Kally']. Remove the first element."
   ]
  },
  {
   "cell_type": "code",
   "execution_count": null,
   "metadata": {},
   "outputs": [],
   "source": [
    "Names = ['Sara','Ali','Joe','Kally']\n",
    "\n",
    "del Names[0]\n",
    "print(Names)"
   ]
  },
  {
   "cell_type": "markdown",
   "metadata": {},
   "source": [
    "### 4.1.2 The min and max Functions"
   ]
  },
  {
   "cell_type": "markdown",
   "metadata": {},
   "source": [
    "min and max functions are built-in functions that returns the item that has the lowest or highest value in a sequence.\n",
    "<ul><li>The sequence is passed as an argument.</li></ul>"
   ]
  },
  {
   "cell_type": "markdown",
   "metadata": {},
   "source": [
    "<b>Example:</b>"
   ]
  },
  {
   "cell_type": "code",
   "execution_count": null,
   "metadata": {
    "scrolled": true
   },
   "outputs": [],
   "source": [
    "my_list = [5, 4, 3, 2, 50, 40, 30] \n",
    "print('The lowest value is', min(my_list))"
   ]
  },
  {
   "cell_type": "markdown",
   "metadata": {},
   "source": [
    "<b>Example:</b>"
   ]
  },
  {
   "cell_type": "code",
   "execution_count": null,
   "metadata": {},
   "outputs": [],
   "source": [
    "my_list = [5, 4, 3, 2, 50, 40, 30] \n",
    "print('The highest value is', max(my_list))"
   ]
  },
  {
   "cell_type": "markdown",
   "metadata": {},
   "source": [
    "## 5.1 Copying Lists"
   ]
  },
  {
   "cell_type": "markdown",
   "metadata": {},
   "source": [
    "To make a copy of a list you must copy each element of the list.\n",
    "<ul><li>Two methods to do this:</li>\n",
    "    <ul><li>Creating a new empty list and using a <i>for</i> loop to add a copy of each element from the original list to the new list.</li>\n",
    "        <li>Creating a new empty list and concatenating the old list to the new empty list.</li></ul></ul>\n"
   ]
  },
  {
   "cell_type": "markdown",
   "metadata": {},
   "source": [
    "<b>Example:</b>"
   ]
  },
  {
   "cell_type": "code",
   "execution_count": null,
   "metadata": {},
   "outputs": [],
   "source": [
    "# Create a list.\n",
    "list1 = [1, 2, 3, 4]\n",
    "# Assign the list to the list2 variable. \n",
    "list2 = list1\n",
    "\n",
    "print(list1)\n",
    "print(list2)"
   ]
  },
  {
   "cell_type": "code",
   "execution_count": null,
   "metadata": {},
   "outputs": [],
   "source": [
    "list1[0]=99\n",
    "print(list1)"
   ]
  },
  {
   "cell_type": "code",
   "execution_count": null,
   "metadata": {},
   "outputs": [],
   "source": [
    "print(list2)"
   ]
  },
  {
   "cell_type": "markdown",
   "metadata": {},
   "source": [
    "<b>Example:</b>"
   ]
  },
  {
   "cell_type": "code",
   "execution_count": null,
   "metadata": {},
   "outputs": [],
   "source": [
    "# Create a list with values. \n",
    "list1 = [1, 2, 3, 4]\n",
    "#Create an empty list. \n",
    "list2 = []\n",
    "# Copy the elements of list1 to list2. \n",
    "for item in list1:\n",
    "    list2.append(item)\n",
    "\n",
    "print(list2)"
   ]
  },
  {
   "cell_type": "code",
   "execution_count": null,
   "metadata": {},
   "outputs": [],
   "source": [
    "list1[0]=99\n",
    "print(list1)"
   ]
  },
  {
   "cell_type": "code",
   "execution_count": null,
   "metadata": {},
   "outputs": [],
   "source": [
    "print(list2)"
   ]
  },
  {
   "cell_type": "code",
   "execution_count": null,
   "metadata": {},
   "outputs": [],
   "source": [
    "# Create a list with values. \n",
    "list1 = [1, 2, 3, 4]\n",
    "# Create a copy of list1. \n",
    "list2 = [] + list1\n",
    "\n",
    "print(list2)"
   ]
  },
  {
   "cell_type": "code",
   "execution_count": null,
   "metadata": {},
   "outputs": [],
   "source": [
    "list1[0]=99\n",
    "print(list1)"
   ]
  },
  {
   "cell_type": "code",
   "execution_count": null,
   "metadata": {},
   "outputs": [],
   "source": [
    "print(list2)"
   ]
  },
  {
   "cell_type": "code",
   "execution_count": null,
   "metadata": {},
   "outputs": [],
   "source": [
    "list1 = [1, 2, 3, 4]\n",
    "list2 = list1.copy()\n",
    "print(list2)"
   ]
  },
  {
   "cell_type": "code",
   "execution_count": null,
   "metadata": {},
   "outputs": [],
   "source": [
    "list1[0]=99\n",
    "print(list1)"
   ]
  },
  {
   "cell_type": "code",
   "execution_count": null,
   "metadata": {},
   "outputs": [],
   "source": [
    "print(list2)"
   ]
  },
  {
   "cell_type": "markdown",
   "metadata": {},
   "source": [
    "## 6.1. Processing Lists"
   ]
  },
  {
   "cell_type": "markdown",
   "metadata": {},
   "source": [
    "<ul>\n",
    "<li>List elements can be used in calculations.</li>\n",
    "<li>To calculate total of numeric values in a list use loop with accumulator variable.</li>\n",
    "    <li>To average numeric values in a list:</li>\n",
    "    <ul><li>Calculate total of the values.</li>\n",
    "        <li>Divide total of the values by <i>len(list)</i>.</li></ul>\n",
    "    <li>List can be passed as an argument to a function.</li>\n",
    "</ul>"
   ]
  },
  {
   "cell_type": "markdown",
   "metadata": {},
   "source": [
    "<b>Example:</b> Calculate the total of the list elements. "
   ]
  },
  {
   "cell_type": "code",
   "execution_count": null,
   "metadata": {},
   "outputs": [],
   "source": [
    "list1= [23,45,56,78]\n",
    "total =0\n",
    "\n",
    "for num in list1:\n",
    "    total +=num\n",
    "    \n",
    "print(total)"
   ]
  },
  {
   "cell_type": "markdown",
   "metadata": {},
   "source": [
    "<b>Example:</b> Now it's your turn, calculate the average of the list numbers = [2, 4, 6, 8, 10] "
   ]
  },
  {
   "cell_type": "code",
   "execution_count": 9,
   "metadata": {},
   "outputs": [
    {
     "name": "stdout",
     "output_type": "stream",
     "text": [
      "6.0\n"
     ]
    }
   ],
   "source": [
    "list2 = [2,4,6,8,10]\n",
    "sum = 0\n",
    "for i in list2:\n",
    "    sum+=i\n",
    "print(sum/len(list2))"
   ]
  },
  {
   "cell_type": "markdown",
   "metadata": {},
   "source": [
    "<ul>\n",
    "<li>A function can return a reference to a list.</li>\n",
    "    <li>To save the contents of a list to a file:</li>\n",
    "<ul>\n",
    "    <li>Use the file object’s <i>writelines</i> method.</li>\n",
    "    <ul><li>Does not automatically write <i>\\n</i> at then end of each item.</li></ul>\n",
    "    <li>Use a for loop to write each element and <i>\\n</i>.</li>\n",
    "    <li>To read data from a file use the file object’s readlines method.</li>\n",
    "    </ul>\n",
    "    </ul>"
   ]
  },
  {
   "cell_type": "markdown",
   "metadata": {},
   "source": [
    "<b>Example:</b>"
   ]
  },
  {
   "cell_type": "code",
   "execution_count": null,
   "metadata": {},
   "outputs": [],
   "source": [
    "def main():\n",
    "    cities = ['New York', 'Boston', 'Atlanta', 'Dallas']\n",
    "    \n",
    "    outfile = open('cities.txt', 'w')\n",
    "    outfile.writelines(cities)\n",
    "    outfile.close()\n",
    "    \n",
    "main()"
   ]
  },
  {
   "cell_type": "code",
   "execution_count": 16,
   "metadata": {},
   "outputs": [],
   "source": [
    "def main():\n",
    "    cities = ['New York', 'Boston', 'Atlanta', 'Dallas']\n",
    "    outfile = open('cities.txt', 'w')\n",
    "    \n",
    "    for item in cities:\n",
    "        outfile.write(item+'\\n')\n",
    "        \n",
    "    outfile.close()\n",
    "    \n",
    "main()\n",
    "    "
   ]
  },
  {
   "cell_type": "markdown",
   "metadata": {},
   "source": [
    "<b>Example:</b> Now it's you turn. Write a function to save the content of list val=['Sara','John','Alex','Jessica','Shally'] in name.txt"
   ]
  },
  {
   "cell_type": "code",
   "execution_count": 11,
   "metadata": {},
   "outputs": [],
   "source": [
    "def main():\n",
    "    val=['Sara','John','Alex','Jessica','Shally']\n",
    "    file = open(\"name.txt\",'w')\n",
    "    for i in val:\n",
    "        file.write(i+'\\n')\n",
    "    file.close()\n",
    "    \n",
    "    \n",
    "main()"
   ]
  },
  {
   "cell_type": "code",
   "execution_count": 17,
   "metadata": {},
   "outputs": [
    {
     "name": "stdout",
     "output_type": "stream",
     "text": [
      "['New York', 'Boston', 'Atlanta', 'Dallas']\n"
     ]
    }
   ],
   "source": [
    "def main():\n",
    "    infile = open('cities.txt', 'r')\n",
    "    # Read the contents of the file into a list. \n",
    "    cities = infile.readlines()\n",
    "    infile.close()\n",
    "# Strip the \\n from each element. \n",
    "    index = 0\n",
    "    while index < len(cities):\n",
    "        cities[index] = cities[index].rstrip('\\n') \n",
    "        index += 1\n",
    "    print(cities)\n",
    "\n",
    "main()\n"
   ]
  },
  {
   "cell_type": "markdown",
   "metadata": {},
   "source": [
    "<b>Example:</b> Now it's you turn, read the contents of name.txt into a list and remove the blank lines."
   ]
  },
  {
   "cell_type": "code",
   "execution_count": 26,
   "metadata": {},
   "outputs": [
    {
     "name": "stdout",
     "output_type": "stream",
     "text": [
      "['Sara', 'John', 'Alex', 'Jessica', 'Shally']\n"
     ]
    }
   ],
   "source": [
    "def main():\n",
    "    nameFile = open('name.txt','r')\n",
    "    name = nameFile.read().split('\\n')\n",
    "    print(name[:-1])\n",
    "    nameFile.close()\n",
    "    \n",
    "main()"
   ]
  },
  {
   "cell_type": "code",
   "execution_count": null,
   "metadata": {},
   "outputs": [],
   "source": [
    "def main():\n",
    "    numbers = [1, 2, 3, 4, 5, 6, 7]\n",
    "# Open a file for writing.\n",
    "    outfile = open('numberlist.txt', 'w')\n",
    "# Write the list to the file. \n",
    "    for item in numbers:\n",
    "        outfile.writelines(str(item) + '\\n')\n",
    "        \n",
    "    outfile.close()\n",
    "\n",
    "main()"
   ]
  },
  {
   "cell_type": "markdown",
   "metadata": {},
   "source": [
    "<b>Example:</b> Now it's you turn, save the content of list num=[23,45,87,12,39] in values.txt."
   ]
  },
  {
   "cell_type": "code",
   "execution_count": null,
   "metadata": {},
   "outputs": [],
   "source": []
  },
  {
   "cell_type": "code",
   "execution_count": null,
   "metadata": {},
   "outputs": [],
   "source": [
    "def main():\n",
    "# Open a file for reading.\n",
    "    infile = open('numberlist.txt', 'r')\n",
    "# Read the contents of the file into a list. \n",
    "    numbers = infile.readlines()\n",
    "\n",
    "    infile.close()\n",
    "# Convert each element to an int. \n",
    "    index = 0\n",
    "    \n",
    "    while index < len(numbers):\n",
    "        numbers[index] = int(numbers[index]) \n",
    "        index += 1\n",
    "    print(numbers)\n",
    "main()"
   ]
  },
  {
   "cell_type": "markdown",
   "metadata": {},
   "source": [
    "<b>Example:</b> Now it's you turn, read the content of the file value.txt into a list"
   ]
  },
  {
   "cell_type": "code",
   "execution_count": null,
   "metadata": {},
   "outputs": [],
   "source": []
  },
  {
   "cell_type": "markdown",
   "metadata": {},
   "source": [
    "## 7.1. Two-Dimensional Lists"
   ]
  },
  {
   "cell_type": "markdown",
   "metadata": {},
   "source": [
    "<ul>\n",
    "<li>Two-dimensional list: a list that contains other lists as its elements.</li>\n",
    "<ul><li>Also known as nested list.</li>\n",
    "<li>Common to think of two-dimensional lists as having rows and columns.</li>\n",
    "<li>Useful for working with multiple sets of data.</li></ul>\n",
    "<li>To process data in a two-dimensional list need to use two indexes.</li>\n",
    "<li>Typically use nested loops to process.</li>\n",
    "    </ul>\n"
   ]
  },
  {
   "cell_type": "markdown",
   "metadata": {},
   "source": [
    "Itmes from tuples cannot be removed after created."
   ]
  },
  {
   "cell_type": "code",
   "execution_count": 27,
   "metadata": {},
   "outputs": [
    {
     "name": "stdout",
     "output_type": "stream",
     "text": [
      "[['Joe', 'Kim'], ['Sam', 'Sue'], ['Kelly', 'Chris']]\n"
     ]
    }
   ],
   "source": [
    "students = [['Joe', 'Kim'], ['Sam', 'Sue'], ['Kelly', 'Chris']] \n",
    "print(students)"
   ]
  },
  {
   "cell_type": "code",
   "execution_count": 28,
   "metadata": {},
   "outputs": [
    {
     "name": "stdout",
     "output_type": "stream",
     "text": [
      "['Kelly', 'Chris']\n"
     ]
    }
   ],
   "source": [
    "print(students[2])"
   ]
  },
  {
   "cell_type": "code",
   "execution_count": 29,
   "metadata": {},
   "outputs": [
    {
     "name": "stdout",
     "output_type": "stream",
     "text": [
      "['Joe', 'Kim']\n",
      "['Sam', 'Sue']\n",
      "['Kelly', 'Chris']\n"
     ]
    }
   ],
   "source": [
    "print(students[0])\n",
    "\n",
    "print(students[1])\n",
    "\n",
    "print(students[2])"
   ]
  },
  {
   "cell_type": "code",
   "execution_count": 30,
   "metadata": {},
   "outputs": [
    {
     "name": "stdout",
     "output_type": "stream",
     "text": [
      "Joe\n"
     ]
    }
   ],
   "source": [
    "print(students[0][0])"
   ]
  },
  {
   "cell_type": "code",
   "execution_count": 31,
   "metadata": {},
   "outputs": [
    {
     "name": "stdout",
     "output_type": "stream",
     "text": [
      "Kim\n"
     ]
    }
   ],
   "source": [
    "print(students[0][1])"
   ]
  },
  {
   "cell_type": "code",
   "execution_count": 32,
   "metadata": {},
   "outputs": [
    {
     "name": "stdout",
     "output_type": "stream",
     "text": [
      "Chris\n"
     ]
    }
   ],
   "source": [
    "print(students[2][1])"
   ]
  },
  {
   "cell_type": "markdown",
   "metadata": {},
   "source": [
    "<img src='images/week8/A two-dimensional list.png'>\n",
    "\n",
    "<i>Source: Starting Out with Python (4th Edition)- by Tony Gaddis Pearson</i>"
   ]
  },
  {
   "cell_type": "code",
   "execution_count": 46,
   "metadata": {},
   "outputs": [
    {
     "name": "stdout",
     "output_type": "stream",
     "text": [
      "[[80, 67, 98, 68], [90, 2, 72, 25], [78, 59, 69, 55]]\n"
     ]
    }
   ],
   "source": [
    "import random\n",
    "\n",
    "ROWS = 3\n",
    "COLS = 4\n",
    "\n",
    "def main():\n",
    "    values = [[0, 0, 0, 0],\n",
    "              [0, 0, 0, 0],\n",
    "              [0, 0, 0, 0]]\n",
    "    for r in range(ROWS):\n",
    "        for c in range(COLS):\n",
    "            values[r][c] = random.randint(1, 100)\n",
    "        \n",
    "    print(values)\n",
    "\n",
    "main()"
   ]
  },
  {
   "cell_type": "markdown",
   "metadata": {},
   "source": [
    "<b>Example:</b> Now its your turn. Make a list with two rows and three columns, and give each element a random number between 10 and 34."
   ]
  },
  {
   "cell_type": "code",
   "execution_count": 59,
   "metadata": {},
   "outputs": [
    {
     "name": "stdout",
     "output_type": "stream",
     "text": [
      "[[14, 39, 100], [14, 39, 100]]\n"
     ]
    }
   ],
   "source": [
    "#alternate \n",
    "import random\n",
    "rows = 2\n",
    "col = 3\n",
    "\n",
    "def main():\n",
    "    val = [[None]*col]*rows\n",
    "    for r in range(rows):\n",
    "        for c in range(col):\n",
    "            val[r][c] = random.randint(1,100)\n",
    "    print(val)\n",
    "main()"
   ]
  },
  {
   "cell_type": "markdown",
   "metadata": {},
   "source": [
    "Write a Python program to multiplies all the items in a list."
   ]
  },
  {
   "cell_type": "code",
   "execution_count": 62,
   "metadata": {},
   "outputs": [
    {
     "name": "stdout",
     "output_type": "stream",
     "text": [
      "448\n"
     ]
    }
   ],
   "source": [
    "mulList = [2,4,7,8]\n",
    "def main():\n",
    "    prod = 1\n",
    "    for i in mulList:\n",
    "        prod *= i\n",
    "    print(prod)\n",
    "main()"
   ]
  },
  {
   "cell_type": "markdown",
   "metadata": {},
   "source": [
    "In a program, write a function named roll that accepts an integer argument number_ of_throws. The function should generate and return a sorted list of number_of_throws random numbers between 1 and 6. The program should prompt the user to enter a positive integer that is sent to the function, and then print the returned list."
   ]
  },
  {
   "cell_type": "code",
   "execution_count": 8,
   "metadata": {},
   "outputs": [
    {
     "name": "stdout",
     "output_type": "stream",
     "text": [
      "[2, 3, 4, 4, 6]\n"
     ]
    }
   ],
   "source": [
    "import random as ran \n",
    "num = int(input(\"Enter a number: \"))\n",
    "while num <= 0:\n",
    "    num = int(input(\"Enter a number: \"))\n",
    "def roll(number_of_throws):\n",
    "    throwsList = []\n",
    "    for i in range(0, number_of_throws):\n",
    "        throwsList.append(ran.randint(1,6))\n",
    "    throwsList.sort()\n",
    "    print(throwsList)\n",
    "\n",
    "roll(num)"
   ]
  },
  {
   "cell_type": "code",
   "execution_count": 34,
   "metadata": {},
   "outputs": [
    {
     "name": "stdout",
     "output_type": "stream",
     "text": [
      "[7, 7, 4]\n",
      "[4]\n"
     ]
    }
   ],
   "source": [
    "numList = ['wiltten','Blinker','cool']\n",
    "itemLength = [len(item) for item in numList]\n",
    "itemCondition = [len(item) for item in numList if len(item) < 5]\n",
    "print(itemLength)\n",
    "print(itemCondition)"
   ]
  },
  {
   "cell_type": "code",
   "execution_count": 32,
   "metadata": {},
   "outputs": [
    {
     "name": "stdout",
     "output_type": "stream",
     "text": [
      "wiltten  Single choice\n",
      "['wiltten'] Choice\n"
     ]
    }
   ],
   "source": [
    "import random as ran\n",
    "choose = ran.choice(numList)\n",
    "chooseMulti = ran.choices(numList)\n",
    "print(choose,\" Single choice\")\n",
    "print(chooseMulti, \"Choice\")"
   ]
  },
  {
   "cell_type": "code",
   "execution_count": 33,
   "metadata": {},
   "outputs": [
    {
     "name": "stdout",
     "output_type": "stream",
     "text": [
      "[1]\n"
     ]
    }
   ],
   "source": [
    "list1 = [1,12,13,14]\n",
    "lessItem = [item for item in list1 if item < 10]\n",
    "print(lessItem)"
   ]
  },
  {
   "cell_type": "markdown",
   "metadata": {},
   "source": [
    "## 8.1. Tuples"
   ]
  },
  {
   "cell_type": "markdown",
   "metadata": {},
   "source": [
    "<ul>\n",
    "<li>Tuple: an immutable sequence.</li>\n",
    "<ul>\n",
    "<li>Very similar to a list.</li>\n",
    "<li>Once it is created it cannot be changed.</li>\n",
    "    <li>Format: <i>tuple_name = (item1, item2)</i></li>\n",
    "    <li>Tuples support operations as lists.</li>\n",
    "<ul>\n",
    "    <li>Subscript indexing for retrieving elements.</li>\n",
    "    <li>Methods such as <i>index</i>.</li>\n",
    "    <li>Built in functions such as <i>len, min, max</i></li>\n",
    "    <li>Slicing expressions</li>\n",
    "    <li>The <i>in, +, </i>and <i>*</i> operators</li>\n"
   ]
  },
  {
   "cell_type": "code",
   "execution_count": 13,
   "metadata": {},
   "outputs": [
    {
     "name": "stdout",
     "output_type": "stream",
     "text": [
      "(1, 2, 3, 4, 3)\n"
     ]
    }
   ],
   "source": [
    "my_tuple = (1, 2, 3, 4, 3)\n",
    "print(my_tuple)\n",
    "my_tuple.rem"
   ]
  },
  {
   "cell_type": "code",
   "execution_count": 16,
   "metadata": {},
   "outputs": [
    {
     "name": "stdout",
     "output_type": "stream",
     "text": [
      "(1, 2, 3, 4)\n"
     ]
    }
   ],
   "source": [
    "my_tuple = 1,2,3,4\n",
    "print(my_tuple)"
   ]
  },
  {
   "cell_type": "code",
   "execution_count": 1,
   "metadata": {},
   "outputs": [
    {
     "name": "stdout",
     "output_type": "stream",
     "text": [
      "Holly\n",
      "Warren\n",
      "Ashley\n"
     ]
    }
   ],
   "source": [
    "names = ('Holly', 'Warren', 'Ashley')\n",
    "for n in names:\n",
    "    print(n)"
   ]
  },
  {
   "cell_type": "code",
   "execution_count": 4,
   "metadata": {},
   "outputs": [
    {
     "name": "stdout",
     "output_type": "stream",
     "text": [
      "Holly\n",
      "Warren\n",
      "Ashley\n"
     ]
    }
   ],
   "source": [
    "names = ('Holly', 'Warren', 'Ashley')\n",
    "for i in range(len(names)):\n",
    "    print(names[i])"
   ]
  },
  {
   "cell_type": "markdown",
   "metadata": {},
   "source": [
    "Tuples do not support the methods:\n",
    "<ul><li>append</li>\n",
    "<li>remove</li>\n",
    "<li>insert</li>\n",
    "<li>reverse</li>\n",
    "<li>sort</li>\n",
    "</ul>"
   ]
  },
  {
   "cell_type": "code",
   "execution_count": 7,
   "metadata": {},
   "outputs": [
    {
     "name": "stdout",
     "output_type": "stream",
     "text": [
      "[('John', 'Mark')]\n",
      "[('John', 'Mark'), ('Sara', 'Suzan')]\n"
     ]
    }
   ],
   "source": [
    "tuple1=('John','Mark')\n",
    "tuple2=('Sara','Suzan')\n",
    "my_list = []\n",
    "my_list.append(tuple1)\n",
    "print(my_list)\n",
    "my_list.append(tuple2)\n",
    "print(my_list)"
   ]
  },
  {
   "cell_type": "code",
   "execution_count": 9,
   "metadata": {},
   "outputs": [
    {
     "name": "stdout",
     "output_type": "stream",
     "text": [
      "[('Sara', 'Suzan')]\n"
     ]
    }
   ],
   "source": [
    "my_list.remove(('John','Mark'))\n",
    "print(my_list)"
   ]
  },
  {
   "cell_type": "code",
   "execution_count": 12,
   "metadata": {},
   "outputs": [
    {
     "name": "stdout",
     "output_type": "stream",
     "text": [
      "[('Sara', 'Suzan')]  Before\n",
      "[('Sara', 'Suzan')]  After\n"
     ]
    }
   ],
   "source": [
    "print(my_list,\" Before\")\n",
    "my_list.reverse()\n",
    "print(my_list,\" After\")"
   ]
  },
  {
   "cell_type": "markdown",
   "metadata": {},
   "source": [
    "<ul><li>Advantages for using tuples over lists:</li>\n",
    "<ul>\n",
    "    <li>Processing tuples is faster than processing lists.</li>\n",
    "    <li>Tuples are safe.</li>  <p>What is safe mean?</p>\n",
    "    <li>Some operations in Python require use of tuples.</li></ul>\n",
    "    <li><b>list() function</b>: converts tuple to list.</li>\n",
    "    <li><b>tuple() function</b>: converts list to tuple.</li>\n"
   ]
  },
  {
   "cell_type": "code",
   "execution_count": 17,
   "metadata": {},
   "outputs": [
    {
     "name": "stdout",
     "output_type": "stream",
     "text": [
      "[1, 2, 3]\n",
      "('one', 'two', 'three')\n"
     ]
    }
   ],
   "source": [
    "number_tuple = (1, 2, 3)\n",
    "number_list = list(number_tuple) \n",
    "print(number_list) \n",
    "\n",
    "str_list = ['one', 'two', 'three'] \n",
    "str_tuple = tuple(str_list) \n",
    "print(str_tuple)"
   ]
  },
  {
   "cell_type": "code",
   "execution_count": 18,
   "metadata": {},
   "outputs": [
    {
     "name": "stdout",
     "output_type": "stream",
     "text": [
      "(6,)\n"
     ]
    }
   ],
   "source": [
    "my_tuple = (6,)\n",
    "print(my_tuple)"
   ]
  },
  {
   "cell_type": "code",
   "execution_count": 21,
   "metadata": {},
   "outputs": [
    {
     "name": "stdout",
     "output_type": "stream",
     "text": [
      "(6,)\n"
     ]
    }
   ],
   "source": [
    "my_tuple = 6,\n",
    "print(my_tuple)"
   ]
  },
  {
   "cell_type": "code",
   "execution_count": 22,
   "metadata": {},
   "outputs": [
    {
     "name": "stdout",
     "output_type": "stream",
     "text": [
      "(91, 2, 3, 4)\n"
     ]
    }
   ],
   "source": [
    "my_tuple = 91,2,3,4\n",
    "print(my_tuple)"
   ]
  },
  {
   "cell_type": "code",
   "execution_count": 23,
   "metadata": {},
   "outputs": [
    {
     "data": {
      "text/plain": [
       "91"
      ]
     },
     "execution_count": 23,
     "metadata": {},
     "output_type": "execute_result"
    }
   ],
   "source": [
    "my_tuple[0]"
   ]
  },
  {
   "cell_type": "code",
   "execution_count": 24,
   "metadata": {},
   "outputs": [
    {
     "ename": "TypeError",
     "evalue": "'tuple' object does not support item assignment",
     "output_type": "error",
     "traceback": [
      "\u001b[0;31m---------------------------------------------------------------------------\u001b[0m",
      "\u001b[0;31mTypeError\u001b[0m                                 Traceback (most recent call last)",
      "Cell \u001b[0;32mIn[24], line 1\u001b[0m\n\u001b[0;32m----> 1\u001b[0m my_tuple[\u001b[39m0\u001b[39;49m] \u001b[39m=\u001b[39m \u001b[39m100\u001b[39m\n",
      "\u001b[0;31mTypeError\u001b[0m: 'tuple' object does not support item assignment"
     ]
    }
   ],
   "source": [
    "my_tuple[0] = 100"
   ]
  }
 ],
 "metadata": {
  "kernelspec": {
   "display_name": "Python 3 (ipykernel)",
   "language": "python",
   "name": "python3"
  },
  "language_info": {
   "codemirror_mode": {
    "name": "ipython",
    "version": 3
   },
   "file_extension": ".py",
   "mimetype": "text/x-python",
   "name": "python",
   "nbconvert_exporter": "python",
   "pygments_lexer": "ipython3",
   "version": "3.10.2"
  },
  "vscode": {
   "interpreter": {
    "hash": "b0fa6594d8f4cbf19f97940f81e996739fb7646882a419484c72d19e05852a7e"
   }
  }
 },
 "nbformat": 4,
 "nbformat_minor": 2
}
