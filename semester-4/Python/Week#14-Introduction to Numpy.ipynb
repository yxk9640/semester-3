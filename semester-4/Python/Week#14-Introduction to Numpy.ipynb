{
 "cells": [
  {
   "attachments": {},
   "cell_type": "markdown",
   "metadata": {},
   "source": [
    "        Python Programming\n",
    "        Neshat Beheshti\n",
    "        University of Texas Arlington\n",
    "        \n",
    "        This document can only be used for class studies. \n",
    "        You are not allowed to share it in any public platform."
   ]
  },
  {
   "attachments": {},
   "cell_type": "markdown",
   "metadata": {},
   "source": [
    "<h1 align='center' style=\"color: blue;\">Introduction to NumPy- Final la Important</h1>"
   ]
  },
  {
   "attachments": {},
   "cell_type": "markdown",
   "metadata": {},
   "source": [
    "<p>Numerical Python (Numpy) is a foundational package containing common data science packages. It is an extension module that provides efficient operation on arrays of <b><u>homogeneous</u></b> data. Numpy provides high performance multi-dimensional arrays that can be used as vectors or matrices.</p>"
   ]
  },
  {
   "cell_type": "code",
   "execution_count": 2,
   "metadata": {},
   "outputs": [],
   "source": [
    "import numpy as np "
   ]
  },
  {
   "attachments": {},
   "cell_type": "markdown",
   "metadata": {},
   "source": [
    "## 1. Arrays"
   ]
  },
  {
   "attachments": {},
   "cell_type": "markdown",
   "metadata": {},
   "source": [
    "<img src=\"https://jakevdp.github.io/PythonDataScienceHandbook/figures/array_vs_list.png\" width=400 height=400 >\n",
    "<p><b>Source</b>: VanderPlas, J., 2016. Python data science handbook: essential tools for working with data. \" O'Reilly Media, Inc.\"</p>"
   ]
  },
  {
   "attachments": {},
   "cell_type": "markdown",
   "metadata": {},
   "source": [
    "<p> NumPy’s array class is called <b>ndarray</b> (multidimensional arrays). It is also known by the alias array. Note that numpy.array is not the same as the Standard Python Library class array.array, which only handles one-dimensional arrays and offers less functionality. </p>\n",
    "\n",
    "<p>There are two common types of array in numpy:</p>\n",
    "<ul>\n",
    "    <li>Rank 1: it has <u>one</u> dimension.</li>\n",
    "    <li>Rank 2: It has <u>two</u> dimensions.</li>\n",
    "</ul>\n",
    "\n",
    "<p>You can also create arrays with more than two dimensions. (Example: Images)</p>"
   ]
  },
  {
   "cell_type": "code",
   "execution_count": 7,
   "metadata": {},
   "outputs": [
    {
     "data": {
      "text/plain": [
       "array([1, 2, 3])"
      ]
     },
     "execution_count": 7,
     "metadata": {},
     "output_type": "execute_result"
    }
   ],
   "source": [
    "an_array = np.array([1, 2, 3])  # Create a rank 1 array\n",
    "an_array"
   ]
  },
  {
   "cell_type": "code",
   "execution_count": 11,
   "metadata": {},
   "outputs": [
    {
     "name": "stdout",
     "output_type": "stream",
     "text": [
      "<class 'numpy.ndarray'>\n"
     ]
    }
   ],
   "source": [
    "# let's check the type of created array\n",
    "print(type(an_array)) "
   ]
  },
  {
   "attachments": {},
   "cell_type": "markdown",
   "metadata": {},
   "source": [
    "<p><b>Note:</b> Unlike Python lists, NumPy arrays contain homogeneous type of data. If types do not match, NumPy will upcast if possible (integers are upcast to floating point).</p>"
   ]
  },
  {
   "cell_type": "code",
   "execution_count": 12,
   "metadata": {},
   "outputs": [
    {
     "data": {
      "text/plain": [
       "array([ 5.7,  3. ,  2.2, 21. ])"
      ]
     },
     "execution_count": 12,
     "metadata": {},
     "output_type": "execute_result"
    }
   ],
   "source": [
    "np.array([5.7, 3, 2.2, 21])"
   ]
  },
  {
   "attachments": {},
   "cell_type": "markdown",
   "metadata": {},
   "source": [
    "<b>Note:</b> The <b style='color:blue'>shape</b> property is usually used to get the current shape of an array"
   ]
  },
  {
   "cell_type": "code",
   "execution_count": 3,
   "metadata": {},
   "outputs": [
    {
     "name": "stdout",
     "output_type": "stream",
     "text": [
      "The array shape is:(4,)\n"
     ]
    }
   ],
   "source": [
    "an_array = np.array([1, 2, 3, 4])\n",
    "print(f'The array shape is:{an_array.shape}')"
   ]
  },
  {
   "cell_type": "code",
   "execution_count": null,
   "metadata": {},
   "outputs": [],
   "source": [
    "print(an_array.shape)"
   ]
  },
  {
   "attachments": {},
   "cell_type": "markdown",
   "metadata": {},
   "source": [
    "<b>Note:</b> In rank 1 array, you only need one index to access elements of array."
   ]
  },
  {
   "cell_type": "code",
   "execution_count": null,
   "metadata": {},
   "outputs": [],
   "source": [
    "print(an_array[0])"
   ]
  },
  {
   "attachments": {},
   "cell_type": "markdown",
   "metadata": {},
   "source": [
    "<b>Note:</b> You can also use reverse indexing."
   ]
  },
  {
   "cell_type": "code",
   "execution_count": null,
   "metadata": {},
   "outputs": [],
   "source": [
    "print(an_array[-1])"
   ]
  },
  {
   "attachments": {},
   "cell_type": "markdown",
   "metadata": {},
   "source": [
    "<b>Note:</b>You can change an element of an array."
   ]
  },
  {
   "cell_type": "code",
   "execution_count": null,
   "metadata": {},
   "outputs": [],
   "source": [
    "an_array[0] = 5\n",
    "an_array"
   ]
  },
  {
   "attachments": {},
   "cell_type": "markdown",
   "metadata": {},
   "source": [
    "Let's creat a <u>rank 2</u> array"
   ]
  },
  {
   "cell_type": "code",
   "execution_count": 3,
   "metadata": {},
   "outputs": [
    {
     "name": "stdout",
     "output_type": "stream",
     "text": [
      "[[11 12 13]\n",
      " [21 22 23]]\n"
     ]
    }
   ],
   "source": [
    "new_array = np.array([[11,12,13],[21,22,23]])\n",
    "print(new_array)"
   ]
  },
  {
   "attachments": {},
   "cell_type": "markdown",
   "metadata": {},
   "source": [
    "Here is a clearer presentation"
   ]
  },
  {
   "cell_type": "code",
   "execution_count": 15,
   "metadata": {},
   "outputs": [
    {
     "name": "stdout",
     "output_type": "stream",
     "text": [
      "[[11 12 13]\n",
      " [21 22 23]]\n"
     ]
    }
   ],
   "source": [
    "new_array = np.array([[11,12,13],\n",
    "                      [21,22,23]])             \n",
    "print(new_array)"
   ]
  },
  {
   "cell_type": "code",
   "execution_count": 4,
   "metadata": {},
   "outputs": [
    {
     "data": {
      "text/plain": [
       "(2, 3)"
      ]
     },
     "execution_count": 4,
     "metadata": {},
     "output_type": "execute_result"
    }
   ],
   "source": [
    "new_array.shape"
   ]
  },
  {
   "attachments": {},
   "cell_type": "markdown",
   "metadata": {},
   "source": [
    "<b>Note:</b> You need to use multiple indexing format to get access to elements in a rank 2 array."
   ]
  },
  {
   "cell_type": "code",
   "execution_count": 18,
   "metadata": {},
   "outputs": [
    {
     "data": {
      "text/plain": [
       "23"
      ]
     },
     "execution_count": 18,
     "metadata": {},
     "output_type": "execute_result"
    }
   ],
   "source": [
    "new_array[1,2]"
   ]
  },
  {
   "cell_type": "code",
   "execution_count": null,
   "metadata": {},
   "outputs": [],
   "source": [
    "new_array[0,0] = 44\n",
    "new_array"
   ]
  },
  {
   "attachments": {},
   "cell_type": "markdown",
   "metadata": {},
   "source": [
    "<b>Note:</b> Keep in mind that data in arrays should be homogeneous"
   ]
  },
  {
   "cell_type": "code",
   "execution_count": 22,
   "metadata": {},
   "outputs": [
    {
     "data": {
      "text/plain": [
       "array([[45, 12, 13],\n",
       "       [21, 22, 23]])"
      ]
     },
     "execution_count": 22,
     "metadata": {},
     "output_type": "execute_result"
    }
   ],
   "source": [
    "new_array[0,0] = float(45.6)\n",
    "new_array"
   ]
  },
  {
   "attachments": {},
   "cell_type": "markdown",
   "metadata": {},
   "source": [
    "<b>Note:</b> You can also use comprehesion to develop arrays (generate list of lists)"
   ]
  },
  {
   "cell_type": "code",
   "execution_count": 4,
   "metadata": {},
   "outputs": [
    {
     "data": {
      "text/plain": [
       "array([[2, 3, 4],\n",
       "       [4, 5, 6],\n",
       "       [6, 7, 8]])"
      ]
     },
     "execution_count": 4,
     "metadata": {},
     "output_type": "execute_result"
    }
   ],
   "source": [
    "np.array([range(i, i + 3) for i in [2, 4, 6]])"
   ]
  },
  {
   "attachments": {},
   "cell_type": "markdown",
   "metadata": {},
   "source": [
    "### 1.1. Common Built-in Numpy Functions to Create Arrays"
   ]
  },
  {
   "attachments": {},
   "cell_type": "markdown",
   "metadata": {},
   "source": [
    "<p>Numpy has a number of built in methods which help us quickly and easily create multidimensional arrays.</p>"
   ]
  },
  {
   "cell_type": "code",
   "execution_count": 34,
   "metadata": {},
   "outputs": [
    {
     "name": "stdout",
     "output_type": "stream",
     "text": [
      "[[0. 0.]\n",
      " [0. 0.]\n",
      " [0. 0.]]\n"
     ]
    }
   ],
   "source": [
    "import numpy as np \n",
    "\n",
    "# create a 3x2 array of zeros\n",
    "zeros_array = np.zeros((3,2))      \n",
    "print(zeros_array)    "
   ]
  },
  {
   "cell_type": "code",
   "execution_count": 35,
   "metadata": {},
   "outputs": [
    {
     "name": "stdout",
     "output_type": "stream",
     "text": [
      "[[1. 1. 1. 1. 1.]\n",
      " [1. 1. 1. 1. 1.]\n",
      " [1. 1. 1. 1. 1.]]\n"
     ]
    }
   ],
   "source": [
    "# create a 3x5 array of 1. s\n",
    "ones_array = np.ones((3, 5))\n",
    "print(ones_array)"
   ]
  },
  {
   "cell_type": "code",
   "execution_count": 36,
   "metadata": {},
   "outputs": [
    {
     "name": "stdout",
     "output_type": "stream",
     "text": [
      "[[5 5 5]\n",
      " [5 5 5]\n",
      " [5 5 5]\n",
      " [5 5 5]\n",
      " [5 5 5]]\n"
     ]
    }
   ],
   "source": [
    "# create a 5x3 array filled with 5\n",
    "full_array = np.full((5, 3), 5)\n",
    "print(full_array)"
   ]
  },
  {
   "cell_type": "code",
   "execution_count": 37,
   "metadata": {},
   "outputs": [
    {
     "name": "stdout",
     "output_type": "stream",
     "text": [
      "[[1. 0. 0. 0.]\n",
      " [0. 1. 0. 0.]\n",
      " [0. 0. 1. 0.]\n",
      " [0. 0. 0. 1.]]\n"
     ]
    }
   ],
   "source": [
    "# create a 4x4 matrix with the diagonal 1s and the others 0\n",
    "eye_array = np.eye(4,4)\n",
    "print(eye_array) "
   ]
  },
  {
   "attachments": {},
   "cell_type": "markdown",
   "metadata": {},
   "source": [
    "<p><b>Example:</b> Consider the following code <br/><br/> ex_array = np.ones((1,5)) <br/><br/> Is it a rank1 array or rank2 array?</p>"
   ]
  },
  {
   "cell_type": "code",
   "execution_count": 5,
   "metadata": {},
   "outputs": [
    {
     "data": {
      "text/plain": [
       "(1, 5)"
      ]
     },
     "execution_count": 5,
     "metadata": {},
     "output_type": "execute_result"
    }
   ],
   "source": [
    "# test your code over here\n",
    "ex_array = np.ones((1,5)).shape\n",
    "ex_array"
   ]
  },
  {
   "cell_type": "code",
   "execution_count": 6,
   "metadata": {},
   "outputs": [
    {
     "data": {
      "text/plain": [
       "array([[1., 1., 1., 1., 1.]])"
      ]
     },
     "execution_count": 6,
     "metadata": {},
     "output_type": "execute_result"
    }
   ],
   "source": [
    "ex_array = np.ones((1,5))\n",
    "ex_array"
   ]
  },
  {
   "attachments": {},
   "cell_type": "markdown",
   "metadata": {},
   "source": [
    "Default functions create 2d array but only fill specified 1D columns"
   ]
  },
  {
   "cell_type": "code",
   "execution_count": 45,
   "metadata": {},
   "outputs": [
    {
     "data": {
      "text/plain": [
       "(5,)"
      ]
     },
     "execution_count": 45,
     "metadata": {},
     "output_type": "execute_result"
    }
   ],
   "source": [
    "e1 = np.array([1., 1., 1., 1., 1.])\n",
    "e1.shape"
   ]
  },
  {
   "cell_type": "code",
   "execution_count": 7,
   "metadata": {},
   "outputs": [
    {
     "name": "stdout",
     "output_type": "stream",
     "text": [
      "1\n"
     ]
    }
   ],
   "source": [
    "a_list = [[1., 1., 1., 1., 1.]]\n",
    "print(len(a_list))"
   ]
  },
  {
   "cell_type": "code",
   "execution_count": 8,
   "metadata": {},
   "outputs": [
    {
     "data": {
      "text/plain": [
       "(1, 5)"
      ]
     },
     "execution_count": 8,
     "metadata": {},
     "output_type": "execute_result"
    }
   ],
   "source": [
    "e2 = np.array([[1., 1., 1., 1., 1.]])\n",
    "e2.shape"
   ]
  },
  {
   "cell_type": "code",
   "execution_count": 10,
   "metadata": {},
   "outputs": [
    {
     "name": "stdout",
     "output_type": "stream",
     "text": [
      "[[0.15544485 0.33396549 0.68548202 0.52695128]\n",
      " [0.20684329 0.8946991  0.62457298 0.04737292]\n",
      " [0.20294551 0.62910903 0.72809232 0.18005965]]\n"
     ]
    }
   ],
   "source": [
    "# create a random array of uniformly distributed floats between 0 and 1\n",
    "# random(mean= , std= , size=())\n",
    "unirand_array = np.random.random((3,4))\n",
    "print(unirand_array)   "
   ]
  },
  {
   "cell_type": "code",
   "execution_count": 11,
   "metadata": {},
   "outputs": [
    {
     "name": "stdout",
     "output_type": "stream",
     "text": [
      "[[-0.5060083   0.17458719  0.5553117   1.15843178]\n",
      " [ 2.11184316  1.80000456  1.41846991  1.37717883]\n",
      " [-0.08633675  0.47659188  0.45068361 -0.56093758]]\n"
     ]
    }
   ],
   "source": [
    "# create a random array of normally distributed floats with mean 5 and sd 8\n",
    "normalrand_array = np.random.normal(0,1,(3,4))\n",
    "print(normalrand_array)"
   ]
  },
  {
   "cell_type": "code",
   "execution_count": 12,
   "metadata": {},
   "outputs": [
    {
     "name": "stdout",
     "output_type": "stream",
     "text": [
      "[[-2.44074139 -2.45181848 -0.4917662  -0.47233234]\n",
      " [ 0.46657322 -2.25613698  0.80747686  2.22870306]\n",
      " [-0.15027593 -0.34696246  2.64351516  0.75456698]]\n"
     ]
    }
   ],
   "source": [
    "# you can also use randn() to generate random array from normal distribution. \n",
    "# However you cannot define mean and sd (set to mean=0 and sd=1)\n",
    "normalrand_array = np.random.randn(3,4)\n",
    "print(normalrand_array)"
   ]
  },
  {
   "cell_type": "code",
   "execution_count": 9,
   "metadata": {},
   "outputs": [
    {
     "name": "stdout",
     "output_type": "stream",
     "text": [
      "[[0 6 3 8]\n",
      " [2 5 0 0]\n",
      " [6 9 9 0]]\n"
     ]
    }
   ],
   "source": [
    "# create a random array of discrete uniform integers between [0, 10)\n",
    "intrand_array = np.random.randint(0,10,(3,4))\n",
    "print(intrand_array)"
   ]
  },
  {
   "attachments": {},
   "cell_type": "markdown",
   "metadata": {},
   "source": [
    "### 1.2. Array Slicing (sub-array)"
   ]
  },
  {
   "attachments": {},
   "cell_type": "markdown",
   "metadata": {},
   "source": [
    "<p>The Numpy slicing syntax follows that of the standard Python list:</p>\n",
    "\n",
    "<p>&nbsp;&nbsp;&nbsp;&nbsp;&nbsp;&nbsp;&nbsp;&nbsp;<i>an_array[start:stop:step]</i></p>"
   ]
  },
  {
   "cell_type": "code",
   "execution_count": 10,
   "metadata": {},
   "outputs": [
    {
     "name": "stdout",
     "output_type": "stream",
     "text": [
      "Array:  [0 1 2 3 4 5 6 7 8 9]\n",
      "Shape:  (10,)\n"
     ]
    }
   ],
   "source": [
    "import numpy as np\n",
    "\n",
    "an_array = np.arange(10)         # arange() in numpy works similar to range() in standard python \n",
    "print(\"Array: \", an_array)\n",
    "print(\"Shape: \", an_array.shape) # this array is a rank 1 array "
   ]
  },
  {
   "cell_type": "code",
   "execution_count": 15,
   "metadata": {},
   "outputs": [
    {
     "name": "stdout",
     "output_type": "stream",
     "text": [
      "Slice 1: an_array[2:5]   is [2 3 4]\n",
      "Slice 2: an_array[:5]    is [0 1 2 3 4]\n",
      "Slice 3: an_array[5:]    is [5 6 7 8 9]\n",
      "Slice 4: an_array[::2]   is [0 2 4 6 8]\n",
      "Slice 5: an_array[::3]   is [0 3 6 9]\n",
      "Slice 6: an_array[3::2]  is [3 5 7 9]\n",
      "Slice 7: an_array[3::3]  is [3 6 9]\n",
      "Slice 8: an_array[::-1]  is [9 8 7 6 5 4 3 2 1 0]\n",
      "Slice 9: an_array[5::-2] is [5 3 1]\n"
     ]
    }
   ],
   "source": [
    "# Slicing for rank1 arrays\n",
    "print(\"Slice 1: an_array[2:5]   is\", an_array[2:5]) \n",
    "print(\"Slice 2: an_array[:5]    is\", an_array[:5])    # first five elements\n",
    "print(\"Slice 3: an_array[5:]    is\", an_array[5:])    # elements after index 5\n",
    "print(\"Slice 4: an_array[::2]   is\", an_array[::2])   # every other element\n",
    "print(\"Slice 5: an_array[::3]   is\", an_array[::3])    \n",
    "print(\"Slice 6: an_array[3::2]  is\", an_array[3::2])  # every other element, starting at index 3\n",
    "print(\"Slice 7: an_array[3::3]  is\", an_array[3::3])\n",
    "print(\"Slice 8: an_array[::-1]  is\", an_array[::-1])  # all elements, reversed\n",
    "print(\"Slice 9: an_array[5::-2] is\", an_array[5::-2]) # reversed every other from index 5"
   ]
  },
  {
   "cell_type": "code",
   "execution_count": 17,
   "metadata": {},
   "outputs": [],
   "source": [
    "another_array = np.array([[12,  5,  2,  4],\n",
    "                          [ 7,  6,  8,  8],\n",
    "                          [ 1,  6,  7,  7]])"
   ]
  },
  {
   "attachments": {},
   "cell_type": "markdown",
   "metadata": {},
   "source": [
    "<p> The above code creates a matrix (2-dimensional array)</p> \n",
    "<table width=300>\n",
    "    <tr style=\"background-color:white;\">\n",
    "        <td>&nbsp;</td>\n",
    "        <td style=\"text-align:center\">0</td>\n",
    "        <td style=\"text-align:center\">1</td>\n",
    "        <td style=\"text-align:center\">2</td>\n",
    "        <td style=\"text-align:center\">3</td>\n",
    "    </tr>\n",
    "    <tr style=\"background-color:white;\">\n",
    "        <td style=\"text-align:center\">0</td>\n",
    "        <td style=\"border: 1px black solid;text-align:center; background-color:yellow\">12</td>\n",
    "        <td style=\"border: 1px black solid;text-align:center; background-color:yellow\">5</td>\n",
    "        <td style=\"border: 1px black solid;text-align:center; background-color:yellow\">2</td>\n",
    "        <td style=\"border: 1px black solid;text-align:center; background-color:yellow\">4</td>\n",
    "    </tr>\n",
    "    <tr style=\"background-color:white\">\n",
    "        <td style=\"text-align:center\">1</td>\n",
    "        <td style=\"border: 1px black solid;text-align:center; background-color:yellow\">7</td>\n",
    "        <td style=\"border: 1px black solid;text-align:center; background-color:yellow\">6</td>\n",
    "        <td style=\"border: 1px black solid;text-align:center; background-color:yellow\">8</td>\n",
    "        <td style=\"border: 1px black solid;text-align:center; background-color:yellow\">8</td>\n",
    "    </tr>\n",
    "    <tr style=\"background-color:grey\">\n",
    "        <td style=\"text-align:center\">2</td>\n",
    "        <td style=\"border: 1px black solid;text-align:center; background-color:yellow\">1</td>\n",
    "        <td style=\"border: 1px black solid;text-align:center; background-color:yellow\">6</td>\n",
    "        <td style=\"border: 1px black solid;text-align:center; background-color:yellow\">7</td>\n",
    "        <td style=\"border: 1px black solid;text-align:center; background-color:yellow\">7</td>\n",
    "    </tr>\n",
    "</table>\n",
    "    "
   ]
  },
  {
   "attachments": {},
   "cell_type": "markdown",
   "metadata": {},
   "source": [
    "<h1>Output change</h1>\n",
    "<br>\n",
    "\n",
    "another_array[1, :]  & another_array[1:2,:] for both of this the output will be same array([[],[]])\n",
    "<br/>\n",
    "but for the first we specify to print only array at \"1\" so it will be 1-D\n",
    "<br>\n",
    "however for the second we specify \"1,2\" so it will be 2-D\n",
    "<br/>\n"
   ]
  },
  {
   "cell_type": "code",
   "execution_count": 18,
   "metadata": {},
   "outputs": [
    {
     "name": "stdout",
     "output_type": "stream",
     "text": [
      "another_array[:2, :3]\n",
      "\n",
      " [[12  5  2]\n",
      " [ 7  6  8]]\n",
      "\n",
      "\n",
      "another_array[:2, ::2]\n",
      "\n",
      " [[12  2]\n",
      " [ 7  8]]\n",
      "\n",
      "\n",
      "another_array[:, ::2]\n",
      "\n",
      " [[12  2]\n",
      " [ 7  8]\n",
      " [ 1  7]]\n",
      "\n",
      "\n",
      "another_array[::-1, ::-1]\n",
      "\n",
      " [[ 7  7  6  1]\n",
      " [ 8  8  6  7]\n",
      " [ 4  2  5 12]]\n",
      "\n",
      "\n",
      "another_array[1, :]\n",
      "\n",
      " [7 6 8 8]\n",
      "\n",
      "\n",
      "another_array[:, 2]\n",
      "\n",
      " [2 8 7]\n"
     ]
    }
   ],
   "source": [
    "# Slicing for rank2 arrays\n",
    "print(\"another_array[:2, :3]\\n\\n\", another_array[:2, :3])\n",
    "print(\"\\n\")\n",
    "print(\"another_array[:2, ::2]\\n\\n\", another_array[:2, ::2])\n",
    "print(\"\\n\")\n",
    "print(\"another_array[:, ::2]\\n\\n\", another_array[:, ::2])\n",
    "print(\"\\n\")\n",
    "print(\"another_array[::-1, ::-1]\\n\\n\", another_array[::-1, ::-1])\n",
    "print(\"\\n\")\n",
    "print(\"another_array[1, :]\\n\\n\", another_array[1, :])\n",
    "print(\"\\n\")\n",
    "print(\"another_array[:, 2]\\n\\n\", another_array[:, 2])"
   ]
  },
  {
   "cell_type": "code",
   "execution_count": null,
   "metadata": {},
   "outputs": [],
   "source": [
    "another_array = np.array([[12,  5,  2,  4],\n",
    "                          [ 7,  6,  8,  8],\n",
    "                          [ 1,  6,  7,  7]])\n",
    "another_array[1:2,:].shape"
   ]
  },
  {
   "cell_type": "code",
   "execution_count": null,
   "metadata": {},
   "outputs": [],
   "source": [
    "another_array[1:2,:]"
   ]
  },
  {
   "attachments": {},
   "cell_type": "markdown",
   "metadata": {},
   "source": [
    "<b>Important Example:</b>"
   ]
  },
  {
   "cell_type": "code",
   "execution_count": null,
   "metadata": {},
   "outputs": [],
   "source": [
    "print(\"another_array[:, 2] is :\", another_array[:, 2])                  # rank1 array\n",
    "print(\"another_array[:, 2].shape is :\", another_array[:, 2].shape)\n",
    "print(\"another_array[:, 2:3] is :\\n\", another_array[:, 2:3])            # rank2 array\n",
    "print(\"another_array[:, 2:3].shape is :\", another_array[:, 2:3].shape)"
   ]
  },
  {
   "attachments": {},
   "cell_type": "markdown",
   "metadata": {},
   "source": [
    "<p><b>Note:</b> array slices return <u>views</u> rather than copies of the array data. This is different from Python list slicing in which slices generate a new copies of the sub-list.</p>"
   ]
  },
  {
   "attachments": {},
   "cell_type": "markdown",
   "metadata": {},
   "source": [
    "when we use sub_array[] -> Changes made in sub array will change in original array\n",
    "<br>\n",
    "when we use np_array.copy() -> Changes made in sub array will not change in original array\n",
    "<br>\n"
   ]
  },
  {
   "cell_type": "code",
   "execution_count": 12,
   "metadata": {},
   "outputs": [
    {
     "data": {
      "text/plain": [
       "array([[22, 23],\n",
       "       [32, 33]])"
      ]
     },
     "execution_count": 12,
     "metadata": {},
     "output_type": "execute_result"
    }
   ],
   "source": [
    "# Here is an example\n",
    "ex_array = np.array([[11,12,13],\n",
    "                     [21,22,23],\n",
    "                     [31,32,33]])\n",
    "sub_array = ex_array[1:3,1:3]\n",
    "sub_array"
   ]
  },
  {
   "cell_type": "code",
   "execution_count": 29,
   "metadata": {},
   "outputs": [
    {
     "data": {
      "text/plain": [
       "array([[ 11,  12,  13],\n",
       "       [ 21,  25, 455],\n",
       "       [ 31,  25,  45]])"
      ]
     },
     "execution_count": 29,
     "metadata": {},
     "output_type": "execute_result"
    }
   ],
   "source": [
    "# let's change the content of sub_array\n",
    "#sub array will change and update same positions in original array\n",
    "sub_array[0,0] = 25\n",
    "# let's check the original array\n",
    "ex_array"
   ]
  },
  {
   "attachments": {},
   "cell_type": "markdown",
   "metadata": {},
   "source": [
    "<p><b>Note:</b> In order to create a separate copy of a sub-array, you need to use the <b style=\"color:blue;\">copy( )</b> function.</p>"
   ]
  },
  {
   "cell_type": "code",
   "execution_count": 31,
   "metadata": {},
   "outputs": [],
   "source": [
    "ex_array = np.array([[11,12,13],\n",
    "                     [21,22,23],\n",
    "                     [31,32,33]])\n",
    "\n",
    "sub_array_copy = ex_array[1:3,1:3].copy()"
   ]
  },
  {
   "attachments": {},
   "cell_type": "markdown",
   "metadata": {},
   "source": [
    "### 1.3. Boolean Indexing (Filtering)"
   ]
  },
  {
   "attachments": {},
   "cell_type": "markdown",
   "metadata": {},
   "source": [
    "<p>You can create filters by applying specific criteria to the arrays. Filters can be used to extract subsample of elements from an array.</p>"
   ]
  },
  {
   "attachments": {},
   "cell_type": "markdown",
   "metadata": {},
   "source": [
    "when is the output file 1-d with rank 1 -> just apply filter and implement on the array\n",
    "<br>\n",
    "when is the output file 2-d as matrix -> just apply filter."
   ]
  },
  {
   "cell_type": "code",
   "execution_count": 32,
   "metadata": {},
   "outputs": [
    {
     "name": "stdout",
     "output_type": "stream",
     "text": [
      "[[ True False False False]\n",
      " [ True False  True  True]\n",
      " [False False  True  True]]\n"
     ]
    }
   ],
   "source": [
    "# let's run an example\n",
    "exp_array = np.array([[12,  5,  2,  4],\n",
    "                      [ 7,  6,  8,  8],\n",
    "                      [ 1,  6,  7,  7]])\n",
    "\n",
    "filter_array = exp_array > 6     # This generates a same size (shape) boolean array  \n",
    "print(filter_array)"
   ]
  },
  {
   "attachments": {},
   "cell_type": "markdown",
   "metadata": {},
   "source": [
    "<p>Here is the matrix presentation of the result:</p>\n",
    "<p>exp_array</p> \n",
    "<table width=300>\n",
    "    <tr style=\"background-color:white;\">\n",
    "        <td>&nbsp;</td>\n",
    "        <td style=\"text-align:center\">0</td>\n",
    "        <td style=\"text-align:center\">1</td>\n",
    "        <td style=\"text-align:center\">2</td>\n",
    "        <td style=\"text-align:center\">3</td>\n",
    "    </tr>\n",
    "    <tr style=\"background-color:white;\">\n",
    "        <td style=\"text-align:center\">0</td>\n",
    "        <td style=\"border: 1px black solid;text-align:center; background-color:yellow\">12</td>\n",
    "        <td style=\"border: 1px black solid;text-align:center; background-color:yellow\">5</td>\n",
    "        <td style=\"border: 1px black solid;text-align:center; background-color:yellow\">2</td>\n",
    "        <td style=\"border: 1px black solid;text-align:center; background-color:yellow\">4</td>\n",
    "    </tr>\n",
    "    <tr style=\"background-color:white\">\n",
    "        <td style=\"text-align:center\">1</td>\n",
    "        <td style=\"border: 1px black solid;text-align:center; background-color:yellow\">7</td>\n",
    "        <td style=\"border: 1px black solid;text-align:center; background-color:yellow\">6</td>\n",
    "        <td style=\"border: 1px black solid;text-align:center; background-color:yellow\">8</td>\n",
    "        <td style=\"border: 1px black solid;text-align:center; background-color:yellow\">8</td>\n",
    "    </tr>\n",
    "    <tr style=\"background-color:grey\">\n",
    "        <td style=\"text-align:center\">2</td>\n",
    "        <td style=\"border: 1px black solid;text-align:center; background-color:yellow\">1</td>\n",
    "        <td style=\"border: 1px black solid;text-align:center; background-color:yellow\">6</td>\n",
    "        <td style=\"border: 1px black solid;text-align:center; background-color:yellow\">7</td>\n",
    "        <td style=\"border: 1px black solid;text-align:center; background-color:yellow\">7</td>\n",
    "    </tr>\n",
    "</table>\n",
    "\n",
    "<p>filter_array</p> \n",
    "<table width=300>\n",
    "    <tr style=\"background-color:white;\">\n",
    "        <td>&nbsp;</td>\n",
    "        <td style=\"text-align:center\">0</td>\n",
    "        <td style=\"text-align:center\">1</td>\n",
    "        <td style=\"text-align:center\">2</td>\n",
    "        <td style=\"text-align:center\">3</td>\n",
    "    </tr>\n",
    "    <tr style=\"background-color:white;\">\n",
    "        <td style=\"text-align:center\">0</td>\n",
    "        <td style=\"border: 1px black solid;text-align:center; background-color:green\">True</td>\n",
    "        <td style=\"border: 1px black solid;text-align:center; background-color:red\">False</td>\n",
    "        <td style=\"border: 1px black solid;text-align:center; background-color:red\">False</td>\n",
    "        <td style=\"border: 1px black solid;text-align:center; background-color:red\">False</td>\n",
    "    </tr>\n",
    "    <tr style=\"background-color:white\">\n",
    "        <td style=\"text-align:center\">1</td>\n",
    "        <td style=\"border: 1px black solid;text-align:center; background-color:green\">True</td>\n",
    "        <td style=\"border: 1px black solid;text-align:center; background-color:red\">False</td>\n",
    "        <td style=\"border: 1px black solid;text-align:center; background-color:green\">True</td>\n",
    "        <td style=\"border: 1px black solid;text-align:center; background-color:green\">True</td>\n",
    "    </tr>\n",
    "    <tr style=\"background-color:grey\">\n",
    "        <td style=\"text-align:center\">2</td>\n",
    "        <td style=\"border: 1px black solid;text-align:center; background-color:red\">False</td>\n",
    "        <td style=\"border: 1px black solid;text-align:center; background-color:red\">False</td>\n",
    "        <td style=\"border: 1px black solid;text-align:center; background-color:green\">True</td>\n",
    "        <td style=\"border: 1px black solid;text-align:center; background-color:green\">True</td>\n",
    "    </tr>\n",
    "</table>\n",
    "<br/>\n",
    "<p>Let's use the filter to extract the desire values from the array</p>    "
   ]
  },
  {
   "cell_type": "code",
   "execution_count": 33,
   "metadata": {},
   "outputs": [
    {
     "name": "stdout",
     "output_type": "stream",
     "text": [
      "Filtered array:  [12  7  8  8  7  7]\n",
      "Original array:  [[12  5  2  4]\n",
      " [ 7  6  8  8]\n",
      " [ 1  6  7  7]]\n"
     ]
    }
   ],
   "source": [
    "filter_result = exp_array[filter_array]         # result is one-dimensional rank1 array\n",
    "print('Filtered array: ',filter_result)\n",
    "\n",
    "print('Original array: ',exp_array)\n"
   ]
  },
  {
   "attachments": {},
   "cell_type": "markdown",
   "metadata": {},
   "source": [
    "<table width=300>\n",
    "    <tr style=\"background-color:white;\">\n",
    "        <td>&nbsp;</td>\n",
    "        <td style=\"text-align:center\">0</td>\n",
    "        <td style=\"text-align:center\">1</td>\n",
    "        <td style=\"text-align:center\">2</td>\n",
    "        <td style=\"text-align:center\">3</td>\n",
    "    </tr>\n",
    "    <tr style=\"background-color:white;\">\n",
    "        <td style=\"text-align:center\">0</td>\n",
    "        <td style=\"border: 1px black solid;text-align:center; background-color:green\">12</td>\n",
    "        <td style=\"border: 1px black solid;text-align:center; background-color:red\">5</td>\n",
    "        <td style=\"border: 1px black solid;text-align:center; background-color:red\">2</td>\n",
    "        <td style=\"border: 1px black solid;text-align:center; background-color:red\">4</td>\n",
    "    </tr>\n",
    "    <tr style=\"background-color:white\">\n",
    "        <td style=\"text-align:center\">1</td>\n",
    "        <td style=\"border: 1px black solid;text-align:center; background-color:green\">7</td>\n",
    "        <td style=\"border: 1px black solid;text-align:center; background-color:red\">6</td>\n",
    "        <td style=\"border: 1px black solid;text-align:center; background-color:green\">8</td>\n",
    "        <td style=\"border: 1px black solid;text-align:center; background-color:green\">8</td>\n",
    "    </tr>\n",
    "    <tr style=\"background-color:grey\">\n",
    "        <td style=\"text-align:center\">2</td>\n",
    "        <td style=\"border: 1px black solid;text-align:center; background-color:red\">1</td>\n",
    "        <td style=\"border: 1px black solid;text-align:center; background-color:red\">6</td>\n",
    "        <td style=\"border: 1px black solid;text-align:center; background-color:green\">7</td>\n",
    "        <td style=\"border: 1px black solid;text-align:center; background-color:green\">7</td>\n",
    "    </tr>\n",
    "</table>"
   ]
  },
  {
   "attachments": {},
   "cell_type": "markdown",
   "metadata": {},
   "source": [
    "<p>&nbsp;</p>"
   ]
  },
  {
   "attachments": {},
   "cell_type": "markdown",
   "metadata": {},
   "source": [
    "<p><b>Note:</b> We can update elements in arrays applying similar filtering.</p>  \n",
    "<p><b>Example:</b> Let's add 20 to all the green elements.</p>"
   ]
  },
  {
   "cell_type": "code",
   "execution_count": 34,
   "metadata": {},
   "outputs": [
    {
     "data": {
      "text/plain": [
       "array([[32,  5,  2,  4],\n",
       "       [27,  6, 28, 28],\n",
       "       [ 1,  6, 27, 27]])"
      ]
     },
     "execution_count": 34,
     "metadata": {},
     "output_type": "execute_result"
    }
   ],
   "source": [
    "exp_array[exp_array>6] += 20\n",
    "exp_array"
   ]
  },
  {
   "attachments": {},
   "cell_type": "markdown",
   "metadata": {},
   "source": [
    "<p><b>Example:</b> Use the exp_array and apply a filter to extract the even numbers. </p>"
   ]
  },
  {
   "cell_type": "code",
   "execution_count": 38,
   "metadata": {},
   "outputs": [
    {
     "data": {
      "text/plain": [
       "array([12,  2,  4,  6,  8,  8,  6])"
      ]
     },
     "execution_count": 38,
     "metadata": {},
     "output_type": "execute_result"
    }
   ],
   "source": [
    "# write your code over here\n",
    "import numpy as np\n",
    "\n",
    "exp_array = np.array([[12,  5,  2,  4],\n",
    "                      [ 7,  6,  8,  8],\n",
    "                      [ 1,  6,  7,  7]])\n",
    "\n",
    "even_filter_array = (exp_array%2 ==0)\n",
    "exp_array[even_filter_array]"
   ]
  },
  {
   "attachments": {},
   "cell_type": "markdown",
   "metadata": {},
   "source": [
    "<p><b>Example:</b> In exp_array, multiply all the even numbers by 3.</p>"
   ]
  },
  {
   "cell_type": "code",
   "execution_count": 39,
   "metadata": {},
   "outputs": [
    {
     "data": {
      "text/plain": [
       "array([[36,  5,  6, 12],\n",
       "       [ 7, 18, 24, 24],\n",
       "       [ 1, 18,  7,  7]])"
      ]
     },
     "execution_count": 39,
     "metadata": {},
     "output_type": "execute_result"
    }
   ],
   "source": [
    "# write your code over here\n",
    "exp_array[even_filter_array] *=3\n",
    "exp_array"
   ]
  },
  {
   "attachments": {},
   "cell_type": "markdown",
   "metadata": {},
   "source": [
    "<p><b>Note:</b> you can use <b style=\"color:blue;\">any( )</b> and <b style=\"color:blue;\">all( )</b> functions to test whether any or all elements in your array met your filtering criteria.</p>"
   ]
  },
  {
   "cell_type": "code",
   "execution_count": 46,
   "metadata": {},
   "outputs": [],
   "source": [
    "exp_array = np.array([[12,  5,  2,  4],\n",
    "                      [ 7,  6,  8,  8],\n",
    "                      [ 1,  6,  7,  7]])\n",
    "\n",
    "filter_array = exp_array > 6"
   ]
  },
  {
   "cell_type": "code",
   "execution_count": 50,
   "metadata": {},
   "outputs": [
    {
     "data": {
      "text/plain": [
       "True"
      ]
     },
     "execution_count": 50,
     "metadata": {},
     "output_type": "execute_result"
    }
   ],
   "source": [
    "# test to see whether any elements of the exp_array met the criteria\n",
    "# filter_array.any(exp_array) #error if any elements of exp_array\n",
    "filter_array.any() "
   ]
  },
  {
   "cell_type": "code",
   "execution_count": 51,
   "metadata": {},
   "outputs": [
    {
     "data": {
      "text/plain": [
       "False"
      ]
     },
     "execution_count": 51,
     "metadata": {},
     "output_type": "execute_result"
    }
   ],
   "source": [
    "# test to see whether all the elements of the exp_array met the criteria\n",
    "filter_array.all() "
   ]
  },
  {
   "attachments": {},
   "cell_type": "markdown",
   "metadata": {},
   "source": [
    "<b>Note:</b> You can also use multiple criteria to filter your numpy array. In order to do it you need to use <b style='color:blue'>|</b> and <b style='color:blue'>&</b> operators. "
   ]
  },
  {
   "attachments": {},
   "cell_type": "markdown",
   "metadata": {},
   "source": [
    "<b>Example1:</b> Consider the following array and find values that are less than 10 and more than 2."
   ]
  },
  {
   "cell_type": "code",
   "execution_count": null,
   "metadata": {},
   "outputs": [],
   "source": [
    "exp_array = np.array([[12,  5,  2,  4],\n",
    "                      [ 7,  6,  8,  8],\n",
    "                      [ 1,  6,  7,  7]])\n",
    "\n",
    "filter_array = (exp_array<10) & (exp_array>2)\n",
    "exp_array[filter_array]"
   ]
  },
  {
   "attachments": {},
   "cell_type": "markdown",
   "metadata": {},
   "source": [
    "<b>Example2:</b> Consider the following array and find values that are more than 10 or less than 3."
   ]
  },
  {
   "cell_type": "code",
   "execution_count": null,
   "metadata": {},
   "outputs": [],
   "source": [
    "exp_array = np.array([[12,  5,  2,  4],\n",
    "                      [ 7,  6,  8,  8],\n",
    "                      [ 1,  6,  7,  7]])\n",
    "\n",
    "filter_array = (exp_array>10) | (exp_array<3)\n",
    "exp_array[filter_array]"
   ]
  },
  {
   "attachments": {},
   "cell_type": "markdown",
   "metadata": {},
   "source": [
    "### 1.4. Reshaping of Arrays"
   ]
  },
  {
   "attachments": {},
   "cell_type": "markdown",
   "metadata": {},
   "source": [
    "<p>Numpy allows you to reshape your arrays suing <b style=\"color:blue\">reshape( )</b> function. It is very useful to convert one-dimensional arrays into multi-dimensional arrays</p>"
   ]
  },
  {
   "cell_type": "code",
   "execution_count": 41,
   "metadata": {},
   "outputs": [
    {
     "data": {
      "text/plain": [
       "array([[ 0,  1,  2,  3,  4,  5,  6,  7],\n",
       "       [ 8,  9, 10, 11, 12, 13, 14, 15]])"
      ]
     },
     "execution_count": 41,
     "metadata": {},
     "output_type": "execute_result"
    }
   ],
   "source": [
    "# Example 1\n",
    "exp_array = np.arange(16).reshape(2,8)\n",
    "exp_array"
   ]
  },
  {
   "cell_type": "code",
   "execution_count": 42,
   "metadata": {},
   "outputs": [
    {
     "data": {
      "text/plain": [
       "array([[ 0,  1,  2,  3],\n",
       "       [ 4,  5,  6,  7],\n",
       "       [ 8,  9, 10, 11],\n",
       "       [12, 13, 14, 15]])"
      ]
     },
     "execution_count": 42,
     "metadata": {},
     "output_type": "execute_result"
    }
   ],
   "source": [
    "exp_array.reshape(4,4)"
   ]
  },
  {
   "cell_type": "code",
   "execution_count": 43,
   "metadata": {},
   "outputs": [
    {
     "data": {
      "text/plain": [
       "array([[ 0,  1],\n",
       "       [ 2,  3],\n",
       "       [ 4,  5],\n",
       "       [ 6,  7],\n",
       "       [ 8,  9],\n",
       "       [10, 11],\n",
       "       [12, 13],\n",
       "       [14, 15]])"
      ]
     },
     "execution_count": 43,
     "metadata": {},
     "output_type": "execute_result"
    }
   ],
   "source": [
    "exp_array.reshape(8,2)"
   ]
  },
  {
   "cell_type": "code",
   "execution_count": 56,
   "metadata": {},
   "outputs": [
    {
     "data": {
      "text/plain": [
       "array([[[ 0,  1,  2,  3,  4],\n",
       "        [ 5,  6,  7,  8,  9]],\n",
       "\n",
       "       [[10, 11, 12, 13, 14],\n",
       "        [15, 16, 17, 18, 19]]])"
      ]
     },
     "execution_count": 56,
     "metadata": {},
     "output_type": "execute_result"
    }
   ],
   "source": [
    "# Example 2\n",
    "exp_array = np.arange(20).reshape(2,2,5) # three dimensional array\n",
    "exp_array"
   ]
  },
  {
   "cell_type": "code",
   "execution_count": 57,
   "metadata": {},
   "outputs": [
    {
     "data": {
      "text/plain": [
       "(1, 5)"
      ]
     },
     "execution_count": 57,
     "metadata": {},
     "output_type": "execute_result"
    }
   ],
   "source": [
    "exp_array = np.arange(5).reshape(1,-1)\n",
    "exp_array.shape\n"
   ]
  },
  {
   "attachments": {},
   "cell_type": "markdown",
   "metadata": {},
   "source": [
    "<p><b>Note:</b> It is important to that the size of the initial array matches the size of the reshaped array. "
   ]
  },
  {
   "attachments": {},
   "cell_type": "markdown",
   "metadata": {},
   "source": [
    "<p>&nbsp;</p>"
   ]
  },
  {
   "attachments": {},
   "cell_type": "markdown",
   "metadata": {},
   "source": [
    "<p><b>Note:</b>You can also use the <b style=\"color:blue;\">T</b> to find the transpose of an array</p>"
   ]
  },
  {
   "cell_type": "code",
   "execution_count": null,
   "metadata": {},
   "outputs": [],
   "source": [
    "exp2_array = np.array([[1,2,3],\n",
    "                       [4,5,6]])\n",
    "print(\"Original array\")\n",
    "print(exp2_array)\n",
    "print()\n",
    "print(\"Transpose array\")\n",
    "print(exp2_array.T)"
   ]
  },
  {
   "attachments": {},
   "cell_type": "markdown",
   "metadata": {},
   "source": [
    "### 1.5. Universal functions (ufunc)"
   ]
  },
  {
   "attachments": {},
   "cell_type": "markdown",
   "metadata": {},
   "source": [
    "<p>A universal function (or ufunc for short) is a function that operates on ndarrays in an element-by-element fashion. Universal functions are instances of the numpy.ufunc class. Many of the built-in functions are implemented in compiled C code which provides faster execution of operations.</p>"
   ]
  },
  {
   "cell_type": "code",
   "execution_count": 45,
   "metadata": {},
   "outputs": [
    {
     "data": {
      "text/plain": [
       "array([0.125     , 0.125     , 1.        , 0.33333333, 0.25      ])"
      ]
     },
     "execution_count": 45,
     "metadata": {},
     "output_type": "execute_result"
    }
   ],
   "source": [
    "# Let's consider a one-dimensional array and compute the reciprocals of its elements in classic format\n",
    "import numpy as np \n",
    "                           \n",
    "\n",
    "def compute_reciprocals(values): \n",
    "    output = np.empty(len(values))            # generate an empty array with specified size\n",
    "    for i in range(len(values)):\n",
    "        output[i] = 1.0 / values[i] \n",
    "    return output\n",
    "        \n",
    "values = np.random.randint(1, 10, size=5)     # 5 random integer numbers betweeb [1,10)\n",
    "compute_reciprocals(values)"
   ]
  },
  {
   "cell_type": "code",
   "execution_count": 64,
   "metadata": {},
   "outputs": [
    {
     "name": "stdout",
     "output_type": "stream",
     "text": [
      "1.09 s ± 84.8 ms per loop (mean ± std. dev. of 7 runs, 1 loop each)\n"
     ]
    }
   ],
   "source": [
    "# Now, we can check the required time for this procedure on a large size array\n",
    "big_array = np.random.randint(1, 100, size=1000000)\n",
    "%timeit compute_reciprocals(big_array)"
   ]
  },
  {
   "attachments": {},
   "cell_type": "markdown",
   "metadata": {},
   "source": [
    "<p><b>Note:</b> Numpy's UFuncs allow you to apply operations at array level, and then they apply the operation to all the elements of the array in an optimized format (we call it vectorized operations). "
   ]
  },
  {
   "cell_type": "code",
   "execution_count": 46,
   "metadata": {},
   "outputs": [
    {
     "name": "stdout",
     "output_type": "stream",
     "text": [
      "   Classic method result: [0.2        0.14285714 0.11111111 0.14285714 0.5       ]\n",
      "Vectorized method result: [0.2        0.14285714 0.11111111 0.14285714 0.5       ]\n"
     ]
    }
   ],
   "source": [
    "# Example: You can perform the reciprocal task in the following format.\n",
    "values = np.random.randint(1, 10, size=5)\n",
    "print(\"   Classic method result:\", compute_reciprocals(values))\n",
    "print(\"Vectorized method result:\", 1/values)"
   ]
  },
  {
   "attachments": {},
   "cell_type": "markdown",
   "metadata": {},
   "source": [
    "<p><b>Question:</b> As you can see the result of two methods are the same. The question is which one is faster? </p>"
   ]
  },
  {
   "cell_type": "code",
   "execution_count": 47,
   "metadata": {},
   "outputs": [
    {
     "name": "stdout",
     "output_type": "stream",
     "text": [
      "1.04 ms ± 21.1 µs per loop (mean ± std. dev. of 7 runs, 1,000 loops each)\n"
     ]
    }
   ],
   "source": [
    "big_array = np.random.randint(1, 100, size=1000000)\n",
    "%timeit 1/big_array"
   ]
  },
  {
   "attachments": {},
   "cell_type": "markdown",
   "metadata": {},
   "source": [
    "Here you can find more arithmetic array operations:"
   ]
  },
  {
   "cell_type": "code",
   "execution_count": 48,
   "metadata": {},
   "outputs": [
    {
     "name": "stdout",
     "output_type": "stream",
     "text": [
      "[[1 2]\n",
      " [3 4]]\n",
      "\n",
      "[[5.5 6.6]\n",
      " [7.7 8.8]]\n"
     ]
    }
   ],
   "source": [
    "x = np.array([[1,2],\n",
    "              [3,4]])\n",
    "\n",
    "y = np.array([[5.5,6.6],\n",
    "              [7.7,8.8]])\n",
    "\n",
    "print(x)\n",
    "print()\n",
    "print(y)"
   ]
  },
  {
   "cell_type": "code",
   "execution_count": 66,
   "metadata": {},
   "outputs": [
    {
     "name": "stdout",
     "output_type": "stream",
     "text": [
      "[[ 6.5  8.6]\n",
      " [10.7 12.8]]\n",
      "\n",
      "[[ 6.5  8.6]\n",
      " [10.7 12.8]]\n"
     ]
    }
   ],
   "source": [
    "# add\n",
    "print(x + y)         \n",
    "print()\n",
    "print(np.add(x, y))  "
   ]
  },
  {
   "cell_type": "code",
   "execution_count": 67,
   "metadata": {},
   "outputs": [
    {
     "name": "stdout",
     "output_type": "stream",
     "text": [
      "[[-4.5 -4.6]\n",
      " [-4.7 -4.8]]\n",
      "\n",
      "[[-4.5 -4.6]\n",
      " [-4.7 -4.8]]\n"
     ]
    }
   ],
   "source": [
    "# subtract\n",
    "print(x - y)\n",
    "print()\n",
    "print(np.subtract(x, y))"
   ]
  },
  {
   "cell_type": "code",
   "execution_count": 68,
   "metadata": {},
   "outputs": [
    {
     "name": "stdout",
     "output_type": "stream",
     "text": [
      "[[ 5.5 13.2]\n",
      " [23.1 35.2]]\n",
      "\n",
      "[[ 5.5 13.2]\n",
      " [23.1 35.2]]\n"
     ]
    }
   ],
   "source": [
    "# multiply\n",
    "print(x * y)\n",
    "print()\n",
    "print(np.multiply(x, y))"
   ]
  },
  {
   "cell_type": "code",
   "execution_count": 69,
   "metadata": {},
   "outputs": [
    {
     "name": "stdout",
     "output_type": "stream",
     "text": [
      "[[0.18181818 0.3030303 ]\n",
      " [0.38961039 0.45454545]]\n",
      "\n",
      "[[0.18181818 0.3030303 ]\n",
      " [0.38961039 0.45454545]]\n"
     ]
    }
   ],
   "source": [
    "# divide\n",
    "print(x / y)\n",
    "print()\n",
    "print(np.divide(x, y))"
   ]
  },
  {
   "cell_type": "code",
   "execution_count": 49,
   "metadata": {},
   "outputs": [
    {
     "name": "stdout",
     "output_type": "stream",
     "text": [
      "[[1.         1.41421356]\n",
      " [1.73205081 2.        ]]\n"
     ]
    }
   ],
   "source": [
    "# square root\n",
    "print(np.sqrt(x))"
   ]
  },
  {
   "cell_type": "code",
   "execution_count": 50,
   "metadata": {},
   "outputs": [
    {
     "name": "stdout",
     "output_type": "stream",
     "text": [
      "[[ 2.71828183  7.3890561 ]\n",
      " [20.08553692 54.59815003]]\n"
     ]
    }
   ],
   "source": [
    "# exponent (e ** x)\n",
    "print(np.exp(x))"
   ]
  },
  {
   "cell_type": "code",
   "execution_count": null,
   "metadata": {},
   "outputs": [],
   "source": [
    "A = np.array([[-1,-2],\n",
    "              [5,3]])\n",
    "\n",
    "B = np.array([[4,2],\n",
    "              [-1,-6]])"
   ]
  },
  {
   "cell_type": "code",
   "execution_count": null,
   "metadata": {},
   "outputs": [],
   "source": [
    "A + B "
   ]
  },
  {
   "cell_type": "code",
   "execution_count": null,
   "metadata": {},
   "outputs": [],
   "source": [
    "A + B.T"
   ]
  },
  {
   "cell_type": "code",
   "execution_count": null,
   "metadata": {},
   "outputs": [],
   "source": [
    "A.T - B"
   ]
  },
  {
   "cell_type": "code",
   "execution_count": null,
   "metadata": {},
   "outputs": [],
   "source": [
    "A.T"
   ]
  },
  {
   "cell_type": "code",
   "execution_count": null,
   "metadata": {},
   "outputs": [],
   "source": [
    "(A - B).T"
   ]
  },
  {
   "cell_type": "code",
   "execution_count": null,
   "metadata": {},
   "outputs": [],
   "source": [
    "(A + B).T - A"
   ]
  },
  {
   "attachments": {},
   "cell_type": "markdown",
   "metadata": {},
   "source": [
    "<b>Extra Note:</b> <b style='color:blue'>reduce( )</b> and <b style='color:blue'>accumulate( )</b> are two useful functions that can be used along with universal functions for aggregation."
   ]
  },
  {
   "attachments": {},
   "cell_type": "markdown",
   "metadata": {},
   "source": [
    "### 1.6. Broadcasting"
   ]
  },
  {
   "attachments": {},
   "cell_type": "markdown",
   "metadata": {},
   "source": [
    "<p>Broadcasting is simply a set of rules for applying binary ufuncs (addition, subtraction, multiplication, etc.) on arrays of different sizes.</p>\n",
    "<img src=\"https://jakevdp.github.io/PythonDataScienceHandbook/figures/02.05-broadcasting.png\" width=400 height=400>\n",
    "<p><b>Source</b>: VanderPlas, J., 2016. Python data science handbook: essential tools for working with data. \" O'Reilly Media, Inc.\"</p>\n",
    "\n",
    "<p>Rules of broadcasting:</p>\n",
    "\n",
    "* If the two arrays differ in their number of dimensions, the shape of the one with fewer dimensions is padded with ones on its leading side.\n",
    "* >(3,4) & (3,) --> if either of arrays are 1D then their row or column should be same\n",
    "* > (3,4) & (4,1) --> error because first and second arrays have different number of row.\n",
    "\n",
    "* If the shape of the two arrays does not match in any dimension, the array with shape equal to 1 in that dimension is stretched to match the other shape.\n",
    "\n",
    "* If in any dimension the sizes disagree and neither is equal to 1, an error is raised."
   ]
  },
  {
   "cell_type": "code",
   "execution_count": 1,
   "metadata": {},
   "outputs": [
    {
     "data": {
      "text/plain": [
       "array([5, 6, 7])"
      ]
     },
     "execution_count": 1,
     "metadata": {},
     "output_type": "execute_result"
    }
   ],
   "source": [
    "# Example 1\n",
    "# when the np.array is 1D the number of column will be \n",
    "# in place of row.\n",
    "import numpy as np\n",
    "\n",
    "an_array = np.array([0,1,2])      # Shape (3,)\n",
    "an_integer = 5\n",
    "an_array + an_integer \n"
   ]
  },
  {
   "cell_type": "code",
   "execution_count": 3,
   "metadata": {},
   "outputs": [
    {
     "name": "stdout",
     "output_type": "stream",
     "text": [
      "[[1. 1. 1.]\n",
      " [1. 1. 1.]\n",
      " [1. 1. 1.]]\n"
     ]
    },
    {
     "ename": "ValueError",
     "evalue": "operands could not be broadcast together with shapes (3,3) (2,) ",
     "output_type": "error",
     "traceback": [
      "\u001b[0;31m---------------------------------------------------------------------------\u001b[0m",
      "\u001b[0;31mValueError\u001b[0m                                Traceback (most recent call last)",
      "Cell \u001b[0;32mIn[3], line 5\u001b[0m\n\u001b[1;32m      3\u001b[0m \u001b[39mprint\u001b[39m(a_matrix)\n\u001b[1;32m      4\u001b[0m an_array \u001b[39m=\u001b[39m np\u001b[39m.\u001b[39marray([\u001b[39m1\u001b[39m,\u001b[39m2\u001b[39m])     \u001b[39m# Shape (3,)\u001b[39;00m\n\u001b[0;32m----> 5\u001b[0m a_matrix \u001b[39m*\u001b[39;49m an_array\n",
      "\u001b[0;31mValueError\u001b[0m: operands could not be broadcast together with shapes (3,3) (2,) "
     ]
    }
   ],
   "source": [
    "# Example 2\n",
    "a_matrix = np.ones((3,3))\n",
    "print(a_matrix)\n",
    "an_array = np.array([1,2])     # Shape (3,)\n",
    "a_matrix * an_array"
   ]
  },
  {
   "cell_type": "code",
   "execution_count": 73,
   "metadata": {},
   "outputs": [
    {
     "data": {
      "text/plain": [
       "array([[0, 1, 2],\n",
       "       [1, 2, 3],\n",
       "       [2, 3, 4]])"
      ]
     },
     "execution_count": 73,
     "metadata": {},
     "output_type": "execute_result"
    }
   ],
   "source": [
    "# Example 3\n",
    "an_array = np.array([0,1,2])     # Shape (3,)\n",
    "another_array = np.array([[0],\n",
    "                          [1],\n",
    "                          [2]])  # Shape (1,3)\n",
    "an_array + another_array"
   ]
  },
  {
   "attachments": {},
   "cell_type": "markdown",
   "metadata": {},
   "source": [
    "<p><b>Example:</b> (1) create a 3x4 matrix, (2) create a 3x1 vector. Add this two entities and figure out how broadcasting applies to this case?</p>"
   ]
  },
  {
   "cell_type": "code",
   "execution_count": 7,
   "metadata": {},
   "outputs": [
    {
     "name": "stdout",
     "output_type": "stream",
     "text": [
      "[[ 1.70904272  1.12109294  1.50136425 -0.86758454]\n",
      " [ 0.6209432   0.99797542  0.4687915  -0.7544783 ]\n",
      " [-0.09432427  1.4607692   0.59970884  0.4588514 ]]\n",
      "[[1.]\n",
      " [1.]\n",
      " [1.]]\n",
      "[[2.70904272 2.12109294 2.50136425 0.13241546]\n",
      " [1.6209432  1.99797542 1.4687915  0.2455217 ]\n",
      " [0.90567573 2.4607692  1.59970884 1.4588514 ]]\n"
     ]
    }
   ],
   "source": [
    "# Write your code over here\n",
    "A = np.random.randn(3,4)\n",
    "B = np.ones((3,1)) # intialize matrix with 1 in each cell\n",
    "print(A)\n",
    "print(B)\n",
    "print(A+B)\n",
    "# print(B)\n"
   ]
  },
  {
   "cell_type": "code",
   "execution_count": 8,
   "metadata": {},
   "outputs": [
    {
     "data": {
      "text/plain": [
       "array([[2.70904272, 2.12109294, 2.50136425, 0.13241546],\n",
       "       [1.6209432 , 1.99797542, 1.4687915 , 0.2455217 ],\n",
       "       [0.90567573, 2.4607692 , 1.59970884, 1.4588514 ]])"
      ]
     },
     "execution_count": 8,
     "metadata": {},
     "output_type": "execute_result"
    }
   ],
   "source": [
    "A+B"
   ]
  },
  {
   "attachments": {},
   "cell_type": "markdown",
   "metadata": {},
   "source": [
    "<p><b>Example:</b> (1) create a 3x4 matrix, (2) create a 4x1 vector. Add this two entities and figure out how broadcasting applies to this case?</p>"
   ]
  },
  {
   "cell_type": "code",
   "execution_count": 2,
   "metadata": {},
   "outputs": [
    {
     "name": "stdout",
     "output_type": "stream",
     "text": [
      "[[-1.20846295 -0.24119338 -1.51049736 -0.16821151]\n",
      " [-0.70783845 -0.53484067 -1.09715672  1.02347983]\n",
      " [-2.72540571  1.20186728 -0.49397188 -0.11217459]]\n",
      "[[1.]\n",
      " [1.]\n",
      " [1.]]\n"
     ]
    }
   ],
   "source": [
    "# Write your code over here\n",
    "import numpy as np\n",
    "A = np.random.randn(3,4)\n",
    "B = np.ones((3,1))\n",
    "print(A)\n",
    "print(B)"
   ]
  },
  {
   "cell_type": "code",
   "execution_count": 3,
   "metadata": {},
   "outputs": [
    {
     "data": {
      "text/plain": [
       "array([[-0.20846295,  0.75880662, -0.51049736,  0.83178849],\n",
       "       [ 0.29216155,  0.46515933, -0.09715672,  2.02347983],\n",
       "       [-1.72540571,  2.20186728,  0.50602812,  0.88782541]])"
      ]
     },
     "execution_count": 3,
     "metadata": {},
     "output_type": "execute_result"
    }
   ],
   "source": [
    "A+B"
   ]
  },
  {
   "attachments": {},
   "cell_type": "markdown",
   "metadata": {},
   "source": [
    "### 1.7. Aggregation"
   ]
  },
  {
   "attachments": {},
   "cell_type": "markdown",
   "metadata": {},
   "source": [
    "<p>Sometime you need to apply operations (sum, max, min, mean) at aggregate level to get summary statistic about your array (mostly one-dimensional). For this purpose, you can use both default python functions and numpy version of the functions. However, you need to keep in mind that numpy functions operate faster on large size arrays.</p>"
   ]
  },
  {
   "cell_type": "code",
   "execution_count": 56,
   "metadata": {},
   "outputs": [
    {
     "name": "stdout",
     "output_type": "stream",
     "text": [
      "[495106926] [0] [99]\n",
      "495106926 99 0\n"
     ]
    }
   ],
   "source": [
    "# Example\n",
    "x = np.random.randint(0,100,(10000000,1))\n",
    "print(sum(x), min(x), max(x))\n",
    "print(np.sum(x),np.max(x),np.min(x))"
   ]
  },
  {
   "cell_type": "code",
   "execution_count": 57,
   "metadata": {},
   "outputs": [
    {
     "name": "stdout",
     "output_type": "stream",
     "text": [
      "4.21 s ± 61.2 ms per loop (mean ± std. dev. of 7 runs, 1 loop each)\n"
     ]
    }
   ],
   "source": [
    "%timeit sum(x)"
   ]
  },
  {
   "cell_type": "code",
   "execution_count": 58,
   "metadata": {},
   "outputs": [
    {
     "name": "stdout",
     "output_type": "stream",
     "text": [
      "2.53 ms ± 87.7 µs per loop (mean ± std. dev. of 7 runs, 1,000 loops each)\n"
     ]
    }
   ],
   "source": [
    "%timeit np.sum(x)"
   ]
  },
  {
   "attachments": {},
   "cell_type": "markdown",
   "metadata": {},
   "source": [
    "#### 1.7.1. Multidimensional aggregates"
   ]
  },
  {
   "attachments": {},
   "cell_type": "markdown",
   "metadata": {},
   "source": [
    "<p>One common type of aggregation operation is an aggregate along a row or column.</p>"
   ]
  },
  {
   "cell_type": "code",
   "execution_count": 59,
   "metadata": {},
   "outputs": [
    {
     "name": "stdout",
     "output_type": "stream",
     "text": [
      "[[7 2 1 8 4]\n",
      " [9 4 9 3 3]\n",
      " [8 7 8 6 1]\n",
      " [2 3 9 4 7]]\n"
     ]
    }
   ],
   "source": [
    "# Example\n",
    "an_array = np.random.randint(1,10,(4, 5)) #matrix with 4 rows and 5 columns\n",
    "print(an_array)"
   ]
  },
  {
   "cell_type": "code",
   "execution_count": 60,
   "metadata": {},
   "outputs": [
    {
     "name": "stdout",
     "output_type": "stream",
     "text": [
      "Total sum: 105\n",
      "Column-wise sum:  [26 16 27 21 15]\n",
      "Row-wise sum:  [22 28 30 25]\n"
     ]
    }
   ],
   "source": [
    "# sum\n",
    "print(\"Total sum:\", an_array.sum()) #returns the sum of all cells\n",
    "print(\"Column-wise sum: \", an_array.sum(axis = 0)) #here axis defines the column so sum of all columns is returned\n",
    "print(\"Row-wise sum: \", an_array.sum(axis = 1))"
   ]
  },
  {
   "cell_type": "code",
   "execution_count": 14,
   "metadata": {},
   "outputs": [
    {
     "name": "stdout",
     "output_type": "stream",
     "text": [
      "Total mean: 4.3\n",
      "Column-wise mean:  [3.25 2.   7.25 3.5  5.5 ]\n",
      "Row-wise mean:  [4.2 4.2 4.2 4.6]\n"
     ]
    }
   ],
   "source": [
    "# mean\n",
    "print(\"Total mean:\", an_array.mean())\n",
    "print(\"Column-wise mean: \", an_array.mean(axis = 0))\n",
    "print(\"Row-wise mean: \", an_array.mean(axis = 1))"
   ]
  },
  {
   "cell_type": "code",
   "execution_count": 15,
   "metadata": {},
   "outputs": [
    {
     "name": "stdout",
     "output_type": "stream",
     "text": [
      "Overall max: 9\n",
      "Column-wise max:  [6 3 9 5 8]\n",
      "Row-wise max:  [7 9 9 6]\n"
     ]
    }
   ],
   "source": [
    "# max\n",
    "print(\"Overall max:\", an_array.max())\n",
    "print(\"Column-wise max: \", an_array.max(axis = 0))\n",
    "print(\"Row-wise max: \", an_array.max(axis = 1))"
   ]
  },
  {
   "attachments": {},
   "cell_type": "markdown",
   "metadata": {},
   "source": [
    "<b>Note:</b> When you apply multi-dimensional operation on 2d array, the output is 1d array. Let's see an example:"
   ]
  },
  {
   "cell_type": "code",
   "execution_count": 17,
   "metadata": {},
   "outputs": [
    {
     "name": "stdout",
     "output_type": "stream",
     "text": [
      "(4,)\n"
     ]
    }
   ],
   "source": [
    "an_array = np.random.randint(1,10,(4, 5))\n",
    "sum_result = an_array.sum(axis = 1)\n",
    "print(sum_result.shape)"
   ]
  },
  {
   "attachments": {},
   "cell_type": "markdown",
   "metadata": {},
   "source": [
    "If you want to keep the number of dimentions in 2d format you need to use <b style=\"color:red\">keepdims=True</b> parameter."
   ]
  },
  {
   "cell_type": "code",
   "execution_count": 16,
   "metadata": {},
   "outputs": [
    {
     "name": "stdout",
     "output_type": "stream",
     "text": [
      "(1, 5)\n"
     ]
    }
   ],
   "source": [
    "an_array = np.random.randint(1,10,(4, 5))\n",
    "sum_result = an_array.sum(axis = 0, keepdims=True)\n",
    "print(sum_result.shape)"
   ]
  },
  {
   "attachments": {},
   "cell_type": "markdown",
   "metadata": {},
   "source": [
    "### 1.8. Sorting in Numpy"
   ]
  },
  {
   "attachments": {},
   "cell_type": "markdown",
   "metadata": {},
   "source": [
    "<b>Note:</b> There are two useful sort functions in numpy:\n",
    "<ol>\n",
    "    <li><b>sort:</b> applies sort function to the array (does not return a new array).</li>\n",
    "    <li><b>argsort:</b> returns the indicies of the sorted array.</li></ol>"
   ]
  },
  {
   "cell_type": "code",
   "execution_count": 3,
   "metadata": {},
   "outputs": [
    {
     "data": {
      "text/plain": [
       "array([ 1,  2,  4,  5,  6,  8, 11])"
      ]
     },
     "execution_count": 3,
     "metadata": {},
     "output_type": "execute_result"
    }
   ],
   "source": [
    "an_array = np.array([1,5,8,2,4,11,6])\n",
    "an_array.sort()\n",
    "an_array"
   ]
  },
  {
   "attachments": {},
   "cell_type": "markdown",
   "metadata": {},
   "source": [
    "<b>Note:</b> You can also find the reverse of the sorted array using slicing methods."
   ]
  },
  {
   "cell_type": "code",
   "execution_count": 4,
   "metadata": {},
   "outputs": [
    {
     "data": {
      "text/plain": [
       "array([11,  8,  6,  5,  4,  2,  1])"
      ]
     },
     "execution_count": 4,
     "metadata": {},
     "output_type": "execute_result"
    }
   ],
   "source": [
    "an_array[::-1]"
   ]
  },
  {
   "attachments": {},
   "cell_type": "markdown",
   "metadata": {},
   "source": [
    "Let's see an example of <u>argsort</u> function."
   ]
  },
  {
   "cell_type": "code",
   "execution_count": 19,
   "metadata": {},
   "outputs": [
    {
     "data": {
      "text/plain": [
       "array([0, 3, 4, 1, 6, 2, 5])"
      ]
     },
     "execution_count": 19,
     "metadata": {},
     "output_type": "execute_result"
    }
   ],
   "source": [
    "an_array = np.array([1,5,8,2,4,11,6])\n",
    "an_array.argsort() # gives the original index of the item."
   ]
  },
  {
   "cell_type": "code",
   "execution_count": 20,
   "metadata": {},
   "outputs": [
    {
     "data": {
      "text/plain": [
       "array([5, 2, 6, 1, 4, 3, 0])"
      ]
     },
     "execution_count": 20,
     "metadata": {},
     "output_type": "execute_result"
    }
   ],
   "source": [
    "# like before you can do it in reverse\n",
    "an_array.argsort()[::-1]"
   ]
  },
  {
   "attachments": {},
   "cell_type": "markdown",
   "metadata": {},
   "source": [
    "<b>Question:</b> Consider the following two arrays:"
   ]
  },
  {
   "cell_type": "code",
   "execution_count": 21,
   "metadata": {},
   "outputs": [],
   "source": [
    "names = np.array(['Jhon','Ali','Miriam','Alex','Hoda','Jennifer'])\n",
    "ages = np.array([18,22,11,7,31,19])"
   ]
  },
  {
   "attachments": {},
   "cell_type": "markdown",
   "metadata": {},
   "source": [
    "Now, sort the names based on ages in a descending manner (high to low)  "
   ]
  },
  {
   "cell_type": "code",
   "execution_count": 11,
   "metadata": {},
   "outputs": [
    {
     "data": {
      "text/plain": [
       "array(['Hoda', 'Ali', 'Jennifer', 'Jhon', 'Miriam', 'Alex'], dtype='<U8')"
      ]
     },
     "execution_count": 11,
     "metadata": {},
     "output_type": "execute_result"
    }
   ],
   "source": [
    "names[ages.argsort()[::-1]]\n",
    "\n",
    "''' \n",
    "argsort  returns the index of array befoer sorting:\n",
    "7 is least and its index is 3\n",
    "so names[3] = 'Alex'\n",
    "and [::-1] means reverse 'Alex' will be last\n",
    "'''"
   ]
  },
  {
   "cell_type": "code",
   "execution_count": 22,
   "metadata": {},
   "outputs": [
    {
     "name": "stdout",
     "output_type": "stream",
     "text": [
      "Hoda\n",
      "Ali\n",
      "Jennifer\n",
      "Jhon\n",
      "Miriam\n",
      "Alex\n"
     ]
    }
   ],
   "source": [
    "for item in ages.argsort()[::-1]:\n",
    "    print(names[item])"
   ]
  },
  {
   "attachments": {},
   "cell_type": "markdown",
   "metadata": {},
   "source": [
    "### 1.9. Dot Product (Vectorization)"
   ]
  },
  {
   "attachments": {},
   "cell_type": "markdown",
   "metadata": {},
   "source": [
    "<p>You can find dot product of two matrices in the following format:</p> "
   ]
  },
  {
   "cell_type": "code",
   "execution_count": 24,
   "metadata": {},
   "outputs": [
    {
     "name": "stdout",
     "output_type": "stream",
     "text": [
      "[[ 58  64]\n",
      " [139 154]]\n",
      "\n",
      "[[ 58  64]\n",
      " [139 154]]\n"
     ]
    }
   ],
   "source": [
    "x = np.array([[1,2,3],\n",
    "              [4,5,6]]) #2x3\n",
    "\n",
    "y = np.array([[7 ,8 ],\n",
    "              [9 ,10],\n",
    "              [11,12]])#3X2\n",
    "\n",
    "print(x.dot(y)) #since x(col)==y(row)\n",
    "print()\n",
    "print(np.dot(x, y))\n"
   ]
  },
  {
   "cell_type": "code",
   "execution_count": 25,
   "metadata": {},
   "outputs": [
    {
     "name": "stdout",
     "output_type": "stream",
     "text": [
      "vec1.dot(vec2):20\n",
      "\n",
      "np.dot(vec1, vec2):20\n"
     ]
    }
   ],
   "source": [
    "# Example: dot product of one-dimensional arrays\n",
    "vec1 = np.array([5 , 5 ])\n",
    "vec2 = np.array([2, 2])\n",
    "\n",
    "print(\"vec1.dot(vec2):{}\".format(vec1.dot(vec2)))\n",
    "print()\n",
    "print(\"np.dot(vec1, vec2):{}\".format(np.dot(vec1,vec2)))"
   ]
  },
  {
   "attachments": {},
   "cell_type": "markdown",
   "metadata": {},
   "source": [
    "### 1.10. Merging data sets"
   ]
  },
  {
   "attachments": {},
   "cell_type": "markdown",
   "metadata": {},
   "source": [
    "<p>You can merge arrays horizontally or vertically, considering the following rules </p>\n",
    "\n",
    "* In order to merge arrays vertically, two arrays should have identical number of columns.\n",
    "* In order to merge arrays horizontally, two arrays should have identical number of rows."
   ]
  },
  {
   "cell_type": "code",
   "execution_count": 27,
   "metadata": {},
   "outputs": [
    {
     "name": "stdout",
     "output_type": "stream",
     "text": [
      "[[6 5]\n",
      " [4 4]\n",
      " [7 7]\n",
      " [2 1]]\n",
      "\n",
      "[[5 4]\n",
      " [9 1]\n",
      " [7 6]]\n"
     ]
    }
   ],
   "source": [
    "array_one = np.random.randint(1,10,size=(4,2)) #4x2\n",
    "array_two = np.random.randint(1,10,size=(3,2)) #3x2\n",
    "print(array_one)\n",
    "print()\n",
    "print(array_two)"
   ]
  },
  {
   "cell_type": "code",
   "execution_count": 28,
   "metadata": {},
   "outputs": [
    {
     "data": {
      "text/plain": [
       "array([[6, 5],\n",
       "       [4, 4],\n",
       "       [7, 7],\n",
       "       [2, 1],\n",
       "       [5, 4],\n",
       "       [9, 1],\n",
       "       [7, 6]])"
      ]
     },
     "execution_count": 28,
     "metadata": {},
     "output_type": "execute_result"
    }
   ],
   "source": [
    "# vertical merge method 1  *** column should be same length ****\n",
    "np.vstack((array_one,array_two))\n",
    "#increases the number of rows <- vertical merge method"
   ]
  },
  {
   "cell_type": "code",
   "execution_count": 30,
   "metadata": {},
   "outputs": [
    {
     "data": {
      "text/plain": [
       "array([[6, 5],\n",
       "       [4, 4],\n",
       "       [7, 7],\n",
       "       [2, 1],\n",
       "       [5, 4],\n",
       "       [9, 1],\n",
       "       [7, 6]])"
      ]
     },
     "execution_count": 30,
     "metadata": {},
     "output_type": "execute_result"
    }
   ],
   "source": [
    "# vertical merge method 2\n",
    "np.concatenate([array_one,array_two], axis = 0) #does not work with axis=1"
   ]
  },
  {
   "cell_type": "code",
   "execution_count": 31,
   "metadata": {},
   "outputs": [
    {
     "name": "stdout",
     "output_type": "stream",
     "text": [
      "[[9 6 1 2]\n",
      " [3 2 6 4]\n",
      " [1 7 5 4]]\n",
      "\n",
      "[[9 1 3 5 3 8]\n",
      " [3 1 3 6 2 5]\n",
      " [4 9 8 9 6 4]]\n"
     ]
    }
   ],
   "source": [
    "array_three = np.random.randint(1,10,size=(3,4))\n",
    "array_four = np.random.randint(1,10,size=(3,6))\n",
    "print(array_three)\n",
    "print()\n",
    "print(array_four)\n"
   ]
  },
  {
   "cell_type": "code",
   "execution_count": 34,
   "metadata": {},
   "outputs": [
    {
     "data": {
      "text/plain": [
       "array([[9, 6, 1, 2, 9, 1, 3, 5, 3, 8],\n",
       "       [3, 2, 6, 4, 3, 1, 3, 6, 2, 5],\n",
       "       [1, 7, 5, 4, 4, 9, 8, 9, 6, 4]])"
      ]
     },
     "execution_count": 34,
     "metadata": {},
     "output_type": "execute_result"
    }
   ],
   "source": [
    "# Horizontal merge method 1 - **** rows should be same *****\n",
    "np.hstack((array_four,array_three))\n",
    "\n",
    "\n"
   ]
  },
  {
   "cell_type": "code",
   "execution_count": null,
   "metadata": {},
   "outputs": [],
   "source": [
    "# Horizontal merge method 2\n",
    "np.concatenate([array_three,array_four], axis = 1)"
   ]
  },
  {
   "cell_type": "code",
   "execution_count": null,
   "metadata": {},
   "outputs": [],
   "source": []
  }
 ],
 "metadata": {
  "kernelspec": {
   "display_name": "Python 3 (ipykernel)",
   "language": "python",
   "name": "python3"
  },
  "language_info": {
   "codemirror_mode": {
    "name": "ipython",
    "version": 3
   },
   "file_extension": ".py",
   "mimetype": "text/x-python",
   "name": "python",
   "nbconvert_exporter": "python",
   "pygments_lexer": "ipython3",
   "version": "3.11.3"
  }
 },
 "nbformat": 4,
 "nbformat_minor": 2
}
