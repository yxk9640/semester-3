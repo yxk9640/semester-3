{
 "cells": [
  {
   "cell_type": "markdown",
   "metadata": {},
   "source": [
    "    \n",
    "    Neshat Beheshti\n",
    "    University of Texas Arlington\n",
    "\n",
    "    This document can only be used for class studies. \n",
    "    You are not allowed to share it in any public platform."
   ]
  },
  {
   "cell_type": "markdown",
   "metadata": {},
   "source": [
    "        The Material for this Notebook is Adopted from \n",
    "        Starting Out with Python (4th Edition)- by Tony Gaddis Pearson"
   ]
  },
  {
   "cell_type": "markdown",
   "metadata": {},
   "source": [
    "<h1 align='center' style=\"color: blue;\">Dictionaries and Sets</h1>"
   ]
  },
  {
   "cell_type": "markdown",
   "metadata": {},
   "source": [
    "<tr> Row1\n",
    "    <th> Mutable</th>\n",
    "    <th> Non Mutable</th>\n",
    "</tr>\n",
    "<tr> Row2\n",
    "    <th> Sets, List</th>\n",
    "    <th> String, Tuple</th>\n",
    "</tr>"
   ]
  },
  {
   "cell_type": "markdown",
   "metadata": {},
   "source": [
    "Key Points:\n",
    "<br>\n",
    "Comprehension is accessing by using \"for loop\""
   ]
  },
  {
   "cell_type": "markdown",
   "metadata": {},
   "source": [
    "## 1. Dictionaries"
   ]
  },
  {
   "cell_type": "markdown",
   "metadata": {},
   "source": [
    "Dictionary: object that stores a collection of data \n",
    "<ul>\n",
    "    <li>Each element consists of a key and a value</li>\n",
    "<ul>\n",
    "    <li>Often referred to as mapping of key to value</li>\n",
    "    <li>Key must be an immutable object</li>\n",
    "    </ul>\n",
    "    <li>To retrieve a specific value, use the key associated with it</li>\n",
    "    <li>Format for creating a dictionary</li>\n",
    "\t<ul>\n",
    "        <li><i>dictionary = \n",
    "            {key1:val1, key2:val2}</i></li>\n",
    "    </ul>\n",
    "</ul>"
   ]
  },
  {
   "cell_type": "markdown",
   "metadata": {},
   "source": [
    "<b>Example:</b>"
   ]
  },
  {
   "cell_type": "code",
   "execution_count": null,
   "metadata": {},
   "outputs": [],
   "source": [
    "phonebook = {'Chris':'555−1111', 'Katie':'555−2222', 'Joanne':'555−3333'}\n",
    "phonebook"
   ]
  },
  {
   "cell_type": "markdown",
   "metadata": {},
   "source": [
    "### 1.1.Retrieving a Value from a Dictionary"
   ]
  },
  {
   "cell_type": "markdown",
   "metadata": {},
   "source": [
    "<li>Elements in dictionary are unsorted</li>\n",
    "<li><i>General format for retrieving value from dictionary: dictionary_name[key]</i></li>\n",
    "<ul>\n",
    "    <li>If <i>key</i> in the dictionary, associated value is returned, otherwise, <i>KeyError</i> exception is raised</li>\n",
    "    <li>Test whether a key is in a dictionary using the in and not in operators</li>\n",
    "<ul>\n",
    "    <li>Helps prevent <i>KeyError</i> exceptions</li>"
   ]
  },
  {
   "cell_type": "code",
   "execution_count": null,
   "metadata": {},
   "outputs": [],
   "source": [
    "phonebook = {'Chris':'555−1111', 'Katie':'555−2222', 'Joanne':'555−3333'}\n",
    "phonebook['Chris']"
   ]
  },
  {
   "cell_type": "code",
   "execution_count": null,
   "metadata": {},
   "outputs": [],
   "source": [
    "phonebook['Joanne']"
   ]
  },
  {
   "cell_type": "code",
   "execution_count": null,
   "metadata": {},
   "outputs": [],
   "source": [
    "phonebook['Katie']"
   ]
  },
  {
   "cell_type": "code",
   "execution_count": null,
   "metadata": {},
   "outputs": [],
   "source": [
    "phonebook['Kate']"
   ]
  },
  {
   "cell_type": "code",
   "execution_count": null,
   "metadata": {},
   "outputs": [],
   "source": [
    "phonebook = {'Chris':'555−1111', 'Katie':'555−2222', 'Joanne':'555−3333'}\n",
    "\n",
    "if 'Chris' in phonebook:\n",
    "    print(phonebook['Chris'])"
   ]
  },
  {
   "cell_type": "code",
   "execution_count": null,
   "metadata": {},
   "outputs": [],
   "source": [
    "phonebook = {'Chris':'555−1111', 'Katie':'555−2222'}\n",
    "if 'Joanne' not in phonebook:\n",
    "    print('Joanne is not found.')"
   ]
  },
  {
   "cell_type": "markdown",
   "metadata": {},
   "source": [
    "<b>Example:</b>"
   ]
  },
  {
   "cell_type": "code",
   "execution_count": null,
   "metadata": {},
   "outputs": [],
   "source": [
    "stuff = {1 : 'aaa', 2 : 'bbb', 3 : 'ccc'}\n",
    "print(stuff[3])"
   ]
  },
  {
   "cell_type": "markdown",
   "metadata": {},
   "source": [
    "### 1.2.Adding Elements to an Existing Dictionary"
   ]
  },
  {
   "cell_type": "markdown",
   "metadata": {},
   "source": [
    "<li>Dictionaries are mutable objects</li>\n",
    "<li>To add a new key-value pair:</li>\n",
    "\t\t<ul>dictionary[key] = value<ul>"
   ]
  },
  {
   "cell_type": "markdown",
   "metadata": {},
   "source": [
    "<b>Example:</b>"
   ]
  },
  {
   "cell_type": "code",
   "execution_count": null,
   "metadata": {},
   "outputs": [],
   "source": [
    "phonebook = {'Chris':'555−1111', 'Katie':'555−2222', 'Joanne':'555−3333'}\n",
    "phonebook['Joe'] = '555−0123'\n",
    "phonebook"
   ]
  },
  {
   "cell_type": "markdown",
   "metadata": {},
   "source": [
    "<b>Note:</b> You cannot have duplicate keys in a dictionary. When you assign a value to an existing key, the new value replaces the existing value."
   ]
  },
  {
   "cell_type": "code",
   "execution_count": null,
   "metadata": {},
   "outputs": [],
   "source": [
    "phonebook['Chris'] = '555−4444'\n",
    "phonebook"
   ]
  },
  {
   "cell_type": "markdown",
   "metadata": {},
   "source": [
    "### 1.3. Deleting Elements From an Existing Dictionary"
   ]
  },
  {
   "cell_type": "markdown",
   "metadata": {},
   "source": [
    "<li>To delete a key-value pair:</li>\n",
    "\t\t\t<ul>del dictionary[key]</ul>\n",
    "    <li>If key is not in the dictionary, <i>KeyError</i> exception is raised</li>"
   ]
  },
  {
   "cell_type": "markdown",
   "metadata": {},
   "source": [
    "<b>Example:</b>"
   ]
  },
  {
   "cell_type": "code",
   "execution_count": null,
   "metadata": {},
   "outputs": [],
   "source": [
    "phonebook = {'Chris':'555−1111', 'Katie':'555−2222', 'Joanne':'555−3333'}\n",
    "del phonebook['Chris'] \n",
    "phonebook"
   ]
  },
  {
   "cell_type": "code",
   "execution_count": null,
   "metadata": {},
   "outputs": [],
   "source": [
    "del phonebook['Chris']"
   ]
  },
  {
   "cell_type": "code",
   "execution_count": null,
   "metadata": {},
   "outputs": [],
   "source": [
    "phonebook = {'Chris':'555−1111', 'Katie':'555−2222', 'Joanne':'555−3333'}\n",
    "if 'Chris' in phonebook:\n",
    "    del phonebook['Chris']\n",
    "\n",
    "phonebook"
   ]
  },
  {
   "cell_type": "markdown",
   "metadata": {},
   "source": [
    "<b>Example:</b>"
   ]
  },
  {
   "cell_type": "code",
   "execution_count": null,
   "metadata": {},
   "outputs": [],
   "source": [
    "squares = {1: 1, 2: 4, 3: 9, 4: 16, 5: 25}\n",
    "del squares[4]\n",
    "squares"
   ]
  },
  {
   "cell_type": "code",
   "execution_count": null,
   "metadata": {},
   "outputs": [],
   "source": [
    "squares = {1: 1, 2: 4, 3: 9, 4: 16, 5: 25}\n",
    "del squares\n",
    "print(squares)"
   ]
  },
  {
   "cell_type": "markdown",
   "metadata": {},
   "source": [
    "### 1.4. Getting the Number of Elements and Mixing Data Types"
   ]
  },
  {
   "cell_type": "markdown",
   "metadata": {},
   "source": [
    "<li>len function: used to obtain number of elements in a dictionary</li>\n",
    "<li>Keys must be immutable objects, but associated values can be any type of object</li>\n",
    "<ul>\n",
    "<li>One dictionary can include keys of several different immutable types</li>\n",
    "</ul>\n",
    "<li>Values stored in a single dictionary can be of different types</li>"
   ]
  },
  {
   "cell_type": "code",
   "execution_count": null,
   "metadata": {},
   "outputs": [],
   "source": [
    "phonebook = {'Chris':'555−1111', 'Katie':'555−2222'}\n",
    "num_items = len(phonebook)\n",
    "print(num_items)"
   ]
  },
  {
   "cell_type": "code",
   "execution_count": null,
   "metadata": {},
   "outputs": [],
   "source": [
    "# dictionary with integer keys\n",
    "stuff = {1 : 'aaa', 2 : 'bbb', 3 : 'ccc'} \n",
    "print(len(stuff))"
   ]
  },
  {
   "cell_type": "code",
   "execution_count": null,
   "metadata": {},
   "outputs": [],
   "source": [
    "test_scores = { 'Kayla' : [88, 92, 100],'Luis' : [95, 74, 81],'Sophie' : [72, 88, 91],'Ethan' : [70, 75, 78] }\n",
    "test_scores"
   ]
  },
  {
   "cell_type": "code",
   "execution_count": null,
   "metadata": {},
   "outputs": [],
   "source": [
    "test_scores['Sophie']"
   ]
  },
  {
   "cell_type": "code",
   "execution_count": null,
   "metadata": {},
   "outputs": [],
   "source": [
    "kayla_scores = test_scores['Kayla']\n",
    "print(kayla_scores)"
   ]
  },
  {
   "cell_type": "code",
   "execution_count": null,
   "metadata": {},
   "outputs": [],
   "source": [
    "# dictionary with mixed keys\n",
    "mixed_up = {'abc':1, 999:'yada yada', (3, 6, 9):[3, 6, 9]}\n",
    "mixed_up[(3,6,9)]"
   ]
  },
  {
   "cell_type": "code",
   "execution_count": null,
   "metadata": {},
   "outputs": [],
   "source": [
    "my_dictionary = {'name': 'John', 1: [2, 4, 3]}\n",
    "my_dictionary"
   ]
  },
  {
   "cell_type": "code",
   "execution_count": null,
   "metadata": {},
   "outputs": [],
   "source": [
    "employee = {'name' : 'Kevin Smith', 'id' : 12345, 'payrate' : 25.75 }\n",
    "employee"
   ]
  },
  {
   "cell_type": "markdown",
   "metadata": {},
   "source": [
    "### 1.5. Creating an Empty Dictionary and Using for Loop to Iterate Over a Dictionar"
   ]
  },
  {
   "cell_type": "markdown",
   "metadata": {},
   "source": [
    "To create an empty dictionary:\n",
    "<ul>\n",
    "<li>Use {}</li>\n",
    "<li>Use built-in function dict()</li>\n",
    "    <li>we can use list with tuples and send the list as argument of dict()</li>\n",
    "<li>Elements can be added to the dictionary as program executes</li></ul>\n",
    "    </ul>"
   ]
  },
  {
   "cell_type": "markdown",
   "metadata": {},
   "source": [
    "<b>Example:</b>"
   ]
  },
  {
   "cell_type": "code",
   "execution_count": null,
   "metadata": {},
   "outputs": [],
   "source": [
    "phonebook = {}\n",
    "phonebook['Chris'] = '555−1111'\n",
    "phonebook['Katie'] = '555−2222'\n",
    "phonebook['Joanne'] = '555−3333'\n",
    "phonebook"
   ]
  },
  {
   "cell_type": "code",
   "execution_count": null,
   "metadata": {
    "scrolled": true
   },
   "outputs": [],
   "source": [
    "phonebook = dict()\n",
    "phonebook"
   ]
  },
  {
   "cell_type": "code",
   "execution_count": null,
   "metadata": {},
   "outputs": [],
   "source": [
    "my_dictionary = dict({1:'apple', 2:'ball'})\n",
    "my_dictionary"
   ]
  },
  {
   "cell_type": "code",
   "execution_count": null,
   "metadata": {},
   "outputs": [],
   "source": [
    "my_dict = dict([(1,'apple'), (2,'ball')])\n",
    "my_dict"
   ]
  },
  {
   "cell_type": "markdown",
   "metadata": {},
   "source": [
    "Use a for loop to iterate over a dictionary\n",
    "<ul>\n",
    "<li>General format: for key in dictionary:</li>\n",
    "    <ul>\n",
    "   <i>for &nbsp;var in dictionary(): \n",
    "<br>&nbsp;&nbsp;&nbsp;&nbsp;&nbsp;&nbsp;&nbsp;&nbsp;statement \n",
    "<br>&nbsp;&nbsp;&nbsp;&nbsp;&nbsp;&nbsp;&nbsp;&nbsp;statement\n",
    "<br>&nbsp;&nbsp;&nbsp;&nbsp;&nbsp;&nbsp;&nbsp;&nbsp;etc.</i>\n",
    "</ul>    "
   ]
  },
  {
   "cell_type": "code",
   "execution_count": null,
   "metadata": {},
   "outputs": [],
   "source": [
    "squares = {}\n",
    "for x in range(6):\n",
    "    squares[x] = x*x\n",
    "print(squares)"
   ]
  },
  {
   "cell_type": "markdown",
   "metadata": {},
   "source": [
    "<b>Example:</b>"
   ]
  },
  {
   "cell_type": "code",
   "execution_count": null,
   "metadata": {},
   "outputs": [],
   "source": [
    "phonebook = {'Chris':'555−1111', 'Katie':'555−2222', 'Joanne':'555−3333'}\n",
    "\n",
    "for key in phonebook:\n",
    "    print(key)"
   ]
  },
  {
   "cell_type": "code",
   "execution_count": null,
   "metadata": {},
   "outputs": [],
   "source": [
    "for key in phonebook:\n",
    "    print(key, phonebook[key])"
   ]
  },
  {
   "cell_type": "code",
   "execution_count": null,
   "metadata": {},
   "outputs": [],
   "source": [
    "stuff = {1 : 'aaa', 2 : 'bbb', 3 : 'ccc'} \n",
    "for k in stuff:\n",
    "    print(k)"
   ]
  },
  {
   "cell_type": "code",
   "execution_count": null,
   "metadata": {},
   "outputs": [],
   "source": [
    "for k in stuff:\n",
    "    print(k,stuff[k])"
   ]
  },
  {
   "cell_type": "markdown",
   "metadata": {},
   "source": [
    "### 1.6.Some Dictionary Methods"
   ]
  },
  {
   "cell_type": "markdown",
   "metadata": {},
   "source": [
    "<img src='images/week10/Some of the dictionary methods.png'>\n",
    "\n",
    "<i>Source: Starting Out with Python (4th Edition)- by Tony Gaddis Pearson</i>"
   ]
  },
  {
   "cell_type": "markdown",
   "metadata": {},
   "source": [
    "<b>clear method: deletes all the elements in a dictionary, leaving it empty</b>\n",
    "<ul><li>Format: dictionary.clear()</li></ul>\n",
    "<li> For \"clear()\" you use name of the dictionary and for \"del\" we use keys of dict </li>"
   ]
  },
  {
   "cell_type": "markdown",
   "metadata": {},
   "source": [
    "<b>Example</b>"
   ]
  },
  {
   "cell_type": "code",
   "execution_count": null,
   "metadata": {},
   "outputs": [],
   "source": [
    "phonebook = {'Chris':'555−1111', 'Katie':'555−2222'}\n",
    "phonebook\n"
   ]
  },
  {
   "cell_type": "code",
   "execution_count": null,
   "metadata": {},
   "outputs": [],
   "source": [
    "phonebook.clear()\n",
    "phonebook"
   ]
  },
  {
   "cell_type": "markdown",
   "metadata": {},
   "source": [
    "<b>Example:</b>"
   ]
  },
  {
   "cell_type": "code",
   "execution_count": null,
   "metadata": {},
   "outputs": [],
   "source": [
    "squares = {1: 1, 2: 4, 3: 9, 4: 16, 5: 25}\n",
    "squares.clear()\n",
    "print(squares)\n"
   ]
  },
  {
   "cell_type": "code",
   "execution_count": null,
   "metadata": {},
   "outputs": [],
   "source": [
    "squares = {1: 1, 2: 4, 3: 9, 4: 16, 5: 25}\n",
    "del squares\n",
    "print(squares)"
   ]
  },
  {
   "cell_type": "markdown",
   "metadata": {},
   "source": [
    "<b>get method: gets a value associated with specified key from the dictionary</b>\n",
    "<ul><li>Format: dictionary.get(key, default)</li>\n",
    "<ul><li>default is returned if key is not found</li></ul>\n",
    "    <li>Alternative to [] operator</li>\n",
    "    <ul><li>Cannot raise KeyError exception</li></ul></ul>\n",
    "    \n",
    "    if value  in dict: return value\n",
    "    if value not in dict and default : return default\n",
    "    if value not in dict and no default : return None\n",
    "    "
   ]
  },
  {
   "cell_type": "markdown",
   "metadata": {},
   "source": [
    "<b>Example</b>"
   ]
  },
  {
   "cell_type": "code",
   "execution_count": null,
   "metadata": {},
   "outputs": [],
   "source": [
    "phonebook = {'Chris':'555−1111', 'Katie':'555−2222'}\n",
    "value = phonebook.get('Katie', 'Entry not found')\n",
    "print(value)"
   ]
  },
  {
   "cell_type": "code",
   "execution_count": null,
   "metadata": {},
   "outputs": [],
   "source": [
    "value = phonebook.get('Andy', 'Entry not found')\n",
    "print(value)"
   ]
  },
  {
   "cell_type": "code",
   "execution_count": null,
   "metadata": {},
   "outputs": [],
   "source": [
    "value = phonebook.get('Andy')\n",
    "print(value)"
   ]
  },
  {
   "cell_type": "markdown",
   "metadata": {},
   "source": [
    "<b>items method: returns all the dictionaries keys and associated values</b>\n",
    "<ul><li>Format: dictionary.items()</li>\n",
    "    <li>Returned as a dictionary view</li>\n",
    "<ul><li>Each element in dictionary view is a tuple which contains a key and its associated value</li>\n",
    "    <li>Use a for loop to iterate over the tuples in the sequence</li>\n",
    "<ul><li>Can use a variable which receives a tuple, or can use two variables which receive key and value</li></ul>\n",
    "    </ul></ul>"
   ]
  },
  {
   "cell_type": "markdown",
   "metadata": {},
   "source": [
    "<b>Example</b>"
   ]
  },
  {
   "cell_type": "code",
   "execution_count": null,
   "metadata": {},
   "outputs": [],
   "source": [
    "phonebook = {'Chris':'555−1111', 'Katie':'555−2222', 'Joanne':'555−3333'}\n",
    "ti = phonebook.items()\n",
    "ti"
   ]
  },
  {
   "cell_type": "code",
   "execution_count": null,
   "metadata": {},
   "outputs": [],
   "source": [
    "for key, value in phonebook.items():\n",
    "    print(key, value)"
   ]
  },
  {
   "cell_type": "markdown",
   "metadata": {},
   "source": [
    "<b>keys method: returns all the dictionaries keys as a sequence</b>\n",
    "<ul><li>Format: dictionary.keys()</li></ul>"
   ]
  },
  {
   "cell_type": "markdown",
   "metadata": {},
   "source": [
    "<b>Example</b>"
   ]
  },
  {
   "cell_type": "code",
   "execution_count": null,
   "metadata": {},
   "outputs": [],
   "source": [
    "phonebook = {'Chris':'555−1111', 'Katie':'555−2222', 'Joanne':'555−3333'}\n",
    "phonebook.keys()"
   ]
  },
  {
   "cell_type": "code",
   "execution_count": null,
   "metadata": {},
   "outputs": [],
   "source": [
    "for key in phonebook.keys():\n",
    "    print(key)"
   ]
  },
  {
   "cell_type": "markdown",
   "metadata": {},
   "source": [
    "<b>pop method: returns value associated with specified key and removes that key-value pair from the dictionary</b>\n",
    "<ul><li>Format: dictionary.pop(key, default)</li>\n",
    "<ul><li>default is returned if key is not found</li>\n",
    "</ul></ul>\n",
    "\n",
    "    if value  in dict: return value\n",
    "    if value not in dict and default : return default\n",
    "    if value not in dict and no default : DISPLAY ERROR"
   ]
  },
  {
   "cell_type": "markdown",
   "metadata": {},
   "source": [
    "<b>Example</b>"
   ]
  },
  {
   "cell_type": "code",
   "execution_count": null,
   "metadata": {},
   "outputs": [],
   "source": [
    "phonebook = {'Chris':'555−1111', 'Katie':'555−2222', 'Joanne':'555−3333'}\n",
    "phone_num = phonebook.pop('Chris', 'Entry not found')\n",
    "phone_num"
   ]
  },
  {
   "cell_type": "code",
   "execution_count": null,
   "metadata": {},
   "outputs": [],
   "source": [
    "phonebook"
   ]
  },
  {
   "cell_type": "code",
   "execution_count": null,
   "metadata": {},
   "outputs": [],
   "source": [
    "phone_num = phonebook.pop('Andy', 'Element not found')\n",
    "phone_num"
   ]
  },
  {
   "cell_type": "code",
   "execution_count": null,
   "metadata": {},
   "outputs": [],
   "source": [
    "phonebook"
   ]
  },
  {
   "cell_type": "markdown",
   "metadata": {},
   "source": [
    "<b>Example:</b>"
   ]
  },
  {
   "cell_type": "code",
   "execution_count": null,
   "metadata": {},
   "outputs": [],
   "source": [
    "squares = {1: 1, 2: 4, 3: 9, 4: 16, 5: 25}\n",
    "print(squares.pop(4))"
   ]
  },
  {
   "cell_type": "code",
   "execution_count": null,
   "metadata": {},
   "outputs": [],
   "source": [
    "squares"
   ]
  },
  {
   "cell_type": "markdown",
   "metadata": {},
   "source": [
    "<b>popitem method: removes the last inserted key-value pair from the dictionary and returns it as a tuple.</b>\n",
    "<ul><li>Format: dictionary.popitem()</li>\n",
    "<li>Key-value pair returned as a tuple</li></ul>"
   ]
  },
  {
   "cell_type": "markdown",
   "metadata": {},
   "source": [
    "<b>Example</b>"
   ]
  },
  {
   "cell_type": "code",
   "execution_count": null,
   "metadata": {},
   "outputs": [],
   "source": [
    "phonebook = {'Chris':'555−1111', 'Katie':'555−2222', 'Joanne':'555−3333'}\n",
    "key, value = phonebook.popitem()\n",
    "print(key,value)"
   ]
  },
  {
   "cell_type": "code",
   "execution_count": null,
   "metadata": {
    "scrolled": true
   },
   "outputs": [],
   "source": [
    "phonebook"
   ]
  },
  {
   "cell_type": "code",
   "execution_count": null,
   "metadata": {},
   "outputs": [],
   "source": [
    "import random\n",
    "test_dict = {'Gfg' : 1, 'is' : 2, 'best' : 3}\n",
    "print(\"The original dictionary is : \" + str(test_dict))\n",
    "\n",
    "key,val = random.choice(list(test_dict.items()))\n",
    "\n",
    "print(\"The random pair is : \" + str(key))"
   ]
  },
  {
   "cell_type": "markdown",
   "metadata": {},
   "source": [
    "<b>Example</b>"
   ]
  },
  {
   "cell_type": "code",
   "execution_count": null,
   "metadata": {},
   "outputs": [],
   "source": [
    "squares = {1: 1, 2: 4, 3: 9, 4: 16, 5: 25, 7:49,9:81}\n",
    "print(squares.popitem())"
   ]
  },
  {
   "cell_type": "code",
   "execution_count": null,
   "metadata": {},
   "outputs": [],
   "source": [
    "squares"
   ]
  },
  {
   "cell_type": "markdown",
   "metadata": {},
   "source": [
    "<b>values method: returns all the dictionaries values as a sequence</b>\n",
    "<ul><li>Format: dictionary.values()</li>\n",
    "<li>Use a for loop to iterate over the values</li></ul>"
   ]
  },
  {
   "cell_type": "markdown",
   "metadata": {},
   "source": [
    "<b>Example</b>"
   ]
  },
  {
   "cell_type": "code",
   "execution_count": null,
   "metadata": {},
   "outputs": [],
   "source": [
    "phonebook = {'Chris':'555−1111', 'Katie':'555−2222', 'Joanne':'555−3333'}\n",
    "phonebook.values()"
   ]
  },
  {
   "cell_type": "code",
   "execution_count": null,
   "metadata": {},
   "outputs": [],
   "source": [
    "for val in phonebook.values():\n",
    "    print(val)"
   ]
  },
  {
   "cell_type": "code",
   "execution_count": null,
   "metadata": {},
   "outputs": [],
   "source": [
    "sample_dict1 = { 'fname':'John','lname':'smith','age':25,'interets':['computer games','football']\n",
    "                 , ('GPA','highschool'): 3.3}\n",
    "print(sample_dict1['fname']) \n"
   ]
  },
  {
   "cell_type": "code",
   "execution_count": null,
   "metadata": {},
   "outputs": [],
   "source": [
    "print(sample_dict1['interets']) \n"
   ]
  },
  {
   "cell_type": "code",
   "execution_count": null,
   "metadata": {},
   "outputs": [],
   "source": [
    "print(sample_dict1[('GPA','highschool')])"
   ]
  },
  {
   "cell_type": "markdown",
   "metadata": {},
   "source": [
    "<b>Note:</b> You cannot use numeric indices to access to values in a dictionary. "
   ]
  },
  {
   "cell_type": "code",
   "execution_count": null,
   "metadata": {},
   "outputs": [],
   "source": [
    "sample_dict1[1]"
   ]
  },
  {
   "cell_type": "code",
   "execution_count": null,
   "metadata": {
    "scrolled": true
   },
   "outputs": [],
   "source": [
    "print(sample_dict1)\n",
    "sample_dict1.pop('age')\n"
   ]
  },
  {
   "cell_type": "code",
   "execution_count": null,
   "metadata": {},
   "outputs": [],
   "source": [
    "print(sample_dict1)"
   ]
  },
  {
   "cell_type": "code",
   "execution_count": null,
   "metadata": {},
   "outputs": [],
   "source": [
    "sample_dict1 = { 'fname':'John','lname':'smith','age':25,'interets':['computer games','football']\n",
    "                 , ('GPA','highschool'): 3.3}\n",
    "len(sample_dict1)"
   ]
  },
  {
   "cell_type": "code",
   "execution_count": null,
   "metadata": {},
   "outputs": [],
   "source": [
    "sample_dict1 = { 'fname':'John','lname':'smith','age':25,'interets':['computer games','football']\n",
    "                 , ('GPA','highschool'): 3.3}\n",
    "for i in sample_dict1: \n",
    "    print(sample_dict1[i])"
   ]
  },
  {
   "cell_type": "code",
   "execution_count": null,
   "metadata": {},
   "outputs": [],
   "source": [
    "sample_dict1 = { 'fname':'John','lname':'smith','age':25,'interets':['computer games','football']\n",
    "                 , ('GPA','highschool'): 3.3}\n",
    "for key,value in sample_dict1.items(): \n",
    "    print(key, \" : \" , value)"
   ]
  },
  {
   "cell_type": "markdown",
   "metadata": {},
   "source": [
    "### 1.7. Dictionary Comprehensions"
   ]
  },
  {
   "cell_type": "markdown",
   "metadata": {},
   "source": [
    "A disctionary comprehension is an expression that reads a sequence of input elements and uses those input elements to produce a dictionary."
   ]
  },
  {
   "cell_type": "markdown",
   "metadata": {},
   "source": [
    "<b>Example</b>"
   ]
  },
  {
   "cell_type": "code",
   "execution_count": null,
   "metadata": {},
   "outputs": [],
   "source": [
    "numbers = [1,2,3,4]\n",
    "\n",
    "{1:1,2:4,3:9,4:16}"
   ]
  },
  {
   "cell_type": "code",
   "execution_count": null,
   "metadata": {},
   "outputs": [],
   "source": [
    "dict = {item:item*item for item in numbers }\n",
    "dict"
   ]
  },
  {
   "cell_type": "markdown",
   "metadata": {},
   "source": [
    "Use a dictionary comprehension to make a copy of the phonebook dictionary:"
   ]
  },
  {
   "cell_type": "code",
   "execution_count": null,
   "metadata": {},
   "outputs": [],
   "source": [
    "phonebook = {'Chris':'555−1111', 'Katie':'555−2222', 'Joanne':'555−3333'}"
   ]
  },
  {
   "cell_type": "code",
   "execution_count": null,
   "metadata": {},
   "outputs": [],
   "source": [
    "cp = { key:val for key,val in phonebook.items()}\n",
    "cp"
   ]
  },
  {
   "cell_type": "code",
   "execution_count": null,
   "metadata": {},
   "outputs": [],
   "source": [
    "cp2 = {item:phonebook[item] for item in phonebook}\n",
    "cp2"
   ]
  },
  {
   "cell_type": "markdown",
   "metadata": {},
   "source": [
    "Create a dictionary that is a copy of the population dictionary, but contains only the elements for the cities with population greater than 2000000."
   ]
  },
  {
   "cell_type": "code",
   "execution_count": null,
   "metadata": {},
   "outputs": [],
   "source": [
    "populations = {'New York': 8398748, 'Los Angeles': 3990456,\n",
    "               'Chicago': 2705994, 'Houston': 2325502,\n",
    "               'Phoenix': 1660272, 'Philadelphia': 1584138}\n"
   ]
  },
  {
   "cell_type": "code",
   "execution_count": null,
   "metadata": {},
   "outputs": [],
   "source": [
    "popCopy = {key:val for key,val in populations.items() if val >  2000000}\n",
    "popCopy"
   ]
  },
  {
   "cell_type": "markdown",
   "metadata": {},
   "source": [
    "<b>Example:</b>"
   ]
  },
  {
   "cell_type": "markdown",
   "metadata": {},
   "source": [
    "Assume the following list,names = ['Chris','Katie','Joanne','Kurt'] write a statement that uses a dictionary comprehension to create a dictionary in which each element contains a name from the names list as its key, and the length of that name as its value."
   ]
  },
  {
   "cell_type": "code",
   "execution_count": null,
   "metadata": {},
   "outputs": [],
   "source": [
    "names = ['Chris','Katie','Joanne','Kurt'] \n",
    "dictName = {item: len(item) for item in names}\n",
    "dictName"
   ]
  },
  {
   "cell_type": "markdown",
   "metadata": {},
   "source": [
    "<b>Example:</b>"
   ]
  },
  {
   "cell_type": "markdown",
   "metadata": {},
   "source": [
    "Assume the following dictionary exists: \n",
    "phonebook = {'Chris':'919-555-1111', 'Katie':'828-555-2222', 'Joanne':'704-555-3333', 'Kurt':'919-555-3333'}\n",
    "Write a staement that uses a dictionary comprehension to create a second dictionary continuing the elements of phonebook that have a value starting with '919' "
   ]
  },
  {
   "cell_type": "code",
   "execution_count": null,
   "metadata": {},
   "outputs": [],
   "source": [
    "phonebook = {'Chris':'919-555-1111','Yogesh':'Harish' ,'Katie':'828-555-2222', 'Joanne':'704-555-3333', 'Kurt':'919-555-3333'}\n",
    "# phonebook\n",
    "sorted(phonebook)\n",
    "phonebook"
   ]
  },
  {
   "cell_type": "code",
   "execution_count": null,
   "metadata": {},
   "outputs": [],
   "source": [
    "dictPhone = { key:value for key,val in phonebook.items() if val.startswith('919') }\n",
    "dictPhone"
   ]
  },
  {
   "cell_type": "markdown",
   "metadata": {},
   "source": [
    "## 2.Sets"
   ]
  },
  {
   "cell_type": "markdown",
   "metadata": {},
   "source": [
    "Set accepts one argument in set() function as either:\n",
    "1. list = set([1,3,'hello'])\n",
    "2. tuple = set((1,2))\n",
    "3. string = set('hello')"
   ]
  },
  {
   "cell_type": "markdown",
   "metadata": {},
   "source": [
    "Set: object that stores a collection of data in same way as mathematical set.\n",
    "<ul>\n",
    "    <li>All items must be unique</li>\n",
    "    <li>Set is unordered</li>\n",
    "    <li>Elements can be of different data types</li>\n",
    "</ul>"
   ]
  },
  {
   "cell_type": "markdown",
   "metadata": {},
   "source": [
    "A set is a collection which is unordered and unindexed. In Python sets are written with curly brackets. Sets are similar to lists with the distinction that they cannot contain duplicate values"
   ]
  },
  {
   "cell_type": "markdown",
   "metadata": {},
   "source": [
    "### 2.1. Creating a Set"
   ]
  },
  {
   "cell_type": "markdown",
   "metadata": {},
   "source": [
    "set function: used to create a set\n",
    "<ul>\n",
    "    <li>For empty set, call <i>set()</i></li>\n",
    "    <li>For non-empty set, call <i>set(argument)</i> where <i>argument</i> is an object that contains iterable elements</li>\n",
    "    <ul><li>e.g., <i>argument</i> can be a list, string, or tuple</li>\n",
    "    <li>If <i>argument</i> is a string, each character becomes a set element</li>\n",
    "        <ul><li>For set of strings, pass them to the function as a list</li></ul>\n",
    "        <li>Sets cannot contain duplicate elements.</li>\n",
    "           <ul><li>If <i>argument</i> contains duplicates, only one of the duplicates will appear in the set</li>\n",
    "    </ul></ul></ul>"
   ]
  },
  {
   "cell_type": "code",
   "execution_count": null,
   "metadata": {},
   "outputs": [],
   "source": [
    "myset = set()"
   ]
  },
  {
   "cell_type": "code",
   "execution_count": null,
   "metadata": {},
   "outputs": [],
   "source": [
    "myset = set(['a', 'b', 'c'])\n",
    "myset\n"
   ]
  },
  {
   "cell_type": "code",
   "execution_count": null,
   "metadata": {},
   "outputs": [],
   "source": [
    "myset = set('abc')\n",
    "myset"
   ]
  },
  {
   "cell_type": "code",
   "execution_count": null,
   "metadata": {},
   "outputs": [],
   "source": [
    "myset = set(('a', 'b', 'c'))\n",
    "myset"
   ]
  },
  {
   "cell_type": "code",
   "execution_count": null,
   "metadata": {},
   "outputs": [],
   "source": [
    "myset = set('aaabc')\n",
    "myset"
   ]
  },
  {
   "cell_type": "code",
   "execution_count": null,
   "metadata": {},
   "outputs": [],
   "source": [
    "myset = set([1,2],[2,3])"
   ]
  },
  {
   "cell_type": "markdown",
   "metadata": {},
   "source": [
    "<b>Example:</b> "
   ]
  },
  {
   "cell_type": "code",
   "execution_count": null,
   "metadata": {},
   "outputs": [],
   "source": [
    "fruit_set = {\"apple\", \"orange\", \"banana\", \"kiwi\"}  #different from dict as dict is {key:value}\n",
    "print(fruit_set)"
   ]
  },
  {
   "cell_type": "code",
   "execution_count": null,
   "metadata": {},
   "outputs": [],
   "source": [
    "# Let's add another apple to the set and see the result\n",
    "fruit_set2 = {\"apple\", \"orange\", \"banana\", \"kiwi\", \"apple\"} \n",
    "print(fruit_set2)"
   ]
  },
  {
   "cell_type": "code",
   "execution_count": null,
   "metadata": {},
   "outputs": [],
   "source": [
    "# Here is another way to creat sets\n",
    "fruit_set = set([\"apple\", \"orange\", \"banana\", \"kiwi\"])  # 1 arg as list\n",
    "print(fruit_set)"
   ]
  },
  {
   "cell_type": "markdown",
   "metadata": {},
   "source": [
    "<b>Example:</b> how would you create a set containing the elements 'one', 'two', and 'three'?"
   ]
  },
  {
   "cell_type": "code",
   "execution_count": null,
   "metadata": {},
   "outputs": [],
   "source": [
    "myset = set('one', 'two', 'three')  # 3 arg as strings and set accepts one argument.\n",
    "myset"
   ]
  },
  {
   "cell_type": "code",
   "execution_count": null,
   "metadata": {},
   "outputs": [],
   "source": [
    "myset = set('one two three') # 1 arg as string so all char are considered as different elements\n",
    "myset"
   ]
  },
  {
   "cell_type": "code",
   "execution_count": null,
   "metadata": {},
   "outputs": [],
   "source": [
    "myset = set(('one', 'two', 'three')) #1 arg as tuple with length - 3\n",
    "myset"
   ]
  },
  {
   "cell_type": "markdown",
   "metadata": {},
   "source": [
    "### 2.2. Getting the Number of Elements in a Set"
   ]
  },
  {
   "cell_type": "markdown",
   "metadata": {},
   "source": [
    "len function: returns the number of elements in the set"
   ]
  },
  {
   "cell_type": "code",
   "execution_count": null,
   "metadata": {},
   "outputs": [],
   "source": [
    "myset = set([1, 2, 3, 4, 5,1,2])\n",
    "len(myset)"
   ]
  },
  {
   "cell_type": "code",
   "execution_count": 5,
   "metadata": {},
   "outputs": [
    {
     "name": "stdout",
     "output_type": "stream",
     "text": [
      "{1, 2}\n"
     ]
    },
    {
     "data": {
      "text/plain": [
       "set"
      ]
     },
     "execution_count": 5,
     "metadata": {},
     "output_type": "execute_result"
    }
   ],
   "source": [
    "setw = set([1,2])\n",
    "print(setw)\n",
    "\n",
    "type(setw)"
   ]
  },
  {
   "cell_type": "markdown",
   "metadata": {},
   "source": [
    "### 2.3. Adding and Removing Elements"
   ]
  },
  {
   "cell_type": "markdown",
   "metadata": {},
   "source": [
    "<li>Sets are mutable objects</li>\n",
    "<li><b>add method:</b> adds an element to a set</li>\n",
    "<li><b>update method:</b> adds a group of elements to a set</li>\n",
    "<ul><li>Argument must be a sequence containing  iterable elements, and each of the elements is added to the set</li></ul>"
   ]
  },
  {
   "cell_type": "markdown",
   "metadata": {},
   "source": [
    "<b>Example:</b>"
   ]
  },
  {
   "cell_type": "code",
   "execution_count": 6,
   "metadata": {},
   "outputs": [
    {
     "data": {
      "text/plain": [
       "{1, 2, 3}"
      ]
     },
     "execution_count": 6,
     "metadata": {},
     "output_type": "execute_result"
    }
   ],
   "source": [
    "myset = set()\n",
    "myset.add(1)\n",
    "myset.add(2)\n",
    "myset.add(3)\n",
    "myset\n"
   ]
  },
  {
   "cell_type": "code",
   "execution_count": 9,
   "metadata": {},
   "outputs": [
    {
     "data": {
      "text/plain": [
       "{1, 2, 3, 4}"
      ]
     },
     "execution_count": 9,
     "metadata": {},
     "output_type": "execute_result"
    }
   ],
   "source": [
    "myset.add(2)\n",
    "myset"
   ]
  },
  {
   "cell_type": "code",
   "execution_count": 18,
   "metadata": {},
   "outputs": [
    {
     "name": "stdout",
     "output_type": "stream",
     "text": [
      "{'apple', 'cherry', 'banana', 'orange', 'kiwi'}\n"
     ]
    }
   ],
   "source": [
    "fruit_set = {\"apple\", \"orange\", \"banana\", \"kiwi\"} #why does order change?\n",
    "fruit_set.add(\"cherry\")\n",
    "print(fruit_set)"
   ]
  },
  {
   "cell_type": "markdown",
   "metadata": {},
   "source": [
    "<b>Example:</b>"
   ]
  },
  {
   "cell_type": "code",
   "execution_count": 19,
   "metadata": {},
   "outputs": [
    {
     "data": {
      "text/plain": [
       "{1, 2, 3, 4, 5, 6}"
      ]
     },
     "execution_count": 19,
     "metadata": {},
     "output_type": "execute_result"
    }
   ],
   "source": [
    "myset = set([1, 2, 3]) \n",
    "myset.update([4, 5, 6])\n",
    "myset"
   ]
  },
  {
   "cell_type": "code",
   "execution_count": 21,
   "metadata": {},
   "outputs": [
    {
     "data": {
      "text/plain": [
       "{1, 2, 3, 4, 8, 10}"
      ]
     },
     "execution_count": 21,
     "metadata": {},
     "output_type": "execute_result"
    }
   ],
   "source": [
    "set1 = set([1, 2, 3])\n",
    "set2 = set([8, 9, 10])\n",
    "set1.update(set2)\n",
    "set1"
   ]
  },
  {
   "cell_type": "code",
   "execution_count": null,
   "metadata": {},
   "outputs": [],
   "source": [
    "set2"
   ]
  },
  {
   "cell_type": "code",
   "execution_count": 24,
   "metadata": {},
   "outputs": [
    {
     "data": {
      "text/plain": [
       "{1, 2, 3, 'a', 'b', 'c'}"
      ]
     },
     "execution_count": 24,
     "metadata": {},
     "output_type": "execute_result"
    }
   ],
   "source": [
    "myset = set([1, 2, 3])\n",
    "myset.update('abc')\n",
    "myset"
   ]
  },
  {
   "cell_type": "markdown",
   "metadata": {},
   "source": [
    "<b>remove and discard methods:</b> remove the specified item from the set\n",
    "<ul>\n",
    "    <li>The item that should be removed is passed to both methods as an argument</li>\n",
    "    <li>Behave differently when the specified item is not found in the set</li>\n",
    "    <li><i>remove</i> method raises a <i>KeyError</i> exception</li>\n",
    "    <li><i>discard</i> method does not raise an exception</li></ul>\n",
    "<b>clear method:</b> clears all the elements of the set"
   ]
  },
  {
   "cell_type": "markdown",
   "metadata": {},
   "source": [
    "<b>Example:</b>"
   ]
  },
  {
   "cell_type": "code",
   "execution_count": null,
   "metadata": {},
   "outputs": [],
   "source": [
    "myset = set([1, 2, 3, 4, 5])\n",
    "myset"
   ]
  },
  {
   "cell_type": "code",
   "execution_count": 25,
   "metadata": {},
   "outputs": [
    {
     "data": {
      "text/plain": [
       "{2, 3, 'a', 'b', 'c'}"
      ]
     },
     "execution_count": 25,
     "metadata": {},
     "output_type": "execute_result"
    }
   ],
   "source": [
    "myset.remove(1)\n",
    "myset"
   ]
  },
  {
   "cell_type": "code",
   "execution_count": 26,
   "metadata": {},
   "outputs": [
    {
     "data": {
      "text/plain": [
       "{2, 3, 'a', 'b', 'c'}"
      ]
     },
     "execution_count": 26,
     "metadata": {},
     "output_type": "execute_result"
    }
   ],
   "source": [
    "myset.discard(5) \n",
    "myset"
   ]
  },
  {
   "cell_type": "code",
   "execution_count": 27,
   "metadata": {},
   "outputs": [],
   "source": [
    "myset.discard(99)\n",
    " "
   ]
  },
  {
   "cell_type": "code",
   "execution_count": 28,
   "metadata": {},
   "outputs": [
    {
     "ename": "KeyError",
     "evalue": "99",
     "output_type": "error",
     "traceback": [
      "\u001b[0;31m---------------------------------------------------------------------------\u001b[0m",
      "\u001b[0;31mKeyError\u001b[0m                                  Traceback (most recent call last)",
      "Cell \u001b[0;32mIn[28], line 1\u001b[0m\n\u001b[0;32m----> 1\u001b[0m myset\u001b[39m.\u001b[39;49mremove(\u001b[39m99\u001b[39;49m)\n",
      "\u001b[0;31mKeyError\u001b[0m: 99"
     ]
    }
   ],
   "source": [
    "myset.remove(99)\n"
   ]
  },
  {
   "cell_type": "code",
   "execution_count": null,
   "metadata": {},
   "outputs": [],
   "source": [
    "fruit_set = {\"apple\", \"orange\", \"banana\", \"kiwi\"}\n",
    "fruit_set.discard(\"banana\")\n",
    "print(fruit_set)"
   ]
  },
  {
   "cell_type": "markdown",
   "metadata": {},
   "source": [
    "<b>Example:</b>"
   ]
  },
  {
   "cell_type": "code",
   "execution_count": 29,
   "metadata": {},
   "outputs": [
    {
     "data": {
      "text/plain": [
       "{1, 2, 3, 4, 5}"
      ]
     },
     "execution_count": 29,
     "metadata": {},
     "output_type": "execute_result"
    }
   ],
   "source": [
    "myset = set([1, 2, 3, 4, 5])\n",
    "myset"
   ]
  },
  {
   "cell_type": "code",
   "execution_count": 30,
   "metadata": {},
   "outputs": [
    {
     "data": {
      "text/plain": [
       "set()"
      ]
     },
     "execution_count": 30,
     "metadata": {},
     "output_type": "execute_result"
    }
   ],
   "source": [
    "myset.clear()\n",
    "myset"
   ]
  },
  {
   "cell_type": "markdown",
   "metadata": {},
   "source": [
    "### 2.4.Using the for Loop, in and not in Operators with a Set"
   ]
  },
  {
   "cell_type": "markdown",
   "metadata": {},
   "source": [
    "A for loop can be used to iterate over elements in a set\n",
    "<ul><li>General format: <i>for item in set:</i></li>\n",
    "<li>The loop iterates once for each element in the set</li></ul>\n",
    "The in operator can be used to test whether a value exists in a set\n",
    "<ul>\n",
    "    <li>Similarly, the not in operator can be used to test whether a value does not exist in a set</li></ul>"
   ]
  },
  {
   "cell_type": "markdown",
   "metadata": {},
   "source": [
    "<b>Example:</b>"
   ]
  },
  {
   "cell_type": "code",
   "execution_count": 32,
   "metadata": {},
   "outputs": [
    {
     "name": "stdout",
     "output_type": "stream",
     "text": [
      "{'c', 'b', 'a'}\n",
      "c\n",
      "b\n",
      "a\n"
     ]
    }
   ],
   "source": [
    "myset = set(['a', 'b', 'c'])\n",
    "print(myset)\n",
    "for val in myset:\n",
    "    print(val)"
   ]
  },
  {
   "cell_type": "code",
   "execution_count": 33,
   "metadata": {},
   "outputs": [
    {
     "name": "stdout",
     "output_type": "stream",
     "text": [
      "The value 1 is in the set.\n"
     ]
    }
   ],
   "source": [
    "myset = set([1, 2, 3])\n",
    "if 1 in myset:\n",
    "    print('The value 1 is in the set.')"
   ]
  },
  {
   "cell_type": "code",
   "execution_count": 34,
   "metadata": {},
   "outputs": [
    {
     "name": "stdout",
     "output_type": "stream",
     "text": [
      "The value 99 is not in the set.\n"
     ]
    }
   ],
   "source": [
    "myset = set([1, 2, 3])\n",
    "if 99 not in myset:\n",
    "    print('The value 99 is not in the set.')"
   ]
  },
  {
   "cell_type": "markdown",
   "metadata": {},
   "source": [
    "### 2.5.Finding the Union of Sets"
   ]
  },
  {
   "cell_type": "markdown",
   "metadata": {},
   "source": [
    "<b>Union of two sets:</b> a set that contains all the elements of both sets\n",
    "<li>To find the union of two sets:</li>\n",
    "<ul><li>Use the union method</li>\n",
    "    <ul><li>Format: set1.union(set2)</li></ul>\n",
    "    <li>Use the | operator </li>\n",
    "<ul><li>Format: set1 | set2</li></ul></ul>\n",
    "<li>Both techniques return a new set which contains the union of both sets</li>"
   ]
  },
  {
   "cell_type": "markdown",
   "metadata": {},
   "source": [
    "<b>Example:</b>"
   ]
  },
  {
   "cell_type": "code",
   "execution_count": 35,
   "metadata": {},
   "outputs": [
    {
     "data": {
      "text/plain": [
       "{1, 2, 3, 4, 5, 6}"
      ]
     },
     "execution_count": 35,
     "metadata": {},
     "output_type": "execute_result"
    }
   ],
   "source": [
    "set1 = set([1, 2, 3, 4])\n",
    "set2 = set([3, 4, 5, 6])\n",
    "set3 = set1.union(set2)\n",
    "set3"
   ]
  },
  {
   "cell_type": "code",
   "execution_count": 36,
   "metadata": {},
   "outputs": [
    {
     "data": {
      "text/plain": [
       "{1, 2, 3, 4, 5, 6}"
      ]
     },
     "execution_count": 36,
     "metadata": {},
     "output_type": "execute_result"
    }
   ],
   "source": [
    "set1 = set([1, 2, 3, 4])\n",
    "set2 = set([3, 4, 5, 6])\n",
    "set3 = set3|set2\n",
    "set3"
   ]
  },
  {
   "cell_type": "code",
   "execution_count": 40,
   "metadata": {},
   "outputs": [
    {
     "name": "stdout",
     "output_type": "stream",
     "text": [
      "{'apple', 'strawberry', 'pomegranate', 'cherry', 'banana', 'orange', 'kiwi'}\n"
     ]
    }
   ],
   "source": [
    "fruit_set1 = {\"apple\", \"orange\", \"banana\", \"kiwi\"}\n",
    "\n",
    "fruit_set2 = {\"apple\", \"cherry\", \"pomegranate\", \"strawberry\"}\n",
    "\n",
    "fruit_set3=fruit_set2.union(fruit_set1)\n",
    "\n",
    "# Keep in mind that the union function does not apply the operation to the set but it returns a new set\n",
    "\n",
    "print(fruit_set3)\n"
   ]
  },
  {
   "cell_type": "markdown",
   "metadata": {},
   "source": [
    "### 2.6. Finding the Intersection of Sets"
   ]
  },
  {
   "cell_type": "markdown",
   "metadata": {},
   "source": [
    "<b>Intersection of two sets:</b> a set that contains only the elements found in both sets\n",
    "<li>To find the intersection of two sets:</li>\n",
    "<ul><li>Use the intersection method</li>\n",
    "    <ul><li>Format: set1.intersection(set2)</li></ul>\n",
    "    <li>Use the & operator</li>\n",
    "    <ul><li>Format: set1 & set2</li></ul>\n",
    "    <li>Both techniques return a new set which contains the intersection of both sets</li>"
   ]
  },
  {
   "cell_type": "markdown",
   "metadata": {},
   "source": [
    "<b>Example:</b>"
   ]
  },
  {
   "cell_type": "code",
   "execution_count": 41,
   "metadata": {},
   "outputs": [
    {
     "data": {
      "text/plain": [
       "{3, 4}"
      ]
     },
     "execution_count": 41,
     "metadata": {},
     "output_type": "execute_result"
    }
   ],
   "source": [
    "set1 = set([1, 2, 3, 4])\n",
    "set2 = set([3, 4, 5, 6])\n",
    "set3 = set1.intersection(set2)\n",
    "set3"
   ]
  },
  {
   "cell_type": "code",
   "execution_count": 42,
   "metadata": {},
   "outputs": [
    {
     "data": {
      "text/plain": [
       "{3, 4}"
      ]
     },
     "execution_count": 42,
     "metadata": {},
     "output_type": "execute_result"
    }
   ],
   "source": [
    "set1 = set([1, 2, 3, 4])\n",
    "set2 = set([3, 4, 5, 6])\n",
    "set3 = set1 & set2\n",
    "set3"
   ]
  },
  {
   "cell_type": "code",
   "execution_count": 43,
   "metadata": {},
   "outputs": [
    {
     "name": "stdout",
     "output_type": "stream",
     "text": [
      "{'apple'}\n"
     ]
    }
   ],
   "source": [
    "fruit_set1 = {\"apple\", \"orange\", \"banana\", \"kiwi\"}\n",
    "fruit_set2 = {\"apple\", \"cherry\", \"pomegranate\", \"strawberry\"}\n",
    "fruit_intersection_set = fruit_set2.intersection(fruit_set1) \n",
    "print(fruit_intersection_set)"
   ]
  },
  {
   "cell_type": "markdown",
   "metadata": {},
   "source": [
    "### 2.7.Finding the Difference of Sets"
   ]
  },
  {
   "cell_type": "markdown",
   "metadata": {},
   "source": [
    "<b>Difference of two sets:</b> a set that contains the elements that appear in the first set but do not appear in the second set\n",
    "<li>To find the difference of two sets:</li>\n",
    "<ul><li>Use the <i>difference</i> method</li>\n",
    "    <ul><li>Format: <i>set1.difference(set2)</i></li></ul>\n",
    "    <li>Use the - operator</li>\n",
    "    <ul><li>Format: <i>set1 - set2</i></li></ul>"
   ]
  },
  {
   "cell_type": "markdown",
   "metadata": {},
   "source": [
    "<b>Example:</b>"
   ]
  },
  {
   "cell_type": "code",
   "execution_count": 44,
   "metadata": {},
   "outputs": [
    {
     "data": {
      "text/plain": [
       "{5, 6}"
      ]
     },
     "execution_count": 44,
     "metadata": {},
     "output_type": "execute_result"
    }
   ],
   "source": [
    "set1 = set([1, 2, 3, 4])\n",
    "set2 = set([3, 4, 5, 6])\n",
    "set3 = set2.difference(set1)\n",
    "set3"
   ]
  },
  {
   "cell_type": "code",
   "execution_count": 45,
   "metadata": {},
   "outputs": [
    {
     "data": {
      "text/plain": [
       "{1, 2}"
      ]
     },
     "execution_count": 45,
     "metadata": {},
     "output_type": "execute_result"
    }
   ],
   "source": [
    "set1 = set([1, 2, 3, 4])\n",
    "set2 = set([3, 4, 5, 6])\n",
    "set3 = set1 - set2\n",
    "set3"
   ]
  },
  {
   "cell_type": "markdown",
   "metadata": {},
   "source": [
    "### 2.8.Finding the Symmetric Difference of Sets"
   ]
  },
  {
   "cell_type": "markdown",
   "metadata": {},
   "source": [
    "<b>Symmetric difference of two sets:</b> a set that contains the elements that are not shared by the two sets\n",
    "<li>To find the symmetric difference of two sets:</li>\n",
    "<ul><li>Use the <i>symmetric_difference</i> method</li>\n",
    "    <ul><li>Format: <i>set1.symmetric_difference(set2)</i></li></ul>\n",
    "    <li>Use the ^ operator</li>\n",
    "    <ul><li>Format: <i>set1 ^ set2</i></li></ul>"
   ]
  },
  {
   "cell_type": "markdown",
   "metadata": {},
   "source": [
    "<b>Example:</b>"
   ]
  },
  {
   "cell_type": "code",
   "execution_count": 46,
   "metadata": {},
   "outputs": [
    {
     "data": {
      "text/plain": [
       "{1, 2, 5, 6}"
      ]
     },
     "execution_count": 46,
     "metadata": {},
     "output_type": "execute_result"
    }
   ],
   "source": [
    "set1 = set([1, 2, 3, 4])\n",
    "set2 = set([3, 4, 5, 6])\n",
    "set3 = set2.symmetric_difference(set1)\n",
    "set3"
   ]
  },
  {
   "cell_type": "code",
   "execution_count": 47,
   "metadata": {},
   "outputs": [
    {
     "data": {
      "text/plain": [
       "{1, 2, 5, 6}"
      ]
     },
     "execution_count": 47,
     "metadata": {},
     "output_type": "execute_result"
    }
   ],
   "source": [
    "set1 = set([1, 2, 3, 4])\n",
    "set2 = set([3, 4, 5, 6])\n",
    "set3 = set1 ^ set2\n",
    "set3"
   ]
  },
  {
   "cell_type": "code",
   "execution_count": 48,
   "metadata": {},
   "outputs": [
    {
     "name": "stdout",
     "output_type": "stream",
     "text": [
      "{'strawberry', 'pomegranate', 'cherry', 'banana', 'orange', 'kiwi'}\n"
     ]
    }
   ],
   "source": [
    "fruit_set1 = {\"apple\", \"orange\", \"banana\", \"kiwi\"}\n",
    "fruit_set2 = {\"apple\", \"cherry\", \"pomegranate\", \"strawberry\"}\n",
    "fruit_difference = fruit_set2.symmetric_difference(fruit_set1) \n",
    "print(fruit_difference)"
   ]
  },
  {
   "cell_type": "markdown",
   "metadata": {},
   "source": [
    "### 2.9. Finding Subsets and Supersets"
   ]
  },
  {
   "cell_type": "markdown",
   "metadata": {},
   "source": [
    "<li>Set A is subset of set B if all the elements in set A are included in set B</li>\n",
    "<li>To determine whether set A is subset of set B</li>\n",
    "<ul><li>Use the <i>issubset</i> method</li> \n",
    "    <ul><li>Format: <i>setA.issubset(setB)</i></li></ul>\n",
    "    <li>Use the <= operator </li>\n",
    "        <ul><li>Format: <i>setA <= setB</i></li></ul>\n",
    "        </ul>"
   ]
  },
  {
   "cell_type": "markdown",
   "metadata": {},
   "source": [
    "<b>Example:</b>"
   ]
  },
  {
   "cell_type": "code",
   "execution_count": 49,
   "metadata": {},
   "outputs": [
    {
     "data": {
      "text/plain": [
       "True"
      ]
     },
     "execution_count": 49,
     "metadata": {},
     "output_type": "execute_result"
    }
   ],
   "source": [
    "set1 = set([1, 2, 3, 4])\n",
    "set2 = set([2, 3])\n",
    "set2.issubset(set1)"
   ]
  },
  {
   "cell_type": "code",
   "execution_count": 50,
   "metadata": {},
   "outputs": [
    {
     "data": {
      "text/plain": [
       "True"
      ]
     },
     "execution_count": 50,
     "metadata": {},
     "output_type": "execute_result"
    }
   ],
   "source": [
    "set1.issuperset(set2)"
   ]
  },
  {
   "cell_type": "code",
   "execution_count": 51,
   "metadata": {},
   "outputs": [
    {
     "data": {
      "text/plain": [
       "True"
      ]
     },
     "execution_count": 51,
     "metadata": {},
     "output_type": "execute_result"
    }
   ],
   "source": [
    "set1 = set([1, 2, 3, 4])\n",
    "set2 = set([2, 3])\n",
    "set2 <= set1"
   ]
  },
  {
   "cell_type": "code",
   "execution_count": 52,
   "metadata": {},
   "outputs": [
    {
     "data": {
      "text/plain": [
       "False"
      ]
     },
     "execution_count": 52,
     "metadata": {},
     "output_type": "execute_result"
    }
   ],
   "source": [
    "set1 <= set2"
   ]
  },
  {
   "cell_type": "code",
   "execution_count": 53,
   "metadata": {},
   "outputs": [
    {
     "data": {
      "text/plain": [
       "False"
      ]
     },
     "execution_count": 53,
     "metadata": {},
     "output_type": "execute_result"
    }
   ],
   "source": [
    "fruit_set1 = {\"apple\", \"orange\", \"banana\", \"kiwi\"}\n",
    "fruit_set2 = {\"apple\", \"cherry\", \"pomegranate\", \"strawberry\"}\n",
    "fruit_set2.issubset(fruit_set1) "
   ]
  },
  {
   "cell_type": "code",
   "execution_count": 54,
   "metadata": {
    "scrolled": true
   },
   "outputs": [
    {
     "data": {
      "text/plain": [
       "False"
      ]
     },
     "execution_count": 54,
     "metadata": {},
     "output_type": "execute_result"
    }
   ],
   "source": [
    "fruit_set1.issubset(fruit_set2)"
   ]
  },
  {
   "cell_type": "code",
   "execution_count": 55,
   "metadata": {},
   "outputs": [
    {
     "data": {
      "text/plain": [
       "True"
      ]
     },
     "execution_count": 55,
     "metadata": {},
     "output_type": "execute_result"
    }
   ],
   "source": [
    "fruit_set1 = {\"apple\",\"strawberry\"}\n",
    "fruit_set2 = {\"apple\", \"cherry\", \"pomegranate\", \"strawberry\"}\n",
    "fruit_set1.issubset(fruit_set2) "
   ]
  },
  {
   "cell_type": "markdown",
   "metadata": {},
   "source": [
    "<li>Set A is superset of set B if it contains all the elements of set B</li>\n",
    "<li>To determine whether set A is superset of set B</li>\n",
    "<ul><li>Use the <i>issuperset</i> method</li>\n",
    "<ul><li>Format: setA.issuperset(setB)</i></li></ul>\n",
    "<li>Use the >= operator</li>\n",
    "<ul><li>Format: <i>setA >= setB</i></li></ul>\n",
    "</ul>"
   ]
  },
  {
   "cell_type": "markdown",
   "metadata": {},
   "source": [
    "<b>Example:</b>"
   ]
  },
  {
   "cell_type": "code",
   "execution_count": 56,
   "metadata": {},
   "outputs": [
    {
     "data": {
      "text/plain": [
       "True"
      ]
     },
     "execution_count": 56,
     "metadata": {},
     "output_type": "execute_result"
    }
   ],
   "source": [
    "set1 = set([1, 2, 3, 4])\n",
    "set2 = set([2, 3])\n",
    "set1.issuperset(set2)"
   ]
  },
  {
   "cell_type": "code",
   "execution_count": 57,
   "metadata": {
    "scrolled": true
   },
   "outputs": [
    {
     "data": {
      "text/plain": [
       "True"
      ]
     },
     "execution_count": 57,
     "metadata": {},
     "output_type": "execute_result"
    }
   ],
   "source": [
    "set1 >= set2"
   ]
  },
  {
   "cell_type": "code",
   "execution_count": 58,
   "metadata": {},
   "outputs": [
    {
     "data": {
      "text/plain": [
       "True"
      ]
     },
     "execution_count": 58,
     "metadata": {},
     "output_type": "execute_result"
    }
   ],
   "source": [
    "fruit_set1 = {\"apple\", \"orange\"}\n",
    "fruit_set2 = {\"apple\", \"cherry\", \"pomegranate\", \"strawberry\",\"orange\"}\n",
    "fruit_set2.issuperset(fruit_set1) "
   ]
  },
  {
   "cell_type": "markdown",
   "metadata": {},
   "source": [
    "### 2.10. Set Comprehensions"
   ]
  },
  {
   "cell_type": "markdown",
   "metadata": {},
   "source": [
    "An expression that reads a sequence of input elements and uses those input elements to produce a set."
   ]
  },
  {
   "cell_type": "markdown",
   "metadata": {},
   "source": [
    "set comprehensions are written like list comprehensions, except that a set comprehension is enclosed in curly braces ({}), and list comprehensions are enclosed in suare brackets ([])"
   ]
  },
  {
   "cell_type": "code",
   "execution_count": null,
   "metadata": {},
   "outputs": [],
   "source": [
    "set1 = set([1,2,3,4,5])\n",
    "set2 = {item for item in set1}\n",
    "print(set2)"
   ]
  },
  {
   "cell_type": "code",
   "execution_count": null,
   "metadata": {},
   "outputs": [],
   "source": [
    "set2={item**2 for item in set1}\n",
    "print(set2)"
   ]
  },
  {
   "cell_type": "code",
   "execution_count": null,
   "metadata": {},
   "outputs": [],
   "source": [
    "set1 = set([1,20,2,40,3,50])\n",
    "set2={item for item in set1 if item<10}\n",
    "print(set2)"
   ]
  },
  {
   "cell_type": "markdown",
   "metadata": {},
   "source": [
    "## 3. Serializing Objects"
   ]
  },
  {
   "cell_type": "markdown",
   "metadata": {},
   "source": [
    "<li>Serialize an object: convert the object to a stream of bytes that can easily be stored in a file</li> "
   ]
  },
  {
   "cell_type": "markdown",
   "metadata": {},
   "source": [
    "Pickling: serializing an object\n",
    "<li>To pickle an object:</li>\n",
    "<ul><li>Import the pickle module</li>\n",
    "    <li>Open a file for binary writing. To open a file for binary writing, you use 'wb' as the mode when you call the open function.</li>\n",
    "    <li>Call the pickle.dump function</li>\n",
    "    <ul><li>Format: pickle.dump(object, file)</li></ul>\n",
    "    <li>Close the file</li></ul>\n",
    "<li>You can pickle multiple objects to one file prior to closing the file</li>\n"
   ]
  },
  {
   "cell_type": "code",
   "execution_count": 60,
   "metadata": {},
   "outputs": [],
   "source": [
    "import pickle\n",
    "phonebook = {'Chris' : '555−1111', 'Katie' : '555−2222','Joanne' : '555−3333'}\n",
    "output_file = open('phonebook.dat', 'wb')\n",
    "pickle.dump(phonebook, output_file)\n",
    "output_file.close()"
   ]
  },
  {
   "cell_type": "markdown",
   "metadata": {},
   "source": [
    "Unpickling: retrieving pickled object\n",
    "<li>To unpickle an object:</li>\n",
    "<ul><li>Import the pickle module</li>\n",
    "    <li>Open a file for binary reading. To open a file for binary reading, you use 'rb' as the mode when you call the open function.</li>\n",
    "<li>Call the pickle.load function</li>\n",
    "    <ul><li>Format: pickle.load(file)</li></ul>\n",
    "    <li>Close the file</li></ul>\n",
    "    <li>You can unpickle multiple objects from the file</li>"
   ]
  },
  {
   "cell_type": "code",
   "execution_count": 61,
   "metadata": {},
   "outputs": [
    {
     "name": "stdout",
     "output_type": "stream",
     "text": [
      "{'Chris': '555−1111', 'Katie': '555−2222', 'Joanne': '555−3333'}\n"
     ]
    }
   ],
   "source": [
    "import pickle\n",
    "input_file = open('phonebook.dat', 'rb') \n",
    "pb = pickle.load(input_file) \n",
    "pb \n",
    "\n",
    "input_file.close()\n",
    "print(pb)"
   ]
  },
  {
   "cell_type": "markdown",
   "metadata": {},
   "source": [
    "<b>Example:</b>"
   ]
  },
  {
   "cell_type": "code",
   "execution_count": null,
   "metadata": {},
   "outputs": [],
   "source": [
    "import pickle\n",
    "\n",
    "def main():\n",
    "    again = 'y' # To control loop repetition\n",
    "    \n",
    "    #Open a file for binary writing.\n",
    "    output_file = open('info.dat', 'wb')\n",
    "    \n",
    "    # Get data until the user wants to stop.\n",
    "    while again.lower() == 'y':\n",
    "    \n",
    "        #Get data about a person and save it.\n",
    "        save_data(output_file)\n",
    "\n",
    "        #Does the user want to enter more data?\n",
    "        again = input('Enter more data? (y/n): ')\n",
    "\n",
    "    # Close the file.\n",
    "    output_file.close()\n",
    "\n",
    "# The save_data function gets data about a person, stores it in a dictionary, and then pickles the\n",
    "# dictionary to the specified file.\n",
    "\n",
    "def save_data(file):\n",
    "    # Create an empty dictionary.\n",
    "    person = {}\n",
    "\n",
    "    # Get data for a person and store it in the dictionary.\n",
    "    person['name'] = input('Name: ')\n",
    "    person['age'] = int(input('Age: '))\n",
    "    person['weight'] = float(input('Weight: '))\n",
    "\n",
    "    # Pickle the dictionary.\n",
    "    pickle.dump(person, file)\n",
    "    \n",
    "main()"
   ]
  },
  {
   "cell_type": "code",
   "execution_count": null,
   "metadata": {},
   "outputs": [],
   "source": [
    "import pickle\n",
    "\n",
    "def main():\n",
    "    end_of_file = False  # To indicate end of file\n",
    "    \n",
    "    # Open a file for binary reading. \n",
    "    input_file = open('info.dat', 'rb')\n",
    "    \n",
    "    # Read to the end of the file. \n",
    "    while not end_of_file:\n",
    "        try:\n",
    "            # Unpickle the next object. \n",
    "            person = pickle.load(input_file)\n",
    "            # Display the object.\n",
    "            display_data(person) \n",
    "        \n",
    "        except EOFError:\n",
    "            # Set the flag to indicate the end of the file has been reached. \n",
    "            end_of_file = True\n",
    "    \n",
    "    input_file.close()\n",
    "\n",
    "    # The display_data function displays the person data in the dictionary that is passed as an argument. \n",
    "def display_data(person):\n",
    "    print('Name:', person['name']) \n",
    "    print('Age:', person['age']) \n",
    "    print('Weight:', person['weight']) \n",
    "    print()\n",
    "\n",
    "main()"
   ]
  },
  {
   "cell_type": "code",
   "execution_count": null,
   "metadata": {},
   "outputs": [],
   "source": []
  }
 ],
 "metadata": {
  "kernelspec": {
   "display_name": "Python 3 (ipykernel)",
   "language": "python",
   "name": "python3"
  },
  "language_info": {
   "codemirror_mode": {
    "name": "ipython",
    "version": 3
   },
   "file_extension": ".py",
   "mimetype": "text/x-python",
   "name": "python",
   "nbconvert_exporter": "python",
   "pygments_lexer": "ipython3",
   "version": "3.11.3"
  }
 },
 "nbformat": 4,
 "nbformat_minor": 2
}
