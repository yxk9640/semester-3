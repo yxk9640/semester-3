{
 "cells": [
  {
   "cell_type": "markdown",
   "metadata": {},
   "source": [
    "<h1 align='center' style=\"color: blue;\">List&Tuples and String - Examples\n",
    "</h1>"
   ]
  },
  {
   "cell_type": "markdown",
   "metadata": {},
   "source": [
    "Design a program that uses a loop to build a list named valid_numbers that contains only the numbers between 0 and 100 from the numbers list below. The program should then determine and display the total and average of the values in the valid_numbers list.\n",
    "numbers = [74, 19, 105, 20, −2, 67, 77, 124, −45, 38]"
   ]
  },
  {
   "cell_type": "code",
   "execution_count": 4,
   "metadata": {},
   "outputs": [
    {
     "name": "stdout",
     "output_type": "stream",
     "text": [
      "49.166666666666664\n",
      "Custom : 49.166666666666664\n"
     ]
    },
    {
     "data": {
      "text/plain": [
       "[74, 19, 20, 67, 77, 38]"
      ]
     },
     "execution_count": 4,
     "metadata": {},
     "output_type": "execute_result"
    }
   ],
   "source": [
    "numbers = [74, 19, 105, 20, -2, 67, 77, 124, -45, 38]\n",
    "valid = []\n",
    "# totalOpti = 0\n",
    "for i in numbers:\n",
    "    if i>0 and i <100:\n",
    "        valid.append(i)\n",
    "        # totalOpti+=i\n",
    "total = 0\n",
    "for item in valid:\n",
    "    total +=item\n",
    "average =total/len(valid)\n",
    "print(average)\n",
    "# print(f'Custom : {totalOpti/len(valid)}')\n",
    "valid"
   ]
  },
  {
   "cell_type": "markdown",
   "metadata": {},
   "source": [
    "Design a program that lets the user enter the total rainfall for each of 12 months into a list. The program should calculate and display the total rainfall for the year, the average monthly rainfall, the months with the highest and lowest amounts."
   ]
  },
  {
   "cell_type": "code",
   "execution_count": null,
   "metadata": {},
   "outputs": [],
   "source": [
    "rainfall = []\n",
    "total = 0\n",
    "for i in range(12):\n",
    "    rain = float(input(''))\n",
    "    rainfall.append(rain)\n",
    "    total +=rain\n",
    "average = total/12\n",
    "print(total)\n",
    "print(average)\n",
    "\n",
    "highest_rain= rainfall.index(max(rainfall))+1\n",
    "print(highest_rain)\n",
    "lowest_rain = rainfall.index(min(rainfall))+1\n",
    "print(lowest_rain)"
   ]
  },
  {
   "cell_type": "markdown",
   "metadata": {},
   "source": [
    "Write a program that reads the contents of the file charge_accounts.txt into a list. The program should then ask the user to enter a charge account number. The program should determine whether the number is valid by searching for it in the list. If the number is in the list, the program should display a message indicating the number is valid. If the number is not in the list, the program should display a message indicating the number is invalid."
   ]
  },
  {
   "cell_type": "code",
   "execution_count": null,
   "metadata": {},
   "outputs": [],
   "source": [
    "infile= open('charge_accounts.txt')\n",
    "acc_num = infile.readlines()\n",
    "infile.close()\n",
    "index = 0\n",
    "while index < len(acc_num):\n",
    "    acc_num[index] = acc_num[index].rstrip('\\n') \n",
    "    index += 1\n",
    "\n",
    "account = input('Enter: ')\n",
    "\n",
    "if account in acc_num:\n",
    "    print('the num is valid')\n",
    "else:\n",
    "    print('not valid')"
   ]
  },
  {
   "cell_type": "markdown",
   "metadata": {},
   "source": [
    "GirlNames.txt This file contains a list of the 200 most popular names given to girls born in the United States from the year 2000 through 2009.\n",
    "<br>BoyNames.txt This file contains a list of the 200 most popular names given to boys born in the United States from the year 2000 through 2009.\n",
    "Write a program that reads the contents of the two files into two separate lists. The user should be able to enter a boy’s name, a girl’s name, or both, and the application will display messages indicating whether the names were among the most popular."
   ]
  },
  {
   "cell_type": "code",
   "execution_count": null,
   "metadata": {},
   "outputs": [],
   "source": [
    "infile1= open('GirlNames.txt')\n",
    "infile2 = open('BoyNames.txt')\n",
    "\n",
    "GirlNames = infile1.readlines()\n",
    "BoyNames = infile2.readlines()\n",
    "infile1.close()\n",
    "infile2.close()\n",
    "\n",
    "index = 0\n",
    "while index < len(GirlNames):\n",
    "    GirlNames[index] = GirlNames[index].rstrip('\\n') \n",
    "    index += 1\n",
    "\n",
    "index = 0   \n",
    "while index < len(BoyNames):\n",
    "    BoyNames[index] = BoyNames[index].rstrip('\\n') \n",
    "    index += 1\n",
    "\n",
    "name = input('Enter: ')\n",
    "if (name in GirlNames) or (name in BoyNames):\n",
    "    print('the name is among the most popular.')\n",
    "else:\n",
    "    print('the name is not among the most popular.')\n"
   ]
  },
  {
   "cell_type": "markdown",
   "metadata": {},
   "source": [
    "Write a Python program to calculate number of times character 'm' appears in the sentence 'My name is Mona'."
   ]
  },
  {
   "cell_type": "code",
   "execution_count": null,
   "metadata": {},
   "outputs": [],
   "source": [
    "string = 'My name is Mona'\n",
    "\n",
    "count = 0\n",
    "for i in string:\n",
    "    if i == 'm': \n",
    "        count += 1\n",
    "\n",
    "print('The letter m appears', count, 'times.')"
   ]
  },
  {
   "cell_type": "markdown",
   "metadata": {},
   "source": [
    "Write a Python program to get the 3rd element and 3rd element from last of a tuple.<br>\n",
    "tuplex = (\"w\", \"a\", \"e\", \"s\", \"b\", \"u\", \"f\", \"t\", \"h\")"
   ]
  },
  {
   "cell_type": "code",
   "execution_count": null,
   "metadata": {},
   "outputs": [],
   "source": [
    "tuplex = (\"w\", \"a\", \"e\", \"s\", \"b\", \"u\", \"f\", \"t\", \"h\")\n",
    "tup1= tuplex[2]\n",
    "tup2=tuplex[-3]\n",
    "print(tup1,tup2)"
   ]
  },
  {
   "cell_type": "markdown",
   "metadata": {},
   "source": [
    "Write a Python program to check whether an element exists within a tuple.\n",
    "<br>\n",
    "tuplex = (\"w\", \"a\", \"e\", \"s\", \"b\", \"u\", \"f\", \"t\", \"h\")"
   ]
  },
  {
   "cell_type": "code",
   "execution_count": null,
   "metadata": {},
   "outputs": [],
   "source": [
    "tuplex = (\"w\", \"a\", \"e\", \"s\", \"b\", \"u\", \"f\", \"t\", \"h\")\n",
    "my_tup = input('Enter a character: ')\n",
    "\n",
    "if my_tup in tuplex:\n",
    "    print('found')\n",
    "else:\n",
    "    print('not found')"
   ]
  },
  {
   "cell_type": "markdown",
   "metadata": {},
   "source": [
    "Write a Python function that takes two lists and returns True if they have at least one common member."
   ]
  },
  {
   "cell_type": "code",
   "execution_count": null,
   "metadata": {},
   "outputs": [],
   "source": [
    "def common(list1,list2):\n",
    "    for item in list1:\n",
    "        if item in list2:\n",
    "            return True\n",
    "        \n",
    "list1 = [1,2,3,4]\n",
    "list2 =[5,6]\n",
    "\n",
    "common(list1,list2)"
   ]
  },
  {
   "cell_type": "code",
   "execution_count": null,
   "metadata": {},
   "outputs": [],
   "source": [
    "def common(list1,list2):\n",
    "    count = 0\n",
    "    for item in list1:\n",
    "        if item in list2:\n",
    "            count +=1\n",
    "            \n",
    "    if count>0:\n",
    "        return True\n",
    "    else:\n",
    "        return False\n",
    "    \n",
    "list1 = [1,2,3,4]\n",
    "list2 =[2,5,4]\n",
    "common(list1,list2)"
   ]
  },
  {
   "cell_type": "markdown",
   "metadata": {},
   "source": [
    "Write a Python program to remove item 'o' from a tuple.<br>\n",
    "tuplex = \"h\", 7, 5, \"e\", \"o\", \"q\", 9, \"l\", \"m\""
   ]
  },
  {
   "cell_type": "code",
   "execution_count": null,
   "metadata": {},
   "outputs": [],
   "source": [
    "tuplex = \"h\", 7, 5, \"e\", \"o\", \"q\", 9, \"l\", \"m\"\n",
    "my_list =list(tuplex)\n",
    "my_list.remove('o')\n",
    "tuplex = tuple(my_list)\n",
    "print(tuplex)"
   ]
  },
  {
   "cell_type": "markdown",
   "metadata": {},
   "source": [
    "Write a Python program to find whther the number 54 is in the list or not:<br>\n",
    "numbers = [32,54,76,98,21,90,43]"
   ]
  },
  {
   "cell_type": "code",
   "execution_count": null,
   "metadata": {},
   "outputs": [],
   "source": [
    "numbers = [32,54,76,98,21,90,43]\n",
    "if 54 in numbers:\n",
    "    print('the item was found')\n",
    "else:\n",
    "    print('the item was not found')"
   ]
  },
  {
   "cell_type": "markdown",
   "metadata": {},
   "source": [
    "Write a Python program to calculate multiplying all the numbers of a given tuple.\n",
    "<br>\n",
    "nums = (4, 3, 2, 2, -1, 10)"
   ]
  },
  {
   "cell_type": "code",
   "execution_count": 14,
   "metadata": {},
   "outputs": [
    {
     "name": "stdout",
     "output_type": "stream",
     "text": [
      "-480\n"
     ]
    }
   ],
   "source": [
    "nums = (4, 3, 2, 2, -1, 10)\n",
    "prod = 1\n",
    "\n",
    "for item in nums:\n",
    "    prod *= item\n",
    "    \n",
    "print(prod)"
   ]
  },
  {
   "cell_type": "markdown",
   "metadata": {},
   "source": [
    "Write a Python program to find whether the given string contains whitespace or not.<br>\n"
   ]
  },
  {
   "cell_type": "code",
   "execution_count": null,
   "metadata": {},
   "outputs": [],
   "source": [
    "my_string = input('Enter a string: ')\n",
    "\n",
    "count = 0\n",
    "for s in my_string:\n",
    "    if s.isspace():\n",
    "        count +=1\n",
    "    \n",
    "if count>0:\n",
    "    print('The string contains whitespace')\n",
    "else:\n",
    "    print(\"The string doesn't contain whitespace\")\n",
    "        "
   ]
  },
  {
   "cell_type": "markdown",
   "metadata": {},
   "source": [
    "Write a Python program to split days, month and years of a given date: 12/25/2021"
   ]
  },
  {
   "cell_type": "code",
   "execution_count": null,
   "metadata": {},
   "outputs": [],
   "source": [
    "date = '12/25/2021'\n",
    "my_list = date.split('/')\n",
    "print(my_list)\n",
    "print('Month: ',my_list[0])\n",
    "print('Days: ',my_list[1])\n",
    "print('Year: ',my_list[2])"
   ]
  },
  {
   "cell_type": "markdown",
   "metadata": {},
   "source": [
    "Write a Python program to find whether word 'Pizza' is in a given string or not and then replace it with the word 'Burger'.\n",
    "my_string = 'I like Pizza and Fries'"
   ]
  },
  {
   "cell_type": "code",
   "execution_count": null,
   "metadata": {},
   "outputs": [],
   "source": [
    "my_string = 'I like Pizza and Fries'\n",
    "\n",
    "position = my_string.find('Pizza')\n",
    "print(position)\n",
    "\n",
    "if position!= -1:\n",
    "    my_string = my_string.replace('Pizza','Burger')\n",
    "    \n",
    "print(my_string)"
   ]
  },
  {
   "cell_type": "markdown",
   "metadata": {},
   "source": [
    "Write a program that gets strings containing a person’s first and last name as separate values, and then displays their “initials”, “name in address book”, and “username”. For example, if the user enters a first name of “John” and a last name of “Smith”, the program should display “J.S.”, “John SMITH”, and “jsmith”."
   ]
  },
  {
   "cell_type": "code",
   "execution_count": null,
   "metadata": {},
   "outputs": [],
   "source": [
    "name = input('Enter your first name and last name: ')\n",
    "print(name)\n",
    "name_list = name.split()\n",
    "print(name_list)\n",
    "\n",
    "initials = name_list[0][0]+'.'+name_list[1][0]+'.'\n",
    "print(\"Initials: \",initials)\n",
    "\n",
    "name_address = name_list[0]+ ' '+name_list[1].upper()\n",
    "print('Name in address book: ',name_address)\n",
    "\n",
    "user_name = name_list[0][0].lower()+name_list[1].lower()\n",
    "print('username:',user_name)"
   ]
  },
  {
   "cell_type": "markdown",
   "metadata": {},
   "source": [
    "Write a program that asks the user to enter a series of single-digit numbers with nothing separating them. The program should display the sum of all the single digit numbers in the string. For example, if the user enters 2514, the method should return 12, which is the sum of 2, 5, 1, and 4."
   ]
  },
  {
   "cell_type": "code",
   "execution_count": null,
   "metadata": {},
   "outputs": [],
   "source": [
    "digit_num = input('Enter a series of single digit numbers: ')\n",
    "\n",
    "total = 0\n",
    "\n",
    "for s in digit_num:\n",
    "    total += int(s)\n",
    "    \n",
    "print(total)"
   ]
  },
  {
   "cell_type": "markdown",
   "metadata": {},
   "source": [
    "Write a program that reads a string from the user containing a date in the form mm/dd/yyyy. It should print the date in the format March 12, 2018."
   ]
  },
  {
   "cell_type": "code",
   "execution_count": null,
   "metadata": {},
   "outputs": [],
   "source": [
    "user_date = input('Enter a date in the form of mm/dd/yyy: ')\n",
    "date_list = user_date.split('/')\n",
    "print(date_list)\n",
    "\n",
    "list1 = ['01','02','03','04','05','06','07','08','09','10','11','12']\n",
    "list2 = ['January','February','March','April','May','June','July','August','September','October','November','December']\n",
    "\n",
    "index = list1.index(date_list[0])\n",
    "print(index)\n",
    "month = list2[index]\n",
    "print(month,date_list[1],date_list[2])\n"
   ]
  },
  {
   "cell_type": "markdown",
   "metadata": {},
   "source": [
    "Write a program that accepts as input a sentence in which all of the words are run together, but the first character of each word is uppercase. Convert the sentence to a string in which the words are separated by spaces, and only the first word starts with an uppercase letter. For example the string “StopAndSmellTheRoses.” would be converted to “Stop and smell the roses.”"
   ]
  },
  {
   "cell_type": "code",
   "execution_count": null,
   "metadata": {},
   "outputs": [],
   "source": [
    "string = input('Enter a string: ')\n",
    "\n",
    "result=string[0].upper()\n",
    "\n",
    "for i in range(1,len(string)):\n",
    "    if string[i].isupper():\n",
    "        result = result + ' '\n",
    "        result= result+string[i].lower()\n",
    "    else:   \n",
    "        result = result + string[i]\n",
    "print(result)"
   ]
  },
  {
   "cell_type": "code",
   "execution_count": 13,
   "metadata": {},
   "outputs": [
    {
     "name": "stdout",
     "output_type": "stream",
     "text": [
      "['I', 'w', 'a', 'n', 't', 'p', 'i', 'z', 'z', 'a']\n"
     ]
    }
   ],
   "source": [
    "str = input(\"Enter a string: \")\n",
    "print([ch for ch in str if ch!=\" \"])"
   ]
  }
 ],
 "metadata": {
  "kernelspec": {
   "display_name": "Python 3",
   "language": "python",
   "name": "python3"
  },
  "language_info": {
   "codemirror_mode": {
    "name": "ipython",
    "version": 3
   },
   "file_extension": ".py",
   "mimetype": "text/x-python",
   "name": "python",
   "nbconvert_exporter": "python",
   "pygments_lexer": "ipython3",
   "version": "3.10.7"
  },
  "vscode": {
   "interpreter": {
    "hash": "b0fa6594d8f4cbf19f97940f81e996739fb7646882a419484c72d19e05852a7e"
   }
  }
 },
 "nbformat": 4,
 "nbformat_minor": 2
}
