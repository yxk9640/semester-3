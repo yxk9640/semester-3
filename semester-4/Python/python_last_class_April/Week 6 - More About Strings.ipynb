{
 "cells": [
  {
   "cell_type": "markdown",
   "metadata": {},
   "source": [
    "    \n",
    "    Neshat Beheshti\n",
    "    University of Texas Arlington\n",
    "\n",
    "    This document can only be used for class studies. \n",
    "    You are not allowed to share it in any public platform."
   ]
  },
  {
   "cell_type": "markdown",
   "metadata": {},
   "source": [
    "        The Material for this Notebook is Adopted from \n",
    "        Starting Out with Python (4th Edition)- by Tony Gaddis Pearson"
   ]
  },
  {
   "cell_type": "markdown",
   "metadata": {},
   "source": [
    "<h1 align='center' style=\"color: blue;\">More About Strings</h1>"
   ]
  },
  {
   "cell_type": "markdown",
   "metadata": {},
   "source": [
    "## 1. Basic String Operations"
   ]
  },
  {
   "cell_type": "markdown",
   "metadata": {},
   "source": [
    "<ul>\n",
    "<li>Many types of programs perform operations on strings</li>\n",
    "<li>Python proviede many tools for examining and manipulating strings</li>\n",
    "<ul>\n",
    "    <li>Strings are sequences, so many of the tools that work with sequences work with strings</li></ul></ul>"
   ]
  },
  {
   "cell_type": "markdown",
   "metadata": {},
   "source": [
    "### 1.1. Accessing the Individual Characters in a String"
   ]
  },
  {
   "cell_type": "markdown",
   "metadata": {},
   "source": [
    "To access an individual character in a string:\n",
    "<ul>\n",
    "    <li>Use a <b>for</b> loop</li>\n",
    "    <ul><li>General Format:</i><br>\n",
    "        <b style='color:red'>for</b> <span style='color:blue'>variable in string</span>: \n",
    "<i><br>&nbsp;&nbsp;&nbsp;&nbsp;&nbsp;&nbsp;&nbsp;&nbsp;statement \n",
    "<br>&nbsp;&nbsp;&nbsp;&nbsp;&nbsp;&nbsp;&nbsp;&nbsp;statement\n",
    "<br>&nbsp;&nbsp;&nbsp;&nbsp;&nbsp;&nbsp;&nbsp;&nbsp;etc.</i></li>\n",
    "<li>Useful when need to iterate over the whole string, such as to count the occurrences of a specific character\n",
    "        </li></ul>\n",
    "    \n",
    "    \n",
    "   <br>\n",
    "    \n",
    " <li>Use indexing</li>\n",
    "    \n",
    "   </ul>"
   ]
  },
  {
   "cell_type": "markdown",
   "metadata": {},
   "source": [
    "<b>Example:</b>"
   ]
  },
  {
   "cell_type": "code",
   "execution_count": 3,
   "metadata": {},
   "outputs": [
    {
     "name": "stdout",
     "output_type": "stream",
     "text": [
      "J\n",
      "o\n",
      "s\n",
      "e\n",
      "p\n",
      "h\n",
      " \n",
      "i\n",
      "s\n",
      " \n",
      "r\n",
      "u\n",
      "n\n",
      "n\n",
      "i\n",
      "n\n",
      "g\n",
      "17\n"
     ]
    }
   ],
   "source": [
    "name = 'Joseph is running' \n",
    "for ch in name:\n",
    "    print(ch)"
   ]
  },
  {
   "cell_type": "markdown",
   "metadata": {},
   "source": [
    "<b>Note:</b> If we change the value that <i>ch</i> references in the loop, it has no effect on the string referenced by name. "
   ]
  },
  {
   "cell_type": "code",
   "execution_count": 6,
   "metadata": {},
   "outputs": [
    {
     "name": "stdout",
     "output_type": "stream",
     "text": [
      "Joseph\n"
     ]
    }
   ],
   "source": [
    "name = 'Joseph' \n",
    "for ch in name: \n",
    "    ch = 'X'\n",
    "print(name)\n"
   ]
  },
  {
   "cell_type": "markdown",
   "metadata": {},
   "source": [
    "<b>Example:</b>"
   ]
  },
  {
   "cell_type": "code",
   "execution_count": 7,
   "metadata": {},
   "outputs": [
    {
     "name": "stdout",
     "output_type": "stream",
     "text": [
      "The letter T appears 8 times.\n"
     ]
    }
   ],
   "source": [
    "def main():\n",
    "\n",
    "# Create a variable to use to hold the count. \n",
    "# The variable must start with 0.\n",
    "\n",
    "    count = 0\n",
    "\n",
    "\n",
    "    my_string = input('Enter a sentence: ')\n",
    "\n",
    "\n",
    "    for ch in my_string:\n",
    "        if ch == 'T' or ch == 't': \n",
    "            count += 1\n",
    "\n",
    "    print('The letter T appears', count, 'times.')\n",
    "\n",
    "main()"
   ]
  },
  {
   "cell_type": "markdown",
   "metadata": {},
   "source": [
    "#### Use indexing"
   ]
  },
  {
   "cell_type": "markdown",
   "metadata": {},
   "source": [
    "<ul><li>Each character has an index specifying its position in the string, starting at 0</li>\n",
    "<li>Format: <i>character = my_string[i]</i>\n",
    "        </li></ul>"
   ]
  },
  {
   "cell_type": "markdown",
   "metadata": {},
   "source": [
    "<img src='images/week9/String indexes.png'>\n",
    "\n",
    "<i>Source: Starting Out with Python (4th Edition)- by Tony Gaddis Pearson</i>"
   ]
  },
  {
   "cell_type": "code",
   "execution_count": 8,
   "metadata": {},
   "outputs": [
    {
     "name": "stdout",
     "output_type": "stream",
     "text": [
      "s\n"
     ]
    }
   ],
   "source": [
    "my_string = 'Roses are red' \n",
    "ch = my_string[4]\n",
    "print(ch)"
   ]
  },
  {
   "cell_type": "code",
   "execution_count": 9,
   "metadata": {},
   "outputs": [
    {
     "name": "stdout",
     "output_type": "stream",
     "text": [
      "R a r\n"
     ]
    }
   ],
   "source": [
    "my_string = 'Roses are red'\n",
    "print(my_string[0], my_string[6], my_string[10])"
   ]
  },
  {
   "cell_type": "code",
   "execution_count": 12,
   "metadata": {},
   "outputs": [
    {
     "name": "stdout",
     "output_type": "stream",
     "text": [
      "d , r , s\n"
     ]
    }
   ],
   "source": [
    "my_string = 'Apple is red'\n",
    "print(my_string[-1],',', my_string[-3],',', my_string[-5])"
   ]
  },
  {
   "cell_type": "markdown",
   "metadata": {},
   "source": [
    "#### IndexError Exceptions"
   ]
  },
  {
   "cell_type": "markdown",
   "metadata": {},
   "source": [
    "IndexError exception will occur if:\n",
    "<ul>\n",
    "    <li>You try to use an index that is out of range for the string.</li>\n",
    "    <ul><li>Likely to happen when loop iterates beyond the end of the string.</li>\n",
    "</ul></ul>"
   ]
  },
  {
   "cell_type": "markdown",
   "metadata": {},
   "source": [
    "<b>Example:</b>"
   ]
  },
  {
   "cell_type": "code",
   "execution_count": 14,
   "metadata": {},
   "outputs": [
    {
     "name": "stdout",
     "output_type": "stream",
     "text": [
      "n\n"
     ]
    }
   ],
   "source": [
    "city = 'Boston' \n",
    "print(city[6])"
   ]
  },
  {
   "cell_type": "code",
   "execution_count": 15,
   "metadata": {},
   "outputs": [
    {
     "name": "stdout",
     "output_type": "stream",
     "text": [
      "B\n",
      "o\n",
      "s\n",
      "t\n",
      "o\n",
      "n\n"
     ]
    },
    {
     "ename": "IndexError",
     "evalue": "string index out of range",
     "output_type": "error",
     "traceback": [
      "\u001b[0;31m---------------------------------------------------------------------------\u001b[0m",
      "\u001b[0;31mIndexError\u001b[0m                                Traceback (most recent call last)",
      "Cell \u001b[0;32mIn[15], line 4\u001b[0m\n\u001b[1;32m      2\u001b[0m index \u001b[39m=\u001b[39m \u001b[39m0\u001b[39m\n\u001b[1;32m      3\u001b[0m \u001b[39mwhile\u001b[39;00m index \u001b[39m<\u001b[39m \u001b[39m7\u001b[39m:\n\u001b[0;32m----> 4\u001b[0m     \u001b[39mprint\u001b[39m(city[index]) \n\u001b[1;32m      5\u001b[0m     index \u001b[39m+\u001b[39m\u001b[39m=\u001b[39m \u001b[39m1\u001b[39m\n",
      "\u001b[0;31mIndexError\u001b[0m: string index out of range"
     ]
    }
   ],
   "source": [
    "city = 'Boston' \n",
    "index = 0\n",
    "while index < 7:\n",
    "    print(city[index]) \n",
    "    index += 1"
   ]
  },
  {
   "cell_type": "markdown",
   "metadata": {},
   "source": [
    "#### The <i>len</i> Function"
   ]
  },
  {
   "cell_type": "markdown",
   "metadata": {},
   "source": [
    "<i>len(string)</i> function can be used to obtain the length of a string\n",
    "<ul><li>Useful to prevent loops from iterating beyond the end of a string</li></ul>"
   ]
  },
  {
   "cell_type": "code",
   "execution_count": null,
   "metadata": {},
   "outputs": [],
   "source": [
    "city = 'Boston' \n",
    "size = len(city)\n",
    "print(size)"
   ]
  },
  {
   "cell_type": "code",
   "execution_count": null,
   "metadata": {},
   "outputs": [],
   "source": [
    "city = 'Boston'\n",
    "index = 0\n",
    "while index < len(city):\n",
    "    print(city[index]) \n",
    "    index += 1"
   ]
  },
  {
   "cell_type": "markdown",
   "metadata": {},
   "source": [
    "### 1.2. String Concatenation"
   ]
  },
  {
   "cell_type": "markdown",
   "metadata": {},
   "source": [
    "Concatenation: appending one string to the end of another string\n",
    "<ul>\n",
    "    <li>Use the + operator to produce a string that is a combination of its operands</li>\n",
    "    <li>The augmented assignment operator += can also be used to concatenate strings</li>\n",
    "    <ul>\n",
    "        <li>The operand on the left side of the += operator must be an existing variable; otherwise, an exception is raised</li></ul>\n",
    "</ul>"
   ]
  },
  {
   "cell_type": "markdown",
   "metadata": {},
   "source": [
    "<b>Example:</b>"
   ]
  },
  {
   "cell_type": "code",
   "execution_count": 16,
   "metadata": {},
   "outputs": [
    {
     "name": "stdout",
     "output_type": "stream",
     "text": [
      "Hello world\n"
     ]
    }
   ],
   "source": [
    "message = 'Hello ' + 'world'\n",
    "print(message)"
   ]
  },
  {
   "cell_type": "code",
   "execution_count": 17,
   "metadata": {},
   "outputs": [
    {
     "name": "stdout",
     "output_type": "stream",
     "text": [
      "Sara Yeager\n"
     ]
    }
   ],
   "source": [
    "first_name = 'Sara'\n",
    "last_name = 'Yeager'\n",
    "full_name = first_name + ' ' + last_name\n",
    "print(full_name)"
   ]
  },
  {
   "cell_type": "code",
   "execution_count": 18,
   "metadata": {},
   "outputs": [
    {
     "name": "stdout",
     "output_type": "stream",
     "text": [
      "abcdef\n"
     ]
    }
   ],
   "source": [
    "letters = 'abc'\n",
    "letters += 'def'\n",
    "print(letters)"
   ]
  },
  {
   "cell_type": "code",
   "execution_count": 19,
   "metadata": {},
   "outputs": [
    {
     "name": "stdout",
     "output_type": "stream",
     "text": [
      "Kelly Yvonne Smith\n"
     ]
    }
   ],
   "source": [
    "name = 'Kelly' \n",
    "name += ' '\n",
    "name += 'Yvonne' \n",
    "name += ' '\n",
    "name += 'Smith' \n",
    "print(name)"
   ]
  },
  {
   "cell_type": "code",
   "execution_count": 20,
   "metadata": {},
   "outputs": [
    {
     "name": "stdout",
     "output_type": "stream",
     "text": [
      "helloNeshat\n"
     ]
    }
   ],
   "source": [
    "my_name = 'hello'\n",
    "my_name += 'Neshat'\n",
    "print(my_name)"
   ]
  },
  {
   "cell_type": "markdown",
   "metadata": {},
   "source": [
    "### 1.3. Strings Are Immutable"
   ]
  },
  {
   "cell_type": "markdown",
   "metadata": {},
   "source": [
    "<ul>\n",
    "    <li>Once they are created, they cannot be changed</li>\n",
    "<ul><li>Concatenation doesn’t actually change the existing string, but rather creates a new string and assigns the new string to the previously used variable</li></ul>\n",
    "    <li><i>string[index] = new_character</i></li>\n",
    "    <ul><li>Statement of this type will raise an exception</li></ul>\n",
    "    </ul>\n"
   ]
  },
  {
   "cell_type": "markdown",
   "metadata": {},
   "source": [
    "<b>Example:</b>"
   ]
  },
  {
   "cell_type": "code",
   "execution_count": 21,
   "metadata": {},
   "outputs": [
    {
     "name": "stdout",
     "output_type": "stream",
     "text": [
      "The name is Carmen\n",
      "Now the name is Carmen Brown\n"
     ]
    }
   ],
   "source": [
    "def main():\n",
    "\n",
    "    name = 'Carmen'\n",
    "    print('The name is', name) \n",
    "    name = name + ' Brown' \n",
    "    print('Now the name is', name)\n",
    "\n",
    "main()"
   ]
  },
  {
   "cell_type": "code",
   "execution_count": 22,
   "metadata": {},
   "outputs": [
    {
     "ename": "TypeError",
     "evalue": "'str' object does not support item assignment",
     "output_type": "error",
     "traceback": [
      "\u001b[0;31m---------------------------------------------------------------------------\u001b[0m",
      "\u001b[0;31mTypeError\u001b[0m                                 Traceback (most recent call last)",
      "Cell \u001b[0;32mIn[22], line 2\u001b[0m\n\u001b[1;32m      1\u001b[0m friend \u001b[39m=\u001b[39m \u001b[39m'\u001b[39m\u001b[39mBill\u001b[39m\u001b[39m'\u001b[39m\n\u001b[0;32m----> 2\u001b[0m friend[\u001b[39m0\u001b[39;49m] \u001b[39m=\u001b[39m \u001b[39m'\u001b[39m\u001b[39mJ\u001b[39m\u001b[39m'\u001b[39m\n",
      "\u001b[0;31mTypeError\u001b[0m: 'str' object does not support item assignment"
     ]
    }
   ],
   "source": [
    "friend = 'Bill'\n",
    "friend[0] = 'J'"
   ]
  },
  {
   "cell_type": "markdown",
   "metadata": {},
   "source": [
    "## 2. String Slicing"
   ]
  },
  {
   "cell_type": "markdown",
   "metadata": {},
   "source": [
    "Slice: span of items taken from a sequence, known as substring\n",
    "<ul>\n",
    "    <li>Slicing format: <i>string[start : end]</i></li>\n",
    "<ul>\n",
    "    <li>Expression will return a string containing a copy of the characters from <i>start</i> up to, but not including, <i>end</i></li>\n",
    "    <li>If <i>start</i> not specified, 0 is used for start index</li>\n",
    "    <li>If <i>end</i> not specified, <i>len(string)</i> is used for end index</li>\n",
    "    <li>Slicing expressions can include a step value and negative indexes relative to end of string</li>\n",
    "    </ul></ul>"
   ]
  },
  {
   "cell_type": "markdown",
   "metadata": {},
   "source": [
    "<b>Example:</b>"
   ]
  },
  {
   "cell_type": "code",
   "execution_count": 23,
   "metadata": {},
   "outputs": [
    {
     "name": "stdout",
     "output_type": "stream",
     "text": [
      "osep\n"
     ]
    }
   ],
   "source": [
    "full_name = 'Sara Joseph Smith' \n",
    "middle_name = full_name[6:10]\n",
    "print(middle_name)"
   ]
  },
  {
   "cell_type": "code",
   "execution_count": 24,
   "metadata": {},
   "outputs": [
    {
     "name": "stdout",
     "output_type": "stream",
     "text": [
      "Sara \n"
     ]
    }
   ],
   "source": [
    "full_name = 'Sara Joseph Smith' \n",
    "first_name = full_name[:5]\n",
    "print(first_name)"
   ]
  },
  {
   "cell_type": "code",
   "execution_count": null,
   "metadata": {},
   "outputs": [],
   "source": [
    "full_name = 'Sara Joseph Smith' \n",
    "last_name = full_name[11:]\n",
    "print(last_name)"
   ]
  },
  {
   "cell_type": "code",
   "execution_count": null,
   "metadata": {},
   "outputs": [],
   "source": [
    "last_name = full_name[-5:]\n",
    "print(last_name)"
   ]
  },
  {
   "cell_type": "code",
   "execution_count": null,
   "metadata": {},
   "outputs": [],
   "source": [
    "full_name = 'Sara Joseph Smith' \n",
    "my_string = full_name[:]\n",
    "print(my_string)"
   ]
  },
  {
   "cell_type": "code",
   "execution_count": null,
   "metadata": {},
   "outputs": [],
   "source": [
    "my_string = full_name[0 : len(full_name)]\n",
    "print(my_string)"
   ]
  },
  {
   "cell_type": "code",
   "execution_count": 25,
   "metadata": {},
   "outputs": [
    {
     "name": "stdout",
     "output_type": "stream",
     "text": [
      "ACEGIKMOQSUWY\n"
     ]
    }
   ],
   "source": [
    "letters = 'ABCDEFGHIJKLMNOPQRSTUVWXYZ' \n",
    "print(letters[0:26:2])"
   ]
  },
  {
   "cell_type": "markdown",
   "metadata": {},
   "source": [
    "## 3.Testing, Searching, and Manipulating Strings"
   ]
  },
  {
   "cell_type": "markdown",
   "metadata": {},
   "source": [
    "You can use the in operator to determine whether one string is contained in another string\n",
    "<ul>\n",
    "    <li>General format: <i>string1 in string2</i></li>\n",
    "<ul><li><i>string1</i> and <i>string2</i> can be string literals or variables referencing strings.</li></ul></ul>\n",
    "Similarly you can use the <b>not in</b> operator to determine whether one string is not contained in another string\n"
   ]
  },
  {
   "cell_type": "markdown",
   "metadata": {},
   "source": [
    "<b>Example</b>"
   ]
  },
  {
   "cell_type": "code",
   "execution_count": 26,
   "metadata": {},
   "outputs": [
    {
     "name": "stdout",
     "output_type": "stream",
     "text": [
      "The string \"seven\" was found.\n"
     ]
    }
   ],
   "source": [
    "text = 'Four score and seven years ago' \n",
    "if 'seven' in text:\n",
    "    print('The string \"seven\" was found.') \n",
    "else:\n",
    "    print('The string \"seven\" was not found.')"
   ]
  },
  {
   "cell_type": "code",
   "execution_count": 27,
   "metadata": {},
   "outputs": [
    {
     "name": "stdout",
     "output_type": "stream",
     "text": [
      "Pierre was not found.\n"
     ]
    }
   ],
   "source": [
    "names = 'Bill Joanne Susan Chris Juan Katie' \n",
    "if 'Pierre' not in names:\n",
    "    print('Pierre was not found.') \n",
    "else:\n",
    "    print('Pierre was found.')"
   ]
  },
  {
   "attachments": {},
   "cell_type": "markdown",
   "metadata": {},
   "source": [
    "Using \"in\" operator. Check if d is in my_string"
   ]
  },
  {
   "cell_type": "code",
   "execution_count": 30,
   "metadata": {},
   "outputs": [
    {
     "name": "stdout",
     "output_type": "stream",
     "text": [
      "String does not have letter 'd' \n"
     ]
    }
   ],
   "source": [
    "my_string = input(\"Enter a string\")\n",
    "if \"d\" in my_string:\n",
    "    print(\"String has letter 'd' \")\n",
    "else:\n",
    "    print(\"String does not have letter 'd' \")\n"
   ]
  },
  {
   "cell_type": "markdown",
   "metadata": {},
   "source": [
    "### 3.1. String Methods"
   ]
  },
  {
   "cell_type": "markdown",
   "metadata": {},
   "source": [
    "Strings in Python have many types of methods, divided into different types of operations\n",
    "<ul>\n",
    "    <li>General format: <i>mystring.method(arguments)</i></li></ul>\n",
    "Some methods test a string for specific characteristics\n",
    "<ul>\n",
    "    <li>Generally Boolean methods, that return <i>True</i> if a condition exists, and <i>False</i> otherwise</li>"
   ]
  },
  {
   "cell_type": "markdown",
   "metadata": {},
   "source": [
    "<b>Example:</b>"
   ]
  },
  {
   "cell_type": "code",
   "execution_count": 31,
   "metadata": {},
   "outputs": [
    {
     "name": "stdout",
     "output_type": "stream",
     "text": [
      "1200 contains only digits.\n"
     ]
    }
   ],
   "source": [
    "string1 = '1200'\n",
    "if string1.isdigit():\n",
    "    print(string1, 'contains only digits.') \n",
    "else:\n",
    "    print(string1, 'contains characters other than digits.')"
   ]
  },
  {
   "cell_type": "code",
   "execution_count": 34,
   "metadata": {},
   "outputs": [
    {
     "name": "stdout",
     "output_type": "stream",
     "text": [
      "abc correct.\n"
     ]
    }
   ],
   "source": [
    "string2 = '123 abc'\n",
    "if string2.isalnum():\n",
    "    print(string2, 'correct.') \n",
    "else:\n",
    "    print(string2, 'Wrong.')"
   ]
  },
  {
   "attachments": {},
   "cell_type": "markdown",
   "metadata": {},
   "source": [
    "<p>\"isalnum\" true if string is either alphabetic or numerical.</p>"
   ]
  },
  {
   "cell_type": "code",
   "execution_count": null,
   "metadata": {},
   "outputs": [],
   "source": []
  },
  {
   "cell_type": "markdown",
   "metadata": {},
   "source": [
    "<img src='images/week9/Some string testing methods.png'>\n",
    "\n",
    "<i>Source: Starting Out with Python (4th Edition)- by Tony Gaddis Pearson</i>"
   ]
  },
  {
   "cell_type": "markdown",
   "metadata": {},
   "source": [
    "<b>Example:</b>"
   ]
  },
  {
   "cell_type": "code",
   "execution_count": 37,
   "metadata": {},
   "outputs": [
    {
     "name": "stdout",
     "output_type": "stream",
     "text": [
      "This is what I found about that string:\n",
      "The string is alphanumeric. : False\n",
      "The string contains only digits. : False\n",
      "The string contains only alphabetic characters. : False\n",
      "The string contains only whitespace characters. : False\n",
      "The letters in the string are all lowercase. : False\n",
      "The letters in the string are all uppercase. : False\n"
     ]
    }
   ],
   "source": [
    "def main():\n",
    "# Get a string from the user.\n",
    "    user_string = input('Enter a string: ')\n",
    "\n",
    "    print('This is what I found about that string:')\n",
    "\n",
    "# Test the string.\n",
    "    # if user_string.isalnum():\n",
    "    print(f'The string is alphanumeric. : {user_string.isalnum()}')\n",
    "    # if user_string.isdigit():\n",
    "    print(f'The string contains only digits. : {user_string.isdigit()}')\n",
    "    # if user_string.isalpha():\n",
    "    print(f'The string contains only alphabetic characters. : {user_string.isalpha()}')\n",
    "    # if user_string.isspace():\n",
    "    print(f'The string contains only whitespace characters. : {user_string.isspace()}')\n",
    "    # if user_string.islower():\n",
    "    print(f'The letters in the string are all lowercase. : {user_string.islower()}')\n",
    "    # if user_string.isupper():\n",
    "    print(f'The letters in the string are all uppercase. : {user_string.isupper()}')\n",
    "\n",
    "\n",
    "main()"
   ]
  },
  {
   "cell_type": "markdown",
   "metadata": {},
   "source": [
    "<ul>\n",
    "    <li>Although strings are immutable, meaning they cannot be modified, they do have a number of methods that return modified versions of themselves.</li>\n",
    "    <li>Some methods return a copy of the string, to which modifications have been made</li>\n",
    "    <ul>\n",
    "    <li>Simulate strings as mutable objects</li>\n",
    "    </ul>\n",
    "    <li>String comparisons are case-sensitive</li>\n",
    "    <ul>\n",
    "        <li>Uppercase characters are distinguished from lowercase characters</li>\n",
    "        <li><i>lower</i> and <i>upper</i> methods can be used for making case-insensitive string comparisons</li>\n",
    "    </ul>\n",
    "</ul>"
   ]
  },
  {
   "cell_type": "markdown",
   "metadata": {},
   "source": [
    "<img src='images/week9/String Modification Methods.png'>\n",
    "\n",
    "<i>Source: Starting Out with Python (4th Edition)- by Tony Gaddis Pearson</i>"
   ]
  },
  {
   "cell_type": "markdown",
   "metadata": {},
   "source": [
    "<b>Example</b>"
   ]
  },
  {
   "cell_type": "code",
   "execution_count": 38,
   "metadata": {},
   "outputs": [
    {
     "name": "stdout",
     "output_type": "stream",
     "text": [
      "WXYZ wxyz\n"
     ]
    }
   ],
   "source": [
    "letters = 'WXYZ'\n",
    "print(letters, letters.lower())"
   ]
  },
  {
   "cell_type": "code",
   "execution_count": 39,
   "metadata": {},
   "outputs": [
    {
     "name": "stdout",
     "output_type": "stream",
     "text": [
      "abcd ABCD\n"
     ]
    }
   ],
   "source": [
    "letters = 'abcd'\n",
    "print(letters, letters.upper())"
   ]
  },
  {
   "cell_type": "code",
   "execution_count": 40,
   "metadata": {},
   "outputs": [
    {
     "name": "stdout",
     "output_type": "stream",
     "text": [
      "Neshat NESHAT\n"
     ]
    }
   ],
   "source": [
    "letters = 'Neshat'\n",
    "print(letters, letters.upper())"
   ]
  },
  {
   "cell_type": "code",
   "execution_count": 42,
   "metadata": {},
   "outputs": [
    {
     "name": "stdout",
     "output_type": "stream",
     "text": [
      "Hello\n",
      "Do you want to see that again?\n",
      "Hello\n",
      "Do you want to see that again?\n",
      "Hello\n",
      "Do you want to see that again?\n"
     ]
    }
   ],
   "source": [
    "again = 'y'\n",
    "while again.lower() == 'y':\n",
    "    print('Hello')\n",
    "    print('Do you want to see that again?')\n",
    "    again = input('y = yes, anything else = no: ')"
   ]
  },
  {
   "cell_type": "code",
   "execution_count": 44,
   "metadata": {},
   "outputs": [
    {
     "name": "stdout",
     "output_type": "stream",
     "text": [
      "Hello\n",
      "Do you want to see that again?\n",
      "Hello\n",
      "Do you want to see that again?\n",
      "Hello\n",
      "Do you want to see that again?\n"
     ]
    }
   ],
   "source": [
    "again = 'y'\n",
    "while again.upper() == 'Y':\n",
    "    print('Hello')\n",
    "    print('Do you want to see that again?')\n",
    "    again = input('y = yes, anything else = no: ')"
   ]
  },
  {
   "cell_type": "markdown",
   "metadata": {},
   "source": [
    "<ul>\n",
    "    <li>Programs commonly need to search for substrings</li>\n",
    "    <li>Several methods to accomplish this:</li>\n",
    "<ul>\n",
    "    <li><i>endswith(substring)</i>: checks if the string ends with substring</li>\n",
    "    <ul><li>Returns <i>True</i> or <i>False</i></li></ul>\n",
    "    <li><i>startswith(substring)</i>: checks if the string starts with substring</li>\n",
    "<ul><li>Returns <i>True</i> or <i>False</i></li></ul>\n",
    "    <li><i>find(substring)</i>: searches for substring  within the string</li>\n",
    "<ul><li>Returns lowest index of the substring, or if the substring is not contained in the string, returns -1</li></ul>\n",
    "<li><i>replace(substring, new_string): </i>\n",
    "    <ul><li>Returns a copy of the string where every occurrence of <i>substring</i> is replaced with <i>new_string</i></li></ul>\n",
    "    </ul>\n",
    "    </ul>"
   ]
  },
  {
   "cell_type": "markdown",
   "metadata": {},
   "source": [
    "<b>Example:</b>"
   ]
  },
  {
   "cell_type": "code",
   "execution_count": 45,
   "metadata": {},
   "outputs": [
    {
     "name": "stdout",
     "output_type": "stream",
     "text": [
      "That is the name of a Python source file.\n"
     ]
    }
   ],
   "source": [
    "filename = input('Enter the filename: ') \n",
    "if filename.endswith('.txt'):\n",
    "    print('That is the name of a text file.') \n",
    "elif filename.endswith('.py'):\n",
    "    print('That is the name of a Python source file.') \n",
    "elif filename.endswith('.doc'):\n",
    "    print('That is the name of a word processing document.') \n",
    "else:\n",
    "    print('Unknown file type.')"
   ]
  },
  {
   "cell_type": "code",
   "execution_count": 46,
   "metadata": {},
   "outputs": [
    {
     "name": "stdout",
     "output_type": "stream",
     "text": [
      "The word \"seven\" was found at index 15\n"
     ]
    }
   ],
   "source": [
    "string = 'Four score and seven years ago' \n",
    "position = string.find('seven')\n",
    "if position != -1:\n",
    "    print('The word \"seven\" was found at index', position) \n",
    "else:\n",
    "    print('The word \"seven\" was not found.')"
   ]
  },
  {
   "cell_type": "code",
   "execution_count": 60,
   "metadata": {},
   "outputs": [
    {
     "name": "stdout",
     "output_type": "stream",
     "text": [
      "Four score and seven days ago\n",
      "30\n",
      "27\n"
     ]
    }
   ],
   "source": [
    "string = 'Four score and seven years ago' \n",
    "new_string = string.replace('years', 'days') \n",
    "find_string = string.rfind('a') \n",
    "print(new_string)\n",
    "print(len(string))\n",
    "print(find_string)"
   ]
  },
  {
   "cell_type": "markdown",
   "metadata": {},
   "source": [
    "### 3.2. The Repetition Operator"
   ]
  },
  {
   "cell_type": "markdown",
   "metadata": {},
   "source": [
    "Repetition operator: makes multiple copies of a string and joins them together\n",
    "<ul>\n",
    "    <li>The * symbol is a repetition operator when applied to a string and an integer</li>\n",
    "<ul>\n",
    "    <li>String is left operand; number is right</li></ul>\n",
    "    <li>General format: <i>string_to_copy * n</i></li>\n",
    "    <li>Variable references a new string which contains multiple copies of the original string.</li>\n",
    "</ul>"
   ]
  },
  {
   "cell_type": "markdown",
   "metadata": {},
   "source": [
    "<b>Example:</b>"
   ]
  },
  {
   "cell_type": "code",
   "execution_count": 52,
   "metadata": {},
   "outputs": [
    {
     "name": "stdout",
     "output_type": "stream",
     "text": [
      "wwwww\n"
     ]
    }
   ],
   "source": [
    "my_string = 'w' \n",
    "my_string*=5\n",
    "print(my_string)"
   ]
  },
  {
   "cell_type": "code",
   "execution_count": 51,
   "metadata": {},
   "outputs": [
    {
     "name": "stdout",
     "output_type": "stream",
     "text": [
      "HelloHelloHello\n"
     ]
    }
   ],
   "source": [
    "print('Hello' * 3)"
   ]
  },
  {
   "cell_type": "markdown",
   "metadata": {},
   "source": [
    "### 3.3.Splitting a String"
   ]
  },
  {
   "cell_type": "markdown",
   "metadata": {},
   "source": [
    "split method: returns a list containing the words in the string\n",
    "<ul>\n",
    "    <li>By default, uses space as separator</li>\n",
    "    <li>Can specify a different separator by passing it as an argument to the <i>split</i> method</li>\n",
    "</ul>"
   ]
  },
  {
   "cell_type": "markdown",
   "metadata": {},
   "source": [
    "<b>Example:</b>"
   ]
  },
  {
   "cell_type": "code",
   "execution_count": 55,
   "metadata": {},
   "outputs": [
    {
     "name": "stdout",
     "output_type": "stream",
     "text": [
      "['One two three four']\n"
     ]
    }
   ],
   "source": [
    "def main():\n",
    "    my_string = 'One two three four'\n",
    "    word_list = my_string.split()\n",
    "    print(word_list)\n",
    "    \n",
    "main()"
   ]
  },
  {
   "cell_type": "code",
   "execution_count": 56,
   "metadata": {},
   "outputs": [
    {
     "name": "stdout",
     "output_type": "stream",
     "text": [
      "['My', 'name', 'is', 'John']\n"
     ]
    }
   ],
   "source": [
    "def main():\n",
    "    my_string = 'My name is John'\n",
    "    word_list = my_string.split()\n",
    "    print(word_list)\n",
    "    \n",
    "main()"
   ]
  },
  {
   "cell_type": "code",
   "execution_count": 57,
   "metadata": {},
   "outputs": [
    {
     "data": {
      "text/plain": [
       "['04', '02', '2021']"
      ]
     },
     "execution_count": 57,
     "metadata": {},
     "output_type": "execute_result"
    }
   ],
   "source": [
    "date_string = '04/02/2021'\n",
    "date_list = date_string.split('/')\n",
    "date_list"
   ]
  },
  {
   "cell_type": "code",
   "execution_count": 58,
   "metadata": {},
   "outputs": [
    {
     "name": "stdout",
     "output_type": "stream",
     "text": [
      "Month: 04\n",
      "Day: 02\n",
      "Year: 2021\n"
     ]
    }
   ],
   "source": [
    "date_string = '04/02/2021'\n",
    "date_list = date_string.split('/')\n",
    "print('Month:', date_list[0]) \n",
    "print('Day:', date_list[1]) \n",
    "print('Year:', date_list[2])"
   ]
  },
  {
   "attachments": {},
   "cell_type": "markdown",
   "metadata": {},
   "source": [
    "Write program to print days in separate list"
   ]
  },
  {
   "cell_type": "code",
   "execution_count": 61,
   "metadata": {},
   "outputs": [
    {
     "name": "stdout",
     "output_type": "stream",
     "text": [
      "['Monday', 'Tuesday', 'Wednesday']\n"
     ]
    }
   ],
   "source": [
    "days = 'Monday Tuesday Wednesday'\n",
    "print(days.split())"
   ]
  },
  {
   "attachments": {},
   "cell_type": "markdown",
   "metadata": {},
   "source": [
    "Write a program to implement:\n",
    "\n",
    "for values = 'one$two$three$four'\n",
    "\n",
    "output : ['one', 'two', 'three', 'four']"
   ]
  },
  {
   "cell_type": "code",
   "execution_count": 64,
   "metadata": {},
   "outputs": [
    {
     "name": "stdout",
     "output_type": "stream",
     "text": [
      "['one', 'two', 'three', 'four']\n"
     ]
    }
   ],
   "source": [
    "values = 'one$two$three$four'\n",
    "print(values.split('$'))"
   ]
  },
  {
   "attachments": {},
   "cell_type": "markdown",
   "metadata": {},
   "source": [
    "<h1>Importing files</h1>"
   ]
  },
  {
   "attachments": {},
   "cell_type": "markdown",
   "metadata": {},
   "source": [
    "Once files is created and imported externally you cannot change the instrucitons in file."
   ]
  },
  {
   "cell_type": "code",
   "execution_count": 109,
   "metadata": {},
   "outputs": [
    {
     "name": "stdout",
     "output_type": "stream",
     "text": [
      "5\n"
     ]
    }
   ],
   "source": [
    "import sum_Package\n",
    "#for updating your file to the latest version\n",
    "import importlib\n",
    "importlib.reload(sum_Package)\n",
    "\n",
    "print(sum_Package.sum(2,3))"
   ]
  },
  {
   "cell_type": "code",
   "execution_count": 87,
   "metadata": {},
   "outputs": [
    {
     "name": "stdout",
     "output_type": "stream",
     "text": [
      "Overwriting sum_fun.py\n"
     ]
    }
   ],
   "source": [
    "%%file sum_fun.py\n",
    "#magic function(%%file is magic function) All lines should start from here\n",
    "#Noting on top of %%file\n",
    "\n",
    "def my_sum(num1, num2):\n",
    "\treturn num1 + num2\n"
   ]
  },
  {
   "cell_type": "code",
   "execution_count": 83,
   "metadata": {},
   "outputs": [
    {
     "name": "stdout",
     "output_type": "stream",
     "text": [
      "5\n"
     ]
    }
   ],
   "source": [
    "import sum_fun\n",
    "\n",
    "print(sum_fun.my_sum(2,3))"
   ]
  }
 ],
 "metadata": {
  "kernelspec": {
   "display_name": "Python 3",
   "language": "python",
   "name": "python3"
  },
  "language_info": {
   "codemirror_mode": {
    "name": "ipython",
    "version": 3
   },
   "file_extension": ".py",
   "mimetype": "text/x-python",
   "name": "python",
   "nbconvert_exporter": "python",
   "pygments_lexer": "ipython3",
   "version": "3.10.7"
  },
  "vscode": {
   "interpreter": {
    "hash": "b0fa6594d8f4cbf19f97940f81e996739fb7646882a419484c72d19e05852a7e"
   }
  }
 },
 "nbformat": 4,
 "nbformat_minor": 2
}
