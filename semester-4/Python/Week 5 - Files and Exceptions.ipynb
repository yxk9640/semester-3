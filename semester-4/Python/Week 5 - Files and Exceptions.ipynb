{
 "cells": [
  {
   "cell_type": "markdown",
   "metadata": {},
   "source": [
    " \n",
    "    Neshat Beheshti\n",
    "    University of Texas Arlington\n",
    "\n",
    "    This document can only be used for class studies. \n",
    "    You are not allowed to share it in any public platform."
   ]
  },
  {
   "cell_type": "markdown",
   "metadata": {},
   "source": [
    "        The Material for this Notebook is Adopted from \n",
    "        Starting Out with Python (4th Edition)- by Tony Gaddis Pearson"
   ]
  },
  {
   "cell_type": "markdown",
   "metadata": {},
   "source": [
    "<h1 align='center' style=\"color: blue;\">Files and Exceptions</h1>"
   ]
  },
  {
   "cell_type": "markdown",
   "metadata": {},
   "source": [
    "## 1. Introduction to File Input and Output"
   ]
  },
  {
   "cell_type": "markdown",
   "metadata": {},
   "source": [
    "<ul><li>For program to retain data between the times it is run, you must save the data.</li>\n",
    "<ul>\n",
    "    <li>Data is saved to a file, typically on computer disk</li>\n",
    "    <li>Saved data can be retrieved and used at a later time</li>\n",
    "</ul>\n",
    "    <li>Programmers usually refer to the process of saving data in a file as <b>“writing data”</b> to the file.</li>\n",
    "    <li>The term <i>output file</i> is used to describe a file that data is written to.</li>\n",
    "</ul>"
   ]
  },
  {
   "cell_type": "markdown",
   "metadata": {},
   "source": [
    "<ul>\n",
    "    <li>The process of retrieving data from a file is known as <b>“reading data”</b> from the file.</li> \n",
    "    <li>The term <i>input</i> file is used to describe a file from which data is read.</li>\n",
    "<ul>"
   ]
  },
  {
   "cell_type": "markdown",
   "metadata": {},
   "source": [
    "There are three steps when a program uses a file:\n",
    "<ol>\n",
    "<li>Open the file</li>\n",
    "<li>Process the file</li>\n",
    "<li>Close the file</li>\n",
    "</ol>"
   ]
  },
  {
   "cell_type": "markdown",
   "metadata": {},
   "source": [
    "### 1.1.Types of Files and File Access Methods"
   ]
  },
  {
   "cell_type": "markdown",
   "metadata": {},
   "source": [
    "In general, there are two types of files:\n",
    "<ol>\n",
    "<li><b>Text file</b>: contains data that has been encoded as text</li>\n",
    "<li><b>Binary file</b>: contains data that has not been converted to text</li>\n",
    "</ol>"
   ]
  },
  {
   "cell_type": "markdown",
   "metadata": {},
   "source": [
    "There are two ways to access data stored in file:\n",
    "<ol>\n",
    "    <li><b>Sequential access</b>: file read sequentially from beginning to end, can’t skip ahead.</li>\n",
    "    <li><b>Direct access</b>: can jump directly to any piece of data in the file</li>\n",
    "</ol>"
   ]
  },
  {
   "cell_type": "markdown",
   "metadata": {},
   "source": [
    "### 1.2.Filenames and File Objects"
   ]
  },
  {
   "cell_type": "markdown",
   "metadata": {},
   "source": [
    "<ul>\n",
    "    <li><b>Filename extensions</b>: short sequences of characters that appear at the end of a filename preceded by a period.\n",
    "        <ul>Extension indicates type of data stored in the file: .jpg, .txt, etc.</ul></li>\n",
    "    <li><b>File object</b>: object associated with a specific file\n",
    "<ul>Provides a way for a program to work with the file: file object referenced by a variable</ul></li>"
   ]
  },
  {
   "cell_type": "markdown",
   "metadata": {},
   "source": [
    "### 1.3.Openning a File"
   ]
  },
  {
   "cell_type": "markdown",
   "metadata": {},
   "source": [
    "<ul>\n",
    "<li>We use the open function in Python to open a file.</li>\n",
    "<li>The open function creates a file object and associates it with a file on the disk.</li>\n",
    "</ul>"
   ]
  },
  {
   "cell_type": "markdown",
   "metadata": {},
   "source": [
    "The general format:\n",
    "<br>\n",
    "<i>file_variable = open(filename, mode)</i>\n",
    "<br>\n",
    "<ul>\n",
    "<li>file_variable is the name of the variable that will reference the file object.</li>\n",
    "<li>filename is a string specifying the name of the file.</li>\n",
    "<li>mode is a string specifying how the file will be opened.</li>\n",
    "    <ul>Example: reading only ('r'), writing ('w'), and appending ('a')</ul>\n",
    "</ul>    "
   ]
  },
  {
   "cell_type": "markdown",
   "metadata": {},
   "source": [
    "<b>Example:</b>"
   ]
  },
  {
   "cell_type": "code",
   "execution_count": 3,
   "metadata": {},
   "outputs": [],
   "source": [
    "#we want to create a file named customer.txt\n",
    "customer_file = open('customers.txt', 'w')"
   ]
  },
  {
   "cell_type": "code",
   "execution_count": 4,
   "metadata": {},
   "outputs": [],
   "source": [
    "#We want to open file custome.txt for reading\n",
    "customer_file = open('customers.txt', 'r')"
   ]
  },
  {
   "cell_type": "markdown",
   "metadata": {},
   "source": [
    "<b>Note:</b> when we use the 'w' mode, we are creating the file on the disk. If a file with the specified name already exists when the file is opened, the contents of the existing file will be deleted."
   ]
  },
  {
   "cell_type": "markdown",
   "metadata": {},
   "source": [
    "### 1.4.Specifying the Location of a File"
   ]
  },
  {
   "cell_type": "markdown",
   "metadata": {},
   "source": [
    "<ul>\n",
    "<li>If open function receives a filename that does not contain a path, assumes that file is in same directory as program.</li>\n",
    "<li>If we want to open a file in a different location, we can specify a path and file name in the open function argument.</li>\n",
    "    <ul>Need to prefix the path string literal with the letter <i>r</i>\n",
    "        <br>Example:&nbsp;&nbsp;&nbsp;<i>test_file = open(r'C:\\Users\\Blake\\temp\\test.txt', 'w')</i>\n",
    "</ul>\n",
    "</ul>\n"
   ]
  },
  {
   "cell_type": "markdown",
   "metadata": {},
   "source": [
    "### 1.5.Writing Data to a File"
   ]
  },
  {
   "cell_type": "markdown",
   "metadata": {},
   "source": [
    "A <i>method</i> is a function that belongs to an object and performs some operation using that object."
   ]
  },
  {
   "cell_type": "markdown",
   "metadata": {},
   "source": [
    "File object’s <i>write</i> method used to write data to the file"
   ]
  },
  {
   "cell_type": "markdown",
   "metadata": {},
   "source": [
    "The general format:\n",
    "    <br><br>\n",
    "    <i>file_variable.write(string)</i>\n",
    "    <ul>\n",
    "    <li>file_variable is a variable that references a file object.</li>\n",
    "    <li>string is a string that will be written to the file.</li>\n",
    "    </ul>"
   ]
  },
  {
   "cell_type": "markdown",
   "metadata": {},
   "source": [
    "<b>Example:</b>"
   ]
  },
  {
   "cell_type": "code",
   "execution_count": 8,
   "metadata": {
    "scrolled": false
   },
   "outputs": [
    {
     "ename": "TypeError",
     "evalue": "TextIOWrapper.write() takes exactly one argument (2 given)",
     "output_type": "error",
     "traceback": [
      "\u001b[0;31m---------------------------------------------------------------------------\u001b[0m",
      "\u001b[0;31mTypeError\u001b[0m                                 Traceback (most recent call last)",
      "Cell \u001b[0;32mIn[8], line 2\u001b[0m\n\u001b[1;32m      1\u001b[0m name \u001b[38;5;241m=\u001b[39m \u001b[38;5;124m'\u001b[39m\u001b[38;5;124mCharles Pace\u001b[39m\u001b[38;5;124m'\u001b[39m \n\u001b[0;32m----> 2\u001b[0m \u001b[43mcustomer_file\u001b[49m\u001b[38;5;241;43m.\u001b[39;49m\u001b[43mwrite\u001b[49m\u001b[43m(\u001b[49m\u001b[43mname\u001b[49m\u001b[43m,\u001b[49m\u001b[38;5;124;43m'\u001b[39;49m\u001b[38;5;124;43mw\u001b[39;49m\u001b[38;5;124;43m'\u001b[39;49m\u001b[43m)\u001b[49m\n",
      "\u001b[0;31mTypeError\u001b[0m: TextIOWrapper.write() takes exactly one argument (2 given)"
     ]
    }
   ],
   "source": [
    "name = 'Charles Pace' \n",
    "customer_file.write(name)"
   ]
  },
  {
   "cell_type": "markdown",
   "metadata": {},
   "source": [
    "File should be closed using file object <i>close</i> method."
   ]
  },
  {
   "cell_type": "markdown",
   "metadata": {},
   "source": [
    "The general format:\n",
    "    <br>\n",
    "    <i>file_variable.close()</i>"
   ]
  },
  {
   "cell_type": "markdown",
   "metadata": {},
   "source": [
    "<b>Example:</b>"
   ]
  },
  {
   "cell_type": "code",
   "execution_count": 6,
   "metadata": {},
   "outputs": [],
   "source": [
    "def main():\n",
    "    # Open a file named philosophers.txt.\n",
    "    outfile = open('philosophers.txt', 'w')\n",
    "    \n",
    "    # Write the names of three philosphers to the file\n",
    "    outfile.write('John Locke\\n')\n",
    "    outfile.write('David Hume\\n')\n",
    "    outfile.write('Edmund Burke\\n')\n",
    "    \n",
    "    # Close the file.\n",
    "    outfile.close()\n",
    "    \n",
    "main()"
   ]
  },
  {
   "cell_type": "markdown",
   "metadata": {},
   "source": [
    "<b>Example:</b> Now it is your trun. Open a file named client.txt and write four names: Ashley Shawn, Zachary Gaddis, Tonny Brian, Sam Sarani"
   ]
  },
  {
   "cell_type": "code",
   "execution_count": null,
   "metadata": {},
   "outputs": [],
   "source": [
    "# Write your code here"
   ]
  },
  {
   "cell_type": "markdown",
   "metadata": {},
   "source": [
    "### 1.6.Reading Data from a File"
   ]
  },
  {
   "cell_type": "markdown",
   "metadata": {},
   "source": [
    "<i><b>read method</i></b>: file object method that reads entire file contents into memory\n",
    "    <ul><li>Only works if file has been opened for reading</li>\n",
    "    <li>Contents returned as a string</li>\n",
    "</ul>"
   ]
  },
  {
   "cell_type": "markdown",
   "metadata": {},
   "source": [
    "<b>Example:</b>"
   ]
  },
  {
   "cell_type": "code",
   "execution_count": 9,
   "metadata": {},
   "outputs": [
    {
     "name": "stdout",
     "output_type": "stream",
     "text": [
      "John Locke\n",
      "David Hume\n",
      "Edmund Burke\n",
      "\n"
     ]
    }
   ],
   "source": [
    "def main():\n",
    "    # Open a file named philosophers.txt.\n",
    "    infile = open('philosophers.txt', 'r')\n",
    "    \n",
    "    # Read the file's contents.\n",
    "    file_contents = infile.read()\n",
    "    \n",
    "    # Close the file.\n",
    "    infile.close()\n",
    "    \n",
    "    # Print the data that was read into memory\n",
    "    print(file_contents)\n",
    "\n",
    "main()"
   ]
  },
  {
   "cell_type": "markdown",
   "metadata": {},
   "source": [
    "<b>Example:</b> Now it is your trun, Read the file's contents in client.txt"
   ]
  },
  {
   "cell_type": "code",
   "execution_count": null,
   "metadata": {},
   "outputs": [],
   "source": [
    "#Write your code here"
   ]
  },
  {
   "cell_type": "markdown",
   "metadata": {},
   "source": [
    "<b>Note</b>: Each of the strings written to the file end with <b>\\n</b>, which you will recall is the newline escape sequence."
   ]
  },
  {
   "cell_type": "markdown",
   "metadata": {},
   "source": [
    "<i><b>readline method</b></i>: file object method that reads a line from the file. The method returns the line as a string, including the <b>\\n</b>."
   ]
  },
  {
   "cell_type": "markdown",
   "metadata": {},
   "source": [
    "<b>Example:</b>"
   ]
  },
  {
   "cell_type": "code",
   "execution_count": 10,
   "metadata": {},
   "outputs": [
    {
     "name": "stdout",
     "output_type": "stream",
     "text": [
      "John Locke\n",
      "\n",
      "David Hume\n",
      "\n",
      "Edmund Burke\n",
      "\n"
     ]
    }
   ],
   "source": [
    "#This program reads the contents of the philosophers.txt file one line at a time. \n",
    "def main():\n",
    "    infile = open('philosophers.txt', 'r')\n",
    "\n",
    "    # Read three lines from the file. \n",
    "    line1 = infile.readline()\n",
    "    line2 = infile.readline()\n",
    "    line3 = infile.readline()\n",
    "    \n",
    "    # Close the file.\n",
    "    infile.close()\n",
    "    \n",
    "    print(line1)\n",
    "    print(line2)\n",
    "    print(line3)\n",
    "    \n",
    "main()"
   ]
  },
  {
   "cell_type": "markdown",
   "metadata": {},
   "source": [
    "<b>Example:</b> Now it is your trun, read the contents of the client.txt file one line at a time. "
   ]
  },
  {
   "cell_type": "code",
   "execution_count": null,
   "metadata": {},
   "outputs": [],
   "source": [
    "# Write your code here"
   ]
  },
  {
   "cell_type": "markdown",
   "metadata": {},
   "source": [
    "### 1.7. Concatenating a Newline to a String"
   ]
  },
  {
   "cell_type": "markdown",
   "metadata": {},
   "source": [
    "In most cases, data items written to a file are values referenced by <b>variables</b>.\n",
    "<ul>\n",
    "    <li>Usually necessary to concatenate a '\\n' to data before writing it.</li>\n",
    "    <ul><li>Carried out using the + operator in the argument of the write method.</li>\n",
    "</ul></ul>"
   ]
  },
  {
   "cell_type": "markdown",
   "metadata": {},
   "source": [
    "<b>Example:</b>"
   ]
  },
  {
   "cell_type": "code",
   "execution_count": 11,
   "metadata": {},
   "outputs": [
    {
     "name": "stdout",
     "output_type": "stream",
     "text": [
      "Enter the names of three friends.\n",
      "Friend #1: harish\n",
      "Friend #2: mrud\n",
      "Friend #3: y\n",
      "The names were written to friends.txt.\n"
     ]
    }
   ],
   "source": [
    "def main():\n",
    "    \n",
    "    print('Enter the names of three friends.')\n",
    "    name1 = input('Friend #1: ')\n",
    "    name2 = input('Friend #2: ')\n",
    "    name3 = input('Friend #3: ')\n",
    "\n",
    " # Open a file named friends.txt.\n",
    "    myfile = open('friends.txt', 'w')\n",
    "\n",
    " # Write the names to the file.\n",
    "    myfile.write(name1 + '\\n')\n",
    "    myfile.write(name2 + '\\n')\n",
    "    myfile.write(name3 + '\\n')\n",
    "    \n",
    " # Close the file.\n",
    "    myfile.close()\n",
    "    print('The names were written to friends.txt.')\n",
    "\n",
    "main()"
   ]
  },
  {
   "cell_type": "markdown",
   "metadata": {},
   "source": [
    "<b>Example:</b> Now it is your trun, Write a program to gets two names from the user and writes them to a file named users.txt"
   ]
  },
  {
   "cell_type": "code",
   "execution_count": null,
   "metadata": {},
   "outputs": [],
   "source": [
    "#Write your code here"
   ]
  },
  {
   "cell_type": "markdown",
   "metadata": {},
   "source": [
    "<b>Note:</b> In many cases need to remove '\\n' from string after it is read from a file\n",
    "<ul><li><b>rstrip method:</b> string method that strips specific characters from end of the string</li></ul>"
   ]
  },
  {
   "cell_type": "markdown",
   "metadata": {},
   "source": [
    "<b>Example:</b>"
   ]
  },
  {
   "cell_type": "code",
   "execution_count": 12,
   "metadata": {},
   "outputs": [
    {
     "name": "stdout",
     "output_type": "stream",
     "text": [
      "John Locke\n",
      "David Hume\n",
      "Edmund Burke\n"
     ]
    }
   ],
   "source": [
    "def main():\n",
    "#Open a file named philosophers.txt. \n",
    "    infile = open('philosophers.txt', 'r')\n",
    "\n",
    "# Read three lines from the file.\n",
    "    line1 = infile.readline()\n",
    "    line2 = infile.readline()\n",
    "    line3 = infile.readline()\n",
    "\n",
    "# Strip the \\n from each string.\n",
    "    line1 = line1.rstrip('\\n') \n",
    "    line2 = line2.rstrip('\\n')\n",
    "    line3 = line3.rstrip('\\n')\n",
    "# Close the file. \n",
    "    infile.close()\n",
    "# Print the data that was read into # memory.\n",
    "    print(line1)\n",
    "    print(line2) \n",
    "    print(line3)\n",
    "main()"
   ]
  },
  {
   "cell_type": "markdown",
   "metadata": {},
   "source": [
    "<b>Example:</b> Now it is your trun"
   ]
  },
  {
   "cell_type": "code",
   "execution_count": null,
   "metadata": {},
   "outputs": [],
   "source": [
    "#Write your code here"
   ]
  },
  {
   "cell_type": "markdown",
   "metadata": {},
   "source": [
    "### 1.8. Appending Data to an Existing File"
   ]
  },
  {
   "cell_type": "markdown",
   "metadata": {},
   "source": [
    "<ul><li>When open file with <b>'w'</b> mode, if the file already exists it is overwritten.</li>\n",
    "    <li>To append data to a file use the <b>'a'</b> mode.<li>\n",
    "<ul>\n",
    "    <li>If file exists, it is not erased, and if it does not exist it is created</li>\n",
    "    <li>Data is written to the file at the end of the current contents</li>\n",
    "</ul>\n",
    "</ul>"
   ]
  },
  {
   "cell_type": "markdown",
   "metadata": {},
   "source": [
    "<b>Example</b>"
   ]
  },
  {
   "cell_type": "code",
   "execution_count": 13,
   "metadata": {},
   "outputs": [],
   "source": [
    "myfile = open('philosophers.txt', 'a') \n",
    "\n",
    "myfile.write('Matt\\n') \n",
    "myfile.write('Chris\\n') \n",
    "myfile.write('Suze\\n') \n",
    "\n",
    "myfile.close()"
   ]
  },
  {
   "cell_type": "markdown",
   "metadata": {},
   "source": [
    "### 1.9. Writing and Reading Numeric Data"
   ]
  },
  {
   "cell_type": "markdown",
   "metadata": {},
   "source": [
    "<ul><li>Numbers must be converted to strings before they are written to a file.</li>\n",
    "    <li><i><b>str</b></i> function: converts value to string.</li>\n",
    "    <li>Number are read from a text file as strings.</li>\n",
    "    <ul><li>Must be converted to numeric type in order to perform mathematical operations.</li>\n",
    "        <li>Use <i>int</i> and <i>float</i> functions to convert string to numeric value.</li>\n",
    "</ul></ul>\n"
   ]
  },
  {
   "cell_type": "markdown",
   "metadata": {},
   "source": [
    "<b>Example:</b>"
   ]
  },
  {
   "cell_type": "code",
   "execution_count": 14,
   "metadata": {},
   "outputs": [
    {
     "name": "stdout",
     "output_type": "stream",
     "text": [
      "Enter a number: 2\n",
      "Enter another number: 1\n",
      "Enter another number: 2\n",
      "Data written to numbers.txt\n"
     ]
    }
   ],
   "source": [
    "def main():\n",
    "    outfile = open('numbers.txt', 'w')\n",
    "    # Get three numbers from the user.\n",
    "    num1 = int(input('Enter a number: '))\n",
    "    num2 = int(input('Enter another number: '))\n",
    "    num3 = int(input('Enter another number: '))\n",
    "\n",
    "    outfile.write(str(num1) + '\\n')\n",
    "    outfile.write(str(num2) + '\\n')\n",
    "    outfile.write(str(num3) + '\\n')\n",
    "\n",
    "    outfile.close()\n",
    "    print('Data written to numbers.txt')\n",
    "\n",
    "main()"
   ]
  },
  {
   "cell_type": "markdown",
   "metadata": {},
   "source": [
    "<b>Example</b>"
   ]
  },
  {
   "cell_type": "code",
   "execution_count": null,
   "metadata": {},
   "outputs": [],
   "source": [
    "def main():\n",
    "\n",
    "    infile = open('numbers.txt', 'r')\n",
    "\n",
    "    num1 = int(infile.readline())\n",
    "    num2 = int(infile.readline())\n",
    "    num3 = int(infile.readline())\n",
    "\n",
    "    infile.close()\n",
    "    \n",
    "    # Add the three numbers. \n",
    "    total = num1 + num2 + num3\n",
    "\n",
    "    print('The numbers are:', num1, num2, num3) \n",
    "    print('Their total is:', total)\n",
    "\n",
    "main()"
   ]
  },
  {
   "cell_type": "markdown",
   "metadata": {},
   "source": [
    "## 2. Using Loops to Process Files"
   ]
  },
  {
   "cell_type": "markdown",
   "metadata": {},
   "source": [
    "<ul><li>Files typically used to hold large amounts of data.</li>\n",
    "    <ul><li>Loop typically involved in reading from and writing to a file.</li></ul>\n",
    "</ul>"
   ]
  },
  {
   "cell_type": "markdown",
   "metadata": {},
   "source": [
    "<b>Example</b>"
   ]
  },
  {
   "cell_type": "code",
   "execution_count": 15,
   "metadata": {},
   "outputs": [
    {
     "name": "stdout",
     "output_type": "stream",
     "text": [
      "For how many days do you have sales? 3\n",
      "Enter the sales for day #1: 23\n",
      "Enter the sales for day #2: 43\n",
      "Enter the sales for day #3: 56\n",
      "Data written to sales.txt.\n"
     ]
    }
   ],
   "source": [
    "def main():\n",
    "\n",
    "    num_days = int(input('For how many days do you have sales? '))\n",
    "\n",
    "    sales_file = open('sales.txt', 'w')\n",
    "\n",
    "    for count in range(1, num_days + 1):\n",
    "        sales = float(input('Enter the sales for day #' + str(count) + ': '))\n",
    "\n",
    "        sales_file.write(str(sales) + '\\n')\n",
    "\n",
    "    sales_file.close()\n",
    "    \n",
    "    print('Data written to sales.txt.')\n",
    "\n",
    "main()"
   ]
  },
  {
   "cell_type": "markdown",
   "metadata": {},
   "source": [
    "<ul><li>Often the number of items stored in file is unknown.</li>\n",
    "    <ul><li>The <b><i>readline</i></b> method uses an empty string as a sentinel when end of file is reached.</li>\n",
    "<ul><li>Can write a while loop with the condition \n",
    "    <i>while line != ''</i></li></ul>\n",
    "</ul></ul>"
   ]
  },
  {
   "cell_type": "markdown",
   "metadata": {},
   "source": [
    "Here is the general algorithm, in pseudocode:\n",
    "<br><br>\n",
    "<i>Open the file<br>\n",
    "Use readline to read the first line from the file<br>\n",
    "While the value returned from readline is not an empty string:<br>\n",
    " &nbsp;&nbsp;&nbsp;&nbsp;&nbsp;Process the item that was just read from the file<br>\n",
    " &nbsp;&nbsp;&nbsp;&nbsp;&nbsp;Use readline to read the next line from the file.<br>\n",
    "Close the file</i>"
   ]
  },
  {
   "cell_type": "markdown",
   "metadata": {},
   "source": [
    "<b>Example</b>"
   ]
  },
  {
   "cell_type": "code",
   "execution_count": 17,
   "metadata": {},
   "outputs": [
    {
     "name": "stdout",
     "output_type": "stream",
     "text": [
      "23.0\n",
      "\n",
      "23.00\n",
      "43.00\n",
      "56.00\n"
     ]
    }
   ],
   "source": [
    "def main():\n",
    "\n",
    "    sales_file = open('sales.txt', 'r')\n",
    "\n",
    "    line = sales_file.readline()\n",
    "    while line != '':\n",
    "        amount = float(line)\n",
    "        print(f'{amount:.2f}')\n",
    "        line = sales_file.readline()\n",
    "\n",
    "    sales_file.close()\n",
    "\n",
    "main()"
   ]
  },
  {
   "cell_type": "markdown",
   "metadata": {},
   "source": [
    "<b>Example:</b> Now it is your turn for client.txt"
   ]
  },
  {
   "cell_type": "code",
   "execution_count": null,
   "metadata": {},
   "outputs": [],
   "source": [
    "#Write your code here"
   ]
  },
  {
   "cell_type": "markdown",
   "metadata": {},
   "source": [
    "### 2.1. Using Python’s for Loop to Read Lines"
   ]
  },
  {
   "cell_type": "markdown",
   "metadata": {},
   "source": [
    "<ul><li>Python allows the programmer to write a <i>for</i> loop that automatically reads lines in a file and stops when end of file is reached.</li>\n",
    "   <ul> <li><i>for &nbsp;variable in file_object(): \n",
    "<br>&nbsp;&nbsp;&nbsp;&nbsp;&nbsp;&nbsp;&nbsp;&nbsp;statement \n",
    "<br>&nbsp;&nbsp;&nbsp;&nbsp;&nbsp;&nbsp;&nbsp;&nbsp;statement\n",
    "<br>&nbsp;&nbsp;&nbsp;&nbsp;&nbsp;&nbsp;&nbsp;&nbsp;etc.</i>\n",
    "    <li>The loop iterates once over each line in the file.</li>\n",
    "</ul></ul>\n"
   ]
  },
  {
   "cell_type": "markdown",
   "metadata": {},
   "source": [
    "<b>Example</b>"
   ]
  },
  {
   "cell_type": "code",
   "execution_count": 28,
   "metadata": {},
   "outputs": [
    {
     "name": "stdout",
     "output_type": "stream",
     "text": [
      "23.0\n",
      "43.0\n",
      "56.0\n",
      " Before for\n",
      " After for\n"
     ]
    }
   ],
   "source": [
    "def main():\n",
    "    sales_file = open('sales.txt', 'r')\n",
    "    for line in sales_file:\n",
    "        amount = float(line)\n",
    "        print(f'{amount:.2f}')\n",
    "    sales_file.close()\n",
    "    \n",
    "    \n",
    "main()"
   ]
  },
  {
   "cell_type": "markdown",
   "metadata": {},
   "source": [
    "<b>Example:</b> Now it is your turn."
   ]
  },
  {
   "cell_type": "code",
   "execution_count": null,
   "metadata": {},
   "outputs": [],
   "source": [
    "#Write your code here"
   ]
  },
  {
   "cell_type": "markdown",
   "metadata": {},
   "source": [
    "### 2.2. Processing Records"
   ]
  },
  {
   "cell_type": "markdown",
   "metadata": {},
   "source": [
    "<ul>\n",
    "    <li><b>Record:</b> set of data that describes one item.</li>\n",
    "    <li><b>Field:</b> single piece of data within a record.</li>\n",
    "    <li>Write record to sequential access file by writing the fields one after the other.</li>\n",
    "    <li>Read record from sequential access file by reading each field until record complete.</li>"
   ]
  },
  {
   "cell_type": "markdown",
   "metadata": {},
   "source": [
    "<b>Example</b>"
   ]
  },
  {
   "cell_type": "code",
   "execution_count": null,
   "metadata": {},
   "outputs": [],
   "source": [
    "def main():\n",
    "\n",
    "    num_emps = int(input('How many employee records ' + 'do you want to create? '))\n",
    "\n",
    "    emp_file = open('employees.txt', 'w')\n",
    "\n",
    "    for count in range(1, num_emps + 1):\n",
    "    \n",
    "        print('Enter data for employee #', count, sep='') \n",
    "        name = input('Name: ')\n",
    "        id_num = input('ID number: ')\n",
    "        dept = input('Department: ')\n",
    " \n",
    "        emp_file.write(name + '\\n') \n",
    "        emp_file.write(id_num + '\\n') \n",
    "        emp_file.write(dept + '\\n')\n",
    "\n",
    "        print()\n",
    "\n",
    "    emp_file.close()\n",
    "    print('Employee records written to employees.txt.')\n",
    "\n",
    "main()"
   ]
  },
  {
   "cell_type": "markdown",
   "metadata": {},
   "source": [
    "<b>Note:</b> When we read a record from a sequential access file, we read the data for each field, one after the other, until we have read the complete record. "
   ]
  },
  {
   "cell_type": "markdown",
   "metadata": {},
   "source": [
    "<b>Example</b>"
   ]
  },
  {
   "cell_type": "code",
   "execution_count": null,
   "metadata": {},
   "outputs": [],
   "source": [
    "def main():\n",
    "\n",
    "    emp_file = open('employees.txt', 'r')\n",
    "    name = emp_file.readline()\n",
    "   \n",
    "    while name != '':\n",
    "        id_num = emp_file.readline()\n",
    "        dept = emp_file.readline()\n",
    "        \n",
    "        name = name.rstrip('\\n')\n",
    "        id_num = id_num.rstrip('\\n')\n",
    "        dept = dept.rstrip('\\n')\n",
    "        \n",
    "        print('Name:', name) \n",
    "        print('ID:', id_num) \n",
    "        print('Dept:', dept) \n",
    "        print()\n",
    "        \n",
    "        name = emp_file.readline()\n",
    "    \n",
    "    emp_file.close()\n",
    "\n",
    "main()"
   ]
  },
  {
   "cell_type": "markdown",
   "metadata": {},
   "source": [
    "<ul>\n",
    "    <li>When working with records, it is also important to be able to:</li>\n",
    "    <ul><li>Add records</li>\n",
    "        <li>Display records</li>\n",
    "        <li>Search for a specific record</li>\n",
    "        <li>Modify records</li>\n",
    "        <li>Delete records</li>\n",
    "    </ul></ul>"
   ]
  },
  {
   "cell_type": "markdown",
   "metadata": {},
   "source": [
    "### 2.3. Exceptions"
   ]
  },
  {
   "cell_type": "markdown",
   "metadata": {},
   "source": [
    "<ul>\n",
    "    <li><b>Exception:</b> error that occurs while a program is running.</li>\n",
    "    <ul><li>Usually causes program to abruptly halt.</li></ul>\n",
    "    <li><b>Traceback:</b> error message that gives information regarding line numbers that caused the exception.</li>\n",
    "<ul><li>Indicates the type of exception and brief description of the error that caused exception to be raised.</li></ul>"
   ]
  },
  {
   "cell_type": "markdown",
   "metadata": {},
   "source": [
    "<b>Example</b>"
   ]
  },
  {
   "cell_type": "code",
   "execution_count": 29,
   "metadata": {},
   "outputs": [
    {
     "name": "stdout",
     "output_type": "stream",
     "text": [
      "Enter a number: 2\n",
      "Enter another number: 2\n",
      "2 divided by 2 is 1.0\n"
     ]
    }
   ],
   "source": [
    "def main():\n",
    "# Get two numbers.\n",
    "    num1 = int(input('Enter a number: '))\n",
    "    num2 = int(input('Enter another number: '))\n",
    "# Divide num1 by num2 and display the result. \n",
    "    result = num1 / num2\n",
    "    print(num1, 'divided by', num2, 'is', result)\n",
    "\n",
    "main()"
   ]
  },
  {
   "cell_type": "markdown",
   "metadata": {},
   "source": [
    "<b>Example</b>"
   ]
  },
  {
   "cell_type": "code",
   "execution_count": 30,
   "metadata": {},
   "outputs": [
    {
     "name": "stdout",
     "output_type": "stream",
     "text": [
      "Enter a number: 2\n",
      "Enter another number: 0\n",
      "Cannot divide by zero.\n"
     ]
    }
   ],
   "source": [
    "def main():\n",
    "# Get two numbers.\n",
    "    num1 = int(input('Enter a number: '))\n",
    "    num2 = int(input('Enter another number: '))\n",
    "\n",
    "# If num2 is not 0, divide num1 by num2 # and display the result.\n",
    "    if num2 != 0:\n",
    "        result = num1 / num2\n",
    "        print(num1, 'divided by', num2, 'is', result) \n",
    "    else:\n",
    "        print('Cannot divide by zero.')\n",
    "main()"
   ]
  },
  {
   "cell_type": "markdown",
   "metadata": {},
   "source": [
    "<ul>\n",
    "    <li>Many exceptions can be prevented by careful coding.</li>\n",
    "    <ul><li>Example: input validation.</li>\n",
    "        <li>Usually involve a simple decision construct</li></ul>\n",
    "    <li>Some exceptions cannot be avoided by careful coding.</li>\n",
    "    <ul><li><b>Examples:</b></li> \n",
    "        <ul><li>Trying to convert non-numeric string to an integer.</li>\n",
    "            <li>Trying to open for reading a file that doesn’t exist.</li></ul>"
   ]
  },
  {
   "cell_type": "markdown",
   "metadata": {},
   "source": [
    "<b>Example</b>"
   ]
  },
  {
   "cell_type": "code",
   "execution_count": null,
   "metadata": {},
   "outputs": [],
   "source": [
    "def main():\n",
    "\n",
    "    hours = int(input('How many hours did you work? '))\n",
    "    pay_rate = float(input('Enter your hourly pay rate: '))\n",
    "\n",
    "    gross_pay = hours * pay_rate\n",
    "\n",
    "    print('Gross pay: $', format(gross_pay, ',.2f'), sep='')\n",
    "\n",
    "main()"
   ]
  },
  {
   "cell_type": "markdown",
   "metadata": {},
   "source": [
    "<b>Exception handler:</b> code that responds when exceptions are raised and prevents program from crashing.\n",
    "<ul><li>In Python, written as <i>try/except</i> statement.</li>\n",
    "    <ul><li>General format:</li>\n",
    "        <i>try: \n",
    "<br>&nbsp;&nbsp;&nbsp;&nbsp;&nbsp;&nbsp;&nbsp;&nbsp;statement \n",
    "<br>&nbsp;&nbsp;&nbsp;&nbsp;&nbsp;&nbsp;&nbsp;&nbsp;statement\n",
    "<br>&nbsp;&nbsp;&nbsp;&nbsp;&nbsp;&nbsp;&nbsp;&nbsp;etc.</i>\n",
    "        <br><i>except &nbsp;ExceptionName: \n",
    "<br>&nbsp;&nbsp;&nbsp;&nbsp;&nbsp;&nbsp;&nbsp;&nbsp;statement \n",
    "<br>&nbsp;&nbsp;&nbsp;&nbsp;&nbsp;&nbsp;&nbsp;&nbsp;statement\n",
    "<br>&nbsp;&nbsp;&nbsp;&nbsp;&nbsp;&nbsp;&nbsp;&nbsp;etc.</i>\n",
    "        <li><u>Try suite:</u> statements that can potentially raise an exception.</li>\n",
    "        <li><u>Handler:</u> statements contained in except block.</li>\n",
    "    </ul></ul>\n"
   ]
  },
  {
   "cell_type": "markdown",
   "metadata": {},
   "source": [
    "When the try/except statement executes, the statements in the try suite begin to execute. The following describes what happens next:\n",
    "<ul>\n",
    "    <li>If statement in <i>try suite</i> raises exception:</li>\n",
    "    <ul><li>Exception specified in except clause:</li>\n",
    "        <ul><li>Handler immediately following except clause executes.</li>\n",
    "            <li>Continue program after try/except statement.</li></ul>\n",
    "        <li>Other exceptions:</li>\n",
    "        <ul><li>Program halts with traceback error message.</li>\n",
    "        </ul></ul>\n",
    "    <li>If no exception is raised, handlers are skipped.</li>\n",
    "    </ul>\n"
   ]
  },
  {
   "cell_type": "markdown",
   "metadata": {},
   "source": [
    "<b>Example</b>"
   ]
  },
  {
   "cell_type": "code",
   "execution_count": 35,
   "metadata": {},
   "outputs": [
    {
     "ename": "SyntaxError",
     "evalue": "expected 'except' or 'finally' block (930468246.py, line 11)",
     "output_type": "error",
     "traceback": [
      "\u001b[0;36m  Cell \u001b[0;32mIn[35], line 11\u001b[0;36m\u001b[0m\n\u001b[0;31m    main()\u001b[0m\n\u001b[0m          ^\u001b[0m\n\u001b[0;31mSyntaxError\u001b[0m\u001b[0;31m:\u001b[0m expected 'except' or 'finally' block\n"
     ]
    }
   ],
   "source": [
    "def main(): \n",
    "    try:\n",
    "    \n",
    "        hours = int(input('How many hours did you work? '))\n",
    "        pay_rate = float(input('Enter your hourly pay rate: '))\n",
    "        gross_pay = hours * pay_rate\n",
    "        print('Gross pay: $', format(gross_pay, ',.2f'), sep='') \n",
    "        \n",
    "    except ValueError:\n",
    "        print('ERROR: Hours worked and hourly pay rate must be valid numbers.') \n",
    "main()"
   ]
  },
  {
   "cell_type": "markdown",
   "metadata": {},
   "source": [
    "<b>Example</b>"
   ]
  },
  {
   "cell_type": "code",
   "execution_count": 41,
   "metadata": {},
   "outputs": [
    {
     "name": "stdout",
     "output_type": "stream",
     "text": [
      "Enter a filename: class.txt\n"
     ]
    },
    {
     "ename": "FileNotFoundError",
     "evalue": "[Errno 2] No such file or directory: 'class.txt'",
     "output_type": "error",
     "traceback": [
      "\u001b[0;31m---------------------------------------------------------------------------\u001b[0m",
      "\u001b[0;31mFileNotFoundError\u001b[0m                         Traceback (most recent call last)",
      "Cell \u001b[0;32mIn[41], line 10\u001b[0m\n\u001b[1;32m      7\u001b[0m     \u001b[38;5;28mprint\u001b[39m(contents)\n\u001b[1;32m      8\u001b[0m     infile\u001b[38;5;241m.\u001b[39mclose()\n\u001b[0;32m---> 10\u001b[0m \u001b[43mmain\u001b[49m\u001b[43m(\u001b[49m\u001b[43m)\u001b[49m\n",
      "Cell \u001b[0;32mIn[41], line 5\u001b[0m, in \u001b[0;36mmain\u001b[0;34m()\u001b[0m\n\u001b[1;32m      1\u001b[0m \u001b[38;5;28;01mdef\u001b[39;00m \u001b[38;5;21mmain\u001b[39m():\n\u001b[1;32m      3\u001b[0m     filename \u001b[38;5;241m=\u001b[39m \u001b[38;5;28minput\u001b[39m(\u001b[38;5;124m'\u001b[39m\u001b[38;5;124mEnter a filename: \u001b[39m\u001b[38;5;124m'\u001b[39m)\n\u001b[0;32m----> 5\u001b[0m     infile \u001b[38;5;241m=\u001b[39m \u001b[38;5;28;43mopen\u001b[39;49m\u001b[43m(\u001b[49m\u001b[43mfilename\u001b[49m\u001b[43m,\u001b[49m\u001b[43m \u001b[49m\u001b[38;5;124;43m'\u001b[39;49m\u001b[38;5;124;43mr\u001b[39;49m\u001b[38;5;124;43m'\u001b[39;49m\u001b[43m)\u001b[49m\n\u001b[1;32m      6\u001b[0m     contents \u001b[38;5;241m=\u001b[39m infile\u001b[38;5;241m.\u001b[39mread()\n\u001b[1;32m      7\u001b[0m     \u001b[38;5;28mprint\u001b[39m(contents)\n",
      "File \u001b[0;32m~/Library/Python/3.10/lib/python/site-packages/IPython/core/interactiveshell.py:282\u001b[0m, in \u001b[0;36m_modified_open\u001b[0;34m(file, *args, **kwargs)\u001b[0m\n\u001b[1;32m    275\u001b[0m \u001b[38;5;28;01mif\u001b[39;00m file \u001b[38;5;129;01min\u001b[39;00m {\u001b[38;5;241m0\u001b[39m, \u001b[38;5;241m1\u001b[39m, \u001b[38;5;241m2\u001b[39m}:\n\u001b[1;32m    276\u001b[0m     \u001b[38;5;28;01mraise\u001b[39;00m \u001b[38;5;167;01mValueError\u001b[39;00m(\n\u001b[1;32m    277\u001b[0m         \u001b[38;5;124mf\u001b[39m\u001b[38;5;124m\"\u001b[39m\u001b[38;5;124mIPython won\u001b[39m\u001b[38;5;124m'\u001b[39m\u001b[38;5;124mt let you open fd=\u001b[39m\u001b[38;5;132;01m{\u001b[39;00mfile\u001b[38;5;132;01m}\u001b[39;00m\u001b[38;5;124m by default \u001b[39m\u001b[38;5;124m\"\u001b[39m\n\u001b[1;32m    278\u001b[0m         \u001b[38;5;124m\"\u001b[39m\u001b[38;5;124mas it is likely to crash IPython. If you know what you are doing, \u001b[39m\u001b[38;5;124m\"\u001b[39m\n\u001b[1;32m    279\u001b[0m         \u001b[38;5;124m\"\u001b[39m\u001b[38;5;124myou can use builtins\u001b[39m\u001b[38;5;124m'\u001b[39m\u001b[38;5;124m open.\u001b[39m\u001b[38;5;124m\"\u001b[39m\n\u001b[1;32m    280\u001b[0m     )\n\u001b[0;32m--> 282\u001b[0m \u001b[38;5;28;01mreturn\u001b[39;00m \u001b[43mio_open\u001b[49m\u001b[43m(\u001b[49m\u001b[43mfile\u001b[49m\u001b[43m,\u001b[49m\u001b[43m \u001b[49m\u001b[38;5;241;43m*\u001b[39;49m\u001b[43margs\u001b[49m\u001b[43m,\u001b[49m\u001b[43m \u001b[49m\u001b[38;5;241;43m*\u001b[39;49m\u001b[38;5;241;43m*\u001b[39;49m\u001b[43mkwargs\u001b[49m\u001b[43m)\u001b[49m\n",
      "\u001b[0;31mFileNotFoundError\u001b[0m: [Errno 2] No such file or directory: 'class.txt'"
     ]
    }
   ],
   "source": [
    "def main():\n",
    "\n",
    "    filename = input('Enter a filename: ')\n",
    "\n",
    "    infile = open(filename, 'r')\n",
    "    contents = infile.read()\n",
    "    print(contents)\n",
    "    infile.close()\n",
    "\n",
    "main()"
   ]
  },
  {
   "cell_type": "markdown",
   "metadata": {},
   "source": [
    "<b>Example</b>"
   ]
  },
  {
   "cell_type": "code",
   "execution_count": 40,
   "metadata": {},
   "outputs": [
    {
     "name": "stdout",
     "output_type": "stream",
     "text": [
      "Enter a filename: class\n",
      "An error occurred trying to read the file class\n"
     ]
    }
   ],
   "source": [
    "def main():\n",
    "\n",
    "    filename = input('Enter a filename: ')\n",
    "    try:\n",
    "\n",
    "        infile = open(filename, 'r')\n",
    "        contents = infile.read()\n",
    "        print(contents)\n",
    "        infile.close()\n",
    "    \n",
    "    except FileNotFoundError:\n",
    "        print('An error occurred trying to read the file', filename) \n",
    "        \n",
    "main()"
   ]
  },
  {
   "cell_type": "markdown",
   "metadata": {},
   "source": [
    "### 2.4. Handling Multiple Exceptions"
   ]
  },
  {
   "cell_type": "markdown",
   "metadata": {},
   "source": [
    "<ul>\n",
    "    <li>Often code in try suite can throw more than one type of exception.</li>\n",
    "    <ul><li>Need to write except clause for each type of exception that needs to be handled.</li></ul>\n",
    "<li>An except clause that does not list a specific exception will handle any exception that is raised in the try suite.</li>\n",
    "    <ul><li>Should always be last in a series of except clauses.</li></ul></ul>\n"
   ]
  },
  {
   "cell_type": "markdown",
   "metadata": {},
   "source": [
    "<b>Example</b>"
   ]
  },
  {
   "cell_type": "code",
   "execution_count": 43,
   "metadata": {},
   "outputs": [
    {
     "name": "stdout",
     "output_type": "stream",
     "text": [
      "An error occured trying to read the file.\n"
     ]
    }
   ],
   "source": [
    "def main():\n",
    "    total = 0.0\n",
    "    \n",
    "    try:\n",
    "        infile = open('sales_data.txt', 'r')\n",
    "\n",
    "        for line in infile:\n",
    "            amount = float(line) \n",
    "            total += amount\n",
    "        \n",
    "        infile.close()\n",
    "        print(format(total, ',.2f'))\n",
    "    \n",
    "    except FileNotFoundError:\n",
    "        print('An error occured trying to read the file.')\n",
    "\n",
    "    except ValueError:\n",
    "        print('Non-numeric data found in the file.')\n",
    "\n",
    "    except:\n",
    "        print('An error occured.')\n",
    "\n",
    "main()"
   ]
  },
  {
   "cell_type": "markdown",
   "metadata": {},
   "source": [
    "<b>Note:</b> Sometimes you might want to write a try/except statement that simply catches any exception that is raised in the try suite and, regardless of the exception’s type, responds the same way. "
   ]
  },
  {
   "cell_type": "markdown",
   "metadata": {},
   "source": [
    "<b>Example</b>"
   ]
  },
  {
   "cell_type": "code",
   "execution_count": 42,
   "metadata": {},
   "outputs": [
    {
     "name": "stdout",
     "output_type": "stream",
     "text": [
      "An error occurred.\n"
     ]
    }
   ],
   "source": [
    "def main():\n",
    "    total = 0.0\n",
    "    \n",
    "    try:\n",
    "        infile = open('sales_data.txt', 'r')\n",
    "\n",
    "        for line in infile:\n",
    "            amount = float(line) \n",
    "            total += amount\n",
    "        \n",
    "        infile.close()\n",
    "        \n",
    "        print(format(total, ',.2f'))\n",
    "    \n",
    "    except:\n",
    "        print('An error occurred.')\n",
    "\n",
    "main()"
   ]
  },
  {
   "cell_type": "markdown",
   "metadata": {},
   "source": [
    "### 2.5. Displaying an Exception’s Default Error Message"
   ]
  },
  {
   "cell_type": "markdown",
   "metadata": {},
   "source": [
    "<ul><li>Exception object: object created in memory when an exception is thrown.</li>\n",
    "    <ul><li>Usually contains default error message pertaining to the exception.</li>\n",
    "        <li>Can assign the exception object to a variable in an <i>except</i> clause.</li>\n",
    "        <ul><li>Example: <i>except ValueError as err:</i></li></ul>\n",
    "        <li>Can pass exception object variable to <i>print</i> function to display the default error message.</li>\n"
   ]
  },
  {
   "cell_type": "markdown",
   "metadata": {},
   "source": [
    "<b>Example</b>"
   ]
  },
  {
   "cell_type": "code",
   "execution_count": 60,
   "metadata": {},
   "outputs": [
    {
     "name": "stdout",
     "output_type": "stream",
     "text": [
      "How many hours did you work? as\n",
      "['__cause__', '__class__', '__context__', '__delattr__', '__dict__', '__dir__', '__doc__', '__eq__', '__format__', '__ge__', '__getattribute__', '__gt__', '__hash__', '__init__', '__init_subclass__', '__le__', '__lt__', '__ne__', '__new__', '__reduce__', '__reduce_ex__', '__repr__', '__setattr__', '__setstate__', '__sizeof__', '__str__', '__subclasshook__', '__suppress_context__', '__traceback__', 'args', 'with_traceback']\n"
     ]
    }
   ],
   "source": [
    "def main():\n",
    "    try:\n",
    "        hours = int(input('How many hours did you work? '))\n",
    "        pay_rate = int(input('Enter your hourly pay rate: '))\n",
    "        gross_pay = hours * pay_rate\n",
    "        print('Gross pay: $', format(gross_pay, ',.2f'), sep='')\n",
    "\n",
    "    except ValueError as er:\n",
    "        print(dir(ValueError))\n",
    "main()"
   ]
  },
  {
   "cell_type": "markdown",
   "metadata": {},
   "source": [
    "<b>Example</b>"
   ]
  },
  {
   "cell_type": "code",
   "execution_count": null,
   "metadata": {},
   "outputs": [],
   "source": [
    "def main():\n",
    "    total = 0.0\n",
    "    try:\n",
    "        infile = open('sales_data.txt', 'r')\n",
    "\n",
    "        for line in infile: \n",
    "            amount = float(line) \n",
    "            total += amount\n",
    "        \n",
    "        infile.close()\n",
    "\n",
    "        print(format(total, ',.2f')) \n",
    "    \n",
    "    except Exception as err:\n",
    "        print(err)\n",
    "\n",
    "main()"
   ]
  },
  {
   "cell_type": "markdown",
   "metadata": {},
   "source": [
    "### 2.6. The <i>else</i> Clause"
   ]
  },
  {
   "cell_type": "markdown",
   "metadata": {},
   "source": [
    "<i>try/except</i> statement may include an optional <i>else</i> clause, which appears after all the <i>except</i> clauses.\n",
    "<ul><li>Aligned with <i>try</i> and <i>except</i> clauses.</li>\n",
    "    <li>Syntax similar to <i>else</i> clause in decision structure.</li>\n",
    "<li>Else suite: block of statements executed after statements in try suite, <u>only if no exceptions were raised</u></li>\n",
    "    <ul><li><u>If exception was raised, the else suite is skipped.</u></li></ul></ul></ul>\n"
   ]
  },
  {
   "cell_type": "markdown",
   "metadata": {},
   "source": [
    "<ul><li>General format:</li>\n",
    "        <i>try: \n",
    "<br>&nbsp;&nbsp;&nbsp;&nbsp;&nbsp;&nbsp;&nbsp;&nbsp;statement \n",
    "<br>&nbsp;&nbsp;&nbsp;&nbsp;&nbsp;&nbsp;&nbsp;&nbsp;statement\n",
    "<br>&nbsp;&nbsp;&nbsp;&nbsp;&nbsp;&nbsp;&nbsp;&nbsp;etc.</i>\n",
    "        <br><i>except &nbsp;ExceptionName: \n",
    "<br>&nbsp;&nbsp;&nbsp;&nbsp;&nbsp;&nbsp;&nbsp;&nbsp;statement \n",
    "<br>&nbsp;&nbsp;&nbsp;&nbsp;&nbsp;&nbsp;&nbsp;&nbsp;statement\n",
    "<br>&nbsp;&nbsp;&nbsp;&nbsp;&nbsp;&nbsp;&nbsp;&nbsp;etc.</i>\n",
    "    <br><i>else: \n",
    "<br>&nbsp;&nbsp;&nbsp;&nbsp;&nbsp;&nbsp;&nbsp;&nbsp;statement \n",
    "<br>&nbsp;&nbsp;&nbsp;&nbsp;&nbsp;&nbsp;&nbsp;&nbsp;statement\n",
    "<br>&nbsp;&nbsp;&nbsp;&nbsp;&nbsp;&nbsp;&nbsp;&nbsp;etc.</i>"
   ]
  },
  {
   "cell_type": "markdown",
   "metadata": {},
   "source": [
    "<b>Example</b>"
   ]
  },
  {
   "cell_type": "code",
   "execution_count": 64,
   "metadata": {},
   "outputs": [
    {
     "name": "stdout",
     "output_type": "stream",
     "text": [
      "[Errno 2] No such file or directory: 'sales_data.txt'\n"
     ]
    }
   ],
   "source": [
    "def main():\n",
    " \n",
    "    total = 0.0\n",
    "    try:\n",
    "        infile = open('sales_data.txt', 'r')\n",
    "\n",
    "        for line in infile:\n",
    "            amount = float(line) \n",
    "            total += amount\n",
    "\n",
    "        infile.close() \n",
    "    \n",
    "    except Exception as err:\n",
    "        print(err) \n",
    "        \n",
    "    else:\n",
    "        print(format(total, ',.2f'))\n",
    "main()"
   ]
  },
  {
   "cell_type": "markdown",
   "metadata": {},
   "source": [
    "### 2.7. The <i>finally</i> Clause"
   ]
  },
  {
   "cell_type": "markdown",
   "metadata": {},
   "source": [
    "<ul><li><i>try/except</i> statement may include an optional finally clause, which appears after all the except clauses.</li>\n",
    "    <ul><li>Aligned with <i>try</i> and <i>except</i> clauses\n",
    "        <ul><li>General format:</li>\n",
    "        <i>try: \n",
    "<br>&nbsp;&nbsp;&nbsp;&nbsp;&nbsp;&nbsp;&nbsp;&nbsp;statement \n",
    "<br>&nbsp;&nbsp;&nbsp;&nbsp;&nbsp;&nbsp;&nbsp;&nbsp;statement\n",
    "<br>&nbsp;&nbsp;&nbsp;&nbsp;&nbsp;&nbsp;&nbsp;&nbsp;etc.</i>\n",
    "        <br><i>except &nbsp;ExceptionName: \n",
    "<br>&nbsp;&nbsp;&nbsp;&nbsp;&nbsp;&nbsp;&nbsp;&nbsp;statement \n",
    "<br>&nbsp;&nbsp;&nbsp;&nbsp;&nbsp;&nbsp;&nbsp;&nbsp;statement\n",
    "<br>&nbsp;&nbsp;&nbsp;&nbsp;&nbsp;&nbsp;&nbsp;&nbsp;etc.</i>\n",
    "    <br><i>finally: \n",
    "<br>&nbsp;&nbsp;&nbsp;&nbsp;&nbsp;&nbsp;&nbsp;&nbsp;statement \n",
    "<br>&nbsp;&nbsp;&nbsp;&nbsp;&nbsp;&nbsp;&nbsp;&nbsp;statement\n",
    "<br>&nbsp;&nbsp;&nbsp;&nbsp;&nbsp;&nbsp;&nbsp;&nbsp;etc.</i>\n",
    "            <li>Finally suite: block of statements after the  <i>finally</i> clause\n",
    "                <ul><li>Execute whether an exception occurs or not.</li>\n",
    "                    <li>Purpose is to perform cleanup before exiting.</li>\n",
    "                <li>Any code that is written in the finally suite will always execute, even if the try suite raises an exception.</li></ul></ul></ul>\n"
   ]
  },
  {
   "cell_type": "code",
   "execution_count": 63,
   "metadata": {},
   "outputs": [
    {
     "name": "stdout",
     "output_type": "stream",
     "text": [
      "[Errno 2] No such file or directory: 'sales_data.txt'\n",
      "Finish!!\n"
     ]
    }
   ],
   "source": [
    "def main():\n",
    " \n",
    "    total = 0.0\n",
    "    try:\n",
    "        infile = open('sales_data.txt', 'r')\n",
    "\n",
    "        for line in infile:\n",
    "            amount = float(line) \n",
    "            total += amount\n",
    "\n",
    "        infile.close() \n",
    "    \n",
    "    except Exception as err:\n",
    "        print(err) \n",
    "        \n",
    "    finally:\n",
    "        print('Finish!!')\n",
    "main()"
   ]
  }
 ],
 "metadata": {
  "kernelspec": {
   "display_name": "Python 3 (ipykernel)",
   "language": "python",
   "name": "python3"
  },
  "language_info": {
   "codemirror_mode": {
    "name": "ipython",
    "version": 3
   },
   "file_extension": ".py",
   "mimetype": "text/x-python",
   "name": "python",
   "nbconvert_exporter": "python",
   "pygments_lexer": "ipython3",
   "version": "3.11.3"
  }
 },
 "nbformat": 4,
 "nbformat_minor": 4
}
