{
 "cells": [
  {
   "cell_type": "markdown",
   "id": "03d3b1ec",
   "metadata": {},
   "source": [
    "Write a Pandas program to add, subtract, multiple and divide two Pandas Series.\n",
    "\n",
    "Sample Series: [2, 4, 6, 8, 10], [1, 3, 5, 7, 9]"
   ]
  },
  {
   "cell_type": "code",
   "execution_count": 1,
   "id": "d4fdfd9e",
   "metadata": {},
   "outputs": [],
   "source": [
    "import numpy as np\n",
    "import pandas as pd"
   ]
  },
  {
   "cell_type": "code",
   "execution_count": 2,
   "id": "fa3d820d",
   "metadata": {},
   "outputs": [
    {
     "data": {
      "text/plain": [
       "0    2.000000\n",
       "1    1.333333\n",
       "2    1.200000\n",
       "3    1.142857\n",
       "dtype: float64"
      ]
     },
     "execution_count": 2,
     "metadata": {},
     "output_type": "execute_result"
    }
   ],
   "source": [
    "d1 = pd.Series([2,4,6,8])\n",
    "d2 = pd.Series([1,3,5,7])\n",
    "\n",
    "ds = d1+d2\n",
    "\n",
    "ds = d1*d2\n",
    "\n",
    "ds = d1-d2\n",
    "\n",
    "ds = d1/d2\n",
    "ds\n",
    "\n"
   ]
  },
  {
   "cell_type": "markdown",
   "id": "c4ebf1a8",
   "metadata": {},
   "source": [
    "Write a Pandas program to convert a NumPy array to a Pandas series.\n",
    "\n",
    "\n",
    "Sample NumPy array: d1 = [10, 20, 30, 40, 50]"
   ]
  },
  {
   "cell_type": "code",
   "execution_count": 3,
   "id": "226fc4b6",
   "metadata": {},
   "outputs": [
    {
     "data": {
      "text/html": [
       "<div>\n",
       "<style scoped>\n",
       "    .dataframe tbody tr th:only-of-type {\n",
       "        vertical-align: middle;\n",
       "    }\n",
       "\n",
       "    .dataframe tbody tr th {\n",
       "        vertical-align: top;\n",
       "    }\n",
       "\n",
       "    .dataframe thead th {\n",
       "        text-align: right;\n",
       "    }\n",
       "</style>\n",
       "<table border=\"1\" class=\"dataframe\">\n",
       "  <thead>\n",
       "    <tr style=\"text-align: right;\">\n",
       "      <th></th>\n",
       "      <th>0</th>\n",
       "    </tr>\n",
       "  </thead>\n",
       "  <tbody>\n",
       "    <tr>\n",
       "      <th>0</th>\n",
       "      <td>10</td>\n",
       "    </tr>\n",
       "    <tr>\n",
       "      <th>1</th>\n",
       "      <td>20</td>\n",
       "    </tr>\n",
       "    <tr>\n",
       "      <th>2</th>\n",
       "      <td>30</td>\n",
       "    </tr>\n",
       "    <tr>\n",
       "      <th>3</th>\n",
       "      <td>40</td>\n",
       "    </tr>\n",
       "    <tr>\n",
       "      <th>4</th>\n",
       "      <td>50</td>\n",
       "    </tr>\n",
       "  </tbody>\n",
       "</table>\n",
       "</div>"
      ],
      "text/plain": [
       "    0\n",
       "0  10\n",
       "1  20\n",
       "2  30\n",
       "3  40\n",
       "4  50"
      ]
     },
     "execution_count": 3,
     "metadata": {},
     "output_type": "execute_result"
    }
   ],
   "source": [
    "d1 = [10, 20, 30, 40, 50]\n",
    "df = pd.DataFrame(d1)\n",
    "df"
   ]
  },
  {
   "cell_type": "markdown",
   "id": "5924fbba",
   "metadata": {},
   "source": [
    "Write a Pandas program to create the mean and standard deviation of the data of a given Series."
   ]
  },
  {
   "cell_type": "code",
   "execution_count": 11,
   "id": "a505974e",
   "metadata": {},
   "outputs": [
    {
     "name": "stdout",
     "output_type": "stream",
     "text": [
      "Mean is:  0    30.0\n",
      "dtype: float64\n",
      "Standard Deviation is:  0    15.811388\n",
      "dtype: float64\n"
     ]
    }
   ],
   "source": [
    "print('Mean is: ', df.mean())\n",
    "print('Standard Deviation is: ', df.std())"
   ]
  },
  {
   "cell_type": "markdown",
   "id": "bfae40a2",
   "metadata": {},
   "source": [
    "Write a Pandas program to create and display a DataFrame from a specified dictionary data which has the index labels.\n",
    "<br>\n",
    "Sample DataFrame:<br>\n",
    "exam_data = {'name': ['Anastasia', 'Dima', , 'Emily', 'Michael', 'Matthew', 'Laura', 'Kevin', 'Jonas'],<br>\n",
    "'score': [12.5, 9, 16.5, 9, 20, 14.5,8, 19],<br>\n",
    "'attempts': [1, 3, 2, 3, 2, 1, 2, 1],<br>\n",
    "'qualify': ['yes', 'no', 'yes', 'yes', 'yes', 'no', 'no', 'yes']}<br>\n",
    "labels = ['a', 'b', 'c', 'd', 'e', 'f', 'g', 'h']"
   ]
  },
  {
   "cell_type": "code",
   "execution_count": 13,
   "id": "aa0fd365",
   "metadata": {},
   "outputs": [
    {
     "data": {
      "text/html": [
       "<div>\n",
       "<style scoped>\n",
       "    .dataframe tbody tr th:only-of-type {\n",
       "        vertical-align: middle;\n",
       "    }\n",
       "\n",
       "    .dataframe tbody tr th {\n",
       "        vertical-align: top;\n",
       "    }\n",
       "\n",
       "    .dataframe thead th {\n",
       "        text-align: right;\n",
       "    }\n",
       "</style>\n",
       "<table border=\"1\" class=\"dataframe\">\n",
       "  <thead>\n",
       "    <tr style=\"text-align: right;\">\n",
       "      <th></th>\n",
       "      <th>name</th>\n",
       "      <th>score</th>\n",
       "      <th>attempts</th>\n",
       "      <th>qualify</th>\n",
       "    </tr>\n",
       "  </thead>\n",
       "  <tbody>\n",
       "    <tr>\n",
       "      <th>a</th>\n",
       "      <td>Anastasia</td>\n",
       "      <td>12.5</td>\n",
       "      <td>1</td>\n",
       "      <td>yes</td>\n",
       "    </tr>\n",
       "    <tr>\n",
       "      <th>b</th>\n",
       "      <td>Dima</td>\n",
       "      <td>9.0</td>\n",
       "      <td>3</td>\n",
       "      <td>no</td>\n",
       "    </tr>\n",
       "    <tr>\n",
       "      <th>c</th>\n",
       "      <td>Emily</td>\n",
       "      <td>16.5</td>\n",
       "      <td>2</td>\n",
       "      <td>yes</td>\n",
       "    </tr>\n",
       "    <tr>\n",
       "      <th>d</th>\n",
       "      <td>Michael</td>\n",
       "      <td>9.0</td>\n",
       "      <td>3</td>\n",
       "      <td>yes</td>\n",
       "    </tr>\n",
       "    <tr>\n",
       "      <th>e</th>\n",
       "      <td>Matthew</td>\n",
       "      <td>20.0</td>\n",
       "      <td>2</td>\n",
       "      <td>yes</td>\n",
       "    </tr>\n",
       "    <tr>\n",
       "      <th>f</th>\n",
       "      <td>Laura</td>\n",
       "      <td>14.5</td>\n",
       "      <td>1</td>\n",
       "      <td>no</td>\n",
       "    </tr>\n",
       "    <tr>\n",
       "      <th>g</th>\n",
       "      <td>Kevin</td>\n",
       "      <td>8.0</td>\n",
       "      <td>2</td>\n",
       "      <td>no</td>\n",
       "    </tr>\n",
       "    <tr>\n",
       "      <th>h</th>\n",
       "      <td>Jonas</td>\n",
       "      <td>19.0</td>\n",
       "      <td>1</td>\n",
       "      <td>yes</td>\n",
       "    </tr>\n",
       "  </tbody>\n",
       "</table>\n",
       "</div>"
      ],
      "text/plain": [
       "        name  score  attempts qualify\n",
       "a  Anastasia   12.5         1     yes\n",
       "b       Dima    9.0         3      no\n",
       "c      Emily   16.5         2     yes\n",
       "d    Michael    9.0         3     yes\n",
       "e    Matthew   20.0         2     yes\n",
       "f      Laura   14.5         1      no\n",
       "g      Kevin    8.0         2      no\n",
       "h      Jonas   19.0         1     yes"
      ]
     },
     "execution_count": 13,
     "metadata": {},
     "output_type": "execute_result"
    }
   ],
   "source": [
    "exam_data = {'name': ['Anastasia', 'Dima', 'Emily', 'Michael', 'Matthew', 'Laura', 'Kevin', 'Jonas'],       \n",
    "'score': [12.5, 9, 16.5, 9, 20, 14.5,8, 19],\n",
    "'attempts': [1, 3, 2, 3, 2, 1, 2, 1],\n",
    "'qualify': ['yes', 'no', 'yes', 'yes', 'yes', 'no', 'no', 'yes'] }\n",
    "labels = ['a', 'b', 'c', 'd', 'e', 'f', 'g', 'h']\n",
    "\n",
    "examDetails = pd.DataFrame(exam_data,index=labels)\n",
    "examDetails"
   ]
  },
  {
   "cell_type": "markdown",
   "id": "8df39a74",
   "metadata": {},
   "source": [
    "Write a Pandas program to get the first 3 rows of a given DataFrame.\n",
    "<br>\n",
    "Sample DataFrame:<br>\n",
    "exam_data = {'name': ['Anastasia', 'Dima', , 'Emily', 'Michael', 'Matthew', 'Laura', 'Kevin', 'Jonas'],<br>\n",
    "'score': [12.5, 9, 16.5, 9, 20, 14.5,8, 19],<br>\n",
    "'attempts': [1, 3, 2, 3, 2, 1, 2, 1],<br>\n",
    "'qualify': ['yes', 'no', 'yes', 'yes', 'yes', 'no', 'no', 'yes']}<br>\n",
    "labels = ['a', 'b', 'c', 'd', 'e', 'f', 'g', 'h']"
   ]
  },
  {
   "cell_type": "code",
   "execution_count": 14,
   "id": "fdcf6566",
   "metadata": {},
   "outputs": [
    {
     "data": {
      "text/html": [
       "<div>\n",
       "<style scoped>\n",
       "    .dataframe tbody tr th:only-of-type {\n",
       "        vertical-align: middle;\n",
       "    }\n",
       "\n",
       "    .dataframe tbody tr th {\n",
       "        vertical-align: top;\n",
       "    }\n",
       "\n",
       "    .dataframe thead th {\n",
       "        text-align: right;\n",
       "    }\n",
       "</style>\n",
       "<table border=\"1\" class=\"dataframe\">\n",
       "  <thead>\n",
       "    <tr style=\"text-align: right;\">\n",
       "      <th></th>\n",
       "      <th>name</th>\n",
       "      <th>score</th>\n",
       "      <th>attempts</th>\n",
       "      <th>qualify</th>\n",
       "    </tr>\n",
       "  </thead>\n",
       "  <tbody>\n",
       "    <tr>\n",
       "      <th>a</th>\n",
       "      <td>Anastasia</td>\n",
       "      <td>12.5</td>\n",
       "      <td>1</td>\n",
       "      <td>yes</td>\n",
       "    </tr>\n",
       "    <tr>\n",
       "      <th>b</th>\n",
       "      <td>Dima</td>\n",
       "      <td>9.0</td>\n",
       "      <td>3</td>\n",
       "      <td>no</td>\n",
       "    </tr>\n",
       "    <tr>\n",
       "      <th>c</th>\n",
       "      <td>Emily</td>\n",
       "      <td>16.5</td>\n",
       "      <td>2</td>\n",
       "      <td>yes</td>\n",
       "    </tr>\n",
       "  </tbody>\n",
       "</table>\n",
       "</div>"
      ],
      "text/plain": [
       "        name  score  attempts qualify\n",
       "a  Anastasia   12.5         1     yes\n",
       "b       Dima    9.0         3      no\n",
       "c      Emily   16.5         2     yes"
      ]
     },
     "execution_count": 14,
     "metadata": {},
     "output_type": "execute_result"
    }
   ],
   "source": [
    "examDetails.loc[:'c']"
   ]
  },
  {
   "cell_type": "markdown",
   "id": "b33b2951",
   "metadata": {},
   "source": [
    "Write a Pandas program to select the 'name' and 'score' columns from the following DataFrame.\n",
    "<br>\n",
    "Sample DataFrame:<br>\n",
    "exam_data = {'name': ['Anastasia', 'Dima', , 'Emily', 'Michael', 'Matthew', 'Laura', 'Kevin', 'Jonas'],<br>\n",
    "'score': [12.5, 9, 16.5, 9, 20, 14.5,8, 19],<br>\n",
    "'attempts': [1, 3, 2, 3, 2, 1, 2, 1],<br>\n",
    "'qualify': ['yes', 'no', 'yes', 'yes', 'yes', 'no', 'no', 'yes']}<br>\n",
    "labels = ['a', 'b', 'c', 'd', 'e', 'f', 'g', 'h']"
   ]
  },
  {
   "cell_type": "code",
   "execution_count": 15,
   "id": "29b507e2",
   "metadata": {},
   "outputs": [
    {
     "data": {
      "text/html": [
       "<div>\n",
       "<style scoped>\n",
       "    .dataframe tbody tr th:only-of-type {\n",
       "        vertical-align: middle;\n",
       "    }\n",
       "\n",
       "    .dataframe tbody tr th {\n",
       "        vertical-align: top;\n",
       "    }\n",
       "\n",
       "    .dataframe thead th {\n",
       "        text-align: right;\n",
       "    }\n",
       "</style>\n",
       "<table border=\"1\" class=\"dataframe\">\n",
       "  <thead>\n",
       "    <tr style=\"text-align: right;\">\n",
       "      <th></th>\n",
       "      <th>name</th>\n",
       "      <th>score</th>\n",
       "    </tr>\n",
       "  </thead>\n",
       "  <tbody>\n",
       "    <tr>\n",
       "      <th>a</th>\n",
       "      <td>Anastasia</td>\n",
       "      <td>12.5</td>\n",
       "    </tr>\n",
       "    <tr>\n",
       "      <th>b</th>\n",
       "      <td>Dima</td>\n",
       "      <td>9.0</td>\n",
       "    </tr>\n",
       "    <tr>\n",
       "      <th>c</th>\n",
       "      <td>Emily</td>\n",
       "      <td>16.5</td>\n",
       "    </tr>\n",
       "    <tr>\n",
       "      <th>d</th>\n",
       "      <td>Michael</td>\n",
       "      <td>9.0</td>\n",
       "    </tr>\n",
       "    <tr>\n",
       "      <th>e</th>\n",
       "      <td>Matthew</td>\n",
       "      <td>20.0</td>\n",
       "    </tr>\n",
       "    <tr>\n",
       "      <th>f</th>\n",
       "      <td>Laura</td>\n",
       "      <td>14.5</td>\n",
       "    </tr>\n",
       "    <tr>\n",
       "      <th>g</th>\n",
       "      <td>Kevin</td>\n",
       "      <td>8.0</td>\n",
       "    </tr>\n",
       "    <tr>\n",
       "      <th>h</th>\n",
       "      <td>Jonas</td>\n",
       "      <td>19.0</td>\n",
       "    </tr>\n",
       "  </tbody>\n",
       "</table>\n",
       "</div>"
      ],
      "text/plain": [
       "        name  score\n",
       "a  Anastasia   12.5\n",
       "b       Dima    9.0\n",
       "c      Emily   16.5\n",
       "d    Michael    9.0\n",
       "e    Matthew   20.0\n",
       "f      Laura   14.5\n",
       "g      Kevin    8.0\n",
       "h      Jonas   19.0"
      ]
     },
     "execution_count": 15,
     "metadata": {},
     "output_type": "execute_result"
    }
   ],
   "source": [
    "update = pd.DataFrame(exam_data,index=labels)\n",
    "update[['name','score']]"
   ]
  },
  {
   "cell_type": "markdown",
   "id": "34d30ccd",
   "metadata": {},
   "source": [
    "Write a Pandas program to select the rows where the number of attempts in the examination is greater than 2.\n",
    "Sample DataFrame:<br>\n",
    "exam_data = {'name': ['Anastasia', 'Dima', , 'Emily', 'Michael', 'Matthew', 'Laura', 'Kevin', 'Jonas'],<br>\n",
    "'score': [12.5, 9, 16.5, 9, 20, 14.5,8, 19],<br>\n",
    "'attempts': [1, 3, 2, 3, 2, 1, 2, 1],<br>\n",
    "'qualify': ['yes', 'no', 'yes', 'yes', 'yes', 'no', 'no', 'yes']}<br>\n",
    "labels = ['a', 'b', 'c', 'd', 'e', 'f', 'g', 'h']"
   ]
  },
  {
   "cell_type": "code",
   "execution_count": 26,
   "id": "6b724b54",
   "metadata": {},
   "outputs": [
    {
     "data": {
      "text/html": [
       "<div>\n",
       "<style scoped>\n",
       "    .dataframe tbody tr th:only-of-type {\n",
       "        vertical-align: middle;\n",
       "    }\n",
       "\n",
       "    .dataframe tbody tr th {\n",
       "        vertical-align: top;\n",
       "    }\n",
       "\n",
       "    .dataframe thead th {\n",
       "        text-align: right;\n",
       "    }\n",
       "</style>\n",
       "<table border=\"1\" class=\"dataframe\">\n",
       "  <thead>\n",
       "    <tr style=\"text-align: right;\">\n",
       "      <th></th>\n",
       "      <th>name</th>\n",
       "      <th>score</th>\n",
       "      <th>attempts</th>\n",
       "      <th>qualify</th>\n",
       "    </tr>\n",
       "  </thead>\n",
       "  <tbody>\n",
       "    <tr>\n",
       "      <th>b</th>\n",
       "      <td>Dima</td>\n",
       "      <td>9.0</td>\n",
       "      <td>3</td>\n",
       "      <td>no</td>\n",
       "    </tr>\n",
       "    <tr>\n",
       "      <th>d</th>\n",
       "      <td>Michael</td>\n",
       "      <td>9.0</td>\n",
       "      <td>3</td>\n",
       "      <td>yes</td>\n",
       "    </tr>\n",
       "  </tbody>\n",
       "</table>\n",
       "</div>"
      ],
      "text/plain": [
       "      name  score  attempts qualify\n",
       "b     Dima    9.0         3      no\n",
       "d  Michael    9.0         3     yes"
      ]
     },
     "execution_count": 26,
     "metadata": {},
     "output_type": "execute_result"
    }
   ],
   "source": [
    "f_attempt = examDetails.attempts > 2\n",
    "examDetails.loc[f_attempt,]"
   ]
  },
  {
   "cell_type": "markdown",
   "id": "f08568e5",
   "metadata": {},
   "source": [
    "Write a Pandas program to join the two given dataframes along rows and assign all data."
   ]
  },
  {
   "cell_type": "code",
   "execution_count": 27,
   "id": "28723184",
   "metadata": {},
   "outputs": [
    {
     "data": {
      "text/plain": [
       "[10, 20, 30, 40, 50]"
      ]
     },
     "execution_count": 27,
     "metadata": {},
     "output_type": "execute_result"
    }
   ],
   "source": []
  },
  {
   "cell_type": "markdown",
   "id": "1721c0b5",
   "metadata": {},
   "source": [
    "Write a Pandas program to join the two dataframes using the common column of both dataframes."
   ]
  },
  {
   "cell_type": "code",
   "execution_count": null,
   "id": "fd5c1c10",
   "metadata": {},
   "outputs": [],
   "source": []
  },
  {
   "cell_type": "markdown",
   "id": "f25d243c",
   "metadata": {},
   "source": [
    "Write a Pandas program to sort the data frame first by 'name' in descending order, then by 'score' in ascending order.\n"
   ]
  },
  {
   "cell_type": "code",
   "execution_count": null,
   "id": "f40726ea",
   "metadata": {},
   "outputs": [],
   "source": []
  },
  {
   "cell_type": "markdown",
   "id": "4ae6e7e9",
   "metadata": {},
   "source": [
    "Write a Pandas program to split the following dataframe by school code and get mean, min, and max value of age for each school."
   ]
  },
  {
   "cell_type": "code",
   "execution_count": null,
   "id": "abe015da",
   "metadata": {},
   "outputs": [],
   "source": []
  },
  {
   "cell_type": "markdown",
   "id": "9e567b34",
   "metadata": {},
   "source": [
    "Write a Pandas program to split the following given dataframe into groups based on single column and multiple columns. Find the size of the grouped data."
   ]
  },
  {
   "cell_type": "code",
   "execution_count": null,
   "id": "4e970e12",
   "metadata": {},
   "outputs": [],
   "source": []
  }
 ],
 "metadata": {
  "kernelspec": {
   "display_name": "Python 3",
   "language": "python",
   "name": "python3"
  },
  "language_info": {
   "codemirror_mode": {
    "name": "ipython",
    "version": 3
   },
   "file_extension": ".py",
   "mimetype": "text/x-python",
   "name": "python",
   "nbconvert_exporter": "python",
   "pygments_lexer": "ipython3",
   "version": "3.11.2"
  }
 },
 "nbformat": 4,
 "nbformat_minor": 5
}
