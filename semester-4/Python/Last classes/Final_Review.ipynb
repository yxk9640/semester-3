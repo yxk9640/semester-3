{
 "cells": [
  {
   "cell_type": "markdown",
   "metadata": {},
   "source": [
    "What is the output of the code?"
   ]
  },
  {
   "cell_type": "code",
   "execution_count": null,
   "metadata": {},
   "outputs": [],
   "source": [
    "X = 10\n",
    "def my_fun():\n",
    "    global X\n",
    "    print('X is: ', X)\n",
    "    X = 8\n",
    "\n",
    "my_fun()\n",
    "print('Value of X is: ', X)"
   ]
  },
  {
   "cell_type": "code",
   "execution_count": null,
   "metadata": {},
   "outputs": [],
   "source": [
    "\n",
    "def func(val1, val2=2, val3=7, val4=1):\n",
    "    return val1*val2*val3\n",
    "\n",
    "print(func(val2=3, val1=2, val3=4))\n"
   ]
  },
  {
   "cell_type": "markdown",
   "metadata": {},
   "source": [
    "What is the output of this code?"
   ]
  },
  {
   "cell_type": "code",
   "execution_count": null,
   "metadata": {},
   "outputs": [],
   "source": [
    "list1 = [1, 2, 3]\n",
    "list2 = list1\n",
    "list3 = list1.copy()\n",
    "list1[0] = 7\n",
    "print(list1, list2, list3)"
   ]
  },
  {
   "cell_type": "markdown",
   "metadata": {},
   "source": [
    "What is the output of this code?"
   ]
  },
  {
   "cell_type": "code",
   "execution_count": null,
   "metadata": {},
   "outputs": [],
   "source": [
    "l1 = [1, [2, 3], [4,3,1]]\n",
    "l2 = l1.copy()\n",
    "l2[2][0]=7\n",
    "print(l1, l2)"
   ]
  },
  {
   "cell_type": "markdown",
   "metadata": {},
   "source": [
    "In this list, how will you access the letter ‘t’ in ‘bat’?"
   ]
  },
  {
   "cell_type": "code",
   "execution_count": null,
   "metadata": {},
   "outputs": [],
   "source": [
    "my_list = [7, ['A', 'B', ['ball', 'bat', 'cup'], 'C'], 5]\n",
    "my_list[1][2][1][2]"
   ]
  },
  {
   "cell_type": "code",
   "execution_count": null,
   "metadata": {},
   "outputs": [],
   "source": [
    "a = (1, 2, 7, 8) \n",
    "a = a[:2] +(3, 4, 5, 6) + a[2:]\n",
    "a"
   ]
  },
  {
   "cell_type": "code",
   "execution_count": null,
   "metadata": {},
   "outputs": [],
   "source": [
    "scores = {'Alex': 87, 'Alper': 88, 'Megan':96}\n",
    "\n",
    "if scores['Alex'] > 87:\n",
    "        print(\"Scholar\")\n",
    "elif scores['Alper'] > 89:\n",
    "        print(\"Topper\")\n",
    "elif scores['Megan'] > 87:\n",
    "        print(\"Teacher\")\n",
    "else: print(\"Nobody topped\")\n",
    "    \n",
    "    "
   ]
  },
  {
   "cell_type": "code",
   "execution_count": null,
   "metadata": {},
   "outputs": [],
   "source": [
    "list1 = ['a','b','c']\n",
    "list1 += 'de'\n",
    "list1"
   ]
  },
  {
   "cell_type": "code",
   "execution_count": null,
   "metadata": {},
   "outputs": [],
   "source": [
    "examp = 'acf'\n",
    "examp += 'de'\n",
    "examp"
   ]
  },
  {
   "cell_type": "code",
   "execution_count": null,
   "metadata": {},
   "outputs": [],
   "source": [
    "\n",
    "a=2\n",
    "def func(a):\n",
    "    return a**2\n",
    "\n",
    "a = func(a)**2\n",
    "print(func(a))\n"
   ]
  },
  {
   "cell_type": "code",
   "execution_count": null,
   "metadata": {},
   "outputs": [],
   "source": [
    "class A:\n",
    "    def my_fun1(self):\n",
    "        return self.my_fun2()\n",
    "    \n",
    "    def two(self):\n",
    "        return 'A'\n",
    "    \n",
    "class B(A):\n",
    "    def two(self):\n",
    "        return 'B'\n",
    "    \n",
    "obj = B()\n",
    "print(obj.two())"
   ]
  },
  {
   "cell_type": "code",
   "execution_count": null,
   "metadata": {},
   "outputs": [],
   "source": [
    "class test():\n",
    "    def __init__(self,a='A',b):\n",
    "        self.a = a\n",
    "        \n",
    "    def display(self):\n",
    "        print(self.b)\n",
    "        \n",
    "obj = test()\n",
    "obj.display()\n",
    "\n"
   ]
  },
  {
   "cell_type": "code",
   "execution_count": null,
   "metadata": {},
   "outputs": [],
   "source": [
    "def my_fun(var):\n",
    "    var = var +1 \n",
    "    print(\"the value of the varibale inside the function is \", var)\n",
    "    return var\n",
    "\n",
    "a = 100\n",
    "my_fun(a)\n",
    "print(\"the value of the varibale outside the function is \", a)\n",
    "\n",
    "\n",
    "\n",
    "\n"
   ]
  },
  {
   "cell_type": "code",
   "execution_count": null,
   "metadata": {},
   "outputs": [],
   "source": [
    "class People():\n",
    "\n",
    "    def __init__(self, name):\n",
    "        self.name = name\n",
    "\n",
    "    def namePrint(self):\n",
    "        print(\"Name: \" + self.name)\n",
    "\n",
    "person1 = People(\"Sara\")\n",
    "person2 = People(\"Alex\")\n",
    "person1.namePrint()"
   ]
  },
  {
   "cell_type": "code",
   "execution_count": null,
   "metadata": {},
   "outputs": [],
   "source": [
    "class Test:\n",
    "    def __init__(self):\n",
    "        self.x = 0\n",
    "class Derived_Test(Test):\n",
    "    def __init__(self):\n",
    "        self.y = 1\n",
    "def main():\n",
    "    b = Derived_Test()\n",
    "    print(b.x,b.y)\n",
    "main()\n"
   ]
  },
  {
   "cell_type": "code",
   "execution_count": null,
   "metadata": {},
   "outputs": [],
   "source": [
    "def main():\n",
    "    first_name = 'Sara'\n",
    "    last_name = 'Gaddis'\n",
    "    name1, name2 = get_name(last_name,first_name)\n",
    "    print(name1,name2)\n",
    "    \n",
    "def get_name(first,last):\n",
    "    return first, last\n",
    "\n",
    "main()"
   ]
  },
  {
   "cell_type": "code",
   "execution_count": null,
   "metadata": {},
   "outputs": [],
   "source": [
    "def my_fun(num1,num2,num3,num4):\n",
    "    return (num1+num2)*(num3+num4)\n",
    "\n",
    "var = my_fun(2,3,1)\n",
    "print(var)"
   ]
  },
  {
   "cell_type": "code",
   "execution_count": null,
   "metadata": {},
   "outputs": [],
   "source": [
    "\n",
    "set1 = set(['d','e','f','g'])\n",
    "set2 = set(['a','b','c','d','e'])\n",
    "set1.intersection(set2)"
   ]
  },
  {
   "cell_type": "code",
   "execution_count": null,
   "metadata": {},
   "outputs": [],
   "source": [
    "\n",
    "dct = {'AD':[1,2], 'AB':([6,7],[3,4]), 'AC':[8,9,[1,3,2]]}\n",
    "print(dct['AC'][2][1])"
   ]
  },
  {
   "cell_type": "code",
   "execution_count": null,
   "metadata": {},
   "outputs": [],
   "source": [
    "string = 'Two Million Cent and Seventy Cents'\n",
    "new_string = string.replace('Cents','Dollars')\n",
    "print(new_string)"
   ]
  },
  {
   "cell_type": "code",
   "execution_count": null,
   "metadata": {},
   "outputs": [],
   "source": [
    "a = 7 \n",
    "b = 4 \n",
    "c = 13\n",
    "d = 2\n",
    "not(a < b or c > a) and (b < c and a>d)"
   ]
  },
  {
   "cell_type": "code",
   "execution_count": null,
   "metadata": {},
   "outputs": [],
   "source": [
    "\n",
    "def main():\n",
    "    height = 189\n",
    "    Height= get_height()\n",
    "    print('My height is',height)\n",
    "    \n",
    "def get_height():\n",
    "    Height = 198\n",
    "    Height = 179\n",
    "    return Height\n",
    "    \n",
    "main()"
   ]
  },
  {
   "cell_type": "code",
   "execution_count": null,
   "metadata": {},
   "outputs": [],
   "source": [
    "for name1 in ['Sara','Alex','John']:\n",
    "    for name2 in ['Peter','Karen']:\n",
    "        print(name1, name2)"
   ]
  },
  {
   "cell_type": "code",
   "execution_count": null,
   "metadata": {},
   "outputs": [],
   "source": [
    "def test(n):\n",
    "    if n in range(8,31):\n",
    "        return n+20\n",
    "    else:\n",
    "        status = True\n",
    "    return status\n",
    "\n",
    "var = test(31)\n",
    "print(var)\n"
   ]
  },
  {
   "cell_type": "code",
   "execution_count": null,
   "metadata": {},
   "outputs": [],
   "source": [
    "def function1( x, y ):\n",
    "    if x <= y:\n",
    "        return x+y\n",
    "    return x-y\n",
    "def function2( x, y, z ):\n",
    "    return function1(x,y)-10\n",
    "\n",
    "print(function2(5, 1, 10))"
   ]
  },
  {
   "cell_type": "code",
   "execution_count": null,
   "metadata": {},
   "outputs": [],
   "source": [
    "val1 = ['one', 'two', 'three'] \n",
    "val2 = tuple(val1) + (2,)\n",
    "print(val2)\n"
   ]
  },
  {
   "cell_type": "code",
   "execution_count": null,
   "metadata": {},
   "outputs": [],
   "source": [
    "\n",
    "city1 = 'New York' \n",
    "size1 = len(city1)\n",
    "\n",
    "city2 = 'Chicago'\n",
    "size2 = len(city2)\n",
    "\n",
    "\n",
    "if size1 <= size2:\n",
    "    print(size1-size2)\n",
    "else:\n",
    "    print(size1+size2)\n",
    "    \n",
    "    "
   ]
  },
  {
   "cell_type": "code",
   "execution_count": null,
   "metadata": {},
   "outputs": [],
   "source": [
    "friend = 'Bill'\n",
    "friend[1]='A'\n",
    "friend"
   ]
  },
  {
   "cell_type": "code",
   "execution_count": null,
   "metadata": {},
   "outputs": [],
   "source": [
    "class Art:\n",
    "    def __init__(self, art_type):\n",
    "        self.__art_type = art_type \n",
    "    def message(self):\n",
    "        print(\"I'm a piece of art.\") \n",
    "        \n",
    "class Painting(Art):\n",
    "    def __init__(self,color): \n",
    "        Art.__init__(self, 'music')\n",
    "        self.__color = color\n",
    "    def message(self):\n",
    "        print(self.__color) \n",
    "        \n",
    "paint = Painting('Blue')\n",
    "art = Art('Music')\n",
    "art.message()\n",
    "paint.message()"
   ]
  },
  {
   "cell_type": "markdown",
   "metadata": {},
   "source": [
    "What is a correct syntax to return the first value of a Pandas Series?"
   ]
  },
  {
   "cell_type": "code",
   "execution_count": null,
   "metadata": {},
   "outputs": [],
   "source": [
    "import pandas as pd\n",
    "import numpy as np"
   ]
  },
  {
   "cell_type": "code",
   "execution_count": null,
   "metadata": {},
   "outputs": [],
   "source": [
    "get(my_series,0)\n",
    "my_series[0]\n",
    "my_series.get(0)"
   ]
  },
  {
   "cell_type": "markdown",
   "metadata": {},
   "source": [
    "What is a correct syntax to create a Pandas DataFrame?"
   ]
  },
  {
   "cell_type": "code",
   "execution_count": null,
   "metadata": {},
   "outputs": [],
   "source": [
    "pd.dataframe(data)\n",
    "pd.DataFrame(data)\n",
    "pd.df(data)"
   ]
  },
  {
   "cell_type": "markdown",
   "metadata": {},
   "source": [
    "What is a correct syntax to return the first row in a Pandas DataFrame?"
   ]
  },
  {
   "cell_type": "code",
   "execution_count": null,
   "metadata": {},
   "outputs": [],
   "source": [
    "df[0]\n",
    "df.iloc[0]\n",
    "df.get(0)"
   ]
  },
  {
   "cell_type": "markdown",
   "metadata": {},
   "source": [
    "What is the correct Pandas function for loading CSV files into a DataFrame?"
   ]
  },
  {
   "cell_type": "code",
   "execution_count": null,
   "metadata": {},
   "outputs": [],
   "source": [
    "read_csv()\n",
    "ReadCSV()\n",
    "read_file()\n",
    "ReadFile()"
   ]
  },
  {
   "cell_type": "markdown",
   "metadata": {},
   "source": [
    "Which of the following arrays is a two dimensional (2-D) array?"
   ]
  },
  {
   "cell_type": "code",
   "execution_count": null,
   "metadata": {},
   "outputs": [],
   "source": [
    "[[1,2,3],[4,5,6]]\n",
    "[1,2,3]\n",
    "42"
   ]
  },
  {
   "cell_type": "markdown",
   "metadata": {},
   "source": [
    "What is a correct syntax to print the number 8 from the array below:\n",
    "\n",
    "arr = np.array([[1,2,3,4,5], [6,7,8,9,10]])"
   ]
  },
  {
   "cell_type": "code",
   "execution_count": null,
   "metadata": {},
   "outputs": [],
   "source": [
    "print(arr[3,0])\n",
    "print(arr[1,2])\n",
    "print(arr[7,2])"
   ]
  },
  {
   "cell_type": "markdown",
   "metadata": {},
   "source": [
    "What is a correct syntax to print the numbers [3, 4, 5] from the array below:\n",
    "\n",
    "arr = np.array([1,2,3,4,5,6,7])"
   ]
  },
  {
   "cell_type": "code",
   "execution_count": null,
   "metadata": {},
   "outputs": [],
   "source": [
    "import numpy as np\n",
    "arr = np.array([1,2,3,4,5,6,7])\n",
    "print(arr[2:5])"
   ]
  },
  {
   "cell_type": "code",
   "execution_count": null,
   "metadata": {},
   "outputs": [],
   "source": [
    "np.array([range(i, i + 3) for i in [2, 4, 6]])"
   ]
  },
  {
   "cell_type": "code",
   "execution_count": null,
   "metadata": {},
   "outputs": [],
   "source": [
    "another_array = np.array([[12,  5,  2,  4],\n",
    "                          [ 7,  6,  8,  8],\n",
    "                          [ 1,  6,  7,  7]])\n",
    "another_array[1:2,:].shape"
   ]
  },
  {
   "cell_type": "code",
   "execution_count": null,
   "metadata": {},
   "outputs": [],
   "source": [
    "exp_array = np.array([[12,  5,  2,  4],\n",
    "                      [ 7,  6,  8,  8],\n",
    "                      [ 1,  6,  7,  7]])\n",
    "\n",
    "filter_array = exp_array >7\n",
    "filter_array.any() "
   ]
  },
  {
   "cell_type": "code",
   "execution_count": null,
   "metadata": {},
   "outputs": [],
   "source": [
    "exp_array = np.array([[12,  5,  2,  4],\n",
    "                      [ 7,  6,  8,  8],\n",
    "                      [ 1,  6,  7,  7]])\n",
    "\n",
    "filter_array = (exp_array<5) & (exp_array>2)\n",
    "print(exp_array[filter_array])"
   ]
  },
  {
   "cell_type": "code",
   "execution_count": null,
   "metadata": {},
   "outputs": [],
   "source": [
    "Which syntax would print every other item from the array below:\n",
    "\n",
    "arr = np.array([1,2,3,4,5,6,7])"
   ]
  },
  {
   "cell_type": "code",
   "execution_count": null,
   "metadata": {},
   "outputs": [],
   "source": [
    "print(arr[::2])"
   ]
  },
  {
   "cell_type": "code",
   "execution_count": null,
   "metadata": {},
   "outputs": [],
   "source": [
    "a_matrix = np.ones((3,3))\n",
    "print(a_matrix)\n",
    "an_array = np.array([[0,11],[1,22],[2,33]])  \n",
    "a_matrix + an_array"
   ]
  },
  {
   "cell_type": "code",
   "execution_count": null,
   "metadata": {},
   "outputs": [],
   "source": [
    "B = np.array([[0,11],[1,22],[2,33]]) \n",
    "print(B.sum(axis = 0))"
   ]
  },
  {
   "cell_type": "code",
   "execution_count": null,
   "metadata": {},
   "outputs": [],
   "source": [
    "an_array = np.random.randint(1,10,(4, 5))\n",
    "print(an_array)\n",
    "sum_result = an_array.sum(axis = 1, keepdims=True)\n",
    "print(sum_result)\n",
    "print(sum_result.shape)"
   ]
  },
  {
   "cell_type": "code",
   "execution_count": null,
   "metadata": {},
   "outputs": [],
   "source": [
    "names = np.array(['Jhon','Ali','Miria'])\n",
    "ages = np.array([18,22,11])\n",
    "sorted_index = ages.argsort()[::-1]\n",
    "print(names[sorted_index])"
   ]
  },
  {
   "cell_type": "markdown",
   "metadata": {},
   "source": [
    "In NumPy, what does the SHAPE of an array mean?<br>\n",
    "The shape is the number of elements in each dimension<br>\n",
    "the sahpe is the number of columns<br>\n",
    "the shape is the number of rows"
   ]
  },
  {
   "cell_type": "code",
   "execution_count": null,
   "metadata": {},
   "outputs": [],
   "source": [
    "What will be output for the following code?\n",
    "import pandas as pd\n",
    "s = pd.Series([1,2,3,4,5],index = ['a','b','c','d','e'])\n",
    "print(s['a'])\n"
   ]
  },
  {
   "cell_type": "code",
   "execution_count": null,
   "metadata": {},
   "outputs": [],
   "source": [
    "import pandas as pd\n",
    "import numpy as np\n",
    "s = pd.Series(np.random.randn(2))\n",
    "print(s.size)"
   ]
  },
  {
   "cell_type": "markdown",
   "metadata": {},
   "source": [
    "To extract the first three rows and three columns of a dataframe:"
   ]
  },
  {
   "cell_type": "code",
   "execution_count": null,
   "metadata": {},
   "outputs": [],
   "source": [
    "df=[[1,2,3,14,15],[4,5,6,17,18],[11,12,13,14,20],[21,22,23,24,25]]\n",
    "df3=pd.DataFrame(df)\n",
    "df3.iloc[0:3,0:3]"
   ]
  },
  {
   "cell_type": "markdown",
   "metadata": {},
   "source": [
    "What will be output of given code?"
   ]
  },
  {
   "cell_type": "code",
   "execution_count": null,
   "metadata": {},
   "outputs": [],
   "source": [
    "df = pd.DataFrame({'c1':[12,34,45],'c2':[32,21,44],'c3':[74,41,20]})\n",
    "print(df)\n",
    "print(df.index)"
   ]
  },
  {
   "cell_type": "markdown",
   "metadata": {},
   "source": [
    "The following code produces which DataFrame?"
   ]
  },
  {
   "cell_type": "code",
   "execution_count": null,
   "metadata": {},
   "outputs": [],
   "source": [
    "df=pd.DataFrame({\"a\" : [4 ,5, 6],\n",
    "              \"b\" : [7, 8, 9],\n",
    "              \"c\" : [10, 11, 12]})\n",
    "df"
   ]
  },
  {
   "cell_type": "markdown",
   "metadata": {},
   "source": [
    "\ta\tb\tc\n",
    "0\t4\t7\t10\n",
    "1\t5\t8\t11\n",
    "2\t6\t9\t12\n",
    "\n",
    "\n",
    "    0\t1\t2\n",
    "a\t4\t5\t6\n",
    "b\t7\t8\t9\n",
    "c\t10\t11\t12\n",
    "\n",
    "\n",
    "    a\tb\tc\n",
    "0\t4\t5\t6\n",
    "1\t7\t8\t9\n",
    "2\t10\t11\t12\n",
    "\n",
    "\n",
    "    a\tb\tc\n",
    "a\t4\t7\t10\n",
    "b\t5\t8\t11\n",
    "c\t6\t9\t12"
   ]
  },
  {
   "cell_type": "code",
   "execution_count": null,
   "metadata": {},
   "outputs": [],
   "source": [
    "import numpy as np\n",
    "a = np.array([1,2,3,5,8])\n",
    "b = np.array([0,3,4,2,1])\n",
    "c = a + b\n",
    "print (c)\n",
    "c = c*a\n",
    "print (c[2])"
   ]
  },
  {
   "cell_type": "code",
   "execution_count": null,
   "metadata": {},
   "outputs": [],
   "source": [
    "import numpy as np\n",
    "ary = np.array([1,2,3,5,8])\n",
    "ary = ary + 1\n",
    "print (ary[1])"
   ]
  },
  {
   "cell_type": "code",
   "execution_count": null,
   "metadata": {},
   "outputs": [],
   "source": [
    "import numpy as np\n",
    "a = np.array([[1,2,3],[0,1,4]])\n",
    "b = np.zeros((2,3))\n",
    "c = np.ones((2,3))\n",
    "d = a + b + c\n",
    "print (d[1,2] )"
   ]
  },
  {
   "cell_type": "code",
   "execution_count": null,
   "metadata": {},
   "outputs": [],
   "source": [
    "a_list = [{'a':10,'b':15},{'b':18,'c':11,'d':5}]\n",
    "a_DataFrame = pd.DataFrame(a_list)\n",
    "a_DataFrame"
   ]
  },
  {
   "cell_type": "code",
   "execution_count": null,
   "metadata": {},
   "outputs": [],
   "source": [
    "df1 = pd.DataFrame([['A00', 'A01'],['A10','A11']], \n",
    "                   columns = ['A0','A1'], \n",
    "                   index = [0,1]) \n",
    "\n",
    "df2 = pd.DataFrame([['A20', 'A21'],['A30','A31']], \n",
    "                   columns = ['A0','A1'], \n",
    "                   index = [0,1]) \n",
    "\n",
    "pd.concat([df1,df2],axis =1, ignore_index=True)    "
   ]
  },
  {
   "cell_type": "code",
   "execution_count": null,
   "metadata": {},
   "outputs": [],
   "source": [
    "df = pd.DataFrame([['A', 'F', 10, 15],\n",
    "                   ['A', 'M', 11, 18],\n",
    "                   ['B', 'F', 15, 22],\n",
    "                   ['B', 'F', 17, 33],\n",
    "                   ['A', 'M', 14, 22],\n",
    "                   ['B', 'M', 17, 28]],\n",
    "                  columns=['C1', 'C2', 'C3','C4'])\n",
    "\n",
    "df.groupby('C2').size()"
   ]
  },
  {
   "cell_type": "code",
   "execution_count": null,
   "metadata": {},
   "outputs": [],
   "source": [
    "df.groupby(['C1','C2']).mean()['C3'][2]"
   ]
  },
  {
   "cell_type": "code",
   "execution_count": null,
   "metadata": {},
   "outputs": [],
   "source": [
    "import pandas as pd\n",
    "\n",
    "exam_data  = {'name': ['Anastasia', 'Dima', 'Emily', 'Michael', 'Matthew'],\n",
    "        'score': [12.5, 9, 16.5, 9, 20],\n",
    "        'attempts': [1, 3, 2, 3, 2]}\n",
    "labels = ['a', 'b', 'c', 'd', 'e']\n",
    "\n",
    "df = pd.DataFrame(exam_data , index=labels)\n",
    "\n",
    "print(df[df['attempts'] > 2])"
   ]
  },
  {
   "cell_type": "code",
   "execution_count": null,
   "metadata": {},
   "outputs": [],
   "source": [
    "import pandas as pd\n",
    "student_data1 = pd.DataFrame({\n",
    "        'student_id': ['S1', 'S4', 'S5'],\n",
    "         'name': ['Danniella Fenton', 'Ed Bernal', 'Kwame Morin'], \n",
    "        'marks': [200, 210, 190]})\n",
    "\n",
    "student_data2 = pd.DataFrame({\n",
    "        'student_id': ['S4', 'S5', 'S8'],\n",
    "        'name': ['Scarlette Fisher', 'Carla Williamson', 'Madeeha Preston'], \n",
    "        'marks': [201, 200, 198]})\n",
    "\n",
    "\n",
    "merged_data = pd.merge(student_data1, student_data2, on='student_id', how='inner')\n",
    "print(merged_data)"
   ]
  },
  {
   "cell_type": "code",
   "execution_count": null,
   "metadata": {},
   "outputs": [],
   "source": [
    "import pandas as pd\n",
    "\n",
    "exam_data  = {'name': ['Michael', 'Matthew', 'Laura', 'Kevin', 'Jonas'],\n",
    "        'score': [12.5, 9, 16.5, 19,11],\n",
    "        'attempts': [1, 3, 2, 3, 2],\n",
    "        'qualify': ['yes', 'yes', 'no', 'no', 'yes']}\n",
    "labels = ['a', 'b', 'c', 'd', 'e']\n",
    "\n",
    "df = pd.DataFrame(exam_data , index=labels)\n",
    "grouped_single_min = df.groupby('qualify').min()['score'][0]\n",
    "print(grouped_single_min)"
   ]
  },
  {
   "cell_type": "markdown",
   "metadata": {},
   "source": [
    "Which of the following code snippets creates and connects to a new SQLite Database?"
   ]
  },
  {
   "cell_type": "code",
   "execution_count": null,
   "metadata": {},
   "outputs": [],
   "source": [
    "import sql\n",
    "connection = sql.connect(\"test_database.db\")\n",
    "\n",
    "import sqlite3\n",
    "connection = sqlite3.create(\"test_database.db\")\n",
    "\n",
    "from sqlite3 import Connection\n",
    "connection = Connection(\"test_database.db\")\n",
    "\n",
    "import sqlite3\n",
    "connection = sqlite3.connect(\"test_database.db\")"
   ]
  },
  {
   "cell_type": "markdown",
   "metadata": {},
   "source": [
    "Suppose you have a SQLite database called “people.db” with the following table named People:\n",
    "\n",
    "What is the type of the results variable in the following code snippet?"
   ]
  },
  {
   "cell_type": "code",
   "execution_count": null,
   "metadata": {},
   "outputs": [],
   "source": [
    "import sqlite3\n",
    "\n",
    "connection = sqlite3.connection(\"people.db\")\n",
    "cursor = connection.cursor()\n",
    "cursor.execute(\"SELECT * FROM People\")\n",
    "results = cursor.fetchall()"
   ]
  },
  {
   "cell_type": "code",
   "execution_count": null,
   "metadata": {},
   "outputs": [],
   "source": [
    "import sqlite3\n",
    "conn = sqlite3.connect('chocolate.db')\n",
    "cur = conn.cursor()\n",
    "cur.execute('DROP TABLE Products')\n",
    "cur.execute('''CREATE TABLE Products (Description, UnitCost)''')\n",
    "\n",
    "\n",
    "cur.execute('''INSERT INTO Products (Description, UnitCost)\n",
    "                    VALUES(\"Dark Chocolate Bar\",0.99)''')\n",
    "cur.execute('''INSERT INTO Products (Description, UnitCost)\n",
    "                    VALUES(\"Medium Dark Chocolate\",2.99)''')\n",
    "cur.execute('''INSERT INTO Products (Description, UnitCost)\n",
    "                    VALUES(\"Milk Chocolate\",2)''')\n",
    "cur.execute('''INSERT INTO Products (Description, UnitCost)\n",
    "                    VALUES(\"Chocolate Truffles\",5.99)''')\n",
    "cur.execute('''INSERT INTO Products (Description, UnitCost)\n",
    "                    VALUES(\"Chocolate Caramel Bar\",3.99)''')\n",
    "cur.execute('''INSERT INTO Products (Description, UnitCost)\n",
    "                    VALUES(\"Chocolate Rasberry Bar\",3.99)''')\n",
    "conn.commit()\n",
    "cur.execute('''SELECT * FROM Products WHERE Description LIKE \"chocolate%\"''')\n",
    "\n",
    "results= cur.fetchall()\n",
    "results"
   ]
  },
  {
   "cell_type": "code",
   "execution_count": null,
   "metadata": {},
   "outputs": [],
   "source": [
    "import sqlite3\n",
    "\n",
    "def main():\n",
    "    conn = sqlite3.connect('chocolate.db')\n",
    "    cur = conn.cursor()\n",
    "    cur.execute('''SELECT Description, UnitCost FROM Products where UnitCost>4''')\n",
    "    \n",
    "    results = cur.fetchall()\n",
    "    \n",
    "    for row in results:\n",
    "        print(f'{row[0]} {row[1]}')\n",
    "        \n",
    "main()"
   ]
  },
  {
   "cell_type": "code",
   "execution_count": null,
   "metadata": {},
   "outputs": [],
   "source": [
    "aList = [4, 8, 12, 16]\n",
    "aList[1:4] = [20, 24, 28]\n",
    "print(aList)"
   ]
  },
  {
   "cell_type": "markdown",
   "metadata": {},
   "source": [
    "What is a correct syntax to print the first item of an array?<br>\n",
    "print(myArr,1)<br>\n",
    "print(myArr[0])<br>\n",
    "print(myArr[1])"
   ]
  },
  {
   "cell_type": "markdown",
   "metadata": {},
   "source": [
    "Which syntax would print the last 4 numbers from the array below:<br>\n",
    "\n",
    "arr = np.array([1,2,3,4,5,6,7])"
   ]
  },
  {
   "cell_type": "code",
   "execution_count": null,
   "metadata": {},
   "outputs": [],
   "source": [
    "import numpy as np\n",
    "arr = np.array([1,2,3,4,5,6,7])\n",
    "arr[3:]"
   ]
  },
  {
   "cell_type": "markdown",
   "metadata": {},
   "source": [
    "Only one of the following statements is true when it comes to Copies in NumPy, which one?<br>\n",
    "The copy should be affected by the changes made to the original array<br>\n",
    "The copy should not be affected by the changes made to the original array\n"
   ]
  },
  {
   "cell_type": "markdown",
   "metadata": {},
   "source": [
    "When using the NumPy random module, how can you return a Normal Data Distrbution with 1000 numbers, concentrated around the number 50, with a standard deviation of 0.2?<br>\n"
   ]
  },
  {
   "cell_type": "markdown",
   "metadata": {},
   "source": [
    "What is a correct syntax to return both the first row and the second row in a Pandas DataFrame?<br>\n",
    "df.loc[[0,1]]<br>\n",
    "df[[0-1]]<br>\n",
    "df[[0,1]]<br>\n",
    "df.loc[[0-1]]"
   ]
  },
  {
   "cell_type": "markdown",
   "metadata": {},
   "source": [
    "Which of these will not select the last three rows of this DataFrame, ddf?:<br>\n",
    "\n",
    "ddf.iloc[1:]\n",
    "<br>\n",
    "\n",
    "ddf.loc[('A', 'M'):'B']\n",
    "<br>\n",
    "\n",
    "ddf.iloc[(0, 1): (1, 1)]\n",
    "<br>\n",
    "\n",
    "ddf[('A', 'M'):('B','M')]"
   ]
  },
  {
   "cell_type": "code",
   "execution_count": null,
   "metadata": {},
   "outputs": [],
   "source": [
    "import pandas as pd\n",
    "df = pd.DataFrame([['A', 'F', 10, 15],\n",
    "                   ['A', 'M', 11, 18],\n",
    "                   ['B', 'F', 15, 22],\n",
    "                   ['B', 'F', 17, 33],\n",
    "                   ['A', 'M', 14, 22],\n",
    "                   ['B', 'M', 17, 28]],\n",
    "                  columns=['C1', 'C2', 'C3','C4'])\n",
    "\n",
    "ddf=df.groupby(['C1','C2']).mean()\n",
    "ddf\n"
   ]
  },
  {
   "cell_type": "code",
   "execution_count": null,
   "metadata": {},
   "outputs": [],
   "source": []
  }
 ],
 "metadata": {
  "kernelspec": {
   "display_name": "Python 3 (ipykernel)",
   "language": "python",
   "name": "python3"
  },
  "language_info": {
   "codemirror_mode": {
    "name": "ipython",
    "version": 3
   },
   "file_extension": ".py",
   "mimetype": "text/x-python",
   "name": "python",
   "nbconvert_exporter": "python",
   "pygments_lexer": "ipython3",
   "version": "3.11.3"
  }
 },
 "nbformat": 4,
 "nbformat_minor": 4
}
