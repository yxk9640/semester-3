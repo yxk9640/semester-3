{
 "cells": [
  {
   "cell_type": "markdown",
   "metadata": {},
   "source": [
    "    Introduction to Programming: Python\n",
    "    Neshat Beheshti\n",
    "    University of Texas Arlington\n",
    "\n",
    "    This document can only be used for class studies. \n",
    "    You are not allowed to share it in any public platform."
   ]
  },
  {
   "cell_type": "markdown",
   "metadata": {},
   "source": [
    "        The Material for this Notebook is Adopted from \n",
    "        Starting Out with Python (4th Edition)- by Tony Gaddis Pearson"
   ]
  },
  {
   "cell_type": "markdown",
   "metadata": {},
   "source": [
    "<h1 align='center' style=\"color: blue;\">Inheritance</h1>"
   ]
  },
  {
   "cell_type": "markdown",
   "metadata": {},
   "source": [
    "using __ before the attribute hides the attribute."
   ]
  },
  {
   "cell_type": "markdown",
   "metadata": {},
   "source": [
    "## 1.Introduction to Inheritance"
   ]
  },
  {
   "cell_type": "markdown",
   "metadata": {},
   "source": [
    "In the real world, many objects are a specialized version of more general objects\n",
    "<ul><li>Example: grasshoppers and bees are specialized types of insect</li>\n",
    "<ul><li>In addition to the general insect characteristics, they have unique characteristics:</li>\n",
    "<ul><li>Grasshoppers can jump</li>\n",
    "<li>Bees can sting, make honey, and build hives</li>\n",
    "    </ul></ul></ul>"
   ]
  },
  {
   "cell_type": "markdown",
   "metadata": {},
   "source": [
    "<img src='images/week12/Bumblebees and grasshoppers.png'>\n",
    "\n",
    "<i>Source: Starting Out with Python (4th Edition)- by Tony Gaddis Pearson</i>"
   ]
  },
  {
   "cell_type": "markdown",
   "metadata": {},
   "source": [
    "### 1.1.Inheritance and the “Is a” Relationship"
   ]
  },
  {
   "cell_type": "markdown",
   "metadata": {},
   "source": [
    "“Is a” relationship: exists when one object is a specialized version of another object\n",
    "<ul><li>Specialized object has all the characteristics of the general object plus unique characteristics</li>\n",
    "<li>Example: \n",
    "    <ul><li>Rectangle is a shape</li>\n",
    "    <li>Daisy is a flower</li>\n",
    "    </ul></ul>"
   ]
  },
  {
   "cell_type": "markdown",
   "metadata": {},
   "source": [
    "<ul><li>Inheritance: used to create an “is a” relationship between classes</li>\n",
    "<ul><li>Superclass (base class): a general class </li>\n",
    "<ul><li>Subclass (derived class): a specialized class</li>\n",
    "<ul><li>An extended version of the superclass</li>\n",
    "<ul><li>Inherits attributes and methods of the superclass</li>\n",
    "<li>New attributes and methods can be added</li>\n",
    "    </ul></ul></ul>"
   ]
  },
  {
   "cell_type": "markdown",
   "metadata": {},
   "source": [
    "<ul><li>For example, need to create classes for cars, pickup trucks, and SUVs</li>\n",
    "    <li>All are automobiles</li>\n",
    "<ul><li>Have a make, year model, mileage, and price</li>\n",
    "    <li>This can be the attributes for the base class</li></ul>\n",
    "    <li>In addition:</li>\n",
    "    <ul><li>Car has a number of doors</li>\n",
    "    <li>Pickup truck has a drive type</li>\n",
    "    <li>SUV has a passenger capacity</li>\n",
    "    </ul></ul>"
   ]
  },
  {
   "cell_type": "markdown",
   "metadata": {},
   "source": [
    "In a class definition for a subclass:\n",
    "<ul><li>To indicate inheritance, the superclass name is placed in parentheses after subclass name\n",
    "    <ul><li>Example: <i>class Car(Automobile):</i></li></ul>\n",
    "<li>The initializer method of a subclass calls the initializer method of the superclass and then initializes the unique data attributes\n",
    "<li>Add method definitions for unique methods"
   ]
  },
  {
   "cell_type": "markdown",
   "metadata": {},
   "source": [
    "<b>Example:</b>"
   ]
  },
  {
   "cell_type": "code",
   "execution_count": 2,
   "metadata": {},
   "outputs": [
    {
     "name": "stdout",
     "output_type": "stream",
     "text": [
      "Writing vehicles.py\n"
     ]
    }
   ],
   "source": [
    "%%file vehicles.py\n",
    "# The Automobile class holds general data # about an automobile in inventory.\n",
    "class Automobile:\n",
    "    # The __init__method accepts arguments for the make, model, mileage, and price. \n",
    "    #It initializes the data attributes with these values.\n",
    "    def __init__(self, make, model, mileage, price): \n",
    "        self.__make = make\n",
    "        self.__model = model \n",
    "        self.__mileage = mileage \n",
    "        self.__price = price\n",
    "        \n",
    "    # The following methods are mutators for the class's data attributes.\n",
    "    def set_make(self, make): \n",
    "        self.__make = make\n",
    "    def set_model(self, model): \n",
    "        self.__model = model\n",
    "    def set_mileage(self, mileage): \n",
    "        self.__mileage = mileage\n",
    "    def set_price(self, price): \n",
    "        self.__price = price\n",
    "        \n",
    "    # The following methods are the accessors for the class's data attributes.\n",
    "    def get_make(self): \n",
    "        return self.__make\n",
    "    def get_model(self): \n",
    "        return self.__model\n",
    "    def get_mileage(self): \n",
    "        return self.__mileage\n",
    "    def get_price(self): \n",
    "        return self.__price\n",
    "    \n",
    "class Car(Automobile):\n",
    "   \n",
    "    # The __init__ method accepts arguments for the car's make, model, mileage, price, and doors.\n",
    "    def __init__(self, make, model, mileage, price, doors):\n",
    "        \n",
    "        # Call the superclass's __init__ method and pass the required arguments.\n",
    "        Automobile.__init__(self, make, model, mileage, price)\n",
    "        # Initialize the __doors attribute. \n",
    "        self.__doors = doors\n",
    "        \n",
    "    # The set_doors method is the mutator for the __doors attribute.\n",
    "    def set_doors(self, doors):\n",
    "            self.__doors = doors\n",
    "            \n",
    "    # The get_doors method is the accessor for the __doors attribute.\n",
    "    def get_doors(self):\n",
    "            return self.__doors"
   ]
  },
  {
   "cell_type": "code",
   "execution_count": 7,
   "metadata": {},
   "outputs": [
    {
     "name": "stdout",
     "output_type": "stream",
     "text": [
      "Make: Audi\n",
      "Model: 2007\n",
      "Mileage: 12500\n",
      "Price: 21500.0\n",
      "Number of doors: 4\n",
      "Vehicle Chevy\n"
     ]
    }
   ],
   "source": [
    "# This program demonstrates the Car class.\n",
    "import vehicles\n",
    "\n",
    "def main():\n",
    "    # Create an object from the Car class. The car is a 2007 Audi with 12,500 miles, priced at $21,500.00, \n",
    "    #and has 4 doors.\n",
    "    used_car = vehicles.Car('Audi', 2007, 12500, 21500.0, 4)   \n",
    "    # Display the car's data.\n",
    "    print('Make:', used_car.get_make())\n",
    "    print('Model:', used_car.get_model())\n",
    "    print('Mileage:', used_car.get_mileage())\n",
    "    print('Price:', used_car.get_price())\n",
    "    print('Number of doors:', used_car.get_doors())\n",
    "\n",
    "    v_det = vehicles.Automobile('Ford','f150',1209,40000)\n",
    "    v_det.set_make('Chevy')\n",
    "    print('Vehicle',v_det.get_make())\n",
    "\n",
    "main() "
   ]
  },
  {
   "cell_type": "markdown",
   "metadata": {},
   "source": [
    "<b>Example:</b>"
   ]
  },
  {
   "cell_type": "code",
   "execution_count": 8,
   "metadata": {},
   "outputs": [
    {
     "name": "stdout",
     "output_type": "stream",
     "text": [
      "Writing vehicle.py\n"
     ]
    }
   ],
   "source": [
    "%%file vehicle.py\n",
    "# The Automobile class holds general data # about an automobile in inventory.\n",
    "class Automobile:\n",
    "    # The __init__method accepts arguments for the make, model, mileage, and price. \n",
    "    #It initializes the data attributes with these values.\n",
    "    def __init__(self, make, model, mileage, price): \n",
    "        self.__make = make\n",
    "        self.__model = model \n",
    "        self.__mileage = mileage \n",
    "        self.__price = price\n",
    "        \n",
    "    # The following methods are mutators for the class's data attributes.\n",
    "    def set_make(self, make): \n",
    "        self.__make = make\n",
    "    def set_model(self, model): \n",
    "        self.__model = model\n",
    "    def set_mileage(self, mileage): \n",
    "        self.__mileage = mileage\n",
    "    def set_price(self, price): \n",
    "        self.__price = price\n",
    "        \n",
    "    # The following methods are the accessors for the class's data attributes.\n",
    "    def get_make(self): \n",
    "        return self.__make\n",
    "    def get_model(self): \n",
    "        return self.__model\n",
    "    def get_mileage(self): \n",
    "        return self.__mileage\n",
    "    def get_price(self): \n",
    "        return self.__price\n",
    "    \n",
    "class Car(Automobile):\n",
    "   \n",
    "    # The __init__ method accepts arguments for the car's make, model, mileage, price, and doors.\n",
    "    def __init__(self, make, model, mileage, price, doors):\n",
    "        \n",
    "        # Call the superclass's __init__ method and pass the required arguments.\n",
    "        Automobile.__init__(self, make, model, mileage, price)\n",
    "        # Initialize the __doors attribute. \n",
    "        self.__doors = doors\n",
    "        \n",
    "    # The set_doors method is the mutator for the __doors attribute.\n",
    "    def set_doors(self, doors):\n",
    "            self.__doors = doors\n",
    "            \n",
    "    # The get_doors method is the accessor for the __doors attribute.\n",
    "    def get_doors(self):\n",
    "            return self.__doors\n",
    "\n",
    "# The Truck class represents a pickup truck. It is a subclass of the Automobile class.\n",
    "class Truck(Automobile):\n",
    "\n",
    "    # The __init__ method accepts arguments for the Truck's make, model, mileage, price, and drive type.\n",
    "    def __init__(self, make, model, mileage, price, drive_type): # Call the superclass's __init__ method and pass\n",
    "    \n",
    "    # the required arguments. Note that we also have to pass self as an argument.\n",
    "        Automobile.__init__(self, make, model, mileage, price)\n",
    "    # Initialize the __drive_type attribute. \n",
    "        self.__drive_type = drive_type\n",
    "    # The set_drive_type method is the mutator for the __drive_type attribute.\n",
    "\n",
    "    def set_drive_type(self, drive_type): \n",
    "        self.__drive = drive_type\n",
    "\n",
    "    # The get_drive_type method is the accessor for the __drive_type attribute.\n",
    "    def get_drive_type(self): \n",
    "        return self.__drive_type\n",
    "\n",
    "# The SUV class represents a sport utility vehicle. It # is a subclass of the Automobile class.\n",
    "class SUV(Automobile):\n",
    "\n",
    "    # The __init__ method accepts arguments for the SUV's make, model, mileage, price, and passenger # capacity.\n",
    "    def __init__(self, make, model, mileage, price, pass_cap): \n",
    "    \n",
    "    # Call the superclass's __init__ method and pass the required arguments. N\n",
    "        Automobile.__init__(self, make, model, mileage, price)\n",
    "    # Initialize the __pass_cap attribute. \n",
    "        self.__pass_cap = pass_cap\n",
    "    \n",
    "    # The set_pass_cap method is the mutator for the __pass_cap attribute.\n",
    "    def set_pass_cap(self, pass_cap): \n",
    "        self.__pass_cap = pass_cap\n",
    "\n",
    "    # The get_pass_cap method is the accessor for the __pass_cap attribute.\n",
    "    def get_pass_cap(self): \n",
    "        return self.__pass_cap"
   ]
  },
  {
   "cell_type": "code",
   "execution_count": 9,
   "metadata": {},
   "outputs": [
    {
     "name": "stdout",
     "output_type": "stream",
     "text": [
      "USED CAR INVENTORY\n",
      "===================\n",
      "The following car is in inventory:\n",
      "Make: BMW\n",
      "Model: 2001\n",
      "Mileage: 70000\n",
      "Price: 15000.0\n",
      "Number of doors: 4\n",
      "\n",
      "The following pickup truck is in inventory.\n",
      "Make: Toyota\n",
      "Model: 2002\n",
      "Mileage: 40000\n",
      "Price: 12000.0\n",
      "Drive type: 4WD\n",
      "\n",
      "The following SUV is in inventory.\n",
      "Make: Volvo\n",
      "Model: 2000\n",
      "Mileage: 30000\n",
      "Price: 18500.0\n",
      "Passenger Capacity: 5\n"
     ]
    }
   ],
   "source": [
    "# This program creates a Car object, a Truck object, # and an SUV object.\n",
    "import vehicle\n",
    "\n",
    "def main():\n",
    "    # Create a Car object for a used 2001 BMW with 70,000 miles, priced at $15,000, with 4 doors.\n",
    "    car = vehicle.Car('BMW', 2001, 70000, 15000.0, 4)\n",
    "\n",
    "    # Create a Truck object for a used 2002 Toyota pickup with 40,000 miles, priced at $12,000, with 4-wheel drive.\n",
    "    truck = vehicle.Truck('Toyota', 2002, 40000, 12000.0, '4WD')\n",
    "\n",
    "    # Create an SUV object for a used 2000 Volvo with 30,000 miles, priced at $18,500, with 5 passenger capacity.\n",
    "    suv = vehicle.SUV('Volvo', 2000, 30000, 18500.0, 5)\n",
    "    \n",
    "    print('USED CAR INVENTORY') \n",
    "    print('===================')\n",
    "\n",
    "    # Display the car's data.\n",
    "    print('The following car is in inventory:') \n",
    "    print('Make:', car.get_make()) \n",
    "    print('Model:', car.get_model()) \n",
    "    print('Mileage:', car.get_mileage()) \n",
    "    print('Price:', car.get_price()) \n",
    "    print('Number of doors:', car.get_doors()) \n",
    "    print()\n",
    "\n",
    "    # Display the truck's data.\n",
    "    print('The following pickup truck is in inventory.')\n",
    "    print('Make:', truck.get_make())\n",
    "    print('Model:', truck.get_model())\n",
    "    print('Mileage:', truck.get_mileage())\n",
    "    print('Price:', truck.get_price())\n",
    "    print('Drive type:', truck.get_drive_type())\n",
    "    print()\n",
    "    \n",
    "    # Display the SUV's data.\n",
    "    print('The following SUV is in inventory.')\n",
    "    print('Make:', suv.get_make())\n",
    "    print('Model:', suv.get_model())\n",
    "    print('Mileage:', suv.get_mileage())\n",
    "    print('Price:', suv.get_price())\n",
    "    print('Passenger Capacity:', suv.get_pass_cap())\n",
    "\n",
    "main()"
   ]
  },
  {
   "cell_type": "markdown",
   "metadata": {},
   "source": [
    "### 1.2.Inheritance in UML Diagrams"
   ]
  },
  {
   "cell_type": "markdown",
   "metadata": {},
   "source": [
    "In UML diagram, show inheritance by drawing a line with an open arrowhead from subclass to superclass"
   ]
  },
  {
   "cell_type": "markdown",
   "metadata": {},
   "source": [
    "<img src='images/week12/UML diagram showing inheritance.png'>\n",
    "\n",
    "<i>Source: Starting Out with Python (4th Edition)- by Tony Gaddis Pearson</i>"
   ]
  },
  {
   "cell_type": "markdown",
   "metadata": {},
   "source": [
    "## 2.Polymorphism"
   ]
  },
  {
   "cell_type": "markdown",
   "metadata": {},
   "source": [
    "<ul><li>Polymorphism: an object’s ability to take different forms</li>\n",
    "    <li>Essential ingredients of polymorphic behavior:</li>\n",
    "    <ul><li>Ability to define a method in a superclass and override it in a subclass</li>\n",
    "        <ul><li>Subclass defines method with the same name</li></ul>\n",
    "<li>Ability to call the correct version of overridden method depending on the type of object that called for it</li>\n",
    "    </ul></ul>"
   ]
  },
  {
   "cell_type": "markdown",
   "metadata": {},
   "source": [
    "<ul><li>In previous inheritance examples showed how to override the __init__ method</li>\n",
    "    <ul><li>Called superclass<i> __init__ </i>method and then added onto that</li></ul>\n",
    "    <li>The same can be done for any other method</li>\n",
    "<ul><li>The method can call the superclass equivalent and add to it, or do something completely different</li></ul>"
   ]
  },
  {
   "cell_type": "markdown",
   "metadata": {},
   "source": [
    "<b>Example:</b>"
   ]
  },
  {
   "cell_type": "code",
   "execution_count": 10,
   "metadata": {},
   "outputs": [
    {
     "name": "stdout",
     "output_type": "stream",
     "text": [
      "Writing animals.py\n"
     ]
    }
   ],
   "source": [
    "%%file animals.py\n",
    "# The Mammal class represents a generic mammal.\n",
    "class Mammal:\n",
    "\n",
    "    # The __init__ method accepts an argument for the mammal's species.\n",
    "    def __init__(self, species):\n",
    "        self.__species = species\n",
    "\n",
    "    # The show_species method displays a message indicating the mammal's species.\n",
    "    def show_species(self):\n",
    "        print('I am a', self.__species)\n",
    "    \n",
    "    # The make_sound method is the mammal's way of making a generic sound.\n",
    "    def make_sound(self): \n",
    "        print('Grrrrr')\n",
    "        \n",
    "class Dog(Mammal):\n",
    "\n",
    "    # The __init__ method calls the superclass's __init__ method passing 'Dog' as the species.\n",
    "    \n",
    "    def __init__(self):\n",
    "        Mammal.__init__(self, 'Dog')\n",
    "\n",
    "    # The make_sound method overrides the superclass's make_sound method.\n",
    "\n",
    "    def make_sound(self):\n",
    "        print('Woof! Woof!')"
   ]
  },
  {
   "cell_type": "code",
   "execution_count": 11,
   "metadata": {},
   "outputs": [
    {
     "name": "stdout",
     "output_type": "stream",
     "text": [
      "I am a General mammal\n",
      "Grrrrr\n"
     ]
    }
   ],
   "source": [
    "import animals\n",
    "mammal = animals.Mammal('General mammal')\n",
    "mammal.show_species()\n",
    "mammal.make_sound()"
   ]
  },
  {
   "cell_type": "code",
   "execution_count": 12,
   "metadata": {},
   "outputs": [
    {
     "name": "stdout",
     "output_type": "stream",
     "text": [
      "Woof! Woof!\n"
     ]
    }
   ],
   "source": [
    "import animals\n",
    "\n",
    "dog1 = animals.Dog()\n",
    "dog1.make_sound()"
   ]
  },
  {
   "cell_type": "code",
   "execution_count": 39,
   "metadata": {},
   "outputs": [
    {
     "name": "stdout",
     "output_type": "stream",
     "text": [
      "Overwriting animals.py\n"
     ]
    }
   ],
   "source": [
    "%%file animals.py\n",
    "# The Mammal class represents a generic mammal.\n",
    "class Mammal:\n",
    "\n",
    "    # The __init__ method accepts an argument for the mammal's species.\n",
    "    def __init__(self, species):\n",
    "        self.species = species\n",
    "\n",
    "    # The show_species method displays a message indicating the mammal's species.\n",
    "    def show_species(self):\n",
    "        print('I am a', self.species)\n",
    "    \n",
    "    # The make_sound method is the mammal's way of making a generic sound.\n",
    "    def make_sound(self): \n",
    "        print('Grrrrr')\n",
    "        \n",
    "class Dog(Mammal):\n",
    "\n",
    "    # The __init__ method calls the superclass's __init__ method passing 'Dog' as the species.\n",
    "    \n",
    "    def __init__(self):\n",
    "        Mammal.__init__(self, 'Dog')\n",
    "\n",
    "    # The make_sound method overrides the superclass's make_sound method.\n",
    "\n",
    "    def make_sound(self):\n",
    "        print('Woof! Woof!')\n",
    "        \n",
    "# The Cat class is a subclass of the Mammal class.\n",
    "class Cat(Mammal):\n",
    "\n",
    "    # The __init__ method calls the superclass's __init__ method passing 'Cat' as the species.\n",
    "\n",
    "    def __init__(self):\n",
    "        Mammal.__init__(self, 'Cat')\n",
    "\n",
    "    # The make_sound method overrides the superclass's make_sound method.\n",
    "    \n",
    "    def make_sound(self):\n",
    "        print('Meow')"
   ]
  },
  {
   "cell_type": "code",
   "execution_count": 43,
   "metadata": {},
   "outputs": [
    {
     "name": "stdout",
     "output_type": "stream",
     "text": [
      "I am a Dog\n",
      "Woof! Woof!\n"
     ]
    }
   ],
   "source": [
    "import animals\n",
    "animals.Mammal('omi')\n",
    "dog1 = animals.Dog()\n",
    "dog1.show_species()\n",
    "dog1.make_sound()"
   ]
  },
  {
   "cell_type": "code",
   "execution_count": 40,
   "metadata": {},
   "outputs": [
    {
     "name": "stdout",
     "output_type": "stream",
     "text": [
      "I am a Cat\n",
      "Meow\n"
     ]
    }
   ],
   "source": [
    "import importlib\n",
    "import animals\n",
    "importlib.reload(animals)\n",
    "\n",
    "cat1 = animals.Cat()\n",
    "cat1.show_species()\n",
    "cat1.make_sound()"
   ]
  },
  {
   "cell_type": "markdown",
   "metadata": {},
   "source": [
    "### 2.1.The <i>isinstance</i> Function"
   ]
  },
  {
   "cell_type": "markdown",
   "metadata": {},
   "source": [
    "<ul><li>Polymorphism provides great flexibility when designing programs</li>\n",
    "    <li><i>AttributeError</i> exception: raised when a method is receives an object which is not an instance of the right class</li>\n",
    "    <li><i>isinstance</i> function: determines whether object is an instance of a class</li>\n",
    "    <ul><li>Format: <i>isinstance(object, class)</i></li></ul></ul>"
   ]
  },
  {
   "cell_type": "code",
   "execution_count": 3,
   "metadata": {},
   "outputs": [
    {
     "name": "stdout",
     "output_type": "stream",
     "text": [
      "Here are some animals and\n",
      "the sounds they make.\n",
      "--------------------------\n",
      "I am a regular animal\n",
      "Grrrrr\n",
      "\n",
      "I am a Dog\n",
      "Woof! Woof!\n",
      "\n",
      "I am a Cat\n",
      "Meow\n"
     ]
    }
   ],
   "source": [
    "# This program demonstrates polymorphism.\n",
    "import animals\n",
    "\n",
    "def main():\n",
    "# Create a Mammal object, a Dog object, and a Cat object.\n",
    "    mammal = animals.Mammal('regular animal')\n",
    "    dog = animals.Dog()\n",
    "    cat = animals.Cat()\n",
    "    \n",
    "    # Display information about each one.\n",
    "    print('Here are some animals and')\n",
    "    print('the sounds they make.')\n",
    "    print('--------------------------')\n",
    "    \n",
    "    show_mammal_info(mammal)\n",
    "    print()\n",
    "    show_mammal_info(dog)\n",
    "    print()\n",
    "    show_mammal_info(cat)\n",
    "\n",
    "# The show_mammal_info function accepts an object as an argument, and calls its show_species and make_sound methods.\n",
    "def show_mammal_info(creature):\n",
    "    creature.show_species() # animals.(Mammal/Dog/Cat).show_species()\n",
    "    creature.make_sound()\n",
    "\n",
    "main()"
   ]
  },
  {
   "cell_type": "code",
   "execution_count": 4,
   "metadata": {},
   "outputs": [
    {
     "ename": "UnboundLocalError",
     "evalue": "local variable 'show_mammal_info' referenced before assignment",
     "output_type": "error",
     "traceback": [
      "\u001b[1;31m---------------------------------------------------------------------------\u001b[0m",
      "\u001b[1;31mUnboundLocalError\u001b[0m                         Traceback (most recent call last)",
      "\u001b[1;32m<ipython-input-4-5350e0a4592a>\u001b[0m in \u001b[0;36m<module>\u001b[1;34m\u001b[0m\n\u001b[0;32m      9\u001b[0m         \u001b[0mcreature\u001b[0m\u001b[1;33m.\u001b[0m\u001b[0mshow_species\u001b[0m\u001b[1;33m(\u001b[0m\u001b[1;33m)\u001b[0m\u001b[1;33m\u001b[0m\u001b[1;33m\u001b[0m\u001b[0m\n\u001b[0;32m     10\u001b[0m         \u001b[0mcreature\u001b[0m\u001b[1;33m.\u001b[0m\u001b[0mmake_sound\u001b[0m\u001b[1;33m(\u001b[0m\u001b[1;33m)\u001b[0m\u001b[1;33m\u001b[0m\u001b[1;33m\u001b[0m\u001b[0m\n\u001b[1;32m---> 11\u001b[1;33m \u001b[0mmain\u001b[0m\u001b[1;33m(\u001b[0m\u001b[1;33m)\u001b[0m\u001b[1;33m\u001b[0m\u001b[1;33m\u001b[0m\u001b[0m\n\u001b[0m",
      "\u001b[1;32m<ipython-input-4-5350e0a4592a>\u001b[0m in \u001b[0;36mmain\u001b[1;34m()\u001b[0m\n\u001b[0;32m      1\u001b[0m \u001b[1;32mdef\u001b[0m \u001b[0mmain\u001b[0m\u001b[1;33m(\u001b[0m\u001b[1;33m)\u001b[0m\u001b[1;33m:\u001b[0m\u001b[1;33m\u001b[0m\u001b[1;33m\u001b[0m\u001b[0m\n\u001b[0;32m      2\u001b[0m \u001b[1;31m#Pass a string to show_mammal_info ...\u001b[0m\u001b[1;33m\u001b[0m\u001b[1;33m\u001b[0m\u001b[1;33m\u001b[0m\u001b[0m\n\u001b[1;32m----> 3\u001b[1;33m     \u001b[0mshow_mammal_info\u001b[0m\u001b[1;33m(\u001b[0m\u001b[1;34m'I am a string'\u001b[0m\u001b[1;33m)\u001b[0m\u001b[1;33m\u001b[0m\u001b[1;33m\u001b[0m\u001b[0m\n\u001b[0m\u001b[0;32m      4\u001b[0m \u001b[1;33m\u001b[0m\u001b[0m\n\u001b[0;32m      5\u001b[0m \u001b[1;31m# The show_mammal_info function accepts an object # as an argument,\u001b[0m\u001b[1;33m\u001b[0m\u001b[1;33m\u001b[0m\u001b[1;33m\u001b[0m\u001b[0m\n",
      "\u001b[1;31mUnboundLocalError\u001b[0m: local variable 'show_mammal_info' referenced before assignment"
     ]
    }
   ],
   "source": [
    "def main():\n",
    "#Pass a string to show_mammal_info ... \n",
    "    show_mammal_info('I am a string')\n",
    "\n",
    "# The show_mammal_info function accepts an object # as an argument, \n",
    "#and calls its show_species and make_sound methods.\n",
    "    \n",
    "    def show_mammal_info(creature): \n",
    "        creature.show_species() \n",
    "        creature.make_sound()\n",
    "main()"
   ]
  },
  {
   "cell_type": "markdown",
   "metadata": {},
   "source": [
    "<b>Example:</b>"
   ]
  },
  {
   "cell_type": "code",
   "execution_count": null,
   "metadata": {},
   "outputs": [],
   "source": [
    "# This program demonstrates polymorphism.\n",
    "import animals\n",
    "\n",
    "def main():\n",
    "    # Create an Mammal object, a Dog object, and # a Cat object.\n",
    "    mammal = animals.Mammal('regular animal')\n",
    "    dog = animals.Dog()\n",
    "    cat = animals.Cat()\n",
    "    \n",
    "    # Display information about each one. \n",
    "    print('Here are some animals and') \n",
    "    print('the sounds they make.') \n",
    "    print('--------------------------') \n",
    "    show_mammal_info(mammal)\n",
    "    print()\n",
    "    show_mammal_info(dog)\n",
    "    print()\n",
    "    show_mammal_info(cat)\n",
    "    print()\n",
    "    show_mammal_info('I am a string')\n",
    "\n",
    "    # The show_mammal_info function accepts an object as an argument and calls its show_species\n",
    "    # and make_sound methods.\n",
    "def show_mammal_info(creature):\n",
    "    if isinstance(creature, animals.Mammal):\n",
    "        creature.show_species()\n",
    "        creature.make_sound() \n",
    "    else:\n",
    "        print('That is not a Mammal!')\n",
    "\n",
    "main()"
   ]
  }
 ],
 "metadata": {
  "kernelspec": {
   "display_name": "Python 3 (ipykernel)",
   "language": "python",
   "name": "python3"
  },
  "language_info": {
   "codemirror_mode": {
    "name": "ipython",
    "version": 3
   },
   "file_extension": ".py",
   "mimetype": "text/x-python",
   "name": "python",
   "nbconvert_exporter": "python",
   "pygments_lexer": "ipython3",
   "version": "3.11.3"
  }
 },
 "nbformat": 4,
 "nbformat_minor": 4
}
