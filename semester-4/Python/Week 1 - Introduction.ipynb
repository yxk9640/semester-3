{
 "cells": [
  {
   "cell_type": "markdown",
   "metadata": {},
   "source": [
    "        Introduction to Programming: Python\n",
    "        Neshat Beheshti\n",
    "        University of Texas Arlington\n",
    "        \n",
    "        This document can only be used for class studies. \n",
    "        You are not allowed to share it in any public platform."
   ]
  },
  {
   "cell_type": "markdown",
   "metadata": {},
   "source": [
    "        The Material for this Notebook is Adopted from \n",
    "        Starting Out with Python (4th Edition)- by Tony Gaddis Pearson"
   ]
  },
  {
   "cell_type": "markdown",
   "metadata": {},
   "source": [
    "<h1 align='center' style=\"color: blue;\">Introduction to Python</h1>"
   ]
  },
  {
   "cell_type": "markdown",
   "metadata": {},
   "source": [
    "## 1. Introduction"
   ]
  },
  {
   "cell_type": "markdown",
   "metadata": {},
   "source": [
    "<b>Why python:</b>\n",
    "<ul>\n",
    "    <li>Open source program. You can easily download and install the software and start using it.</li>\n",
    "    <li>You can use it to build any piece of software.</li>\n",
    "    <li>High-level language and easy to learn.</li>\n",
    "    <li>Can easily be used for data science tasks.</li>\n",
    "</ul>"
   ]
  },
  {
   "cell_type": "markdown",
   "metadata": {},
   "source": [
    "There are two differrent versions of Python: Python 2 and Python 3. There is no support for Python 2 anymore. In this course, we use Python 3.  "
   ]
  },
  {
   "cell_type": "markdown",
   "metadata": {},
   "source": [
    "<b>How we can start writing python code?</b>\n",
    "<ul>\n",
    "    <li>You can use python console and interactivly write your code.</li>\n",
    "    <li>You can write your code easily in a text file with <b style='color:red'>'.py'</b> extention and later execute your code.</li>\n",
    "    <li>You can use Jupyter platform to execute your code segment by segment.</li>\n",
    "</ul>"
   ]
  },
  {
   "cell_type": "markdown",
   "metadata": {},
   "source": [
    "<b>Note:</b> In this course, we mostly use <u>Jupyter</u> platform for our coding. "
   ]
  },
  {
   "cell_type": "markdown",
   "metadata": {},
   "source": [
    "<b>Note:</b> Let's an Example:"
   ]
  },
  {
   "cell_type": "code",
   "execution_count": null,
   "metadata": {},
   "outputs": [],
   "source": [
    "print('hello World')"
   ]
  },
  {
   "cell_type": "markdown",
   "metadata": {},
   "source": [
    "<b>Program Development Cycle</b>"
   ]
  },
  {
   "cell_type": "markdown",
   "metadata": {},
   "source": [
    "<img src='https://www.dropbox.com/s/e3qt29bqh1la8o0/Program%20Development%20Cycle.png?raw=1' />\n",
    "\n",
    "<i>Source: Starting Out with Python (4th Edition)- by Tony Gaddis Pearson</i>"
   ]
  },
  {
   "cell_type": "markdown",
   "metadata": {},
   "source": [
    "<b>Note:</b> You need to understand the above stepts and know that programming is an iterative process."
   ]
  },
  {
   "cell_type": "markdown",
   "metadata": {},
   "source": [
    "<b>How we should start coding as a beginner?</b> <br />\n",
    "\n",
    "As a new programmer, you need to practice the coding logic to be able to identify various tasks for your program. Then you need to practice, practice and practice coding to learn the overall structure of programming and syntax structure of a particular language that is python in this course. There are several tools that can help you in this process:"
   ]
  },
  {
   "cell_type": "markdown",
   "metadata": {},
   "source": [
    "<b>The Process of Designing a program:</b>\n",
    "<ol><li>Understand the task that program is to perform.</li>\n",
    "    <li>Determine the steps that must be taken to perform the task</li>\n",
    "</ol>"
   ]
  },
  {
   "cell_type": "markdown",
   "metadata": {},
   "source": [
    "<b>Example:</b>"
   ]
  },
  {
   "cell_type": "markdown",
   "metadata": {},
   "source": [
    "Write a program to calculate and display the gross pay for an hourly paid employee:\n",
    "<ol><li>Get the number of hours worked</li>\n",
    "<li>Get the hourly pay rate</li>\n",
    "<li>Multiply the number of hours worked by the hourly pay rate</li>\n",
    "<li>Display the result of the calculation</li>\n",
    "</ol>"
   ]
  },
  {
   "cell_type": "markdown",
   "metadata": {},
   "source": [
    "### 1.1. Pseudocode"
   ]
  },
  {
   "cell_type": "markdown",
   "metadata": {},
   "source": [
    "Informal language that has no syntax rules and is not meant to be compiled or executed. This can be used to describe various steps in your program and later needs to be translated into a programming language.\n",
    "<br/>"
   ]
  },
  {
   "cell_type": "markdown",
   "metadata": {},
   "source": [
    "<b>Example:</b><br>\n",
    "<i>Input the hours worked</i><br>\n",
    "<i>Input the hours pay rate</i><br>\n",
    "<i>Calculate gross pay as hours worked multiplied by pay rate</i><br>\n",
    "<i>Display the gross pay</i>"
   ]
  },
  {
   "cell_type": "markdown",
   "metadata": {},
   "source": [
    "<b>Example:</b>\n",
    "<br/>\n",
    "<i>input name of the user</i><br/>\n",
    "<i>Print 'Hi' + the name of the user</i><br/>\n",
    "<i>input the birthdate of user</i><br/>\n",
    "<i>Compute age of the user</i><br/>\n",
    "<i>Print the age of the user</i><br/>"
   ]
  },
  {
   "cell_type": "markdown",
   "metadata": {},
   "source": [
    "### 1.2. Flowchart"
   ]
  },
  {
   "cell_type": "markdown",
   "metadata": {},
   "source": [
    "Flowchart is a useful tool to show the sequence of tasks in programming."
   ]
  },
  {
   "cell_type": "markdown",
   "metadata": {},
   "source": [
    "<img src='https://www.dropbox.com/s/wyv4xbclrcb2tyf/Flowchart.png?raw=1' >\n",
    "\n",
    "<i>Source:Starting Out with Python (4th Edition)- by Tony Gaddis Pearson</i>"
   ]
  },
  {
   "cell_type": "markdown",
   "metadata": {},
   "source": [
    "# 2. Programming"
   ]
  },
  {
   "cell_type": "markdown",
   "metadata": {},
   "source": [
    "### 2.1. Input, Processing, and Output"
   ]
  },
  {
   "cell_type": "markdown",
   "metadata": {},
   "source": [
    "<img src='https://www.dropbox.com/s/m6xh6li1pxycjfa/Input%20Processing%20Output.png?raw=1'>\n",
    "\n",
    "<i>Source:Starting Out with Python (4th Edition)- by Tony Gaddis Pearson</i>"
   ]
  },
  {
   "cell_type": "markdown",
   "metadata": {},
   "source": [
    "<b>Note:</b> Before you start programming, you need to understand one basic element that is <u>Function</u>. Function is a pre-written piece of code that perfoms an operation."
   ]
  },
  {
   "cell_type": "markdown",
   "metadata": {},
   "source": [
    "<b>Note:</b> We use <b style='color:blue'>print( )</b> function to dispaly output in a Python Program."
   ]
  },
  {
   "cell_type": "markdown",
   "metadata": {},
   "source": [
    "<b>Example:</b>"
   ]
  },
  {
   "cell_type": "code",
   "execution_count": null,
   "metadata": {},
   "outputs": [],
   "source": [
    "print('Hello World!!!') "
   ]
  },
  {
   "cell_type": "markdown",
   "metadata": {},
   "source": [
    "<b>Note:</b> In python, we use quote marks to show string in python. You need to make sure to put your string between \"  \", or '  '."
   ]
  },
  {
   "cell_type": "markdown",
   "metadata": {},
   "source": [
    "<b>Example:</b>"
   ]
  },
  {
   "cell_type": "code",
   "execution_count": null,
   "metadata": {},
   "outputs": [],
   "source": [
    "print('Hello World')"
   ]
  },
  {
   "cell_type": "markdown",
   "metadata": {},
   "source": [
    "<b>Example:</b>"
   ]
  },
  {
   "cell_type": "code",
   "execution_count": null,
   "metadata": {},
   "outputs": [],
   "source": [
    "print('Here is my first line')\n",
    "print(\"Here is my second line\")"
   ]
  },
  {
   "cell_type": "code",
   "execution_count": null,
   "metadata": {},
   "outputs": [],
   "source": [
    "print(\"I'm fine\")"
   ]
  },
  {
   "cell_type": "markdown",
   "metadata": {},
   "source": [
    "<b>Example:</b> Now, it's your turn. Try to print some arbitrary text that you want."
   ]
  },
  {
   "cell_type": "code",
   "execution_count": 1,
   "metadata": {},
   "outputs": [
    {
     "name": "stdout",
     "output_type": "stream",
     "text": [
      "Yogesh \n"
     ]
    }
   ],
   "source": [
    "print(\"Yogesh \")"
   ]
  },
  {
   "cell_type": "markdown",
   "metadata": {},
   "source": [
    "<b>Note:</b> You can use triple quotes to surround multiple line of string or when you have ' or \" in your string.  "
   ]
  },
  {
   "cell_type": "markdown",
   "metadata": {},
   "source": [
    "<b>Example:</b>"
   ]
  },
  {
   "cell_type": "code",
   "execution_count": 3,
   "metadata": {},
   "outputs": [
    {
     "name": "stdout",
     "output_type": "stream",
     "text": [
      "I'm reading \"Hamlet\" tonight.\n",
      "I'm reading \"Hamlet\" tonight.\n"
     ]
    }
   ],
   "source": [
    "print(\"\"\"I'm reading \"Hamlet\" tonight.\"\"\")\n",
    "print('''I'm reading \"Hamlet\" tonight.''')"
   ]
  },
  {
   "cell_type": "code",
   "execution_count": null,
   "metadata": {},
   "outputs": [],
   "source": [
    "print(\"\"\"Line1\n",
    "Line2\n",
    "Line3\"\"\")"
   ]
  },
  {
   "cell_type": "markdown",
   "metadata": {},
   "source": [
    "<b>Example:</b> Now, it's your turn. Try to print some arbitrary text using triple quotes."
   ]
  },
  {
   "cell_type": "code",
   "execution_count": 1,
   "metadata": {},
   "outputs": [
    {
     "name": "stdout",
     "output_type": "stream",
     "text": [
      "Hello\n",
      "World \n",
      "Welcome \n"
     ]
    }
   ],
   "source": [
    "print('''Hello\n",
    "World \n",
    "Welcome ''')"
   ]
  },
  {
   "cell_type": "markdown",
   "metadata": {},
   "source": [
    "### 2.2. Comments"
   ]
  },
  {
   "cell_type": "markdown",
   "metadata": {},
   "source": [
    "Comments are short notes that explain lines or sections of a program. They are intended for people who may be reading the source code.\n",
    "<br/>\n",
    "In Python, we begin a comment with the # character."
   ]
  },
  {
   "cell_type": "markdown",
   "metadata": {},
   "source": [
    "<b>Examples:</b>"
   ]
  },
  {
   "cell_type": "code",
   "execution_count": null,
   "metadata": {},
   "outputs": [],
   "source": [
    "# This program displays a person's name and phone number.\n",
    "print('John Austen')\n",
    "print('9284354546')"
   ]
  },
  {
   "cell_type": "code",
   "execution_count": null,
   "metadata": {},
   "outputs": [],
   "source": [
    "print('John Austen')   # Display the name.\n",
    "print('9284354546')   # Display the phone number. "
   ]
  },
  {
   "cell_type": "markdown",
   "metadata": {},
   "source": [
    "### 2.3. Variables"
   ]
  },
  {
   "cell_type": "markdown",
   "metadata": {},
   "source": [
    "A variable is a name that represents a value in the memory of your computer.\n",
    "<br/><br/>\n",
    "we use an <u>assignment statement</u> to create a variable and make it reference a piece of data.\n",
    "<ul>\n",
    "    <li>An assignment statement is written as fallows:<br/>\n",
    "        <br/>\n",
    "        <i>variable <span style='color:blue'>=</span> <span style='color:red'>expression</span></i>\n",
    "        <br/>\n",
    "        <br/>\n",
    "        <i><u>variable</u></i> is the name of a variable and <i><u><span style='color:red'>expression</span></u></i> is a value, or any piece of code that results in a value.\n",
    "<ul/>   "
   ]
  },
  {
   "cell_type": "markdown",
   "metadata": {},
   "source": [
    "<b>Example:</b>"
   ]
  },
  {
   "cell_type": "code",
   "execution_count": 11,
   "metadata": {},
   "outputs": [],
   "source": [
    "age = 32\n",
    "weight = 120\n",
    "first_name = 'Alison'"
   ]
  },
  {
   "cell_type": "markdown",
   "metadata": {},
   "source": [
    "<b>Note:</b> When you assign a value to a variable, you create a memory space to keep a value during the time you run your program. You can see these values by printing them out."
   ]
  },
  {
   "cell_type": "code",
   "execution_count": 12,
   "metadata": {},
   "outputs": [
    {
     "name": "stdout",
     "output_type": "stream",
     "text": [
      "32\n"
     ]
    }
   ],
   "source": [
    "print(age)"
   ]
  },
  {
   "cell_type": "code",
   "execution_count": 13,
   "metadata": {},
   "outputs": [
    {
     "name": "stdout",
     "output_type": "stream",
     "text": [
      "120\n"
     ]
    }
   ],
   "source": [
    "print(weight)"
   ]
  },
  {
   "cell_type": "code",
   "execution_count": 14,
   "metadata": {},
   "outputs": [
    {
     "name": "stdout",
     "output_type": "stream",
     "text": [
      "Alison\n"
     ]
    }
   ],
   "source": [
    "print(first_name)"
   ]
  },
  {
   "cell_type": "markdown",
   "metadata": {},
   "source": [
    "<b>Example:</b>"
   ]
  },
  {
   "cell_type": "code",
   "execution_count": 15,
   "metadata": {},
   "outputs": [],
   "source": [
    "x = 7"
   ]
  },
  {
   "cell_type": "code",
   "execution_count": 16,
   "metadata": {},
   "outputs": [
    {
     "name": "stdout",
     "output_type": "stream",
     "text": [
      "7\n"
     ]
    }
   ],
   "source": [
    "print(x)"
   ]
  },
  {
   "cell_type": "code",
   "execution_count": 17,
   "metadata": {},
   "outputs": [],
   "source": [
    "y = x * 5"
   ]
  },
  {
   "cell_type": "code",
   "execution_count": 18,
   "metadata": {},
   "outputs": [
    {
     "name": "stdout",
     "output_type": "stream",
     "text": [
      "35\n"
     ]
    }
   ],
   "source": [
    "print(y)"
   ]
  },
  {
   "cell_type": "code",
   "execution_count": 19,
   "metadata": {},
   "outputs": [
    {
     "name": "stdout",
     "output_type": "stream",
     "text": [
      "7\n",
      "35\n"
     ]
    }
   ],
   "source": [
    "x = 7\n",
    "print(x)\n",
    "y = x * 5\n",
    "print(y)"
   ]
  },
  {
   "cell_type": "markdown",
   "metadata": {},
   "source": [
    "<b> Note:</b> When we use a variable in the print function, we do not enclose the variable name in quote marks. "
   ]
  },
  {
   "cell_type": "code",
   "execution_count": 20,
   "metadata": {},
   "outputs": [
    {
     "name": "stdout",
     "output_type": "stream",
     "text": [
      "32\n"
     ]
    }
   ],
   "source": [
    "print(age)"
   ]
  },
  {
   "cell_type": "code",
   "execution_count": 21,
   "metadata": {},
   "outputs": [
    {
     "name": "stdout",
     "output_type": "stream",
     "text": [
      "age\n"
     ]
    }
   ],
   "source": [
    "print('age')"
   ]
  },
  {
   "cell_type": "markdown",
   "metadata": {},
   "source": [
    "#### 2.3.1 Variable Naming Rules and Styles"
   ]
  },
  {
   "cell_type": "markdown",
   "metadata": {},
   "source": [
    "When you want to define a variable, you need to consider the following tips:\n",
    "<ul>\n",
    "    <li>The <u>first character</u> must be one of the letters <span style='color:blue'>a</span> through <span style='color:blue'>z</span>, <span style='color:blue'>A</span> through <span style='color:blue'>Z</span>, or an under-score character <span style='color:blue'>(_)</span>.</li>\n",
    "    <ul>\n",
    "        <li>Variable names <b>CANNOT</b> begin with numbers.</li>\n",
    "    </ul>\n",
    "    <li>After the first character we may use the letters <span style='color:blue'>a</span> through <span style='color:blue'>z</span> or <span style='color:blue'>A</span> through <span style='color:blue'>Z</span>, the digits <span style='color:blue'>0</span> through <span style='color:blue'>9</span>, or <span style='color:blue'>underscores</span>.</li>\n",
    "    <li>Uppercase and lowercase characters are distinct.</li>\n",
    "    <li>A variable name <b>CANNOT</b> contain spaces.</li>\n",
    "        <ul>\n",
    "            <li> There are different styles for using multiple words as a variable name:</li>\n",
    "            <ol>\n",
    "            <li>Using the underscore character to represent a space. <b>Examples:</b> gross_pay, pay_rate</li>\n",
    "            <li>Using the <i>camleCase</i> naming style:</li>\n",
    "            </ol>\n",
    "                <ul>\n",
    "                <li>The variable name begins with lowercase letters.</li>\n",
    "                <li>The first character of the second and subsequent words is written in uppercase.</li>\n",
    "                <b>Examples:</b> grossPay, payRate\n",
    "                </ul>\n",
    "       </ul>   \n",
    "    <li><b>Important:</b> We should always choose names for your variables that give an indication of what they are used for.</li>\n",
    "    <li>We cannot use one of <i>Python’s key words</i> as a variable name.</li>\n",
    "</ul>"
   ]
  },
  {
   "cell_type": "code",
   "execution_count": 22,
   "metadata": {},
   "outputs": [
    {
     "name": "stdout",
     "output_type": "stream",
     "text": [
      "120\n"
     ]
    }
   ],
   "source": [
    "Temperature = 120\n",
    "print(Temperature)\n"
   ]
  },
  {
   "cell_type": "code",
   "execution_count": 23,
   "metadata": {
    "scrolled": true
   },
   "outputs": [
    {
     "ename": "NameError",
     "evalue": "name 'temperature' is not defined",
     "output_type": "error",
     "traceback": [
      "\u001b[0;31m---------------------------------------------------------------------------\u001b[0m",
      "\u001b[0;31mNameError\u001b[0m                                 Traceback (most recent call last)",
      "Cell \u001b[0;32mIn[23], line 1\u001b[0m\n\u001b[0;32m----> 1\u001b[0m \u001b[38;5;28mprint\u001b[39m(\u001b[43mtemperature\u001b[49m)\n",
      "\u001b[0;31mNameError\u001b[0m: name 'temperature' is not defined"
     ]
    }
   ],
   "source": [
    "print(temperature)"
   ]
  },
  {
   "cell_type": "markdown",
   "metadata": {},
   "source": [
    "Python’s key words:<br>\n",
    "<img src='https://www.dropbox.com/s/f7yqih5obc83tdk/Python%27s%20keywords.png?raw=1' width=650px />\n",
    "\n",
    "<i>Source:Starting Out with Python (4th Edition)- by Tony Gaddis Pearson</i>\n"
   ]
  },
  {
   "cell_type": "markdown",
   "metadata": {},
   "source": [
    "<b>Note:</b> Python allows one to display multiple items with one cell to the <b>print</b> function"
   ]
  },
  {
   "cell_type": "markdown",
   "metadata": {},
   "source": [
    "<b>Example:</b>"
   ]
  },
  {
   "cell_type": "code",
   "execution_count": 7,
   "metadata": {},
   "outputs": [
    {
     "name": "stdout",
     "output_type": "stream",
     "text": [
      "I am staying in room number, 245\n",
      "I am staying in room number,245\n"
     ]
    }
   ],
   "source": [
    "room = 245\n",
    "print('I am staying in room number,', room)\n",
    "\n",
    "print('I am staying in room number,{}'.format(room))"
   ]
  },
  {
   "cell_type": "markdown",
   "metadata": {},
   "source": [
    "<b>Example:</b>"
   ]
  },
  {
   "cell_type": "code",
   "execution_count": 25,
   "metadata": {},
   "outputs": [
    {
     "name": "stdout",
     "output_type": "stream",
     "text": [
      "my age is\n",
      "32\n",
      "my age is 32\n"
     ]
    }
   ],
   "source": [
    "#Using two print functions to dispaly two items.\n",
    "print('my age is')\n",
    "print(age)\n",
    "\n",
    "#Using one print function with comma to seperate items.\n",
    "print('my age is',age)"
   ]
  },
  {
   "cell_type": "markdown",
   "metadata": {},
   "source": [
    "#### 2.3.2 Variable Reassignment"
   ]
  },
  {
   "cell_type": "markdown",
   "metadata": {},
   "source": [
    " Variables can reference different values while a program is running."
   ]
  },
  {
   "cell_type": "markdown",
   "metadata": {},
   "source": [
    "<b>Example:</b>"
   ]
  },
  {
   "cell_type": "code",
   "execution_count": 26,
   "metadata": {},
   "outputs": [
    {
     "name": "stdout",
     "output_type": "stream",
     "text": [
      "1200\n",
      "2600\n",
      "undefined\n"
     ]
    }
   ],
   "source": [
    "#Assigning a value to gross pay\n",
    "gross_pay = 1200\n",
    "print(gross_pay)\n",
    "\n",
    "#Reassigning a different value to gross pay\n",
    "gross_pay = 2600\n",
    "print(gross_pay)\n",
    "\n",
    "#Reassigning a string to gross pay\n",
    "gross_pay = 'undefined'\n",
    "print(gross_pay)"
   ]
  },
  {
   "cell_type": "markdown",
   "metadata": {},
   "source": [
    "### 2.4. Data Types and Literals"
   ]
  },
  {
   "cell_type": "markdown",
   "metadata": {},
   "source": [
    "When you store an item in memory, it is important for you to be aware of the item’s data type. Python uses <i><u>data types</i></u> to categorize values in memory.<br>\n",
    "<ul>\n",
    "    <li>When an integer is stored in memory, it is classified as an <b>int</b>.</li>\n",
    "    <li>When a real number is stored in memory, it is classified as a <b>float</b>.</li>\n",
    "    <li>When a string is stored in memort, it is classified as a <b>str</b>.</li>\n",
    "</ul>\n",
    "\n",
    "<b>One important attribute of Python is that it classifies data types on its own. You need to declare the data type beforehand in some programming languages.</b>\n",
    "\n",
    "<b>Note:</b> <span style='color:blue'>type( )</span> function determines the data type of a variable or a value."
   ]
  },
  {
   "cell_type": "markdown",
   "metadata": {},
   "source": [
    "<b>Example: </b>"
   ]
  },
  {
   "cell_type": "code",
   "execution_count": 27,
   "metadata": {},
   "outputs": [
    {
     "data": {
      "text/plain": [
       "int"
      ]
     },
     "execution_count": 27,
     "metadata": {},
     "output_type": "execute_result"
    }
   ],
   "source": [
    "type(2)"
   ]
  },
  {
   "cell_type": "code",
   "execution_count": 28,
   "metadata": {},
   "outputs": [
    {
     "data": {
      "text/plain": [
       "float"
      ]
     },
     "execution_count": 28,
     "metadata": {},
     "output_type": "execute_result"
    }
   ],
   "source": [
    "type(12.34)"
   ]
  },
  {
   "cell_type": "code",
   "execution_count": 29,
   "metadata": {},
   "outputs": [
    {
     "data": {
      "text/plain": [
       "str"
      ]
     },
     "execution_count": 29,
     "metadata": {},
     "output_type": "execute_result"
    }
   ],
   "source": [
    "type('Alison')"
   ]
  },
  {
   "cell_type": "code",
   "execution_count": 30,
   "metadata": {},
   "outputs": [
    {
     "data": {
      "text/plain": [
       "int"
      ]
     },
     "execution_count": 30,
     "metadata": {},
     "output_type": "execute_result"
    }
   ],
   "source": [
    "type(age)"
   ]
  },
  {
   "cell_type": "code",
   "execution_count": 31,
   "metadata": {},
   "outputs": [
    {
     "data": {
      "text/plain": [
       "str"
      ]
     },
     "execution_count": 31,
     "metadata": {},
     "output_type": "execute_result"
    }
   ],
   "source": [
    "type(first_name)"
   ]
  },
  {
   "cell_type": "markdown",
   "metadata": {},
   "source": [
    "### 2.5. Reading Input from the Keyboard"
   ]
  },
  {
   "cell_type": "markdown",
   "metadata": {},
   "source": [
    "Most programs need to read input typed by the user on the keyboard.\n",
    "<br>\n",
    "Built-in <span style='color:blue'>input( )</span> function reads input from keyboard\n",
    "<br>\n",
    "When a program reads data from the keyboard, usually it stores that data in a variable so it can be used later by the program.\n",
    "<br>\n",
    "<br>\n",
    "Format:\n",
    "<br>\n",
    "<i><b>variable</b> = <span style='color:blue'>input(</span><b>prompt</b><span style='color:blue'>)</span></i>\n",
    "<ul>\n",
    "    <li><b>prompt</b> is a string that is displayed on the screen. it is typically instructing user to enter a value.</li>\n",
    "    <li><b>variable</b> is the name of a variable that references the data that was entered on the keyboard.</li>\n",
    "</ul><br>\n",
    "<b>Example:</b> \n",
    "<br>\n",
    "<b>name</b> = <span style='color:blue'>input(</span>'what is your name?'<span style='color:blue'>)</span></i>\n",
    "<br>\n",
    "<br>\n",
    "When this statement executes, the following things happen:\n",
    "<ul>\n",
    "    <li>The string 'What is your name? ' is displayed on the screen.</li>\n",
    "    <li>The program pauses and waits for the user to type something on the keyboard and then to press the Enter key</li>\n",
    "    <li>When the Enter key is pressed, the data that was typed is returned as a string and assigned to the name variable.</li>"
   ]
  },
  {
   "cell_type": "markdown",
   "metadata": {},
   "source": [
    "Now lets run the code:"
   ]
  },
  {
   "cell_type": "code",
   "execution_count": null,
   "metadata": {},
   "outputs": [],
   "source": [
    "name = input('what is your name? ')\n",
    "print(name)"
   ]
  },
  {
   "cell_type": "code",
   "execution_count": null,
   "metadata": {},
   "outputs": [],
   "source": [
    "last_name = input('What is your last name?')"
   ]
  },
  {
   "cell_type": "code",
   "execution_count": null,
   "metadata": {},
   "outputs": [],
   "source": [
    "print(last_name)"
   ]
  },
  {
   "cell_type": "code",
   "execution_count": null,
   "metadata": {},
   "outputs": [],
   "source": [
    "height = input('what is yor height?')"
   ]
  },
  {
   "cell_type": "code",
   "execution_count": null,
   "metadata": {},
   "outputs": [],
   "source": [
    "print(height)"
   ]
  },
  {
   "cell_type": "code",
   "execution_count": null,
   "metadata": {},
   "outputs": [],
   "source": [
    "type(height)"
   ]
  },
  {
   "cell_type": "markdown",
   "metadata": {},
   "source": [
    "<b>Note:</b> The <span style='color:blue'>input( )</span> function <b>always</b> returns the user’s input as a string, even if the user enters numeric data. Python has built-in functions that you can use to convert a string to a numeric type. "
   ]
  },
  {
   "cell_type": "markdown",
   "metadata": {},
   "source": [
    "<img src='https://www.dropbox.com/s/0nn7ov4vxweb166/Data%20Conversion%20Functions.png?raw=1'>\n",
    "\n",
    "<i>Source:</i>"
   ]
  },
  {
   "cell_type": "code",
   "execution_count": null,
   "metadata": {},
   "outputs": [],
   "source": [
    "Height = int(height)"
   ]
  },
  {
   "cell_type": "code",
   "execution_count": null,
   "metadata": {},
   "outputs": [],
   "source": [
    "type(Height)"
   ]
  },
  {
   "cell_type": "markdown",
   "metadata": {},
   "source": [
    "There are two options to convert a string to a numeric formats:"
   ]
  },
  {
   "cell_type": "code",
   "execution_count": null,
   "metadata": {},
   "outputs": [],
   "source": [
    "#Option 1:\n",
    "string_value = input('what is your age? ')\n",
    "age = int(string_value)\n",
    "print(age)"
   ]
  },
  {
   "cell_type": "code",
   "execution_count": null,
   "metadata": {},
   "outputs": [],
   "source": [
    "#Option 2:\n",
    "age = int(input('what is your age? '))\n",
    "print(age)"
   ]
  },
  {
   "cell_type": "markdown",
   "metadata": {},
   "source": [
    "Lets show a complete progaram that uses the input function to read a string, an\n",
    "int, and a float, as input from the keyboard."
   ]
  },
  {
   "cell_type": "code",
   "execution_count": 33,
   "metadata": {},
   "outputs": [
    {
     "name": "stdout",
     "output_type": "stream",
     "text": [
      "what is your name? claek\n",
      "what is your age? 34\n",
      "what is your income? 12000.8\n",
      "Name: claek\n",
      "Age: 34\n",
      "Income: 12000.8\n"
     ]
    }
   ],
   "source": [
    "# Get the user's name, age and income\n",
    "name = input('what is your name? ')\n",
    "age = int(input('what is your age? '))\n",
    "income = float(input('what is your income? '))\n",
    "\n",
    "#Dispaly the data\n",
    "print('Name:', name)\n",
    "print('Age:', age)\n",
    "print('Income:', income)"
   ]
  },
  {
   "cell_type": "markdown",
   "metadata": {},
   "source": [
    "### 2.6. Performing Calculations"
   ]
  },
  {
   "cell_type": "markdown",
   "metadata": {},
   "source": [
    "Python has many operators that can be used to perform mathematical calculations."
   ]
  },
  {
   "cell_type": "markdown",
   "metadata": {},
   "source": [
    "<img src='https://www.dropbox.com/s/2y0t609rhsqyxkz/Python%20Math%20Operators.png?raw=1'>\n",
    "\n",
    "<i>Source:Starting Out with Python (4th Edition)- by Tony Gaddis Pearson</i>"
   ]
  },
  {
   "cell_type": "markdown",
   "metadata": {},
   "source": [
    "#### 2.6.1 Operator Precedence"
   ]
  },
  {
   "cell_type": "markdown",
   "metadata": {},
   "source": [
    "<ul>\n",
    "    <li>Operations that are enclosed in parentheses are performed first.</li>\n",
    "    <li>When two operators share an operand, the operator with the higher precedence is applied first. The precedence of the math operators, from highest to lowest, are:\n",
    "    <ol>\n",
    "        <li>Exponentiation: **</li>\n",
    "        <li>Multiplication, division, and remainder: * / // %</li>\n",
    "        <li>Addition and subtraction: + −</li>\n",
    "        </ol>        \n",
    "</ul>"
   ]
  },
  {
   "cell_type": "markdown",
   "metadata": {},
   "source": [
    "<b>Example:</b>"
   ]
  },
  {
   "cell_type": "code",
   "execution_count": null,
   "metadata": {},
   "outputs": [],
   "source": [
    "salary = float(input('what is your salary? '))\n",
    "bonus = int(input('what is your bonus? '))\n",
    "\n",
    "#calculate total pay by adding salary and bonus\n",
    "pay = salary + bonus\n",
    "\n",
    "#Dispaly total pay\n",
    "print('your pay is', pay)"
   ]
  },
  {
   "cell_type": "markdown",
   "metadata": {},
   "source": [
    "### 2.7. More About Data Output"
   ]
  },
  {
   "cell_type": "markdown",
   "metadata": {},
   "source": [
    "#### 2.7.1 Suppressing the print Function’s Ending Newline"
   ]
  },
  {
   "cell_type": "markdown",
   "metadata": {},
   "source": [
    "The print function normally displays a line of output. If you do not want the print function to start a new line of output when it finishes displaying its output, you can pass the special argument <span style='color:red'>end='  '</span> to the function."
   ]
  },
  {
   "cell_type": "markdown",
   "metadata": {},
   "source": [
    "<b>Example:</b>"
   ]
  },
  {
   "cell_type": "code",
   "execution_count": null,
   "metadata": {},
   "outputs": [],
   "source": [
    "#The following three statements will produce three lines of output\n",
    "print('Alisson')\n",
    "print('Mark')\n",
    "print('John')"
   ]
  },
  {
   "cell_type": "code",
   "execution_count": 35,
   "metadata": {},
   "outputs": [
    {
     "name": "stdout",
     "output_type": "stream",
     "text": [
      "Alisson Mark John\n"
     ]
    }
   ],
   "source": [
    "#Output manipulation - end key word.\n",
    "#The following three statements will produce one lines of output\n",
    "\n",
    "print('Alisson', end=' ')\n",
    "print('Mark' , end=' ')\n",
    "print('John')"
   ]
  },
  {
   "cell_type": "markdown",
   "metadata": {},
   "source": [
    "<b>Note:</b> If we want the print function to print anything at the end of its output, not even a space, we can pass the argument <span style='color:red'>end=''</span>(without space between quote marks) to the print function."
   ]
  },
  {
   "cell_type": "markdown",
   "metadata": {},
   "source": [
    "<b>Example:</b>"
   ]
  },
  {
   "cell_type": "code",
   "execution_count": 36,
   "metadata": {},
   "outputs": [
    {
     "name": "stdout",
     "output_type": "stream",
     "text": [
      "AlissonMarkJohn\n"
     ]
    }
   ],
   "source": [
    "print('Alisson', end='')\n",
    "print('Mark' , end='')\n",
    "print('John')"
   ]
  },
  {
   "cell_type": "markdown",
   "metadata": {},
   "source": [
    "#### 2.7.2  Specifying an Item Separator"
   ]
  },
  {
   "cell_type": "markdown",
   "metadata": {},
   "source": [
    "When multiple arguments are passed to the print function, they are automatically separated by a space when they are displayed."
   ]
  },
  {
   "cell_type": "markdown",
   "metadata": {},
   "source": [
    "<b>Example:</b>"
   ]
  },
  {
   "cell_type": "code",
   "execution_count": null,
   "metadata": {},
   "outputs": [],
   "source": [
    "print('One', 'Two', 'Three')"
   ]
  },
  {
   "cell_type": "markdown",
   "metadata": {},
   "source": [
    "<b>Note:</b> If we do not want a space printed between the items, we can use the argument <span style='color:red'>sep=''</span> to the print function."
   ]
  },
  {
   "cell_type": "markdown",
   "metadata": {},
   "source": [
    "<b>Example:</b>"
   ]
  },
  {
   "cell_type": "code",
   "execution_count": null,
   "metadata": {},
   "outputs": [],
   "source": [
    "print('One', 'Two', 'Three', sep='')"
   ]
  },
  {
   "cell_type": "markdown",
   "metadata": {},
   "source": [
    "<b>Note:</b> We can also use argument <span style='color:red'>sep</span> to specify a character other than space to seperate multiple items."
   ]
  },
  {
   "cell_type": "markdown",
   "metadata": {},
   "source": [
    "<b>Example:</b>"
   ]
  },
  {
   "cell_type": "code",
   "execution_count": 2,
   "metadata": {},
   "outputs": [
    {
     "name": "stdout",
     "output_type": "stream",
     "text": [
      "OneTwoThree\n"
     ]
    }
   ],
   "source": [
    "print('One', 'Two', 'Three', sep='')"
   ]
  },
  {
   "cell_type": "code",
   "execution_count": null,
   "metadata": {},
   "outputs": [],
   "source": [
    "print('One', 'Two', 'Three', sep='~~~')"
   ]
  },
  {
   "cell_type": "markdown",
   "metadata": {},
   "source": [
    "#### 2.7.3  Escape Character"
   ]
  },
  {
   "cell_type": "markdown",
   "metadata": {},
   "source": [
    "An escape character is a special character that is preceded with a <i>backslash</i>, appearing inside a string literal."
   ]
  },
  {
   "cell_type": "markdown",
   "metadata": {},
   "source": [
    "<img src='https://www.dropbox.com/s/r8a19ky3r29qwx0/Python%27s%20Escape%20Characters.png?raw=1'>\n",
    "\n",
    "<i>Source:Starting Out with Python (4th Edition)- by Tony Gaddis Pearson</i>"
   ]
  },
  {
   "cell_type": "markdown",
   "metadata": {},
   "source": [
    "<b>Examples:</b>"
   ]
  },
  {
   "cell_type": "code",
   "execution_count": 37,
   "metadata": {},
   "outputs": [
    {
     "name": "stdout",
     "output_type": "stream",
     "text": [
      "Mon\n",
      "Tue\n",
      "Wed\n"
     ]
    }
   ],
   "source": [
    "print('Mon\\nTue\\nWed')"
   ]
  },
  {
   "cell_type": "code",
   "execution_count": 64,
   "metadata": {},
   "outputs": [
    {
     "name": "stdout",
     "output_type": "stream",
     "text": [
      "Mon\tTue\tWed\n"
     ]
    }
   ],
   "source": [
    "print('Mon\\tTue\\tWed')"
   ]
  },
  {
   "cell_type": "code",
   "execution_count": 39,
   "metadata": {},
   "outputs": [
    {
     "name": "stdout",
     "output_type": "stream",
     "text": [
      "Mon'Tue'Wed\n"
     ]
    }
   ],
   "source": [
    "print('Mon\\'Tue\\'Wed')"
   ]
  },
  {
   "cell_type": "markdown",
   "metadata": {},
   "source": [
    "<b>Note:</b> When the <span style='color:blue'>+</span> operator is used with two strings, it performs <i>string concatenation</i>. It appends one string to another. "
   ]
  },
  {
   "cell_type": "markdown",
   "metadata": {},
   "source": [
    "<b>Example:</b>"
   ]
  },
  {
   "cell_type": "code",
   "execution_count": null,
   "metadata": {},
   "outputs": [],
   "source": [
    "message = 'Hello ' + 'world'\n",
    "print(message)"
   ]
  },
  {
   "cell_type": "code",
   "execution_count": null,
   "metadata": {},
   "outputs": [],
   "source": [
    "print('please enter the amonut of'+'sales for each day')"
   ]
  },
  {
   "cell_type": "markdown",
   "metadata": {},
   "source": [
    "## 2.8. Displaying Formatted Output with F-strings"
   ]
  },
  {
   "cell_type": "markdown",
   "metadata": {},
   "source": [
    "F-strings give you a easy way to format the ouput that you want to display with the <i>print</i> function."
   ]
  },
  {
   "cell_type": "markdown",
   "metadata": {},
   "source": [
    "<b>Example:</b>"
   ]
  },
  {
   "cell_type": "code",
   "execution_count": 65,
   "metadata": {},
   "outputs": [
    {
     "name": "stdout",
     "output_type": "stream",
     "text": [
      "Hello John.\n"
     ]
    }
   ],
   "source": [
    "name = \"John\"\n",
    "print(f'Hello {name}.')"
   ]
  },
  {
   "cell_type": "code",
   "execution_count": null,
   "metadata": {},
   "outputs": [],
   "source": [
    "temperature = 50\n",
    "print(f'It is currently {temperature} degree')"
   ]
  },
  {
   "cell_type": "code",
   "execution_count": null,
   "metadata": {},
   "outputs": [],
   "source": [
    "print(f'The value is {10/2}.')"
   ]
  },
  {
   "cell_type": "code",
   "execution_count": null,
   "metadata": {},
   "outputs": [],
   "source": [
    "val = 10\n",
    "print(f'The value is {val+2}.')"
   ]
  },
  {
   "cell_type": "code",
   "execution_count": null,
   "metadata": {
    "scrolled": true
   },
   "outputs": [],
   "source": [
    "print(f'{14.6769:.3f}')"
   ]
  },
  {
   "cell_type": "code",
   "execution_count": null,
   "metadata": {},
   "outputs": [],
   "source": [
    "pi = 3.1415926535\n",
    "print(f'{pi:.3f}')"
   ]
  },
  {
   "cell_type": "code",
   "execution_count": null,
   "metadata": {},
   "outputs": [],
   "source": [
    "a = 2\n",
    "b = 3\n",
    "print(f'{a / b:.1f}')"
   ]
  },
  {
   "cell_type": "code",
   "execution_count": null,
   "metadata": {},
   "outputs": [],
   "source": [
    "amount_due = 5000\n",
    "monthly_payment = amount_due / 12\n",
    "print(f'The monthly payement is {monthly_payment:.2f}.')"
   ]
  },
  {
   "cell_type": "code",
   "execution_count": null,
   "metadata": {},
   "outputs": [],
   "source": [
    "number = 1234567890.1234\n",
    "print(f'{number:,}')"
   ]
  },
  {
   "cell_type": "code",
   "execution_count": null,
   "metadata": {},
   "outputs": [],
   "source": [
    "print(f'{number:,.2f}')"
   ]
  },
  {
   "cell_type": "code",
   "execution_count": 28,
   "metadata": {
    "scrolled": true
   },
   "outputs": [
    {
     "name": "stdout",
     "output_type": "stream",
     "text": [
      "5000.000000%\n"
     ]
    }
   ],
   "source": [
    "discount = 50\n",
    "print(f'{discount:2%}')"
   ]
  },
  {
   "cell_type": "code",
   "execution_count": 33,
   "metadata": {
    "scrolled": true
   },
   "outputs": [
    {
     "name": "stdout",
     "output_type": "stream",
     "text": [
      "0.500\n"
     ]
    }
   ],
   "source": [
    "discount = 0.5\n",
    "print(f'{discount:.3f}')"
   ]
  },
  {
   "cell_type": "markdown",
   "metadata": {},
   "source": [
    "#### 2.8.2 Formatting in Scientific Notation"
   ]
  },
  {
   "cell_type": "markdown",
   "metadata": {},
   "source": [
    "If you prefer to display floating-point numbers in <u>scientific</u> notation, you can use the letter <b><span style='color:blue'>e</span></b> or the letter <b><span style='color:blue'>E</span></b>."
   ]
  },
  {
   "cell_type": "markdown",
   "metadata": {},
   "source": [
    "<b>Examples:</b>"
   ]
  },
  {
   "cell_type": "code",
   "execution_count": null,
   "metadata": {},
   "outputs": [],
   "source": [
    "print(f'{18542.42356:e}')"
   ]
  },
  {
   "cell_type": "code",
   "execution_count": null,
   "metadata": {},
   "outputs": [],
   "source": [
    "print(f'{18542.42356:.2E}')"
   ]
  },
  {
   "cell_type": "markdown",
   "metadata": {},
   "source": [
    "#### 2.8.3 Concatenation with F-strings"
   ]
  },
  {
   "cell_type": "code",
   "execution_count": null,
   "metadata": {},
   "outputs": [],
   "source": [
    "name = 'Abbie Lord'\n",
    "department = 'Sales'\n",
    "position = 'Manager'\n",
    "print(f'Employee name : {name},' + f'Department : {department},' + f'Positoin : {position},')"
   ]
  }
 ],
 "metadata": {
  "kernelspec": {
   "display_name": "Python 3 (ipykernel)",
   "language": "python",
   "name": "python3"
  },
  "language_info": {
   "codemirror_mode": {
    "name": "ipython",
    "version": 3
   },
   "file_extension": ".py",
   "mimetype": "text/x-python",
   "name": "python",
   "nbconvert_exporter": "python",
   "pygments_lexer": "ipython3",
   "version": "3.11.3"
  }
 },
 "nbformat": 4,
 "nbformat_minor": 4
}
