{
 "cells": [
  {
   "cell_type": "markdown",
   "metadata": {},
   "source": [
    "1) Write a program that creates a dictionary containing the names of the Galilean moons of Jupiter as keys and their mean radiuses (in kilometers) as values. The dictionary should contain the following key-value pairs:\n",
    "<ul>\n",
    "    <li>Moon Name: Io Europa Ganymede Callisto</li>\n",
    "    <li>Mean Radius: 1821.6 1560.8 2634.1 2410.3</li>\n",
    "</ul>\n",
    "The program should also create a dictionary containing the moon names and their surface gravities (in meters per second squared). The dictionary should contain the following key- value pairs:\n",
    "\n",
    "<ul>\n",
    "    <li>Moon Name: Io Europa Ganymede Callisto</li>\n",
    "    <li>Surface Gravity: 1.796 1.314 1.428 1.235</li>\n",
    "</ul>\n",
    "\n",
    "The program should also create a dictionary containing the moon names and their orbital periods (in days). The dictionary should contain the following key-value pairs:\n",
    "<ul>\n",
    "    <li>Moon Name: Io Europa Ganymede Callisto</li>\n",
    "    <li>Orbital Period: 1.769 3.551 7.154 16.689</li>\n",
    "</ul>\n",
    "The program should let the user enter the name of a Galilean moon of Jupiter, then it should display the moon’s mean radius, surface gravity and orbital period."
   ]
  },
  {
   "cell_type": "code",
   "execution_count": null,
   "metadata": {},
   "outputs": [],
   "source": [
    "Galilean_Radius={'Io':1821.6 , 'Europa':1560.8 ,'Ganymede':2634.1 ,'Callisto':2410.3}\n",
    "Galilean_Gravity={'Io':1.796 , 'Europa':1.314, 'Ganymede':1.428 ,'Callisto':1.235}\n",
    "Galilean_Period={'Io':1.796 , 'Europa':3.551 ,'Ganymede':7.154 ,'Callisto':16.689}\n",
    "\n",
    "moon_name= input('Enter a name: ')\n",
    "if moon_name not in Galilean_Radius:\n",
    "    print('Error')\n",
    "else:\n",
    "    print(\"the moon's mean radius is: \",Galilean_Radius[moon_name] )\n",
    "    print(\"the moon's gravity is: \",Galilean_Gravity[moon_name] )\n",
    "    print(\"the moon's period is: \",Galilean_Period[moon_name] )\n"
   ]
  },
  {
   "cell_type": "markdown",
   "metadata": {},
   "source": [
    "2) Write a program that opens a specified text file then displays a list of all the unique words found in the file."
   ]
  },
  {
   "cell_type": "code",
   "execution_count": null,
   "metadata": {},
   "outputs": [],
   "source": [
    "file_name = input('Enter the name of the file:  ')\n",
    "\n",
    "infile = open(file_name,'r')\n",
    "text = infile.read()\n",
    "words = text.split()\n",
    "\n",
    "unique_words = set(words)\n",
    "count = 0\n",
    "for word in unique_words:\n",
    "    print(word)\n",
    "    count +=1\n",
    "    \n",
    "print(count)"
   ]
  },
  {
   "cell_type": "markdown",
   "metadata": {},
   "source": [
    "3) Write a program that generates 100 random numbers between 1 and 10. The program should store the frequency of each number generated in a dictionary with the number as the key and the amount of times it has occurred as the value. For example, if the program generates the number 6 a total of 11 times, the dictionary will contain a key of 6 with an associated value of 11. Once all of the numbers have been generated, display information about the frequency of each number."
   ]
  },
  {
   "cell_type": "code",
   "execution_count": 1,
   "metadata": {},
   "outputs": [
    {
     "name": "stdout",
     "output_type": "stream",
     "text": [
      "[4, 6, 9, 8, 5, 6, 7, 1, 3, 1, 8, 5, 9, 8, 4, 7, 8, 4, 9, 5, 9, 2, 9, 1, 7, 9, 4, 3, 4, 1, 4, 5, 2, 4, 6, 7, 1, 5, 10, 3, 2, 4, 6, 1, 7, 3, 4, 8, 3, 1, 9, 9, 8, 6, 5, 3, 1, 8, 1, 7, 10, 4, 8, 4, 4, 4, 6, 1, 7, 6, 10, 2, 5, 3, 3, 3, 7, 4, 9, 6, 2, 2, 10, 8, 2, 1, 8, 7, 7, 4, 10, 10, 5, 9, 10, 5, 6, 3, 8, 3]\n",
      "{4: 15, 6: 9, 9: 10, 8: 11, 5: 9, 7: 10, 1: 11, 3: 11, 2: 7, 10: 7}\n"
     ]
    }
   ],
   "source": [
    "import random \n",
    "counter={}\n",
    "rand_list = []\n",
    "for i in range(100):\n",
    "    rand = random.randint(1,10)\n",
    "    rand_list.append(rand)\n",
    "\n",
    "print(rand_list)\n",
    "\n",
    "for i in rand_list:\n",
    "    counter[i]=0\n",
    "    \n",
    "\n",
    "for item in rand_list:\n",
    "    counter[item] += 1\n",
    "    \n",
    "print(counter)"
   ]
  },
  {
   "cell_type": "markdown",
   "metadata": {},
   "source": [
    "4) Write a program that reads the content of a text file. The program should create a dictionary in which the keys are the individual words found in the file and the values are the number of times each word appears."
   ]
  },
  {
   "cell_type": "code",
   "execution_count": null,
   "metadata": {},
   "outputs": [],
   "source": [
    "input_file = input('Enter the file name: ')\n",
    "infile = open(input_file,'r')\n",
    "text = infile.read()\n",
    "infile.close()\n",
    "counter = {}\n",
    "\n",
    "words = text.split()\n",
    "unique_words = set(words)\n",
    "\n",
    "for item in unique_words:\n",
    "    counter[item] =0\n",
    "    \n",
    "for item in words:\n",
    "    counter[item] +=1\n",
    "    \n",
    "print(counter)"
   ]
  },
  {
   "cell_type": "markdown",
   "metadata": {},
   "source": [
    "5)Write a program that reads the contents of a text file. The program should create a dictionary in which the key-value pairs are described as follows:\n",
    "<ul><li>Key. The keys are the individual words found in the file.</li>\n",
    "<li>Values. Each value is a list that contains the line numbers in the file where the word\n",
    "    (the key) is found.</li></ul>\n",
    "Once the dictionary is built, the program should create another text file, known as a word index, listing the contents of the dictionary. The word index file should contain an alpha- betical listing of the words that are stored as keys in the dictionary, along with the line numbers where the words appear in the original file."
   ]
  },
  {
   "cell_type": "code",
   "execution_count": 5,
   "metadata": {},
   "outputs": [],
   "source": [
    "def main():\n",
    "    infile = open('./Assignments/Content.txt','r')\n",
    "    text_list= infile.readlines()\n",
    "    infile.close()\n",
    "    \n",
    "    index = 0\n",
    "    while index<len(text_list):\n",
    "        text_list[index]=text_list[index].rstrip('\\n')\n",
    "        index += 1\n",
    "        \n",
    "        \n",
    "    word_dict = get_word_dict(text_list)\n",
    "    write_to_file(word_dict)\n",
    "    \n",
    "    \n",
    "    \n",
    "def get_word_dict(my_list):\n",
    "    word_dict = {}\n",
    "    count = 0\n",
    "    \n",
    "    for item in my_list:\n",
    "        words = item.split()\n",
    "        \n",
    "        for w in words:\n",
    "            if w in word_dict:\n",
    "                word_dict[w].add(count+1)\n",
    "            else:\n",
    "                word_dict[w]=set([count+1])      \n",
    "        count += 1\n",
    "    \n",
    "    return word_dict\n",
    "\n",
    "\n",
    "def write_to_file(word_dict):\n",
    "    \n",
    "    outfile = open('index.txt','w')\n",
    "    for key in word_dict:\n",
    "        outfile.write(key +': ')\n",
    "        for val in word_dict[key]:\n",
    "            outfile.write(str(val)+' ')\n",
    "        outfile.write('\\n')\n",
    "    \n",
    "    outfile.close()\n",
    "    \n",
    "main()"
   ]
  },
  {
   "cell_type": "markdown",
   "metadata": {},
   "source": [
    "6) Write a Python program to sum all the items in a dictionary."
   ]
  },
  {
   "cell_type": "code",
   "execution_count": 3,
   "metadata": {},
   "outputs": [
    {
     "name": "stdout",
     "output_type": "stream",
     "text": [
      "293\n"
     ]
    }
   ],
   "source": [
    "my_dict = {'data1':100,'data2':-54,'data3':247}\n",
    "total = 0\n",
    "for i in my_dict.values():\n",
    "    total +=i\n",
    "print(total)\n",
    "    "
   ]
  },
  {
   "cell_type": "code",
   "execution_count": 6,
   "metadata": {},
   "outputs": [
    {
     "name": "stdout",
     "output_type": "stream",
     "text": [
      "293\n"
     ]
    }
   ],
   "source": [
    "my_dict = {'data1':100,'data2':-54,'data3':247}\n",
    "print(sum(my_dict.values()))"
   ]
  },
  {
   "cell_type": "markdown",
   "metadata": {},
   "source": [
    "7)Write a Python program to remove a key from a dictionary. "
   ]
  },
  {
   "cell_type": "code",
   "execution_count": 7,
   "metadata": {},
   "outputs": [
    {
     "name": "stdout",
     "output_type": "stream",
     "text": [
      "{'a': 1, 'b': 2, 'c': 3, 'd': 4}\n",
      "{'b': 2, 'c': 3, 'd': 4}\n"
     ]
    }
   ],
   "source": [
    "myDict = {'a':1,'b':2,'c':3,'d':4}\n",
    "print(myDict)\n",
    "if 'a' in myDict: \n",
    "    del myDict['a']\n",
    "print(myDict)"
   ]
  },
  {
   "cell_type": "markdown",
   "metadata": {},
   "source": [
    "Write a Python script to print a dictionary where the keys are numbers between 1 and 15 (both included) and the values are square of keys. "
   ]
  },
  {
   "cell_type": "code",
   "execution_count": 8,
   "metadata": {},
   "outputs": [
    {
     "name": "stdout",
     "output_type": "stream",
     "text": [
      "[1, 10, 7, 8, 15, 4, 7, 15, 5, 8]\n",
      "{1: 1, 10: 100, 7: 49, 8: 64, 15: 225, 4: 16, 5: 25}\n"
     ]
    }
   ],
   "source": [
    "import random\n",
    "rand_list=[]\n",
    "for i in range(10):\n",
    "    rand = random.randint(1,15)\n",
    "    rand_list.append(rand)\n",
    "print(rand_list)    \n",
    "dict={item:item**2 for item in rand_list}\n",
    "print(dict)"
   ]
  },
  {
   "cell_type": "markdown",
   "metadata": {},
   "source": [
    "Write a Python program to print all unique values in a dictionary."
   ]
  },
  {
   "cell_type": "code",
   "execution_count": null,
   "metadata": {},
   "outputs": [],
   "source": [
    "L = [{\"V\":\"S001\"}, {\"V\": \"S002\"}, {\"VI\": \"S001\"}, {\"VI\": \"S005\"}, {\"VII\":\"S005\"}, {\"V\":\"S009\"},{\"VIII\":\"S007\"}]\n",
    "print(\"Original List: \",L)\n",
    "\n",
    "new =[]\n",
    "for item in L:\n",
    "    for val in item.values():\n",
    "        new.append(val)\n",
    "        \n",
    "new_set = set(new)\n",
    "print(new_set)"
   ]
  },
  {
   "cell_type": "markdown",
   "metadata": {},
   "source": [
    "Write a Python program to create a dictionary from a string."
   ]
  },
  {
   "cell_type": "code",
   "execution_count": 14,
   "metadata": {},
   "outputs": [
    {
     "name": "stdout",
     "output_type": "stream",
     "text": [
      "{'P': 2, 'y': 1, 't': 1, 'h': 1, 'o': 2, 'n': 2, ' ': 1, 'r': 2, 'g': 2, 'a': 1, 'm': 2, 'i': 1}\n"
     ]
    }
   ],
   "source": [
    "str1 = 'Python Programming' \n",
    "my_dict = {}\n",
    "for letter in str1:\n",
    "    my_dict[letter] = my_dict.get(letter, 0) + 1\n",
    "print(my_dict)"
   ]
  },
  {
   "cell_type": "code",
   "execution_count": null,
   "metadata": {},
   "outputs": [],
   "source": [
    "str1 = 'Python Programming'  \n",
    "my_dict = {}\n",
    "\n",
    "for i in str1:\n",
    "    my_dict[i]=0\n",
    "    \n",
    "\n",
    "for item in str1:\n",
    "    my_dict[item] += 1\n",
    "    \n",
    "print(my_dict)"
   ]
  },
  {
   "cell_type": "markdown",
   "metadata": {},
   "source": [
    "Write a Python program to count the values associated with key in a dictionary."
   ]
  },
  {
   "cell_type": "code",
   "execution_count": null,
   "metadata": {},
   "outputs": [],
   "source": [
    "student = [{'id': 1, 'success': True, 'name': 'Lary'},\n",
    " {'id': 2, 'success': False, 'name': 'Rabi'},\n",
    " {'id': 3, 'success': True, 'name': 'Alex'}]\n",
    "print(sum(d['id'] for d in student))\n",
    "print(sum(d['success'] for d in student))"
   ]
  }
 ],
 "metadata": {
  "kernelspec": {
   "display_name": "Python 3 (ipykernel)",
   "language": "python",
   "name": "python3"
  },
  "language_info": {
   "codemirror_mode": {
    "name": "ipython",
    "version": 3
   },
   "file_extension": ".py",
   "mimetype": "text/x-python",
   "name": "python",
   "nbconvert_exporter": "python",
   "pygments_lexer": "ipython3",
   "version": "3.11.2"
  }
 },
 "nbformat": 4,
 "nbformat_minor": 4
}
