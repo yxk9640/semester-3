{
 "cells": [
  {
   "cell_type": "markdown",
   "metadata": {},
   "source": [
    "    Neshat Beheshti\n",
    "    University of Texas Arlington\n",
    "\n",
    "    This document can only be used for class studies. \n",
    "    You are not allowed to share it in any public platform."
   ]
  },
  {
   "cell_type": "markdown",
   "metadata": {},
   "source": [
    "        The Material for this Notebook is Adopted from \n",
    "        Starting Out with Python (5th Edition)- by Tony Gaddis Pearson"
   ]
  },
  {
   "cell_type": "markdown",
   "metadata": {},
   "source": [
    "<h1 align='center' style=\"color: blue;\">Database Programming</h1>"
   ]
  },
  {
   "cell_type": "markdown",
   "metadata": {},
   "source": [
    "## Database Management Systems"
   ]
  },
  {
   "cell_type": "markdown",
   "metadata": {},
   "source": [
    "If an application needs to store only small amount of data, traditional files work well.These types of files are not practical, when a large amount of data must be stored and manipulated.\n",
    "<ul>\n",
    "    <li> Simple operations such as searching, inserting, and deleting become inefficient.</li>"
   ]
  },
  {
   "cell_type": "markdown",
   "metadata": {},
   "source": [
    "A database management system (DBMS) is software that is designed to store, retrieve an manipulate large amounts of data."
   ]
  },
  {
   "cell_type": "markdown",
   "metadata": {},
   "source": [
    "Using DBMS, the Python programmer doesn't have to be concerned with the way the data is stored on disk, and the algorithms that used to store and retrieve the data.\n",
    "<ul><li>The programmer needs to know only how to interact with the DBMS.</li></ul>"
   ]
  },
  {
   "cell_type": "markdown",
   "metadata": {},
   "source": [
    "#### SQL"
   ]
  },
  {
   "cell_type": "markdown",
   "metadata": {},
   "source": [
    "A standard language for working with the DBMS."
   ]
  },
  {
   "cell_type": "markdown",
   "metadata": {},
   "source": [
    "When a Python application interacts with a DBMS, the Python application must construct SQL statements as strings, and then use a library method to pass those strings to the DBMS."
   ]
  },
  {
   "cell_type": "markdown",
   "metadata": {},
   "source": [
    "We use SQLite because it is easy to use, and it is automatically installed on your system.\n",
    "<ul><li>You must import the <b><i>sqlite3</i></b> module</li></ul>"
   ]
  },
  {
   "cell_type": "markdown",
   "metadata": {},
   "source": [
    "## Tables, Rows, and Columns"
   ]
  },
  {
   "cell_type": "markdown",
   "metadata": {},
   "source": [
    "The data that is stored in a database is organized into one or more tables:\n",
    "<ul>\n",
    "    <li>Each table holds a collection of related data.\n",
    "        <ul><li>The data that is stored in a table is organized into rows and columns.</li>\n",
    "            <ul><li>A row is a complete set of data about a single item. The data that is stored in a row is divided into columns.</li>\n",
    "                <ul><li> Each column holds an individual piece of data about the item.</li></ul></ul></ul>"
   ]
  },
  {
   "cell_type": "markdown",
   "metadata": {},
   "source": [
    "### Column Data Types:"
   ]
  },
  {
   "cell_type": "markdown",
   "metadata": {},
   "source": [
    "<ul>\n",
    "    <li>NULL: Can be used when the value is unknown or missing. When Python reads a NULL column value into memory, the value is converted to the value None.</li>\n",
    "    <li>INTEGER: Holds an integer value. When Python reads an INTEGER column value into memory, the value is converted to an int value.</li>\n",
    "    <li>REAL: Holds a real number. When Python reads a REAl column value into memory, the value is converted to a float value.</li>\n",
    "    <li>TEXT: Holds a string. When Python reads a TEXT column value into memory, the value is converted to an str value.</li>\n",
    "    <li>BLOB: Holds an object of any type. For example, it can hold an array or an image. When Python reads a BLOB column value into memory, the value is converted to a bytes object, which is an immutable sequence of bytes.</li>\n",
    "</ul>   "
   ]
  },
  {
   "cell_type": "markdown",
   "metadata": {},
   "source": [
    "### Primary Keys"
   ]
  },
  {
   "cell_type": "markdown",
   "metadata": {},
   "source": [
    "Database tables usually have a primary key, which is a column that can be used to identify a specific row.<br>\n",
    "The column that is designated as the primary key must hold a unique value for each row."
   ]
  },
  {
   "cell_type": "markdown",
   "metadata": {},
   "source": [
    "<b>Example1:</b>"
   ]
  },
  {
   "cell_type": "markdown",
   "metadata": {},
   "source": [
    "A table stores employee data, and one of the columns hold employee ID numbers. Employees' ID numbers are unique, so this column can be used as the primary key."
   ]
  },
  {
   "cell_type": "markdown",
   "metadata": {},
   "source": [
    "<b>Example2:</b>"
   ]
  },
  {
   "cell_type": "markdown",
   "metadata": {},
   "source": [
    "A table stores product data, and one of the columns holds the product's serial number. products' serial numbers are unique, so this column can be used as the primary key."
   ]
  },
  {
   "cell_type": "markdown",
   "metadata": {},
   "source": [
    "<b>Example3:</b>"
   ]
  },
  {
   "cell_type": "markdown",
   "metadata": {},
   "source": [
    "A table stores invoice data, and one of the columns hold invoice numbers. Each invoice has a unique invoice number, so this column can be used as a primary key."
   ]
  },
  {
   "cell_type": "markdown",
   "metadata": {},
   "source": [
    "### Identity Columns"
   ]
  },
  {
   "cell_type": "markdown",
   "metadata": {},
   "source": [
    "Sometimes, the data that you want to store in a table does not contain any unique items that can be used as a primary key.\n",
    "<ul><li>It is neccessary to create an identity column to serve as the primary key.</li></ul>"
   ]
  },
  {
   "cell_type": "markdown",
   "metadata": {},
   "source": [
    "An Identity column is a column that contains unique values that are generated by the DBMS.\n",
    "<ul><li>typically contains integers that are autoincremented. Each time a new row is added to the table, the DBMS automatically assigns the identity column an integer that is 1 greater than the largest value currently stored in the indentity column. </li></ul>"
   ]
  },
  {
   "cell_type": "markdown",
   "metadata": {},
   "source": [
    "### Allowing Null Values"
   ]
  },
  {
   "cell_type": "markdown",
   "metadata": {},
   "source": [
    "If a column contains no data,it is said to be null.\n",
    "<ul><li>Sometimes it is okey for a column to be left empty.</li>\n",
    "<ul><li>columns such as primary keys must contains a value.</li></ul>\n",
    "<li>When you are designing a table, you can apply a constraint, or rule that prevents a column from being null.</li>\n",
    "</ul>"
   ]
  },
  {
   "cell_type": "markdown",
   "metadata": {},
   "source": [
    "## Openning and Closing a Database Connection with SQLite"
   ]
  },
  {
   "cell_type": "markdown",
   "metadata": {},
   "source": [
    "Process of using a SQLite with pseudocode:\n",
    "<ul><i>\n",
    "    Connect to the database<br>\n",
    "    Get a cursor for the database<br>\n",
    "    Perform operations on the database<br>\n",
    "    Commit changes to the database<br>\n",
    "    Close the connection to the database\n",
    "    </i></ul>"
   ]
  },
  {
   "cell_type": "markdown",
   "metadata": {},
   "source": [
    "<ul><li><b>Connect to the database:</b> Established a connection between the program and a specific database file.(if the database file doesn't exist, it will be created)</li>\n",
    "    <li><b>Get a cursor for the database:</b> A cursor is an object that is able to access and manipulate the data in a database.</li>\n",
    "    <li><b>Perform operations on the database:</b> Once you have a cursor, you can access and modify the data in the database. You can use the cursor to retrieve data, insert new data, update existing data, and delete data.</li>\n",
    "    <li><b>Commit changes to the database:</b> After performing any operations that modify the contents of a table, be sure to commit those changes to the database.</li>\n",
    "    <li><b>Close the connection to the database:</b> When you are finished using the database, you should close the connection.</li>\n",
    "</ul>"
   ]
  },
  {
   "cell_type": "markdown",
   "metadata": {},
   "source": [
    "<b>Example:</b>"
   ]
  },
  {
   "cell_type": "code",
   "execution_count": 1,
   "metadata": {},
   "outputs": [],
   "source": [
    "import sqlite3\n",
    "conn = sqlite3.connect('Database/contacts.db')\n",
    "cur = conn.cursor()\n",
    "conn.commit()\n",
    "conn.close()"
   ]
  },
  {
   "cell_type": "markdown",
   "metadata": {},
   "source": [
    "### Passing SQL Statements to the DBMS"
   ]
  },
  {
   "cell_type": "markdown",
   "metadata": {},
   "source": [
    "With SQLite, we use the Cursor object's execute methods to pass an SQL statement to the DBMS. <br>\n",
    "The general format:<br>\n",
    "<i>cur.execute(SQLstring)</i>    "
   ]
  },
  {
   "cell_type": "markdown",
   "metadata": {},
   "source": [
    "## Creating and Deleting Tables"
   ]
  },
  {
   "cell_type": "markdown",
   "metadata": {},
   "source": [
    "### Creating a Table"
   ]
  },
  {
   "cell_type": "markdown",
   "metadata": {},
   "source": [
    "To add a table, we use the SQL statement CREATE TABLE"
   ]
  },
  {
   "cell_type": "markdown",
   "metadata": {},
   "source": [
    "CREATE TABLE <i>TableName (Column1 DataType1, Column2 DataType2, etc...)</i>"
   ]
  },
  {
   "cell_type": "markdown",
   "metadata": {},
   "source": [
    "<b>Example:</b>"
   ]
  },
  {
   "cell_type": "markdown",
   "metadata": {},
   "source": [
    "CREATE TABLE Inventory (ItemName TEXT, Price REAL)"
   ]
  },
  {
   "cell_type": "markdown",
   "metadata": {},
   "source": [
    "<b>Example:</b>"
   ]
  },
  {
   "cell_type": "markdown",
   "metadata": {},
   "source": [
    "CREATE TABLE <i>TableName (ColumnName1 DataType1 PRIMARY KEY, ColumnName2 DataType2, etc....)</i>"
   ]
  },
  {
   "cell_type": "markdown",
   "metadata": {},
   "source": [
    "CREATE TABLE <i>TableName (ColumnName1 DataType1 PRIMARY KEY NOT NULL, ColumnName2 DataType2, etc....)</i>"
   ]
  },
  {
   "cell_type": "markdown",
   "metadata": {},
   "source": [
    "<b>Example:</b>"
   ]
  },
  {
   "cell_type": "markdown",
   "metadata": {},
   "source": [
    "CREATE TABLE Inventory (ItemID INTEGER PRIMARY KEY NOT NULL, ItemName TEXT, Price REAL)"
   ]
  },
  {
   "cell_type": "markdown",
   "metadata": {},
   "source": [
    "<b>Note:</b> SQL statements are free form, which means that tabs, newlines, and spaces between the keywords are ignored."
   ]
  },
  {
   "cell_type": "code",
   "execution_count": null,
   "metadata": {},
   "outputs": [],
   "source": [
    "CREATE TABLE Inventory (ItemName TEXT , Price REAL)"
   ]
  },
  {
   "cell_type": "code",
   "execution_count": null,
   "metadata": {},
   "outputs": [],
   "source": [
    "CREATE TABLE Inventory (\n",
    "                            ItemName TEXT , \n",
    "                            Price REAL\n",
    "                        )"
   ]
  },
  {
   "cell_type": "markdown",
   "metadata": {},
   "source": [
    "<b>Note:</b> SQL keywords and table names are case insensitive. The previous statement could be written as:"
   ]
  },
  {
   "cell_type": "code",
   "execution_count": null,
   "metadata": {},
   "outputs": [],
   "source": [
    "create table inventory (ItemName text, Price real)"
   ]
  },
  {
   "cell_type": "markdown",
   "metadata": {},
   "source": [
    "To execute our SQL statement in Python, we must pass the statement as a string to the Cursor object's execute method.\n",
    "<ul><li>Tech#1: Assign the string to a variable, and then pass the variable to the execute method.</li>\n",
    "    <li> Tech#2: Simply pass the SQL statement as a string literal to the execute method.</li></ul>"
   ]
  },
  {
   "cell_type": "markdown",
   "metadata": {},
   "source": [
    "<b>Example:</b>"
   ]
  },
  {
   "cell_type": "code",
   "execution_count": null,
   "metadata": {},
   "outputs": [],
   "source": [
    "sql = '''CREATE TABLE Inventory(ItemID INTEGER PRIMARY KEY NOT NULL, \n",
    "                                                ItemName TEXT, \n",
    "                                                price REAL)'''\n",
    "cur.execute(sql)"
   ]
  },
  {
   "cell_type": "markdown",
   "metadata": {},
   "source": [
    "<b>Example:</b>"
   ]
  },
  {
   "cell_type": "code",
   "execution_count": null,
   "metadata": {},
   "outputs": [],
   "source": [
    "cur.execute('''CREATE TABLE Inventory(ItemID INTEGER PRIMARY KEY NOT NULL, \n",
    "                                                ItemName TEXT, \n",
    "                                                price REAL)''')"
   ]
  },
  {
   "cell_type": "markdown",
   "metadata": {},
   "source": [
    "<b>Example:</b>"
   ]
  },
  {
   "cell_type": "markdown",
   "metadata": {},
   "source": [
    "Write a program to create Inventory table on DBMS."
   ]
  },
  {
   "cell_type": "code",
   "execution_count": null,
   "metadata": {},
   "outputs": [],
   "source": [
    "import sqlite3\n",
    "\n",
    "def main():\n",
    "    conn = sqlite3.connect('inventory.db')\n",
    "    cur = conn.cursor()\n",
    "   \n",
    "    cur.execute('''CREATE TABLE Inventory(ItemID INTEGER PRIMARY KEY NOT NULL, \n",
    "                                                ItemName TEXT, \n",
    "                                                price REAL)''')\n",
    "    conn.commit()\n",
    "    conn.close()\n",
    "main()"
   ]
  },
  {
   "cell_type": "markdown",
   "metadata": {},
   "source": [
    "### Creating Multiple Tables"
   ]
  },
  {
   "cell_type": "markdown",
   "metadata": {},
   "source": [
    "It's common for database to contain multiple tables."
   ]
  },
  {
   "cell_type": "markdown",
   "metadata": {},
   "source": [
    "<b>Example:</b>"
   ]
  },
  {
   "cell_type": "code",
   "execution_count": null,
   "metadata": {},
   "outputs": [],
   "source": [
    "import sqlite3\n",
    "\n",
    "def main():\n",
    "    conn = sqlite3.connect('company.db')\n",
    "    cur = conn.cursor()\n",
    "    cur.execute('''CREATE TABLE Customers (CustomerID INTEGER PRIMARY KEY NOT NULL,\n",
    "                                            Name TEXT,\n",
    "                                            Email TEXT)''')\n",
    "    \n",
    "    cur.execute('''CREATE TABLE Employee (EmployeeID INTEGER PRIMARY KEY NOT NULL,\n",
    "                                            Name TEXT,\n",
    "                                            Position TEXT)''')\n",
    "    conn.commit()\n",
    "    conn.close()\n",
    "    \n",
    "main()"
   ]
  },
  {
   "cell_type": "markdown",
   "metadata": {},
   "source": [
    "<b>Note:</b> An error will occur if you try to create a table that already exists.\n",
    "    <ul><li>To prevent the error, you can use the following format of the CREATE TABLE statement:</li></ul>\n",
    "    CREATE TABLE IF NOT EXISTS TableName (ColumnName1 DataType1, ColumnName2 DataType2, etc...)"
   ]
  },
  {
   "cell_type": "markdown",
   "metadata": {},
   "source": [
    "<b>Example:</b>"
   ]
  },
  {
   "cell_type": "code",
   "execution_count": null,
   "metadata": {},
   "outputs": [],
   "source": [
    "import sqlite3\n",
    "\n",
    "def main():\n",
    "    conn = sqlite3.connect('inventory.db')\n",
    "    cur = conn.cursor()\n",
    "   \n",
    "    cur.execute('''CREATE TABLE IF NOT EXISTS Inventory(ItemID INTEGER PRIMARY KEY NOT NULL, \n",
    "                                                ItemName TEXT, \n",
    "                                                price REAL)''')\n",
    "    conn.commit()\n",
    "    conn.close()\n",
    "main()"
   ]
  },
  {
   "cell_type": "markdown",
   "metadata": {},
   "source": [
    "### Deleting a Table"
   ]
  },
  {
   "cell_type": "markdown",
   "metadata": {},
   "source": [
    "If you need to delete a table, you can use the SQL statement DROP TABLE.<br>\n",
    "The general format:\n",
    "    DROP TABLE TableName"
   ]
  },
  {
   "cell_type": "markdown",
   "metadata": {},
   "source": [
    "<b>Example:</b>"
   ]
  },
  {
   "cell_type": "code",
   "execution_count": null,
   "metadata": {},
   "outputs": [],
   "source": [
    "cur.execute('DROP TABLE Temp')"
   ]
  },
  {
   "cell_type": "code",
   "execution_count": null,
   "metadata": {},
   "outputs": [],
   "source": [
    "import sqlite3\n",
    "\n",
    "def main():\n",
    "    conn = sqlite3.connect('inventory.db')\n",
    "    cur = conn.cursor()\n",
    "   \n",
    "    cur.execute('''DROP TABLE if exists Inventory''')\n",
    "    conn.commit()\n",
    "    conn.close()\n",
    "main()"
   ]
  },
  {
   "cell_type": "markdown",
   "metadata": {},
   "source": [
    "An error will occur if you try to drop a table that doesn't exist.\n",
    "<ul><li>To prevent the error, you can use the fromat of the DROP TABLE statement:</li>\n",
    "    <li>DROP TABLE IF EXISTS TableName</li></ul>\n",
    "    <li>cur.execute('DROP TABLE IF EXISTS Temp')</li>"
   ]
  },
  {
   "cell_type": "markdown",
   "metadata": {},
   "source": [
    "## Adding Data to a Table"
   ]
  },
  {
   "cell_type": "markdown",
   "metadata": {},
   "source": [
    "In SQL, the INSERT statement is used to insert a row into a database table.<br>\n",
    "The general format:<br>\n",
    "    INSERT INTO TableName (ColumnName1, ColumnName2, etc...)<br>\n",
    "    VALUES (Value1, Value2, etc...)"
   ]
  },
  {
   "cell_type": "markdown",
   "metadata": {},
   "source": [
    "<b>Example:</b>"
   ]
  },
  {
   "cell_type": "code",
   "execution_count": null,
   "metadata": {},
   "outputs": [],
   "source": [
    "cur.execute('''INSERT INTO Inventory (ItemID, ItemName, Price)\n",
    "               VALUES (1, \"Screwdriver\", 4.99)''')"
   ]
  },
  {
   "cell_type": "code",
   "execution_count": null,
   "metadata": {},
   "outputs": [],
   "source": [
    "import sqlite3\n",
    "conn =sqlite3.connect('inventory.db')\n",
    "cur = conn.cursor()\n",
    "cur.execute('''CREATE TABLE IF NOT EXISTS Inventory(ItemID INTEGER PRIMARY KEY NOT NULL, \n",
    "                                                ItemName TEXT, \n",
    "                                                price REAL)''')\n",
    "# cur.execute('''INSERT INTO Inventory (ItemID, ItemName, Price)\n",
    "#                VALUES (1, \"Screwdriver\", 4.99)''')\n",
    "cur.execute('INSERT INTO Inventory (ItemID, ItemName, Price) VALUES (3, \"Hammer\", 4.99)')\n",
    "\n",
    "conn.commit()\n",
    "conn.close()\n"
   ]
  },
  {
   "cell_type": "markdown",
   "metadata": {},
   "source": [
    "<b>Note:</b> in the previous example, ItemID column is both an INTEGER and a PRIMARY KEY, the DBMS will automatically generate a unique integer value for it if we do not provide one.<br>\n",
    "If we want to use the auto-generated value, we can simply omit the ItemID column from our INSERT statement."
   ]
  },
  {
   "cell_type": "markdown",
   "metadata": {},
   "source": [
    "cur.execute('''INSERT INTO Inventory (ItemName, Price)\n",
    "               VALUES (\"Screwdriver\", 4.99)''')"
   ]
  },
  {
   "cell_type": "markdown",
   "metadata": {},
   "source": [
    "<b>Example:</b>"
   ]
  },
  {
   "cell_type": "code",
   "execution_count": null,
   "metadata": {},
   "outputs": [],
   "source": [
    "import sqlite3\n",
    "\n",
    "def main():\n",
    "    conn = sqlite3.connect('inventory.db')\n",
    "    \n",
    "    cur = conn.cursor()\n",
    "    \n",
    "    cur.execute('''INSERT INTO Inventory (ItemName, Price)\n",
    "                    VALUES(\"Screwdriver\",4.99)''')\n",
    "    cur.execute('''INSERT INTO Inventory (ItemName, Price)\n",
    "                    VALUES(\"Hammer\",12.99)''') \n",
    "    cur.execute('''INSERT INTO Inventory (ItemName, Price)\n",
    "                    VALUES(\"Vice Grips\",14.99)''') \n",
    "    \n",
    "    conn.commit()\n",
    "    conn.close()\n",
    "    \n",
    "main()"
   ]
  },
  {
   "cell_type": "code",
   "execution_count": 5,
   "metadata": {},
   "outputs": [],
   "source": [
    "conn = sqlite3.connect('inventory.db')\n",
    "cur = conn.cursor()"
   ]
  },
  {
   "cell_type": "markdown",
   "metadata": {},
   "source": [
    "<b>Note:</b> We can insert multiple rows into a table with one INSERT statement."
   ]
  },
  {
   "cell_type": "code",
   "execution_count": 6,
   "metadata": {},
   "outputs": [
    {
     "data": {
      "text/plain": [
       "<sqlite3.Cursor at 0x130b40f40>"
      ]
     },
     "execution_count": 6,
     "metadata": {},
     "output_type": "execute_result"
    }
   ],
   "source": [
    "cur.execute('''INSERT INTO Inventory (ItemName, Price)\n",
    "                    VALUES(\"Screwdriver\",4.99),\n",
    "                    (\"Hammer\",12.99),\n",
    "                    (\"Vice Grips\",14.99)''')"
   ]
  },
  {
   "cell_type": "markdown",
   "metadata": {},
   "source": [
    "Sometimes, you might not have all the data for a row that you are inserting into a table:"
   ]
  },
  {
   "cell_type": "code",
   "execution_count": 7,
   "metadata": {},
   "outputs": [
    {
     "data": {
      "text/plain": [
       "<sqlite3.Cursor at 0x130b40f40>"
      ]
     },
     "execution_count": 7,
     "metadata": {},
     "output_type": "execute_result"
    }
   ],
   "source": [
    "cur.execute('''INSERT INTO Inventory (ItemName, Price)\n",
    "                    VALUES(\"Power Drill\",Null)''')"
   ]
  },
  {
   "cell_type": "code",
   "execution_count": 8,
   "metadata": {},
   "outputs": [
    {
     "data": {
      "text/plain": [
       "<sqlite3.Cursor at 0x130b40f40>"
      ]
     },
     "execution_count": 8,
     "metadata": {},
     "output_type": "execute_result"
    }
   ],
   "source": [
    "cur.execute('''INSERT INTO Inventory (ItemName)\n",
    "                    VALUES(\"Power Drill\")''')"
   ]
  },
  {
   "cell_type": "code",
   "execution_count": 9,
   "metadata": {},
   "outputs": [],
   "source": [
    "cur.close()"
   ]
  },
  {
   "cell_type": "markdown",
   "metadata": {},
   "source": [
    "To prevent a column from ever being assigned the value NULL, use the NOT NULL constraint when you create the table."
   ]
  },
  {
   "cell_type": "code",
   "execution_count": null,
   "metadata": {},
   "outputs": [],
   "source": [
    "CREATE TABLE Inventoy ((ItemID INTEGER PRIMARY KEY NOT NULL, \n",
    "                                      ItemName TEXT NOT NULL, \n",
    "                                      price REAL NOT NULL))"
   ]
  },
  {
   "cell_type": "markdown",
   "metadata": {},
   "source": [
    "### Inserting the Values of Variables"
   ]
  },
  {
   "cell_type": "markdown",
   "metadata": {},
   "source": [
    "Often we need to insert the values of variables into the columns of a database table.\n",
    "<ul><li>\n",
    "    You might need to write a program that gets values from the user and then insert those into a raow.</li>\n",
    "    <li>'''INSERT INTO Inventory (ItemName, Price) VALUES(?, ?)'''</li>\n",
    "</ul>"
   ]
  },
  {
   "cell_type": "markdown",
   "metadata": {},
   "source": [
    "<b>Example:</b>"
   ]
  },
  {
   "cell_type": "code",
   "execution_count": null,
   "metadata": {},
   "outputs": [],
   "source": [
    "import sqlite3\n",
    "\n",
    "def main():\n",
    "    again = 'y'\n",
    "    \n",
    "    conn = sqlite3.connect('inventory.db')\n",
    "    cur = conn.cursor()\n",
    "    \n",
    "    while again =='y':\n",
    "        item_name = input('Item Name:')\n",
    "        price = float( input('Price: '))\n",
    "        \n",
    "        cur.execute('''INSERT INTO Inventory (ItemName, Price) VALUES(?, ?)''', (item_name,price))\n",
    "        \n",
    "        again = input('Add another item? (y/n): ')\n",
    "        \n",
    "    conn.commit()\n",
    "    \n",
    "    conn.close()\n",
    "    \n",
    "main()"
   ]
  },
  {
   "cell_type": "markdown",
   "metadata": {},
   "source": [
    "<b>Example:</b>"
   ]
  },
  {
   "cell_type": "code",
   "execution_count": null,
   "metadata": {},
   "outputs": [],
   "source": [
    "item_name = \"Wrench\"\n",
    "price = None\n",
    "conn = sqlite3.connect('inventory.db')\n",
    "cur = conn.cursor()\n",
    "cur.execute('''INSERT INTO Inventory (ItemName,Price)\n",
    "            VALUES (?,?)''',(item_name, price))\n",
    "conn.commit()\n",
    "conn.close()"
   ]
  },
  {
   "cell_type": "code",
   "execution_count": null,
   "metadata": {},
   "outputs": [],
   "source": [
    "conn.close()"
   ]
  },
  {
   "cell_type": "markdown",
   "metadata": {},
   "source": [
    "output:\n",
    "    ItemID: (Auto_generated value)\n",
    "    ItemName: Wrench\n",
    "    Price: NULL"
   ]
  },
  {
   "cell_type": "markdown",
   "metadata": {},
   "source": [
    "### Watch out for SQL Injection Attacks"
   ]
  },
  {
   "cell_type": "markdown",
   "metadata": {},
   "source": [
    "For security reasons, <b>never</b> use string concatanation to insert user input directly into an SQL statement."
   ]
  },
  {
   "cell_type": "code",
   "execution_count": null,
   "metadata": {},
   "outputs": [],
   "source": [
    "# Warning Do NOT write code like this!\n",
    "name = input('Enter the item name: ')\n",
    "price = float(input('Enter the price: '))\n",
    "cur.execute('INSERT INTO Inventory (ItemName, Price)' +\n",
    "           'VALUES (\"'+ name +'\", ' + str(price) +')')"
   ]
  },
  {
   "cell_type": "markdown",
   "metadata": {},
   "source": [
    "You should never use input into an SQL statement using f-string placeholders."
   ]
  },
  {
   "cell_type": "code",
   "execution_count": null,
   "metadata": {},
   "outputs": [],
   "source": [
    "# Warning Do NOT write code like this!\n",
    "name = input('Enter the item name: ')\n",
    "price = float(input('Enter the price: '))\n",
    "cur.execute(f'INSERT INTO Inventory (ItemName, Price)' +\n",
    "            f'VALUES (\"{name} \", {price})')"
   ]
  },
  {
   "cell_type": "markdown",
   "metadata": {},
   "source": [
    "These practices make your program vulnerable to a type of attack known as SQL injection.<br>\n",
    "SQL injection can occur when the application prompts the user for input, and instead of entering the expected input, the user enters a piece of carefully creafted SQL code.<br>\n",
    "when that piece of SQL code is inserted into your program's SQL statement, it changes the way the statement executes and potentially performs a malicious action on your database."
   ]
  },
  {
   "cell_type": "markdown",
   "metadata": {},
   "source": [
    "## Querying Data with th SQL <i>SELECT</i> Statement"
   ]
  },
  {
   "cell_type": "markdown",
   "metadata": {},
   "source": [
    "### Sample Database"
   ]
  },
  {
   "cell_type": "markdown",
   "metadata": {},
   "source": [
    "<img src='images/week14/Sample.png'>\n",
    "\n",
    "<i>Source: Starting Out with Python (5th Edition)- by Tony Gaddis Pearson</i>"
   ]
  },
  {
   "cell_type": "markdown",
   "metadata": {},
   "source": [
    "### The SELECT Statement"
   ]
  },
  {
   "cell_type": "markdown",
   "metadata": {},
   "source": [
    "The <i>SELECT</i> statement is used in SQL to retrieve data from a database."
   ]
  },
  {
   "cell_type": "markdown",
   "metadata": {},
   "source": [
    "The general format:\n",
    "<br>SELECT Columns FROM Table"
   ]
  },
  {
   "cell_type": "markdown",
   "metadata": {},
   "source": [
    "In Python using the SELECT statement with SQLite is a two-step process:"
   ]
  },
  {
   "cell_type": "markdown",
   "metadata": {},
   "source": [
    "<ul><ol>1.Execute the SELECT statement- You pass the SELECT statement as a string to the Cursor object's execute method. The DBMS retrieves the results of the SELECT statement, but it does not return those results to your program.</ol>\n",
    "    <ol>2.Fetch the Results- After executing the SELECT statement, call either the <i>fetchall</i> method or the <i>fetchone</i> method to fetch the results.</ol>\n",
    "</ul>\n",
    "The Cursor object's <i>fetchall</i> method returns the results of the SELECT statement as a list of tuples"
   ]
  },
  {
   "cell_type": "markdown",
   "metadata": {},
   "source": [
    "<b>Example:</b>"
   ]
  },
  {
   "cell_type": "code",
   "execution_count": 28,
   "metadata": {
    "scrolled": true
   },
   "outputs": [
    {
     "name": "stdout",
     "output_type": "stream",
     "text": [
      "[('Dark Chocolate Bar', 5.99), ('Medium Dark Chocolate Bar', 5.99), ('Milk Chocolate Bar', 5.99), ('Chocolate Truffles', 11.99), ('Chocolate Caramel Bar', 6.99), ('Chocolate Rasberry Bar', 6.99), ('Chocolate and Cashew Bar', 9.99), ('Hot Chocolate Mix', 12.99), ('Semisweet Chocolate Chips', 3.99), ('White Chocolate Chips', 3.99)]\n",
      "Dark Chocolate Bar 5.99\n",
      "Medium Dark Chocolate Bar 5.99\n",
      "Milk Chocolate Bar 5.99\n",
      "Chocolate Truffles 11.99\n",
      "Chocolate Caramel Bar 6.99\n",
      "Chocolate Rasberry Bar 6.99\n",
      "Chocolate and Cashew Bar 9.99\n",
      "Hot Chocolate Mix 12.99\n",
      "Semisweet Chocolate Chips 3.99\n",
      "White Chocolate Chips 3.99\n"
     ]
    }
   ],
   "source": [
    "import sqlite3\n",
    "conn = sqlite3.connect('chocolate.db')\n",
    "cur = conn.cursor()\n",
    "cur.execute('DROP TABLE IF EXISTS Products')\n",
    "cur.execute('''CREATE TABLE Products (Description, UnitCost, RetailPrice, UnitsOnHand)''')\n",
    "\n",
    "\n",
    "cur.execute('''INSERT INTO Products (Description, UnitCost, RetailPrice, UnitsOnHand)\n",
    "                    VALUES(\"Dark Chocolate Bar\",2.99,5.99,197)''')\n",
    "cur.execute('''INSERT INTO Products (Description, UnitCost, RetailPrice, UnitsOnHand)\n",
    "                    VALUES(\"Medium Dark Chocolate Bar\",2.99,5.99,406)''')\n",
    "cur.execute('''INSERT INTO Products (Description, UnitCost, RetailPrice, UnitsOnHand)\n",
    "                    VALUES(\"Milk Chocolate Bar\",2.99,5.99,266)''')\n",
    "cur.execute('''INSERT INTO Products (Description, UnitCost, RetailPrice, UnitsOnHand)\n",
    "                    VALUES(\"Chocolate Truffles\",5.99,11.99,398)''')\n",
    "cur.execute('''INSERT INTO Products (Description, UnitCost, RetailPrice, UnitsOnHand)\n",
    "                    VALUES(\"Chocolate Caramel Bar\",3.99,6.99,272)''')\n",
    "cur.execute('''INSERT INTO Products (Description, UnitCost, RetailPrice, UnitsOnHand)\n",
    "                    VALUES(\"Chocolate Rasberry Bar\",3.99,6.99,363)''')\n",
    "cur.execute('''INSERT INTO Products (Description, UnitCost, RetailPrice, UnitsOnHand)\n",
    "                    VALUES(\"Chocolate and Cashew Bar\",4.99,9.99,325)''')\n",
    "cur.execute('''INSERT INTO Products (Description, UnitCost, RetailPrice, UnitsOnHand)\n",
    "                    VALUES(\"Hot Chocolate Mix\",5.99,12.99,222)''')\n",
    "cur.execute('''INSERT INTO Products (Description, UnitCost, RetailPrice, UnitsOnHand)\n",
    "                    VALUES(\"Semisweet Chocolate Chips\",1.99,3.99,163)''')\n",
    "cur.execute('''INSERT INTO Products (Description, UnitCost, RetailPrice, UnitsOnHand)\n",
    "                    VALUES(\"White Chocolate Chips\",1.99,3.99,293)''')\n",
    "\n",
    "conn.commit()\n",
    "cur.execute('SELECT Description, RetailPrice FROM Products')\n",
    "results = cur.fetchall()\n",
    "print(results)\n",
    "for row in results:\n",
    "    print(f'{row[0]} {row[1]}')\n",
    "\n"
   ]
  },
  {
   "cell_type": "markdown",
   "metadata": {},
   "source": [
    "<b>Example:</b>"
   ]
  },
  {
   "cell_type": "code",
   "execution_count": null,
   "metadata": {},
   "outputs": [],
   "source": [
    "import sqlite3\n",
    "def main():\n",
    "    conn = sqlite3.connect('chocolate.db')\n",
    "    \n",
    "    cur = conn.cursor()\n",
    " \n",
    "    cur.execute('SELECT Description, RetailPrice FROM Products')\n",
    "    \n",
    "    row = cur.fetchone()\n",
    "    while row!= None:\n",
    "        print(f'{row[0]} {row[1]}')\n",
    "        row = cur.fetchone()\n",
    "    \n",
    "    conn.close()\n",
    "    \n",
    "main()"
   ]
  },
  {
   "cell_type": "markdown",
   "metadata": {},
   "source": [
    "### Selecting All the Columns in a Table"
   ]
  },
  {
   "cell_type": "markdown",
   "metadata": {},
   "source": [
    "You can use the * character instead of listing column names to retrieve every column in a table.<br>\n",
    "SELECT * FROM Products"
   ]
  },
  {
   "cell_type": "code",
   "execution_count": 41,
   "metadata": {},
   "outputs": [
    {
     "name": "stdout",
     "output_type": "stream",
     "text": [
      "Dark Chocolate Bar|2.99|5.99|197|\n",
      "Medium Dark Chocolate Bar|2.99|5.99|406|\n",
      "Milk Chocolate Bar|2.99|5.99|266|\n",
      "Chocolate Truffles|5.99|11.99|398|\n",
      "Chocolate Caramel Bar|3.99|6.99|272|\n",
      "Chocolate Rasberry Bar|3.99|6.99|363|\n",
      "Chocolate and Cashew Bar|4.99|9.99|325|\n",
      "Hot Chocolate Mix|5.99|12.99|222|\n",
      "Semisweet Chocolate Chips|1.99|3.99|163|\n",
      "White Chocolate Chips|1.99|3.99|293|\n"
     ]
    }
   ],
   "source": [
    "cur.execute('SELECT * FROM Products')\n",
    "result = cur.fetchall()\n",
    "for row in result:\n",
    "    for i in range(len(row)):\n",
    "        print(row[i],end='|')\n",
    "    print()\n"
   ]
  },
  {
   "cell_type": "markdown",
   "metadata": {},
   "source": [
    "<b>Example:</b>"
   ]
  },
  {
   "cell_type": "code",
   "execution_count": 42,
   "metadata": {},
   "outputs": [
    {
     "name": "stdout",
     "output_type": "stream",
     "text": [
      "Dark Chocolate Bar 2.99 5.99 197 \n",
      "Medium Dark Chocolate Bar 2.99 5.99 406 \n",
      "Milk Chocolate Bar 2.99 5.99 266 \n",
      "Chocolate Truffles 5.99 11.99 398 \n",
      "Chocolate Caramel Bar 3.99 6.99 272 \n",
      "Chocolate Rasberry Bar 3.99 6.99 363 \n",
      "Chocolate and Cashew Bar 4.99 9.99 325 \n",
      "Hot Chocolate Mix 5.99 12.99 222 \n",
      "Semisweet Chocolate Chips 1.99 3.99 163 \n",
      "White Chocolate Chips 1.99 3.99 293 \n"
     ]
    }
   ],
   "source": [
    "import sqlite3\n",
    "\n",
    "def main():\n",
    "    conn = sqlite3.connect('chocolate.db')\n",
    "    cur = conn.cursor()\n",
    "    cur.execute('SELECT * FROM Products')\n",
    "    \n",
    "    results = cur.fetchall()\n",
    "    \n",
    "    for row in results:\n",
    "        print(f'{row[0]} {row[1]} {row[2]} {row[3]} ')\n",
    "        \n",
    "    conn.close()\n",
    "    \n",
    "main()"
   ]
  },
  {
   "cell_type": "markdown",
   "metadata": {},
   "source": [
    "### Specifying Search Criteria with the <b>WHERE</b> Clause"
   ]
  },
  {
   "cell_type": "markdown",
   "metadata": {},
   "source": [
    "Sometimes we want to narrow the list down to only a few selected rows in the table. That's where the <b>WHERE</b> clause comes in.<br>\n",
    "The WHERE clause can be used with the SELECT statement to specify search criteria."
   ]
  },
  {
   "cell_type": "markdown",
   "metadata": {},
   "source": [
    "The general format:<br>\n",
    "SELECT Columns FROM Table WHERE Criteria"
   ]
  },
  {
   "cell_type": "markdown",
   "metadata": {},
   "source": [
    "<b>Example:</b>"
   ]
  },
  {
   "cell_type": "markdown",
   "metadata": {},
   "source": [
    "SELECT * FROM Products WHERE RetailPrice > 10.00"
   ]
  },
  {
   "cell_type": "code",
   "execution_count": 44,
   "metadata": {},
   "outputs": [
    {
     "name": "stdout",
     "output_type": "stream",
     "text": [
      "Chocolate Truffles 5.99 11.99 398 \n",
      "Hot Chocolate Mix 5.99 12.99 222 \n"
     ]
    }
   ],
   "source": [
    "import sqlite3\n",
    "conn = sqlite3.connect('chocolate.db')\n",
    "cur = conn.cursor()\n",
    "cur.execute('SELECT * FROM Products WHERE RetailPrice > 10.00')\n",
    "\n",
    "results = cur.fetchall()\n",
    "\n",
    "for row in results:\n",
    "    print(f'{row[0]} {row[1]} {row[2]} {row[3]} ')\n",
    "        \n",
    "conn.close()"
   ]
  },
  {
   "cell_type": "markdown",
   "metadata": {},
   "source": [
    "<b>Example:</b>"
   ]
  },
  {
   "cell_type": "code",
   "execution_count": 45,
   "metadata": {},
   "outputs": [
    {
     "name": "stdout",
     "output_type": "stream",
     "text": [
      "Chocolate Truffles\n",
      "Hot Chocolate Mix\n"
     ]
    }
   ],
   "source": [
    "import sqlite3\n",
    "conn = sqlite3.connect('chocolate.db')\n",
    "cur = conn.cursor()\n",
    "cur.execute('SELECT Description FROM Products WHERE RetailPrice > 10.00')\n",
    "results = cur.fetchall()\n",
    "\n",
    "for row in results:\n",
    "    print(f'{row[0]}')\n",
    "        \n",
    "conn.close()"
   ]
  },
  {
   "cell_type": "markdown",
   "metadata": {},
   "source": [
    "<b>Example:</b>"
   ]
  },
  {
   "cell_type": "code",
   "execution_count": 46,
   "metadata": {},
   "outputs": [],
   "source": [
    "# SELECT * From Products WHERE UnitsOnHand < 100"
   ]
  },
  {
   "cell_type": "code",
   "execution_count": 48,
   "metadata": {},
   "outputs": [],
   "source": [
    "# SELECT * From Products WHERE UnitCost == 2.99"
   ]
  },
  {
   "cell_type": "code",
   "execution_count": null,
   "metadata": {},
   "outputs": [],
   "source": [
    "# SELECT * From Products WHERE Description == \"Hot Chocolate Mix\""
   ]
  },
  {
   "cell_type": "markdown",
   "metadata": {},
   "source": [
    "<img src='images/week14/Operator.png'>\n",
    "\n",
    "<i>Source: Starting Out with Python (5th Edition)- by Tony Gaddis Pearson</i>"
   ]
  },
  {
   "cell_type": "markdown",
   "metadata": {},
   "source": [
    "<b>Example:</b>"
   ]
  },
  {
   "cell_type": "code",
   "execution_count": 51,
   "metadata": {},
   "outputs": [
    {
     "name": "stdout",
     "output_type": "stream",
     "text": [
      "Hot Chocolate Mix 12.99\n"
     ]
    }
   ],
   "source": [
    "import sqlite3\n",
    "def main():\n",
    "    conn = sqlite3.connect('chocolate.db')\n",
    "    cur = conn.cursor()\n",
    "    \n",
    "    min_price = float(input('Enter the minimum price: '))\n",
    "    \n",
    "    cur.execute('''SELECT Description, RetailPrice FROM Products WHERE RetailPrice >= ?''',(min_price,))\n",
    "    \n",
    "    results = cur.fetchall()\n",
    "    \n",
    "    if len(results)>0:\n",
    "        for row in results:\n",
    "            print(f'{row[0]} {row[1]}')\n",
    "    else:\n",
    "        print('No product found.')\n",
    "                  \n",
    "    conn.close()\n",
    "                  \n",
    "main()"
   ]
  },
  {
   "cell_type": "markdown",
   "metadata": {},
   "source": [
    "Example: Now it is your turn, ask a user about the maximum Unitcorst and select those rows from Product table."
   ]
  },
  {
   "cell_type": "code",
   "execution_count": 62,
   "metadata": {},
   "outputs": [
    {
     "name": "stdout",
     "output_type": "stream",
     "text": [
      "Dark Chocolate Bar 2.99 \n",
      "Medium Dark Chocolate Bar 2.99 \n",
      "Milk Chocolate Bar 2.99 \n",
      "Chocolate Truffles 5.99 \n",
      "Chocolate Caramel Bar 3.99 \n",
      "Chocolate Rasberry Bar 3.99 \n",
      "Chocolate and Cashew Bar 4.99 \n",
      "Semisweet Chocolate Chips 1.99 \n",
      "White Chocolate Chips 1.99 \n"
     ]
    }
   ],
   "source": [
    "import sqlite3\n",
    "def main():\n",
    "    conn = sqlite3.connect('chocolate.db')\n",
    "    cur = conn.cursor()\n",
    "    max_price = float(input(\"Enter max price: \"))\n",
    "    cur.execute(\"SELECT * FROM Products WHERE RetailPrice <=?\", (max_price,))\n",
    "    result = cur.fetchall()\n",
    "    if len(result) > 0:\n",
    "        for row in result:\n",
    "            print(f'{row[0]} {row[1]} ')\n",
    "    else:\n",
    "        print(\"No products found\")\n",
    "        \n",
    "    conn.close()\n",
    "main()"
   ]
  },
  {
   "cell_type": "markdown",
   "metadata": {},
   "source": [
    "### SQL Logical Operators: AND, OR and NOT"
   ]
  },
  {
   "cell_type": "markdown",
   "metadata": {},
   "source": [
    "We can use AND and OR logical operator to specify multiple search criteria in a WHERE clause."
   ]
  },
  {
   "cell_type": "markdown",
   "metadata": {},
   "source": [
    "<b>Example:</b>"
   ]
  },
  {
   "cell_type": "code",
   "execution_count": null,
   "metadata": {},
   "outputs": [],
   "source": [
    "SELECT * FROM Ptoducts\n",
    "WHERE UnitCost > 3.00 AND UnitOnHand < 100"
   ]
  },
  {
   "cell_type": "markdown",
   "metadata": {},
   "source": [
    "<b>Example:</b>"
   ]
  },
  {
   "cell_type": "code",
   "execution_count": null,
   "metadata": {},
   "outputs": [],
   "source": [
    "SELECT * FROM Products\n",
    "WHERE RetaiPrice > 10 OR UnitsOnHand < 50"
   ]
  },
  {
   "cell_type": "markdown",
   "metadata": {},
   "source": [
    "<b>Example:</b>"
   ]
  },
  {
   "cell_type": "code",
   "execution_count": null,
   "metadata": {},
   "outputs": [],
   "source": [
    "SELECT * FROM Products\n",
    "WHERE NOT RetaiPrice > 5.00"
   ]
  },
  {
   "cell_type": "markdown",
   "metadata": {},
   "source": [
    "<b>Example:</b>"
   ]
  },
  {
   "cell_type": "code",
   "execution_count": null,
   "metadata": {},
   "outputs": [],
   "source": [
    "SELECT * FROM Products\n",
    "WHERE NOT(RetailPrice > 5.00 AND RetailPrice < 10.00)"
   ]
  },
  {
   "cell_type": "markdown",
   "metadata": {},
   "source": [
    "### String Comparisons in a SELECT Statement"
   ]
  },
  {
   "cell_type": "markdown",
   "metadata": {},
   "source": [
    "String comparisons in SQL are case sensitive. "
   ]
  },
  {
   "cell_type": "code",
   "execution_count": null,
   "metadata": {},
   "outputs": [],
   "source": [
    "# You would not get any results:\n",
    "SELECT * FROM Products\n",
    "WHERE Description == 'milk chocolate bar'"
   ]
  },
  {
   "cell_type": "code",
   "execution_count": null,
   "metadata": {},
   "outputs": [],
   "source": [
    "# You can use the lower() function to convert a string to lowercase.\n",
    "SELECT * FROM Products\n",
    "WHERE lower(Description) == 'milk chocolate bar'"
   ]
  },
  {
   "cell_type": "markdown",
   "metadata": {},
   "source": [
    "<b>Note:</b> SQLite also provide an upper() function, which convers its argument to uppercase."
   ]
  },
  {
   "cell_type": "markdown",
   "metadata": {},
   "source": [
    "### Using the LIKE Operator"
   ]
  },
  {
   "cell_type": "markdown",
   "metadata": {},
   "source": [
    "Sometimes searching for an exact string will not yeild the results you want."
   ]
  },
  {
   "cell_type": "code",
   "execution_count": null,
   "metadata": {},
   "outputs": [],
   "source": [
    "SELECT * FROM Products WHERE Description == 'Bar'"
   ]
  },
  {
   "cell_type": "code",
   "execution_count": null,
   "metadata": {},
   "outputs": [],
   "source": [
    "# in order to find all the chocolate bars, we need to search for rows where the \"Bar\" \n",
    "# appears as a substring in the Description column\n",
    "SELECT * FROM Products WHERE Description LIKE \"%Bar%\""
   ]
  },
  {
   "cell_type": "markdown",
   "metadata": {},
   "source": [
    "The % symbol is used as a wildcar character which represents any sequence of zero or more characters."
   ]
  },
  {
   "cell_type": "code",
   "execution_count": null,
   "metadata": {},
   "outputs": [],
   "source": [
    "# % --> * in regex\n",
    "import sqlite3\n",
    "\n",
    "conn = sqlite3.connect('chocolate.db')\n",
    "cur = conn.cursor()\n",
    "cur.execute('''SELECT * FROM Products WHERE Description LIKE \"%Bar%\"''')\n",
    "results= cur.fetchall()\n",
    "\n",
    "for row in results:\n",
    "    print(f'{row[0]} {row[1]} {row[2]} {row[3]} ')\n"
   ]
  },
  {
   "cell_type": "markdown",
   "metadata": {},
   "source": [
    "<b>Example:</b>Now it is your turn, select rows which have Chips in their Description:"
   ]
  },
  {
   "cell_type": "code",
   "execution_count": 1,
   "metadata": {},
   "outputs": [
    {
     "name": "stdout",
     "output_type": "stream",
     "text": [
      "Semisweet Chocolate Chips 1.99 3.99 163 \n",
      "White Chocolate Chips 1.99 3.99 293 \n"
     ]
    }
   ],
   "source": [
    "import sqlite3\n",
    "\n",
    "conn = sqlite3.connect('chocolate.db')\n",
    "cur = conn.cursor()\n",
    "cur.execute('''SELECT * FROM Products WHERE Description LIKE \"%Chips%\"''')\n",
    "results= cur.fetchall()\n",
    "\n",
    "for row in results:\n",
    "    print(f'{row[0]} {row[1]} {row[2]} {row[3]} ')"
   ]
  },
  {
   "cell_type": "markdown",
   "metadata": {},
   "source": [
    "<b>Note:</b> You can also use % wildcard character to find strings that either start with a specified substring or end with a specified substring."
   ]
  },
  {
   "cell_type": "markdown",
   "metadata": {},
   "source": [
    "<b>Example:</b>Start with"
   ]
  },
  {
   "cell_type": "code",
   "execution_count": null,
   "metadata": {},
   "outputs": [],
   "source": [
    "cur.execute('''SELECT Description FROM Products WHERE Description LIKE \"Chocolate%\"''')\n",
    "cur.fetchall()"
   ]
  },
  {
   "cell_type": "markdown",
   "metadata": {},
   "source": [
    "<b>Example:</b>End with"
   ]
  },
  {
   "cell_type": "code",
   "execution_count": null,
   "metadata": {},
   "outputs": [],
   "source": [
    "cur.execute('''SELECT Description FROM Products WHERE Description LIKE \"%Mix\"''')\n",
    "cur.fetchall()"
   ]
  },
  {
   "cell_type": "markdown",
   "metadata": {},
   "source": [
    "<b>Note:</b> You can combine the NOT operator  and the LIKE operator to search for strings that do not match a particular pattern."
   ]
  },
  {
   "cell_type": "markdown",
   "metadata": {},
   "source": [
    "<b>Example:</b>"
   ]
  },
  {
   "cell_type": "code",
   "execution_count": null,
   "metadata": {},
   "outputs": [],
   "source": [
    "cur.execute('''SELECT Description FROM Products WHERE Description NOT LIKE \"%Bar%\"''')\n",
    "cur.fetchall()"
   ]
  },
  {
   "cell_type": "markdown",
   "metadata": {},
   "source": [
    "### Storing the Results of a SELECT Query"
   ]
  },
  {
   "cell_type": "markdown",
   "metadata": {},
   "source": [
    "To sort the results of a SELECT query, you can use ORDER BY clause."
   ]
  },
  {
   "cell_type": "code",
   "execution_count": null,
   "metadata": {},
   "outputs": [],
   "source": [
    "SELECT * FROM Products ORDER BY RetailPrice"
   ]
  },
  {
   "cell_type": "markdown",
   "metadata": {},
   "source": [
    "<b>Example:</b>"
   ]
  },
  {
   "cell_type": "code",
   "execution_count": 10,
   "metadata": {},
   "outputs": [
    {
     "name": "stdout",
     "output_type": "stream",
     "text": [
      "('Semisweet Chocolate Chips', 3.99)\n",
      "('White Chocolate Chips', 3.99)\n",
      "('Dark Chocolate Bar', 5.99)\n",
      "('Medium Dark Chocolate Bar', 5.99)\n",
      "('Milk Chocolate Bar', 5.99)\n",
      "('Chocolate Caramel Bar', 6.99)\n",
      "('Chocolate Rasberry Bar', 6.99)\n",
      "('Chocolate and Cashew Bar', 9.99)\n",
      "('Hot Chocolate Mix', 12.99)\n",
      "('Mrudula R', 13.99)\n"
     ]
    }
   ],
   "source": [
    "import sqlite3\n",
    "\n",
    "def main():\n",
    "    conn = sqlite3.connect('chocolate.db')\n",
    "    cur = conn.cursor()\n",
    "    cur.execute('''SELECT Description, RetailPrice FROM Products \n",
    "    ORDER BY RetailPrice''')\n",
    "    \n",
    "    results = cur.fetchall()\n",
    "\n",
    "    \n",
    "    for row in results:\n",
    "        print(f'{row}')\n",
    "        \n",
    "main()"
   ]
  },
  {
   "cell_type": "code",
   "execution_count": 15,
   "metadata": {},
   "outputs": [],
   "source": [
    "conn = sqlite3.connect('chocolate.db')\n",
    "cur = conn.cursor()"
   ]
  },
  {
   "cell_type": "markdown",
   "metadata": {},
   "source": [
    "<b>Example:</b>"
   ]
  },
  {
   "cell_type": "code",
   "execution_count": null,
   "metadata": {},
   "outputs": [],
   "source": [
    "# A SELECT statement that uses both a WHERE clause and an ORDER BY clause.\n",
    "SELECT * FROM Products\n",
    "WHERE RetailPrice > 9.00\n",
    "ORDER BY RetailPrice"
   ]
  },
  {
   "cell_type": "code",
   "execution_count": 18,
   "metadata": {},
   "outputs": [
    {
     "name": "stdout",
     "output_type": "stream",
     "text": [
      "[('Mrudula R', 5.99, 13.99, 398), ('Hot Chocolate Mix', 5.99, 12.99, 222), ('Chocolate and Cashew Bar', 4.99, 9.99, 325)]\n"
     ]
    }
   ],
   "source": [
    "# If you want the list sorted in decending order, we can use DESC operator:\n",
    "cur.execute('''SELECT * FROM Products\n",
    "WHERE RetailPrice > 9.00\n",
    "ORDER BY RetailPrice DESC''')\n",
    "retail_desc = cur.fetchall()\n",
    "print(retail_desc)"
   ]
  },
  {
   "cell_type": "code",
   "execution_count": 19,
   "metadata": {},
   "outputs": [
    {
     "name": "stdout",
     "output_type": "stream",
     "text": [
      "Mrudula R 13.99\n",
      "Hot Chocolate Mix 12.99\n",
      "Chocolate and Cashew Bar 9.99\n"
     ]
    }
   ],
   "source": [
    "import sqlite3\n",
    "\n",
    "def main():\n",
    "    conn = sqlite3.connect('chocolate.db')\n",
    "    cur = conn.cursor()\n",
    "    cur.execute('''SELECT Description, RetailPrice FROM Products where retailprice > 9 ORDER BY RetailPrice DESC''')\n",
    "    \n",
    "    results = cur.fetchall()\n",
    "    \n",
    "    for row in results:\n",
    "        print(f'{row[0]} {row[1]}')\n",
    "        \n",
    "main()"
   ]
  },
  {
   "cell_type": "markdown",
   "metadata": {},
   "source": [
    "### Aggregate Functions"
   ]
  },
  {
   "cell_type": "markdown",
   "metadata": {},
   "source": [
    "In SQL, an aggregate function performs a calculation on a set of values from a database table and returns a single value."
   ]
  },
  {
   "cell_type": "markdown",
   "metadata": {},
   "source": [
    "<b>Note:</b> AVG function calculates the average value of a column that contains numeric values."
   ]
  },
  {
   "cell_type": "code",
   "execution_count": null,
   "metadata": {},
   "outputs": [],
   "source": [
    "SELECT AVG(RetailPrice) FROM Products"
   ]
  },
  {
   "cell_type": "code",
   "execution_count": 20,
   "metadata": {},
   "outputs": [
    {
     "name": "stdout",
     "output_type": "stream",
     "text": [
      "7.6899999999999995\n"
     ]
    }
   ],
   "source": [
    "import sqlite3\n",
    "\n",
    "conn= sqlite3.connect('chocolate.db')\n",
    "cur = conn.cursor()\n",
    "cur.execute('SELECT AVG(RetailPrice) from products')\n",
    "results=cur.fetchall()\n",
    "\n",
    "for row in results:\n",
    "    print(f'{row[0]}')"
   ]
  },
  {
   "cell_type": "code",
   "execution_count": null,
   "metadata": {},
   "outputs": [],
   "source": [
    "SELECT AVG(Price) FROM Products WHERE Description LIKE \"%Bar%\""
   ]
  },
  {
   "cell_type": "markdown",
   "metadata": {},
   "source": [
    "<b>Note:</b> SUM function calculates the sum of a column that contains numeric values"
   ]
  },
  {
   "cell_type": "code",
   "execution_count": null,
   "metadata": {},
   "outputs": [],
   "source": [
    "SELECT SUM(UnitsOnHand) FROM Products"
   ]
  },
  {
   "cell_type": "markdown",
   "metadata": {},
   "source": [
    "<b>Note:</b> MIN and MAX functions determine the minimum and maximum values found in a column that contains numeric values."
   ]
  },
  {
   "cell_type": "code",
   "execution_count": null,
   "metadata": {},
   "outputs": [],
   "source": [
    "SELECT MIN(RetailPrice) FROM Products"
   ]
  },
  {
   "cell_type": "code",
   "execution_count": null,
   "metadata": {},
   "outputs": [],
   "source": [
    "SELECT MAX(RetailPrice) FROM Products"
   ]
  },
  {
   "cell_type": "markdown",
   "metadata": {},
   "source": [
    "<b>Note:</b> COUNT function determines the number of rows in a table."
   ]
  },
  {
   "cell_type": "code",
   "execution_count": 26,
   "metadata": {},
   "outputs": [
    {
     "name": "stdout",
     "output_type": "stream",
     "text": [
      "<class 'list'>\n"
     ]
    }
   ],
   "source": [
    "cur.execute('''SELECT COUNT(*) FROM Products''')\n",
    "product_count = cur.fetchall()\n",
    "print(product_count)"
   ]
  },
  {
   "cell_type": "code",
   "execution_count": 24,
   "metadata": {},
   "outputs": [
    {
     "name": "stdout",
     "output_type": "stream",
     "text": [
      "10\n"
     ]
    }
   ],
   "source": [
    "import sqlite3\n",
    "\n",
    "def main():\n",
    "    conn = sqlite3.connect('chocolate.db')\n",
    "    cur = conn.cursor()\n",
    "    cur.execute('''SELECT count(*) FROM Products''')\n",
    "    \n",
    "    results = cur.fetchall()\n",
    "    \n",
    "    for row in results:\n",
    "        print(f'{row[0]}')\n",
    "        \n",
    "main()"
   ]
  },
  {
   "cell_type": "markdown",
   "metadata": {},
   "source": [
    "<b>Note:</b> The * indicates that you want to count entire rows."
   ]
  },
  {
   "cell_type": "code",
   "execution_count": null,
   "metadata": {},
   "outputs": [],
   "source": [
    "SELECT COUNT(*) FROM Products WHERE RetailPrice > 9.95"
   ]
  },
  {
   "cell_type": "markdown",
   "metadata": {},
   "source": [
    "In Python code, the way to retrieve that value that is returned from an aggregate function is with the Cursor object's fetchon method."
   ]
  },
  {
   "cell_type": "code",
   "execution_count": 28,
   "metadata": {},
   "outputs": [
    {
     "data": {
      "text/plain": [
       "2905"
      ]
     },
     "execution_count": 28,
     "metadata": {},
     "output_type": "execute_result"
    }
   ],
   "source": [
    "import sqlite3\n",
    "conn = sqlite3.connect('chocolate.db')\n",
    "    \n",
    "cur = conn.cursor()\n",
    "cur.execute('SELECT SUM(UnitsOnHand) FROM Products')\n",
    "cur.fetchone() #tuple\n"
   ]
  },
  {
   "cell_type": "markdown",
   "metadata": {},
   "source": [
    "When a query return only one value, the fetchone method returns a tuple with one element which is index 0.<br>\n",
    "If you want to work with the value, and not the tuple, you have to read the value from the tuple."
   ]
  },
  {
   "cell_type": "markdown",
   "metadata": {},
   "source": [
    "<b>Example:</b>"
   ]
  },
  {
   "cell_type": "code",
   "execution_count": null,
   "metadata": {},
   "outputs": [],
   "source": [
    "cur.execute('SELECT SUM(UnitsOnHand) FROM Products')\n",
    "results = cur.fetchone()\n",
    "sum = results[0]"
   ]
  },
  {
   "cell_type": "code",
   "execution_count": null,
   "metadata": {},
   "outputs": [],
   "source": [
    "cur.execute('SELECT SUM(UnitsOnHand) FROM Products')\n",
    "sum = cur.fetchone()[0]"
   ]
  },
  {
   "cell_type": "code",
   "execution_count": 30,
   "metadata": {},
   "outputs": [],
   "source": [
    "cur.close()"
   ]
  },
  {
   "cell_type": "markdown",
   "metadata": {},
   "source": [
    "<b>Example:</b>"
   ]
  },
  {
   "cell_type": "code",
   "execution_count": 32,
   "metadata": {},
   "outputs": [
    {
     "name": "stdout",
     "output_type": "stream",
     "text": [
      "Lowesr Price: $3.99\n",
      "Highest Price: $13.99\n",
      "Average Price: $7.69\n"
     ]
    }
   ],
   "source": [
    "import sqlite3\n",
    "\n",
    "def main():\n",
    "    conn = sqlite3.connect('chocolate.db')\n",
    "    cur = conn.cursor()\n",
    "    \n",
    "    cur.execute('SELECT MIN(RetailPrice) FROM Products')\n",
    "    lowest = cur.fetchone()[0]\n",
    "    \n",
    "    cur.execute('SELECT MAX(RetailPrice) FROM Products')\n",
    "    highest = cur.fetchone()[0]\n",
    "    \n",
    "    cur.execute('SELECT AVG(RetailPrice) FROM Products')\n",
    "    average = cur.fetchone()[0]\n",
    "    \n",
    "    print(f'Lowesr Price: ${lowest:.2f}')\n",
    "    print(f'Highest Price: ${highest:.2f}')\n",
    "    print(f'Average Price: ${average:.2f}')\n",
    "    \n",
    "    conn.close()\n",
    "    \n",
    "main()     "
   ]
  },
  {
   "cell_type": "markdown",
   "metadata": {},
   "source": [
    "## Updating and Deleting Existing Rows"
   ]
  },
  {
   "cell_type": "markdown",
   "metadata": {},
   "source": [
    "### Updating Rows"
   ]
  },
  {
   "cell_type": "markdown",
   "metadata": {},
   "source": [
    "The UPDATE statement is used to change the contents of an existing row in a table."
   ]
  },
  {
   "cell_type": "markdown",
   "metadata": {},
   "source": [
    "The general format: \n",
    "UPDATE Table\n",
    "SET Column = Value\n",
    "WHERE Criteria"
   ]
  },
  {
   "cell_type": "markdown",
   "metadata": {},
   "source": [
    "<b>Example:</b>"
   ]
  },
  {
   "cell_type": "code",
   "execution_count": null,
   "metadata": {},
   "outputs": [],
   "source": [
    "UPDATE Products\n",
    "SET RetailPrice = 13.99\n",
    "WHERE Description == \"Chocolate Truffles\""
   ]
  },
  {
   "cell_type": "code",
   "execution_count": 37,
   "metadata": {},
   "outputs": [
    {
     "name": "stdout",
     "output_type": "stream",
     "text": [
      "[('Dark Chocolate Bar', 2.99, 5.99, 197), ('Semisweet Chocolate Bar', 2.99, 5.99, 406), ('Milk Chocolate Bar', 2.99, 5.99, 266), ('Mrudula R', 5.99, 13.99, 398), ('Chocolate Caramel Bar', 3.99, 6.99, 272), ('Chocolate Rasberry Bar', 3.99, 6.99, 363), ('Chocolate and Cashew Bar', 4.99, 9.99, 325), ('Hot Chocolate Mix', 5.99, 12.99, 222), ('Semisweet Chocolate Chips', 1.99, 3.99, 163), ('White Chocolate Chips', 1.99, 3.99, 293)] before\n",
      "[('Dark Chocolate Bar', 2.99, 5.99, 197), ('Semisweet Chocolate Bar', 2.99, 5.99, 406), ('Milk Chocolate Bar', 2.99, 5.99, 266), ('Mrudula R', 5.99, 31.99, 398), ('Chocolate Caramel Bar', 3.99, 6.99, 272), ('Chocolate Rasberry Bar', 3.99, 6.99, 363), ('Chocolate and Cashew Bar', 4.99, 9.99, 325), ('Hot Chocolate Mix', 5.99, 12.99, 222), ('Semisweet Chocolate Chips', 1.99, 3.99, 163), ('White Chocolate Chips', 1.99, 3.99, 293)] after\n"
     ]
    }
   ],
   "source": [
    "import sqlite3\n",
    "\n",
    "def main():\n",
    "    conn = sqlite3.connect('chocolate.db')\n",
    "    cur = conn.cursor()\n",
    "    cur.execute(\"\"\"SELECT * FROM Products\"\"\")\n",
    "    before = cur.fetchall()\n",
    "    print(before, 'before')\n",
    "    cur.execute(\"\"\"UPDATE Products SET RetailPrice = 31.99 WHERE Description == \"Mrudula R\" \"\"\")\n",
    "\n",
    "    cur.execute(\"\"\"SELECT * FROM Products\"\"\")\n",
    "    retailUpdate = cur.fetchall()\n",
    "    print(retailUpdate, 'after')\n",
    "    conn.commit()\n",
    "\n",
    "main()"
   ]
  },
  {
   "cell_type": "markdown",
   "metadata": {},
   "source": [
    "<b>Example:</b>"
   ]
  },
  {
   "cell_type": "code",
   "execution_count": null,
   "metadata": {},
   "outputs": [],
   "source": [
    "UPDATE Products\n",
    "SET Description = \"Semisweet Chocolate Bar\"\n",
    "WHERE RowID == 2"
   ]
  },
  {
   "cell_type": "code",
   "execution_count": 34,
   "metadata": {
    "scrolled": true
   },
   "outputs": [],
   "source": [
    "import sqlite3\n",
    "\n",
    "def main():\n",
    "    conn = sqlite3.connect('chocolate.db')\n",
    "    cur = conn.cursor()\n",
    "    cur.execute(\"\"\"UPDATE Products SET Description = \"Semisweet Chocolate Bar\" WHERE RowID == 2 \"\"\")\n",
    "    conn.commit()\n",
    "    \n",
    "\n",
    "main()"
   ]
  },
  {
   "cell_type": "markdown",
   "metadata": {},
   "source": [
    "<b>Example:</b>"
   ]
  },
  {
   "cell_type": "code",
   "execution_count": null,
   "metadata": {},
   "outputs": [],
   "source": [
    "UPDATE Products\n",
    "SET RetailPrice = 8.99\n",
    "WHERE Description LIKE \"%Bar\""
   ]
  },
  {
   "cell_type": "code",
   "execution_count": null,
   "metadata": {},
   "outputs": [],
   "source": [
    "import sqlite3\n",
    "\n",
    "def main():\n",
    "    conn = sqlite3.connect('chocolate.db')\n",
    "    cur = conn.cursor()\n",
    "    cur.execute(\"\"\"UPDATE Products SET RetailPrice = 8.99 WHERE Description LIKE \"%Bar\" \"\"\")\n",
    "    conn.commit()\n",
    "    \n",
    "\n",
    "main()"
   ]
  },
  {
   "cell_type": "markdown",
   "metadata": {},
   "source": [
    "<b>Example:</b>"
   ]
  },
  {
   "cell_type": "code",
   "execution_count": null,
   "metadata": {},
   "outputs": [],
   "source": [
    "import sqlite3\n",
    "\n",
    "def main():\n",
    "    conn = sqlite3.connect('chocolate.db')\n",
    "    \n",
    "    cur = conn.cursor()\n",
    "    \n",
    "    pid = int(input('Enter a product ID: '))\n",
    "    \n",
    "    cur.execute('''SELECT Description, RetailPrice From Products Where rowID == ?''', (pid,))\n",
    "    \n",
    "    results = cur.fetchone()\n",
    "    \n",
    "    if results != None:\n",
    "        print(f'The current price for {results[0]}' f'is ${results[1]:.2f}')\n",
    "        \n",
    "        new_price = float(input('Enter the new price: '))\n",
    "    \n",
    "        cur.execute('''UPDATE Products SET RetailPrice = ? WHERE rowID ==?''',(new_price,pid))\n",
    "    \n",
    "        conn.commit()\n",
    "        print('The price was changed.')\n",
    "    \n",
    "    else:\n",
    "        print(f'Product ID {pid} not found.')\n",
    "              \n",
    "    conn.close()\n",
    "              \n",
    "main()"
   ]
  },
  {
   "cell_type": "markdown",
   "metadata": {},
   "source": [
    "#### Updating Multiple Columns"
   ]
  },
  {
   "cell_type": "markdown",
   "metadata": {},
   "source": [
    "The general format:\n",
    "UPDATE Table\n",
    "SET Column1 = Value, \n",
    "    Column2 = Value,\n",
    "    ...\n",
    "WHERE Criteria"
   ]
  },
  {
   "cell_type": "markdown",
   "metadata": {},
   "source": [
    "<b>Example:</b>"
   ]
  },
  {
   "cell_type": "code",
   "execution_count": null,
   "metadata": {},
   "outputs": [],
   "source": [
    "UPDATE Products\n",
    "SET RetailPrice = 8.99\n",
    "    UnitsOnHand = 100\n",
    "WHERE DESCRIPTION LIKE \"%Bar\""
   ]
  },
  {
   "cell_type": "code",
   "execution_count": null,
   "metadata": {},
   "outputs": [],
   "source": [
    "import sqlite3\n",
    "\n",
    "def main():\n",
    "    conn = sqlite3.connect('chocolate.db')\n",
    "    cur = conn.cursor()\n",
    "    cur.execute(\"\"\"UPDATE Products SET RetailPrice = 8.99, UnitsOnHand = 100 WHERE DESCRIPTION LIKE \"%Bar\" \"\"\")\n",
    "    conn.commit()\n",
    "\n",
    "main()"
   ]
  },
  {
   "cell_type": "markdown",
   "metadata": {},
   "source": [
    "#### Determining the Number of Rows Updated"
   ]
  },
  {
   "cell_type": "markdown",
   "metadata": {},
   "source": [
    "The Cursor object has a public data attribute named <i>rowcount</i> that contains the number of rows that were altered by the most recently executed SQL statement.<br>\n",
    "After issuing an UPDATE statement, you can read the value of the rowcount attribute to determine the number of rows that were updated."
   ]
  },
  {
   "cell_type": "code",
   "execution_count": null,
   "metadata": {},
   "outputs": [],
   "source": [
    "import sqlite3\n",
    "conn = sqlite3.connect('chocolate.db')\n",
    "cur = conn.cursor()\n",
    "cur.execute('''UPDATE Products SET UnitsOnHand = 0 WHERE Description LIKE \"%Bar\"''')\n",
    "conn.commit()\n",
    "print(cur.rowcount) "
   ]
  },
  {
   "cell_type": "markdown",
   "metadata": {},
   "source": [
    "### Deleting Rows with the DELETE Statement"
   ]
  },
  {
   "cell_type": "markdown",
   "metadata": {},
   "source": [
    "In SQL we use DELETE statement to delete one or more rows from a table.\n",
    "The general format:<br>\n",
    "DELETE FROM Table WHERE Criteria"
   ]
  },
  {
   "cell_type": "markdown",
   "metadata": {},
   "source": [
    "<b>Example:</b>"
   ]
  },
  {
   "cell_type": "code",
   "execution_count": null,
   "metadata": {},
   "outputs": [],
   "source": [
    "DELETE FROM Products WHERE ProductID == 10"
   ]
  },
  {
   "cell_type": "markdown",
   "metadata": {},
   "source": [
    "<b>Note:</b> It is possible to delete multiple rows with the DELETE statement."
   ]
  },
  {
   "cell_type": "markdown",
   "metadata": {},
   "source": [
    "<b>Example:</b>"
   ]
  },
  {
   "cell_type": "code",
   "execution_count": null,
   "metadata": {},
   "outputs": [],
   "source": [
    "DELETE FROM Products WHERE Description LIKE \"%Bar\""
   ]
  },
  {
   "cell_type": "markdown",
   "metadata": {},
   "source": [
    "<b>Note:</b> You don't leave out the WHERE clause and the conditional expression when using a DELETE statement. You could delete every row in the table!"
   ]
  },
  {
   "cell_type": "markdown",
   "metadata": {},
   "source": [
    "<b>Example:</b>"
   ]
  },
  {
   "cell_type": "code",
   "execution_count": null,
   "metadata": {},
   "outputs": [],
   "source": [
    "import sqlite3\n",
    "\n",
    "def main():\n",
    "    conn = sqlite3.connect('chocolate.db')\n",
    "    \n",
    "    cur = conn.cursor()\n",
    "    \n",
    "    pid = int(input('Enter a product ID to delete: '))\n",
    "    \n",
    "    cur.execute('''SELECT Description From Products WHERE RowID==?''',(pid,))\n",
    "    results = cur.fetchone()\n",
    "    \n",
    "    if results !=None:\n",
    "        sure = input(f'Are you sure you want to delete {results[0]}? (y/n):')\n",
    "        \n",
    "        if sure.lower() == 'y':\n",
    "            cur.execute('''DELETE FROM Products WHERE RowID ==?''',(pid,))\n",
    "            \n",
    "            conn.commit()\n",
    "            print('The product was deleted.')\n",
    "            \n",
    "            \n",
    "    else:\n",
    "        print(f'Product ID {pid} not found.')\n",
    "        \n",
    "    conn.close()\n",
    "    \n",
    "main()"
   ]
  },
  {
   "cell_type": "markdown",
   "metadata": {},
   "source": [
    "#### Determining the Number of Rows Deleted"
   ]
  },
  {
   "cell_type": "code",
   "execution_count": null,
   "metadata": {},
   "outputs": [],
   "source": [
    "cur.execute('''DELETE FROM Products WHERE Description LIKE \"%Chips%\"''')\n",
    "conn.commit()\n",
    "print(cur.rowcount)"
   ]
  },
  {
   "cell_type": "markdown",
   "metadata": {},
   "source": [
    "## More About Primary Keys"
   ]
  },
  {
   "cell_type": "markdown",
   "metadata": {},
   "source": [
    "Some general rules to remember about primary keys:\n",
    "    <ul><li>Primary keys must hold a value. They cannot be NULL.</li>\n",
    "    <li>Each row's primary key value must be unique. NO two row in a table can have the same primary key.</li>\n",
    "    <li>A table can have only one primary key. However, multiple columns can be combined create a composite key.</li>\n",
    "    </ul>"
   ]
  },
  {
   "cell_type": "markdown",
   "metadata": {},
   "source": [
    "### Primary Keys Other Than Integer"
   ]
  },
  {
   "cell_type": "markdown",
   "metadata": {},
   "source": [
    "You can designate any type of column as the primary key for a table.<br>\n",
    "Example: creating a database to hold employee data, and each employee has a unique employee ID that consists of letters and numbers.Employee's ID is unique and it can be used as the primary key."
   ]
  },
  {
   "cell_type": "code",
   "execution_count": null,
   "metadata": {},
   "outputs": [],
   "source": [
    "CREATE TABLE EMPLOYEE(Employee TEXT PRIMARY KEY NOT NULL, Name TEXT, PayRate REAL)"
   ]
  },
  {
   "cell_type": "markdown",
   "metadata": {},
   "source": [
    "<b> Note:</b> When using a non-integer primary key, you must be sure to assign a unique non-null value to the primary key column each time you add a row to the table."
   ]
  },
  {
   "cell_type": "markdown",
   "metadata": {},
   "source": [
    "### Composite Keys"
   ]
  },
  {
   "cell_type": "markdown",
   "metadata": {},
   "source": [
    "Sometimes, a table does not have any column that contain unique data."
   ]
  },
  {
   "cell_type": "markdown",
   "metadata": {},
   "source": [
    "<b>Example:</b>"
   ]
  },
  {
   "cell_type": "markdown",
   "metadata": {},
   "source": [
    "We have designing a database table that contains the following data about classroom on a college campus.\n",
    "<ul><li>Room Number</li>\n",
    "    <li>Building</li>\n",
    "    <li>Seating Capacity</li>\n",
    "</ul>\n",
    "        \n",
    "The database table will be named Classrooms with the following columns:<br>\n",
    "RoomNumber: INTEGER<br>\n",
    "Buidling: TEXT<br>\n",
    "Seats: INTEGER<br>\n",
    "\n",
    "None of the columns can be used as the primary key. We have two choices:\n",
    "<ul><li>Add an identity column such as INTEGER PRIMARY KEY</li>\n",
    "    <li>Create a composite key, which is two or more columns that are combined to create a unique value.</li></ul>\n",
    "In this example, we can combine RoomNumber column and the Building column to create a unique value.\n"
   ]
  },
  {
   "cell_type": "code",
   "execution_count": null,
   "metadata": {},
   "outputs": [],
   "source": [
    "CREATE TABLE TableName (ColumnName1 DataType1,\n",
    "                        ColumnName2 DataType2, \n",
    "                        etc...\n",
    "                       PRIMARY KEY(ColumnName1, ColumnName2, etc...))"
   ]
  },
  {
   "cell_type": "code",
   "execution_count": null,
   "metadata": {},
   "outputs": [],
   "source": [
    "CREATE TABLE Classrooms (RoomNumber INTEGER NOT NULL, \n",
    "                         Building TEXT NOT NULL, \n",
    "                         Seats INTEGER,\n",
    "                         PRIMARY KEY(RoomNumber, Building))"
   ]
  },
  {
   "cell_type": "markdown",
   "metadata": {},
   "source": [
    "<b>Note:</b> Notice that you should apply the NOT NULL constraint to both the RoomNumber and Building columns."
   ]
  },
  {
   "cell_type": "markdown",
   "metadata": {},
   "source": [
    "## Handling Database Exceptions"
   ]
  },
  {
   "cell_type": "markdown",
   "metadata": {},
   "source": [
    "The sqlite3 module defines its own exceptions thtat are thrown when a database error occurs."
   ]
  },
  {
   "cell_type": "markdown",
   "metadata": {},
   "source": [
    "The general format is as follows:"
   ]
  },
  {
   "cell_type": "code",
   "execution_count": 40,
   "metadata": {},
   "outputs": [
    {
     "name": "stdout",
     "output_type": "stream",
     "text": [
      "Error\n",
      "None\n"
     ]
    }
   ],
   "source": [
    "conn = None\n",
    "try:\n",
    "    conn = sqlite3.connect(DatabaseName)\n",
    "    cur = conn.Cursor()\n",
    "    \n",
    "except sqlite3.Error:\n",
    "    print('Name')\n",
    "    \n",
    "except Exception:\n",
    "    print('Error')\n",
    "    \n",
    "finally:\n",
    "    if conn != None:\n",
    "        conn.close()"
   ]
  },
  {
   "cell_type": "markdown",
   "metadata": {},
   "source": [
    "<b>Example:</b>"
   ]
  },
  {
   "cell_type": "code",
   "execution_count": 41,
   "metadata": {},
   "outputs": [
    {
     "name": "stdout",
     "output_type": "stream",
     "text": [
      "no such table: Inventory\n"
     ]
    }
   ],
   "source": [
    "import sqlite3\n",
    "\n",
    "def main():\n",
    "    again = 'y'\n",
    "    \n",
    "    while (again == 'y'):\n",
    "        item_id = int(input('Item ID: '))\n",
    "        item_name = input('Item Name: ')\n",
    "        price = float(input('Price: '))\n",
    "        \n",
    "        \n",
    "        add_item(item_id, item_name, price)\n",
    "        again = input('Add another item? (y/n):')\n",
    "        \n",
    "def add_item(item_id, name, price):\n",
    "    conn= None\n",
    "    \n",
    "    try:\n",
    "        conn = sqlite3.connect('inventory2.db')\n",
    "        cur = conn.cursor()\n",
    "        \n",
    "        cur.execute('''INSERT INTO Inventory (ItemID, ItemName, Price) VALUES(?,?,?)''', (item_id,name,price))\n",
    "        \n",
    "        conn.commit()\n",
    "        \n",
    "    except sqlite3.Error as err:\n",
    "        print(err)\n",
    "        \n",
    "    finally:\n",
    "        if conn != None:\n",
    "            conn.close()\n",
    "            \n",
    "main()"
   ]
  },
  {
   "cell_type": "markdown",
   "metadata": {},
   "source": [
    "## Relational Data"
   ]
  },
  {
   "cell_type": "markdown",
   "metadata": {},
   "source": [
    "In a relational database, a column from one table can be associated with a column from other tables. This association cretaes a relationship between the tables."
   ]
  },
  {
   "cell_type": "markdown",
   "metadata": {},
   "source": [
    "<img src='images/week14/Relational.png'>\n",
    "\n",
    "<i>Source: Starting Out with Python (5th Edition)- by Tony Gaddis Pearson</i>"
   ]
  },
  {
   "cell_type": "markdown",
   "metadata": {},
   "source": [
    "Departments Table:\n",
    "<ul><li>DepartmentID- INTEGER (Primary Key)</li>\n",
    "    <li>DepartmentName-TEXT</li>\n",
    "</ul>\n",
    "\n",
    "Locations Table:\n",
    "<ul><li>LocationID-INTEGER (Primary Key)</li>\n",
    "    <li>City- TEXT</li>\n",
    "</ul>\n",
    "\n",
    "Employees Table:\n",
    "<ul><li>EmployeeID-INTEGER (Primary Key)</li>\n",
    "    <li>Name-TEXT</li>\n",
    "    <li>Position-TEXT</li>\n",
    "    <li>DepartmentID-INTEGER</li>\n",
    "    <li>LocationID-INTEGER</li>\n",
    "</ul>"
   ]
  },
  {
   "cell_type": "markdown",
   "metadata": {},
   "source": [
    "### Foreign Keys"
   ]
  },
  {
   "cell_type": "markdown",
   "metadata": {},
   "source": [
    "A foreign key is a column in one table that refrences a primary key in another table.<br>\n",
    "In the Employee table, the DepartmentID and LocationID columns are foreign keys.\n",
    "<ul><li>The DepartmentID column in the Employees table refrences the DepartmentID column in the departments table. Recall that DepartmentID is the primary key in the Departments table.\n",
    "</li>\n",
    "<li>The locationID column in the Employees table refrences the LocationID column in the locations table. Recall that locationID is the Primary key in the Locations table.</li></ul>"
   ]
  },
  {
   "cell_type": "markdown",
   "metadata": {},
   "source": [
    "### Entity Relationship Diagram"
   ]
  },
  {
   "cell_type": "markdown",
   "metadata": {},
   "source": [
    "System designers commonly use entity relationship diagram to show the relationships between database tables.<br>\n",
    "There are two types of relationships:\n",
    "<ul><li>A one-to-many relationship: for each row in table A there can be many rows in table B that refrence it.</li>\n",
    "    <li>A many-to-one relationship: many rows in table A can reference a single row in table B</li></ul>"
   ]
  },
  {
   "cell_type": "markdown",
   "metadata": {},
   "source": [
    "<img src='images/week14/Entity.png'>\n",
    "\n",
    "<i>Source: Starting Out with Python (5th Edition)- by Tony Gaddis Pearson</i>"
   ]
  },
  {
   "cell_type": "markdown",
   "metadata": {},
   "source": [
    "### Creating Foreign Keys in SQL"
   ]
  },
  {
   "cell_type": "code",
   "execution_count": null,
   "metadata": {},
   "outputs": [],
   "source": [
    "CREATE TABLE Departments(DepartmentID INTEGER PRIMARY KEY NOT NULL,\n",
    "                        DepartmentName TEXT)\n",
    "CREATE TABLE Locations(LocationID INTEGER PRIMARY KEY NOT NULL,\n",
    "                      City TEXT)"
   ]
  },
  {
   "cell_type": "code",
   "execution_count": null,
   "metadata": {},
   "outputs": [],
   "source": [
    "#For creating the Employee table, we need to use the FOREIGN KEY table constraint to designate the foreign keys:\n",
    "CREATE TABLE Employee (EmployeID INTEGER PRIMARY KEY NOT NULL,\n",
    "                      Name TEXT,\n",
    "                      Position TEXT,\n",
    "                      DepartmentID INTEGER,\n",
    "                      LocationID INTEGER,\n",
    "                      FOREIGN KEY(DepartmentID) REFERENCES \n",
    "                        Departments(DepartmentID),\n",
    "                      FOREIGN KEY(LocationID) REFERENCES\n",
    "                        Locations(LocationID))"
   ]
  },
  {
   "cell_type": "markdown",
   "metadata": {},
   "source": [
    "The general format of the FOREIGN KEY table constraint:<br>\n",
    "    FOREIGN KEY(ColumnName) REFERENCES TableName(ColumnName)"
   ]
  },
  {
   "cell_type": "markdown",
   "metadata": {},
   "source": [
    "<b>Note:</b> By default,SQLite does not enforce the integrity of foreign keys. if you want to evolve the integrity of foreign keys in an SQLite database, you must explicitly enable the feature.<br>\n",
    "The general format is:<br>\n",
    "cur.execute('PRAGMA foreign_keys=ON')"
   ]
  },
  {
   "cell_type": "markdown",
   "metadata": {},
   "source": [
    "<img src='images/week14/Foreign_Employee.png'>"
   ]
  },
  {
   "cell_type": "markdown",
   "metadata": {},
   "source": [
    "<img src='images/week14/Foreign_Department.png'>"
   ]
  },
  {
   "cell_type": "markdown",
   "metadata": {},
   "source": [
    "<img src='images/week14/Foreign_Location.png'>\n",
    "\n",
    "<i>Source: Starting Out with Python (5th Edition)- by Tony Gaddis Pearson</i>"
   ]
  },
  {
   "cell_type": "code",
   "execution_count": null,
   "metadata": {},
   "outputs": [],
   "source": [
    "import sqlite3\n",
    "\n",
    "\n",
    "conn = sqlite3.connect('employee.db')\n",
    "cur = conn.cursor()\n",
    "cur.execute('Drop Table Departments')  \n",
    "cur.execute('Drop Table Locations') \n",
    "cur.execute('Drop Table Employees') \n",
    "        \n",
    "cur.execute('PRAGMA foreign_keys= ON')\n",
    "cur.execute('CREATE TABLE Departments(DepartmentID INTEGER PRIMARY KEY NOT NULL, DepartmentName TEXT)')\n",
    "cur.execute('CREATE TABLE Locations(LocationID INTEGER PRIMARY KEY NOT NULL, City TEXT)')\n",
    "cur.execute('''INSERT INTO Departments(DepartmentID, DepartmentName) VALUES(1,\"Accounting\"),(2,\"Manufactoring\"),(3,\"Marketing\"),\n",
    "(4,\"Research\")''')\n",
    "cur.execute('''INSERT INTO Locations(LocationID, City) VALUES(1,\"Austin\"),(2,\"Boston\"),(3,\"New York\"),\n",
    "        (4,\"San Jose\")''')\n",
    "cur.execute(\"\"\"CREATE TABLE Employees(EmployeID INTEGER PRIMARY KEY NOT NULL,\n",
    "                      Name TEXT,\n",
    "                      Position TEXT,\n",
    "                      DepartmentID INTEGER,\n",
    "                      LocationID INTEGER,\n",
    "                      FOREIGN KEY(DepartmentID) REFERENCES \n",
    "                      Departments(DepartmentID),\n",
    "                      FOREIGN KEY(LocationID) REFERENCES\n",
    "                      Locations(LocationID))\"\"\")\n",
    "       \n",
    "cur.execute('''INSERT INTO Employees (Name, Position, DepartmentID, LocationID) VALUES(\"Arlene Meyers\",\"Director\",4,4),\n",
    "        (\"Janelle Grant\",\"Engineer\",2,1), (\"Jack Smith\",\"Manager\",3,3),(\"Sonia Alvarado\",\"Auditor\",1,2),(\"Rene Kinkade\",\"Designer\",3,3)''')\n",
    "\n",
    "\n",
    "     \n",
    "conn.commit()\n"
   ]
  },
  {
   "cell_type": "code",
   "execution_count": null,
   "metadata": {},
   "outputs": [],
   "source": [
    "import sqlite3\n",
    "\n",
    "\n",
    "        \n",
    "cur.execute('''INSERT INTO Employees(Name,Position,DepartmentID, LocationID) VALUES(\"Bill Swift\",\"Intern\",99,1)''')\n",
    "        \n",
    "conn.commit()\n",
    "        \n",
    "conn.close()     "
   ]
  },
  {
   "cell_type": "markdown",
   "metadata": {},
   "source": [
    "When updating a row that has a foreign key, you must be sure that you do not change the foreign key to an invalid value."
   ]
  },
  {
   "cell_type": "markdown",
   "metadata": {},
   "source": [
    "Suppose table A has a foreign key that refrences a column in table B. You cannot delete any rows in table B that are currently references by rows in table A."
   ]
  },
  {
   "cell_type": "code",
   "execution_count": null,
   "metadata": {},
   "outputs": [],
   "source": [
    "cur.execute('PRAGMA foreign_keys = ON')\n",
    "cur.execute('DELETE FROM Locations WHERE LocationID ==4')\n",
    "conn.commit()"
   ]
  },
  {
   "cell_type": "markdown",
   "metadata": {},
   "source": [
    "### Retrieving Columns from Multiple Tables in a SELECT Statement"
   ]
  },
  {
   "cell_type": "markdown",
   "metadata": {},
   "source": [
    "when related data is stored in several tables, it is necessary to pull data from multiple tables in a signle SELECT statement.\n",
    "<ul><li>In our SELECT statement, we need to specify not only the names of the columns but also the names of the tables to which those columns belong.</li>\n",
    "    <ul><li> We will use <i>qualified column names</i> with the following format:<br>\n",
    "        TableName.ColumnName\n",
    "        </li>\n",
    "    </ul></ul>"
   ]
  },
  {
   "cell_type": "markdown",
   "metadata": {},
   "source": [
    "<b>Example:</b>"
   ]
  },
  {
   "cell_type": "code",
   "execution_count": 1,
   "metadata": {},
   "outputs": [
    {
     "ename": "IndentationError",
     "evalue": "unexpected indent (4281091156.py, line 2)",
     "output_type": "error",
     "traceback": [
      "\u001b[0;36m  Cell \u001b[0;32mIn[1], line 2\u001b[0;36m\u001b[0m\n\u001b[0;31m    Employees.Name,\u001b[0m\n\u001b[0m    ^\u001b[0m\n\u001b[0;31mIndentationError\u001b[0m\u001b[0;31m:\u001b[0m unexpected indent\n"
     ]
    }
   ],
   "source": [
    "SELECT\n",
    "    Employees.Name,\n",
    "    Departments.DepartmentName\n",
    "    Locations.City\n",
    "FROM\n",
    "    Employees, Departments, Locations\n",
    "WHERE\n",
    "    Employees.DepartmentID == Departments.DepartmentID AND\n",
    "    Employees.LocationID == Locations.LocationID"
   ]
  },
  {
   "cell_type": "markdown",
   "metadata": {},
   "source": [
    "<b>Example:</b>"
   ]
  },
  {
   "cell_type": "code",
   "execution_count": null,
   "metadata": {},
   "outputs": [],
   "source": [
    "import sqlite3\n",
    "\n",
    "def main():\n",
    "    conn = None\n",
    "    \n",
    "    try:\n",
    "        conn = sqlite3.connect('employee.db')\n",
    "        cur = conn.cursor()\n",
    "        \n",
    "        cur.execute('PRAGMA foreign_keys=ON')\n",
    "        \n",
    "        cur.execute('''SELECT \n",
    "                            Employees.Name,\n",
    "                            Departments.DepartmentName,\n",
    "                            Locations.City\n",
    "                       FROM\n",
    "                           Employees,Departments, Locations\n",
    "                       WHERE\n",
    "                           Employees.DepartmentID == Departments.DepartmentID AND\n",
    "                           Employees.LocationID == Locations.LocationID''')\n",
    "        results = cur.fetchall()\n",
    "        \n",
    "        for row in results:\n",
    "            print(f'{row[0]}{row[1]}{row[2]}')\n",
    "            \n",
    "    except sqlite3.Error as err:\n",
    "        print(err)\n",
    "    finally:\n",
    "        if conn != None:\n",
    "            conn.close()\n",
    "main()"
   ]
  },
  {
   "cell_type": "markdown",
   "metadata": {},
   "source": [
    "<b>Note: </b> When joining data from multiple tables, be sure to use a WHERE clause to specify search criteria that link the appropriate columns. Failure to do so can result in a large set of unrelated data."
   ]
  },
  {
   "cell_type": "code",
   "execution_count": 5,
   "metadata": {},
   "outputs": [
    {
     "data": {
      "text/plain": [
       "'e'"
      ]
     },
     "execution_count": 5,
     "metadata": {},
     "output_type": "execute_result"
    }
   ],
   "source": [
    "a = {1:'w',2:'e'}\n",
    "a.pop(2,'q')"
   ]
  }
 ],
 "metadata": {
  "kernelspec": {
   "display_name": "Python 3 (ipykernel)",
   "language": "python",
   "name": "python3"
  },
  "language_info": {
   "codemirror_mode": {
    "name": "ipython",
    "version": 3
   },
   "file_extension": ".py",
   "mimetype": "text/x-python",
   "name": "python",
   "nbconvert_exporter": "python",
   "pygments_lexer": "ipython3",
   "version": "3.11.3"
  }
 },
 "nbformat": 4,
 "nbformat_minor": 4
}
