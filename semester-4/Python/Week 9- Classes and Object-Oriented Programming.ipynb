{
 "cells": [
  {
   "cell_type": "markdown",
   "metadata": {},
   "source": [
    "   \n",
    "    Neshat Beheshti\n",
    "    University of Texas Arlington\n",
    "\n",
    "    This document can only be used for class studies. \n",
    "    You are not allowed to share it in any public platform."
   ]
  },
  {
   "cell_type": "markdown",
   "metadata": {},
   "source": [
    "        The Material for this Notebook is Adopted from \n",
    "        Starting Out with Python (4th Edition)- by Tony Gaddis Pearson"
   ]
  },
  {
   "cell_type": "markdown",
   "metadata": {},
   "source": [
    "<h1 align='center' style=\"color: blue;\">Classes and Object- Oriented Programming</h1>"
   ]
  },
  {
   "cell_type": "markdown",
   "metadata": {},
   "source": [
    "There are primarily two methods of programming: \n",
    "<ol>\n",
    "    <li>procedural</li>\n",
    "    <li>object-oriented</li>"
   ]
  },
  {
   "cell_type": "markdown",
   "metadata": {},
   "source": [
    "## 1.Procedural Programming"
   ]
  },
  {
   "cell_type": "markdown",
   "metadata": {},
   "source": [
    "<b>Procedural programming: writing programs made of functions that perform specific tasks</b>\n",
    "<ul>\n",
    "<li>Procedures typically operate on data items that are separate from the procedures</li>\n",
    "<li>Data items commonly passed from one procedure to another</li>\n",
    "<li>Focus: to create procedures that operate on the program’s data</li>"
   ]
  },
  {
   "cell_type": "markdown",
   "metadata": {},
   "source": [
    "## 2.Object-Oriented Programming"
   ]
  },
  {
   "cell_type": "markdown",
   "metadata": {},
   "source": [
    "<b>Object-oriented programming: focused on creating objects</b><br>\n",
    "<b>Object: entity that contains data and procedures</b>\n",
    "<ul>\n",
    "    <li>Data is known as data attributes and procedures are known as methods</li>\n",
    "<li>Methods perform operations on the data attributes</li></ul>\n"
   ]
  },
  {
   "cell_type": "markdown",
   "metadata": {},
   "source": [
    "<img src='images/week 11/An object contains data attributes and methods.png'>\n",
    "\n",
    "<i>Source: Starting Out with Python (4th Edition)- by Tony Gaddis Pearson</i>"
   ]
  },
  {
   "cell_type": "markdown",
   "metadata": {},
   "source": [
    "<b>Encapsulation: combining data and code into a single object</b><br>\n",
    "<b>Data hiding: object’s data attributes are hidden from code outside the object</b>\n",
    "<ul>\n",
    "    <li>Access restricted to the object’s methods</li>\n",
    "<ul>\n",
    "    <li>Protects from accidental corruption</li>\n",
    "<li>Outside code does not need to know internal structure of the object</li>"
   ]
  },
  {
   "cell_type": "markdown",
   "metadata": {},
   "source": [
    "<img src='images/week 11/Code outside the object interacts with the object’s methods.png'>\n",
    "\n",
    "<i>Source: Starting Out with Python (4th Edition)- by Tony Gaddis Pearson</i>"
   ]
  },
  {
   "cell_type": "markdown",
   "metadata": {},
   "source": [
    "### 2.1. Object Reusability"
   ]
  },
  {
   "cell_type": "markdown",
   "metadata": {},
   "source": [
    "Object reusability: the same object can be used in different programs \n",
    "<ul><li>Example: 3D image object can be used for architecture and game programming</li>"
   ]
  },
  {
   "cell_type": "markdown",
   "metadata": {},
   "source": [
    "### 2.2. An Everyday Example of an Object"
   ]
  },
  {
   "cell_type": "markdown",
   "metadata": {},
   "source": [
    "Data attributes: define the state of an object\n",
    "<ul><li>Example: clock object would have <i>second</i>, <i>minute</i>, and <i>hour</i> data attributes</li></ul>\n",
    "Public methods: allow external code to manipulate the object\n",
    "<ul><li>Example: <i>set_time, set_alarm_time</i></li></ul>\n",
    "Private methods: used for object’s inner workings\n",
    "<ul><li>Example: <i>increment_current_second, increment_current_hour</i></li></ul>"
   ]
  },
  {
   "cell_type": "markdown",
   "metadata": {},
   "source": [
    "## 3. Classes"
   ]
  },
  {
   "cell_type": "markdown",
   "metadata": {},
   "source": [
    "<b>Class: code that specifies the data attributes and methods of a particular type of object</b>\n",
    "<ul><li>Similar to a blueprint of a house or a cookie cutter</li></ul>"
   ]
  },
  {
   "cell_type": "markdown",
   "metadata": {},
   "source": [
    "<img src='images/week 11/A blueprint.png'>\n",
    "\n",
    "<i>Source: Starting Out with Python (4th Edition)- by Tony Gaddis Pearson</i>"
   ]
  },
  {
   "cell_type": "markdown",
   "metadata": {},
   "source": [
    "<img src='images/week 11/The cookie cutter metaphor.png'>\n",
    "\n",
    "<i>Source: Starting Out with Python (4th Edition)- by Tony Gaddis Pearson</i>"
   ]
  },
  {
   "cell_type": "markdown",
   "metadata": {},
   "source": [
    "<b>Instance: an object created from a class</b>\n",
    "<ul><li>Similar to a specific house built according to the blueprint or a specific cookie</li>\n",
    "<li>There can be many instances of one class</li></ul>"
   ]
  },
  {
   "cell_type": "markdown",
   "metadata": {},
   "source": [
    "<img src='images/week 11/housefly.png'>\n",
    "\n",
    "<i>Source: Starting Out with Python (4th Edition)- by Tony Gaddis Pearson</i>"
   ]
  },
  {
   "cell_type": "markdown",
   "metadata": {},
   "source": [
    "### 3.1. Class Definitions"
   ]
  },
  {
   "cell_type": "markdown",
   "metadata": {},
   "source": [
    "<b>Class definition: set of statements that define a class’s methods and data attributes</b>\n",
    "<ul><li>Format: begin with <i>class Class_name</i>:</li>\n",
    "    <ul><li>Class names often start with uppercase letter</li></ul>\n",
    "    <li>Method definition like any other python function definition</li>\n",
    "<ul><li>self parameter: required in every method in the class – references the specific object that the method is working on</li></ul>"
   ]
  },
  {
   "cell_type": "markdown",
   "metadata": {},
   "source": [
    "<b>Initializer method: automatically executed when an instance of the class is created</b>\n",
    "<ul><li>Initializes object’s data attributes and assigns self parameter to the object that was just created</li>\n",
    "    <li>Format: <i>def __init__ (self):</i></li>\n",
    "    <li>Usually the first method in a class definition</li>\n",
    "    </ul>"
   ]
  },
  {
   "cell_type": "markdown",
   "metadata": {},
   "source": [
    "<ul>\n",
    "    <li>To create a new instance of a class call the initializer method</li>\n",
    "<ul>\n",
    "    <li>Format: <i>My_instance = Class_Name()</i></li></ul>\n",
    "    <li>To call any of the class methods using the created instance, use dot notation</li>\n",
    "<ul>\n",
    "    <li>Format: <i>My_instance.method()</i></li>\n",
    "<li>Because the <i>self</i> parameter references the specific instance of the object, the method will affect this instance</li>\n",
    "<ul>\n",
    "    <li>Reference to <i>self</i> is passed automatically</li>\n",
    "    </ul></ul></ul>\n"
   ]
  },
  {
   "cell_type": "markdown",
   "metadata": {},
   "source": [
    "<b>Example:</b>"
   ]
  },
  {
   "cell_type": "code",
   "execution_count": 2,
   "metadata": {},
   "outputs": [],
   "source": [
    "import random\n",
    "\n",
    "\n",
    "# The Coin class simulates a coin that can \n",
    "# be flipped.\n",
    "class Coin:\n",
    "    \n",
    "    \n",
    "    # The __init__ method initializes the \n",
    "    # sideup data attribute with 'Heads'.\n",
    "    def __init__(self): \n",
    "        self.sideup = 'Heads'\n",
    "        \n",
    "        \n",
    "        # The toss method generates a random number \n",
    "        # in the range of 0 through 1. If the number \n",
    "        # is 0, then sideup is set to 'Heads'.\n",
    "        # Otherwise, sideup is set to 'Tails'.\n",
    "    def toss(self):\n",
    "        if random.randint(0, 1) == 0:\n",
    "            self.sideup = 'Heads' \n",
    "        else:\n",
    "            self.sideup = 'Tails'\n",
    "            \n",
    "            \n",
    "        # The get_sideup method returns the value \n",
    "        # referenced by sideup.\n",
    "    def get_sideup(self): \n",
    "        return self.sideup"
   ]
  },
  {
   "cell_type": "code",
   "execution_count": 3,
   "metadata": {},
   "outputs": [],
   "source": [
    "coin1 = Coin()\n",
    "coin2 = Coin()\n",
    "coin3 = Coin()"
   ]
  },
  {
   "cell_type": "code",
   "execution_count": 4,
   "metadata": {},
   "outputs": [
    {
     "data": {
      "text/plain": [
       "'Heads'"
      ]
     },
     "execution_count": 4,
     "metadata": {},
     "output_type": "execute_result"
    }
   ],
   "source": [
    "coin3.get_sideup()"
   ]
  },
  {
   "cell_type": "code",
   "execution_count": 5,
   "metadata": {},
   "outputs": [],
   "source": [
    "coin1.toss()"
   ]
  },
  {
   "cell_type": "code",
   "execution_count": 6,
   "metadata": {},
   "outputs": [
    {
     "data": {
      "text/plain": [
       "'Tails'"
      ]
     },
     "execution_count": 6,
     "metadata": {},
     "output_type": "execute_result"
    }
   ],
   "source": [
    "coin1.get_sideup()"
   ]
  },
  {
   "cell_type": "code",
   "execution_count": 7,
   "metadata": {},
   "outputs": [
    {
     "name": "stdout",
     "output_type": "stream",
     "text": [
      "This side is up: Heads\n",
      "I am tossing the coin ...\n",
      "This side is up: Tails\n"
     ]
    }
   ],
   "source": [
    "import random\n",
    "\n",
    "\n",
    "# The Coin class simulates a coin that can \n",
    "# be flipped.\n",
    "class Coin:\n",
    "\n",
    "\n",
    "    # The __init__ method initializes the \n",
    "    # sideup data attribute with 'Heads'.\n",
    "    def __init__(self): \n",
    "        self.sideup = 'Heads'\n",
    "\n",
    "\n",
    "        # The toss method generates a random number \n",
    "        # in the range of 0 through 1. If the number \n",
    "        # is 0, then sideup is set to 'Heads'.\n",
    "        # Otherwise, sideup is set to 'Tails'.\n",
    "    def toss(self):\n",
    "        if random.randint(0, 1) == 0:\n",
    "            self.sideup = 'Heads' \n",
    "        else:\n",
    "            self.sideup = 'Tails'\n",
    "        \n",
    "        \n",
    "        # The get_sideup method returns the value \n",
    "        # referenced by sideup.\n",
    "    def get_sideup(self): \n",
    "        return self.sideup\n",
    "    \n",
    "\n",
    "# The main function. \n",
    "def main():\n",
    "    \n",
    "    # Create an object from the Coin class. \n",
    "    my_coin = Coin()\n",
    "    \n",
    "    # Display the side of the coin that is facing up. \n",
    "    print('This side is up:', my_coin.get_sideup())\n",
    "    \n",
    "    # Toss the coin.\n",
    "    print('I am tossing the coin ...') \n",
    "    my_coin.toss()\n",
    "    \n",
    "    # Display the side of the coin that is facing up. \n",
    "    print('This side is up:', my_coin.get_sideup())\n",
    " \n",
    "main()"
   ]
  },
  {
   "cell_type": "markdown",
   "metadata": {},
   "source": [
    "<img src='images/week 11/Actions caused by the Coin.png'>\n",
    "\n",
    "<i>Source: Starting Out with Python (4th Edition)- by Tony Gaddis Pearson</i>"
   ]
  },
  {
   "cell_type": "code",
   "execution_count": 8,
   "metadata": {},
   "outputs": [],
   "source": [
    "import random\n",
    "# The Coin class simulates a coin that can be flipped.\n",
    "\n",
    "class Coin:\n",
    "    # The __init__ method initializes the \n",
    "    # sideup data attribute with 'Heads'.\n",
    "    \n",
    "    def __init__(self, init_sideup = 'Heads'): \n",
    "        self.sideup = init_sideup\n",
    "        # The toss method generates a random number \n",
    "        # in the range of 0 through 1. If the number \n",
    "        # is 0, then sideup is set to 'Heads'.\n",
    "        # Otherwise, sideup is set to 'Tails'.\n",
    "        \n",
    "    def toss(self):\n",
    "        if random.randint(0, 1) == 0:\n",
    "            self.sideup = 'Heads' \n",
    "        else:\n",
    "            self.sideup = 'Tails'\n",
    "        # The get_sideup method returns the value \n",
    "        # referenced by sideup.\n",
    "    \n",
    "    def get_sideup(self): \n",
    "        return self.sideup"
   ]
  },
  {
   "cell_type": "code",
   "execution_count": 21,
   "metadata": {},
   "outputs": [],
   "source": [
    "coin1 = Coin('Heads')\n",
    "coin2 = Coin('Tails')\n",
    "coin3 = Coin()"
   ]
  },
  {
   "cell_type": "code",
   "execution_count": 23,
   "metadata": {},
   "outputs": [
    {
     "data": {
      "text/plain": [
       "'ails'"
      ]
     },
     "execution_count": 23,
     "metadata": {},
     "output_type": "execute_result"
    }
   ],
   "source": [
    "coin2.get_sideup()"
   ]
  },
  {
   "cell_type": "markdown",
   "metadata": {},
   "source": [
    "### 3.2. Hiding Attributes and Storing Classes in Modules"
   ]
  },
  {
   "cell_type": "markdown",
   "metadata": {},
   "source": [
    "An object’s data attributes should be private\n",
    "<ul>\n",
    "    <li>To make sure of this, place two underscores (__) in front of attribute name</li>\n",
    "<ul>\n",
    "    <li>Example: __current_minute</li></ul></ul>"
   ]
  },
  {
   "cell_type": "code",
   "execution_count": null,
   "metadata": {},
   "outputs": [],
   "source": [
    "import random\n",
    "# The Coin class simulates a coin that can \n",
    "# be flipped.\n",
    "\n",
    "class Coin:\n",
    "    # The __init__ method initializes the \n",
    "    # sideup data attribute with 'Heads'.\n",
    "    \n",
    "    def __init__(self): \n",
    "        self.sideup = 'Heads'\n",
    "        # The toss method generates a random number \n",
    "        # in the range of 0 through 1. If the number \n",
    "        # is 0, then sideup is set to 'Heads'.\n",
    "        # Otherwise, sideup is set to 'Tails'.\n",
    "        \n",
    "    def toss(self):\n",
    "        if random.randint(0, 1) == 0:\n",
    "            self.sideup = 'Heads' \n",
    "        else:\n",
    "            self.sideup = 'Tails'\n",
    "        \n",
    "    # The get_sideup method returns the value referenced by sideup.\n",
    "    def get_sideup(self): \n",
    "        return self.sideup\n",
    "\n",
    "def main():\n",
    "\n",
    "    # Create an object from the Coin class. \n",
    "    my_coin = Coin()\n",
    "\n",
    "    # Display the side of the coin that is facing up. \n",
    "    print('This side is up:', my_coin.get_sideup())\n",
    "\n",
    "    # Toss the coin.\n",
    "    print('I am tossing the coin ...') \n",
    "    my_coin.toss()\n",
    "\n",
    "    # But now I'm going to cheat! I'm going to \n",
    "    # directly change the value of the object's \n",
    "    # sideup attribute to 'Heads'. \n",
    "    my_coin.sideup = 'Heads'\n",
    "\n",
    "    # Display the side of the coin that is facing up. \n",
    "    print('This side is up:', my_coin.get_sideup())\n",
    "\n",
    "main()"
   ]
  },
  {
   "cell_type": "code",
   "execution_count": null,
   "metadata": {},
   "outputs": [],
   "source": [
    "my_coin = Coin()"
   ]
  },
  {
   "cell_type": "code",
   "execution_count": null,
   "metadata": {},
   "outputs": [],
   "source": [
    "my_coin.sideup"
   ]
  },
  {
   "cell_type": "markdown",
   "metadata": {},
   "source": [
    "<b>Example:</b>"
   ]
  },
  {
   "cell_type": "code",
   "execution_count": 9,
   "metadata": {},
   "outputs": [
    {
     "name": "stdout",
     "output_type": "stream",
     "text": [
      "This side is up: Heads\n",
      "I am going to toss the coin ten times:\n",
      "Heads\n",
      "Tails\n",
      "Tails\n",
      "Heads\n",
      "Tails\n",
      "Heads\n",
      "Heads\n",
      "Tails\n",
      "Heads\n",
      "Heads\n"
     ]
    }
   ],
   "source": [
    "import random\n",
    "\n",
    "# The Coin class simulates a coin that can be flipped.\n",
    "class Coin:\n",
    "\n",
    "    # The __init__ method initializes the \n",
    "    # __sideup data attribute with ‘Heads’.\n",
    "    def __init__(self): \n",
    "        self.__sideup = 'Heads'\n",
    "\n",
    "    # The toss method generates a random number \n",
    "    # in the range of 0 through 1. If the number \n",
    "    # is 0, then sideup is set to 'Heads'.\n",
    "    # Otherwise, sideup is set to 'Tails'.\n",
    "    def toss(self):\n",
    "        if random.randint(0, 1) == 0:\n",
    "            self.__sideup = 'Heads' \n",
    "        else:\n",
    "            self.__sideup = 'Tails'\n",
    "\n",
    "    # The get_sideup method returns the value \n",
    "    # referenced by sideup.\n",
    "    def get_sideup(self): \n",
    "        return self.__sideup\n",
    "\n",
    "def main():\n",
    "    # Create an object from the Coin class. \n",
    "    my_coin = Coin()\n",
    "    \n",
    "    # Display the side of the coin that is facing up. \n",
    "    print('This side is up:', my_coin.get_sideup())\n",
    "    \n",
    "    # Toss the coin.\n",
    "    print('I am going to toss the coin ten times:') \n",
    "    for count in range(10):\n",
    "        my_coin.toss() \n",
    "        #use __before a name to \n",
    "        my_coin.__sideup = 'Tails'\n",
    "        print(my_coin.get_sideup())\n",
    "\n",
    "main()"
   ]
  },
  {
   "cell_type": "markdown",
   "metadata": {},
   "source": [
    "### Storing Classes in Modules"
   ]
  },
  {
   "cell_type": "markdown",
   "metadata": {},
   "source": [
    "Classes can be stored in modules\n",
    "<ul>\n",
    "    <li>Filename for module must end in .py</li>\n",
    "    <li>Module can be imported to programs that use the class</li></ul>"
   ]
  },
  {
   "cell_type": "markdown",
   "metadata": {},
   "source": [
    "<b>Example:</b>"
   ]
  },
  {
   "cell_type": "code",
   "execution_count": 5,
   "metadata": {},
   "outputs": [
    {
     "name": "stdout",
     "output_type": "stream",
     "text": [
      "Writing coin.py\n"
     ]
    }
   ],
   "source": [
    "%%file coin.py\n",
    "import random\n",
    "\n",
    "# The Coin class simulates a coin that can be flipped.\n",
    "class Coin:\n",
    "\n",
    "    # The __init__ method initializes the __sideup data attribute with 'Heads'.\n",
    "    def __init__(self): \n",
    "        self.__sideup = 'Heads'\n",
    "\n",
    "    # The toss method generates a random number in the range of 0 through 1. \n",
    "    #If the number is 0, then sideup is set to 'Heads'.\n",
    "    # Otherwise, sideup is set to 'Tails'.\n",
    "    def toss(self):\n",
    "        if random.randint(0, 1) == 0:\n",
    "            self.__sideup = 'Heads' \n",
    "        else:\n",
    "            self.__sideup = 'Tails'\n",
    "    \n",
    "    # The get_sideup method returns the value referenced by sideup.\n",
    "    def get_sideup(self):\n",
    "        return self.__sideup\n",
    "    \n",
    "# This program imports the coin module and \n",
    "# creates an instance of the Coin class."
   ]
  },
  {
   "cell_type": "code",
   "execution_count": 24,
   "metadata": {},
   "outputs": [
    {
     "name": "stdout",
     "output_type": "stream",
     "text": [
      "This side is up: Heads\n",
      "I am going to toss the coin ten times:\n",
      "Heads\n",
      "Heads\n",
      "Tails\n",
      "Tails\n",
      "Tails\n",
      "Heads\n",
      "Heads\n",
      "Tails\n",
      "Tails\n",
      "Heads\n"
     ]
    }
   ],
   "source": [
    "import coin\n",
    "\n",
    "def main():\n",
    "    # Create an object from the Coin class. \n",
    "    my_coin = coin.Coin()\n",
    "\n",
    "    # Display the side of the coin that is facing up. \n",
    "    print('This side is up:', my_coin.get_sideup())\n",
    "\n",
    "    # Toss the coin.\n",
    "    print('I am going to toss the coin ten times:') \n",
    "    for count in range(10):\n",
    "        my_coin.toss() \n",
    "        print(my_coin.get_sideup())\n",
    "main()"
   ]
  },
  {
   "cell_type": "markdown",
   "metadata": {},
   "source": [
    "### 3.3.The BankAccount Class – More About Classes"
   ]
  },
  {
   "cell_type": "markdown",
   "metadata": {},
   "source": [
    "Class methods can have multiple parameters in addition to self\n",
    "<ul>\n",
    "    <li>For <i>__init__</i>, parameters needed to create an instance of the class</li>\n",
    "    <ul><li>Example: a <i>BankAccount</i> object is created with a  balance</li>\n",
    "        <ul><li>When called, the initializer method receives a value to be assigned to a <i>__balance</i> attribute</li></ul></ul>\n",
    "        <li>For other methods, parameters needed to perform required task</li>\n",
    "    <ul><li>Example: <i>deposit</i> method amount to be deposited</li></ul></ul></ul>"
   ]
  },
  {
   "cell_type": "code",
   "execution_count": null,
   "metadata": {},
   "outputs": [],
   "source": [
    "%%file bankaccount.py\n",
    "\n",
    "class BankAccount:\n",
    "# The __init__ method accepts an argument for # the account's balance. It is assigned to\n",
    "# the __balance attribute.\n",
    "    def __init__(self, bal): \n",
    "        self.__balance = bal\n",
    "        \n",
    "# The deposit method makes a deposit into the account.\n",
    "    def deposit(self, amount): \n",
    "        self.__balance += amount\n",
    "# The withdraw method withdraws an amount from the account.\n",
    "    def withdraw(self, amount):\n",
    "        if self.__balance >= amount:\n",
    "            self.__balance -= amount\n",
    "        else:\n",
    "            print('Error: Insufficient funds')\n",
    "\n",
    "    # The get_balance method returns the account balance.\n",
    "    def get_balance(self): \n",
    "        return self.__balance"
   ]
  },
  {
   "cell_type": "code",
   "execution_count": null,
   "metadata": {},
   "outputs": [],
   "source": [
    "import bankaccount\n",
    "\n",
    "def main():\n",
    "    # Get the starting balance.\n",
    "    start_bal = float(input('Enter your starting balance: '))\n",
    "    \n",
    "    # Create a BankAccount object.\n",
    "    savings = bankaccount.BankAccount(start_bal)\n",
    "\n",
    "    # Deposit the user's paycheck.\n",
    "    pay = float(input('How much were you paid this week? ')) \n",
    "    print('I will deposit that into your account.')\n",
    "    savings.deposit(pay)\n",
    "\n",
    "    # Display the balance.\n",
    "    print('Your account balance is $', savings.get_balance())\n",
    "    \n",
    "    # Get the amount to withdraw.\n",
    "    cash = float(input('How much would you like to withdraw? ')) \n",
    "    print('I will withdraw that from your account.') \n",
    "    savings.withdraw(cash)\n",
    "\n",
    "    # Display the balance.\n",
    "    print('Your account balance is $',savings.get_balance())\n",
    "\n",
    "main()"
   ]
  },
  {
   "cell_type": "markdown",
   "metadata": {},
   "source": [
    "### 3.4. The - -str-- method"
   ]
  },
  {
   "cell_type": "markdown",
   "metadata": {},
   "source": [
    "<li>Object’s state: the values of the object’s attribute at a given moment</li>\n",
    "<li>__str__ method: displays the object’s state</li>\n",
    "<ul>\n",
    "    <li>Automatically called when the object is passed as an argument to the print function</li>\n",
    "<li>Automatically called when the object is passed as an argument to the str function --> did not work</li>\n",
    "</ul>"
   ]
  },
  {
   "cell_type": "code",
   "execution_count": 26,
   "metadata": {},
   "outputs": [
    {
     "name": "stdout",
     "output_type": "stream",
     "text": [
      "Writing bankaccount2.py\n"
     ]
    }
   ],
   "source": [
    "%%file bankaccount2.py\n",
    "class BankAccount:\n",
    "\n",
    "    # The __init__ method accepts an argument for the account's balance. It is assigned to the __balance attribute.\n",
    "    def __init__(self, bal): \n",
    "        self.__balance = bal\n",
    "    \n",
    "    # The deposit method makes a deposit into the account.\n",
    "    def deposit(self, amount): \n",
    "        self.__balance += amount\n",
    "\n",
    "    # The withdraw method withdraws an amount from the account.\n",
    "    def withdraw(self, amount):\n",
    "        if self.__balance >= amount:\n",
    "            self.__balance -= amount\n",
    "        else:\n",
    "            print('Error: Insufficient funds')\n",
    "\n",
    "    # The get_balance method returns the account balance.\n",
    "    def get_balance(self):\n",
    "        return self.__balance\n",
    "\n",
    "    # The __str__ method returns a string indicating the object's state.\n",
    "    def __str__(self):\n",
    "        return 'The balance is $' + format(self.__balance, ',.2f')"
   ]
  },
  {
   "cell_type": "code",
   "execution_count": 28,
   "metadata": {},
   "outputs": [
    {
     "name": "stdout",
     "output_type": "stream",
     "text": [
      "I will deposit that into your account.\n",
      "The balance is $124,678.00\n",
      "I will withdraw that from your account.\n",
      "The balance is $123,444.00\n"
     ]
    }
   ],
   "source": [
    "import bankaccount2\n",
    "\n",
    "def main():\n",
    "\n",
    "    # Get the starting balance.\n",
    "    start_bal = float(input('Enter your starting balance: '))\n",
    "\n",
    "    # Create a BankAccount object.\n",
    "    savings = bankaccount2.BankAccount(start_bal)\n",
    "\n",
    "    # Deposit the user's paycheck.\n",
    "    pay = float(input('How much were you paid this week? ')) \n",
    "    print('I will deposit that into your account.') \n",
    "    savings.deposit(pay)\n",
    "\n",
    "    # Display the balance. \n",
    "    print(savings)\n",
    "\n",
    "    # Get the amount to withdraw.\n",
    "    cash = float(input('How much would you like to withdraw? ')) \n",
    "    print('I will withdraw that from your account.') \n",
    "    savings.withdraw(cash)\n",
    "\n",
    "    # Display the balance. \n",
    "    print(savings)\n",
    "\n",
    "\n",
    "\n",
    "main()"
   ]
  },
  {
   "cell_type": "code",
   "execution_count": null,
   "metadata": {},
   "outputs": [],
   "source": [
    "account = bankaccount2.BankAccount(1500.0)\n",
    "message = str(account)\n",
    "print(message)"
   ]
  },
  {
   "cell_type": "markdown",
   "metadata": {},
   "source": [
    "## 4. Working With Instances"
   ]
  },
  {
   "cell_type": "markdown",
   "metadata": {},
   "source": [
    "Instance attribute: belongs to a specific instance of a class\n",
    "<ul><li>Created when a method uses the self parameter to create an attribute</li></ul>\n",
    "If many instances of a class are created, each would have its own set of attributes"
   ]
  },
  {
   "cell_type": "code",
   "execution_count": 29,
   "metadata": {},
   "outputs": [
    {
     "name": "stdout",
     "output_type": "stream",
     "text": [
      "I have three coins with these sides up:\n",
      "Heads\n",
      "Heads\n",
      "Heads\n",
      "\n",
      "I am tossing all three coins ...\n",
      "\n",
      "Now here are the sides that are up:\n",
      "Tails\n",
      "Tails\n",
      "Tails\n",
      "\n"
     ]
    }
   ],
   "source": [
    "import coin\n",
    "\n",
    "def main():\n",
    "    \n",
    "    # Create three objects from the Coin class. \n",
    "    coin1 = coin.Coin()\n",
    "    coin2 = coin.Coin()\n",
    "    coin3 = coin.Coin()\n",
    "    \n",
    "    # Display the side of each coin that is facing up. \n",
    "    print('I have three coins with these sides up:') \n",
    "    print(coin1.get_sideup())\n",
    "    print(coin2.get_sideup())\n",
    "    print(coin3.get_sideup()) \n",
    "    print()\n",
    "    \n",
    "    # Toss the coin.\n",
    "    print('I am tossing all three coins ...') \n",
    "    print()\n",
    "    coin1.toss()\n",
    "    coin2.toss()\n",
    "    coin3.toss()\n",
    "    \n",
    "    # Display the side of each coin that is facing up. \n",
    "    print('Now here are the sides that are up:') \n",
    "    print(coin1.get_sideup())\n",
    "    print(coin2.get_sideup())\n",
    "    print(coin3.get_sideup()) \n",
    "    print()\n",
    "    \n",
    "main()"
   ]
  },
  {
   "cell_type": "markdown",
   "metadata": {},
   "source": [
    "<img src='images/week 11/The coin1.png'>\n",
    "<img src='images/week 11/The objects after the toss method.png'>\n",
    "\n",
    "<i>Source: Starting Out with Python (4th Edition)- by Tony Gaddis Pearson</i>"
   ]
  },
  {
   "cell_type": "code",
   "execution_count": 2,
   "metadata": {},
   "outputs": [
    {
     "name": "stdout",
     "output_type": "stream",
     "text": [
      "Writing cellphone.py\n"
     ]
    }
   ],
   "source": [
    "%%file cellphone.py\n",
    "class CellPhone:\n",
    "\n",
    "    # The __init__ method initializes the attributes.\n",
    "    def __init__(self, manufact, model, price): \n",
    "        self.__manufact = manufact\n",
    "        self.__model = model \n",
    "        self.__retail_price = price\n",
    "\n",
    "    # The set_manufact method accepts an argument for # the phone's manufacturer.\n",
    "    def set_manufact(self, manufact): \n",
    "        self.__manufact = manufact\n",
    "        \n",
    "    # The set_model method accepts an argument for the phone's model number.\n",
    "    def set_model(self, model):\n",
    "        self.__model = model\n",
    "    \n",
    "    # The set_retail_price method accepts an argument for the phone's retail price.\n",
    "\n",
    "    def set_retail_price(self, price):\n",
    "        self.__retail_price = price\n",
    "\n",
    "    # The get_manufact method returns the phone's manufacturer.\n",
    "\n",
    "    def get_manufact(self):\n",
    "        return self.__manufact\n",
    "\n",
    "    # The get_model method returns the phone's model number.\n",
    "\n",
    "    def get_model(self):\n",
    "        return self.__model\n",
    "\n",
    "    # The get_retail_price method returns the phone's retail price.\n",
    "\n",
    "    def get_retail_price(self):\n",
    "        return self.__retail_price"
   ]
  },
  {
   "cell_type": "code",
   "execution_count": 4,
   "metadata": {},
   "outputs": [
    {
     "name": "stdout",
     "output_type": "stream",
     "text": [
      "Here is the data that you entered:\n",
      "Manufacturer: mint\n",
      "Model Number: 123\n",
      "Retail Price: $1,234.00\n"
     ]
    }
   ],
   "source": [
    "import cellphone\n",
    "\n",
    "def main():\n",
    "    # Get the phone data.\n",
    "    man = input('Enter the manufacturer: ')\n",
    "    mod = input('Enter the model number: ')\n",
    "    retail = float(input('Enter the retail price: '))\n",
    "\n",
    "    # Create an instance of the CellPhone class.\n",
    "    phone = cellphone.CellPhone(man, mod, retail)\n",
    "\n",
    "    # Display the data that was entered.\n",
    "    print('Here is the data that you entered:')\n",
    "    print('Manufacturer:', phone.get_manufact())\n",
    "    print('Model Number:', phone.get_model())\n",
    "    print('Retail Price: $', format(phone.get_retail_price(), ',.2f'), sep='')\n",
    "\n",
    "\n",
    "main()"
   ]
  },
  {
   "cell_type": "markdown",
   "metadata": {},
   "source": [
    "### 4.1.Passing Objects as Arguments"
   ]
  },
  {
   "cell_type": "markdown",
   "metadata": {},
   "source": [
    "<li>Methods and functions often need to accept objects as arguments</li>\n",
    "<li>When you pass an object as an argument, you are actually passing a reference to the object</li>\n",
    "<ul><li>The receiving method or function has access to the actual object</li>\n",
    "    <ul><li>Methods of the object can be called within the receiving function or method, and data </li></ul></ul>"
   ]
  },
  {
   "cell_type": "code",
   "execution_count": 19,
   "metadata": {},
   "outputs": [
    {
     "name": "stdout",
     "output_type": "stream",
     "text": [
      "Heads\n",
      "Tails\n"
     ]
    }
   ],
   "source": [
    "import coin\n",
    "\n",
    "def main():\n",
    "    my_coin = coin.Coin()\n",
    "    \n",
    "    # This will display 'Heads'. \n",
    "    print(my_coin.get_sideup())\n",
    "\n",
    "    # Pass the object to the flip function. \n",
    "    flip(my_coin)\n",
    "\n",
    "    # This might display 'Heads', or it might display 'Tails'. \n",
    "    print(my_coin.get_sideup())\n",
    "\n",
    "# The flip function flips a coin. \n",
    "def flip(coin_obj):\n",
    "    coin_obj.toss()\n",
    "\n",
    "main()"
   ]
  },
  {
   "cell_type": "code",
   "execution_count": null,
   "metadata": {},
   "outputs": [],
   "source": [
    "import pickle\n",
    "import cellphone\n",
    "# Constant for the filename. \n",
    "FILENAME = 'cellphones.dat'\n",
    "def main():\n",
    "# Initialize a variable to control the loop. \n",
    "    again = 'y'\n",
    "# Open a file.\n",
    "    output_file = open(FILENAME, 'wb')\n",
    "# Get data from the user. \n",
    "    while again.lower() == 'y': \n",
    "        # Get cell phone data.\n",
    "        man = input('Enter the manufacturer: ')\n",
    "        mod = input('Enter the model number: ')\n",
    "        retail = float(input('Enter the retail price: '))\n",
    "# Create a CellPhone object.\n",
    "        phone = cellphone.CellPhone(man, mod, retail)\n",
    "# Pickle the object and write it to the file. \n",
    "        pickle.dump(phone, output_file)\n",
    "# Get more cell phone data?\n",
    "        again = input('Enter more phone data? (y/n): ')\n",
    "# Close the file.\n",
    "    output_file.close()\n",
    "    print('The data was written to', FILENAME)\n",
    "main()"
   ]
  },
  {
   "cell_type": "code",
   "execution_count": null,
   "metadata": {},
   "outputs": [],
   "source": [
    "import pickle\n",
    "import cellphone\n",
    "# Constant for the filename. \n",
    "FILENAME = 'cellphones.dat'\n",
    "def main():\n",
    "    end_of_file = False\n",
    "# To indicate end of file\n",
    "# Open the file.\n",
    "    input_file = open(FILENAME, 'rb')\n",
    "# Read to the end of the file. \n",
    "    while not end_of_file:\n",
    "        try:\n",
    "# Unpickle the next object. \n",
    "            phone = pickle.load(input_file)\n",
    "# Display the cell phone data.\n",
    "            display_data(phone) \n",
    "        except EOFError:\n",
    "# Set the flag to indicate the end of the file has been reached. \n",
    "            end_of_file = True\n",
    "# Close the file. \n",
    "    input_file.close()\n",
    "# The display_data function displays the data from the CellPhone object passed as an argument.\n",
    "def display_data(phone):\n",
    "    print('Manufacturer:', phone.get_manufact())\n",
    "    print('Model Number:', phone.get_model())\n",
    "    print('Retail Price: $',phone.get_retail_price())\n",
    "    print()\n",
    "    \n",
    "main()"
   ]
  },
  {
   "cell_type": "markdown",
   "metadata": {},
   "source": [
    "## 5. Techniques for Designing Classes"
   ]
  },
  {
   "cell_type": "markdown",
   "metadata": {},
   "source": [
    "<li>UML diagram: standard diagrams for graphically depicting object-oriented systems</li>\n",
    "<ul><li>Stands for Unified Modeling Language</li></ul>\n",
    "<li>General layout: box divided into three sections:</li>\n",
    "<ul><li>Top section: name of the class</li>\n",
    "<li>Middle section: list of data attributes</li>\n",
    "<li>Bottom section: list of class methods</li>\n",
    "</ul>"
   ]
  },
  {
   "cell_type": "markdown",
   "metadata": {},
   "source": [
    "<img src='images/week 11/General layout of a UML diagram for a class.png'>\n",
    "<img src='images/week 11/UML diagram for the Coin class.png'>\n",
    "<img src='images/week 11/UML diagram for the CellPhone class.png'>\n",
    "\n",
    "<i>Source: Starting Out with Python (4th Edition)- by Tony Gaddis Pearson</i>"
   ]
  },
  {
   "cell_type": "markdown",
   "metadata": {},
   "source": [
    "### 5.1.Finding the Classes in a Problem"
   ]
  },
  {
   "cell_type": "markdown",
   "metadata": {},
   "source": [
    "<li>When developing object oriented program, first goal is to identify classes</li>\n",
    "<ul><li>Typically involves identifying the real-world objects that are in the problem</li>\n",
    "    <li>Technique for identifying classes:</li>\n",
    "    <ol><li>Get written description of the problem domain</li>\n",
    "        <li>Identify all nouns in the description, each of which is a potential class</li>\n",
    "        <li>Refine the list to include only classes that are relevant to the problem</li></ol>"
   ]
  },
  {
   "cell_type": "markdown",
   "metadata": {},
   "source": [
    "1.Get written description of the problem domain\n",
    "<ul><li>May be written by you or by an expert</li>\n",
    "    <li>Should include any or all of the following:</li>\n",
    "<ul><li>Physical objects simulated by the program</li>\n",
    "<li>The role played by a person</li> \n",
    "<li>The result of a business event</li>\n",
    "    <li>Recordkeeping items</li></ul></ul>"
   ]
  },
  {
   "cell_type": "markdown",
   "metadata": {},
   "source": [
    "2.Identify all nouns in the description, each of which is a potential class\n",
    "<ul><li>Should include noun phrases and pronouns </li>\n",
    " <li>Some nouns may appear twice </li>"
   ]
  },
  {
   "cell_type": "markdown",
   "metadata": {},
   "source": [
    "3.Refine the list to include only classes that are relevant to the problem\n",
    "<ul><li>Remove nouns that mean the same thing</li> \n",
    "<li>Remove nouns that represent items that the program does not need to be concerned with</li> \n",
    "<li>Remove nouns that represent objects, not classes</li> \n",
    "<li>Remove nouns that represent simple values that can be assigned to a variable</li> "
   ]
  },
  {
   "cell_type": "markdown",
   "metadata": {},
   "source": [
    "### 5.2.Identifying a Class’s Responsibilities"
   ]
  },
  {
   "cell_type": "markdown",
   "metadata": {},
   "source": [
    "A classes responsibilities are:\n",
    "<ul><li>The things the class is responsible for knowing</li>\n",
    "    <ul><li>Identifying these helps identify the class’s data attributes</li></ul>\n",
    "    <li>The actions the class is responsible for doing</li>\n",
    "<ul><li>Identifying these helps identify the class’s methods</li></ul></ul>\n",
    "To find out a class’s responsibilities look at the problem domain\n",
    "<ul><li>Deduce required information and actions</li></ul>"
   ]
  }
 ],
 "metadata": {
  "kernelspec": {
   "display_name": "Python 3 (ipykernel)",
   "language": "python",
   "name": "python3"
  },
  "language_info": {
   "codemirror_mode": {
    "name": "ipython",
    "version": 3
   },
   "file_extension": ".py",
   "mimetype": "text/x-python",
   "name": "python",
   "nbconvert_exporter": "python",
   "pygments_lexer": "ipython3",
   "version": "3.11.3"
  }
 },
 "nbformat": 4,
 "nbformat_minor": 4
}
