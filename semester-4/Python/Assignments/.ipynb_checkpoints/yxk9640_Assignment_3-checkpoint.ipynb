{
 "cells": [
  {
   "cell_type": "markdown",
   "id": "46f5f937",
   "metadata": {
    "id": "46f5f937"
   },
   "source": [
    "<h1 style='color:blue' align=center>Assignment#3</h1>"
   ]
  },
  {
   "cell_type": "markdown",
   "id": "77b94cec",
   "metadata": {},
   "source": [
    "# Student Name: <Yogesh Kalapala>\n",
    "# Student Id : 1001879640"
   ]
  },
  {
   "cell_type": "markdown",
   "id": "1c94f641",
   "metadata": {
    "id": "1c94f641"
   },
   "source": [
    "<b>Question#1</b>:(8 points)<br>\n",
    "Write a Python program that reads a list of strings from a file string.txt, identifies all the anagram pairs (i.e., pairs of strings that can be rearranged to form each other) and store them as tuples in a list. Your program should ignore any whitespace and treat uppercase and lowercase letters as equivalent."
   ]
  },
  {
   "cell_type": "code",
   "execution_count": null,
   "id": "a10e6322",
   "metadata": {
    "id": "a10e6322"
   },
   "outputs": [],
   "source": [
    "# For example, given the following list of strings:\n",
    "[\"Dori my tor\", \"Eleven plus two\", \"The eyes\", \"A gentleman\", \"Hello World\", \"I am a weakish speller\",  \"Funeral\",  \"Dirty room\",  \"Twelve plus one\",  \"The queer shakes\", \"They see\", \"Elegant man\",  \"Real fun\", \"William Shakespeare\", \"The earthquakes\", \"Worry Hold\"]\n",
    "#Your program should identify the following anagram pairs:\n",
    "[ (\"Dori my tor\", \"Dirty room\"), (\"Eleven plus two\", \"Twelve plus one\"), (\"The eyes\", \"They see\"),  (\"A gentleman\", \"Elegant man\"), (\"Funeral\", \"Real fun\"), (\"William Shakespeare\", \"I am a weakish speller\"), (\"The queer shakes\",\"The earthquakes\")]"
   ]
  },
  {
   "cell_type": "markdown",
   "id": "4b7513ef",
   "metadata": {
    "id": "4b7513ef"
   },
   "source": [
    "Your program should output the anagram pairs to a file name <b>anagrams.txt</b> in the following format:<br><br>\n",
    "William Shakespeare, I am a weakish speller<br>\n",
    "Dori my tor, Dirty room<br>\n",
    "Eleven plus two, Twelve plus one<br>\n",
    "The eyes, They see<br>\n",
    "A gentleman, Elegant man<br>\n",
    "Funeral, Real fun<br>\n",
    "The queer shakes, The earthquakes"
   ]
  },
  {
   "cell_type": "code",
   "execution_count": 1,
   "id": "291a59d1",
   "metadata": {
    "id": "291a59d1"
   },
   "outputs": [
    {
     "name": "stdout",
     "output_type": "stream",
     "text": [
      "Anagrams has been Written to anagrams.txt\n"
     ]
    }
   ],
   "source": [
    "# Write Your Answer for Q#1 Over Here \n",
    "\n",
    "def removeSpaces(string):\n",
    "    str = \"\"\n",
    "    lst = string.split(\" \")\n",
    "    for i in range(0,len(lst)):\n",
    "        str += lst[i] \n",
    "    return str\n",
    "def counter(str):\n",
    "    count = {}\n",
    "    for char in str:\n",
    "        if char in count:\n",
    "            count[char] += 1\n",
    "        else:\n",
    "            count[char] = 1\n",
    "    return count\n",
    "\n",
    "def main():\n",
    "        #open file and read each line as an item of list \n",
    "    file = open(\"string.txt\",'r')\n",
    "    anagrams = ''\n",
    "    anagramsList = []\n",
    "    #convert to lower case letters as given Uppercase and lower case are considered as same\n",
    "    lines = file.read().lower().splitlines()\n",
    "    # print(lines)\n",
    "\n",
    "    #generate anagrams from the word list\n",
    "    # -- 1. Length 2 strings should be equal, do not consider spaces\n",
    "    for i in range(0,len(lines)):\n",
    "        for j in range(i+1,len(lines)):\n",
    "            if ( counter(removeSpaces(lines[i])) == counter(removeSpaces(lines[j])) ):\n",
    "                anagrams+=\"(\"+lines[i]+\",\"+lines[j]+\")\\n\" #can you avoid printing last empty line\n",
    "                anagramsList.append(tuple( (lines[i],lines[j]) ))\n",
    "\n",
    "    # print(anagrams)\n",
    "\n",
    "    #print the output to a file.\n",
    "    out = open(\"anagrams.txt\",'w')\n",
    "    out.write(str(anagramsList))\n",
    "    print(\"Anagrams has been Written to anagrams.txt\")\n",
    "\n",
    "    #close file\n",
    "    out.close()\n",
    "    file.close()\n",
    "\n",
    "main()\n"
   ]
  },
  {
   "cell_type": "markdown",
   "id": "85faa00c",
   "metadata": {
    "id": "85faa00c"
   },
   "source": [
    "<b>Question#2</b>:(10 points)<br>\n",
    "Suppose you are designing a system to manage a university's course registration. Each course has a unique course code, a course name, and a list of enrolled students. Each student has a unique ID, a name, and a list of enrolled courses.\n",
    "\n",
    "Design a class in Python that represents this system. Your design should include:\n",
    "<ol>\n",
    "    <li>A base class for courses</li>\n",
    "    <ul>\n",
    "        <ul>\n",
    "        <li>A method for enrolling a student in a course</li>\n",
    "    <li>A method for dropping a student from a course</li>\n",
    "            <li>A method for displaying the list of enrolled students for a given course</li></ul>\n",
    "    <li>A derived class for each type of course (lecture, lab, seminar)</li>\n",
    "    <ul><li>Each lecture has a unique instructor </li>\n",
    "        <li>Each lab has a unique TA </li>\n",
    "        <li>Each Seminar has a unique guest_speaker</li>\n",
    "        </ul>\n",
    "        </ul>\n",
    "    <li>A base class for students</li>\n",
    "<ul>\n",
    "    <li>A method for displaying the list of enrolled courses for a given student</li>\n",
    "    <li>A derived class for each type of student (undergraduate, graduate)</li>\n",
    "    </ul>\n",
    "\n",
    "</ol>\n",
    "\n",
    "Write a program that demonstrates the use of your class, including creating and enrolling students(undergraduate, graduate) in <b>courses(lecture, lab, seminar)</b>, <b>dropping students from courses</b>, and <b>displaying lists of enrolled students</b> and <b>displaying lists of enrolled courses for specific students</b>."
   ]
  },
  {
   "cell_type": "code",
   "execution_count": 2,
   "id": "1d347596",
   "metadata": {
    "colab": {
     "base_uri": "https://localhost:8080/"
    },
    "id": "1d347596",
    "outputId": "bfc1149e-faeb-4272-edc2-5a15c6436fa1"
   },
   "outputs": [
    {
     "name": "stdout",
     "output_type": "stream",
     "text": [
      "Enrolled students in STAT 331 Lecture:\n",
      "Sara\n",
      "\n",
      "\n",
      "Enrolled courses for Sara:\n",
      " Introduction to Statistics\n",
      " Programming\n",
      "\n",
      "Enrolled courses for Ali:\n",
      " MATH Lab\n",
      " Information Technology\n",
      "\n",
      "Enrolled students in STAT 331 Lecture:\n",
      "Sara\n",
      "John\n",
      "Enrolled courses for John: After dropping STAT 331\n",
      " Programming\n"
     ]
    }
   ],
   "source": [
    "# Write Your Answer for Q#2 Over Here \n",
    "# 2 classes \n",
    "class Courses:\n",
    "    #initialize objects using init\n",
    "    def __init__(self,course_code,course_name):\n",
    "        self.course_code = course_code\n",
    "        self.course_name = course_name\n",
    "        self.enrolled_students = []\n",
    "\n",
    "    #write getter and setter files\n",
    "    def get_course_code(self):\n",
    "        return self.course_code\n",
    "    def get_course_name(self):\n",
    "        return self.course_name\n",
    "\n",
    "    #add course -> get student details, course details add to course list\n",
    "    def enroll_student(self,student):\n",
    "        self.enrolled_students.append(student)\n",
    "    # delete course-> get student details, course details --> eleminate from course list\n",
    "    def drop_student(self,student):\n",
    "        self.enrolled_students.remove(student)\n",
    "\n",
    "    def display_enrolled_students(self):\n",
    "        # course_code, list of students  self.enrolled_students will be object\n",
    "        # print(\"List of students enrolled are: \")\n",
    "        for student in self.enrolled_students:\n",
    "          print(f\"{student.stud_name}\")\n",
    "\n",
    "\n",
    "class Lecture(Courses):\n",
    "    def __init__(self, course_code, course_name, instructor):\n",
    "        super().__init__(course_code, course_name)\n",
    "        self.instructor = instructor\n",
    "\n",
    "class Lab(Courses):\n",
    "    def __init__(self,course_code, course_name,ta):\n",
    "        super().__init__(course_code, course_name)\n",
    "        self.ta = ta\n",
    "\n",
    "class Seminar(Courses):\n",
    "    def __init__(self,course_code, course_name,guest_speaker):\n",
    "        super().__init__(course_code, course_name)\n",
    "        self.guest_speaker = guest_speaker\n",
    "\n",
    "\n",
    "class Student:\n",
    "    def __init__(self,unique_ID, stud_name):\n",
    "        self.unique_id = unique_ID\n",
    "        self.stud_name = stud_name\n",
    "        self.enrolled_courses = []\n",
    "\n",
    " \n",
    "    def enroll_course(self,course):\n",
    "        self.enrolled_courses.append(course)\n",
    "        # course.enroll_student(self) #em chesthadho chudu\n",
    "\n",
    "    def drop_course(self,course):\n",
    "        self.enrolled_courses.remove(course)\n",
    "        # course.drop_student(self)\n",
    "\n",
    "    def display_enrolled_courses(self):\n",
    "        # print(\"List of courses enrolled are: \")\n",
    "        for course in self.enrolled_courses:\n",
    "            print(f\" {course.course_name}\")\n",
    "\n",
    "\n",
    "class UnderGraduate(Student):\n",
    "    def __init__(self,unique_ID, stud_name):\n",
    "        super().__init__(unique_ID, stud_name)\n",
    "\n",
    "class Graduate(Student):\n",
    "    def __init__(self,unique_ID, stud_name):\n",
    "        super().__init__(unique_ID, stud_name)\n",
    "\n",
    "\n",
    "def main():\n",
    "  # Create Student objects\n",
    "    sara = UnderGraduate(121, \"Sara\")\n",
    "    ali = Graduate(332, \"Ali\")\n",
    "    john = Graduate(443, \"John\")\n",
    "\n",
    "    # Create Courses objects\n",
    "    stat_331 = Lecture(\"STAT 331\", \"Introduction to Statistics\", \"Dr. Lora\")\n",
    "    python_330 = Lecture(\"PYT 330\", \"Programming\", \"Dr. Gaddis\")\n",
    "    math_lab = Lab(\"MATH 101L\", \"MATH Lab\", \"TA Mila\")\n",
    "    IT_seminar = Seminar(\"IT 465S\", \"Information Technology\", \"Prof. Davis\")\n",
    "\n",
    "    #Enroll the students into the courses\n",
    "    stat_331.enroll_student(sara)\n",
    "    python_330.enroll_student(sara)\n",
    "    math_lab.enroll_student(ali)\n",
    "    IT_seminar.enroll_student(ali)\n",
    "\n",
    "    #Enroll the courses into the students\n",
    "    sara.enroll_course(stat_331)\n",
    "    sara.enroll_course(python_330)\n",
    "    ali.enroll_course(math_lab)\n",
    "    ali.enroll_course(IT_seminar)\n",
    "    john.enroll_course(stat_331)\n",
    "    john.enroll_course(python_330)\n",
    "\n",
    "    #Display students in the courses\n",
    "    print(f\"Enrolled students in {stat_331.course_code} Lecture:\")\n",
    "    stat_331.display_enrolled_students()\n",
    "    print(\"\\n\")\n",
    "\n",
    "    #Display enrolled courses for a student\n",
    "    print(f\"Enrolled courses for {sara.stud_name}:\")\n",
    "    sara.display_enrolled_courses()\n",
    "    print()\n",
    "\n",
    "    #Display enrolled courses for a student\n",
    "    print(f\"Enrolled courses for {ali.stud_name}:\")\n",
    "    ali.display_enrolled_courses()\n",
    "    print()\n",
    "\n",
    "    #Display enrolled courses for a student\n",
    "    stat_331.enroll_student(john)\n",
    "    print(f\"Enrolled students in {stat_331.course_code} Lecture:\")\n",
    "    stat_331.display_enrolled_students()\n",
    "    john.drop_course(stat_331)\n",
    "    print(f\"Enrolled courses for {john.stud_name}: After dropping {stat_331.course_code}\")\n",
    "    john.display_enrolled_courses()\n",
    "main()"
   ]
  },
  {
   "cell_type": "markdown",
   "id": "0ea82445",
   "metadata": {
    "id": "0ea82445"
   },
   "source": [
    "<b>Question#3</b>:(7 points)<br>\n",
    "Write a function that takes a string as input and returns a dictionary containing the count of each unique word in the input string (A word is defined as a sequence of non-space characters). The keys in the output dictionary should be in lowercase so you need to convert the input string to lowercase. In addition, the function should only consider words that contain at least one vowel (a, e, i, o, u), and the output dictionary should only include words that occur more than once.\n",
    "\n",
    "For example, if the input string is \"The quick hplw brown fox jumps over the lazy dog hplw\", the output dictionary should be {\"the\": 2}"
   ]
  },
  {
   "cell_type": "code",
   "execution_count": 3,
   "id": "5f5e4767",
   "metadata": {
    "colab": {
     "base_uri": "https://localhost:8080/"
    },
    "id": "5f5e4767",
    "outputId": "090ddbd6-1e8c-4652-d1f5-1106a9d68517"
   },
   "outputs": [
    {
     "name": "stdout",
     "output_type": "stream",
     "text": [
      "{'the': 2}\n"
     ]
    }
   ],
   "source": [
    "# Write Your Answer for Q#3 Over Here\n",
    "import re\n",
    "string = \"The quick hplw brown fox jumps over the lazy dog hplw\"\n",
    "lower = string.lower()\n",
    "wordList = lower.split(\" \")\n",
    "\n",
    "#check for words with vowles\n",
    "pattern = re.compile('a|e|i|o|u')\n",
    "vowel_wordList = [item for item in wordList if re.search(pattern,item)!=None]\n",
    "vowel_wordList_dict = {}\n",
    "\n",
    "#count the repeated required words\n",
    "for key in vowel_wordList:\n",
    "    if key in vowel_wordList_dict.keys():\n",
    "        vowel_wordList_dict[key]=vowel_wordList_dict[key]+1\n",
    "    else:\n",
    "        vowel_wordList_dict[key]=1\n",
    "\n",
    "# vowel_wordList_dict = { item : (vowel_wordList_dict.keys() if item in vowel_wordList_dict.keys() else vowel_wordList_dict.values()) for item in vowel_wordList}\n",
    "\n",
    "#filter required words repated more than once\n",
    "vowel_wordList_result = {key:value for key,value in vowel_wordList_dict.items() if value > 1}\n",
    "print(vowel_wordList_result)\n",
    "\n"
   ]
  },
  {
   "cell_type": "markdown",
   "id": "003dd15f",
   "metadata": {
    "id": "003dd15f"
   },
   "source": [
    "# <b>Important Points:</b>\n",
    "<ul>\n",
    "    <li>Make sure you put your name at the top of the assignment file as a comment.</li>\n",
    "    <li>Write your code for each question in the specified cell</li>\n",
    "    <li><b>You should only use the programming concepts that have been covered in this course.</b></li>\n",
    "    <li>Try to add comments to your code.</li>\n",
    "    <li>Make sure to save the ipython file (this file) <b>with the outputs</b> along with <u>anagram.txt</u> file and submit them on Canvas.</li>\n",
    "    <li>For questions without ouput you will not get any point.</li>\n",
    "    <li>If your code has an error (even a simple syntax error), you will not get any point for that questions.</li>\n",
    "    <li>The <b>due date</b> for this assignment is:<span style='color:red'> --<b> April 16 at 11:59 PM</b>.</span></li>\n",
    "    <li><u><b>No late submission will be accepted.</b></u></li>\n",
    "</ul>"
   ]
  }
 ],
 "metadata": {
  "colab": {
   "provenance": []
  },
  "kernelspec": {
   "display_name": "Python 3 (ipykernel)",
   "language": "python",
   "name": "python3"
  },
  "language_info": {
   "codemirror_mode": {
    "name": "ipython",
    "version": 3
   },
   "file_extension": ".py",
   "mimetype": "text/x-python",
   "name": "python",
   "nbconvert_exporter": "python",
   "pygments_lexer": "ipython3",
   "version": "3.11.2"
  }
 },
 "nbformat": 4,
 "nbformat_minor": 5
}
