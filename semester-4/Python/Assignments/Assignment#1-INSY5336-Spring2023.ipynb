{
 "cells": [
  {
   "cell_type": "markdown",
   "id": "fdf84411",
   "metadata": {},
   "source": [
    "# Yogesh Kalapala\n",
    "# 1001879640\n",
    "# yxk9640"
   ]
  },
  {
   "cell_type": "markdown",
   "id": "a8cac514",
   "metadata": {},
   "source": [
    "<h1 style='color:blue' align=center>Assignment#1</h1>"
   ]
  },
  {
   "cell_type": "markdown",
   "id": "cfcab770",
   "metadata": {},
   "source": [
    "<b> Question 1:</b>\n",
    "\n",
    "Consider the following formula for conversion of Fahrenheit to Celsius:\n",
    "\n",
    "$$ F = \\dfrac{9}{5} C + 32 $$\n",
    "\n",
    "<ol>\n",
    "    <li>Write a Python program that prompts the user to choose between converting 1. Fahrenheit to Celsius and 2. Celsius to Fahrenheit.</li>\n",
    "    <li>User should enter his/her option by entering 1 or 2.</li> \n",
    "    <li>After receiving user input, use an <i>if-else</i> structure to display the appropriate message to the user in order to obtain the input value for the desired temperature. (For instance, if the user enters 1, your code should display \"Please enter the Fahrenheit temperature\" and display \"Please enter the Celsius temperature\" otherwise.)</li>  \n",
    "    <li>Once again, use an <i>if-else</i> structure to perform the correct conversion and display the appropriate message to the user (for instance: \"[X] degree of Fahrenheit is equal to [Y] degree of Celsius\").</li>\n",
    "    <li>Make certain that when displaying temperatures to users, you always format in 2-decimal places.</li>\n",
    "</ol>"
   ]
  },
  {
   "cell_type": "code",
   "execution_count": 1,
   "id": "e959dcae",
   "metadata": {},
   "outputs": [
    {
     "name": "stdout",
     "output_type": "stream",
     "text": [
      "Choose between converting 1. for Fahrenheit to Celsius or 2. for Celsius to Fahrenheit: 2\n",
      "Please enter the Celsius temperature: 12\n",
      "12.0 degree of Celsius is equal to 53.60 degree of Farenheit\n"
     ]
    }
   ],
   "source": [
    "# Write your code over here.\n",
    "def tempCal():\n",
    "    decision = int(input(\"Choose between converting 1. for Fahrenheit to Celsius or 2. for Celsius to Fahrenheit: \"))\n",
    "\n",
    "    while decision< 1 or decision > 2:\n",
    "            print(\"Error\")\n",
    "            decision = int(input(\"Choose between converting 1. for Fahrenheit to Celsius or 2. for Celsius to Fahrenheit: \"))\n",
    "\n",
    "\n",
    "    if decision == 1:\n",
    "        farenheit = float(input(\"Please enter the Fahrenheit temperature: \"))   \n",
    "    elif decision == 2:\n",
    "        celsius = float(input(\"Please enter the Celsius temperature: \"))\n",
    "\n",
    "    if decision == 1 and farenheit:\n",
    "        fToC = ( (farenheit - 32 ) * 5 ) / 9\n",
    "        print(\"{0} degree of Fahrenheit is equal to {1:.2f} degree of Celsius\".format(farenheit, fToC))\n",
    "    elif (celsius or celsius==0) and decision == 2:\n",
    "        cToF = ( (9/5) * celsius ) + 32\n",
    "        print(\"{0} degree of Celsius is equal to {1:.2f} degree of Farenheit\".format(celsius, cToF))\n",
    "tempCal()"
   ]
  },
  {
   "cell_type": "markdown",
   "id": "6cfa70e4",
   "metadata": {},
   "source": [
    "<b>Question 2:</b>\n",
    "\n",
    "1. Write a program that takes a digit input value between 0 and 9 and converts it to an equivalent English word (For example, if the user enters 0, the program should display \"you entered zero.\", or if the user enters 2, the program should display \"you entered two.\") [<b>important:</b> user if-elif-else structure for this question].\n",
    "\n",
    "2. Update the code in Part #1 of your code so that the program continues to ask the question and display the output until the user enters -1 as an input. [<b>Note:</b> Make sure that your program clearly provide instruction to user so she knows that -1 will stop the program.]\n",
    "\n",
    "3. Write your code outside the jupyter platform and save it as My_Assignment1.py . Make suree to submit the file separately in Canvas.\n"
   ]
  },
  {
   "cell_type": "code",
   "execution_count": 2,
   "id": "61a8e3f8",
   "metadata": {},
   "outputs": [
    {
     "name": "stdout",
     "output_type": "stream",
     "text": [
      "Enter a digit input value between 0 and 9: 4\n",
      "You entered Four.\n"
     ]
    }
   ],
   "source": [
    "# Write your code over here.\n",
    "digit = int(input(\"Enter a digit input value between 0 and 9: \"))\n",
    "\n",
    "def digitWord(digit):\n",
    "    if digit == 0:\n",
    "        print(\"You entered zero.\")\n",
    "    elif digit == 1:\n",
    "        print(\"You entered One.\")\n",
    "    elif digit == 2:\n",
    "        print(\"You entered Two.\")\n",
    "    elif digit == 3:\n",
    "        print(\"You entered Three.\")\n",
    "    elif digit == 4:\n",
    "        print(\"You entered Four.\")\n",
    "    elif digit == 5:\n",
    "        print(\"You entered Five.\")\n",
    "    elif digit == 6:\n",
    "        print(\"You entered Six.\")\n",
    "    elif digit == 7:\n",
    "        print(\"You entered Seven.\")\n",
    "    elif digit == 8:\n",
    "        print(\"You entered Eight.\")\n",
    "    elif digit == 9:\n",
    "        print(\"You entered Nine.\")\n",
    "    else:\n",
    "        print(\"Enter number out of range\")\n",
    "digitWord(digit)"
   ]
  },
  {
   "cell_type": "code",
   "execution_count": 3,
   "id": "59c3c70a",
   "metadata": {},
   "outputs": [
    {
     "name": "stdout",
     "output_type": "stream",
     "text": [
      "Enter a digit input value between 0 and 9: 3\n",
      "You entered Three.\n",
      "Enter -1 to stop or other input to continue \n",
      "Enter a digit input value between 0 and 9: 0\n",
      "You entered zero.\n",
      "Enter -1 to stop or other input to continue \n",
      "Enter a digit input value between 0 and 9: -1\n"
     ]
    }
   ],
   "source": [
    "# Write your code over here.\n",
    "digit = int(input(\"Enter a digit input value between 0 and 9: \"))\n",
    "\n",
    "while digit > 9 or digit != -1:\n",
    "    if digit == 0:\n",
    "        print(\"You entered zero.\")\n",
    "    elif digit == 1:\n",
    "        print(\"You entered One.\")\n",
    "    elif digit == 2:\n",
    "        print(\"You entered Two.\")\n",
    "    elif digit == 3:\n",
    "        print(\"You entered Three.\")\n",
    "    elif digit == 4:\n",
    "        print(\"You entered Four.\")\n",
    "    elif digit == 5:\n",
    "        print(\"You entered Five.\")\n",
    "    elif digit == 6:\n",
    "        print(\"You entered Six.\")\n",
    "    elif digit == 7:\n",
    "        print(\"You entered Seven.\")\n",
    "    elif digit == 8:\n",
    "        print(\"You entered Eight.\")\n",
    "    elif digit == 9:\n",
    "        print(\"You entered Nine.\")\n",
    "    else:\n",
    "        print(\"Enter number out of range\")\n",
    "    \n",
    "    print(\"Enter -1 to stop or other input to continue \")\n",
    "    digit = int(input(\"Enter a digit input value between 0 and 9: \"))\n"
   ]
  },
  {
   "cell_type": "markdown",
   "id": "ba2b1e8c",
   "metadata": {},
   "source": [
    "<b>Question 3:</b>\n",
    "<br>\n",
    "Write a program that prompts the user to enter a number between <b style='color:blue'>21</b> and <b style='color:blue'>212</b> (include both in the range). The program must calculate and display the remainder of dividing the input number by 6 in alphabetical order. If the user enters a value that is not within the specified range, the program must display an error message and continue to ask until the user enters a number that is within the range. The program should ask the user whether she/he want to continue or not. The program terminates if the answer is anything other than yes. "
   ]
  },
  {
   "cell_type": "code",
   "execution_count": 4,
   "id": "48ee7e0a",
   "metadata": {
    "scrolled": true
   },
   "outputs": [
    {
     "name": "stdout",
     "output_type": "stream",
     "text": [
      "Enter number between 21 and 212: 24\n",
      "The reminder after division of 24 by 6 is: zero\n",
      "Do you want to continue(yes/no)? yes\n",
      "Enter number between 21 and 212: 34\n",
      "The reminder after division of 34 by 6 is: four\n",
      "Do you want to continue(yes/no)? no\n"
     ]
    }
   ],
   "source": [
    "# Write your code over here.\n",
    "#what to be displayes in alphabetical order \n",
    "#What do you mean by alphabetical order \n",
    "def digittoWord(num):\n",
    "    if num == 0: return \"zero\"\n",
    "    elif num == 1: return \"one\"\n",
    "    elif num == 2: return \"two\"\n",
    "    elif num == 3: return \"three\"\n",
    "    elif num == 4: return \"four\"\n",
    "    elif num == 5: return \"five\"\n",
    "\n",
    "    \n",
    "repeat = \"yes\"\n",
    "while repeat == \"yes\" or  repeat == \"y\":\n",
    "    num1 = int(input(\"Enter number between 21 and 212: \"))\n",
    "#     num2 = int(input(\"Enter number between 21 and 212: \"))\n",
    "    while( num1 < 21 or num1 > 212 ):\n",
    "        print(\"Error \")\n",
    "        num1 = int(input(\"Enter number between 21 and 212: \"))\n",
    "#         num2 = int(input(\"Enter number between 21 and 212: \"))\n",
    "        \n",
    "#     for i in range(num1, num2+1):\n",
    "    rem = num1 % 6\n",
    "    word = digittoWord(rem)\n",
    "    print(f'The reminder after division of {num1} by {6} is: {word}')\n",
    "    \n",
    "    repeat = input(\"Do you want to continue(yes/no)? \")"
   ]
  },
  {
   "cell_type": "markdown",
   "id": "d2a04bed",
   "metadata": {},
   "source": [
    "<b>Question 4:</b>\n",
    "<br> \n",
    "Write a program that receives 8 <b>positive</b> numbers from the user. Make sure you have 8 positive number at the end. \n",
    "Each time the user enters a negative or string, print a message.\n",
    "<br>\n",
    "\n",
    "1. Display, the average of 8 positive numbers collected, the sum of all positive odd numbers and the maximum of the 8 positive numbers.\n",
    "2. Determines how many of them are prime, composite or neither prime or composite and prints the message. \n",
    "\n",
    "<br>Do not use Python’s internal functions for sum, average and maximum.  "
   ]
  },
  {
   "cell_type": "code",
   "execution_count": 5,
   "id": "21639ca3",
   "metadata": {},
   "outputs": [
    {
     "name": "stdout",
     "output_type": "stream",
     "text": [
      "Enter a positive interger 1: 2\n",
      "Enter a positive interger 2: 1\n",
      "Enter a positive interger 3: 0\n",
      "Enter a positive interger 4: 120\n",
      "Enter a positive interger 5: -1\n",
      "Input is string or negative\n",
      "Enter a positive interger 5: Are you awake\n",
      "Input is string or negative\n",
      "Enter a positive interger 5: 5\n",
      "Enter a positive interger 6: 19\n",
      "Enter a positive interger 7: 34\n",
      "Enter a positive interger 8: 12\n",
      "Average is: 24.125\n",
      "Total odd sum is: 25\n",
      "Max of numbers is: 120\n"
     ]
    }
   ],
   "source": [
    "# Write your code over here.\n",
    "\n",
    "#only accepts +ve integers. NO -ve integers\n",
    "\n",
    "count = 0\n",
    "sum = 0\n",
    "oddSum = 0\n",
    "max = 0\n",
    "numList = []\n",
    "for i in range(1,9):\n",
    "    temp = input(f\"Enter a positive interger {i}: \")\n",
    "    num = int(temp) if temp.isnumeric() else temp\n",
    "    while(type(num)==str):\n",
    "        print(\"Input is string or negative\")\n",
    "        temp = input(f\"Enter a positive interger {i}: \")\n",
    "        num = int(temp) if temp.isnumeric() else temp\n",
    "#     if num > 0: count+=1\n",
    "    numList.append(temp)\n",
    "    sum += num\n",
    "    if num % 2 != 0:\n",
    "        oddSum += num\n",
    "\n",
    "    if max < num:\n",
    "        max = num\n",
    "# print(f\"Total sum is: {sum}\")\n",
    "print(f\"Average is: {sum/8}\")\n",
    "print(f\"Total odd sum is: {oddSum}\")\n",
    "print(f\"Max of numbers is: {max}\")\n",
    "# print(f\"List: {numList}\")"
   ]
  },
  {
   "cell_type": "code",
   "execution_count": 6,
   "id": "ad6d5b4f",
   "metadata": {},
   "outputs": [
    {
     "name": "stdout",
     "output_type": "stream",
     "text": [
      "Prime numbers are: 4\n",
      "Composite numbers are: 3\n",
      "Neither prime nor Composite numbers are: 1\n"
     ]
    }
   ],
   "source": [
    "# Write your code over here.\n",
    "#only accepts +ve integers no -ve integers\n",
    "def prime(num):\n",
    "    if num == 1:\n",
    "        return False\n",
    "    elif num == 2: \n",
    "#         print(num)\n",
    "        return True\n",
    "    else: \n",
    "        for i in range(2,num):\n",
    "            if num % i ==0:\n",
    "                return False\n",
    "        return True# if num == 3\n",
    "    \n",
    "primeCount = 0\n",
    "compositeCount = 0\n",
    "neither = 0\n",
    "\n",
    "#inputs are taken from above \n",
    "#calculation starts\n",
    "for i in range(len(numList)):\n",
    "    if int(numList[i]) == 1: neither+=1\n",
    "    elif prime(int(numList[i])) == True:\n",
    "        primeCount+=1\n",
    "    else: compositeCount +=1\n",
    "\n",
    "print(f\"Prime numbers are: {primeCount}\")\n",
    "print(f\"Composite numbers are: {compositeCount}\")\n",
    "print(f\"Neither prime nor Composite numbers are: {neither}\")\n"
   ]
  },
  {
   "cell_type": "markdown",
   "id": "d2ca72ac",
   "metadata": {},
   "source": [
    "<b>Question 5:</b>\n",
    "<br> Write a Python program that accepts an integer (b)\n",
    "1. Computes the value of 2b+3bb+1.5bbb.\n",
    "2. Compute sum of the first <b>b</b> positive integers (if the number is negative convert it to positive)."
   ]
  },
  {
   "cell_type": "code",
   "execution_count": 7,
   "id": "7f2876ee",
   "metadata": {},
   "outputs": [
    {
     "name": "stdout",
     "output_type": "stream",
     "text": [
      "Enter an integer: -5\n",
      "The value of 2b+3bb+1.5bbb is: -122.5\n"
     ]
    }
   ],
   "source": [
    "# Write your code over here. \n",
    "\n",
    "import math\n",
    "b = int(input(\"Enter an integer: \"))\n",
    "temp = b\n",
    "# b is interpreted as 2*b + 3*b*b + 1.5*b*b*b\n",
    "b2 = math.pow(b,2)\n",
    "b3 = math.pow(b,3)\n",
    "\n",
    "print(f'The value of 2b+3bb+1.5bbb is: {2 * b + 3 * b2 + 1.5 * b3}')\n",
    "\n",
    "#if b is interpreted as 2b + 3bb + 1.5bbb\n",
    "# for i in range(1,2):\n",
    "#     temp =int(temp * (math.pow(10,i)) + b)\n",
    "#     bb=temp\n",
    "#     bbb =int(temp * (math.pow(10,i)) + b)\n",
    "\n",
    "\n"
   ]
  },
  {
   "cell_type": "code",
   "execution_count": 8,
   "id": "a0870bb6",
   "metadata": {},
   "outputs": [
    {
     "name": "stdout",
     "output_type": "stream",
     "text": [
      "Sum of the first b positive integers: 15\n"
     ]
    }
   ],
   "source": [
    "# Write your code over here.\n",
    "\n",
    "#here b is obtained from above input given by user\n",
    "sum = 0\n",
    "#if b is negative we change it to positive\n",
    "if b < 0:\n",
    "    b = abs(b)\n",
    "for i in range(1,b+1):\n",
    "    sum+=i\n",
    "print(f'Sum of the first b positive integers: {sum}')\n",
    "    "
   ]
  },
  {
   "cell_type": "markdown",
   "id": "3205bcd1",
   "metadata": {},
   "source": [
    "<b>Question 6:</b>\n",
    "<br>\n",
    "Write a program that takes as input two points: (x1,y1) and (x2,y2) – float or integer only. Finally, the user is prompted for a third point (x3,y3). The program should find the distance between the points (x1,y1) and (x3,y3) and the points (x2,y2) and (x3,y3). At the end of each run, the user should be prompted to ask whether then want to continue."
   ]
  },
  {
   "cell_type": "code",
   "execution_count": 9,
   "id": "b5a57de5",
   "metadata": {},
   "outputs": [
    {
     "name": "stdout",
     "output_type": "stream",
     "text": [
      "yes\n",
      "Enter x of point 1: 1.2\n",
      "Enter y of point 1: 1\n",
      "Enter x of point 2: 2.5\n",
      "Enter y of point 2: 3\n",
      "Enter x of point 3: 3.5\n",
      "Enter y of point 3: 4\n",
      "First distance is 3.780\n",
      "Second distance is 1.414\n",
      "Do you want to continue yes/no? yes\n",
      "Enter x of point 1: 10\n",
      "Enter y of point 1: 5\n",
      "Enter x of point 2: 20\n",
      "Enter y of point 2: 15\n",
      "Enter x of point 3: 25\n",
      "Enter y of point 3: 20\n",
      "First distance is 21.213\n",
      "Second distance is 7.071\n",
      "Do you want to continue yes/no? no\n"
     ]
    }
   ],
   "source": [
    "# Write your code over here. \n",
    "import math\n",
    "again = \"yes\" or \"y\"\n",
    "repeat = again\n",
    "print(again)\n",
    "while repeat == again:\n",
    "    point1x = float(input(\"Enter x of point 1: \"))\n",
    "    point1y = float(input(\"Enter y of point 1: \"))\n",
    "    point2x = float(input(\"Enter x of point 2: \"))\n",
    "    point2y = float(input(\"Enter y of point 2: \"))\n",
    "    point3x = float(input(\"Enter x of point 3: \"))\n",
    "    point3y = float(input(\"Enter y of point 3: \"))\n",
    "    \n",
    "    tempDist1 = math.sqrt(math.pow((point3x - point1x),2)+math.pow((point3y - point1y),2))\n",
    "    tempDist2 = math.sqrt(math.pow((point3x - point2x),2)+math.pow((point3y - point2y),2))\n",
    "    \n",
    "    print(f\"First distance is {tempDist1:.3f}\")\n",
    "    print(f\"Second distance is {tempDist2:.3f}\")\n",
    "    \n",
    "    repeat = input(\"Do you want to continue yes/no? \")\n",
    "    \n",
    "    "
   ]
  },
  {
   "cell_type": "markdown",
   "id": "c06a39e1",
   "metadata": {},
   "source": [
    "# <b>Important Points:</b>\n",
    "<ul>\n",
    "    <li>Make sure you put your name at the top of the assignment file as a comment.</li>\n",
    "    <li>Write your code for each question in the specified cell</li>\n",
    "    <li><b>You should only use the programming concepts that have been covered in this course.</b></li>\n",
    "    <li>Try to add comments to your code.</li>\n",
    "    <li>Make sure to save the ipython file (this file) <b>with the<span style='color:red'> outputs</b> and submit the file on Canvas.</li>\n",
    "    <li>For questions without ouput you will not get any point.</li>\n",
    "    <li>If your code has an error (even a simple syntax error), you will not get any point for that questions.</li>\n",
    "    <li>The <b>due date</b> for this assignment is:<span style='color:red'> --<b> Feb 26 at 11:59 PM</b>.</span></li>\n",
    "    <li><u><b>No late submission will be accepted.</b></u></li>\n",
    "</ul>"
   ]
  },
  {
   "cell_type": "code",
   "execution_count": null,
   "id": "8b9d84de",
   "metadata": {},
   "outputs": [],
   "source": []
  }
 ],
 "metadata": {
  "kernelspec": {
   "display_name": "Python 3 (ipykernel)",
   "language": "python",
   "name": "python3"
  },
  "language_info": {
   "codemirror_mode": {
    "name": "ipython",
    "version": 3
   },
   "file_extension": ".py",
   "mimetype": "text/x-python",
   "name": "python",
   "nbconvert_exporter": "python",
   "pygments_lexer": "ipython3",
   "version": "3.10.2"
  },
  "vscode": {
   "interpreter": {
    "hash": "b0fa6594d8f4cbf19f97940f81e996739fb7646882a419484c72d19e05852a7e"
   }
  }
 },
 "nbformat": 4,
 "nbformat_minor": 5
}
