{
 "cells": [
  {
   "cell_type": "markdown",
   "metadata": {},
   "source": [
    "<h1 style='color:blue' align=center>Assignment#2</h1>"
   ]
  },
  {
   "cell_type": "markdown",
   "metadata": {},
   "source": [
    "# Student Name: Yogesh Kalapala\n",
    "# Id: 1001879640"
   ]
  },
  {
   "cell_type": "markdown",
   "metadata": {},
   "source": [
    "<b>Q#1</b>(3 points): Create a Python program to display a list of the top two and bottom two items in my_dictionary (just their keys).<br>\n",
    "my_dictionary = {item1: 340, item2: 120, item3: 570, item4: 270, item5: 60, item6: 169, item7:450}"
   ]
  },
  {
   "cell_type": "code",
   "execution_count": 1,
   "metadata": {},
   "outputs": [
    {
     "name": "stdout",
     "output_type": "stream",
     "text": [
      "The top and bottom itmes are : ['item3', 'item7', 'item5', 'item2']\n"
     ]
    }
   ],
   "source": [
    "# Write Your Answer for Q#1 Over Here \n",
    "\n",
    "my_dictionary = {\"item1\":340, \"item2\":120, \"item3\":570, \"item4\":270, \"item5\":60, \"item6\":169, \"item7\":450}\n",
    "updateValues = sorted(my_dictionary,key = my_dictionary.get)\n",
    "\n",
    "#top 2 items\n",
    "top = updateValues[:2]\n",
    "#bottom 2 items\n",
    "bottom = [updateValues[-1]]\n",
    "bottom.append(updateValues[-2])\n",
    "\n",
    "#combine top and bottom\n",
    "items = bottom + top\n",
    "print(f'The top and bottom itmes are : {items}')\n",
    "\n",
    "# output : [item3,item7, item5,item2]"
   ]
  },
  {
   "cell_type": "markdown",
   "metadata": {},
   "source": [
    "<b>Q#2</b>(6 points):\n",
    "Your task is to create a simple encryption method. In your encryption process, you must replace each character in a sentence with the corresponding character in the encryption list. Consider the following string files in your work:<br><br>\n",
    "first_string = 'abcdefghijklmnopqrstuvwxyz'<br>\n",
    "second_string ='xuzbcdepqrwyfghimnojklstva'<br><br><br>\n",
    "The first_string shows the sequance of alphabet characters. The second_string shows the corresponding encrpytion characters. For example, in this sequance, the character 'a' should be replaced by 'x' and the character 'b' should be replaced by 'u' and so on.\n",
    "\n",
    "<ol>\n",
    "    <li> Write a small python function <b>string_to_list</b> that converts a string to a list of characters.</li>\n",
    "    <li> Convert first_string to first_list.</li>\n",
    "    <li> Convert second_string to second_list.</li>\n",
    "    <li> Build a dictionary named <b>enc_dict</b> in which each character in first_list becomes a key and the corresponding character in second_list becomes the value ( Here is the expcted out put that shows first two elements in the dictionary :{'a':'x', 'b':'u', ...}).</ol>\n",
    "<br>\n",
    "Consider two exceptions may be rised in the program.Your code should have the name of at least two exception."
   ]
  },
  {
   "cell_type": "code",
   "execution_count": 2,
   "metadata": {},
   "outputs": [],
   "source": [
    "# Write Your Answer for part#1 Over Here \n",
    "first_string = 'abcdefghijklmnopqrstuvwxyz'\n",
    "second_string ='xuzbcdepqrwyfghimnojklstva'\n",
    "\n",
    "#string to list function \n",
    "def string_to_list(string):\n",
    "    strList = []\n",
    "    for i in string:\n",
    "        strList.append(i)\n",
    "    return strList\n"
   ]
  },
  {
   "cell_type": "code",
   "execution_count": 3,
   "metadata": {},
   "outputs": [
    {
     "name": "stdout",
     "output_type": "stream",
     "text": [
      "Converted first_string to first_list.: ['a', 'b', 'c', 'd', 'e', 'f', 'g', 'h', 'i', 'j', 'k', 'l', 'm', 'n', 'o', 'p', 'q', 'r', 's', 't', 'u', 'v', 'w', 'x', 'y', 'z']\n"
     ]
    }
   ],
   "source": [
    "# Write Your Answer for part#2 Over Here\n",
    "\n",
    "#convert first string to list\n",
    "try:\n",
    "    strFirstList = string_to_list(first_string)\n",
    "    print(f'Converted first_string to first_list.: {strFirstList}')\n",
    "    \n",
    "except NameError:\n",
    "    print(\"Run cell with function 'string_to_list' \")"
   ]
  },
  {
   "cell_type": "code",
   "execution_count": 4,
   "metadata": {},
   "outputs": [
    {
     "name": "stdout",
     "output_type": "stream",
     "text": [
      "Converted second_string to second_list.: ['x', 'u', 'z', 'b', 'c', 'd', 'e', 'p', 'q', 'r', 'w', 'y', 'f', 'g', 'h', 'i', 'm', 'n', 'o', 'j', 'k', 'l', 's', 't', 'v', 'a']\n"
     ]
    }
   ],
   "source": [
    "# Write Your Answer for part#3 Over Here \n",
    "\n",
    "#convert second string to list\n",
    "try:\n",
    "    strSecondList = string_to_list(second_string)\n",
    "    print(f'Converted second_string to second_list.: {strSecondList}')\n",
    "\n",
    "except NameError:\n",
    "    print(\"Run cell with function 'string_to_list' \")"
   ]
  },
  {
   "cell_type": "code",
   "execution_count": 5,
   "metadata": {},
   "outputs": [
    {
     "name": "stdout",
     "output_type": "stream",
     "text": [
      "{'a': 'x', 'b': 'u', 'c': 'z', 'd': 'b', 'e': 'c', 'f': 'd', 'g': 'e', 'h': 'p', 'i': 'q', 'j': 'r', 'k': 'w', 'l': 'y', 'm': 'f', 'n': 'g', 'o': 'h', 'p': 'i', 'q': 'm', 'r': 'n', 's': 'o', 't': 'j', 'u': 'k', 'v': 'l', 'w': 's', 'x': 't', 'y': 'v', 'z': 'a'}\n"
     ]
    }
   ],
   "source": [
    "# Write Your Answer for part#4 Over Here \n",
    "\n",
    "# Standard Library\n",
    "# enc_dict = dict(zip(strFirstList, strSecondList))\n",
    "# print(enc_dict)\n",
    "\n",
    "#using for loop without any standard fucntion create dictionary of list_1 and list_2 (key,value)\n",
    "try:\n",
    "    enc_dict = {}\n",
    "    for i in range(len(strFirstList)):\n",
    "        enc_dict[strFirstList[i]] = strSecondList[i]\n",
    "    print(enc_dict)\n",
    "\n",
    "except IndexError:\n",
    "    print(\"Check length of 2 strings.\")\n",
    "\n",
    "except NameError:\n",
    "    print(\"Run cell with function 'string_to_list', and 'convert first_string and second_string' to list \")\n",
    "    \n",
    "except SyntaxError:\n",
    "    print('Check initialisation.')\n",
    "    \n",
    "except ValueError:\n",
    "    print('Check the type')\n",
    "\n",
    "\n"
   ]
  },
  {
   "cell_type": "markdown",
   "metadata": {},
   "source": [
    "<b>Q#3</b>(4 points): Consider the previous example <br>\n",
    "<ol>\n",
    "    <li>Create a file named Encryption.py (using magic function), and add a function named encryption to the file that uses enc_dict to convert an input string to its encrypted version of it and return the encrypted string.(Important: Since your dictionary contains only lower case characters, make sure that your function converts the input string to a lower case string at the very first step.)</li>. \n",
    "<li>Use import command to import the functions into your environment. Write lines of code that asks the user to input a text message. Then use the encryption function that you've developed in the last step to find the encrypted version of the text message.</li>"
   ]
  },
  {
   "cell_type": "code",
   "execution_count": 6,
   "metadata": {},
   "outputs": [
    {
     "name": "stdout",
     "output_type": "stream",
     "text": [
      "Writing Encryption.py\n"
     ]
    }
   ],
   "source": [
    "%%file Encryption.py\n",
    "# Write Your Answer for part#1 Over Here \n",
    "\n",
    "#Use a magic function to write encryption() to a file and import it\n",
    "\n",
    "def encryption(str):\n",
    "    enc_dict = {'a': 'x', 'b': 'u', 'c': 'z', 'd': 'b', 'e': 'c', 'f': 'd', 'g': 'e', 'h': 'p', 'i': 'q', 'j': 'r', 'k': 'w', 'l': 'y', 'm': 'f', 'n': 'g', 'o': 'h', 'p': 'i', 'q': 'm', 'r': 'n', 's': 'o', 't': 'j', 'u': 'k', 'v': 'l', 'w': 's', 'x': 't', 'y': 'v', 'z': 'a'}\n",
    "    strLower = str.lower()\n",
    "    return enc_dict[strLower]\n",
    "\n",
    "\n"
   ]
  },
  {
   "cell_type": "code",
   "execution_count": 7,
   "metadata": {},
   "outputs": [
    {
     "name": "stdout",
     "output_type": "stream",
     "text": [
      "Enter a text message to encrypt: Hello! How are you?\n",
      "Encrypted message: pcyyh! phs xnc vhk?\n"
     ]
    }
   ],
   "source": [
    "# Write Your Answer for part#2 Over Here \n",
    "import Encryption as Encryption\n",
    "import importlib\n",
    "import re\n",
    "importlib.reload(Encryption)\n",
    "\n",
    "textMessage = input(\"Enter a text message to encrypt: \")\n",
    "encryptMessage = \"\"\n",
    "# check = 'a-zA-Z'\n",
    "for i in textMessage:\n",
    "    if  i.isalpha() == True:\n",
    "        encryptMessage+= Encryption.encryption(i)\n",
    "    else:\n",
    "        encryptMessage+=i\n",
    "\n",
    "print(f'Encrypted message: {encryptMessage}')\n",
    "# except:\n",
    "#     print(\"NameError\")\n",
    "        "
   ]
  },
  {
   "cell_type": "markdown",
   "metadata": {},
   "source": [
    "<b>Q#4</b>(3 points): Write a program with a function that accepts a string as an argument and returns a copy of the string with the first character of each sentence with upper case letter. For example, if the argument is “before the important business meeting, she had to make her own coffee. what does it mean? we don't know.” the function should return the string “Before the important business meeting, she had to make her own coffee. What does it mean? We don't know.” The program should let the user enter a string and then pass it to the function. The modified string should be displayed.\n",
    "\n",
    "Your code should consider the name of at least two exception."
   ]
  },
  {
   "cell_type": "code",
   "execution_count": 8,
   "metadata": {},
   "outputs": [
    {
     "name": "stdout",
     "output_type": "stream",
     "text": [
      "Enter a message: before the important business meeting, she had to make her own coffee. what does it mean? we don't know.\n",
      "Updated string: Before the important business meeting, she had to make her own coffee. What does it mean? We don't know.\n"
     ]
    }
   ],
   "source": [
    "# Write Your Answer for Q#4 Over Here \n",
    "import re\n",
    "\n",
    "try: \n",
    "    #save the pattern using capture group method.\n",
    "    sentence_end = \"(\\?\\s|\\.\\s|\\n\\s)\"\n",
    "    strArgument = input(\"Enter a message: \")\n",
    "    strChange = re.split(sentence_end,strArgument)\n",
    "    strFinal = \"\"\n",
    "    #capitalise first letter of each word\n",
    "    for i in range(len(strChange)):\n",
    "        strChange[i] = strChange[i].capitalize()\n",
    "        strFinal +=strChange[i]\n",
    "    \n",
    "    print(f'Updated string: {strFinal}')\n",
    "\n",
    "except ValueError:\n",
    "    print(\"Enter correct string\")\n",
    "\n",
    "except TypeError:\n",
    "    print(\"Incorrect type\")\n",
    "\n",
    "        "
   ]
  },
  {
   "cell_type": "markdown",
   "metadata": {},
   "source": [
    "<b>Q#5</b>(5 points): Write a program that reads the contents of filename Content.txt. The text that is in the file is stored as one sentence per line. The following instruction provides details on how you need to perform the task. \n",
    "<ul>\n",
    "<li>Ask the user to enter the number of lines he/she wants to view. If the file has fewer lines than the input number, the program should display the entire contents of the file. Otherwise, the program only needs to display the number of lines that the user specified. Ask the user to enter the number of lines he or she wants to view. If the file contains fewer lines than the input number, all of the numbers in the file should be added to the list. Then the program should display the follwing data:</li>\n",
    "<ul>\n",
    "<li> Calculate the average number of words per line.</li>\n",
    "<li>The number of uppercase letters.</li>\n",
    "<li>The number of digits in the file.</li>\n",
    "    <li> The number of whitespace characters.</li>\n",
    "<li>Handle the following exceptions:</li>\n",
    "<ul>\n",
    "<li>It should handle any exceptions that are raised when the specified filename cannot be found or opened.</li>\n",
    "<li>It should handle any exceptions that are raised when a non-integer value is given as a number of lines.</li>\n",
    "<li>It should handle any other exceptions.</li>\n",
    "    </ul></ul>"
   ]
  },
  {
   "cell_type": "code",
   "execution_count": 9,
   "metadata": {},
   "outputs": [
    {
     "name": "stdout",
     "output_type": "stream",
     "text": [
      "Enter the number of lines you want to view: 5\n",
      "\n",
      "['No one is unaware of the name of that famous English shipowner, Cunard.', 'In 1840 this shrewd industrialist founded a postal service between Liverpool and Halifax, featuring three wooden ships with 400-horsepower paddle wheels and a burden of 1,162 metric tons.', \"Eight years later, the company's assets were increased by four 650-horsepower ships at 1,820 metric tons, and in two more years, by two other vessels of still greater power and tonnage.\", 'In 1853 the Cunard Co., whose mail-carrying charter had just been renewed, successively added to its assets the Arabia, the Persia, the China, the Scotia, the Java, and the Russia, all ships of top speed and, after the Great Eastern, the biggest ever to plow the seas.', 'So in 1867 this company owned twelve ships, eight with paddle wheels and four with propellers.']\n",
      "\n",
      "The average number of words per line: 27.0 \n",
      "19 are Upper case letters\n",
      "26 are Ditigs\n",
      "130 are White Space\n"
     ]
    }
   ],
   "source": [
    "# Write Your Answer for Q#5 Over Here\n",
    "# --- check whitespace answer and verify ----\n",
    "\n",
    "# filename = input(\"Enter a filename: \")\n",
    "filename = \"Content.txt\"\n",
    "# totalLines = 1\n",
    "try:\n",
    "    userLines = int(input(\"Enter the number of lines you want to view: \"))\n",
    "    file = open(filename, \"r\")\n",
    "    context = file.read().splitlines()\n",
    "    context = context[0:userLines]\n",
    "    totalLines = len(context)\n",
    "    print()\n",
    "    print(context)\n",
    "    print()\n",
    "#     print(totalLines)\n",
    "#     print(totalContentLine)\n",
    "    #print context comparing to lenght of user\n",
    "#     for i in range(totalLines):\n",
    "#         if i < totalLines:\n",
    "#             print(context[i]) \n",
    "\n",
    "    #for each context[i] check avg words \n",
    "    wordCount =0\n",
    "    for i in range(totalLines):\n",
    "        wordCount+= len(context[i].split(\" \"))\n",
    "    print(f\"The average number of words per line: {wordCount/totalLines} \")\n",
    "\n",
    "    #number of all upper case letters\n",
    "    upperCount = 0\n",
    "    for i in range(totalLines):\n",
    "        upperCount += sum(1 for r in context[i] if r.isupper())\n",
    "    print(upperCount, \"are Upper case letters\")\n",
    "\n",
    "    #number of all digits\n",
    "    digitCount = 0\n",
    "    for i in range(totalLines):\n",
    "        digitCount += sum(1 for r in context[i] if r.isdigit())\n",
    "    print(digitCount, \"are Ditigs\")\n",
    "\n",
    "    #number of all whitespace characters\n",
    "    spaceCount = 0\n",
    "    for i in range(totalLines):\n",
    "        tem = sum(1 if r==\" \" else 0 for r in context[i])\n",
    "        spaceCount += tem\n",
    "    print(spaceCount, \"are White Space\")\n",
    "    # print(len(context))\n",
    "    file.close()\n",
    "\n",
    "except FileNotFoundError:\n",
    "    print(\"File not found: Enter a valid file name\")\n",
    "except ValueError:\n",
    "    print(\"Enter a valid interger for lines to be displayed\")\n",
    "except IndexError:\n",
    "    print(\"Check Index of array\")\n"
   ]
  },
  {
   "cell_type": "markdown",
   "metadata": {},
   "source": [
    "<b> Q#6</b>(4 points):\n",
    "<ol>\n",
    "    <li>Write a program that collects information about the user's four favorite books. The program should collect the name of the book as well as the year they were published. The program should create a tuple for each book in the following format: ('book name', 'published year'), and then add all of the tuples to a list. Finally, The program should display the name of the oldest book (based on its published year)(Tip: If two book were published in the same year, the program should only display one of them.)</li>\n",
    "<li>From part 1, write a Python program to remove characters that have odd index values of the book."
   ]
  },
  {
   "cell_type": "code",
   "execution_count": 10,
   "metadata": {},
   "outputs": [
    {
     "name": "stdout",
     "output_type": "stream",
     "text": [
      "Enter name of the book and year of publication (Book_1 Year[yyyy]): To kill a mockingbird 1995\n",
      "Enter name of the book and year of publication (Book_2 Year[yyyy]): Wuthering Heights 1847\n",
      "Enter name of the book and year of publication (Book_3 Year[yyyy]): Harry Potter 1990\n",
      "Enter name of the book and year of publication (Book_4 Year[yyyy]): Lord of The Rings 1847\n",
      "[('To kill a mockingbird', 1995), ('Wuthering Heights', 1847), ('Harry Potter', 1990), ('Lord of The Rings', 1847)]\n",
      "The oldest book is : Wuthering Heights\n"
     ]
    }
   ],
   "source": [
    "# Write Your Answer for part#1 Over Here\n",
    "\n",
    "#sort based on second item of tuple \n",
    "bookList=[]\n",
    "for i in range(4):  \n",
    "\tbook = input(f\"Enter name of the book and year of publication (Book_{i+1} Year[yyyy]): \") \n",
    "\ttuple = (book[0:len(book)-5], book[-4:])\n",
    "\tbookList.append((tuple[0],int(tuple[1])))\n",
    "print(bookList)\n",
    "for i in range(len(bookList)):\n",
    "    for j in range(len(bookList)-1):\n",
    "        if bookList[j][1] > bookList[j+1][1]:\n",
    "            temp = bookList[j]\n",
    "            bookList[j] = bookList[j+1]\n",
    "            bookList[j+1] =temp\n",
    "# print(bookList)\n",
    "old = bookList[0]\n",
    "oldbookName = old[0]\n",
    "print(f'The oldest book is : {oldbookName}')\n"
   ]
  },
  {
   "cell_type": "code",
   "execution_count": 11,
   "metadata": {},
   "outputs": [
    {
     "name": "stdout",
     "output_type": "stream",
     "text": [
      "The book name after removing characters at odd index: WteigHihs\n"
     ]
    }
   ],
   "source": [
    "# Write Your Answer for part#2 Over Here \n",
    "updateName = \"\"\n",
    "for i in range(len(oldbookName)):\n",
    "    if i%2 == 0:\n",
    "        updateName+=oldbookName[i]\n",
    "print(f'The book name after removing characters at odd index: {updateName}')"
   ]
  },
  {
   "cell_type": "markdown",
   "metadata": {},
   "source": [
    "# <b>Important Points:</b>\n",
    "<ul>\n",
    "    <li>Make sure you put your name at the top of the assignment file as a comment.</li>\n",
    "    <li>Write your code for each question in the specified cell</li>\n",
    "    <li><b>You should only use the programming concepts that have been covered in this course.</b></li>\n",
    "    <li>Try to add comments to your code.</li>\n",
    "    <li>Make sure to save the ipython file (this file) <b>with the outputs</b> and submit the file on Canvas.</li>\n",
    "    <li>For questions without ouput you will not get any point.</li>\n",
    "    <li>If your code has an error (even a simple syntax error), you will not get any point for that questions.</li>\n",
    "    <li>The <b>due date</b> for this assignment is:<span style='color:red'> --<b> March 19 at 11:59 PM</b>.</span></li>\n",
    "    <li><u><b>No late submission will be accepted.</b></u></li>\n",
    "</ul>"
   ]
  }
 ],
 "metadata": {
  "kernelspec": {
   "display_name": "Python 3 (ipykernel)",
   "language": "python",
   "name": "python3"
  },
  "language_info": {
   "codemirror_mode": {
    "name": "ipython",
    "version": 3
   },
   "file_extension": ".py",
   "mimetype": "text/x-python",
   "name": "python",
   "nbconvert_exporter": "python",
   "pygments_lexer": "ipython3",
   "version": "3.10.2"
  }
 },
 "nbformat": 4,
 "nbformat_minor": 4
}
