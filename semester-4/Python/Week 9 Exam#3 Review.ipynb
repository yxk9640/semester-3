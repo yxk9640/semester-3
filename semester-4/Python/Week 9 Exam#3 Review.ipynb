{
 "cells": [
  {
   "cell_type": "markdown",
   "id": "310de339",
   "metadata": {},
   "source": [
    "The correct way to instantiate the above Person class is:"
   ]
  },
  {
   "cell_type": "code",
   "execution_count": 8,
   "id": "62cae4aa",
   "metadata": {},
   "outputs": [
    {
     "name": "stdout",
     "output_type": "stream",
     "text": [
      "<__main__.Person object at 0x12108df10>\n"
     ]
    }
   ],
   "source": [
    "class Person:\n",
    "    def __init__(self, name, age):\n",
    "        self.name = name\n",
    "        self.age = age\n",
    "a = Person('Rufus', 20)\n",
    "print(a)"
   ]
  },
  {
   "cell_type": "markdown",
   "id": "7bb6d9c6",
   "metadata": {},
   "source": [
    "Person()\n",
    "Person.__init__(\"Rufus\", 3)\n",
    "Person(\"Rufus\", 3)\n",
    "Person.create(\"Rufus\", 3)"
   ]
  },
  {
   "cell_type": "markdown",
   "id": "7730b9dc",
   "metadata": {},
   "source": [
    "What’s the output of the following code snippet?"
   ]
  },
  {
   "cell_type": "code",
   "execution_count": 11,
   "id": "48b94ab2",
   "metadata": {},
   "outputs": [
    {
     "data": {
      "text/plain": [
       "'Arff!'"
      ]
     },
     "execution_count": 11,
     "metadata": {},
     "output_type": "execute_result"
    }
   ],
   "source": [
    "class Dog:\n",
    "    def walk(self):\n",
    "        return \"*walking*\"\n",
    "\n",
    "    def speak(self):\n",
    "        return \"Woof!\"\n",
    "\n",
    "class JackRussellTerrier(Dog):\n",
    "    def speak(self):\n",
    "        return \"Arff!\"\n",
    "    \n",
    "bobo = JackRussellTerrier()\n",
    "bobo.speak()"
   ]
  },
  {
   "cell_type": "markdown",
   "id": "4d465cbc",
   "metadata": {},
   "source": [
    "Arff!\n",
    "Woof!\n",
    "*walking*\n",
    "AttributeError: 'JackRussellTerrier' object has no attribute 'walk'"
   ]
  },
  {
   "cell_type": "markdown",
   "id": "9c2d0da8",
   "metadata": {},
   "source": [
    "What’s the output of the following code"
   ]
  },
  {
   "cell_type": "code",
   "execution_count": 12,
   "id": "5df40bc1",
   "metadata": {},
   "outputs": [
    {
     "data": {
      "text/plain": [
       "'Arff!'"
      ]
     },
     "execution_count": 12,
     "metadata": {},
     "output_type": "execute_result"
    }
   ],
   "source": [
    "class Dog:\n",
    "    def walk(self):\n",
    "        return \"*walking*\"\n",
    "    def speak(self):\n",
    "        return \"Woof!\"\n",
    "\n",
    "class JackRussellTerrier(Dog):\n",
    "    def speak(self):\n",
    "        return \"Arff!\"\n",
    "bobo = JackRussellTerrier()\n",
    "bobo.speak()"
   ]
  },
  {
   "cell_type": "code",
   "execution_count": null,
   "id": "cd51def3",
   "metadata": {},
   "outputs": [],
   "source": [
    "*walking*\n",
    "CanineError: Dog malfunction\n",
    "Woof!\n",
    "Arff!"
   ]
  },
  {
   "cell_type": "code",
   "execution_count": 14,
   "id": "4fddcf89",
   "metadata": {},
   "outputs": [
    {
     "name": "stdout",
     "output_type": "stream",
     "text": [
      "Python\n"
     ]
    }
   ],
   "source": [
    "class Foo:\n",
    "  def printLine(self, line='Python'):\n",
    "    print(line)\n",
    "  \n",
    "o1 = Foo()\n",
    "o1.printLine()"
   ]
  },
  {
   "cell_type": "code",
   "execution_count": 15,
   "id": "36114ab1",
   "metadata": {},
   "outputs": [
    {
     "name": "stdout",
     "output_type": "stream",
     "text": [
      "1 1\n"
     ]
    }
   ],
   "source": [
    "class Point:\n",
    "    def __init__(self, x = 0, y = 0):\n",
    "      self.x = x+1\n",
    "      self.y = y+1\n",
    "      \n",
    "p1 = Point()\n",
    "print(p1.x, p1.y)"
   ]
  },
  {
   "cell_type": "code",
   "execution_count": 18,
   "id": "58d9ce8d",
   "metadata": {},
   "outputs": [
    {
     "name": "stdout",
     "output_type": "stream",
     "text": [
      "123\n"
     ]
    }
   ],
   "source": [
    "class Sales:\n",
    "    def __init__(self, id):\n",
    "        self.id = id\n",
    "        id = 100\n",
    "\n",
    "val = Sales(123)\n",
    "print (val.id)"
   ]
  },
  {
   "cell_type": "code",
   "execution_count": 42,
   "id": "28072a2c",
   "metadata": {},
   "outputs": [
    {
     "ename": "NameError",
     "evalue": "name 'i' is not defined",
     "output_type": "error",
     "traceback": [
      "\u001b[0;31m---------------------------------------------------------------------------\u001b[0m",
      "\u001b[0;31mNameError\u001b[0m                                 Traceback (most recent call last)",
      "Cell \u001b[0;32mIn[42], line 17\u001b[0m\n\u001b[1;32m     14\u001b[0m     \u001b[39mprint\u001b[39m(b\u001b[39m.\u001b[39mi)\n\u001b[1;32m     15\u001b[0m     \u001b[39mprint\u001b[39m(b\u001b[39m.\u001b[39mj)\n\u001b[0;32m---> 17\u001b[0m main()\n",
      "Cell \u001b[0;32mIn[42], line 13\u001b[0m, in \u001b[0;36mmain\u001b[0;34m()\u001b[0m\n\u001b[1;32m     12\u001b[0m \u001b[39mdef\u001b[39;00m \u001b[39mmain\u001b[39m():\n\u001b[0;32m---> 13\u001b[0m     b \u001b[39m=\u001b[39m B()\n\u001b[1;32m     14\u001b[0m     \u001b[39mprint\u001b[39m(b\u001b[39m.\u001b[39mi)\n\u001b[1;32m     15\u001b[0m     \u001b[39mprint\u001b[39m(b\u001b[39m.\u001b[39mj)\n",
      "Cell \u001b[0;32mIn[42], line 9\u001b[0m, in \u001b[0;36mB.__init__\u001b[0;34m(self, j)\u001b[0m\n\u001b[1;32m      7\u001b[0m \u001b[39mdef\u001b[39;00m \u001b[39m__init__\u001b[39m(\u001b[39mself\u001b[39m, j \u001b[39m=\u001b[39m \u001b[39m0\u001b[39m):\n\u001b[1;32m      8\u001b[0m     \u001b[39m# A.__init__(self, A().i) #all the instances of A are the same\u001b[39;00m\n\u001b[0;32m----> 9\u001b[0m     A\u001b[39m.\u001b[39m\u001b[39m__init__\u001b[39m(\u001b[39mself\u001b[39m, i) \u001b[39m#NameError\u001b[39;00m\n\u001b[1;32m     10\u001b[0m     \u001b[39mself\u001b[39m\u001b[39m.\u001b[39mj \u001b[39m=\u001b[39m j\n",
      "\u001b[0;31mNameError\u001b[0m: name 'i' is not defined"
     ]
    }
   ],
   "source": [
    "class A:\n",
    "    def __init__(self, i = 0):\n",
    "        self.i = i\n",
    "        \n",
    "\n",
    "class B(A):\n",
    "    def __init__(self, j = 0):\n",
    "        # A.__init__(self, A().i) #all the instances of A are the same\n",
    "        A.__init__(self, i) #NameError\n",
    "        self.j = j\n",
    "\n",
    "def main():\n",
    "    b = B()\n",
    "    print(b.i)\n",
    "    print(b.j)\n",
    "\n",
    "main()"
   ]
  },
  {
   "cell_type": "code",
   "execution_count": 44,
   "id": "0b9fcfab",
   "metadata": {},
   "outputs": [
    {
     "name": "stdout",
     "output_type": "stream",
     "text": [
      "I'm a piece of art.\n",
      "Blue\n"
     ]
    }
   ],
   "source": [
    "\n",
    "class Art:\n",
    "    def __init__(self, art_type):\n",
    "        self.__art_type = art_type \n",
    "    def message(self):\n",
    "        print(\"I'm a piece of art.\") \n",
    "        \n",
    "class Painting(Art):\n",
    "    def __init__(self,color): \n",
    "        Art.__init__(self,'music')\n",
    "        self.__color = color\n",
    "    def message(self):\n",
    "        print(self.__color)\n",
    "        \n",
    "        \n",
    "paint = Painting('Blue')\n",
    "art = Art('Music')\n",
    "art.message()\n",
    "paint.message()\n",
    "\n",
    "\n"
   ]
  },
  {
   "cell_type": "code",
   "execution_count": 53,
   "id": "fd99b062",
   "metadata": {},
   "outputs": [
    {
     "name": "stdout",
     "output_type": "stream",
     "text": [
      "Derived_Demo's __new__() invoked\n",
      "Demo's __init__() invoked\n",
      "Demo's __new__() invoked\n"
     ]
    }
   ],
   "source": [
    "class Demo:\n",
    "    def __init__(self):\n",
    "        print(\"Demo's __init__() invoked\")\n",
    "    def __new__(self):\n",
    "        self.__init__(self)\n",
    "        print(\"Demo's __new__() invoked\")\n",
    "    \n",
    "        \n",
    "class Derived_Demo(Demo):\n",
    "    def __init__(self): #doesn't run __init__ ----> but why\n",
    "        print(\"Derived_Demo's __init__() invoked\") \n",
    "        \n",
    "    def __new__(self):\n",
    "        print(\"Derived_Demo's __new__() invoked\")\n",
    "    \n",
    "def main():\n",
    "    obj1 = Derived_Demo()\n",
    "    obj2 = Demo()\n",
    "main()"
   ]
  },
  {
   "cell_type": "code",
   "execution_count": 54,
   "id": "3c737a3b",
   "metadata": {},
   "outputs": [
    {
     "ename": "AttributeError",
     "evalue": "'Derived_Test' object has no attribute 'x'",
     "output_type": "error",
     "traceback": [
      "\u001b[0;31m---------------------------------------------------------------------------\u001b[0m",
      "\u001b[0;31mAttributeError\u001b[0m                            Traceback (most recent call last)",
      "Cell \u001b[0;32mIn[54], line 10\u001b[0m\n\u001b[1;32m      8\u001b[0m     b \u001b[39m=\u001b[39m Derived_Test()\n\u001b[1;32m      9\u001b[0m     \u001b[39mprint\u001b[39m(b\u001b[39m.\u001b[39mx,b\u001b[39m.\u001b[39my)\n\u001b[0;32m---> 10\u001b[0m main()\n",
      "Cell \u001b[0;32mIn[54], line 9\u001b[0m, in \u001b[0;36mmain\u001b[0;34m()\u001b[0m\n\u001b[1;32m      7\u001b[0m \u001b[39mdef\u001b[39;00m \u001b[39mmain\u001b[39m():\n\u001b[1;32m      8\u001b[0m     b \u001b[39m=\u001b[39m Derived_Test()\n\u001b[0;32m----> 9\u001b[0m     \u001b[39mprint\u001b[39m(b\u001b[39m.\u001b[39;49mx,b\u001b[39m.\u001b[39my)\n",
      "\u001b[0;31mAttributeError\u001b[0m: 'Derived_Test' object has no attribute 'x'"
     ]
    }
   ],
   "source": [
    "\n",
    "class Test:\n",
    "    def __init__(self):\n",
    "        self.x = 0\n",
    "class Derived_Test(Test):\n",
    "    def __init__(self):\n",
    "        self.y = 1\n",
    "def main():\n",
    "    b = Derived_Test()\n",
    "    print(b.x,b.y)\n",
    "main()\n"
   ]
  },
  {
   "cell_type": "code",
   "execution_count": 55,
   "id": "10ab1386",
   "metadata": {},
   "outputs": [
    {
     "name": "stdout",
     "output_type": "stream",
     "text": [
      "Name: Sara\n"
     ]
    }
   ],
   "source": [
    "\n",
    "class People():\n",
    "\n",
    "    def __init__(self, name):\n",
    "        self.name = name\n",
    "\n",
    "    def namePrint(self):\n",
    "        print(\"Name: \" + self.name)\n",
    "\n",
    "person1 = People(\"Sara\")\n",
    "person2 = People(\"Alex\")\n",
    "person1.namePrint()\n",
    "\n"
   ]
  },
  {
   "cell_type": "code",
   "execution_count": 56,
   "id": "b14877bb",
   "metadata": {},
   "outputs": [
    {
     "name": "stdout",
     "output_type": "stream",
     "text": [
      "B\n"
     ]
    }
   ],
   "source": [
    "class A:\n",
    "    def my_fun1(self):\n",
    "        return self.my_fun2()\n",
    "    \n",
    "    def my_fun2(self):\n",
    "        return 'A'\n",
    "    \n",
    "class B(A):\n",
    "    def two(self):\n",
    "        return 'B'\n",
    "    \n",
    "obj = B()\n",
    "print(obj.two())\n"
   ]
  },
  {
   "cell_type": "code",
   "execution_count": 57,
   "id": "d442dde8",
   "metadata": {},
   "outputs": [
    {
     "name": "stdout",
     "output_type": "stream",
     "text": [
      "str function called\n"
     ]
    }
   ],
   "source": [
    "class A:\n",
    "    def __repr__(self):\n",
    "        return 'repr function called'\n",
    "    \n",
    "    def __str__(self):\n",
    "        return 'str function called'\n",
    "\n",
    "obj = A()\n",
    "print(obj)\n",
    "\n"
   ]
  },
  {
   "cell_type": "code",
   "execution_count": 60,
   "id": "028d2a6b",
   "metadata": {},
   "outputs": [
    {
     "name": "stdout",
     "output_type": "stream",
     "text": [
      "Everything will be okay! \n",
      "James takes care of you!\n"
     ]
    }
   ],
   "source": [
    "class Robot:\n",
    "    def __init__(self, name):\n",
    "        self.name = name\n",
    "    def say_hi(self):\n",
    "        print(\"Hi, I am \" + self.name)\n",
    "class PhysicianRobot(Robot):\n",
    "    def say_hi(self):\n",
    "        print(\"Everything will be okay! \") \n",
    "        print(self.name + \" takes care of you!\")\n",
    "y = PhysicianRobot(\"James\")\n",
    "y.say_hi()\n"
   ]
  },
  {
   "cell_type": "code",
   "execution_count": 61,
   "id": "898ca400",
   "metadata": {},
   "outputs": [
    {
     "name": "stdout",
     "output_type": "stream",
     "text": [
      "True True\n",
      "False\n",
      "True\n"
     ]
    }
   ],
   "source": [
    "x = Robot(\"Marvin\")\n",
    "y = PhysicianRobot(\"James\")\n",
    "print(isinstance(x, Robot), isinstance(y, Robot))\n",
    "print(isinstance(x, PhysicianRobot))\n",
    "print(isinstance(y, PhysicianRobot))"
   ]
  },
  {
   "cell_type": "code",
   "execution_count": 66,
   "id": "341f9056",
   "metadata": {},
   "outputs": [
    {
     "name": "stdout",
     "output_type": "stream",
     "text": [
      "['1', '2', '3', '4']\n"
     ]
    }
   ],
   "source": [
    "# # Which of the following command is used to search a match for 1,2,3,4?\n",
    "# [1-4]\n",
    "# (1-3)\n",
    "# [1234]\n",
    "# Both a and c\n",
    "\n",
    "import re\n",
    "print(re.findall(r'[1234]', '1234'))"
   ]
  },
  {
   "cell_type": "code",
   "execution_count": 62,
   "id": "cecb8d63",
   "metadata": {},
   "outputs": [
    {
     "name": "stdout",
     "output_type": "stream",
     "text": [
      "9\n"
     ]
    }
   ],
   "source": [
    "import re\n",
    "print(len(set(re.findall('[^aeiou]','abfeakfhjdknsam'))))"
   ]
  },
  {
   "cell_type": "code",
   "execution_count": null,
   "id": "abfeecc7",
   "metadata": {},
   "outputs": [],
   "source": [
    "# Which returns a match for any alphabetic lower or upper case character between a and z.\n",
    "# [a-z]\n",
    "# [a-zA-Z]\n",
    "# [a-z][A-Z]\n",
    "# [azAZ]"
   ]
  },
  {
   "cell_type": "code",
   "execution_count": 1,
   "id": "371207c7",
   "metadata": {},
   "outputs": [],
   "source": [
    "class car:\n",
    "    def __init__(self,year,mpg,speed):\n",
    "        self.year = year\n",
    "        self.mpg= mpg\n",
    "        self.speed= speed\n",
    "    \n",
    "    def accelerate(self):\n",
    "        return self.speed +30\n",
    "\n",
    "    def brake(self):\n",
    "        return self.speed -40"
   ]
  },
  {
   "cell_type": "code",
   "execution_count": 2,
   "id": "ca6a44cd",
   "metadata": {},
   "outputs": [],
   "source": [
    "car1=car(2016,20,100)"
   ]
  },
  {
   "cell_type": "code",
   "execution_count": 3,
   "id": "4af3b3d2",
   "metadata": {},
   "outputs": [
    {
     "data": {
      "text/plain": [
       "130"
      ]
     },
     "execution_count": 3,
     "metadata": {},
     "output_type": "execute_result"
    }
   ],
   "source": [
    "car1.accelerate()"
   ]
  },
  {
   "cell_type": "code",
   "execution_count": 4,
   "id": "b4b71f06",
   "metadata": {},
   "outputs": [
    {
     "data": {
      "text/plain": [
       "60"
      ]
     },
     "execution_count": 4,
     "metadata": {},
     "output_type": "execute_result"
    }
   ],
   "source": [
    "car1.brake()"
   ]
  },
  {
   "cell_type": "code",
   "execution_count": 5,
   "id": "eb697a9c",
   "metadata": {},
   "outputs": [
    {
     "data": {
      "text/plain": [
       "2016"
      ]
     },
     "execution_count": 5,
     "metadata": {},
     "output_type": "execute_result"
    }
   ],
   "source": [
    "car1.year"
   ]
  },
  {
   "cell_type": "code",
   "execution_count": 6,
   "id": "34bf4bac",
   "metadata": {},
   "outputs": [
    {
     "data": {
      "text/plain": [
       "20"
      ]
     },
     "execution_count": 6,
     "metadata": {},
     "output_type": "execute_result"
    }
   ],
   "source": [
    "car1.mpg"
   ]
  },
  {
   "cell_type": "code",
   "execution_count": 7,
   "id": "9bb362d6",
   "metadata": {},
   "outputs": [
    {
     "data": {
      "text/plain": [
       "100"
      ]
     },
     "execution_count": 7,
     "metadata": {},
     "output_type": "execute_result"
    }
   ],
   "source": [
    "car1.speed"
   ]
  },
  {
   "cell_type": "code",
   "execution_count": 8,
   "id": "8eed7d84",
   "metadata": {},
   "outputs": [
    {
     "name": "stdout",
     "output_type": "stream",
     "text": [
      "240 18\n"
     ]
    }
   ],
   "source": [
    "class Vehicle:\n",
    "    def __init__(self, max_speed, mileage):\n",
    "        self.max_speed = max_speed\n",
    "        self.mileage = mileage\n",
    "\n",
    "modelX = Vehicle(240, 18)\n",
    "print(modelX.max_speed, modelX.mileage)"
   ]
  },
  {
   "cell_type": "code",
   "execution_count": 9,
   "id": "a7c469cd",
   "metadata": {},
   "outputs": [],
   "source": [
    "class MyCompany:\n",
    "        \n",
    "    # methods\n",
    "    def __init__(self, compname, revenue, employeesize):\n",
    "        self.name = compname\n",
    "        self.revenue = revenue\n",
    "        self.no_of_employees = employeesize\n",
    "\n",
    "    def productivity(self):\n",
    "        return self.revenue/self.no_of_employees"
   ]
  },
  {
   "cell_type": "code",
   "execution_count": 10,
   "id": "10839346",
   "metadata": {},
   "outputs": [],
   "source": [
    "company1= MyCompany('XYZ Bank', 1000,100)"
   ]
  },
  {
   "cell_type": "code",
   "execution_count": 11,
   "id": "2b19d508",
   "metadata": {},
   "outputs": [
    {
     "data": {
      "text/plain": [
       "10.0"
      ]
     },
     "execution_count": 11,
     "metadata": {},
     "output_type": "execute_result"
    }
   ],
   "source": [
    "company1.productivity()"
   ]
  },
  {
   "cell_type": "code",
   "execution_count": 12,
   "id": "b2ea99d4",
   "metadata": {},
   "outputs": [],
   "source": [
    "company2= MyCompany('ABC Bank', 5000,200)"
   ]
  },
  {
   "cell_type": "code",
   "execution_count": null,
   "id": "5a02007e",
   "metadata": {},
   "outputs": [],
   "source": [
    "company2.productivity()"
   ]
  },
  {
   "cell_type": "code",
   "execution_count": null,
   "id": "683aa85d",
   "metadata": {},
   "outputs": [],
   "source": [
    "class Person:\n",
    "    # init method or constructor\n",
    "    def __init__(self, name):\n",
    "        self.name = name\n",
    " \n",
    "    def say_hi(self):\n",
    "        print('Hello, my name is', self.name)"
   ]
  },
  {
   "cell_type": "code",
   "execution_count": null,
   "id": "e5443b0e",
   "metadata": {},
   "outputs": [],
   "source": [
    "p = Person()\n",
    "p.say_hi()"
   ]
  },
  {
   "cell_type": "code",
   "execution_count": null,
   "id": "857ec06e",
   "metadata": {},
   "outputs": [],
   "source": [
    "p = Person('Sara')\n",
    "p.say_hi()"
   ]
  },
  {
   "cell_type": "code",
   "execution_count": null,
   "id": "30ddc34d",
   "metadata": {},
   "outputs": [],
   "source": [
    "# Class for Python Student\n",
    "class PYStudent:\n",
    "     \n",
    "    # The init method\n",
    "    def __init__(self, classnum):\n",
    "         \n",
    "        # Instance Variable\n",
    "        self.classnum = classnum           \n",
    " \n",
    "    # Adds an instance variable\n",
    "    def setAddress(self, address):\n",
    "        self.address = address\n",
    "     \n",
    "    # Retrieves instance variable   \n",
    "    def getAddress(self):   \n",
    "        return self.address  \n"
   ]
  },
  {
   "cell_type": "code",
   "execution_count": null,
   "id": "23f6076b",
   "metadata": {},
   "outputs": [],
   "source": [
    "a = PYStudent(101)\n",
    "a.setAddress(\"Arlington,TX\")\n",
    "print(a.getAddress())"
   ]
  },
  {
   "cell_type": "code",
   "execution_count": null,
   "id": "2881e869",
   "metadata": {},
   "outputs": [],
   "source": [
    "class Employee:\n",
    "    def __init__(self, name, salary):\n",
    "        self.name = name\n",
    "        self.salary = salary\n",
    "   \n",
    "    def displayEmployee(self):\n",
    "        print (\"Name : \", self.name,  \", Salary: \", self.salary)"
   ]
  },
  {
   "cell_type": "code",
   "execution_count": null,
   "id": "16383580",
   "metadata": {},
   "outputs": [],
   "source": [
    "emp1 = Employee(\"Zara\", 2000)\n",
    "emp2 = Employee(\"Manni\", 5000)\n",
    "emp1.displayEmployee()\n",
    "emp2.displayEmployee()"
   ]
  },
  {
   "cell_type": "code",
   "execution_count": null,
   "id": "0e6bb59d",
   "metadata": {},
   "outputs": [],
   "source": [
    "class Snake:\n",
    "\n",
    "    def __init__(self, name):\n",
    "        self.name = name\n",
    "\n",
    "    def change_name(self, new_name):\n",
    "        self.name = new_name\n",
    "        return self.name"
   ]
  },
  {
   "cell_type": "code",
   "execution_count": null,
   "id": "26505f51",
   "metadata": {},
   "outputs": [],
   "source": [
    "a= Snake('Python')\n",
    "b=Snake('Anaconde')"
   ]
  },
  {
   "cell_type": "code",
   "execution_count": null,
   "id": "771812b8",
   "metadata": {},
   "outputs": [],
   "source": [
    "b.name"
   ]
  },
  {
   "cell_type": "code",
   "execution_count": null,
   "id": "00075013",
   "metadata": {},
   "outputs": [],
   "source": [
    "a.change_name('Java')"
   ]
  },
  {
   "cell_type": "code",
   "execution_count": null,
   "id": "da4d7233",
   "metadata": {},
   "outputs": [],
   "source": [
    "class employee1():\n",
    "    def name(self):\n",
    "        print(\"Harshit is his name\")    \n",
    "    \n",
    "    def salary(self):\n",
    "        print(\"3000 is his salary\")\n",
    " \n",
    "    def age(self):\n",
    "        print(\"22 is his age\")\n",
    "        \n",
    "class employee2():\n",
    "    \n",
    "    def name(self):\n",
    "        print(\"Rahul is his name\")\n",
    " \n",
    "    def salary(self):\n",
    "        print(\"4000 is his salary\")\n",
    " \n",
    "    def age(self):\n",
    "        print(\"23 is his age\")\n",
    " \n",
    "def func(obj):\n",
    "    obj.name()\n",
    "    obj.salary()\n",
    "    obj.age()"
   ]
  },
  {
   "cell_type": "code",
   "execution_count": null,
   "id": "f25179ef",
   "metadata": {
    "scrolled": true
   },
   "outputs": [],
   "source": [
    "obj_emp1 = employee1()\n",
    " \n",
    "func(obj_emp1)"
   ]
  },
  {
   "cell_type": "code",
   "execution_count": null,
   "id": "f6ecd2ff",
   "metadata": {},
   "outputs": [],
   "source": [
    "obj_emp2 = employee2()\n",
    " \n",
    "func(obj_emp2)"
   ]
  },
  {
   "cell_type": "code",
   "execution_count": null,
   "id": "00894855",
   "metadata": {},
   "outputs": [],
   "source": [
    "class Car:\n",
    "    def __init__(self, color, mileage):\n",
    "        self.color = color\n",
    "        self.mileage = mileage\n",
    "\n",
    "    def __str__(self):\n",
    "        return 'The car is '+ self.color"
   ]
  },
  {
   "cell_type": "code",
   "execution_count": null,
   "id": "634e1664",
   "metadata": {},
   "outputs": [],
   "source": [
    "car1=Car('Black',100)"
   ]
  },
  {
   "cell_type": "code",
   "execution_count": null,
   "id": "ba92cc25",
   "metadata": {},
   "outputs": [],
   "source": [
    "print(car1)"
   ]
  },
  {
   "cell_type": "code",
   "execution_count": null,
   "id": "50ad23e3",
   "metadata": {},
   "outputs": [],
   "source": [
    "class Car:\n",
    "    def __init__(self,color,mileage=80):\n",
    "        self.color = color\n",
    "        self.mileage = mileage\n",
    "    def __str__(self):\n",
    "        return 'The car is '+ self.color\n",
    "    \n",
    "car2=Car('Green')\n",
    "print(car2)"
   ]
  },
  {
   "cell_type": "code",
   "execution_count": null,
   "id": "67529715",
   "metadata": {},
   "outputs": [],
   "source": [
    "class Car:\n",
    "    def __init__(self,color='Navy',mileage):\n",
    "        self.color = color\n",
    "        self.mileage = mileage\n",
    "    def __str__(self):\n",
    "        return 'The car is '+ self.color\n",
    "    \n",
    "car3=Car(90)\n",
    "print(car3)"
   ]
  },
  {
   "cell_type": "code",
   "execution_count": null,
   "id": "29c2350a",
   "metadata": {},
   "outputs": [],
   "source": [
    "import random\n",
    "\n",
    "class Dice:\n",
    "    \n",
    "    def __init__(self): \n",
    "        self.sideup = 1\n",
    "        \n",
    "    def roll(self):\n",
    "        if random.randint(1, 6) == 1:\n",
    "            self.sideup = 1\n",
    "        elif random.randint(1, 6) == 2:\n",
    "            self.sideup = 2\n",
    "        elif random.randint(1, 6) == 3:\n",
    "            self.sideup = 3\n",
    "        elif random.randint(1, 6) == 4:\n",
    "            self.sideup = 4\n",
    "        elif random.randint(1, 6) == 5:\n",
    "            self.sideup = 5\n",
    "        elif random.randint(1, 6) == 6:\n",
    "            self.sideup = 6\n",
    "    \n",
    "    def get_sideup(self): \n",
    "        return self.sideup"
   ]
  },
  {
   "cell_type": "code",
   "execution_count": null,
   "id": "0fd21e7e",
   "metadata": {},
   "outputs": [],
   "source": [
    "my_dice=Dice()"
   ]
  },
  {
   "cell_type": "code",
   "execution_count": null,
   "id": "acf8385f",
   "metadata": {},
   "outputs": [],
   "source": [
    "my_dice.get_sideup()"
   ]
  },
  {
   "cell_type": "code",
   "execution_count": null,
   "id": "9011bd22",
   "metadata": {},
   "outputs": [],
   "source": [
    "my_dice.roll()"
   ]
  },
  {
   "cell_type": "code",
   "execution_count": null,
   "id": "da4a9c60",
   "metadata": {},
   "outputs": [],
   "source": [
    "my_dice.get_sideup()"
   ]
  },
  {
   "cell_type": "code",
   "execution_count": null,
   "id": "d6ebf694",
   "metadata": {},
   "outputs": [],
   "source": [
    "class Person:\n",
    "    def __init__(self, fname, lname):\n",
    "        self.firstname = fname\n",
    "        self.lastname = lname\n",
    "\n",
    "    def printname(self):\n",
    "        print(self.firstname, self.lastname)\n",
    "\n",
    "x = Person(\"John\", \"Doe\")\n",
    "x.printname()"
   ]
  },
  {
   "cell_type": "code",
   "execution_count": null,
   "id": "a5fdad96",
   "metadata": {},
   "outputs": [],
   "source": [
    "class Person:\n",
    "       \n",
    "    # Constructor\n",
    "    def __init__(self, name):\n",
    "        self.name = name\n",
    "   \n",
    "    # To get name\n",
    "    def getName(self):\n",
    "        return self.name\n",
    "   \n",
    "    # To check if this person is an employee\n",
    "    def isEmployee(self):\n",
    "        return False\n",
    "   \n",
    "   \n",
    "# Inherited or Subclass (Note Person in bracket)\n",
    "class Employee(Person):\n",
    "   \n",
    "    # Here we return true\n",
    "    def isEmployee(self):\n",
    "        return True\n",
    "\n",
    "emp = Person(\"Geek1\")  # An Object of Person\n",
    "print(emp.getName(), emp.isEmployee())\n",
    "   \n",
    "emp = Employee(\"Geek2\") # An Object of Employee\n",
    "print(emp.getName(), emp.isEmployee())"
   ]
  },
  {
   "cell_type": "code",
   "execution_count": null,
   "id": "2750e21a",
   "metadata": {},
   "outputs": [],
   "source": [
    "class Person: \n",
    "    def __init__(self, name, idnumber):   \n",
    "        self.name = name\n",
    "        self.idnumber = idnumber\n",
    "    def display(self):\n",
    "        print(self.name)\n",
    "        print(self.idnumber)\n",
    "  \n",
    "\n",
    "class Employee( Person ):           \n",
    "    def __init__(self, name, idnumber, salary, post):\n",
    "        self.salary = salary\n",
    "        self.post = post\n",
    "        Person.__init__(self, name, idnumber)\n",
    "        \n",
    "a = Employee('Rahul', 886012, 200000, \"Intern\")    \n",
    "  \n",
    "# calling a function of the class Person using its instance\n",
    "a.display() "
   ]
  },
  {
   "cell_type": "code",
   "execution_count": null,
   "id": "894abf1d",
   "metadata": {},
   "outputs": [],
   "source": [
    "class A:\n",
    "    def __init__(self, n = 'Rahul'):\n",
    "            self.name = n\n",
    "class B(A):\n",
    "    def __init__(self, roll):\n",
    "        self.roll = roll\n",
    "  \n",
    "object = B(23)\n",
    "print(object.name)"
   ]
  },
  {
   "cell_type": "code",
   "execution_count": null,
   "id": "3541eb49",
   "metadata": {},
   "outputs": [],
   "source": [
    "class A:\n",
    "    def __init__(self):\n",
    "        self.__a = 1\n",
    "        self.b = 5\n",
    "\n",
    "    def display(self):\n",
    "        print(self.__a, self.b)\n",
    "\n",
    "\n",
    "class B(A):\n",
    "    def __init__(self):\n",
    "        A.__init__(self)\n",
    "        self.__a = 2\n",
    "        self.b = 7\n",
    "\n",
    "\n",
    "p = B()\n",
    "p.display()"
   ]
  },
  {
   "cell_type": "code",
   "execution_count": null,
   "id": "b065ab3d",
   "metadata": {},
   "outputs": [],
   "source": [
    "class Vegetable:\n",
    "    def __init__(self, vegtype):\n",
    "        self.__vegtype = vegtype \n",
    "    def message(self):\n",
    "        print(\"I'm a vegetable.\") \n",
    "            \n",
    "class Potato(Vegetable):\n",
    "    def __init__(self): \n",
    "        Vegetable.__init__(self, 'potato')\n",
    "    def message(self): \n",
    "        print(\"I'm a potato.\")"
   ]
  },
  {
   "cell_type": "code",
   "execution_count": null,
   "id": "dadcf4e2",
   "metadata": {},
   "outputs": [],
   "source": [
    "v = Vegetable()"
   ]
  },
  {
   "cell_type": "code",
   "execution_count": null,
   "id": "d39449e4",
   "metadata": {},
   "outputs": [],
   "source": [
    "v = Vegetable('veggie')\n",
    "p = Potato()\n",
    "v.message()\n",
    "p.message()"
   ]
  },
  {
   "cell_type": "code",
   "execution_count": null,
   "id": "809ffa5e",
   "metadata": {},
   "outputs": [],
   "source": [
    "class Art:\n",
    "    def __init__(self, art_type):\n",
    "        self.__art_type = art_type \n",
    "    def message(self):\n",
    "        print(\"I'm a piece of art.\") \n",
    "        \n",
    "class Painting(Art):\n",
    "    def __init__(self,color): \n",
    "        Art.__init__(self, 'painting')\n",
    "        self.__color = color\n",
    "    def message(self):\n",
    "        print(\"I'm a painting.\")"
   ]
  },
  {
   "cell_type": "code",
   "execution_count": null,
   "id": "980a51cd",
   "metadata": {},
   "outputs": [],
   "source": [
    "a = Art('sculpture')\n",
    "p = Painting('green')\n",
    "a.message()\n",
    "p.message()"
   ]
  },
  {
   "cell_type": "code",
   "execution_count": null,
   "id": "b187e749",
   "metadata": {},
   "outputs": [],
   "source": [
    "class Bird:\n",
    "    def intro(self):\n",
    "        print(\"There are many types of birds.\")\n",
    "    def flight(self):\n",
    "        print(\"Most of the birds can fly but some cannot.\")\n",
    "        \n",
    "class sparrow(Bird):\n",
    "    def flight(self):\n",
    "        print(\"Sparrows can fly.\")\n",
    "\n",
    "class ostrich(Bird):\n",
    "    def flight(self):\n",
    "        print(\"Ostriches cannot fly.\")\n"
   ]
  },
  {
   "cell_type": "code",
   "execution_count": null,
   "id": "e7b54041",
   "metadata": {},
   "outputs": [],
   "source": [
    "bird = Bird()\n",
    "spr = sparrow()\n",
    "ost = ostrich()\n",
    "\n",
    "bird.intro()\n",
    "bird.flight()\n",
    "\n",
    "spr.intro()\n",
    "spr.flight()\n",
    "\n",
    "ost.intro()\n",
    "ost.flight()"
   ]
  },
  {
   "cell_type": "code",
   "execution_count": null,
   "id": "77b4d89a",
   "metadata": {},
   "outputs": [],
   "source": [
    "class A:\n",
    "    def __init__(self, i = 0):\n",
    "        self.__i = i\n",
    "\n",
    "class B(A):\n",
    "    def __init__(self,i,j):\n",
    "        A.__init__(self,i)\n",
    "        self.j = j\n",
    "\n",
    "def main():\n",
    "    b = B(4,5)\n",
    "    print(b.j)\n",
    "    print(b.i)\n",
    "\n",
    "main()"
   ]
  },
  {
   "cell_type": "code",
   "execution_count": null,
   "id": "3fa0df65",
   "metadata": {},
   "outputs": [],
   "source": [
    "class Pokemon():\n",
    "    def __init__(self, name, type):\n",
    "        self.name = name\n",
    "        self.type = type\n",
    "\n",
    "    def stringPokemon(self):\n",
    "        print(\"Pokemon name is: \", self.name, \" and Pokemon type is: \", self.type)\n",
    "\n",
    "class GrassType(Pokemon):\n",
    "   # overrides the stringPokemon() function on 'Pokemon' class\n",
    "   def stringPokemon(self):\n",
    "        print(\"Grass type pokemon name is\", self.name)"
   ]
  },
  {
   "cell_type": "code",
   "execution_count": null,
   "id": "c4bb6cd9",
   "metadata": {},
   "outputs": [],
   "source": [
    "poke2 = Pokemon('EFG','Fire')\n",
    "poke2.stringPokemon()"
   ]
  },
  {
   "cell_type": "code",
   "execution_count": null,
   "id": "56ce7e51",
   "metadata": {},
   "outputs": [],
   "source": [
    "poke1 = GrassType('ABC','Grass')\n",
    "poke1.stringPokemon()"
   ]
  },
  {
   "cell_type": "code",
   "execution_count": null,
   "id": "fe7b5926",
   "metadata": {},
   "outputs": [],
   "source": [
    "from math import pi\n",
    "\n",
    "\n",
    "class Shape:\n",
    "    def __init__(self, name):\n",
    "        self.name = name\n",
    "\n",
    "    def fact(self):\n",
    "        return \"I am a two-dimensional shape.\"\n",
    "\n",
    "    def __str__(self):\n",
    "        return self.name\n",
    "\n",
    "class Square(Shape):\n",
    "    def __init__(self, length):\n",
    "        Shape.__init__(self,\"Square\")\n",
    "        self.length = length\n",
    "\n",
    "    def area(self):\n",
    "        return self.length**2\n",
    "\n",
    "    def fact(self):\n",
    "        return \"Squares have each angle equal to 90 degrees.\"\n",
    "\n",
    "\n",
    "class Circle(Shape):\n",
    "    def __init__(self, radius):\n",
    "        Shape.__init__(self,\"Circle\")\n",
    "        self.radius = radius\n",
    "\n",
    "    def area(self):\n",
    "        return pi*self.radius**2\n"
   ]
  },
  {
   "cell_type": "code",
   "execution_count": null,
   "id": "807a844b",
   "metadata": {},
   "outputs": [],
   "source": [
    "s = Square(4)\n",
    "c = Circle(7)\n",
    "\n",
    "print(s)\n",
    "print(c)\n",
    "print(s.fact())\n",
    "print(s.area())\n",
    "print(c.area())"
   ]
  },
  {
   "cell_type": "code",
   "execution_count": null,
   "id": "abd67622",
   "metadata": {},
   "outputs": [],
   "source": []
  }
 ],
 "metadata": {
  "kernelspec": {
   "display_name": "Python 3 (ipykernel)",
   "language": "python",
   "name": "python3"
  },
  "language_info": {
   "codemirror_mode": {
    "name": "ipython",
    "version": 3
   },
   "file_extension": ".py",
   "mimetype": "text/x-python",
   "name": "python",
   "nbconvert_exporter": "python",
   "pygments_lexer": "ipython3",
   "version": "3.11.2"
  }
 },
 "nbformat": 4,
 "nbformat_minor": 5
}
