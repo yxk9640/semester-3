{
 "cells": [
  {
   "cell_type": "markdown",
   "metadata": {},
   "source": [
    "        Introduction to Programming: Python\n",
    "        Neshat Beheshti\n",
    "        University of Texas Arlington\n",
    "        \n",
    "        This document can only be used for class studies. \n",
    "        You are not allowed to share it in any public platform."
   ]
  },
  {
   "cell_type": "markdown",
   "metadata": {},
   "source": [
    "<h1 align='center' style=\"color: blue;\">Repetiton Structure - Examples</h1>"
   ]
  },
  {
   "cell_type": "markdown",
   "metadata": {},
   "source": [
    "<b>Example:</b> Write a code to ask the user to enter a number and calculate the sum of all numbers between 1 and the given number."
   ]
  },
  {
   "cell_type": "code",
   "execution_count": 3,
   "metadata": {},
   "outputs": [
    {
     "name": "stdout",
     "output_type": "stream",
     "text": [
      "Enter a number: 10\n",
      "55\n"
     ]
    }
   ],
   "source": [
    "# Write your code here\n",
    "number = int(input(\"Enter a number: \"))\n",
    "sum=0\n",
    "for i in range(1,number+1):\n",
    "    sum += i\n",
    "print(sum)\n",
    "    "
   ]
  },
  {
   "cell_type": "markdown",
   "metadata": {},
   "source": [
    "<b>Example:</b> Write a program that ask the user to input a password. What if the user makes a typo? \n",
    "we would like to allow the user to re-enter passwords until they get it right. This means we may need to repeat the line:"
   ]
  },
  {
   "cell_type": "code",
   "execution_count": 6,
   "metadata": {},
   "outputs": [
    {
     "name": "stdout",
     "output_type": "stream",
     "text": [
      "Enter a password: admin\n",
      "Error\n",
      "Enter a password: uoh\n",
      "Error\n",
      "Enter a password: valid\n",
      "Success\n"
     ]
    }
   ],
   "source": [
    "# Write your code here\n",
    "passwrd = 'valid'\n",
    "user_in = input(\"Enter a password: \")\n",
    "while (passwrd != user_in ):\n",
    "    print('Error')\n",
    "    user_in = input(\"Enter a password: \")\n",
    "print('Success')"
   ]
  },
  {
   "cell_type": "markdown",
   "metadata": {},
   "source": [
    "<b>Example:</b> Write a program that ask the user to enter a positive integer. It should then print the multiplication table of that number."
   ]
  },
  {
   "cell_type": "code",
   "execution_count": 14,
   "metadata": {},
   "outputs": [
    {
     "name": "stdout",
     "output_type": "stream",
     "text": [
      "Enter a positive integer: 13\n",
      "13 * 1 = 13\n",
      "13 * 2 = 26\n",
      "13 * 3 = 39\n",
      "13 * 4 = 52\n",
      "13 * 5 = 65\n",
      "13 * 6 = 78\n",
      "13 * 7 = 91\n",
      "13 * 8 = 104\n",
      "13 * 9 = 117\n",
      "13 * 10 = 130\n"
     ]
    }
   ],
   "source": [
    "# Write your code here\n",
    "number1 = int(input(\"Enter a positive integer: \"))\n",
    "while (number1 < 0 ):\n",
    "    print('Error')\n",
    "for i in range(1,11):\n",
    "    print(\"{} * {} = {}\".format(number1,i, i * number1))"
   ]
  },
  {
   "cell_type": "markdown",
   "metadata": {},
   "source": [
    "<b>Example:</b> For a=2 and b =10, count the value of <b>a</b> up to, but not including, <b>b</b>. "
   ]
  },
  {
   "cell_type": "code",
   "execution_count": 16,
   "metadata": {},
   "outputs": [
    {
     "name": "stdout",
     "output_type": "stream",
     "text": [
      "2\n",
      "3\n",
      "4\n",
      "5\n",
      "6\n",
      "7\n",
      "8\n",
      "9\n"
     ]
    }
   ],
   "source": [
    "# Write your code here\n",
    "a=2\n",
    "b=10\n",
    "for i in range(a,b):\n",
    "    print(i)"
   ]
  },
  {
   "cell_type": "markdown",
   "metadata": {},
   "source": [
    "<b>Example :</b> Write a while loop program to calculate the sum of first 20 natural number."
   ]
  },
  {
   "cell_type": "code",
   "execution_count": 19,
   "metadata": {},
   "outputs": [
    {
     "name": "stdout",
     "output_type": "stream",
     "text": [
      "210\n",
      "210.0\n"
     ]
    }
   ],
   "source": [
    "# Write your code here\n",
    "i = 1\n",
    "sum= 0\n",
    "while(i < 21):\n",
    "    sum += i\n",
    "    i+=1\n",
    "print(sum)\n",
    "\n",
    "n=20\n",
    "print((n*(n+1))/2)"
   ]
  },
  {
   "cell_type": "markdown",
   "metadata": {},
   "source": [
    "<b>Example:</b> Write a program to find the factorial value of any number entered through the keyboard. \n",
    "(<b>tip:</b> Factorial of 5 is equal to 5x4x3x2x1)\n"
   ]
  },
  {
   "cell_type": "code",
   "execution_count": 25,
   "metadata": {},
   "outputs": [
    {
     "name": "stdout",
     "output_type": "stream",
     "text": [
      "Enter a number for factorial: 5\n",
      "120\n"
     ]
    }
   ],
   "source": [
    "# Write your code here\n",
    "num = int(input(\"Enter a number for factorial: \"))\n",
    "prod = 1\n",
    "i = 1\n",
    "while(i <= num):\n",
    "    prod*=i\n",
    "    i+=1\n",
    "print(prod)\n"
   ]
  },
  {
   "cell_type": "markdown",
   "metadata": {},
   "source": [
    "<b>Example:</b> Write a loop program that display odd numbers between 1-30."
   ]
  },
  {
   "cell_type": "code",
   "execution_count": 20,
   "metadata": {},
   "outputs": [
    {
     "name": "stdout",
     "output_type": "stream",
     "text": [
      "1\n",
      "3\n",
      "5\n",
      "7\n",
      "9\n",
      "11\n",
      "13\n",
      "15\n",
      "17\n",
      "19\n",
      "21\n",
      "23\n",
      "25\n",
      "27\n",
      "29\n"
     ]
    }
   ],
   "source": [
    "# Write your code here\n",
    "for i in range(1,31):\n",
    "    if i%2!=0:\n",
    "        print(i)"
   ]
  },
  {
   "cell_type": "markdown",
   "metadata": {},
   "source": [
    "<b>Example:</b> Write a while loop program that asks the user to enter his/her name and display \"Hi + [user name]\".  Next, the program asks the user whether or not he/she wants to continue. If the user enter 'y', then program should ask the question again. "
   ]
  },
  {
   "cell_type": "code",
   "execution_count": 27,
   "metadata": {},
   "outputs": [
    {
     "name": "stdout",
     "output_type": "stream",
     "text": [
      "Enter your name: er\n",
      "Hi er\n",
      "Wanna continue? y\n",
      "Enter your name: Yoge\n",
      "Hi Yoge\n",
      "Wanna continue? n\n"
     ]
    }
   ],
   "source": [
    "# Write your code here\n",
    "cont = \"y\"\n",
    "while(cont == \"y\"):\n",
    "    name = input(\"Enter your name: \")\n",
    "    print(\"Hi {}\".format(name))\n",
    "    cont = input(\"Wanna continue? \")\n"
   ]
  },
  {
   "cell_type": "markdown",
   "metadata": {},
   "source": [
    "<b>Example:</b> In the above example can you change the program in a way that user can input both 'y' and 'yes' to continue?"
   ]
  },
  {
   "cell_type": "code",
   "execution_count": 28,
   "metadata": {},
   "outputs": [
    {
     "name": "stdout",
     "output_type": "stream",
     "text": [
      "Enter your name: you\n",
      "Hi you\n",
      "Wanna continue? yes\n",
      "Enter your name: uoy\n",
      "Hi uoy\n",
      "Wanna continue? n\n"
     ]
    }
   ],
   "source": [
    "# Write your code here\n",
    "ans = \"yes\" or \"y\"\n",
    "\n",
    "cont = ans\n",
    "while(cont == ans ):\n",
    "    name = input(\"Enter your name: \")\n",
    "    print(\"Hi {}\".format(name))\n",
    "    cont = input(\"Wanna continue? \")"
   ]
  },
  {
   "cell_type": "markdown",
   "metadata": {},
   "source": [
    "<b>Example :</b> Write a program that create the multiplication table of numbers between 1 and 4 ( i.e. 1x1, 1x2, ... 4x4)"
   ]
  },
  {
   "cell_type": "code",
   "execution_count": 32,
   "metadata": {},
   "outputs": [
    {
     "name": "stdout",
     "output_type": "stream",
     "text": [
      "Enter a number: 5\n",
      "1 X 1 \n",
      "1 X 2 \n",
      "1 X 3 \n",
      "1 X 4 \n",
      "2 X 1 \n",
      "2 X 2 \n",
      "2 X 3 \n",
      "2 X 4 \n",
      "3 X 1 \n",
      "3 X 2 \n",
      "3 X 3 \n",
      "3 X 4 \n",
      "4 X 1 \n",
      "4 X 2 \n",
      "4 X 3 \n",
      "4 X 4 \n"
     ]
    }
   ],
   "source": [
    "# Write your code here\n",
    "number = int(input(\"Enter a number: \"))\n",
    "for i in range(1,number):\n",
    "    for j in range(1,number):\n",
    "        print(f'{i} X {j} ')"
   ]
  },
  {
   "cell_type": "markdown",
   "metadata": {},
   "source": [
    "<b>Example :</b> Consider the previous example. How you can eliminate repeated multiplication forexample 1x3 vs. 3x1 (<b>tip:</b> you just need to show one of the repeated multiplications)"
   ]
  },
  {
   "cell_type": "code",
   "execution_count": 33,
   "metadata": {},
   "outputs": [
    {
     "name": "stdout",
     "output_type": "stream",
     "text": [
      "Enter a number: 5\n",
      "1 X 1 \n",
      "1 X 2 \n",
      "1 X 3 \n",
      "1 X 4 \n",
      "2 X 2 \n",
      "2 X 3 \n",
      "2 X 4 \n",
      "3 X 3 \n",
      "3 X 4 \n",
      "4 X 4 \n"
     ]
    }
   ],
   "source": [
    "# Write your code here\n",
    "#use \n",
    "number = int(input(\"Enter a number: \"))\n",
    "for i in range(1,number):\n",
    "    for j in range(i,number):\n",
    "        print(f'{i} X {j} ')"
   ]
  },
  {
   "cell_type": "markdown",
   "metadata": {},
   "source": [
    "<b> Example : </b>Write a program that asks the user for the number of students and the number of test scores per student, then get the average of each student’s test scores. "
   ]
  },
  {
   "cell_type": "code",
   "execution_count": null,
   "metadata": {},
   "outputs": [],
   "source": [
    "# Write your code here\n",
    "student = int(input(\"Enter number of students\"))"
   ]
  },
  {
   "cell_type": "markdown",
   "metadata": {},
   "source": [
    "<b>Example:</b> Write a program to have the following output:"
   ]
  },
  {
   "cell_type": "code",
   "execution_count": null,
   "metadata": {},
   "outputs": [],
   "source": [
    "1\n",
    "12\n",
    "123\n",
    "1234\n",
    "12345\n",
    "123456"
   ]
  },
  {
   "cell_type": "code",
   "execution_count": 60,
   "metadata": {},
   "outputs": [
    {
     "name": "stdout",
     "output_type": "stream",
     "text": [
      "1\n",
      "12\n",
      "123\n",
      "1234\n",
      "12345\n",
      "123456\n",
      "\n",
      "1\n",
      "12\n",
      "123\n",
      "1234\n",
      "12345\n",
      "123456\n"
     ]
    }
   ],
   "source": [
    "# Write your code here\n",
    "# number = int(input(\"Enter :\"))\n",
    "number = 7\n",
    "for i in range(1,number):\n",
    "    for j in range(1,number+1):\n",
    "        if(j<=i):\n",
    "            print(j,end='')\n",
    "    print()\n",
    "\n",
    "for i in range(number):\n",
    "    for j in range(1,i+1):\n",
    "        print(j,end='')\n",
    "    print()"
   ]
  }
 ],
 "metadata": {
  "kernelspec": {
   "display_name": "Python 3 (ipykernel)",
   "language": "python",
   "name": "python3"
  },
  "language_info": {
   "codemirror_mode": {
    "name": "ipython",
    "version": 3
   },
   "file_extension": ".py",
   "mimetype": "text/x-python",
   "name": "python",
   "nbconvert_exporter": "python",
   "pygments_lexer": "ipython3",
   "version": "3.11.3"
  }
 },
 "nbformat": 4,
 "nbformat_minor": 4
}
