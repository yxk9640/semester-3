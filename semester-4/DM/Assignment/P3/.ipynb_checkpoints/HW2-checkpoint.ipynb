{
 "cells": [
  {
   "cell_type": "code",
   "execution_count": 2,
   "metadata": {},
   "outputs": [],
   "source": [
    "import numpy as np\n",
    "import pandas as pd"
   ]
  },
  {
   "cell_type": "code",
   "execution_count": 3,
   "metadata": {},
   "outputs": [
    {
     "data": {
      "text/plain": [
       "array([[ 2, 10],\n",
       "       [ 2,  5],\n",
       "       [ 8,  4],\n",
       "       [ 5,  8],\n",
       "       [ 7,  5],\n",
       "       [ 6,  4],\n",
       "       [ 1,  2],\n",
       "       [ 4,  9]])"
      ]
     },
     "execution_count": 3,
     "metadata": {},
     "output_type": "execute_result"
    }
   ],
   "source": [
    "df = np.array([[2, 10],[2, 5], [8, 4],[5, 8],[7, 5],[6, 4],[1, 2],[4, 9]])\n",
    "df"
   ]
  },
  {
   "cell_type": "code",
   "execution_count": null,
   "metadata": {},
   "outputs": [],
   "source": [
    "import random\n",
    "initial_cluster ={}\n",
    "for k in range(3,4):    \n",
    "    for i in range(k):\n",
    "        initial_point = df[np.random.choice(df.shape[0],replace=False)]\n",
    "        initial_cluster[i] = [(initial_point[0],initial_point[1])]\n",
    "    print(initial_cluster)\n",
    "d_cluster = {0:[(2,10)],1:[(5,8)],2:[(1,2)]}"
   ]
  },
  {
   "cell_type": "code",
   "execution_count": null,
   "metadata": {},
   "outputs": [],
   "source": [
    "print(initial_cluster[0])\n",
    "print(d_cluster[0])\n"
   ]
  },
  {
   "cell_type": "code",
   "execution_count": 4,
   "metadata": {},
   "outputs": [],
   "source": [
    "def sse_calc(clusters, centroids):\n",
    "    dist = []\n",
    "    total_dist = 0\n",
    "    for i in range(len(centroids)):\n",
    "        for c in clusters[i]:\n",
    "            x = c[0]\n",
    "            y = c[1]\n",
    "\t\t\t# count+=1\n",
    "            dist.append(abs(centroids[i][0][0]- x)+abs(centroids[i][0][1]- y))\n",
    "    total_dist = np.sum(dist)\n",
    "    return total_dist\n"
   ]
  },
  {
   "cell_type": "code",
   "execution_count": 7,
   "metadata": {},
   "outputs": [
    {
     "name": "stdout",
     "output_type": "stream",
     "text": [
      "Final SSE: 13.478888888886141\n"
     ]
    }
   ],
   "source": [
    "k=3\n",
    "clusters = {0:[(2,10)],1:[(5,8)],2:[(1,2)]}\n",
    "dist = []\n",
    "SSE = []\n",
    "\n",
    "# for k in range(2,10):\n",
    "for itr in range(20):    \n",
    "    for point in df:\n",
    "        for clus in clusters:\n",
    "            # print(point, clusters[clus])\n",
    "            dist.append(abs(point[0]- clusters[clus][0][0])+abs(point[1]- clusters[clus][0][1]))\n",
    "        new_point = min(dist)\n",
    "        if (point[0],point[1]) not in clusters[dist.index(new_point)]:\n",
    "            clusters[dist.index(new_point)].append((point[0],point[1]))\n",
    "        dist.clear()\t\n",
    "    # print(clusters)\n",
    "    centroid = {}\n",
    "    for i in range(k):\n",
    "        centroid[i]=[]\n",
    "    for i in range(k):\n",
    "        x=[]\n",
    "        y=[]\n",
    "        for c in clusters[i]:\n",
    "            x.append(c[0])\n",
    "            y.append(c[1])\n",
    "            # count+=1\n",
    "        centroid[i].append((np.average(x),np.average(y)))\n",
    "    temp_clusters = clusters\n",
    "    # print('Clusters: ',clusters)\n",
    "    # print('Centroid: ',centroid)\n",
    "    # print('SSE : ', sse_calc(clusters,centroid))\n",
    "    SSE.append(sse_calc(clusters,centroid))\n",
    "    clusters.clear()\n",
    "    for i in range(k):\n",
    "        clusters[i] = centroid[i]\n",
    "print('Final SSE:', np.average(SSE))"
   ]
  },
  {
   "cell_type": "code",
   "execution_count": null,
   "metadata": {},
   "outputs": [],
   "source": []
  },
  {
   "cell_type": "code",
   "execution_count": null,
   "metadata": {},
   "outputs": [],
   "source": []
  },
  {
   "cell_type": "code",
   "execution_count": 30,
   "metadata": {},
   "outputs": [
    {
     "name": "stdout",
     "output_type": "stream",
     "text": [
      "Final SSE: 28.5031\n",
      "Final SSE: 20.5849\n",
      "Final SSE: 16.8829\n",
      "Final SSE: 14.7108\n",
      "Final SSE: 13.3353\n"
     ]
    }
   ],
   "source": [
    "import random\n",
    "\n",
    "# k=5\n",
    "# clusters = {0:[(2,10)],1:[(5,8)],2:[(1,2)]}\n",
    "clusters = {}\n",
    "dist = []\n",
    "SSE = []\n",
    "\n",
    "\n",
    "for k in range(2,7):    \n",
    "    for i in range(k):\n",
    "        initial_point = df[np.random.choice(df.shape[0],replace=False)]\n",
    "        clusters[i] = [(initial_point[0],initial_point[1])]\n",
    "#     print(initial_cluster)\n",
    "    for itr in range(20):    \n",
    "        for point in df:\n",
    "            for clus in clusters:\n",
    "                # print(point, clusters[clus])\n",
    "                dist.append(abs(point[0]- clusters[clus][0][0])+abs(point[1]- clusters[clus][0][1]))\n",
    "            new_point = min(dist)\n",
    "            if (point[0],point[1]) not in clusters[dist.index(new_point)]:\n",
    "                clusters[dist.index(new_point)].append((point[0],point[1]))\n",
    "            dist.clear()\n",
    "        # print(clusters)\n",
    "        centroid = {}\n",
    "        for i in range(k):\n",
    "            centroid[i]=[]\n",
    "        for i in range(k):\n",
    "            x=[]\n",
    "            y=[]\n",
    "            for c in clusters[i]:\n",
    "                x.append(c[0])\n",
    "                y.append(c[1])\n",
    "                # count+=1\n",
    "            centroid[i].append((np.average(x),np.average(y)))\n",
    "        temp_clusters = clusters\n",
    "        # print('Clusters: ',clusters)\n",
    "        # print('Centroid: ',centroid)\n",
    "        # print('SSE : ', sse_calc(clusters,centroid))\n",
    "        SSE.append(sse_calc(clusters,centroid))\n",
    "        clusters.clear()\n",
    "        for i in range(k):\n",
    "            clusters[i] = centroid[i]\n",
    "    print(f'Final SSE: %.4f'%(np.average(SSE)))"
   ]
  }
 ],
 "metadata": {
  "kernelspec": {
   "display_name": "Python 3 (ipykernel)",
   "language": "python",
   "name": "python3"
  },
  "language_info": {
   "codemirror_mode": {
    "name": "ipython",
    "version": 3
   },
   "file_extension": ".py",
   "mimetype": "text/x-python",
   "name": "python",
   "nbconvert_exporter": "python",
   "pygments_lexer": "ipython3",
   "version": "3.11.2"
  }
 },
 "nbformat": 4,
 "nbformat_minor": 2
}
